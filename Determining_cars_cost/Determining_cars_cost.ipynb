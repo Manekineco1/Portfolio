{
  "cells": [
    {
      "cell_type": "markdown",
      "metadata": {
        "id": "WfjRAJR6vAZ1"
      },
      "source": [
        "# Определение стоимости автомобилей"
      ]
    },
    {
      "cell_type": "markdown",
      "metadata": {
        "id": "_OPO_ooIvAZ2"
      },
      "source": [
        "Сервис по продаже автомобилей с пробегом «Не бит, не крашен» разрабатывает приложение для привлечения новых клиентов. В нём можно быстро узнать рыночную стоимость своего автомобиля. В вашем распоряжении исторические данные: технические характеристики, комплектации и цены автомобилей. Вам нужно построить модель для определения стоимости.\n",
        "\n",
        "Заказчику важны:\n",
        "\n",
        "- качество предсказания;\n",
        "- скорость предсказания;\n",
        "- время обучения."
      ]
    },
    {
      "cell_type": "markdown",
      "metadata": {
        "id": "f8hqYPcevAZ2"
      },
      "source": [
        "## Подготовка данных"
      ]
    },
    {
      "cell_type": "code",
      "execution_count": null,
      "metadata": {
        "scrolled": true,
        "id": "WiNMdlMBvAZ2",
        "outputId": "24cdb75f-afe7-4c40-b68f-f11985bbb243"
      },
      "outputs": [
        {
          "name": "stdout",
          "output_type": "stream",
          "text": [
            "Requirement already satisfied: catboost in c:\\users\\goshe\\anaconda3\\lib\\site-packages (1.1.1)\n",
            "Requirement already satisfied: numpy>=1.16.0 in c:\\users\\goshe\\anaconda3\\lib\\site-packages (from catboost) (1.21.5)\n",
            "Requirement already satisfied: scipy in c:\\users\\goshe\\anaconda3\\lib\\site-packages (from catboost) (1.9.1)\n",
            "Requirement already satisfied: six in c:\\users\\goshe\\anaconda3\\lib\\site-packages (from catboost) (1.16.0)\n",
            "Requirement already satisfied: plotly in c:\\users\\goshe\\anaconda3\\lib\\site-packages (from catboost) (5.9.0)\n",
            "Requirement already satisfied: pandas>=0.24.0 in c:\\users\\goshe\\anaconda3\\lib\\site-packages (from catboost) (1.4.4)\n",
            "Requirement already satisfied: matplotlib in c:\\users\\goshe\\anaconda3\\lib\\site-packages (from catboost) (3.5.2)\n",
            "Requirement already satisfied: graphviz in c:\\users\\goshe\\anaconda3\\lib\\site-packages (from catboost) (0.20.1)\n",
            "Requirement already satisfied: pytz>=2020.1 in c:\\users\\goshe\\anaconda3\\lib\\site-packages (from pandas>=0.24.0->catboost) (2022.1)\n",
            "Requirement already satisfied: python-dateutil>=2.8.1 in c:\\users\\goshe\\anaconda3\\lib\\site-packages (from pandas>=0.24.0->catboost) (2.8.2)\n",
            "Requirement already satisfied: kiwisolver>=1.0.1 in c:\\users\\goshe\\anaconda3\\lib\\site-packages (from matplotlib->catboost) (1.4.2)\n",
            "Requirement already satisfied: pyparsing>=2.2.1 in c:\\users\\goshe\\anaconda3\\lib\\site-packages (from matplotlib->catboost) (3.0.9)\n",
            "Requirement already satisfied: cycler>=0.10 in c:\\users\\goshe\\anaconda3\\lib\\site-packages (from matplotlib->catboost) (0.11.0)\n",
            "Requirement already satisfied: pillow>=6.2.0 in c:\\users\\goshe\\anaconda3\\lib\\site-packages (from matplotlib->catboost) (9.2.0)\n",
            "Requirement already satisfied: fonttools>=4.22.0 in c:\\users\\goshe\\anaconda3\\lib\\site-packages (from matplotlib->catboost) (4.25.0)\n",
            "Requirement already satisfied: packaging>=20.0 in c:\\users\\goshe\\anaconda3\\lib\\site-packages (from matplotlib->catboost) (21.3)\n",
            "Requirement already satisfied: tenacity>=6.2.0 in c:\\users\\goshe\\anaconda3\\lib\\site-packages (from plotly->catboost) (8.0.1)\n"
          ]
        }
      ],
      "source": [
        "!pip install catboost\n",
        "import catboost as cb\n",
        "from catboost import CatBoostRegressor"
      ]
    },
    {
      "cell_type": "code",
      "execution_count": null,
      "metadata": {
        "id": "5H-Pd1F1vAZ4",
        "outputId": "def77d8e-3c58-4608-e9e6-a796023d653a"
      },
      "outputs": [
        {
          "name": "stdout",
          "output_type": "stream",
          "text": [
            "Collecting package metadata (current_repodata.json): ...working... done\n",
            "Solving environment: ...working... done\n",
            "\n",
            "# All requested packages already installed.\n",
            "\n",
            "\n",
            "Note: you may need to restart the kernel to use updated packages.\n"
          ]
        }
      ],
      "source": [
        "conda install lightgbm"
      ]
    },
    {
      "cell_type": "markdown",
      "source": [
        "Импортируем все неаобходимые библиотеки"
      ],
      "metadata": {
        "id": "RKQixUAavEXy"
      }
    },
    {
      "cell_type": "code",
      "execution_count": null,
      "metadata": {
        "id": "J44TB4NQvAZ4"
      },
      "outputs": [],
      "source": [
        "import pandas as pd\n",
        "import numpy as np\n",
        "\n",
        "import matplotlib.pyplot as plt\n",
        "import seaborn as sns\n",
        "import warnings\n",
        "from sklearn.model_selection import train_test_split, GridSearchCV\n",
        "\n",
        "from sklearn.preprocessing import (\n",
        "    OneHotEncoder,\n",
        "    OrdinalEncoder,\n",
        "    StandardScaler)\n",
        "\n",
        "from catboost import CatBoostRegressor, Pool\n",
        "import lightgbm as lgb\n",
        "from lightgbm import LGBMRegressor\n",
        "from sklearn.linear_model import LinearRegression\n",
        "from sklearn.metrics import accuracy_score, mean_squared_error\n",
        "from sklearn.linear_model import Ridge\n",
        "from sklearn.model_selection import GridSearchCV\n",
        "from sklearn.pipeline import Pipeline\n",
        "from IPython.display import display\n",
        "\n",
        "warnings.filterwarnings('ignore')"
      ]
    },
    {
      "cell_type": "markdown",
      "source": [
        "Откроем датасет"
      ],
      "metadata": {
        "id": "hnJ5fsNKvKTh"
      }
    },
    {
      "cell_type": "code",
      "execution_count": null,
      "metadata": {
        "id": "S2JLsRmvvAZ5"
      },
      "outputs": [],
      "source": [
        "try:\n",
        "    data = pd.read_csv('/datasets/autos.csv')\n",
        "except:\n",
        "    data = pd.read_csv('C:/Users/goshe/OneDrive/Рабочий стол/Yandex_Praktikum/projects/Datasets/autos.csv')"
      ]
    },
    {
      "cell_type": "markdown",
      "source": [
        "Изучим датасет"
      ],
      "metadata": {
        "id": "Jpahktq6vPQT"
      }
    },
    {
      "cell_type": "code",
      "execution_count": null,
      "metadata": {
        "id": "GGBNr-uavAZ5",
        "outputId": "7f623b91-4979-48a7-d210-89d12f8e18a1"
      },
      "outputs": [
        {
          "data": {
            "text/html": [
              "<div>\n",
              "<style scoped>\n",
              "    .dataframe tbody tr th:only-of-type {\n",
              "        vertical-align: middle;\n",
              "    }\n",
              "\n",
              "    .dataframe tbody tr th {\n",
              "        vertical-align: top;\n",
              "    }\n",
              "\n",
              "    .dataframe thead th {\n",
              "        text-align: right;\n",
              "    }\n",
              "</style>\n",
              "<table border=\"1\" class=\"dataframe\">\n",
              "  <thead>\n",
              "    <tr style=\"text-align: right;\">\n",
              "      <th></th>\n",
              "      <th>DateCrawled</th>\n",
              "      <th>Price</th>\n",
              "      <th>VehicleType</th>\n",
              "      <th>RegistrationYear</th>\n",
              "      <th>Gearbox</th>\n",
              "      <th>Power</th>\n",
              "      <th>Model</th>\n",
              "      <th>Kilometer</th>\n",
              "      <th>RegistrationMonth</th>\n",
              "      <th>FuelType</th>\n",
              "      <th>Brand</th>\n",
              "      <th>Repaired</th>\n",
              "      <th>DateCreated</th>\n",
              "      <th>NumberOfPictures</th>\n",
              "      <th>PostalCode</th>\n",
              "      <th>LastSeen</th>\n",
              "    </tr>\n",
              "  </thead>\n",
              "  <tbody>\n",
              "    <tr>\n",
              "      <th>0</th>\n",
              "      <td>2016-03-24 11:52:17</td>\n",
              "      <td>480</td>\n",
              "      <td>NaN</td>\n",
              "      <td>1993</td>\n",
              "      <td>manual</td>\n",
              "      <td>0</td>\n",
              "      <td>golf</td>\n",
              "      <td>150000</td>\n",
              "      <td>0</td>\n",
              "      <td>petrol</td>\n",
              "      <td>volkswagen</td>\n",
              "      <td>NaN</td>\n",
              "      <td>2016-03-24 00:00:00</td>\n",
              "      <td>0</td>\n",
              "      <td>70435</td>\n",
              "      <td>2016-04-07 03:16:57</td>\n",
              "    </tr>\n",
              "    <tr>\n",
              "      <th>1</th>\n",
              "      <td>2016-03-24 10:58:45</td>\n",
              "      <td>18300</td>\n",
              "      <td>coupe</td>\n",
              "      <td>2011</td>\n",
              "      <td>manual</td>\n",
              "      <td>190</td>\n",
              "      <td>NaN</td>\n",
              "      <td>125000</td>\n",
              "      <td>5</td>\n",
              "      <td>gasoline</td>\n",
              "      <td>audi</td>\n",
              "      <td>yes</td>\n",
              "      <td>2016-03-24 00:00:00</td>\n",
              "      <td>0</td>\n",
              "      <td>66954</td>\n",
              "      <td>2016-04-07 01:46:50</td>\n",
              "    </tr>\n",
              "    <tr>\n",
              "      <th>2</th>\n",
              "      <td>2016-03-14 12:52:21</td>\n",
              "      <td>9800</td>\n",
              "      <td>suv</td>\n",
              "      <td>2004</td>\n",
              "      <td>auto</td>\n",
              "      <td>163</td>\n",
              "      <td>grand</td>\n",
              "      <td>125000</td>\n",
              "      <td>8</td>\n",
              "      <td>gasoline</td>\n",
              "      <td>jeep</td>\n",
              "      <td>NaN</td>\n",
              "      <td>2016-03-14 00:00:00</td>\n",
              "      <td>0</td>\n",
              "      <td>90480</td>\n",
              "      <td>2016-04-05 12:47:46</td>\n",
              "    </tr>\n",
              "    <tr>\n",
              "      <th>3</th>\n",
              "      <td>2016-03-17 16:54:04</td>\n",
              "      <td>1500</td>\n",
              "      <td>small</td>\n",
              "      <td>2001</td>\n",
              "      <td>manual</td>\n",
              "      <td>75</td>\n",
              "      <td>golf</td>\n",
              "      <td>150000</td>\n",
              "      <td>6</td>\n",
              "      <td>petrol</td>\n",
              "      <td>volkswagen</td>\n",
              "      <td>no</td>\n",
              "      <td>2016-03-17 00:00:00</td>\n",
              "      <td>0</td>\n",
              "      <td>91074</td>\n",
              "      <td>2016-03-17 17:40:17</td>\n",
              "    </tr>\n",
              "    <tr>\n",
              "      <th>4</th>\n",
              "      <td>2016-03-31 17:25:20</td>\n",
              "      <td>3600</td>\n",
              "      <td>small</td>\n",
              "      <td>2008</td>\n",
              "      <td>manual</td>\n",
              "      <td>69</td>\n",
              "      <td>fabia</td>\n",
              "      <td>90000</td>\n",
              "      <td>7</td>\n",
              "      <td>gasoline</td>\n",
              "      <td>skoda</td>\n",
              "      <td>no</td>\n",
              "      <td>2016-03-31 00:00:00</td>\n",
              "      <td>0</td>\n",
              "      <td>60437</td>\n",
              "      <td>2016-04-06 10:17:21</td>\n",
              "    </tr>\n",
              "  </tbody>\n",
              "</table>\n",
              "</div>"
            ],
            "text/plain": [
              "           DateCrawled  Price VehicleType  RegistrationYear Gearbox  Power  \\\n",
              "0  2016-03-24 11:52:17    480         NaN              1993  manual      0   \n",
              "1  2016-03-24 10:58:45  18300       coupe              2011  manual    190   \n",
              "2  2016-03-14 12:52:21   9800         suv              2004    auto    163   \n",
              "3  2016-03-17 16:54:04   1500       small              2001  manual     75   \n",
              "4  2016-03-31 17:25:20   3600       small              2008  manual     69   \n",
              "\n",
              "   Model  Kilometer  RegistrationMonth  FuelType       Brand Repaired  \\\n",
              "0   golf     150000                  0    petrol  volkswagen      NaN   \n",
              "1    NaN     125000                  5  gasoline        audi      yes   \n",
              "2  grand     125000                  8  gasoline        jeep      NaN   \n",
              "3   golf     150000                  6    petrol  volkswagen       no   \n",
              "4  fabia      90000                  7  gasoline       skoda       no   \n",
              "\n",
              "           DateCreated  NumberOfPictures  PostalCode             LastSeen  \n",
              "0  2016-03-24 00:00:00                 0       70435  2016-04-07 03:16:57  \n",
              "1  2016-03-24 00:00:00                 0       66954  2016-04-07 01:46:50  \n",
              "2  2016-03-14 00:00:00                 0       90480  2016-04-05 12:47:46  \n",
              "3  2016-03-17 00:00:00                 0       91074  2016-03-17 17:40:17  \n",
              "4  2016-03-31 00:00:00                 0       60437  2016-04-06 10:17:21  "
            ]
          },
          "execution_count": 5,
          "metadata": {},
          "output_type": "execute_result"
        }
      ],
      "source": [
        "data.head()"
      ]
    },
    {
      "cell_type": "code",
      "execution_count": null,
      "metadata": {
        "id": "UkX-08U-vAZ5",
        "outputId": "482fcebc-a70f-4dc8-8a84-0972108e2467"
      },
      "outputs": [
        {
          "name": "stdout",
          "output_type": "stream",
          "text": [
            "<class 'pandas.core.frame.DataFrame'>\n",
            "RangeIndex: 354369 entries, 0 to 354368\n",
            "Data columns (total 16 columns):\n",
            " #   Column             Non-Null Count   Dtype \n",
            "---  ------             --------------   ----- \n",
            " 0   DateCrawled        354369 non-null  object\n",
            " 1   Price              354369 non-null  int64 \n",
            " 2   VehicleType        316879 non-null  object\n",
            " 3   RegistrationYear   354369 non-null  int64 \n",
            " 4   Gearbox            334536 non-null  object\n",
            " 5   Power              354369 non-null  int64 \n",
            " 6   Model              334664 non-null  object\n",
            " 7   Kilometer          354369 non-null  int64 \n",
            " 8   RegistrationMonth  354369 non-null  int64 \n",
            " 9   FuelType           321474 non-null  object\n",
            " 10  Brand              354369 non-null  object\n",
            " 11  Repaired           283215 non-null  object\n",
            " 12  DateCreated        354369 non-null  object\n",
            " 13  NumberOfPictures   354369 non-null  int64 \n",
            " 14  PostalCode         354369 non-null  int64 \n",
            " 15  LastSeen           354369 non-null  object\n",
            "dtypes: int64(7), object(9)\n",
            "memory usage: 43.3+ MB\n"
          ]
        }
      ],
      "source": [
        "data.info()"
      ]
    },
    {
      "cell_type": "markdown",
      "metadata": {
        "id": "BltHUIuvvAZ6"
      },
      "source": [
        "Есть пропуски в колонках VehicleType, Gearbox, Model, FuelType, Repaired."
      ]
    },
    {
      "cell_type": "markdown",
      "metadata": {
        "id": "QocBReibvAZ6"
      },
      "source": [
        "Заполним пропуски в VehicleType, Gearbox, FuelType модой по модели машины, в Repaired проставим \"no\", предположив, что пропуск означает, что машина не ремонтировалась. Пропуски в Modelтзаполню значением \"no\", т.к. неоткуда взять данные."
      ]
    },
    {
      "cell_type": "code",
      "execution_count": null,
      "metadata": {
        "id": "C99ebrBvvAZ6"
      },
      "outputs": [],
      "source": [
        "data[\"Model\"] = data[\"Model\"].fillna(\"no\")\n",
        "data[\"Repaired\"] = data[\"Repaired\"].fillna(\"no\")"
      ]
    },
    {
      "cell_type": "code",
      "execution_count": null,
      "metadata": {
        "id": "j1qfokDqvAZ7"
      },
      "outputs": [],
      "source": [
        "data['VehicleType'] = data.groupby(['Model'])['VehicleType'].transform(lambda x: x.fillna((x.mode()[0] if x.count()!=0 else \"unknown\")))"
      ]
    },
    {
      "cell_type": "code",
      "execution_count": null,
      "metadata": {
        "id": "TPjRZ5g7vAZ7"
      },
      "outputs": [],
      "source": [
        "data['Gearbox'] = data.groupby(['Model'])['Gearbox']\\\n",
        "    .transform(lambda x: x.fillna((x.mode()[0] if x.count()!=0 else \"unknown\")))"
      ]
    },
    {
      "cell_type": "code",
      "execution_count": null,
      "metadata": {
        "id": "ajANH95tvAZ7"
      },
      "outputs": [],
      "source": [
        "data['FuelType'] = data.groupby(['Model'])['FuelType']\\\n",
        "    .transform(lambda x: x.fillna((x.mode()[0] if x.count()!=0 else \"unknown\")))"
      ]
    },
    {
      "cell_type": "code",
      "execution_count": null,
      "metadata": {
        "id": "YRqytuOhvAZ8",
        "outputId": "81527a98-e903-45d1-f4ec-91fe01410e1a"
      },
      "outputs": [
        {
          "name": "stdout",
          "output_type": "stream",
          "text": [
            "<class 'pandas.core.frame.DataFrame'>\n",
            "RangeIndex: 354369 entries, 0 to 354368\n",
            "Data columns (total 16 columns):\n",
            " #   Column             Non-Null Count   Dtype \n",
            "---  ------             --------------   ----- \n",
            " 0   DateCrawled        354369 non-null  object\n",
            " 1   Price              354369 non-null  int64 \n",
            " 2   VehicleType        354369 non-null  object\n",
            " 3   RegistrationYear   354369 non-null  int64 \n",
            " 4   Gearbox            354369 non-null  object\n",
            " 5   Power              354369 non-null  int64 \n",
            " 6   Model              354369 non-null  object\n",
            " 7   Kilometer          354369 non-null  int64 \n",
            " 8   RegistrationMonth  354369 non-null  int64 \n",
            " 9   FuelType           354369 non-null  object\n",
            " 10  Brand              354369 non-null  object\n",
            " 11  Repaired           354369 non-null  object\n",
            " 12  DateCreated        354369 non-null  object\n",
            " 13  NumberOfPictures   354369 non-null  int64 \n",
            " 14  PostalCode         354369 non-null  int64 \n",
            " 15  LastSeen           354369 non-null  object\n",
            "dtypes: int64(7), object(9)\n",
            "memory usage: 43.3+ MB\n"
          ]
        }
      ],
      "source": [
        "data.info()"
      ]
    },
    {
      "cell_type": "markdown",
      "metadata": {
        "id": "a-kbr_UKvAZ8"
      },
      "source": [
        "Пропусков больше нет."
      ]
    },
    {
      "cell_type": "code",
      "execution_count": null,
      "metadata": {
        "id": "7FUqprXUvAZ8",
        "outputId": "6a2f920b-c7a7-49cc-cebe-c1273d7a1f9f"
      },
      "outputs": [
        {
          "data": {
            "text/html": [
              "<div>\n",
              "<style scoped>\n",
              "    .dataframe tbody tr th:only-of-type {\n",
              "        vertical-align: middle;\n",
              "    }\n",
              "\n",
              "    .dataframe tbody tr th {\n",
              "        vertical-align: top;\n",
              "    }\n",
              "\n",
              "    .dataframe thead th {\n",
              "        text-align: right;\n",
              "    }\n",
              "</style>\n",
              "<table border=\"1\" class=\"dataframe\">\n",
              "  <thead>\n",
              "    <tr style=\"text-align: right;\">\n",
              "      <th></th>\n",
              "      <th>Price</th>\n",
              "      <th>RegistrationYear</th>\n",
              "      <th>Power</th>\n",
              "      <th>Kilometer</th>\n",
              "      <th>RegistrationMonth</th>\n",
              "      <th>NumberOfPictures</th>\n",
              "      <th>PostalCode</th>\n",
              "    </tr>\n",
              "  </thead>\n",
              "  <tbody>\n",
              "    <tr>\n",
              "      <th>count</th>\n",
              "      <td>354369.000000</td>\n",
              "      <td>354369.000000</td>\n",
              "      <td>354369.000000</td>\n",
              "      <td>354369.000000</td>\n",
              "      <td>354369.000000</td>\n",
              "      <td>354369.0</td>\n",
              "      <td>354369.000000</td>\n",
              "    </tr>\n",
              "    <tr>\n",
              "      <th>mean</th>\n",
              "      <td>4416.656776</td>\n",
              "      <td>2004.234448</td>\n",
              "      <td>110.094337</td>\n",
              "      <td>128211.172535</td>\n",
              "      <td>5.714645</td>\n",
              "      <td>0.0</td>\n",
              "      <td>50508.689087</td>\n",
              "    </tr>\n",
              "    <tr>\n",
              "      <th>std</th>\n",
              "      <td>4514.158514</td>\n",
              "      <td>90.227958</td>\n",
              "      <td>189.850405</td>\n",
              "      <td>37905.341530</td>\n",
              "      <td>3.726421</td>\n",
              "      <td>0.0</td>\n",
              "      <td>25783.096248</td>\n",
              "    </tr>\n",
              "    <tr>\n",
              "      <th>min</th>\n",
              "      <td>0.000000</td>\n",
              "      <td>1000.000000</td>\n",
              "      <td>0.000000</td>\n",
              "      <td>5000.000000</td>\n",
              "      <td>0.000000</td>\n",
              "      <td>0.0</td>\n",
              "      <td>1067.000000</td>\n",
              "    </tr>\n",
              "    <tr>\n",
              "      <th>25%</th>\n",
              "      <td>1050.000000</td>\n",
              "      <td>1999.000000</td>\n",
              "      <td>69.000000</td>\n",
              "      <td>125000.000000</td>\n",
              "      <td>3.000000</td>\n",
              "      <td>0.0</td>\n",
              "      <td>30165.000000</td>\n",
              "    </tr>\n",
              "    <tr>\n",
              "      <th>50%</th>\n",
              "      <td>2700.000000</td>\n",
              "      <td>2003.000000</td>\n",
              "      <td>105.000000</td>\n",
              "      <td>150000.000000</td>\n",
              "      <td>6.000000</td>\n",
              "      <td>0.0</td>\n",
              "      <td>49413.000000</td>\n",
              "    </tr>\n",
              "    <tr>\n",
              "      <th>75%</th>\n",
              "      <td>6400.000000</td>\n",
              "      <td>2008.000000</td>\n",
              "      <td>143.000000</td>\n",
              "      <td>150000.000000</td>\n",
              "      <td>9.000000</td>\n",
              "      <td>0.0</td>\n",
              "      <td>71083.000000</td>\n",
              "    </tr>\n",
              "    <tr>\n",
              "      <th>max</th>\n",
              "      <td>20000.000000</td>\n",
              "      <td>9999.000000</td>\n",
              "      <td>20000.000000</td>\n",
              "      <td>150000.000000</td>\n",
              "      <td>12.000000</td>\n",
              "      <td>0.0</td>\n",
              "      <td>99998.000000</td>\n",
              "    </tr>\n",
              "  </tbody>\n",
              "</table>\n",
              "</div>"
            ],
            "text/plain": [
              "               Price  RegistrationYear          Power      Kilometer  \\\n",
              "count  354369.000000     354369.000000  354369.000000  354369.000000   \n",
              "mean     4416.656776       2004.234448     110.094337  128211.172535   \n",
              "std      4514.158514         90.227958     189.850405   37905.341530   \n",
              "min         0.000000       1000.000000       0.000000    5000.000000   \n",
              "25%      1050.000000       1999.000000      69.000000  125000.000000   \n",
              "50%      2700.000000       2003.000000     105.000000  150000.000000   \n",
              "75%      6400.000000       2008.000000     143.000000  150000.000000   \n",
              "max     20000.000000       9999.000000   20000.000000  150000.000000   \n",
              "\n",
              "       RegistrationMonth  NumberOfPictures     PostalCode  \n",
              "count      354369.000000          354369.0  354369.000000  \n",
              "mean            5.714645               0.0   50508.689087  \n",
              "std             3.726421               0.0   25783.096248  \n",
              "min             0.000000               0.0    1067.000000  \n",
              "25%             3.000000               0.0   30165.000000  \n",
              "50%             6.000000               0.0   49413.000000  \n",
              "75%             9.000000               0.0   71083.000000  \n",
              "max            12.000000               0.0   99998.000000  "
            ]
          },
          "execution_count": 12,
          "metadata": {},
          "output_type": "execute_result"
        }
      ],
      "source": [
        "data.describe()"
      ]
    },
    {
      "cell_type": "markdown",
      "source": [
        "Проведем проверку на дубликаты среди категорийных признаков"
      ],
      "metadata": {
        "id": "d1eRa52KvYPw"
      }
    },
    {
      "cell_type": "code",
      "execution_count": null,
      "metadata": {
        "scrolled": true,
        "id": "Q-wjljHavAZ8",
        "outputId": "b67f7940-6df0-447a-f5a9-65f3781fa25b"
      },
      "outputs": [
        {
          "name": "stdout",
          "output_type": "stream",
          "text": [
            "VehicleType 0\n",
            "Gearbox 0\n",
            "Model 0\n",
            "FuelType 0\n",
            "Brand 0\n",
            "Repaired 0\n"
          ]
        }
      ],
      "source": [
        "objects_columns = [\"VehicleType\",\"Gearbox\",\"Model\",\"FuelType\",\"Brand\",\"Repaired\"]\n",
        "for column in objects_columns:\n",
        "    print(column, pd.Series(data[column].unique()).str.lower().duplicated().sum())"
      ]
    },
    {
      "cell_type": "markdown",
      "metadata": {
        "id": "1yf7FXd6vAZ9"
      },
      "source": [
        "Дубликатов не обнаружено"
      ]
    },
    {
      "cell_type": "markdown",
      "source": [
        " Проверим на дубликаты"
      ],
      "metadata": {
        "id": "GQjJ6R2Rvd9D"
      }
    },
    {
      "cell_type": "code",
      "execution_count": null,
      "metadata": {
        "id": "9FgqVqLLvAZ9",
        "outputId": "64f38970-8c32-4588-e9a7-b00594bc6eb1"
      },
      "outputs": [
        {
          "data": {
            "text/plain": [
              "5"
            ]
          },
          "execution_count": 14,
          "metadata": {},
          "output_type": "execute_result"
        }
      ],
      "source": [
        "data.duplicated().sum()"
      ]
    },
    {
      "cell_type": "markdown",
      "source": [
        "Удалим дубликаты"
      ],
      "metadata": {
        "id": "p6dg8ElKx5Ut"
      }
    },
    {
      "cell_type": "code",
      "execution_count": null,
      "metadata": {
        "id": "5G1HSfG4vAZ9",
        "outputId": "877fe390-e408-4f15-d0f0-c8beee8c1467"
      },
      "outputs": [
        {
          "data": {
            "text/plain": [
              "0"
            ]
          },
          "execution_count": 15,
          "metadata": {},
          "output_type": "execute_result"
        }
      ],
      "source": [
        "data = data.drop_duplicates()\n",
        "data.duplicated().sum()"
      ]
    },
    {
      "cell_type": "markdown",
      "metadata": {
        "id": "wNOntY6BvAZ9"
      },
      "source": [
        "Посмотрим на максимальную дату в колонке \"Дата создания\""
      ]
    },
    {
      "cell_type": "code",
      "execution_count": null,
      "metadata": {
        "id": "S5FNzAqIvAZ9",
        "outputId": "c3d9c272-de3a-4b69-a8c3-116b1f68e06d"
      },
      "outputs": [
        {
          "data": {
            "text/plain": [
              "'2016-04-07 00:00:00'"
            ]
          },
          "execution_count": 16,
          "metadata": {},
          "output_type": "execute_result"
        }
      ],
      "source": [
        "data['DateCreated'].max()"
      ]
    },
    {
      "cell_type": "markdown",
      "source": [
        "Удалим столбцы, которые больше не понадобятся"
      ],
      "metadata": {
        "id": "s46BIC6Xx-sd"
      }
    },
    {
      "cell_type": "code",
      "execution_count": null,
      "metadata": {
        "id": "SUsr1YRyvAZ9"
      },
      "outputs": [],
      "source": [
        "data = data.drop([\"DateCrawled\",\"DateCreated\",\"LastSeen\",\"NumberOfPictures\",\"PostalCode\"],axis = 1)"
      ]
    },
    {
      "cell_type": "markdown",
      "metadata": {
        "id": "lEccuWlAvAZ9"
      },
      "source": [
        "Выводы:\n",
        "- В данных присуствуют выбросы:\n",
        "  - Год регистрации. Регистрация автомобилей началась в 1931 году. Соотвественно, нужно будет удалить все значения меньше. Максимальная дата в колонке \"дата регистрации\" приходится на 2016 год, так что нужно удалить все значения после.\n",
        "  - Минимальня мощность автомобиля составляет 13, а максимальная - 1500 лошадиных сил. Значения, выходящие за этот диапазон нужно удалить\n",
        "  - Registration month - присуствуют нули. Заменим их на единицы.\n",
        "  - Признаки DateCrawled\",\"DateCreated\",\"LastSeen\",\"NumberOfPictures\",\"PostalCode не несут полезной информации, их можно удалить.\n",
        "  - у некоторых автомобилей очень низкая цена, отсечем значения менее 50 евро, так как, скорее всего, это ошибки в данных."
      ]
    },
    {
      "cell_type": "markdown",
      "source": [
        "Удаляю автомобили со стоимостью менее 50 евро."
      ],
      "metadata": {
        "id": "S9MZKxtXyFtK"
      }
    },
    {
      "cell_type": "code",
      "execution_count": null,
      "metadata": {
        "id": "DHa9OVU7vAZ9"
      },
      "outputs": [],
      "source": [
        "data = data.loc[data['Price'] >=50 ]"
      ]
    },
    {
      "cell_type": "code",
      "execution_count": null,
      "metadata": {
        "id": "PBaOJGADvAZ9"
      },
      "outputs": [],
      "source": [
        "# RegistrationYear\n",
        "def Balance_RegistrationYear(value):\n",
        "    if value > 2016:\n",
        "        return 2016\n",
        "    elif value < 1930:\n",
        "        return 1930\n",
        "    else:\n",
        "        return value\n",
        "data[\"RegistrationYear\"] = data[\"RegistrationYear\"].apply(Balance_RegistrationYear)\n",
        "# RegistrationMonth\n",
        "data.loc[data['RegistrationMonth'] == 0, 'RegistrationMonth'] = 1\n",
        "# Power\n",
        "data.loc[data['Power'] > 3500, 'Power'] = 3500\n",
        "data.loc[data['Power'] < 13, 'Power'] = 13"
      ]
    },
    {
      "cell_type": "code",
      "execution_count": null,
      "metadata": {
        "id": "NRiP-4H-vAZ-",
        "outputId": "ffa42c3a-5762-4e23-e5ce-8f7232e3062c"
      },
      "outputs": [
        {
          "data": {
            "text/html": [
              "<div>\n",
              "<style scoped>\n",
              "    .dataframe tbody tr th:only-of-type {\n",
              "        vertical-align: middle;\n",
              "    }\n",
              "\n",
              "    .dataframe tbody tr th {\n",
              "        vertical-align: top;\n",
              "    }\n",
              "\n",
              "    .dataframe thead th {\n",
              "        text-align: right;\n",
              "    }\n",
              "</style>\n",
              "<table border=\"1\" class=\"dataframe\">\n",
              "  <thead>\n",
              "    <tr style=\"text-align: right;\">\n",
              "      <th></th>\n",
              "      <th>Price</th>\n",
              "      <th>RegistrationYear</th>\n",
              "      <th>Power</th>\n",
              "      <th>Kilometer</th>\n",
              "      <th>RegistrationMonth</th>\n",
              "    </tr>\n",
              "  </thead>\n",
              "  <tbody>\n",
              "    <tr>\n",
              "      <th>count</th>\n",
              "      <td>341941.000000</td>\n",
              "      <td>341941.000000</td>\n",
              "      <td>341941.000000</td>\n",
              "      <td>341941.000000</td>\n",
              "      <td>341941.000000</td>\n",
              "    </tr>\n",
              "    <tr>\n",
              "      <th>mean</th>\n",
              "      <td>4577.083924</td>\n",
              "      <td>2003.142212</td>\n",
              "      <td>110.889250</td>\n",
              "      <td>128456.210282</td>\n",
              "      <td>5.885258</td>\n",
              "    </tr>\n",
              "    <tr>\n",
              "      <th>std</th>\n",
              "      <td>4514.844713</td>\n",
              "      <td>7.252932</td>\n",
              "      <td>89.327498</td>\n",
              "      <td>37321.044860</td>\n",
              "      <td>3.554349</td>\n",
              "    </tr>\n",
              "    <tr>\n",
              "      <th>min</th>\n",
              "      <td>50.000000</td>\n",
              "      <td>1930.000000</td>\n",
              "      <td>13.000000</td>\n",
              "      <td>5000.000000</td>\n",
              "      <td>1.000000</td>\n",
              "    </tr>\n",
              "    <tr>\n",
              "      <th>25%</th>\n",
              "      <td>1200.000000</td>\n",
              "      <td>1999.000000</td>\n",
              "      <td>69.000000</td>\n",
              "      <td>125000.000000</td>\n",
              "      <td>3.000000</td>\n",
              "    </tr>\n",
              "    <tr>\n",
              "      <th>50%</th>\n",
              "      <td>2900.000000</td>\n",
              "      <td>2003.000000</td>\n",
              "      <td>105.000000</td>\n",
              "      <td>150000.000000</td>\n",
              "      <td>6.000000</td>\n",
              "    </tr>\n",
              "    <tr>\n",
              "      <th>75%</th>\n",
              "      <td>6500.000000</td>\n",
              "      <td>2008.000000</td>\n",
              "      <td>143.000000</td>\n",
              "      <td>150000.000000</td>\n",
              "      <td>9.000000</td>\n",
              "    </tr>\n",
              "    <tr>\n",
              "      <th>max</th>\n",
              "      <td>20000.000000</td>\n",
              "      <td>2016.000000</td>\n",
              "      <td>3500.000000</td>\n",
              "      <td>150000.000000</td>\n",
              "      <td>12.000000</td>\n",
              "    </tr>\n",
              "  </tbody>\n",
              "</table>\n",
              "</div>"
            ],
            "text/plain": [
              "               Price  RegistrationYear          Power      Kilometer  \\\n",
              "count  341941.000000     341941.000000  341941.000000  341941.000000   \n",
              "mean     4577.083924       2003.142212     110.889250  128456.210282   \n",
              "std      4514.844713          7.252932      89.327498   37321.044860   \n",
              "min        50.000000       1930.000000      13.000000    5000.000000   \n",
              "25%      1200.000000       1999.000000      69.000000  125000.000000   \n",
              "50%      2900.000000       2003.000000     105.000000  150000.000000   \n",
              "75%      6500.000000       2008.000000     143.000000  150000.000000   \n",
              "max     20000.000000       2016.000000    3500.000000  150000.000000   \n",
              "\n",
              "       RegistrationMonth  \n",
              "count      341941.000000  \n",
              "mean            5.885258  \n",
              "std             3.554349  \n",
              "min             1.000000  \n",
              "25%             3.000000  \n",
              "50%             6.000000  \n",
              "75%             9.000000  \n",
              "max            12.000000  "
            ]
          },
          "execution_count": 20,
          "metadata": {},
          "output_type": "execute_result"
        }
      ],
      "source": [
        "data.describe()"
      ]
    },
    {
      "cell_type": "markdown",
      "metadata": {
        "id": "wYh-OsT5vAZ-"
      },
      "source": [
        "Выводы:\n",
        "- Была произведена обработка данных:\n",
        " - заполнены пропущенные значения,\n",
        " - отсечены выбросы\n",
        " - удалены признаки, не влияющие на целевой признак."
      ]
    },
    {
      "cell_type": "markdown",
      "metadata": {
        "id": "HI7abBNGvAZ-"
      },
      "source": [
        "## Обучение моделей"
      ]
    },
    {
      "cell_type": "markdown",
      "metadata": {
        "id": "e1ERqz6AvAaB"
      },
      "source": [
        "### Подготовка данных"
      ]
    },
    {
      "cell_type": "markdown",
      "source": [
        "Выделяю целевой признак и фичи"
      ],
      "metadata": {
        "id": "rK1FvM20yQ-l"
      }
    },
    {
      "cell_type": "code",
      "execution_count": null,
      "metadata": {
        "id": "UZUUQwJuvAaC"
      },
      "outputs": [],
      "source": [
        "target = data['Price']\n",
        "features = data.drop('Price', axis=1)"
      ]
    },
    {
      "cell_type": "markdown",
      "source": [
        "Разделяю на выборки"
      ],
      "metadata": {
        "id": "MEHAebimyV-u"
      }
    },
    {
      "cell_type": "code",
      "execution_count": null,
      "metadata": {
        "id": "itABUO8dvAaC"
      },
      "outputs": [],
      "source": [
        "features_train, features_test, target_train, target_test = train_test_split(\n",
        "    features, target, test_size=0.25, random_state=12345)\n"
      ]
    },
    {
      "cell_type": "markdown",
      "source": [
        "Кодирую признаки с OHE:"
      ],
      "metadata": {
        "id": "s9Syqj5izL3S"
      }
    },
    {
      "cell_type": "code",
      "execution_count": null,
      "metadata": {
        "id": "B3dPbA5pvAaC"
      },
      "outputs": [],
      "source": [
        "features_ohe = pd.get_dummies(features, drop_first=True)\n",
        "\n",
        "features_train_ohe, features_test_ohe, target_train_ohe, target_test_ohe = train_test_split(features_ohe,\n",
        "                                                                                            target,\n",
        "                                                                                            test_size=.25,\n",
        "                                                                                            random_state=12345)"
      ]
    },
    {
      "cell_type": "code",
      "execution_count": null,
      "metadata": {
        "id": "wdR76XJtvAaC",
        "outputId": "dd99f744-e755-46aa-b835-3accf926d4ba"
      },
      "outputs": [
        {
          "name": "stdout",
          "output_type": "stream",
          "text": [
            "Requirement already satisfied: scikit-learn==1.1.3 in c:\\users\\goshe\\anaconda3\\lib\\site-packages (1.1.3)\n",
            "Requirement already satisfied: threadpoolctl>=2.0.0 in c:\\users\\goshe\\anaconda3\\lib\\site-packages (from scikit-learn==1.1.3) (2.2.0)\n",
            "Requirement already satisfied: scipy>=1.3.2 in c:\\users\\goshe\\anaconda3\\lib\\site-packages (from scikit-learn==1.1.3) (1.9.1)\n",
            "Requirement already satisfied: numpy>=1.17.3 in c:\\users\\goshe\\anaconda3\\lib\\site-packages (from scikit-learn==1.1.3) (1.21.5)\n",
            "Requirement already satisfied: joblib>=1.0.0 in c:\\users\\goshe\\anaconda3\\lib\\site-packages (from scikit-learn==1.1.3) (1.1.0)\n"
          ]
        }
      ],
      "source": [
        "!pip install scikit-learn==1.1.3"
      ]
    },
    {
      "cell_type": "markdown",
      "source": [
        "Кодирую категориальные признаки с OE:"
      ],
      "metadata": {
        "id": "L0f1IUQxzR7Z"
      }
    },
    {
      "cell_type": "code",
      "execution_count": null,
      "metadata": {
        "id": "RsIW2-KZvAaC"
      },
      "outputs": [],
      "source": [
        "from sklearn.preprocessing import OrdinalEncoder\n",
        "\n",
        "encoder = OrdinalEncoder(handle_unknown='use_encoded_value', unknown_value=np.nan)\n",
        "\n",
        "cat_columns = ['VehicleType', 'Gearbox', 'FuelType','Brand','Model', 'Repaired']\n",
        "\n",
        "features_train_oe = features_train.copy()\n",
        "features_test_oe = features_test.copy()\n",
        "\n",
        "features_train_oe[cat_columns] = encoder.fit_transform(features_train[cat_columns])\n",
        "features_test_oe[cat_columns] = encoder.transform(features_test[cat_columns])"
      ]
    },
    {
      "cell_type": "markdown",
      "source": [
        "Проверим размер получившихся выборок:"
      ],
      "metadata": {
        "id": "wd-r9qJrzbng"
      }
    },
    {
      "cell_type": "code",
      "execution_count": null,
      "metadata": {
        "id": "2O1c9JX1vAaD",
        "outputId": "d5e87035-a6ff-4254-9e6a-be770407c8d8"
      },
      "outputs": [
        {
          "name": "stdout",
          "output_type": "stream",
          "text": [
            "(256455, 308)\n",
            "(85486, 308)\n",
            "(256455,)\n",
            "(85486,)\n",
            "\n",
            "(256455, 10)\n",
            "(85486, 10)\n",
            "\n",
            "(256455, 10)\n",
            "(85486, 10)\n",
            "(256455,)\n",
            "(85486,)\n"
          ]
        }
      ],
      "source": [
        "for i in [features_train_ohe, features_test_ohe, target_train_ohe, target_test_ohe]:\n",
        "    print(i.shape)\n",
        "\n",
        "print()\n",
        "\n",
        "for i in [features_train_oe, features_test_oe]:\n",
        "    print(i.shape)\n",
        "# for i in [features_train_oe, features_test_oe, target_train_oe, target_test_oe]:\n",
        "#    print(i.shape)\n",
        "\n",
        "\n",
        "print()\n",
        "\n",
        "for i in [features_train, features_test, target_train, target_test]:\n",
        "    print(i.shape)"
      ]
    },
    {
      "cell_type": "markdown",
      "metadata": {
        "id": "chIZJHxWvAaD"
      },
      "source": [
        "### Catboost"
      ]
    },
    {
      "cell_type": "markdown",
      "metadata": {
        "id": "gQTI3ueHvAaD"
      },
      "source": [
        "<b> На выборках c OneHotEncoder <b/>"
      ]
    },
    {
      "cell_type": "code",
      "execution_count": null,
      "metadata": {
        "id": "0P0ZviCDvAaE",
        "outputId": "a7f27a51-d4ee-4309-aa34-de8afeed99a5"
      },
      "outputs": [
        {
          "data": {
            "text/html": [
              "<div>\n",
              "<style scoped>\n",
              "    .dataframe tbody tr th:only-of-type {\n",
              "        vertical-align: middle;\n",
              "    }\n",
              "\n",
              "    .dataframe tbody tr th {\n",
              "        vertical-align: top;\n",
              "    }\n",
              "\n",
              "    .dataframe thead th {\n",
              "        text-align: right;\n",
              "    }\n",
              "</style>\n",
              "<table border=\"1\" class=\"dataframe\">\n",
              "  <thead>\n",
              "    <tr style=\"text-align: right;\">\n",
              "      <th></th>\n",
              "      <th>mean_fit_time</th>\n",
              "      <th>std_fit_time</th>\n",
              "      <th>mean_score_time</th>\n",
              "      <th>std_score_time</th>\n",
              "      <th>param_learning_rate</th>\n",
              "      <th>param_random_state</th>\n",
              "      <th>param_verbose</th>\n",
              "      <th>params</th>\n",
              "      <th>split0_test_score</th>\n",
              "      <th>split1_test_score</th>\n",
              "      <th>split2_test_score</th>\n",
              "      <th>split3_test_score</th>\n",
              "      <th>split4_test_score</th>\n",
              "      <th>mean_test_score</th>\n",
              "      <th>std_test_score</th>\n",
              "      <th>rank_test_score</th>\n",
              "    </tr>\n",
              "  </thead>\n",
              "  <tbody>\n",
              "    <tr>\n",
              "      <th>0</th>\n",
              "      <td>17.465375</td>\n",
              "      <td>1.580946</td>\n",
              "      <td>0.228500</td>\n",
              "      <td>0.270803</td>\n",
              "      <td>0.1</td>\n",
              "      <td>12345</td>\n",
              "      <td>False</td>\n",
              "      <td>{'learning_rate': 0.1, 'random_state': 12345, ...</td>\n",
              "      <td>-1663.223049</td>\n",
              "      <td>-1666.590023</td>\n",
              "      <td>-1654.184317</td>\n",
              "      <td>-1647.019637</td>\n",
              "      <td>-1676.311791</td>\n",
              "      <td>-1661.465763</td>\n",
              "      <td>10.113957</td>\n",
              "      <td>3</td>\n",
              "    </tr>\n",
              "    <tr>\n",
              "      <th>1</th>\n",
              "      <td>16.491309</td>\n",
              "      <td>0.578657</td>\n",
              "      <td>0.068306</td>\n",
              "      <td>0.013396</td>\n",
              "      <td>0.5</td>\n",
              "      <td>12345</td>\n",
              "      <td>False</td>\n",
              "      <td>{'learning_rate': 0.5, 'random_state': 12345, ...</td>\n",
              "      <td>-1625.643344</td>\n",
              "      <td>-1628.715101</td>\n",
              "      <td>-1607.140925</td>\n",
              "      <td>-1610.165387</td>\n",
              "      <td>-1637.106390</td>\n",
              "      <td>-1621.754229</td>\n",
              "      <td>11.376447</td>\n",
              "      <td>1</td>\n",
              "    </tr>\n",
              "    <tr>\n",
              "      <th>2</th>\n",
              "      <td>17.056578</td>\n",
              "      <td>0.442555</td>\n",
              "      <td>0.090638</td>\n",
              "      <td>0.044191</td>\n",
              "      <td>0.8</td>\n",
              "      <td>12345</td>\n",
              "      <td>False</td>\n",
              "      <td>{'learning_rate': 0.8, 'random_state': 12345, ...</td>\n",
              "      <td>-1659.560707</td>\n",
              "      <td>-1662.918957</td>\n",
              "      <td>-1639.878383</td>\n",
              "      <td>-1624.323221</td>\n",
              "      <td>-1674.335580</td>\n",
              "      <td>-1652.203370</td>\n",
              "      <td>17.821318</td>\n",
              "      <td>2</td>\n",
              "    </tr>\n",
              "  </tbody>\n",
              "</table>\n",
              "</div>"
            ],
            "text/plain": [
              "   mean_fit_time  std_fit_time  mean_score_time  std_score_time  \\\n",
              "0      17.465375      1.580946         0.228500        0.270803   \n",
              "1      16.491309      0.578657         0.068306        0.013396   \n",
              "2      17.056578      0.442555         0.090638        0.044191   \n",
              "\n",
              "  param_learning_rate param_random_state param_verbose  \\\n",
              "0                 0.1              12345         False   \n",
              "1                 0.5              12345         False   \n",
              "2                 0.8              12345         False   \n",
              "\n",
              "                                              params  split0_test_score  \\\n",
              "0  {'learning_rate': 0.1, 'random_state': 12345, ...       -1663.223049   \n",
              "1  {'learning_rate': 0.5, 'random_state': 12345, ...       -1625.643344   \n",
              "2  {'learning_rate': 0.8, 'random_state': 12345, ...       -1659.560707   \n",
              "\n",
              "   split1_test_score  split2_test_score  split3_test_score  split4_test_score  \\\n",
              "0       -1666.590023       -1654.184317       -1647.019637       -1676.311791   \n",
              "1       -1628.715101       -1607.140925       -1610.165387       -1637.106390   \n",
              "2       -1662.918957       -1639.878383       -1624.323221       -1674.335580   \n",
              "\n",
              "   mean_test_score  std_test_score  rank_test_score  \n",
              "0     -1661.465763       10.113957                3  \n",
              "1     -1621.754229       11.376447                1  \n",
              "2     -1652.203370       17.821318                2  "
            ]
          },
          "metadata": {},
          "output_type": "display_data"
        },
        {
          "data": {
            "text/html": [
              "<div>\n",
              "<style scoped>\n",
              "    .dataframe tbody tr th:only-of-type {\n",
              "        vertical-align: middle;\n",
              "    }\n",
              "\n",
              "    .dataframe tbody tr th {\n",
              "        vertical-align: top;\n",
              "    }\n",
              "\n",
              "    .dataframe thead th {\n",
              "        text-align: right;\n",
              "    }\n",
              "</style>\n",
              "<table border=\"1\" class=\"dataframe\">\n",
              "  <thead>\n",
              "    <tr style=\"text-align: right;\">\n",
              "      <th></th>\n",
              "      <th>mean_fit_time</th>\n",
              "      <th>std_fit_time</th>\n",
              "      <th>mean_score_time</th>\n",
              "      <th>std_score_time</th>\n",
              "      <th>param_learning_rate</th>\n",
              "      <th>param_random_state</th>\n",
              "      <th>param_verbose</th>\n",
              "      <th>params</th>\n",
              "      <th>split0_test_score</th>\n",
              "      <th>split1_test_score</th>\n",
              "      <th>split2_test_score</th>\n",
              "      <th>split3_test_score</th>\n",
              "      <th>split4_test_score</th>\n",
              "      <th>mean_test_score</th>\n",
              "      <th>std_test_score</th>\n",
              "      <th>rank_test_score</th>\n",
              "    </tr>\n",
              "  </thead>\n",
              "  <tbody>\n",
              "    <tr>\n",
              "      <th>1</th>\n",
              "      <td>16.491309</td>\n",
              "      <td>0.578657</td>\n",
              "      <td>0.068306</td>\n",
              "      <td>0.013396</td>\n",
              "      <td>0.5</td>\n",
              "      <td>12345</td>\n",
              "      <td>False</td>\n",
              "      <td>{'learning_rate': 0.5, 'random_state': 12345, ...</td>\n",
              "      <td>-1625.643344</td>\n",
              "      <td>-1628.715101</td>\n",
              "      <td>-1607.140925</td>\n",
              "      <td>-1610.165387</td>\n",
              "      <td>-1637.10639</td>\n",
              "      <td>-1621.754229</td>\n",
              "      <td>11.376447</td>\n",
              "      <td>1</td>\n",
              "    </tr>\n",
              "  </tbody>\n",
              "</table>\n",
              "</div>"
            ],
            "text/plain": [
              "   mean_fit_time  std_fit_time  mean_score_time  std_score_time  \\\n",
              "1      16.491309      0.578657         0.068306        0.013396   \n",
              "\n",
              "  param_learning_rate param_random_state param_verbose  \\\n",
              "1                 0.5              12345         False   \n",
              "\n",
              "                                              params  split0_test_score  \\\n",
              "1  {'learning_rate': 0.5, 'random_state': 12345, ...       -1625.643344   \n",
              "\n",
              "   split1_test_score  split2_test_score  split3_test_score  split4_test_score  \\\n",
              "1       -1628.715101       -1607.140925       -1610.165387        -1637.10639   \n",
              "\n",
              "   mean_test_score  std_test_score  rank_test_score  \n",
              "1     -1621.754229       11.376447                1  "
            ]
          },
          "metadata": {},
          "output_type": "display_data"
        },
        {
          "name": "stdout",
          "output_type": "stream",
          "text": [
            "Fit time:16.491308975219727, predict time: 0.06830568313598633\n"
          ]
        }
      ],
      "source": [
        "model_cbr = CatBoostRegressor()\n",
        "parameters = [{'learning_rate':[.1, .5, .8], 'random_state':[12345], 'verbose':[False]}]\n",
        "\n",
        "gscv_cbr_ohe = GridSearchCV(model_cbr, parameters, scoring='neg_root_mean_squared_error')\n",
        "gscv_cbr_ohe.fit(features_train_ohe, target_train)\n",
        "\n",
        "results = pd.DataFrame(gscv_cbr_ohe.cv_results_)\n",
        "display(results)\n",
        "display(results[results['rank_test_score'] == 1])\n",
        "fit_time = results[results['rank_test_score'] == 1]['mean_fit_time'].values[0]\n",
        "predict_time = results[results['rank_test_score'] == 1]['mean_score_time'].values[0]\n",
        "print(f'Fit time:{fit_time}, predict time: {predict_time}')"
      ]
    },
    {
      "cell_type": "markdown",
      "metadata": {
        "id": "et8cTkTGvAaE"
      },
      "source": [
        "<b> На выборках c OrdinalEncoder <b/>"
      ]
    },
    {
      "cell_type": "code",
      "execution_count": null,
      "metadata": {
        "id": "5dRTJXAkvAaE",
        "outputId": "43046bb3-956f-40f8-bb5f-26bddb608347"
      },
      "outputs": [
        {
          "data": {
            "text/html": [
              "<div>\n",
              "<style scoped>\n",
              "    .dataframe tbody tr th:only-of-type {\n",
              "        vertical-align: middle;\n",
              "    }\n",
              "\n",
              "    .dataframe tbody tr th {\n",
              "        vertical-align: top;\n",
              "    }\n",
              "\n",
              "    .dataframe thead th {\n",
              "        text-align: right;\n",
              "    }\n",
              "</style>\n",
              "<table border=\"1\" class=\"dataframe\">\n",
              "  <thead>\n",
              "    <tr style=\"text-align: right;\">\n",
              "      <th></th>\n",
              "      <th>mean_fit_time</th>\n",
              "      <th>std_fit_time</th>\n",
              "      <th>mean_score_time</th>\n",
              "      <th>std_score_time</th>\n",
              "      <th>param_learning_rate</th>\n",
              "      <th>param_random_state</th>\n",
              "      <th>param_verbose</th>\n",
              "      <th>params</th>\n",
              "      <th>split0_test_score</th>\n",
              "      <th>split1_test_score</th>\n",
              "      <th>split2_test_score</th>\n",
              "      <th>split3_test_score</th>\n",
              "      <th>split4_test_score</th>\n",
              "      <th>mean_test_score</th>\n",
              "      <th>std_test_score</th>\n",
              "      <th>rank_test_score</th>\n",
              "    </tr>\n",
              "  </thead>\n",
              "  <tbody>\n",
              "    <tr>\n",
              "      <th>0</th>\n",
              "      <td>15.871995</td>\n",
              "      <td>0.262786</td>\n",
              "      <td>0.026929</td>\n",
              "      <td>0.013195</td>\n",
              "      <td>0.1</td>\n",
              "      <td>12345</td>\n",
              "      <td>False</td>\n",
              "      <td>{'learning_rate': 0.1, 'random_state': 12345, ...</td>\n",
              "      <td>-1677.461083</td>\n",
              "      <td>-1675.818068</td>\n",
              "      <td>-1668.929518</td>\n",
              "      <td>-1653.532750</td>\n",
              "      <td>-1692.031550</td>\n",
              "      <td>-1673.554594</td>\n",
              "      <td>12.522360</td>\n",
              "      <td>3</td>\n",
              "    </tr>\n",
              "    <tr>\n",
              "      <th>1</th>\n",
              "      <td>15.743749</td>\n",
              "      <td>0.174493</td>\n",
              "      <td>0.026511</td>\n",
              "      <td>0.012192</td>\n",
              "      <td>0.5</td>\n",
              "      <td>12345</td>\n",
              "      <td>False</td>\n",
              "      <td>{'learning_rate': 0.5, 'random_state': 12345, ...</td>\n",
              "      <td>-1646.468067</td>\n",
              "      <td>-1642.786846</td>\n",
              "      <td>-1634.481377</td>\n",
              "      <td>-1619.272836</td>\n",
              "      <td>-1653.869785</td>\n",
              "      <td>-1639.375782</td>\n",
              "      <td>11.832968</td>\n",
              "      <td>1</td>\n",
              "    </tr>\n",
              "    <tr>\n",
              "      <th>2</th>\n",
              "      <td>15.860545</td>\n",
              "      <td>0.350936</td>\n",
              "      <td>0.040149</td>\n",
              "      <td>0.012496</td>\n",
              "      <td>0.8</td>\n",
              "      <td>12345</td>\n",
              "      <td>False</td>\n",
              "      <td>{'learning_rate': 0.8, 'random_state': 12345, ...</td>\n",
              "      <td>-1677.855241</td>\n",
              "      <td>-1680.073171</td>\n",
              "      <td>-1656.909752</td>\n",
              "      <td>-1654.060786</td>\n",
              "      <td>-1682.259046</td>\n",
              "      <td>-1670.231599</td>\n",
              "      <td>12.154034</td>\n",
              "      <td>2</td>\n",
              "    </tr>\n",
              "  </tbody>\n",
              "</table>\n",
              "</div>"
            ],
            "text/plain": [
              "   mean_fit_time  std_fit_time  mean_score_time  std_score_time  \\\n",
              "0      15.871995      0.262786         0.026929        0.013195   \n",
              "1      15.743749      0.174493         0.026511        0.012192   \n",
              "2      15.860545      0.350936         0.040149        0.012496   \n",
              "\n",
              "  param_learning_rate param_random_state param_verbose  \\\n",
              "0                 0.1              12345         False   \n",
              "1                 0.5              12345         False   \n",
              "2                 0.8              12345         False   \n",
              "\n",
              "                                              params  split0_test_score  \\\n",
              "0  {'learning_rate': 0.1, 'random_state': 12345, ...       -1677.461083   \n",
              "1  {'learning_rate': 0.5, 'random_state': 12345, ...       -1646.468067   \n",
              "2  {'learning_rate': 0.8, 'random_state': 12345, ...       -1677.855241   \n",
              "\n",
              "   split1_test_score  split2_test_score  split3_test_score  split4_test_score  \\\n",
              "0       -1675.818068       -1668.929518       -1653.532750       -1692.031550   \n",
              "1       -1642.786846       -1634.481377       -1619.272836       -1653.869785   \n",
              "2       -1680.073171       -1656.909752       -1654.060786       -1682.259046   \n",
              "\n",
              "   mean_test_score  std_test_score  rank_test_score  \n",
              "0     -1673.554594       12.522360                3  \n",
              "1     -1639.375782       11.832968                1  \n",
              "2     -1670.231599       12.154034                2  "
            ]
          },
          "metadata": {},
          "output_type": "display_data"
        },
        {
          "data": {
            "text/html": [
              "<div>\n",
              "<style scoped>\n",
              "    .dataframe tbody tr th:only-of-type {\n",
              "        vertical-align: middle;\n",
              "    }\n",
              "\n",
              "    .dataframe tbody tr th {\n",
              "        vertical-align: top;\n",
              "    }\n",
              "\n",
              "    .dataframe thead th {\n",
              "        text-align: right;\n",
              "    }\n",
              "</style>\n",
              "<table border=\"1\" class=\"dataframe\">\n",
              "  <thead>\n",
              "    <tr style=\"text-align: right;\">\n",
              "      <th></th>\n",
              "      <th>mean_fit_time</th>\n",
              "      <th>std_fit_time</th>\n",
              "      <th>mean_score_time</th>\n",
              "      <th>std_score_time</th>\n",
              "      <th>param_learning_rate</th>\n",
              "      <th>param_random_state</th>\n",
              "      <th>param_verbose</th>\n",
              "      <th>params</th>\n",
              "      <th>split0_test_score</th>\n",
              "      <th>split1_test_score</th>\n",
              "      <th>split2_test_score</th>\n",
              "      <th>split3_test_score</th>\n",
              "      <th>split4_test_score</th>\n",
              "      <th>mean_test_score</th>\n",
              "      <th>std_test_score</th>\n",
              "      <th>rank_test_score</th>\n",
              "    </tr>\n",
              "  </thead>\n",
              "  <tbody>\n",
              "    <tr>\n",
              "      <th>1</th>\n",
              "      <td>15.743749</td>\n",
              "      <td>0.174493</td>\n",
              "      <td>0.026511</td>\n",
              "      <td>0.012192</td>\n",
              "      <td>0.5</td>\n",
              "      <td>12345</td>\n",
              "      <td>False</td>\n",
              "      <td>{'learning_rate': 0.5, 'random_state': 12345, ...</td>\n",
              "      <td>-1646.468067</td>\n",
              "      <td>-1642.786846</td>\n",
              "      <td>-1634.481377</td>\n",
              "      <td>-1619.272836</td>\n",
              "      <td>-1653.869785</td>\n",
              "      <td>-1639.375782</td>\n",
              "      <td>11.832968</td>\n",
              "      <td>1</td>\n",
              "    </tr>\n",
              "  </tbody>\n",
              "</table>\n",
              "</div>"
            ],
            "text/plain": [
              "   mean_fit_time  std_fit_time  mean_score_time  std_score_time  \\\n",
              "1      15.743749      0.174493         0.026511        0.012192   \n",
              "\n",
              "  param_learning_rate param_random_state param_verbose  \\\n",
              "1                 0.5              12345         False   \n",
              "\n",
              "                                              params  split0_test_score  \\\n",
              "1  {'learning_rate': 0.5, 'random_state': 12345, ...       -1646.468067   \n",
              "\n",
              "   split1_test_score  split2_test_score  split3_test_score  split4_test_score  \\\n",
              "1       -1642.786846       -1634.481377       -1619.272836       -1653.869785   \n",
              "\n",
              "   mean_test_score  std_test_score  rank_test_score  \n",
              "1     -1639.375782       11.832968                1  "
            ]
          },
          "metadata": {},
          "output_type": "display_data"
        },
        {
          "name": "stdout",
          "output_type": "stream",
          "text": [
            "Fit time:15.743748664855957, predict time: 0.02651076316833496\n"
          ]
        }
      ],
      "source": [
        "model_cbr = CatBoostRegressor()\n",
        "parameters = [{'learning_rate':[.1, .5, .8], 'random_state':[12345], 'verbose':[False]}]\n",
        "\n",
        "gscv_cbr_oe = GridSearchCV(model_cbr, parameters, scoring='neg_root_mean_squared_error')\n",
        "gscv_cbr_oe.fit(features_train_oe, target_train)\n",
        "\n",
        "results = pd.DataFrame(gscv_cbr_oe.cv_results_)\n",
        "display(results)\n",
        "display(results[results['rank_test_score'] == 1])\n",
        "fit_time = results[results['rank_test_score'] == 1]['mean_fit_time'].values[0]\n",
        "predict_time = results[results['rank_test_score'] == 1]['mean_score_time'].values[0]\n",
        "print(f'Fit time:{fit_time}, predict time: {predict_time}')"
      ]
    },
    {
      "cell_type": "markdown",
      "metadata": {
        "id": "aKwYC-56vAaF"
      },
      "source": [
        "<b> На выборках без кодировки <b/>"
      ]
    },
    {
      "cell_type": "code",
      "execution_count": null,
      "metadata": {
        "id": "GZlBh7drvAaF"
      },
      "outputs": [],
      "source": [
        "cat_features = ['VehicleType', 'Gearbox', 'FuelType','Brand','Model', 'Repaired']"
      ]
    },
    {
      "cell_type": "code",
      "execution_count": null,
      "metadata": {
        "scrolled": true,
        "id": "VMgWfvQvvAaF",
        "outputId": "bf5de17a-30f0-42f0-f981-338a2711ff44"
      },
      "outputs": [
        {
          "data": {
            "text/html": [
              "<div>\n",
              "<style scoped>\n",
              "    .dataframe tbody tr th:only-of-type {\n",
              "        vertical-align: middle;\n",
              "    }\n",
              "\n",
              "    .dataframe tbody tr th {\n",
              "        vertical-align: top;\n",
              "    }\n",
              "\n",
              "    .dataframe thead th {\n",
              "        text-align: right;\n",
              "    }\n",
              "</style>\n",
              "<table border=\"1\" class=\"dataframe\">\n",
              "  <thead>\n",
              "    <tr style=\"text-align: right;\">\n",
              "      <th></th>\n",
              "      <th>mean_fit_time</th>\n",
              "      <th>std_fit_time</th>\n",
              "      <th>mean_score_time</th>\n",
              "      <th>std_score_time</th>\n",
              "      <th>param_learning_rate</th>\n",
              "      <th>param_random_state</th>\n",
              "      <th>param_verbose</th>\n",
              "      <th>params</th>\n",
              "      <th>split0_test_score</th>\n",
              "      <th>split1_test_score</th>\n",
              "      <th>split2_test_score</th>\n",
              "      <th>split3_test_score</th>\n",
              "      <th>split4_test_score</th>\n",
              "      <th>mean_test_score</th>\n",
              "      <th>std_test_score</th>\n",
              "      <th>rank_test_score</th>\n",
              "    </tr>\n",
              "  </thead>\n",
              "  <tbody>\n",
              "    <tr>\n",
              "      <th>0</th>\n",
              "      <td>95.720268</td>\n",
              "      <td>1.489336</td>\n",
              "      <td>0.173258</td>\n",
              "      <td>0.015455</td>\n",
              "      <td>0.1</td>\n",
              "      <td>12345</td>\n",
              "      <td>False</td>\n",
              "      <td>{'learning_rate': 0.1, 'random_state': 12345, ...</td>\n",
              "      <td>-1669.002757</td>\n",
              "      <td>-1660.055252</td>\n",
              "      <td>-1650.866832</td>\n",
              "      <td>-1645.843176</td>\n",
              "      <td>-1682.139235</td>\n",
              "      <td>-1661.581451</td>\n",
              "      <td>12.980939</td>\n",
              "      <td>2</td>\n",
              "    </tr>\n",
              "    <tr>\n",
              "      <th>1</th>\n",
              "      <td>95.943730</td>\n",
              "      <td>0.856003</td>\n",
              "      <td>0.201487</td>\n",
              "      <td>0.007544</td>\n",
              "      <td>0.5</td>\n",
              "      <td>12345</td>\n",
              "      <td>False</td>\n",
              "      <td>{'learning_rate': 0.5, 'random_state': 12345, ...</td>\n",
              "      <td>-1648.706202</td>\n",
              "      <td>-1642.346435</td>\n",
              "      <td>-1634.898940</td>\n",
              "      <td>-1625.043799</td>\n",
              "      <td>-1657.183522</td>\n",
              "      <td>-1641.635779</td>\n",
              "      <td>11.071648</td>\n",
              "      <td>1</td>\n",
              "    </tr>\n",
              "    <tr>\n",
              "      <th>2</th>\n",
              "      <td>95.779158</td>\n",
              "      <td>0.922922</td>\n",
              "      <td>0.214043</td>\n",
              "      <td>0.013385</td>\n",
              "      <td>0.8</td>\n",
              "      <td>12345</td>\n",
              "      <td>False</td>\n",
              "      <td>{'learning_rate': 0.8, 'random_state': 12345, ...</td>\n",
              "      <td>-1678.014978</td>\n",
              "      <td>-1659.232216</td>\n",
              "      <td>-1665.542144</td>\n",
              "      <td>-1659.003377</td>\n",
              "      <td>-1701.683203</td>\n",
              "      <td>-1672.695183</td>\n",
              "      <td>16.052966</td>\n",
              "      <td>3</td>\n",
              "    </tr>\n",
              "  </tbody>\n",
              "</table>\n",
              "</div>"
            ],
            "text/plain": [
              "   mean_fit_time  std_fit_time  mean_score_time  std_score_time  \\\n",
              "0      95.720268      1.489336         0.173258        0.015455   \n",
              "1      95.943730      0.856003         0.201487        0.007544   \n",
              "2      95.779158      0.922922         0.214043        0.013385   \n",
              "\n",
              "  param_learning_rate param_random_state param_verbose  \\\n",
              "0                 0.1              12345         False   \n",
              "1                 0.5              12345         False   \n",
              "2                 0.8              12345         False   \n",
              "\n",
              "                                              params  split0_test_score  \\\n",
              "0  {'learning_rate': 0.1, 'random_state': 12345, ...       -1669.002757   \n",
              "1  {'learning_rate': 0.5, 'random_state': 12345, ...       -1648.706202   \n",
              "2  {'learning_rate': 0.8, 'random_state': 12345, ...       -1678.014978   \n",
              "\n",
              "   split1_test_score  split2_test_score  split3_test_score  split4_test_score  \\\n",
              "0       -1660.055252       -1650.866832       -1645.843176       -1682.139235   \n",
              "1       -1642.346435       -1634.898940       -1625.043799       -1657.183522   \n",
              "2       -1659.232216       -1665.542144       -1659.003377       -1701.683203   \n",
              "\n",
              "   mean_test_score  std_test_score  rank_test_score  \n",
              "0     -1661.581451       12.980939                2  \n",
              "1     -1641.635779       11.071648                1  \n",
              "2     -1672.695183       16.052966                3  "
            ]
          },
          "metadata": {},
          "output_type": "display_data"
        },
        {
          "data": {
            "text/html": [
              "<div>\n",
              "<style scoped>\n",
              "    .dataframe tbody tr th:only-of-type {\n",
              "        vertical-align: middle;\n",
              "    }\n",
              "\n",
              "    .dataframe tbody tr th {\n",
              "        vertical-align: top;\n",
              "    }\n",
              "\n",
              "    .dataframe thead th {\n",
              "        text-align: right;\n",
              "    }\n",
              "</style>\n",
              "<table border=\"1\" class=\"dataframe\">\n",
              "  <thead>\n",
              "    <tr style=\"text-align: right;\">\n",
              "      <th></th>\n",
              "      <th>mean_fit_time</th>\n",
              "      <th>std_fit_time</th>\n",
              "      <th>mean_score_time</th>\n",
              "      <th>std_score_time</th>\n",
              "      <th>param_learning_rate</th>\n",
              "      <th>param_random_state</th>\n",
              "      <th>param_verbose</th>\n",
              "      <th>params</th>\n",
              "      <th>split0_test_score</th>\n",
              "      <th>split1_test_score</th>\n",
              "      <th>split2_test_score</th>\n",
              "      <th>split3_test_score</th>\n",
              "      <th>split4_test_score</th>\n",
              "      <th>mean_test_score</th>\n",
              "      <th>std_test_score</th>\n",
              "      <th>rank_test_score</th>\n",
              "    </tr>\n",
              "  </thead>\n",
              "  <tbody>\n",
              "    <tr>\n",
              "      <th>1</th>\n",
              "      <td>95.94373</td>\n",
              "      <td>0.856003</td>\n",
              "      <td>0.201487</td>\n",
              "      <td>0.007544</td>\n",
              "      <td>0.5</td>\n",
              "      <td>12345</td>\n",
              "      <td>False</td>\n",
              "      <td>{'learning_rate': 0.5, 'random_state': 12345, ...</td>\n",
              "      <td>-1648.706202</td>\n",
              "      <td>-1642.346435</td>\n",
              "      <td>-1634.89894</td>\n",
              "      <td>-1625.043799</td>\n",
              "      <td>-1657.183522</td>\n",
              "      <td>-1641.635779</td>\n",
              "      <td>11.071648</td>\n",
              "      <td>1</td>\n",
              "    </tr>\n",
              "  </tbody>\n",
              "</table>\n",
              "</div>"
            ],
            "text/plain": [
              "   mean_fit_time  std_fit_time  mean_score_time  std_score_time  \\\n",
              "1       95.94373      0.856003         0.201487        0.007544   \n",
              "\n",
              "  param_learning_rate param_random_state param_verbose  \\\n",
              "1                 0.5              12345         False   \n",
              "\n",
              "                                              params  split0_test_score  \\\n",
              "1  {'learning_rate': 0.5, 'random_state': 12345, ...       -1648.706202   \n",
              "\n",
              "   split1_test_score  split2_test_score  split3_test_score  split4_test_score  \\\n",
              "1       -1642.346435        -1634.89894       -1625.043799       -1657.183522   \n",
              "\n",
              "   mean_test_score  std_test_score  rank_test_score  \n",
              "1     -1641.635779       11.071648                1  "
            ]
          },
          "metadata": {},
          "output_type": "display_data"
        },
        {
          "name": "stdout",
          "output_type": "stream",
          "text": [
            "Fit time:95.9437297821045, predict time: 0.20148687362670897\n"
          ]
        }
      ],
      "source": [
        "model_cbr = CatBoostRegressor()\n",
        "parameters = [{'learning_rate':[.1, .5, .8], 'random_state':[12345], 'verbose':[False]}]\n",
        "\n",
        "gscv_cbr = GridSearchCV(model_cbr, parameters, error_score='raise', scoring='neg_root_mean_squared_error')\n",
        "gscv_cbr.fit(features_train, target_train, cat_features=cat_features)\n",
        "\n",
        "results = pd.DataFrame(gscv_cbr.cv_results_)\n",
        "display(results)\n",
        "display(results[results['rank_test_score'] == 1])\n",
        "fit_time = results[results['rank_test_score'] == 1]['mean_fit_time'].values[0]\n",
        "predict_time = results[results['rank_test_score'] == 1]['mean_score_time'].values[0]\n",
        "print(f'Fit time:{fit_time}, predict time: {predict_time}')"
      ]
    },
    {
      "cell_type": "markdown",
      "metadata": {
        "id": "UOKUyvq7vAaF"
      },
      "source": [
        "### LightGBM"
      ]
    },
    {
      "cell_type": "markdown",
      "metadata": {
        "id": "oR0Cyp3FvAaF"
      },
      "source": [
        "<b> На выборках c OneHotEncoder <b/>"
      ]
    },
    {
      "cell_type": "code",
      "execution_count": null,
      "metadata": {
        "id": "z5aEBgypvAaG"
      },
      "outputs": [],
      "source": [
        "#del features_train"
      ]
    },
    {
      "cell_type": "code",
      "execution_count": null,
      "metadata": {
        "scrolled": true,
        "id": "AyVKihfYvAaG",
        "outputId": "bb3a92ed-f58d-44e0-b762-05a5ea7ac43d"
      },
      "outputs": [
        {
          "data": {
            "text/html": [
              "<div>\n",
              "<style scoped>\n",
              "    .dataframe tbody tr th:only-of-type {\n",
              "        vertical-align: middle;\n",
              "    }\n",
              "\n",
              "    .dataframe tbody tr th {\n",
              "        vertical-align: top;\n",
              "    }\n",
              "\n",
              "    .dataframe thead th {\n",
              "        text-align: right;\n",
              "    }\n",
              "</style>\n",
              "<table border=\"1\" class=\"dataframe\">\n",
              "  <thead>\n",
              "    <tr style=\"text-align: right;\">\n",
              "      <th></th>\n",
              "      <th>mean_fit_time</th>\n",
              "      <th>std_fit_time</th>\n",
              "      <th>mean_score_time</th>\n",
              "      <th>std_score_time</th>\n",
              "      <th>param_learning_rate</th>\n",
              "      <th>param_num_leaves</th>\n",
              "      <th>param_random_state</th>\n",
              "      <th>params</th>\n",
              "      <th>split0_test_score</th>\n",
              "      <th>split1_test_score</th>\n",
              "      <th>split2_test_score</th>\n",
              "      <th>split3_test_score</th>\n",
              "      <th>split4_test_score</th>\n",
              "      <th>mean_test_score</th>\n",
              "      <th>std_test_score</th>\n",
              "      <th>rank_test_score</th>\n",
              "    </tr>\n",
              "  </thead>\n",
              "  <tbody>\n",
              "    <tr>\n",
              "      <th>0</th>\n",
              "      <td>1.262035</td>\n",
              "      <td>0.065978</td>\n",
              "      <td>0.150473</td>\n",
              "      <td>0.004376</td>\n",
              "      <td>0.1</td>\n",
              "      <td>25</td>\n",
              "      <td>12345</td>\n",
              "      <td>{'learning_rate': 0.1, 'num_leaves': 25, 'rand...</td>\n",
              "      <td>-1781.674341</td>\n",
              "      <td>-1785.125710</td>\n",
              "      <td>-1769.625584</td>\n",
              "      <td>-1766.389259</td>\n",
              "      <td>-1792.082819</td>\n",
              "      <td>-1778.979543</td>\n",
              "      <td>9.620238</td>\n",
              "      <td>12</td>\n",
              "    </tr>\n",
              "    <tr>\n",
              "      <th>1</th>\n",
              "      <td>1.614207</td>\n",
              "      <td>0.477141</td>\n",
              "      <td>0.170900</td>\n",
              "      <td>0.044259</td>\n",
              "      <td>0.1</td>\n",
              "      <td>50</td>\n",
              "      <td>12345</td>\n",
              "      <td>{'learning_rate': 0.1, 'num_leaves': 50, 'rand...</td>\n",
              "      <td>-1717.769334</td>\n",
              "      <td>-1721.428691</td>\n",
              "      <td>-1707.240015</td>\n",
              "      <td>-1699.569536</td>\n",
              "      <td>-1727.929502</td>\n",
              "      <td>-1714.787416</td>\n",
              "      <td>10.141597</td>\n",
              "      <td>11</td>\n",
              "    </tr>\n",
              "    <tr>\n",
              "      <th>2</th>\n",
              "      <td>2.150659</td>\n",
              "      <td>0.481050</td>\n",
              "      <td>0.195228</td>\n",
              "      <td>0.041933</td>\n",
              "      <td>0.1</td>\n",
              "      <td>100</td>\n",
              "      <td>12345</td>\n",
              "      <td>{'learning_rate': 0.1, 'num_leaves': 100, 'ran...</td>\n",
              "      <td>-1668.227522</td>\n",
              "      <td>-1667.964069</td>\n",
              "      <td>-1653.497716</td>\n",
              "      <td>-1650.152342</td>\n",
              "      <td>-1680.074685</td>\n",
              "      <td>-1663.983267</td>\n",
              "      <td>10.899867</td>\n",
              "      <td>7</td>\n",
              "    </tr>\n",
              "    <tr>\n",
              "      <th>3</th>\n",
              "      <td>2.090063</td>\n",
              "      <td>0.186995</td>\n",
              "      <td>0.198382</td>\n",
              "      <td>0.027614</td>\n",
              "      <td>0.1</td>\n",
              "      <td>200</td>\n",
              "      <td>12345</td>\n",
              "      <td>{'learning_rate': 0.1, 'num_leaves': 200, 'ran...</td>\n",
              "      <td>-1629.483794</td>\n",
              "      <td>-1631.518978</td>\n",
              "      <td>-1619.189483</td>\n",
              "      <td>-1609.498110</td>\n",
              "      <td>-1637.406580</td>\n",
              "      <td>-1625.419389</td>\n",
              "      <td>9.896625</td>\n",
              "      <td>2</td>\n",
              "    </tr>\n",
              "    <tr>\n",
              "      <th>4</th>\n",
              "      <td>1.378354</td>\n",
              "      <td>0.051883</td>\n",
              "      <td>0.155243</td>\n",
              "      <td>0.014554</td>\n",
              "      <td>0.3</td>\n",
              "      <td>25</td>\n",
              "      <td>12345</td>\n",
              "      <td>{'learning_rate': 0.3, 'num_leaves': 25, 'rand...</td>\n",
              "      <td>-1711.054146</td>\n",
              "      <td>-1709.033828</td>\n",
              "      <td>-1698.520428</td>\n",
              "      <td>-1696.945343</td>\n",
              "      <td>-1716.011935</td>\n",
              "      <td>-1706.313136</td>\n",
              "      <td>7.381435</td>\n",
              "      <td>10</td>\n",
              "    </tr>\n",
              "    <tr>\n",
              "      <th>5</th>\n",
              "      <td>1.493056</td>\n",
              "      <td>0.052899</td>\n",
              "      <td>0.163931</td>\n",
              "      <td>0.021711</td>\n",
              "      <td>0.3</td>\n",
              "      <td>50</td>\n",
              "      <td>12345</td>\n",
              "      <td>{'learning_rate': 0.3, 'num_leaves': 50, 'rand...</td>\n",
              "      <td>-1669.226025</td>\n",
              "      <td>-1670.416700</td>\n",
              "      <td>-1652.395701</td>\n",
              "      <td>-1647.415137</td>\n",
              "      <td>-1675.088772</td>\n",
              "      <td>-1662.908467</td>\n",
              "      <td>10.910605</td>\n",
              "      <td>6</td>\n",
              "    </tr>\n",
              "    <tr>\n",
              "      <th>6</th>\n",
              "      <td>1.743213</td>\n",
              "      <td>0.085917</td>\n",
              "      <td>0.176611</td>\n",
              "      <td>0.017992</td>\n",
              "      <td>0.3</td>\n",
              "      <td>100</td>\n",
              "      <td>12345</td>\n",
              "      <td>{'learning_rate': 0.3, 'num_leaves': 100, 'ran...</td>\n",
              "      <td>-1637.014168</td>\n",
              "      <td>-1640.018124</td>\n",
              "      <td>-1625.347252</td>\n",
              "      <td>-1616.176613</td>\n",
              "      <td>-1645.268258</td>\n",
              "      <td>-1632.764883</td>\n",
              "      <td>10.556441</td>\n",
              "      <td>3</td>\n",
              "    </tr>\n",
              "    <tr>\n",
              "      <th>7</th>\n",
              "      <td>1.987089</td>\n",
              "      <td>0.021612</td>\n",
              "      <td>0.195552</td>\n",
              "      <td>0.007081</td>\n",
              "      <td>0.3</td>\n",
              "      <td>200</td>\n",
              "      <td>12345</td>\n",
              "      <td>{'learning_rate': 0.3, 'num_leaves': 200, 'ran...</td>\n",
              "      <td>-1620.135494</td>\n",
              "      <td>-1620.244695</td>\n",
              "      <td>-1609.917580</td>\n",
              "      <td>-1597.626381</td>\n",
              "      <td>-1627.498564</td>\n",
              "      <td>-1615.084543</td>\n",
              "      <td>10.370459</td>\n",
              "      <td>1</td>\n",
              "    </tr>\n",
              "    <tr>\n",
              "      <th>8</th>\n",
              "      <td>1.400286</td>\n",
              "      <td>0.044600</td>\n",
              "      <td>0.166319</td>\n",
              "      <td>0.015263</td>\n",
              "      <td>0.5</td>\n",
              "      <td>25</td>\n",
              "      <td>12345</td>\n",
              "      <td>{'learning_rate': 0.5, 'num_leaves': 25, 'rand...</td>\n",
              "      <td>-1699.335884</td>\n",
              "      <td>-1703.072371</td>\n",
              "      <td>-1684.558369</td>\n",
              "      <td>-1673.838106</td>\n",
              "      <td>-1706.760989</td>\n",
              "      <td>-1693.513144</td>\n",
              "      <td>12.394222</td>\n",
              "      <td>9</td>\n",
              "    </tr>\n",
              "    <tr>\n",
              "      <th>9</th>\n",
              "      <td>1.548120</td>\n",
              "      <td>0.106271</td>\n",
              "      <td>0.169143</td>\n",
              "      <td>0.012656</td>\n",
              "      <td>0.5</td>\n",
              "      <td>50</td>\n",
              "      <td>12345</td>\n",
              "      <td>{'learning_rate': 0.5, 'num_leaves': 50, 'rand...</td>\n",
              "      <td>-1666.779124</td>\n",
              "      <td>-1671.873998</td>\n",
              "      <td>-1662.610708</td>\n",
              "      <td>-1645.152875</td>\n",
              "      <td>-1680.472731</td>\n",
              "      <td>-1665.377887</td>\n",
              "      <td>11.736487</td>\n",
              "      <td>8</td>\n",
              "    </tr>\n",
              "    <tr>\n",
              "      <th>10</th>\n",
              "      <td>1.920338</td>\n",
              "      <td>0.095194</td>\n",
              "      <td>0.215248</td>\n",
              "      <td>0.024533</td>\n",
              "      <td>0.5</td>\n",
              "      <td>100</td>\n",
              "      <td>12345</td>\n",
              "      <td>{'learning_rate': 0.5, 'num_leaves': 100, 'ran...</td>\n",
              "      <td>-1654.230775</td>\n",
              "      <td>-1652.923823</td>\n",
              "      <td>-1656.692565</td>\n",
              "      <td>-1644.134427</td>\n",
              "      <td>-1664.327028</td>\n",
              "      <td>-1654.461724</td>\n",
              "      <td>6.501883</td>\n",
              "      <td>5</td>\n",
              "    </tr>\n",
              "    <tr>\n",
              "      <th>11</th>\n",
              "      <td>2.312712</td>\n",
              "      <td>0.139056</td>\n",
              "      <td>0.212875</td>\n",
              "      <td>0.015213</td>\n",
              "      <td>0.5</td>\n",
              "      <td>200</td>\n",
              "      <td>12345</td>\n",
              "      <td>{'learning_rate': 0.5, 'num_leaves': 200, 'ran...</td>\n",
              "      <td>-1658.594889</td>\n",
              "      <td>-1666.264157</td>\n",
              "      <td>-1650.314623</td>\n",
              "      <td>-1642.218221</td>\n",
              "      <td>-1654.063522</td>\n",
              "      <td>-1654.291083</td>\n",
              "      <td>8.043572</td>\n",
              "      <td>4</td>\n",
              "    </tr>\n",
              "  </tbody>\n",
              "</table>\n",
              "</div>"
            ],
            "text/plain": [
              "    mean_fit_time  std_fit_time  mean_score_time  std_score_time  \\\n",
              "0        1.262035      0.065978         0.150473        0.004376   \n",
              "1        1.614207      0.477141         0.170900        0.044259   \n",
              "2        2.150659      0.481050         0.195228        0.041933   \n",
              "3        2.090063      0.186995         0.198382        0.027614   \n",
              "4        1.378354      0.051883         0.155243        0.014554   \n",
              "5        1.493056      0.052899         0.163931        0.021711   \n",
              "6        1.743213      0.085917         0.176611        0.017992   \n",
              "7        1.987089      0.021612         0.195552        0.007081   \n",
              "8        1.400286      0.044600         0.166319        0.015263   \n",
              "9        1.548120      0.106271         0.169143        0.012656   \n",
              "10       1.920338      0.095194         0.215248        0.024533   \n",
              "11       2.312712      0.139056         0.212875        0.015213   \n",
              "\n",
              "   param_learning_rate param_num_leaves param_random_state  \\\n",
              "0                  0.1               25              12345   \n",
              "1                  0.1               50              12345   \n",
              "2                  0.1              100              12345   \n",
              "3                  0.1              200              12345   \n",
              "4                  0.3               25              12345   \n",
              "5                  0.3               50              12345   \n",
              "6                  0.3              100              12345   \n",
              "7                  0.3              200              12345   \n",
              "8                  0.5               25              12345   \n",
              "9                  0.5               50              12345   \n",
              "10                 0.5              100              12345   \n",
              "11                 0.5              200              12345   \n",
              "\n",
              "                                               params  split0_test_score  \\\n",
              "0   {'learning_rate': 0.1, 'num_leaves': 25, 'rand...       -1781.674341   \n",
              "1   {'learning_rate': 0.1, 'num_leaves': 50, 'rand...       -1717.769334   \n",
              "2   {'learning_rate': 0.1, 'num_leaves': 100, 'ran...       -1668.227522   \n",
              "3   {'learning_rate': 0.1, 'num_leaves': 200, 'ran...       -1629.483794   \n",
              "4   {'learning_rate': 0.3, 'num_leaves': 25, 'rand...       -1711.054146   \n",
              "5   {'learning_rate': 0.3, 'num_leaves': 50, 'rand...       -1669.226025   \n",
              "6   {'learning_rate': 0.3, 'num_leaves': 100, 'ran...       -1637.014168   \n",
              "7   {'learning_rate': 0.3, 'num_leaves': 200, 'ran...       -1620.135494   \n",
              "8   {'learning_rate': 0.5, 'num_leaves': 25, 'rand...       -1699.335884   \n",
              "9   {'learning_rate': 0.5, 'num_leaves': 50, 'rand...       -1666.779124   \n",
              "10  {'learning_rate': 0.5, 'num_leaves': 100, 'ran...       -1654.230775   \n",
              "11  {'learning_rate': 0.5, 'num_leaves': 200, 'ran...       -1658.594889   \n",
              "\n",
              "    split1_test_score  split2_test_score  split3_test_score  \\\n",
              "0        -1785.125710       -1769.625584       -1766.389259   \n",
              "1        -1721.428691       -1707.240015       -1699.569536   \n",
              "2        -1667.964069       -1653.497716       -1650.152342   \n",
              "3        -1631.518978       -1619.189483       -1609.498110   \n",
              "4        -1709.033828       -1698.520428       -1696.945343   \n",
              "5        -1670.416700       -1652.395701       -1647.415137   \n",
              "6        -1640.018124       -1625.347252       -1616.176613   \n",
              "7        -1620.244695       -1609.917580       -1597.626381   \n",
              "8        -1703.072371       -1684.558369       -1673.838106   \n",
              "9        -1671.873998       -1662.610708       -1645.152875   \n",
              "10       -1652.923823       -1656.692565       -1644.134427   \n",
              "11       -1666.264157       -1650.314623       -1642.218221   \n",
              "\n",
              "    split4_test_score  mean_test_score  std_test_score  rank_test_score  \n",
              "0        -1792.082819     -1778.979543        9.620238               12  \n",
              "1        -1727.929502     -1714.787416       10.141597               11  \n",
              "2        -1680.074685     -1663.983267       10.899867                7  \n",
              "3        -1637.406580     -1625.419389        9.896625                2  \n",
              "4        -1716.011935     -1706.313136        7.381435               10  \n",
              "5        -1675.088772     -1662.908467       10.910605                6  \n",
              "6        -1645.268258     -1632.764883       10.556441                3  \n",
              "7        -1627.498564     -1615.084543       10.370459                1  \n",
              "8        -1706.760989     -1693.513144       12.394222                9  \n",
              "9        -1680.472731     -1665.377887       11.736487                8  \n",
              "10       -1664.327028     -1654.461724        6.501883                5  \n",
              "11       -1654.063522     -1654.291083        8.043572                4  "
            ]
          },
          "metadata": {},
          "output_type": "display_data"
        },
        {
          "data": {
            "text/html": [
              "<div>\n",
              "<style scoped>\n",
              "    .dataframe tbody tr th:only-of-type {\n",
              "        vertical-align: middle;\n",
              "    }\n",
              "\n",
              "    .dataframe tbody tr th {\n",
              "        vertical-align: top;\n",
              "    }\n",
              "\n",
              "    .dataframe thead th {\n",
              "        text-align: right;\n",
              "    }\n",
              "</style>\n",
              "<table border=\"1\" class=\"dataframe\">\n",
              "  <thead>\n",
              "    <tr style=\"text-align: right;\">\n",
              "      <th></th>\n",
              "      <th>mean_fit_time</th>\n",
              "      <th>std_fit_time</th>\n",
              "      <th>mean_score_time</th>\n",
              "      <th>std_score_time</th>\n",
              "      <th>param_learning_rate</th>\n",
              "      <th>param_num_leaves</th>\n",
              "      <th>param_random_state</th>\n",
              "      <th>params</th>\n",
              "      <th>split0_test_score</th>\n",
              "      <th>split1_test_score</th>\n",
              "      <th>split2_test_score</th>\n",
              "      <th>split3_test_score</th>\n",
              "      <th>split4_test_score</th>\n",
              "      <th>mean_test_score</th>\n",
              "      <th>std_test_score</th>\n",
              "      <th>rank_test_score</th>\n",
              "    </tr>\n",
              "  </thead>\n",
              "  <tbody>\n",
              "    <tr>\n",
              "      <th>7</th>\n",
              "      <td>1.987089</td>\n",
              "      <td>0.021612</td>\n",
              "      <td>0.195552</td>\n",
              "      <td>0.007081</td>\n",
              "      <td>0.3</td>\n",
              "      <td>200</td>\n",
              "      <td>12345</td>\n",
              "      <td>{'learning_rate': 0.3, 'num_leaves': 200, 'ran...</td>\n",
              "      <td>-1620.135494</td>\n",
              "      <td>-1620.244695</td>\n",
              "      <td>-1609.91758</td>\n",
              "      <td>-1597.626381</td>\n",
              "      <td>-1627.498564</td>\n",
              "      <td>-1615.084543</td>\n",
              "      <td>10.370459</td>\n",
              "      <td>1</td>\n",
              "    </tr>\n",
              "  </tbody>\n",
              "</table>\n",
              "</div>"
            ],
            "text/plain": [
              "   mean_fit_time  std_fit_time  mean_score_time  std_score_time  \\\n",
              "7       1.987089      0.021612         0.195552        0.007081   \n",
              "\n",
              "  param_learning_rate param_num_leaves param_random_state  \\\n",
              "7                 0.3              200              12345   \n",
              "\n",
              "                                              params  split0_test_score  \\\n",
              "7  {'learning_rate': 0.3, 'num_leaves': 200, 'ran...       -1620.135494   \n",
              "\n",
              "   split1_test_score  split2_test_score  split3_test_score  split4_test_score  \\\n",
              "7       -1620.244695        -1609.91758       -1597.626381       -1627.498564   \n",
              "\n",
              "   mean_test_score  std_test_score  rank_test_score  \n",
              "7     -1615.084543       10.370459                1  "
            ]
          },
          "metadata": {},
          "output_type": "display_data"
        },
        {
          "name": "stdout",
          "output_type": "stream",
          "text": [
            "Fit time:1.9870888710021972, predict time: 0.19555239677429198\n"
          ]
        }
      ],
      "source": [
        "model_lgbmr = LGBMRegressor()\n",
        "parameters = [{'num_leaves':[25, 50, 100, 200], 'learning_rate':[.1, .3, .5], 'random_state':[12345]}]\n",
        "\n",
        "gscv_lgr_ohe = GridSearchCV(model_lgbmr, parameters, scoring='neg_root_mean_squared_error')\n",
        "gscv_lgr_ohe.fit(features_train_ohe, target_train)\n",
        "\n",
        "results = pd.DataFrame(gscv_lgr_ohe.cv_results_)\n",
        "display(results)\n",
        "display(results[results['rank_test_score'] == 1])\n",
        "fit_time = results[results['rank_test_score'] == 1]['mean_fit_time'].values[0]\n",
        "predict_time = results[results['rank_test_score'] == 1]['mean_score_time'].values[0]\n",
        "print(f'Fit time:{fit_time}, predict time: {predict_time}')"
      ]
    },
    {
      "cell_type": "markdown",
      "metadata": {
        "id": "7_uyAJxlvAaG"
      },
      "source": [
        "<b> На выборках c OrdinalEncoder <b/>"
      ]
    },
    {
      "cell_type": "code",
      "execution_count": null,
      "metadata": {
        "id": "teh9qlLwvAaG",
        "outputId": "bc823dd7-9167-42b3-ddc5-3bfb1d218719"
      },
      "outputs": [
        {
          "data": {
            "text/html": [
              "<div>\n",
              "<style scoped>\n",
              "    .dataframe tbody tr th:only-of-type {\n",
              "        vertical-align: middle;\n",
              "    }\n",
              "\n",
              "    .dataframe tbody tr th {\n",
              "        vertical-align: top;\n",
              "    }\n",
              "\n",
              "    .dataframe thead th {\n",
              "        text-align: right;\n",
              "    }\n",
              "</style>\n",
              "<table border=\"1\" class=\"dataframe\">\n",
              "  <thead>\n",
              "    <tr style=\"text-align: right;\">\n",
              "      <th></th>\n",
              "      <th>mean_fit_time</th>\n",
              "      <th>std_fit_time</th>\n",
              "      <th>mean_score_time</th>\n",
              "      <th>std_score_time</th>\n",
              "      <th>param_learning_rate</th>\n",
              "      <th>param_num_leaves</th>\n",
              "      <th>param_random_state</th>\n",
              "      <th>params</th>\n",
              "      <th>split0_test_score</th>\n",
              "      <th>split1_test_score</th>\n",
              "      <th>split2_test_score</th>\n",
              "      <th>split3_test_score</th>\n",
              "      <th>split4_test_score</th>\n",
              "      <th>mean_test_score</th>\n",
              "      <th>std_test_score</th>\n",
              "      <th>rank_test_score</th>\n",
              "    </tr>\n",
              "  </thead>\n",
              "  <tbody>\n",
              "    <tr>\n",
              "      <th>0</th>\n",
              "      <td>0.429834</td>\n",
              "      <td>0.012287</td>\n",
              "      <td>0.053516</td>\n",
              "      <td>0.004723</td>\n",
              "      <td>0.1</td>\n",
              "      <td>25</td>\n",
              "      <td>12345</td>\n",
              "      <td>{'learning_rate': 0.1, 'num_leaves': 25, 'rand...</td>\n",
              "      <td>-1794.867267</td>\n",
              "      <td>-1793.353132</td>\n",
              "      <td>-1784.978024</td>\n",
              "      <td>-1780.377513</td>\n",
              "      <td>-1811.681969</td>\n",
              "      <td>-1793.051581</td>\n",
              "      <td>10.735859</td>\n",
              "      <td>12</td>\n",
              "    </tr>\n",
              "    <tr>\n",
              "      <th>1</th>\n",
              "      <td>0.639409</td>\n",
              "      <td>0.103880</td>\n",
              "      <td>0.069222</td>\n",
              "      <td>0.011252</td>\n",
              "      <td>0.1</td>\n",
              "      <td>50</td>\n",
              "      <td>12345</td>\n",
              "      <td>{'learning_rate': 0.1, 'num_leaves': 50, 'rand...</td>\n",
              "      <td>-1734.987346</td>\n",
              "      <td>-1730.901654</td>\n",
              "      <td>-1724.602808</td>\n",
              "      <td>-1711.406523</td>\n",
              "      <td>-1743.675868</td>\n",
              "      <td>-1729.114840</td>\n",
              "      <td>10.804124</td>\n",
              "      <td>11</td>\n",
              "    </tr>\n",
              "    <tr>\n",
              "      <th>2</th>\n",
              "      <td>0.728726</td>\n",
              "      <td>0.101433</td>\n",
              "      <td>0.073121</td>\n",
              "      <td>0.011507</td>\n",
              "      <td>0.1</td>\n",
              "      <td>100</td>\n",
              "      <td>12345</td>\n",
              "      <td>{'learning_rate': 0.1, 'num_leaves': 100, 'ran...</td>\n",
              "      <td>-1684.355349</td>\n",
              "      <td>-1678.903851</td>\n",
              "      <td>-1668.254334</td>\n",
              "      <td>-1662.515367</td>\n",
              "      <td>-1691.023909</td>\n",
              "      <td>-1677.010562</td>\n",
              "      <td>10.398909</td>\n",
              "      <td>7</td>\n",
              "    </tr>\n",
              "    <tr>\n",
              "      <th>3</th>\n",
              "      <td>0.916850</td>\n",
              "      <td>0.007857</td>\n",
              "      <td>0.081725</td>\n",
              "      <td>0.001327</td>\n",
              "      <td>0.1</td>\n",
              "      <td>200</td>\n",
              "      <td>12345</td>\n",
              "      <td>{'learning_rate': 0.1, 'num_leaves': 200, 'ran...</td>\n",
              "      <td>-1644.383851</td>\n",
              "      <td>-1635.097145</td>\n",
              "      <td>-1630.962427</td>\n",
              "      <td>-1621.242070</td>\n",
              "      <td>-1647.309094</td>\n",
              "      <td>-1635.798917</td>\n",
              "      <td>9.401821</td>\n",
              "      <td>2</td>\n",
              "    </tr>\n",
              "    <tr>\n",
              "      <th>4</th>\n",
              "      <td>0.380222</td>\n",
              "      <td>0.032858</td>\n",
              "      <td>0.036913</td>\n",
              "      <td>0.001020</td>\n",
              "      <td>0.3</td>\n",
              "      <td>25</td>\n",
              "      <td>12345</td>\n",
              "      <td>{'learning_rate': 0.3, 'num_leaves': 25, 'rand...</td>\n",
              "      <td>-1714.454438</td>\n",
              "      <td>-1706.387587</td>\n",
              "      <td>-1708.724594</td>\n",
              "      <td>-1694.855342</td>\n",
              "      <td>-1727.893095</td>\n",
              "      <td>-1710.463011</td>\n",
              "      <td>10.797869</td>\n",
              "      <td>10</td>\n",
              "    </tr>\n",
              "    <tr>\n",
              "      <th>5</th>\n",
              "      <td>0.435247</td>\n",
              "      <td>0.011966</td>\n",
              "      <td>0.040297</td>\n",
              "      <td>0.000488</td>\n",
              "      <td>0.3</td>\n",
              "      <td>50</td>\n",
              "      <td>12345</td>\n",
              "      <td>{'learning_rate': 0.3, 'num_leaves': 50, 'rand...</td>\n",
              "      <td>-1676.670754</td>\n",
              "      <td>-1667.991576</td>\n",
              "      <td>-1668.977080</td>\n",
              "      <td>-1655.611179</td>\n",
              "      <td>-1688.570162</td>\n",
              "      <td>-1671.564150</td>\n",
              "      <td>10.855739</td>\n",
              "      <td>6</td>\n",
              "    </tr>\n",
              "    <tr>\n",
              "      <th>6</th>\n",
              "      <td>0.732577</td>\n",
              "      <td>0.017080</td>\n",
              "      <td>0.058017</td>\n",
              "      <td>0.010179</td>\n",
              "      <td>0.3</td>\n",
              "      <td>100</td>\n",
              "      <td>12345</td>\n",
              "      <td>{'learning_rate': 0.3, 'num_leaves': 100, 'ran...</td>\n",
              "      <td>-1649.147116</td>\n",
              "      <td>-1642.775227</td>\n",
              "      <td>-1640.637368</td>\n",
              "      <td>-1628.066408</td>\n",
              "      <td>-1659.147132</td>\n",
              "      <td>-1643.954650</td>\n",
              "      <td>10.223550</td>\n",
              "      <td>3</td>\n",
              "    </tr>\n",
              "    <tr>\n",
              "      <th>7</th>\n",
              "      <td>0.791808</td>\n",
              "      <td>0.023473</td>\n",
              "      <td>0.058520</td>\n",
              "      <td>0.001051</td>\n",
              "      <td>0.3</td>\n",
              "      <td>200</td>\n",
              "      <td>12345</td>\n",
              "      <td>{'learning_rate': 0.3, 'num_leaves': 200, 'ran...</td>\n",
              "      <td>-1632.274590</td>\n",
              "      <td>-1621.839788</td>\n",
              "      <td>-1624.359185</td>\n",
              "      <td>-1607.597087</td>\n",
              "      <td>-1643.442197</td>\n",
              "      <td>-1625.902569</td>\n",
              "      <td>11.850908</td>\n",
              "      <td>1</td>\n",
              "    </tr>\n",
              "    <tr>\n",
              "      <th>8</th>\n",
              "      <td>0.345461</td>\n",
              "      <td>0.003273</td>\n",
              "      <td>0.035311</td>\n",
              "      <td>0.004378</td>\n",
              "      <td>0.5</td>\n",
              "      <td>25</td>\n",
              "      <td>12345</td>\n",
              "      <td>{'learning_rate': 0.5, 'num_leaves': 25, 'rand...</td>\n",
              "      <td>-1716.438489</td>\n",
              "      <td>-1699.148711</td>\n",
              "      <td>-1702.873383</td>\n",
              "      <td>-1687.395561</td>\n",
              "      <td>-1716.745915</td>\n",
              "      <td>-1704.520412</td>\n",
              "      <td>11.102539</td>\n",
              "      <td>9</td>\n",
              "    </tr>\n",
              "    <tr>\n",
              "      <th>9</th>\n",
              "      <td>0.431524</td>\n",
              "      <td>0.035546</td>\n",
              "      <td>0.036635</td>\n",
              "      <td>0.001362</td>\n",
              "      <td>0.5</td>\n",
              "      <td>50</td>\n",
              "      <td>12345</td>\n",
              "      <td>{'learning_rate': 0.5, 'num_leaves': 50, 'rand...</td>\n",
              "      <td>-1685.726383</td>\n",
              "      <td>-1678.151465</td>\n",
              "      <td>-1675.646963</td>\n",
              "      <td>-1664.210551</td>\n",
              "      <td>-1684.473869</td>\n",
              "      <td>-1677.641846</td>\n",
              "      <td>7.702925</td>\n",
              "      <td>8</td>\n",
              "    </tr>\n",
              "    <tr>\n",
              "      <th>10</th>\n",
              "      <td>0.521493</td>\n",
              "      <td>0.005115</td>\n",
              "      <td>0.043012</td>\n",
              "      <td>0.001049</td>\n",
              "      <td>0.5</td>\n",
              "      <td>100</td>\n",
              "      <td>12345</td>\n",
              "      <td>{'learning_rate': 0.5, 'num_leaves': 100, 'ran...</td>\n",
              "      <td>-1670.210472</td>\n",
              "      <td>-1672.521159</td>\n",
              "      <td>-1663.278653</td>\n",
              "      <td>-1652.060578</td>\n",
              "      <td>-1685.666035</td>\n",
              "      <td>-1668.747379</td>\n",
              "      <td>11.054223</td>\n",
              "      <td>4</td>\n",
              "    </tr>\n",
              "    <tr>\n",
              "      <th>11</th>\n",
              "      <td>0.939647</td>\n",
              "      <td>0.074395</td>\n",
              "      <td>0.064494</td>\n",
              "      <td>0.010684</td>\n",
              "      <td>0.5</td>\n",
              "      <td>200</td>\n",
              "      <td>12345</td>\n",
              "      <td>{'learning_rate': 0.5, 'num_leaves': 200, 'ran...</td>\n",
              "      <td>-1677.378005</td>\n",
              "      <td>-1666.508627</td>\n",
              "      <td>-1670.480259</td>\n",
              "      <td>-1659.771309</td>\n",
              "      <td>-1673.780771</td>\n",
              "      <td>-1669.583794</td>\n",
              "      <td>6.081275</td>\n",
              "      <td>5</td>\n",
              "    </tr>\n",
              "  </tbody>\n",
              "</table>\n",
              "</div>"
            ],
            "text/plain": [
              "    mean_fit_time  std_fit_time  mean_score_time  std_score_time  \\\n",
              "0        0.429834      0.012287         0.053516        0.004723   \n",
              "1        0.639409      0.103880         0.069222        0.011252   \n",
              "2        0.728726      0.101433         0.073121        0.011507   \n",
              "3        0.916850      0.007857         0.081725        0.001327   \n",
              "4        0.380222      0.032858         0.036913        0.001020   \n",
              "5        0.435247      0.011966         0.040297        0.000488   \n",
              "6        0.732577      0.017080         0.058017        0.010179   \n",
              "7        0.791808      0.023473         0.058520        0.001051   \n",
              "8        0.345461      0.003273         0.035311        0.004378   \n",
              "9        0.431524      0.035546         0.036635        0.001362   \n",
              "10       0.521493      0.005115         0.043012        0.001049   \n",
              "11       0.939647      0.074395         0.064494        0.010684   \n",
              "\n",
              "   param_learning_rate param_num_leaves param_random_state  \\\n",
              "0                  0.1               25              12345   \n",
              "1                  0.1               50              12345   \n",
              "2                  0.1              100              12345   \n",
              "3                  0.1              200              12345   \n",
              "4                  0.3               25              12345   \n",
              "5                  0.3               50              12345   \n",
              "6                  0.3              100              12345   \n",
              "7                  0.3              200              12345   \n",
              "8                  0.5               25              12345   \n",
              "9                  0.5               50              12345   \n",
              "10                 0.5              100              12345   \n",
              "11                 0.5              200              12345   \n",
              "\n",
              "                                               params  split0_test_score  \\\n",
              "0   {'learning_rate': 0.1, 'num_leaves': 25, 'rand...       -1794.867267   \n",
              "1   {'learning_rate': 0.1, 'num_leaves': 50, 'rand...       -1734.987346   \n",
              "2   {'learning_rate': 0.1, 'num_leaves': 100, 'ran...       -1684.355349   \n",
              "3   {'learning_rate': 0.1, 'num_leaves': 200, 'ran...       -1644.383851   \n",
              "4   {'learning_rate': 0.3, 'num_leaves': 25, 'rand...       -1714.454438   \n",
              "5   {'learning_rate': 0.3, 'num_leaves': 50, 'rand...       -1676.670754   \n",
              "6   {'learning_rate': 0.3, 'num_leaves': 100, 'ran...       -1649.147116   \n",
              "7   {'learning_rate': 0.3, 'num_leaves': 200, 'ran...       -1632.274590   \n",
              "8   {'learning_rate': 0.5, 'num_leaves': 25, 'rand...       -1716.438489   \n",
              "9   {'learning_rate': 0.5, 'num_leaves': 50, 'rand...       -1685.726383   \n",
              "10  {'learning_rate': 0.5, 'num_leaves': 100, 'ran...       -1670.210472   \n",
              "11  {'learning_rate': 0.5, 'num_leaves': 200, 'ran...       -1677.378005   \n",
              "\n",
              "    split1_test_score  split2_test_score  split3_test_score  \\\n",
              "0        -1793.353132       -1784.978024       -1780.377513   \n",
              "1        -1730.901654       -1724.602808       -1711.406523   \n",
              "2        -1678.903851       -1668.254334       -1662.515367   \n",
              "3        -1635.097145       -1630.962427       -1621.242070   \n",
              "4        -1706.387587       -1708.724594       -1694.855342   \n",
              "5        -1667.991576       -1668.977080       -1655.611179   \n",
              "6        -1642.775227       -1640.637368       -1628.066408   \n",
              "7        -1621.839788       -1624.359185       -1607.597087   \n",
              "8        -1699.148711       -1702.873383       -1687.395561   \n",
              "9        -1678.151465       -1675.646963       -1664.210551   \n",
              "10       -1672.521159       -1663.278653       -1652.060578   \n",
              "11       -1666.508627       -1670.480259       -1659.771309   \n",
              "\n",
              "    split4_test_score  mean_test_score  std_test_score  rank_test_score  \n",
              "0        -1811.681969     -1793.051581       10.735859               12  \n",
              "1        -1743.675868     -1729.114840       10.804124               11  \n",
              "2        -1691.023909     -1677.010562       10.398909                7  \n",
              "3        -1647.309094     -1635.798917        9.401821                2  \n",
              "4        -1727.893095     -1710.463011       10.797869               10  \n",
              "5        -1688.570162     -1671.564150       10.855739                6  \n",
              "6        -1659.147132     -1643.954650       10.223550                3  \n",
              "7        -1643.442197     -1625.902569       11.850908                1  \n",
              "8        -1716.745915     -1704.520412       11.102539                9  \n",
              "9        -1684.473869     -1677.641846        7.702925                8  \n",
              "10       -1685.666035     -1668.747379       11.054223                4  \n",
              "11       -1673.780771     -1669.583794        6.081275                5  "
            ]
          },
          "metadata": {},
          "output_type": "display_data"
        },
        {
          "data": {
            "text/html": [
              "<div>\n",
              "<style scoped>\n",
              "    .dataframe tbody tr th:only-of-type {\n",
              "        vertical-align: middle;\n",
              "    }\n",
              "\n",
              "    .dataframe tbody tr th {\n",
              "        vertical-align: top;\n",
              "    }\n",
              "\n",
              "    .dataframe thead th {\n",
              "        text-align: right;\n",
              "    }\n",
              "</style>\n",
              "<table border=\"1\" class=\"dataframe\">\n",
              "  <thead>\n",
              "    <tr style=\"text-align: right;\">\n",
              "      <th></th>\n",
              "      <th>mean_fit_time</th>\n",
              "      <th>std_fit_time</th>\n",
              "      <th>mean_score_time</th>\n",
              "      <th>std_score_time</th>\n",
              "      <th>param_learning_rate</th>\n",
              "      <th>param_num_leaves</th>\n",
              "      <th>param_random_state</th>\n",
              "      <th>params</th>\n",
              "      <th>split0_test_score</th>\n",
              "      <th>split1_test_score</th>\n",
              "      <th>split2_test_score</th>\n",
              "      <th>split3_test_score</th>\n",
              "      <th>split4_test_score</th>\n",
              "      <th>mean_test_score</th>\n",
              "      <th>std_test_score</th>\n",
              "      <th>rank_test_score</th>\n",
              "    </tr>\n",
              "  </thead>\n",
              "  <tbody>\n",
              "    <tr>\n",
              "      <th>7</th>\n",
              "      <td>0.791808</td>\n",
              "      <td>0.023473</td>\n",
              "      <td>0.05852</td>\n",
              "      <td>0.001051</td>\n",
              "      <td>0.3</td>\n",
              "      <td>200</td>\n",
              "      <td>12345</td>\n",
              "      <td>{'learning_rate': 0.3, 'num_leaves': 200, 'ran...</td>\n",
              "      <td>-1632.27459</td>\n",
              "      <td>-1621.839788</td>\n",
              "      <td>-1624.359185</td>\n",
              "      <td>-1607.597087</td>\n",
              "      <td>-1643.442197</td>\n",
              "      <td>-1625.902569</td>\n",
              "      <td>11.850908</td>\n",
              "      <td>1</td>\n",
              "    </tr>\n",
              "  </tbody>\n",
              "</table>\n",
              "</div>"
            ],
            "text/plain": [
              "   mean_fit_time  std_fit_time  mean_score_time  std_score_time  \\\n",
              "7       0.791808      0.023473          0.05852        0.001051   \n",
              "\n",
              "  param_learning_rate param_num_leaves param_random_state  \\\n",
              "7                 0.3              200              12345   \n",
              "\n",
              "                                              params  split0_test_score  \\\n",
              "7  {'learning_rate': 0.3, 'num_leaves': 200, 'ran...        -1632.27459   \n",
              "\n",
              "   split1_test_score  split2_test_score  split3_test_score  split4_test_score  \\\n",
              "7       -1621.839788       -1624.359185       -1607.597087       -1643.442197   \n",
              "\n",
              "   mean_test_score  std_test_score  rank_test_score  \n",
              "7     -1625.902569       11.850908                1  "
            ]
          },
          "metadata": {},
          "output_type": "display_data"
        },
        {
          "name": "stdout",
          "output_type": "stream",
          "text": [
            "Fit time:0.791808032989502, predict time: 0.05851979255676269\n"
          ]
        }
      ],
      "source": [
        "model_lgbmr = LGBMRegressor()\n",
        "parameters = [{'num_leaves':[25, 50, 100, 200], 'learning_rate':[.1, .3, .5], 'random_state':[12345]}]\n",
        "\n",
        "gscv_lgr_oe = GridSearchCV(model_lgbmr, parameters, scoring='neg_root_mean_squared_error')\n",
        "gscv_lgr_oe.fit(features_train_oe, target_train)\n",
        "\n",
        "results = pd.DataFrame(gscv_lgr_oe.cv_results_)\n",
        "display(results)\n",
        "display(results[results['rank_test_score'] == 1])\n",
        "fit_time = results[results['rank_test_score'] == 1]['mean_fit_time'].values[0]\n",
        "predict_time = results[results['rank_test_score'] == 1]['mean_score_time'].values[0]\n",
        "print(f'Fit time:{fit_time}, predict time: {predict_time}')"
      ]
    },
    {
      "cell_type": "markdown",
      "metadata": {
        "id": "R0vM9zU4vAaG"
      },
      "source": [
        "### Ridge регрессия"
      ]
    },
    {
      "cell_type": "markdown",
      "metadata": {
        "id": "3GSH0yocvAaG"
      },
      "source": [
        "<b> На выборках c OneHotEncoder <b/>"
      ]
    },
    {
      "cell_type": "code",
      "execution_count": null,
      "metadata": {
        "id": "olXhgJMdvAaH",
        "outputId": "b89c156a-583c-4d50-b761-99d9eab6b409"
      },
      "outputs": [
        {
          "name": "stdout",
          "output_type": "stream",
          "text": [
            "<class 'pandas.core.frame.DataFrame'>\n",
            "Int64Index: 341941 entries, 0 to 354368\n",
            "Data columns (total 11 columns):\n",
            " #   Column             Non-Null Count   Dtype \n",
            "---  ------             --------------   ----- \n",
            " 0   Price              341941 non-null  int64 \n",
            " 1   VehicleType        341941 non-null  object\n",
            " 2   RegistrationYear   341941 non-null  int64 \n",
            " 3   Gearbox            341941 non-null  object\n",
            " 4   Power              341941 non-null  int64 \n",
            " 5   Model              341941 non-null  object\n",
            " 6   Kilometer          341941 non-null  int64 \n",
            " 7   RegistrationMonth  341941 non-null  int64 \n",
            " 8   FuelType           341941 non-null  object\n",
            " 9   Brand              341941 non-null  object\n",
            " 10  Repaired           341941 non-null  object\n",
            "dtypes: int64(5), object(6)\n",
            "memory usage: 31.3+ MB\n"
          ]
        }
      ],
      "source": [
        "data.info()"
      ]
    },
    {
      "cell_type": "markdown",
      "source": [
        "Категориальные признаки для OHE Ridge"
      ],
      "metadata": {
        "id": "EgYFtwffzuAz"
      }
    },
    {
      "cell_type": "code",
      "execution_count": null,
      "metadata": {
        "id": "kuL1j2eZvAaH",
        "outputId": "fe4c5a85-b422-4f3a-d0df-1c9570ce2931"
      },
      "outputs": [
        {
          "name": "stdout",
          "output_type": "stream",
          "text": [
            "['VehicleType', 'Gearbox', 'Model', 'FuelType', 'Brand', 'Repaired']\n"
          ]
        }
      ],
      "source": [
        "ohe_features_ridge = features_train.select_dtypes(include='object').columns.to_list()\n",
        "print(ohe_features_ridge)"
      ]
    },
    {
      "cell_type": "code",
      "execution_count": null,
      "metadata": {
        "id": "nlmgtLz0vAaH",
        "outputId": "b7a8758f-65bd-4432-851c-d6f74745422c"
      },
      "outputs": [
        {
          "data": {
            "text/html": [
              "<div>\n",
              "<style scoped>\n",
              "    .dataframe tbody tr th:only-of-type {\n",
              "        vertical-align: middle;\n",
              "    }\n",
              "\n",
              "    .dataframe tbody tr th {\n",
              "        vertical-align: top;\n",
              "    }\n",
              "\n",
              "    .dataframe thead th {\n",
              "        text-align: right;\n",
              "    }\n",
              "</style>\n",
              "<table border=\"1\" class=\"dataframe\">\n",
              "  <thead>\n",
              "    <tr style=\"text-align: right;\">\n",
              "      <th></th>\n",
              "      <th>VehicleType</th>\n",
              "      <th>RegistrationYear</th>\n",
              "      <th>Gearbox</th>\n",
              "      <th>Power</th>\n",
              "      <th>Model</th>\n",
              "      <th>Kilometer</th>\n",
              "      <th>RegistrationMonth</th>\n",
              "      <th>FuelType</th>\n",
              "      <th>Brand</th>\n",
              "      <th>Repaired</th>\n",
              "    </tr>\n",
              "  </thead>\n",
              "  <tbody>\n",
              "    <tr>\n",
              "      <th>201585</th>\n",
              "      <td>convertible</td>\n",
              "      <td>1997</td>\n",
              "      <td>manual</td>\n",
              "      <td>90</td>\n",
              "      <td>other</td>\n",
              "      <td>125000</td>\n",
              "      <td>4</td>\n",
              "      <td>petrol</td>\n",
              "      <td>toyota</td>\n",
              "      <td>no</td>\n",
              "    </tr>\n",
              "    <tr>\n",
              "      <th>205139</th>\n",
              "      <td>bus</td>\n",
              "      <td>2006</td>\n",
              "      <td>manual</td>\n",
              "      <td>102</td>\n",
              "      <td>altea</td>\n",
              "      <td>125000</td>\n",
              "      <td>10</td>\n",
              "      <td>petrol</td>\n",
              "      <td>seat</td>\n",
              "      <td>yes</td>\n",
              "    </tr>\n",
              "    <tr>\n",
              "      <th>194998</th>\n",
              "      <td>small</td>\n",
              "      <td>2016</td>\n",
              "      <td>manual</td>\n",
              "      <td>105</td>\n",
              "      <td>ibiza</td>\n",
              "      <td>70000</td>\n",
              "      <td>2</td>\n",
              "      <td>petrol</td>\n",
              "      <td>seat</td>\n",
              "      <td>no</td>\n",
              "    </tr>\n",
              "    <tr>\n",
              "      <th>181020</th>\n",
              "      <td>wagon</td>\n",
              "      <td>2009</td>\n",
              "      <td>auto</td>\n",
              "      <td>292</td>\n",
              "      <td>e_klasse</td>\n",
              "      <td>150000</td>\n",
              "      <td>2</td>\n",
              "      <td>petrol</td>\n",
              "      <td>mercedes_benz</td>\n",
              "      <td>no</td>\n",
              "    </tr>\n",
              "    <tr>\n",
              "      <th>292576</th>\n",
              "      <td>small</td>\n",
              "      <td>2000</td>\n",
              "      <td>manual</td>\n",
              "      <td>75</td>\n",
              "      <td>no</td>\n",
              "      <td>150000</td>\n",
              "      <td>1</td>\n",
              "      <td>petrol</td>\n",
              "      <td>peugeot</td>\n",
              "      <td>no</td>\n",
              "    </tr>\n",
              "    <tr>\n",
              "      <th>278022</th>\n",
              "      <td>sedan</td>\n",
              "      <td>2000</td>\n",
              "      <td>auto</td>\n",
              "      <td>143</td>\n",
              "      <td>c_klasse</td>\n",
              "      <td>150000</td>\n",
              "      <td>11</td>\n",
              "      <td>gasoline</td>\n",
              "      <td>mercedes_benz</td>\n",
              "      <td>no</td>\n",
              "    </tr>\n",
              "    <tr>\n",
              "      <th>337662</th>\n",
              "      <td>convertible</td>\n",
              "      <td>1998</td>\n",
              "      <td>manual</td>\n",
              "      <td>75</td>\n",
              "      <td>astra</td>\n",
              "      <td>150000</td>\n",
              "      <td>12</td>\n",
              "      <td>petrol</td>\n",
              "      <td>opel</td>\n",
              "      <td>no</td>\n",
              "    </tr>\n",
              "    <tr>\n",
              "      <th>287779</th>\n",
              "      <td>small</td>\n",
              "      <td>2009</td>\n",
              "      <td>auto</td>\n",
              "      <td>77</td>\n",
              "      <td>i_reihe</td>\n",
              "      <td>30000</td>\n",
              "      <td>3</td>\n",
              "      <td>petrol</td>\n",
              "      <td>hyundai</td>\n",
              "      <td>no</td>\n",
              "    </tr>\n",
              "    <tr>\n",
              "      <th>93510</th>\n",
              "      <td>convertible</td>\n",
              "      <td>1996</td>\n",
              "      <td>manual</td>\n",
              "      <td>118</td>\n",
              "      <td>z_reihe</td>\n",
              "      <td>150000</td>\n",
              "      <td>6</td>\n",
              "      <td>petrol</td>\n",
              "      <td>bmw</td>\n",
              "      <td>no</td>\n",
              "    </tr>\n",
              "    <tr>\n",
              "      <th>347240</th>\n",
              "      <td>wagon</td>\n",
              "      <td>2008</td>\n",
              "      <td>manual</td>\n",
              "      <td>140</td>\n",
              "      <td>passat</td>\n",
              "      <td>150000</td>\n",
              "      <td>9</td>\n",
              "      <td>gasoline</td>\n",
              "      <td>volkswagen</td>\n",
              "      <td>no</td>\n",
              "    </tr>\n",
              "  </tbody>\n",
              "</table>\n",
              "</div>"
            ],
            "text/plain": [
              "        VehicleType  RegistrationYear Gearbox  Power     Model  Kilometer  \\\n",
              "201585  convertible              1997  manual     90     other     125000   \n",
              "205139          bus              2006  manual    102     altea     125000   \n",
              "194998        small              2016  manual    105     ibiza      70000   \n",
              "181020        wagon              2009    auto    292  e_klasse     150000   \n",
              "292576        small              2000  manual     75        no     150000   \n",
              "278022        sedan              2000    auto    143  c_klasse     150000   \n",
              "337662  convertible              1998  manual     75     astra     150000   \n",
              "287779        small              2009    auto     77   i_reihe      30000   \n",
              "93510   convertible              1996  manual    118   z_reihe     150000   \n",
              "347240        wagon              2008  manual    140    passat     150000   \n",
              "\n",
              "        RegistrationMonth  FuelType          Brand Repaired  \n",
              "201585                  4    petrol         toyota       no  \n",
              "205139                 10    petrol           seat      yes  \n",
              "194998                  2    petrol           seat       no  \n",
              "181020                  2    petrol  mercedes_benz       no  \n",
              "292576                  1    petrol        peugeot       no  \n",
              "278022                 11  gasoline  mercedes_benz       no  \n",
              "337662                 12    petrol           opel       no  \n",
              "287779                  3    petrol        hyundai       no  \n",
              "93510                   6    petrol            bmw       no  \n",
              "347240                  9  gasoline     volkswagen       no  "
            ]
          },
          "execution_count": 37,
          "metadata": {},
          "output_type": "execute_result"
        }
      ],
      "source": [
        "features_train.head(10)"
      ]
    },
    {
      "cell_type": "markdown",
      "source": [
        "Численные признаки"
      ],
      "metadata": {
        "id": "9aVZXHSCzyEK"
      }
    },
    {
      "cell_type": "code",
      "execution_count": null,
      "metadata": {
        "id": "JjGXRE_CvAaH",
        "outputId": "635017e4-8b30-4b82-f0ae-d10ea2bcbec4"
      },
      "outputs": [
        {
          "data": {
            "text/plain": [
              "['RegistrationYear', 'Power', 'Kilometer', 'RegistrationMonth']"
            ]
          },
          "execution_count": 38,
          "metadata": {},
          "output_type": "execute_result"
        }
      ],
      "source": [
        "num_features = features_train.select_dtypes(exclude='object').columns.to_list()\n",
        "num_features"
      ]
    },
    {
      "cell_type": "code",
      "execution_count": null,
      "metadata": {
        "id": "qBiVsEj6vAaH"
      },
      "outputs": [],
      "source": [
        "features_train_ridge = features_train.copy()\n",
        "features_test_ridge = features_test.copy()"
      ]
    },
    {
      "cell_type": "code",
      "execution_count": null,
      "metadata": {
        "id": "I5jnx_wdvAaH",
        "outputId": "3d54c40b-0ff6-44e7-9069-da7c0d9c1eca"
      },
      "outputs": [
        {
          "data": {
            "text/html": [
              "<div>\n",
              "<style scoped>\n",
              "    .dataframe tbody tr th:only-of-type {\n",
              "        vertical-align: middle;\n",
              "    }\n",
              "\n",
              "    .dataframe tbody tr th {\n",
              "        vertical-align: top;\n",
              "    }\n",
              "\n",
              "    .dataframe thead th {\n",
              "        text-align: right;\n",
              "    }\n",
              "</style>\n",
              "<table border=\"1\" class=\"dataframe\">\n",
              "  <thead>\n",
              "    <tr style=\"text-align: right;\">\n",
              "      <th></th>\n",
              "      <th>RegistrationYear</th>\n",
              "      <th>Power</th>\n",
              "      <th>Kilometer</th>\n",
              "      <th>RegistrationMonth</th>\n",
              "      <th>VehicleType_convertible</th>\n",
              "      <th>VehicleType_coupe</th>\n",
              "      <th>VehicleType_other</th>\n",
              "      <th>VehicleType_sedan</th>\n",
              "      <th>VehicleType_small</th>\n",
              "      <th>VehicleType_suv</th>\n",
              "      <th>...</th>\n",
              "      <th>Brand_skoda</th>\n",
              "      <th>Brand_smart</th>\n",
              "      <th>Brand_sonstige_autos</th>\n",
              "      <th>Brand_subaru</th>\n",
              "      <th>Brand_suzuki</th>\n",
              "      <th>Brand_toyota</th>\n",
              "      <th>Brand_trabant</th>\n",
              "      <th>Brand_volkswagen</th>\n",
              "      <th>Brand_volvo</th>\n",
              "      <th>Repaired_yes</th>\n",
              "    </tr>\n",
              "  </thead>\n",
              "  <tbody>\n",
              "    <tr>\n",
              "      <th>201585</th>\n",
              "      <td>-0.849586</td>\n",
              "      <td>-0.233231</td>\n",
              "      <td>-0.091922</td>\n",
              "      <td>-0.530448</td>\n",
              "      <td>1.0</td>\n",
              "      <td>0.0</td>\n",
              "      <td>0.0</td>\n",
              "      <td>0.0</td>\n",
              "      <td>0.0</td>\n",
              "      <td>0.0</td>\n",
              "      <td>...</td>\n",
              "      <td>0.0</td>\n",
              "      <td>0.0</td>\n",
              "      <td>0.0</td>\n",
              "      <td>0.0</td>\n",
              "      <td>0.0</td>\n",
              "      <td>1.0</td>\n",
              "      <td>0.0</td>\n",
              "      <td>0.0</td>\n",
              "      <td>0.0</td>\n",
              "      <td>0.0</td>\n",
              "    </tr>\n",
              "    <tr>\n",
              "      <th>205139</th>\n",
              "      <td>0.393576</td>\n",
              "      <td>-0.099330</td>\n",
              "      <td>-0.091922</td>\n",
              "      <td>1.156964</td>\n",
              "      <td>0.0</td>\n",
              "      <td>0.0</td>\n",
              "      <td>0.0</td>\n",
              "      <td>0.0</td>\n",
              "      <td>0.0</td>\n",
              "      <td>0.0</td>\n",
              "      <td>...</td>\n",
              "      <td>0.0</td>\n",
              "      <td>0.0</td>\n",
              "      <td>0.0</td>\n",
              "      <td>0.0</td>\n",
              "      <td>0.0</td>\n",
              "      <td>0.0</td>\n",
              "      <td>0.0</td>\n",
              "      <td>0.0</td>\n",
              "      <td>0.0</td>\n",
              "      <td>1.0</td>\n",
              "    </tr>\n",
              "    <tr>\n",
              "      <th>194998</th>\n",
              "      <td>1.774866</td>\n",
              "      <td>-0.065855</td>\n",
              "      <td>-1.564328</td>\n",
              "      <td>-1.092918</td>\n",
              "      <td>0.0</td>\n",
              "      <td>0.0</td>\n",
              "      <td>0.0</td>\n",
              "      <td>0.0</td>\n",
              "      <td>1.0</td>\n",
              "      <td>0.0</td>\n",
              "      <td>...</td>\n",
              "      <td>0.0</td>\n",
              "      <td>0.0</td>\n",
              "      <td>0.0</td>\n",
              "      <td>0.0</td>\n",
              "      <td>0.0</td>\n",
              "      <td>0.0</td>\n",
              "      <td>0.0</td>\n",
              "      <td>0.0</td>\n",
              "      <td>0.0</td>\n",
              "      <td>0.0</td>\n",
              "    </tr>\n",
              "    <tr>\n",
              "      <th>181020</th>\n",
              "      <td>0.807963</td>\n",
              "      <td>2.020764</td>\n",
              "      <td>0.577354</td>\n",
              "      <td>-1.092918</td>\n",
              "      <td>0.0</td>\n",
              "      <td>0.0</td>\n",
              "      <td>0.0</td>\n",
              "      <td>0.0</td>\n",
              "      <td>0.0</td>\n",
              "      <td>0.0</td>\n",
              "      <td>...</td>\n",
              "      <td>0.0</td>\n",
              "      <td>0.0</td>\n",
              "      <td>0.0</td>\n",
              "      <td>0.0</td>\n",
              "      <td>0.0</td>\n",
              "      <td>0.0</td>\n",
              "      <td>0.0</td>\n",
              "      <td>0.0</td>\n",
              "      <td>0.0</td>\n",
              "      <td>0.0</td>\n",
              "    </tr>\n",
              "    <tr>\n",
              "      <th>292576</th>\n",
              "      <td>-0.435198</td>\n",
              "      <td>-0.400607</td>\n",
              "      <td>0.577354</td>\n",
              "      <td>-1.374154</td>\n",
              "      <td>0.0</td>\n",
              "      <td>0.0</td>\n",
              "      <td>0.0</td>\n",
              "      <td>0.0</td>\n",
              "      <td>1.0</td>\n",
              "      <td>0.0</td>\n",
              "      <td>...</td>\n",
              "      <td>0.0</td>\n",
              "      <td>0.0</td>\n",
              "      <td>0.0</td>\n",
              "      <td>0.0</td>\n",
              "      <td>0.0</td>\n",
              "      <td>0.0</td>\n",
              "      <td>0.0</td>\n",
              "      <td>0.0</td>\n",
              "      <td>0.0</td>\n",
              "      <td>0.0</td>\n",
              "    </tr>\n",
              "  </tbody>\n",
              "</table>\n",
              "<p>5 rows × 308 columns</p>\n",
              "</div>"
            ],
            "text/plain": [
              "        RegistrationYear     Power  Kilometer  RegistrationMonth  \\\n",
              "201585         -0.849586 -0.233231  -0.091922          -0.530448   \n",
              "205139          0.393576 -0.099330  -0.091922           1.156964   \n",
              "194998          1.774866 -0.065855  -1.564328          -1.092918   \n",
              "181020          0.807963  2.020764   0.577354          -1.092918   \n",
              "292576         -0.435198 -0.400607   0.577354          -1.374154   \n",
              "\n",
              "        VehicleType_convertible  VehicleType_coupe  VehicleType_other  \\\n",
              "201585                      1.0                0.0                0.0   \n",
              "205139                      0.0                0.0                0.0   \n",
              "194998                      0.0                0.0                0.0   \n",
              "181020                      0.0                0.0                0.0   \n",
              "292576                      0.0                0.0                0.0   \n",
              "\n",
              "        VehicleType_sedan  VehicleType_small  VehicleType_suv  ...  \\\n",
              "201585                0.0                0.0              0.0  ...   \n",
              "205139                0.0                0.0              0.0  ...   \n",
              "194998                0.0                1.0              0.0  ...   \n",
              "181020                0.0                0.0              0.0  ...   \n",
              "292576                0.0                1.0              0.0  ...   \n",
              "\n",
              "        Brand_skoda  Brand_smart  Brand_sonstige_autos  Brand_subaru  \\\n",
              "201585          0.0          0.0                   0.0           0.0   \n",
              "205139          0.0          0.0                   0.0           0.0   \n",
              "194998          0.0          0.0                   0.0           0.0   \n",
              "181020          0.0          0.0                   0.0           0.0   \n",
              "292576          0.0          0.0                   0.0           0.0   \n",
              "\n",
              "        Brand_suzuki  Brand_toyota  Brand_trabant  Brand_volkswagen  \\\n",
              "201585           0.0           1.0            0.0               0.0   \n",
              "205139           0.0           0.0            0.0               0.0   \n",
              "194998           0.0           0.0            0.0               0.0   \n",
              "181020           0.0           0.0            0.0               0.0   \n",
              "292576           0.0           0.0            0.0               0.0   \n",
              "\n",
              "        Brand_volvo  Repaired_yes  \n",
              "201585          0.0           0.0  \n",
              "205139          0.0           1.0  \n",
              "194998          0.0           0.0  \n",
              "181020          0.0           0.0  \n",
              "292576          0.0           0.0  \n",
              "\n",
              "[5 rows x 308 columns]"
            ]
          },
          "execution_count": 40,
          "metadata": {},
          "output_type": "execute_result"
        }
      ],
      "source": [
        "# drop='first' удаляет первый признак из закодированных:\n",
        "# таким образом обходим dummy-ловушку\n",
        "# задаём handle_unknown='ignore':\n",
        "# игнорируется ранее невстречающиеся значения признака (при transform)\n",
        "encoder_ohe = OneHotEncoder(drop='first', handle_unknown='ignore', sparse=False)\n",
        "\n",
        "# обучаем энкодер на заданных категориальных признаках тренировочной выборки\n",
        "encoder_ohe.fit(features_train_ridge[ohe_features_ridge])\n",
        "\n",
        "# добавляем закодированные признаки в X_train_ohe\n",
        "# encoder_ohe.get_feature_names_out() позволяет получить названия колонок\n",
        "features_train_ridge[\n",
        "    encoder_ohe.get_feature_names_out()\n",
        "] = encoder_ohe.transform(features_train[ohe_features_ridge])\n",
        "\n",
        "# удаляем незакодированные категориальные признаки (изначальные колонки)\n",
        "features_train_ridge = features_train_ridge.drop(ohe_features_ridge, axis=1)\n",
        "\n",
        "# создаём скелер\n",
        "scaler = StandardScaler()\n",
        "\n",
        "# обучаем его на численных признаках тренировочной выборки, трансформируем её же\n",
        "features_train_ridge[num_features] = scaler.fit_transform(features_train_ridge[num_features])\n",
        "\n",
        "# смотрим на результат\n",
        "features_train_ridge.head()"
      ]
    },
    {
      "cell_type": "code",
      "execution_count": null,
      "metadata": {
        "id": "k-pHfGOtvAaH"
      },
      "outputs": [],
      "source": [
        "RANDOM_STATE = 42"
      ]
    },
    {
      "cell_type": "code",
      "execution_count": null,
      "metadata": {
        "id": "d-iBSItLvAaI",
        "outputId": "5ecd5bec-ad69-4a5d-bbed-6c361878b364"
      },
      "outputs": [
        {
          "name": "stdout",
          "output_type": "stream",
          "text": [
            "Fit time:0.798194694519043, predict time: 0.060316944122314455\n",
            "best_score: 2917.3930779886673\n",
            "best_params: {'alpha': 0.05}\n"
          ]
        }
      ],
      "source": [
        "model_ridge = Ridge(random_state=RANDOM_STATE)\n",
        "\n",
        "# словарь с гиперпараметрами и значениями, которые хотим перебрать\n",
        "param_grid_ridge = {\n",
        "    'alpha': np.arange(0, 0.21, 0.01),\n",
        "}\n",
        "\n",
        "gs_ridge = GridSearchCV(\n",
        "    model_ridge,\n",
        "    param_grid=param_grid_ridge,\n",
        "    scoring='neg_root_mean_squared_error',\n",
        "    n_jobs=-1\n",
        ")\n",
        "\n",
        "gs_ridge.fit(features_train_ridge, target_train)\n",
        "\n",
        "fit_time = results[results['rank_test_score'] == 1]['mean_fit_time'].values[0]\n",
        "predict_time = results[results['rank_test_score'] == 1]['mean_score_time'].values[0]\n",
        "print(f'Fit time:{fit_time}, predict time: {predict_time}')\n",
        "\n",
        "# лучшее значение RMSE на кросс-валидации\n",
        "print(f'best_score: {gs_ridge.best_score_ * -1}')\n",
        "\n",
        "# лучшие гиперпараметры\n",
        "print(f'best_params: {gs_ridge.best_params_}')"
      ]
    },
    {
      "cell_type": "markdown",
      "metadata": {
        "id": "n52BxaqRvAaI"
      },
      "source": [
        "## Анализ моделей"
      ]
    },
    {
      "cell_type": "markdown",
      "source": [
        "Создаю сводную таблицу по показателям RMSE < 2500, время обучения модели и время предсказания модели:"
      ],
      "metadata": {
        "id": "warjuWBw0DvT"
      }
    },
    {
      "cell_type": "code",
      "execution_count": null,
      "metadata": {
        "id": "GxYj4votvAaI",
        "outputId": "82464228-a7ae-4864-a246-78c3e2e9f14f"
      },
      "outputs": [
        {
          "data": {
            "text/html": [
              "<div>\n",
              "<style scoped>\n",
              "    .dataframe tbody tr th:only-of-type {\n",
              "        vertical-align: middle;\n",
              "    }\n",
              "\n",
              "    .dataframe tbody tr th {\n",
              "        vertical-align: top;\n",
              "    }\n",
              "\n",
              "    .dataframe thead th {\n",
              "        text-align: right;\n",
              "    }\n",
              "</style>\n",
              "<table border=\"1\" class=\"dataframe\">\n",
              "  <thead>\n",
              "    <tr style=\"text-align: right;\">\n",
              "      <th></th>\n",
              "      <th>RMSE</th>\n",
              "      <th>Время обучения модели</th>\n",
              "      <th>Время предсказания модели</th>\n",
              "    </tr>\n",
              "  </thead>\n",
              "  <tbody>\n",
              "    <tr>\n",
              "      <th>LGBMRegressor с OHE</th>\n",
              "      <td>1615.084543</td>\n",
              "      <td>1.85</td>\n",
              "      <td>0.18</td>\n",
              "    </tr>\n",
              "    <tr>\n",
              "      <th>CatBoostRegressor с OHE</th>\n",
              "      <td>1621.754229</td>\n",
              "      <td>15.82</td>\n",
              "      <td>0.11</td>\n",
              "    </tr>\n",
              "    <tr>\n",
              "      <th>LGBMRegressor с OE</th>\n",
              "      <td>1625.902569</td>\n",
              "      <td>0.79</td>\n",
              "      <td>0.06</td>\n",
              "    </tr>\n",
              "    <tr>\n",
              "      <th>CatBoostRegressor с OE</th>\n",
              "      <td>1639.375782</td>\n",
              "      <td>15.55</td>\n",
              "      <td>0.02</td>\n",
              "    </tr>\n",
              "    <tr>\n",
              "      <th>CatBoostRegressor без кодировки</th>\n",
              "      <td>1641.635779</td>\n",
              "      <td>97.26</td>\n",
              "      <td>0.22</td>\n",
              "    </tr>\n",
              "    <tr>\n",
              "      <th>Ridge регрессия с OHE</th>\n",
              "      <td>2917.393078</td>\n",
              "      <td>0.79</td>\n",
              "      <td>0.06</td>\n",
              "    </tr>\n",
              "  </tbody>\n",
              "</table>\n",
              "</div>"
            ],
            "text/plain": [
              "                                        RMSE  Время обучения модели  \\\n",
              "LGBMRegressor с OHE              1615.084543                   1.85   \n",
              "CatBoostRegressor с OHE          1621.754229                  15.82   \n",
              "LGBMRegressor с OE               1625.902569                   0.79   \n",
              "CatBoostRegressor с OE           1639.375782                  15.55   \n",
              "CatBoostRegressor без кодировки  1641.635779                  97.26   \n",
              "Ridge регрессия с OHE            2917.393078                   0.79   \n",
              "\n",
              "                                 Время предсказания модели  \n",
              "LGBMRegressor с OHE                                   0.18  \n",
              "CatBoostRegressor с OHE                               0.11  \n",
              "LGBMRegressor с OE                                    0.06  \n",
              "CatBoostRegressor с OE                                0.02  \n",
              "CatBoostRegressor без кодировки                       0.22  \n",
              "Ridge регрессия с OHE                                 0.06  "
            ]
          },
          "execution_count": 54,
          "metadata": {},
          "output_type": "execute_result"
        }
      ],
      "source": [
        "index = ['CatBoostRegressor с OHE',\n",
        "         'CatBoostRegressor с OE',\n",
        "         'CatBoostRegressor без кодировки',\n",
        "         'LGBMRegressor с OHE',\n",
        "         'LGBMRegressor с OE',\n",
        "         'Ridge регрессия с OHE'\n",
        "\n",
        "        ]\n",
        "\n",
        "data = {'RMSE':[gscv_cbr_ohe.best_score_ * -1,\n",
        "                gscv_cbr_oe.best_score_ * -1,\n",
        "                gscv_cbr.best_score_ * -1,\n",
        "                gscv_lgr_ohe.best_score_ * -1,\n",
        "                gscv_lgr_oe.best_score_ * -1,\n",
        "                gs_ridge.best_score_ * -1],\n",
        "        'Время обучения модели':[15.82,\n",
        "                                 15.55,\n",
        "                                 97.26,\n",
        "                                 1.85,\n",
        "                                 0.79,\n",
        "                                 0.79],\n",
        "\n",
        "        'Время предсказания модели':[0.11,\n",
        "                                     0.02,\n",
        "                                     0.22,\n",
        "                                     0.18,\n",
        "                                     0.06,\n",
        "                                     0.06]\n",
        "       }\n",
        "\n",
        "kpi_data = pd.DataFrame(data=data, index=index)\n",
        "\n",
        "kpi_data.sort_values(by = 'RMSE', ascending=True)"
      ]
    },
    {
      "cell_type": "markdown",
      "metadata": {
        "id": "B6cCiDcEvAaI"
      },
      "source": [
        "Промежуточный вывод:\n",
        "\n",
        "Я смогла получить значение метрики RMSE ниже 2500 на моделях:\n",
        "- LGBMRegressor\n",
        "- CatBoostRegressor\n",
        "Лучшей моделью по RMSE является LGBMRegressor с выборками c OHE. Время обучения этой модели - 2 секунды. Наименее эффективная модель - Ridge регрессия."
      ]
    },
    {
      "cell_type": "markdown",
      "metadata": {
        "id": "UlbEMFlAvAaJ"
      },
      "source": [
        "Проверим качество лучшей модели на тестовой выборке"
      ]
    },
    {
      "cell_type": "code",
      "execution_count": null,
      "metadata": {
        "id": "-6XBLd-kvAaJ",
        "outputId": "d2d9cbc5-97ca-4cc9-ca6f-5623ec6bf859"
      },
      "outputs": [
        {
          "data": {
            "text/plain": [
              "1593.3577485458086"
            ]
          },
          "execution_count": 29,
          "metadata": {},
          "output_type": "execute_result"
        }
      ],
      "source": [
        "gscv_lgr_ohe.fit(features_train_ohe, target_train_ohe)\n",
        "\n",
        "lgr_ohe_prediction = gscv_lgr_ohe.predict(features_test_ohe)\n",
        "metric_test = mean_squared_error(target_test_ohe, lgr_ohe_prediction, squared=False)\n",
        "metric_test"
      ]
    },
    {
      "cell_type": "markdown",
      "metadata": {
        "id": "VXB3gk8evAaJ"
      },
      "source": [
        "Вывод:\n",
        "В проекте я загрузила данные и провела их предобработку - очистку, заполнение, удаление лишних данных.\n",
        "Подготовила выборки для машинного обучения, провела кодирование признаков методами OneHotEncode и OrdinalEncoder.\n",
        "Сравнила 3 модели с разными гиперпараметрами и методами кодирования.\n",
        "Выбрала лучшую модель, учитывая RMSE, время обучения и время предскзания - и проверила ее на тестовой выборке.\n",
        "Итог - онаиболее эффективная модель - LGBMRegressor с OHE, которая на финальном тестировании показала RMSE 1593."
      ]
    }
  ],
  "metadata": {
    "ExecuteTimeLog": [
      {
        "duration": 75,
        "start_time": "2023-03-09T07:13:20.961Z"
      },
      {
        "duration": 403,
        "start_time": "2023-03-09T07:36:41.094Z"
      },
      {
        "duration": 3300,
        "start_time": "2023-03-09T07:36:48.383Z"
      },
      {
        "duration": 19,
        "start_time": "2023-03-09T07:37:13.253Z"
      },
      {
        "duration": 50,
        "start_time": "2023-03-09T10:25:51.773Z"
      },
      {
        "duration": 419,
        "start_time": "2023-03-09T10:26:51.025Z"
      },
      {
        "duration": 2899,
        "start_time": "2023-03-09T10:26:51.446Z"
      },
      {
        "duration": 21,
        "start_time": "2023-03-09T10:26:54.346Z"
      },
      {
        "duration": 117,
        "start_time": "2023-03-09T10:26:54.370Z"
      },
      {
        "duration": 107,
        "start_time": "2023-03-09T10:26:54.489Z"
      },
      {
        "duration": 55,
        "start_time": "2023-03-14T10:07:55.018Z"
      },
      {
        "duration": 458,
        "start_time": "2023-03-14T10:08:12.753Z"
      },
      {
        "duration": 1137,
        "start_time": "2023-03-14T10:08:13.213Z"
      },
      {
        "duration": 21,
        "start_time": "2023-03-14T10:08:14.352Z"
      },
      {
        "duration": 129,
        "start_time": "2023-03-14T10:08:14.375Z"
      },
      {
        "duration": 119,
        "start_time": "2023-03-14T10:08:14.506Z"
      },
      {
        "duration": 77,
        "start_time": "2023-03-14T10:08:14.627Z"
      },
      {
        "duration": 869,
        "start_time": "2023-03-14T10:08:36.802Z"
      },
      {
        "duration": 115,
        "start_time": "2023-03-14T10:10:19.298Z"
      },
      {
        "duration": 533,
        "start_time": "2023-03-14T11:06:29.939Z"
      },
      {
        "duration": 1090,
        "start_time": "2023-03-14T11:06:31.744Z"
      },
      {
        "duration": 40,
        "start_time": "2023-03-14T11:45:48.214Z"
      },
      {
        "duration": 73,
        "start_time": "2023-03-15T12:59:44.178Z"
      },
      {
        "duration": 400,
        "start_time": "2023-03-15T13:00:00.646Z"
      },
      {
        "duration": 3140,
        "start_time": "2023-03-15T13:00:01.049Z"
      },
      {
        "duration": 30,
        "start_time": "2023-03-15T13:00:04.192Z"
      },
      {
        "duration": 223,
        "start_time": "2023-03-15T13:00:04.225Z"
      },
      {
        "duration": 122,
        "start_time": "2023-03-15T13:00:04.450Z"
      },
      {
        "duration": 120,
        "start_time": "2023-03-15T13:00:04.574Z"
      },
      {
        "duration": 511,
        "start_time": "2023-03-15T13:00:04.696Z"
      },
      {
        "duration": 1054,
        "start_time": "2023-03-15T13:00:05.209Z"
      },
      {
        "duration": 27,
        "start_time": "2023-03-15T13:00:06.266Z"
      },
      {
        "duration": 199,
        "start_time": "2023-03-15T13:00:06.295Z"
      },
      {
        "duration": 139,
        "start_time": "2023-03-15T13:07:11.713Z"
      },
      {
        "duration": 75,
        "start_time": "2023-03-15T13:27:45.721Z"
      },
      {
        "duration": 124,
        "start_time": "2023-03-15T13:40:52.106Z"
      },
      {
        "duration": 70,
        "start_time": "2023-03-15T13:40:55.208Z"
      },
      {
        "duration": 1041,
        "start_time": "2023-03-15T15:04:17.221Z"
      },
      {
        "duration": 355,
        "start_time": "2023-03-16T05:47:47.989Z"
      },
      {
        "duration": 2766,
        "start_time": "2023-03-16T05:47:48.346Z"
      },
      {
        "duration": 19,
        "start_time": "2023-03-16T05:47:51.113Z"
      },
      {
        "duration": 122,
        "start_time": "2023-03-16T05:47:51.134Z"
      },
      {
        "duration": 85,
        "start_time": "2023-03-16T05:47:51.258Z"
      },
      {
        "duration": 122,
        "start_time": "2023-03-16T05:47:51.345Z"
      },
      {
        "duration": 388,
        "start_time": "2023-03-16T05:47:51.468Z"
      },
      {
        "duration": 784,
        "start_time": "2023-03-16T05:47:51.857Z"
      },
      {
        "duration": 30,
        "start_time": "2023-03-16T05:47:52.643Z"
      },
      {
        "duration": 134,
        "start_time": "2023-03-16T05:47:52.675Z"
      },
      {
        "duration": 78,
        "start_time": "2023-03-16T05:47:52.811Z"
      },
      {
        "duration": 728,
        "start_time": "2023-03-16T05:47:52.891Z"
      },
      {
        "duration": 683,
        "start_time": "2023-03-16T05:54:34.455Z"
      },
      {
        "duration": 4,
        "start_time": "2023-03-16T06:44:12.314Z"
      },
      {
        "duration": 1439,
        "start_time": "2023-03-16T06:44:32.233Z"
      },
      {
        "duration": 1177,
        "start_time": "2023-03-16T06:44:35.751Z"
      },
      {
        "duration": 1505,
        "start_time": "2023-03-16T07:15:22.240Z"
      },
      {
        "duration": 1451,
        "start_time": "2023-03-16T07:15:39.432Z"
      },
      {
        "duration": 77,
        "start_time": "2023-03-16T07:15:48.651Z"
      },
      {
        "duration": 1471,
        "start_time": "2023-03-16T07:17:53.681Z"
      },
      {
        "duration": 436,
        "start_time": "2023-03-16T07:18:14.840Z"
      },
      {
        "duration": 868,
        "start_time": "2023-03-16T07:18:15.286Z"
      },
      {
        "duration": 21,
        "start_time": "2023-03-16T07:18:16.173Z"
      },
      {
        "duration": 127,
        "start_time": "2023-03-16T07:18:16.195Z"
      },
      {
        "duration": 18,
        "start_time": "2023-03-16T07:18:16.324Z"
      },
      {
        "duration": 107,
        "start_time": "2023-03-16T07:18:16.343Z"
      },
      {
        "duration": 147,
        "start_time": "2023-03-16T07:18:16.451Z"
      },
      {
        "duration": 499,
        "start_time": "2023-03-16T07:18:16.600Z"
      },
      {
        "duration": 900,
        "start_time": "2023-03-16T07:18:17.102Z"
      },
      {
        "duration": 30,
        "start_time": "2023-03-16T07:18:18.003Z"
      },
      {
        "duration": 158,
        "start_time": "2023-03-16T07:18:18.035Z"
      },
      {
        "duration": 77,
        "start_time": "2023-03-16T07:18:18.195Z"
      },
      {
        "duration": 787,
        "start_time": "2023-03-16T07:18:18.273Z"
      },
      {
        "duration": 10,
        "start_time": "2023-03-16T07:18:19.065Z"
      },
      {
        "duration": 88,
        "start_time": "2023-03-16T07:18:19.076Z"
      },
      {
        "duration": 1569,
        "start_time": "2023-03-16T07:18:40.224Z"
      },
      {
        "duration": 415,
        "start_time": "2023-03-16T07:21:56.609Z"
      },
      {
        "duration": 849,
        "start_time": "2023-03-16T07:21:57.027Z"
      },
      {
        "duration": 25,
        "start_time": "2023-03-16T07:21:57.882Z"
      },
      {
        "duration": 161,
        "start_time": "2023-03-16T07:21:57.909Z"
      },
      {
        "duration": 29,
        "start_time": "2023-03-16T07:21:58.075Z"
      },
      {
        "duration": 46,
        "start_time": "2023-03-16T07:21:58.106Z"
      },
      {
        "duration": 112,
        "start_time": "2023-03-16T07:21:58.154Z"
      },
      {
        "duration": 129,
        "start_time": "2023-03-16T07:21:58.267Z"
      },
      {
        "duration": 420,
        "start_time": "2023-03-16T07:21:58.397Z"
      },
      {
        "duration": 905,
        "start_time": "2023-03-16T07:21:58.818Z"
      },
      {
        "duration": 43,
        "start_time": "2023-03-16T07:21:59.724Z"
      },
      {
        "duration": 123,
        "start_time": "2023-03-16T07:21:59.777Z"
      },
      {
        "duration": 78,
        "start_time": "2023-03-16T07:21:59.902Z"
      },
      {
        "duration": 785,
        "start_time": "2023-03-16T07:21:59.983Z"
      },
      {
        "duration": 5,
        "start_time": "2023-03-16T07:22:00.770Z"
      },
      {
        "duration": 207,
        "start_time": "2023-03-16T07:22:00.777Z"
      },
      {
        "duration": 1485,
        "start_time": "2023-03-16T07:22:15.616Z"
      },
      {
        "duration": 1124,
        "start_time": "2023-03-16T07:22:52.887Z"
      },
      {
        "duration": 1137,
        "start_time": "2023-03-16T07:23:12.602Z"
      },
      {
        "duration": 441,
        "start_time": "2023-03-16T08:16:55.024Z"
      },
      {
        "duration": 758,
        "start_time": "2023-03-16T08:16:55.467Z"
      },
      {
        "duration": 20,
        "start_time": "2023-03-16T08:16:56.227Z"
      },
      {
        "duration": 126,
        "start_time": "2023-03-16T08:16:56.255Z"
      },
      {
        "duration": 22,
        "start_time": "2023-03-16T08:16:56.383Z"
      },
      {
        "duration": 49,
        "start_time": "2023-03-16T08:16:56.406Z"
      },
      {
        "duration": 99,
        "start_time": "2023-03-16T08:16:56.457Z"
      },
      {
        "duration": 124,
        "start_time": "2023-03-16T08:16:56.558Z"
      },
      {
        "duration": 450,
        "start_time": "2023-03-16T08:16:56.683Z"
      },
      {
        "duration": 870,
        "start_time": "2023-03-16T08:16:57.135Z"
      },
      {
        "duration": 35,
        "start_time": "2023-03-16T08:16:58.007Z"
      },
      {
        "duration": 119,
        "start_time": "2023-03-16T08:16:58.044Z"
      },
      {
        "duration": 66,
        "start_time": "2023-03-16T08:16:58.165Z"
      },
      {
        "duration": 746,
        "start_time": "2023-03-16T08:16:58.233Z"
      },
      {
        "duration": 3,
        "start_time": "2023-03-16T08:16:58.981Z"
      },
      {
        "duration": 5,
        "start_time": "2023-03-16T08:16:58.985Z"
      },
      {
        "duration": 97,
        "start_time": "2023-03-16T08:16:58.991Z"
      },
      {
        "duration": 1087,
        "start_time": "2023-03-16T08:18:19.829Z"
      },
      {
        "duration": 803,
        "start_time": "2023-03-16T08:18:20.918Z"
      },
      {
        "duration": 21,
        "start_time": "2023-03-16T08:18:21.723Z"
      },
      {
        "duration": 130,
        "start_time": "2023-03-16T08:18:21.746Z"
      },
      {
        "duration": 17,
        "start_time": "2023-03-16T08:18:21.878Z"
      },
      {
        "duration": 34,
        "start_time": "2023-03-16T08:18:21.897Z"
      },
      {
        "duration": 114,
        "start_time": "2023-03-16T08:18:21.933Z"
      },
      {
        "duration": 132,
        "start_time": "2023-03-16T08:18:22.048Z"
      },
      {
        "duration": 413,
        "start_time": "2023-03-16T08:18:22.182Z"
      },
      {
        "duration": 864,
        "start_time": "2023-03-16T08:18:22.598Z"
      },
      {
        "duration": 37,
        "start_time": "2023-03-16T08:18:23.463Z"
      },
      {
        "duration": 131,
        "start_time": "2023-03-16T08:18:23.501Z"
      },
      {
        "duration": 78,
        "start_time": "2023-03-16T08:18:23.634Z"
      },
      {
        "duration": 778,
        "start_time": "2023-03-16T08:18:23.714Z"
      },
      {
        "duration": 3,
        "start_time": "2023-03-16T08:18:24.494Z"
      },
      {
        "duration": 4,
        "start_time": "2023-03-16T08:18:24.498Z"
      },
      {
        "duration": 85,
        "start_time": "2023-03-16T08:18:24.503Z"
      },
      {
        "duration": 100,
        "start_time": "2023-03-16T08:18:29.221Z"
      },
      {
        "duration": 1391,
        "start_time": "2023-03-16T08:18:36.426Z"
      },
      {
        "duration": 1295,
        "start_time": "2023-03-16T08:18:54.928Z"
      },
      {
        "duration": 268,
        "start_time": "2023-03-16T10:42:38.571Z"
      },
      {
        "duration": 1134,
        "start_time": "2023-03-16T10:43:28.773Z"
      },
      {
        "duration": 822,
        "start_time": "2023-03-16T10:43:29.909Z"
      },
      {
        "duration": 25,
        "start_time": "2023-03-16T10:43:30.733Z"
      },
      {
        "duration": 152,
        "start_time": "2023-03-16T10:43:30.759Z"
      },
      {
        "duration": 27,
        "start_time": "2023-03-16T10:43:30.913Z"
      },
      {
        "duration": 73,
        "start_time": "2023-03-16T10:43:30.942Z"
      },
      {
        "duration": 156,
        "start_time": "2023-03-16T10:43:31.017Z"
      },
      {
        "duration": 136,
        "start_time": "2023-03-16T10:43:31.175Z"
      },
      {
        "duration": 462,
        "start_time": "2023-03-16T10:43:31.312Z"
      },
      {
        "duration": 952,
        "start_time": "2023-03-16T10:43:31.775Z"
      },
      {
        "duration": 47,
        "start_time": "2023-03-16T10:43:32.728Z"
      },
      {
        "duration": 134,
        "start_time": "2023-03-16T10:43:32.777Z"
      },
      {
        "duration": 84,
        "start_time": "2023-03-16T10:43:32.913Z"
      },
      {
        "duration": 799,
        "start_time": "2023-03-16T10:43:32.999Z"
      },
      {
        "duration": 3,
        "start_time": "2023-03-16T10:43:33.800Z"
      },
      {
        "duration": 10,
        "start_time": "2023-03-16T10:43:33.804Z"
      },
      {
        "duration": 102,
        "start_time": "2023-03-16T10:43:33.816Z"
      },
      {
        "duration": 218,
        "start_time": "2023-03-16T10:43:33.920Z"
      },
      {
        "duration": 1225,
        "start_time": "2023-03-16T10:44:30.726Z"
      },
      {
        "duration": 795,
        "start_time": "2023-03-16T10:44:31.952Z"
      },
      {
        "duration": 26,
        "start_time": "2023-03-16T10:44:32.749Z"
      },
      {
        "duration": 137,
        "start_time": "2023-03-16T10:44:32.777Z"
      },
      {
        "duration": 24,
        "start_time": "2023-03-16T10:44:32.916Z"
      },
      {
        "duration": 56,
        "start_time": "2023-03-16T10:44:32.942Z"
      },
      {
        "duration": 106,
        "start_time": "2023-03-16T10:44:32.999Z"
      },
      {
        "duration": 126,
        "start_time": "2023-03-16T10:44:33.106Z"
      },
      {
        "duration": 432,
        "start_time": "2023-03-16T10:44:33.234Z"
      },
      {
        "duration": 879,
        "start_time": "2023-03-16T10:44:33.668Z"
      },
      {
        "duration": 40,
        "start_time": "2023-03-16T10:44:34.549Z"
      },
      {
        "duration": 132,
        "start_time": "2023-03-16T10:44:34.590Z"
      },
      {
        "duration": 76,
        "start_time": "2023-03-16T10:44:34.724Z"
      },
      {
        "duration": 796,
        "start_time": "2023-03-16T10:44:34.802Z"
      },
      {
        "duration": 4,
        "start_time": "2023-03-16T10:44:35.599Z"
      },
      {
        "duration": 11,
        "start_time": "2023-03-16T10:44:35.604Z"
      },
      {
        "duration": 86,
        "start_time": "2023-03-16T10:44:35.618Z"
      },
      {
        "duration": 2071,
        "start_time": "2023-03-16T10:44:35.705Z"
      },
      {
        "duration": 2,
        "start_time": "2023-03-16T12:34:32.509Z"
      },
      {
        "duration": 10,
        "start_time": "2023-03-16T12:34:37.719Z"
      },
      {
        "duration": 3,
        "start_time": "2023-03-16T12:38:41.113Z"
      },
      {
        "duration": 1110,
        "start_time": "2023-03-16T12:38:47.837Z"
      },
      {
        "duration": 739,
        "start_time": "2023-03-16T12:38:48.949Z"
      },
      {
        "duration": 19,
        "start_time": "2023-03-16T12:38:49.689Z"
      },
      {
        "duration": 129,
        "start_time": "2023-03-16T12:38:49.710Z"
      },
      {
        "duration": 27,
        "start_time": "2023-03-16T12:38:49.841Z"
      },
      {
        "duration": 35,
        "start_time": "2023-03-16T12:38:49.870Z"
      },
      {
        "duration": 103,
        "start_time": "2023-03-16T12:38:49.907Z"
      },
      {
        "duration": 122,
        "start_time": "2023-03-16T12:38:50.012Z"
      },
      {
        "duration": 391,
        "start_time": "2023-03-16T12:38:50.136Z"
      },
      {
        "duration": 836,
        "start_time": "2023-03-16T12:38:50.528Z"
      },
      {
        "duration": 36,
        "start_time": "2023-03-16T12:38:51.365Z"
      },
      {
        "duration": 124,
        "start_time": "2023-03-16T12:38:51.403Z"
      },
      {
        "duration": 69,
        "start_time": "2023-03-16T12:38:51.529Z"
      },
      {
        "duration": 743,
        "start_time": "2023-03-16T12:38:51.600Z"
      },
      {
        "duration": 3,
        "start_time": "2023-03-16T12:38:52.345Z"
      },
      {
        "duration": 19,
        "start_time": "2023-03-16T12:38:52.354Z"
      },
      {
        "duration": 87,
        "start_time": "2023-03-16T12:38:52.374Z"
      },
      {
        "duration": 2,
        "start_time": "2023-03-16T12:38:52.463Z"
      },
      {
        "duration": 121,
        "start_time": "2023-03-16T12:38:52.467Z"
      },
      {
        "duration": 0,
        "start_time": "2023-03-16T12:38:52.590Z"
      },
      {
        "duration": 3,
        "start_time": "2023-03-16T12:56:53.717Z"
      },
      {
        "duration": 97,
        "start_time": "2023-03-16T12:56:59.172Z"
      },
      {
        "duration": 1034,
        "start_time": "2023-03-17T12:14:20.879Z"
      },
      {
        "duration": 2951,
        "start_time": "2023-03-17T12:14:21.915Z"
      },
      {
        "duration": 18,
        "start_time": "2023-03-17T12:14:24.868Z"
      },
      {
        "duration": 118,
        "start_time": "2023-03-17T12:14:24.888Z"
      },
      {
        "duration": 17,
        "start_time": "2023-03-17T12:14:25.008Z"
      },
      {
        "duration": 46,
        "start_time": "2023-03-17T12:14:25.026Z"
      },
      {
        "duration": 130,
        "start_time": "2023-03-17T12:14:25.074Z"
      },
      {
        "duration": 118,
        "start_time": "2023-03-17T12:14:25.205Z"
      },
      {
        "duration": 395,
        "start_time": "2023-03-17T12:14:25.324Z"
      },
      {
        "duration": 814,
        "start_time": "2023-03-17T12:14:25.721Z"
      },
      {
        "duration": 41,
        "start_time": "2023-03-17T12:14:26.536Z"
      },
      {
        "duration": 128,
        "start_time": "2023-03-17T12:14:26.580Z"
      },
      {
        "duration": 79,
        "start_time": "2023-03-17T12:14:26.710Z"
      },
      {
        "duration": 762,
        "start_time": "2023-03-17T12:14:26.792Z"
      },
      {
        "duration": 3,
        "start_time": "2023-03-17T12:14:27.555Z"
      },
      {
        "duration": 3,
        "start_time": "2023-03-17T12:14:27.559Z"
      },
      {
        "duration": 66,
        "start_time": "2023-03-17T12:14:27.564Z"
      },
      {
        "duration": 2,
        "start_time": "2023-03-17T12:14:27.632Z"
      },
      {
        "duration": 188,
        "start_time": "2023-03-17T12:14:27.636Z"
      },
      {
        "duration": 0,
        "start_time": "2023-03-17T12:14:27.826Z"
      },
      {
        "duration": 83,
        "start_time": "2023-03-17T12:15:23.733Z"
      },
      {
        "duration": 1102,
        "start_time": "2023-03-17T12:15:29.381Z"
      },
      {
        "duration": 1154,
        "start_time": "2023-03-17T12:23:25.996Z"
      },
      {
        "duration": 799,
        "start_time": "2023-03-17T12:23:27.153Z"
      },
      {
        "duration": 19,
        "start_time": "2023-03-17T12:23:27.958Z"
      },
      {
        "duration": 119,
        "start_time": "2023-03-17T12:23:27.978Z"
      },
      {
        "duration": 22,
        "start_time": "2023-03-17T12:23:28.099Z"
      },
      {
        "duration": 60,
        "start_time": "2023-03-17T12:23:28.122Z"
      },
      {
        "duration": 110,
        "start_time": "2023-03-17T12:23:28.184Z"
      },
      {
        "duration": 123,
        "start_time": "2023-03-17T12:23:28.295Z"
      },
      {
        "duration": 404,
        "start_time": "2023-03-17T12:23:28.420Z"
      },
      {
        "duration": 833,
        "start_time": "2023-03-17T12:23:28.825Z"
      },
      {
        "duration": 33,
        "start_time": "2023-03-17T12:23:29.661Z"
      },
      {
        "duration": 123,
        "start_time": "2023-03-17T12:23:29.695Z"
      },
      {
        "duration": 80,
        "start_time": "2023-03-17T12:23:29.819Z"
      },
      {
        "duration": 2,
        "start_time": "2023-03-17T12:23:29.901Z"
      },
      {
        "duration": 126,
        "start_time": "2023-03-17T12:23:29.905Z"
      },
      {
        "duration": 0,
        "start_time": "2023-03-17T12:23:30.040Z"
      },
      {
        "duration": 0,
        "start_time": "2023-03-17T12:23:30.040Z"
      },
      {
        "duration": 0,
        "start_time": "2023-03-17T12:23:30.041Z"
      },
      {
        "duration": 0,
        "start_time": "2023-03-17T12:23:30.042Z"
      },
      {
        "duration": 0,
        "start_time": "2023-03-17T12:23:30.042Z"
      },
      {
        "duration": 0,
        "start_time": "2023-03-17T12:23:30.043Z"
      },
      {
        "duration": 142,
        "start_time": "2023-03-17T12:26:45.956Z"
      },
      {
        "duration": 1117,
        "start_time": "2023-03-17T12:28:30.416Z"
      },
      {
        "duration": 801,
        "start_time": "2023-03-17T12:28:31.535Z"
      },
      {
        "duration": 27,
        "start_time": "2023-03-17T12:28:32.338Z"
      },
      {
        "duration": 123,
        "start_time": "2023-03-17T12:28:32.367Z"
      },
      {
        "duration": 2,
        "start_time": "2023-03-17T12:28:32.491Z"
      },
      {
        "duration": 197,
        "start_time": "2023-03-17T12:28:32.495Z"
      },
      {
        "duration": 124,
        "start_time": "2023-03-17T12:28:32.694Z"
      },
      {
        "duration": 138,
        "start_time": "2023-03-17T12:28:32.819Z"
      },
      {
        "duration": 414,
        "start_time": "2023-03-17T12:28:32.958Z"
      },
      {
        "duration": 787,
        "start_time": "2023-03-17T12:28:33.374Z"
      },
      {
        "duration": 32,
        "start_time": "2023-03-17T12:28:34.163Z"
      },
      {
        "duration": 122,
        "start_time": "2023-03-17T12:28:34.197Z"
      },
      {
        "duration": 73,
        "start_time": "2023-03-17T12:28:34.320Z"
      },
      {
        "duration": 2,
        "start_time": "2023-03-17T12:28:34.395Z"
      },
      {
        "duration": 920,
        "start_time": "2023-03-17T12:28:34.398Z"
      },
      {
        "duration": 0,
        "start_time": "2023-03-17T12:28:35.319Z"
      },
      {
        "duration": 0,
        "start_time": "2023-03-17T12:28:35.320Z"
      },
      {
        "duration": 0,
        "start_time": "2023-03-17T12:28:35.321Z"
      },
      {
        "duration": 0,
        "start_time": "2023-03-17T12:28:35.322Z"
      },
      {
        "duration": 0,
        "start_time": "2023-03-17T12:28:35.323Z"
      },
      {
        "duration": 0,
        "start_time": "2023-03-17T12:28:35.324Z"
      },
      {
        "duration": 61,
        "start_time": "2023-03-17T12:34:38.757Z"
      },
      {
        "duration": 22,
        "start_time": "2023-03-17T12:52:25.638Z"
      },
      {
        "duration": 42,
        "start_time": "2023-03-17T13:05:58.278Z"
      },
      {
        "duration": 31,
        "start_time": "2023-03-17T13:06:13.167Z"
      },
      {
        "duration": 38,
        "start_time": "2023-03-17T13:06:43.696Z"
      },
      {
        "duration": 8,
        "start_time": "2023-03-17T13:19:27.355Z"
      },
      {
        "duration": 1163,
        "start_time": "2023-03-17T13:19:50.117Z"
      },
      {
        "duration": 802,
        "start_time": "2023-03-17T13:19:51.282Z"
      },
      {
        "duration": 20,
        "start_time": "2023-03-17T13:19:52.086Z"
      },
      {
        "duration": 147,
        "start_time": "2023-03-17T13:19:52.108Z"
      },
      {
        "duration": 2,
        "start_time": "2023-03-17T13:19:52.258Z"
      },
      {
        "duration": 184,
        "start_time": "2023-03-17T13:19:52.261Z"
      },
      {
        "duration": 127,
        "start_time": "2023-03-17T13:19:52.446Z"
      },
      {
        "duration": 111,
        "start_time": "2023-03-17T13:19:52.575Z"
      },
      {
        "duration": 58,
        "start_time": "2023-03-17T13:19:52.688Z"
      },
      {
        "duration": 124,
        "start_time": "2023-03-17T13:19:52.747Z"
      },
      {
        "duration": 407,
        "start_time": "2023-03-17T13:19:52.873Z"
      },
      {
        "duration": 816,
        "start_time": "2023-03-17T13:19:53.281Z"
      },
      {
        "duration": 28,
        "start_time": "2023-03-17T13:19:54.098Z"
      },
      {
        "duration": 113,
        "start_time": "2023-03-17T13:19:54.140Z"
      },
      {
        "duration": 68,
        "start_time": "2023-03-17T13:19:54.254Z"
      },
      {
        "duration": 3,
        "start_time": "2023-03-17T13:19:54.339Z"
      },
      {
        "duration": 1101,
        "start_time": "2023-03-17T13:19:54.343Z"
      },
      {
        "duration": 0,
        "start_time": "2023-03-17T13:19:55.446Z"
      },
      {
        "duration": 0,
        "start_time": "2023-03-17T13:19:55.447Z"
      },
      {
        "duration": 0,
        "start_time": "2023-03-17T13:19:55.448Z"
      },
      {
        "duration": 0,
        "start_time": "2023-03-17T13:19:55.449Z"
      },
      {
        "duration": 0,
        "start_time": "2023-03-17T13:19:55.450Z"
      },
      {
        "duration": 0,
        "start_time": "2023-03-17T13:19:55.452Z"
      },
      {
        "duration": 1243,
        "start_time": "2023-03-17T13:22:01.255Z"
      },
      {
        "duration": 795,
        "start_time": "2023-03-17T13:22:02.500Z"
      },
      {
        "duration": 19,
        "start_time": "2023-03-17T13:22:03.297Z"
      },
      {
        "duration": 149,
        "start_time": "2023-03-17T13:22:03.318Z"
      },
      {
        "duration": 3,
        "start_time": "2023-03-17T13:22:03.469Z"
      },
      {
        "duration": 177,
        "start_time": "2023-03-17T13:22:03.473Z"
      },
      {
        "duration": 112,
        "start_time": "2023-03-17T13:22:03.651Z"
      },
      {
        "duration": 118,
        "start_time": "2023-03-17T13:22:03.765Z"
      },
      {
        "duration": 55,
        "start_time": "2023-03-17T13:22:03.885Z"
      },
      {
        "duration": 128,
        "start_time": "2023-03-17T13:22:03.942Z"
      },
      {
        "duration": 460,
        "start_time": "2023-03-17T13:22:04.072Z"
      },
      {
        "duration": 863,
        "start_time": "2023-03-17T13:22:04.533Z"
      },
      {
        "duration": 27,
        "start_time": "2023-03-17T13:22:05.398Z"
      },
      {
        "duration": 139,
        "start_time": "2023-03-17T13:22:05.427Z"
      },
      {
        "duration": 74,
        "start_time": "2023-03-17T13:22:05.567Z"
      },
      {
        "duration": 3,
        "start_time": "2023-03-17T13:22:05.643Z"
      },
      {
        "duration": 1176,
        "start_time": "2023-03-17T13:22:05.647Z"
      },
      {
        "duration": 0,
        "start_time": "2023-03-17T13:22:06.825Z"
      },
      {
        "duration": 0,
        "start_time": "2023-03-17T13:22:06.827Z"
      },
      {
        "duration": 0,
        "start_time": "2023-03-17T13:22:06.828Z"
      },
      {
        "duration": 0,
        "start_time": "2023-03-17T13:22:06.829Z"
      },
      {
        "duration": 0,
        "start_time": "2023-03-17T13:22:06.831Z"
      },
      {
        "duration": 0,
        "start_time": "2023-03-17T13:22:06.832Z"
      },
      {
        "duration": 741,
        "start_time": "2023-03-17T13:23:14.974Z"
      },
      {
        "duration": 3,
        "start_time": "2023-03-17T13:23:22.237Z"
      },
      {
        "duration": 273,
        "start_time": "2023-03-17T13:23:25.786Z"
      },
      {
        "duration": 61,
        "start_time": "2023-03-17T13:23:29.842Z"
      },
      {
        "duration": 3,
        "start_time": "2023-03-17T13:23:33.621Z"
      },
      {
        "duration": 107,
        "start_time": "2023-03-17T13:23:36.934Z"
      },
      {
        "duration": 1433,
        "start_time": "2023-03-17T14:29:16.078Z"
      },
      {
        "duration": 976,
        "start_time": "2023-03-17T14:29:17.513Z"
      },
      {
        "duration": 27,
        "start_time": "2023-03-17T14:29:18.491Z"
      },
      {
        "duration": 204,
        "start_time": "2023-03-17T14:29:18.520Z"
      },
      {
        "duration": 4,
        "start_time": "2023-03-17T14:29:18.727Z"
      },
      {
        "duration": 254,
        "start_time": "2023-03-17T14:29:18.733Z"
      },
      {
        "duration": 204,
        "start_time": "2023-03-17T14:29:18.989Z"
      },
      {
        "duration": 117,
        "start_time": "2023-03-17T14:29:19.195Z"
      },
      {
        "duration": 73,
        "start_time": "2023-03-17T14:29:19.315Z"
      },
      {
        "duration": 202,
        "start_time": "2023-03-17T14:29:19.391Z"
      },
      {
        "duration": 530,
        "start_time": "2023-03-17T14:29:19.596Z"
      },
      {
        "duration": 998,
        "start_time": "2023-03-17T14:29:20.128Z"
      },
      {
        "duration": 54,
        "start_time": "2023-03-17T14:29:21.128Z"
      },
      {
        "duration": 146,
        "start_time": "2023-03-17T14:29:21.188Z"
      },
      {
        "duration": 94,
        "start_time": "2023-03-17T14:29:21.336Z"
      },
      {
        "duration": 3,
        "start_time": "2023-03-17T14:29:21.432Z"
      },
      {
        "duration": 131,
        "start_time": "2023-03-17T14:29:21.437Z"
      },
      {
        "duration": 0,
        "start_time": "2023-03-17T14:29:21.571Z"
      },
      {
        "duration": 0,
        "start_time": "2023-03-17T14:29:21.576Z"
      },
      {
        "duration": 0,
        "start_time": "2023-03-17T14:29:21.581Z"
      },
      {
        "duration": 0,
        "start_time": "2023-03-17T14:29:21.583Z"
      },
      {
        "duration": 0,
        "start_time": "2023-03-17T14:29:21.584Z"
      },
      {
        "duration": 0,
        "start_time": "2023-03-17T14:29:21.585Z"
      },
      {
        "duration": 1435,
        "start_time": "2023-03-17T14:30:03.707Z"
      },
      {
        "duration": 1150,
        "start_time": "2023-03-17T14:30:05.147Z"
      },
      {
        "duration": 32,
        "start_time": "2023-03-17T14:30:06.299Z"
      },
      {
        "duration": 218,
        "start_time": "2023-03-17T14:30:06.333Z"
      },
      {
        "duration": 2,
        "start_time": "2023-03-17T14:30:06.553Z"
      },
      {
        "duration": 301,
        "start_time": "2023-03-17T14:30:06.557Z"
      },
      {
        "duration": 217,
        "start_time": "2023-03-17T14:30:06.868Z"
      },
      {
        "duration": 141,
        "start_time": "2023-03-17T14:30:07.098Z"
      },
      {
        "duration": 84,
        "start_time": "2023-03-17T14:30:07.251Z"
      },
      {
        "duration": 242,
        "start_time": "2023-03-17T14:30:07.338Z"
      },
      {
        "duration": 544,
        "start_time": "2023-03-17T14:30:07.591Z"
      },
      {
        "duration": 1228,
        "start_time": "2023-03-17T14:30:08.157Z"
      },
      {
        "duration": 34,
        "start_time": "2023-03-17T14:30:09.390Z"
      },
      {
        "duration": 233,
        "start_time": "2023-03-17T14:30:09.428Z"
      },
      {
        "duration": 87,
        "start_time": "2023-03-17T14:30:09.674Z"
      },
      {
        "duration": 7,
        "start_time": "2023-03-17T14:30:09.766Z"
      },
      {
        "duration": 12,
        "start_time": "2023-03-17T14:30:09.777Z"
      },
      {
        "duration": 7,
        "start_time": "2023-03-17T14:30:09.793Z"
      },
      {
        "duration": 10,
        "start_time": "2023-03-17T14:30:09.802Z"
      },
      {
        "duration": 105,
        "start_time": "2023-03-17T14:30:09.814Z"
      },
      {
        "duration": 3,
        "start_time": "2023-03-17T14:30:09.920Z"
      },
      {
        "duration": 7,
        "start_time": "2023-03-17T14:30:09.926Z"
      },
      {
        "duration": 298,
        "start_time": "2023-03-17T14:30:09.935Z"
      },
      {
        "duration": 137,
        "start_time": "2023-03-17T14:59:43.374Z"
      },
      {
        "duration": 4964408,
        "start_time": "2023-03-17T14:59:52.626Z"
      },
      {
        "duration": 90,
        "start_time": "2023-03-17T17:11:25.540Z"
      },
      {
        "duration": 87,
        "start_time": "2023-03-17T17:12:19.148Z"
      },
      {
        "duration": 1227,
        "start_time": "2023-03-17T17:12:30.365Z"
      },
      {
        "duration": 1691,
        "start_time": "2023-03-17T17:12:31.594Z"
      },
      {
        "duration": 27,
        "start_time": "2023-03-17T17:12:33.287Z"
      },
      {
        "duration": 125,
        "start_time": "2023-03-17T17:12:33.318Z"
      },
      {
        "duration": 3,
        "start_time": "2023-03-17T17:12:33.444Z"
      },
      {
        "duration": 252,
        "start_time": "2023-03-17T17:12:33.449Z"
      },
      {
        "duration": 126,
        "start_time": "2023-03-17T17:12:33.702Z"
      },
      {
        "duration": 105,
        "start_time": "2023-03-17T17:12:33.841Z"
      },
      {
        "duration": 48,
        "start_time": "2023-03-17T17:12:33.948Z"
      },
      {
        "duration": 144,
        "start_time": "2023-03-17T17:12:33.999Z"
      },
      {
        "duration": 435,
        "start_time": "2023-03-17T17:12:34.144Z"
      },
      {
        "duration": 909,
        "start_time": "2023-03-17T17:12:34.580Z"
      },
      {
        "duration": 36,
        "start_time": "2023-03-17T17:12:35.491Z"
      },
      {
        "duration": 121,
        "start_time": "2023-03-17T17:12:35.539Z"
      },
      {
        "duration": 83,
        "start_time": "2023-03-17T17:12:35.662Z"
      },
      {
        "duration": 3,
        "start_time": "2023-03-17T17:12:35.747Z"
      },
      {
        "duration": 7,
        "start_time": "2023-03-17T17:12:35.752Z"
      },
      {
        "duration": 7,
        "start_time": "2023-03-17T17:12:35.761Z"
      },
      {
        "duration": 24,
        "start_time": "2023-03-17T17:12:35.770Z"
      },
      {
        "duration": 85,
        "start_time": "2023-03-17T17:12:35.795Z"
      },
      {
        "duration": 2,
        "start_time": "2023-03-17T17:12:35.882Z"
      },
      {
        "duration": 29,
        "start_time": "2023-03-17T17:12:35.886Z"
      },
      {
        "duration": 234,
        "start_time": "2023-03-17T17:12:35.917Z"
      },
      {
        "duration": 90,
        "start_time": "2023-03-17T17:12:36.152Z"
      },
      {
        "duration": 11,
        "start_time": "2023-03-17T17:12:36.243Z"
      },
      {
        "duration": 83,
        "start_time": "2023-03-17T17:13:10.113Z"
      },
      {
        "duration": 44423,
        "start_time": "2023-03-17T17:14:04.077Z"
      },
      {
        "duration": 44121,
        "start_time": "2023-03-17T17:22:01.235Z"
      },
      {
        "duration": 1236,
        "start_time": "2023-03-18T02:16:19.460Z"
      },
      {
        "duration": 1183,
        "start_time": "2023-03-18T02:16:31.849Z"
      },
      {
        "duration": 1158,
        "start_time": "2023-03-18T02:16:33.034Z"
      },
      {
        "duration": 23,
        "start_time": "2023-03-18T02:16:34.194Z"
      },
      {
        "duration": 167,
        "start_time": "2023-03-18T02:16:34.220Z"
      },
      {
        "duration": 2,
        "start_time": "2023-03-18T02:16:34.389Z"
      },
      {
        "duration": 322,
        "start_time": "2023-03-18T02:16:34.393Z"
      },
      {
        "duration": 145,
        "start_time": "2023-03-18T02:16:34.717Z"
      },
      {
        "duration": 113,
        "start_time": "2023-03-18T02:16:34.863Z"
      },
      {
        "duration": 55,
        "start_time": "2023-03-18T02:16:34.978Z"
      },
      {
        "duration": 173,
        "start_time": "2023-03-18T02:16:35.037Z"
      },
      {
        "duration": 470,
        "start_time": "2023-03-18T02:16:35.213Z"
      },
      {
        "duration": 945,
        "start_time": "2023-03-18T02:16:35.685Z"
      },
      {
        "duration": 28,
        "start_time": "2023-03-18T02:16:36.632Z"
      },
      {
        "duration": 137,
        "start_time": "2023-03-18T02:16:36.672Z"
      },
      {
        "duration": 75,
        "start_time": "2023-03-18T02:16:36.811Z"
      },
      {
        "duration": 3,
        "start_time": "2023-03-18T02:16:36.888Z"
      },
      {
        "duration": 6,
        "start_time": "2023-03-18T02:16:36.893Z"
      },
      {
        "duration": 5,
        "start_time": "2023-03-18T02:16:36.901Z"
      },
      {
        "duration": 3,
        "start_time": "2023-03-18T02:16:36.909Z"
      },
      {
        "duration": 119,
        "start_time": "2023-03-18T02:16:36.914Z"
      },
      {
        "duration": 3,
        "start_time": "2023-03-18T02:16:37.034Z"
      },
      {
        "duration": 7,
        "start_time": "2023-03-18T02:16:37.038Z"
      },
      {
        "duration": 40503,
        "start_time": "2023-03-18T02:16:37.047Z"
      },
      {
        "duration": 5,
        "start_time": "2023-03-18T02:17:17.553Z"
      },
      {
        "duration": 1201,
        "start_time": "2023-03-18T02:28:43.839Z"
      },
      {
        "duration": 981,
        "start_time": "2023-03-18T02:28:45.042Z"
      },
      {
        "duration": 33,
        "start_time": "2023-03-18T02:28:46.025Z"
      },
      {
        "duration": 165,
        "start_time": "2023-03-18T02:28:46.061Z"
      },
      {
        "duration": 3,
        "start_time": "2023-03-18T02:28:46.227Z"
      },
      {
        "duration": 216,
        "start_time": "2023-03-18T02:28:46.231Z"
      },
      {
        "duration": 167,
        "start_time": "2023-03-18T02:28:46.448Z"
      },
      {
        "duration": 129,
        "start_time": "2023-03-18T02:28:46.617Z"
      },
      {
        "duration": 66,
        "start_time": "2023-03-18T02:28:46.747Z"
      },
      {
        "duration": 143,
        "start_time": "2023-03-18T02:28:46.817Z"
      },
      {
        "duration": 549,
        "start_time": "2023-03-18T02:28:46.962Z"
      },
      {
        "duration": 1003,
        "start_time": "2023-03-18T02:28:47.513Z"
      },
      {
        "duration": 30,
        "start_time": "2023-03-18T02:28:48.518Z"
      },
      {
        "duration": 164,
        "start_time": "2023-03-18T02:28:48.550Z"
      },
      {
        "duration": 80,
        "start_time": "2023-03-18T02:28:48.716Z"
      },
      {
        "duration": 3,
        "start_time": "2023-03-18T02:28:48.798Z"
      },
      {
        "duration": 10,
        "start_time": "2023-03-18T02:28:48.802Z"
      },
      {
        "duration": 7,
        "start_time": "2023-03-18T02:28:48.814Z"
      },
      {
        "duration": 5,
        "start_time": "2023-03-18T02:28:48.822Z"
      },
      {
        "duration": 110,
        "start_time": "2023-03-18T02:28:48.828Z"
      },
      {
        "duration": 3,
        "start_time": "2023-03-18T02:28:48.940Z"
      },
      {
        "duration": 5,
        "start_time": "2023-03-18T02:28:48.945Z"
      },
      {
        "duration": 194,
        "start_time": "2023-03-18T02:28:48.951Z"
      },
      {
        "duration": 9,
        "start_time": "2023-03-18T02:28:49.146Z"
      },
      {
        "duration": 0,
        "start_time": "2023-03-18T02:28:49.157Z"
      },
      {
        "duration": 0,
        "start_time": "2023-03-18T02:28:49.158Z"
      },
      {
        "duration": 0,
        "start_time": "2023-03-18T02:28:49.159Z"
      },
      {
        "duration": 0,
        "start_time": "2023-03-18T02:28:49.160Z"
      },
      {
        "duration": 61,
        "start_time": "2023-03-18T02:29:47.565Z"
      },
      {
        "duration": 86,
        "start_time": "2023-03-18T02:30:25.830Z"
      },
      {
        "duration": 62,
        "start_time": "2023-03-18T02:30:32.628Z"
      },
      {
        "duration": 4,
        "start_time": "2023-03-18T02:31:07.299Z"
      },
      {
        "duration": 1940,
        "start_time": "2023-03-18T02:31:19.475Z"
      },
      {
        "duration": 113,
        "start_time": "2023-03-18T02:31:25.018Z"
      },
      {
        "duration": 5,
        "start_time": "2023-03-18T02:33:02.696Z"
      },
      {
        "duration": 1794,
        "start_time": "2023-03-18T02:33:09.928Z"
      },
      {
        "duration": 29,
        "start_time": "2023-03-18T02:35:21.599Z"
      },
      {
        "duration": 1366,
        "start_time": "2023-03-18T05:52:12.556Z"
      },
      {
        "duration": 1183,
        "start_time": "2023-03-18T05:52:13.924Z"
      },
      {
        "duration": 21,
        "start_time": "2023-03-18T05:52:15.109Z"
      },
      {
        "duration": 147,
        "start_time": "2023-03-18T05:52:15.133Z"
      },
      {
        "duration": 3,
        "start_time": "2023-03-18T05:52:15.282Z"
      },
      {
        "duration": 190,
        "start_time": "2023-03-18T05:52:15.287Z"
      },
      {
        "duration": 142,
        "start_time": "2023-03-18T05:52:15.479Z"
      },
      {
        "duration": 114,
        "start_time": "2023-03-18T05:52:15.623Z"
      },
      {
        "duration": 55,
        "start_time": "2023-03-18T05:52:15.739Z"
      },
      {
        "duration": 135,
        "start_time": "2023-03-18T05:52:15.797Z"
      },
      {
        "duration": 448,
        "start_time": "2023-03-18T05:52:15.934Z"
      },
      {
        "duration": 935,
        "start_time": "2023-03-18T05:52:16.385Z"
      },
      {
        "duration": 33,
        "start_time": "2023-03-18T05:52:17.322Z"
      },
      {
        "duration": 140,
        "start_time": "2023-03-18T05:52:17.357Z"
      },
      {
        "duration": 78,
        "start_time": "2023-03-18T05:52:17.499Z"
      },
      {
        "duration": 2,
        "start_time": "2023-03-18T05:52:17.579Z"
      },
      {
        "duration": 9,
        "start_time": "2023-03-18T05:52:17.583Z"
      },
      {
        "duration": 8,
        "start_time": "2023-03-18T05:52:17.594Z"
      },
      {
        "duration": 12,
        "start_time": "2023-03-18T05:52:17.604Z"
      },
      {
        "duration": 101,
        "start_time": "2023-03-18T05:52:17.618Z"
      },
      {
        "duration": 2,
        "start_time": "2023-03-18T05:52:17.721Z"
      },
      {
        "duration": 9,
        "start_time": "2023-03-18T05:52:17.725Z"
      },
      {
        "duration": 40079,
        "start_time": "2023-03-18T05:52:17.736Z"
      },
      {
        "duration": 5,
        "start_time": "2023-03-18T05:52:57.817Z"
      },
      {
        "duration": 1691,
        "start_time": "2023-03-18T05:52:57.823Z"
      },
      {
        "duration": 85,
        "start_time": "2023-03-18T05:52:59.516Z"
      },
      {
        "duration": 60,
        "start_time": "2023-03-18T05:52:59.603Z"
      },
      {
        "duration": 5,
        "start_time": "2023-03-18T05:52:59.666Z"
      },
      {
        "duration": 20,
        "start_time": "2023-03-18T06:15:04.149Z"
      },
      {
        "duration": 23,
        "start_time": "2023-03-18T06:15:18.963Z"
      },
      {
        "duration": 670,
        "start_time": "2023-03-18T06:15:33.253Z"
      },
      {
        "duration": 22,
        "start_time": "2023-03-18T06:21:36.251Z"
      },
      {
        "duration": 93,
        "start_time": "2023-03-18T06:21:42.598Z"
      },
      {
        "duration": 1334,
        "start_time": "2023-03-18T06:21:45.114Z"
      },
      {
        "duration": 6,
        "start_time": "2023-03-18T06:21:52.162Z"
      },
      {
        "duration": 1631,
        "start_time": "2023-03-18T06:31:03.007Z"
      },
      {
        "duration": 869884,
        "start_time": "2023-03-18T06:33:26.413Z"
      },
      {
        "duration": 3,
        "start_time": "2023-03-18T06:47:56.379Z"
      },
      {
        "duration": 41872,
        "start_time": "2023-03-18T06:51:52.012Z"
      },
      {
        "duration": 1246,
        "start_time": "2023-03-18T06:53:49.952Z"
      },
      {
        "duration": 5,
        "start_time": "2023-03-18T06:53:54.880Z"
      },
      {
        "duration": 493519,
        "start_time": "2023-03-18T06:54:14.879Z"
      },
      {
        "duration": 35998,
        "start_time": "2023-03-18T07:02:28.400Z"
      },
      {
        "duration": 192,
        "start_time": "2023-03-18T07:03:04.400Z"
      },
      {
        "duration": 477372,
        "start_time": "2023-03-18T07:03:04.594Z"
      },
      {
        "duration": 39531,
        "start_time": "2023-03-18T07:11:01.967Z"
      },
      {
        "duration": 7,
        "start_time": "2023-03-18T07:11:41.500Z"
      },
      {
        "duration": 1142,
        "start_time": "2023-03-18T14:48:37.201Z"
      },
      {
        "duration": 993,
        "start_time": "2023-03-18T14:48:38.345Z"
      },
      {
        "duration": 20,
        "start_time": "2023-03-18T14:48:39.339Z"
      },
      {
        "duration": 117,
        "start_time": "2023-03-18T14:48:39.360Z"
      },
      {
        "duration": 2,
        "start_time": "2023-03-18T14:48:39.480Z"
      },
      {
        "duration": 160,
        "start_time": "2023-03-18T14:48:39.483Z"
      },
      {
        "duration": 121,
        "start_time": "2023-03-18T14:48:39.645Z"
      },
      {
        "duration": 110,
        "start_time": "2023-03-18T14:48:39.769Z"
      },
      {
        "duration": 42,
        "start_time": "2023-03-18T14:48:39.881Z"
      },
      {
        "duration": 132,
        "start_time": "2023-03-18T14:48:39.925Z"
      },
      {
        "duration": 376,
        "start_time": "2023-03-18T14:48:40.059Z"
      },
      {
        "duration": 787,
        "start_time": "2023-03-18T14:48:40.437Z"
      },
      {
        "duration": 25,
        "start_time": "2023-03-18T14:48:41.225Z"
      },
      {
        "duration": 115,
        "start_time": "2023-03-18T14:48:41.253Z"
      },
      {
        "duration": 68,
        "start_time": "2023-03-18T14:48:41.370Z"
      },
      {
        "duration": 14,
        "start_time": "2023-03-18T14:48:41.440Z"
      },
      {
        "duration": 63,
        "start_time": "2023-03-18T14:48:41.455Z"
      },
      {
        "duration": 822,
        "start_time": "2023-03-18T14:48:41.520Z"
      },
      {
        "duration": 668,
        "start_time": "2023-03-18T14:48:42.344Z"
      },
      {
        "duration": 6,
        "start_time": "2023-03-18T14:48:43.013Z"
      },
      {
        "duration": 462957,
        "start_time": "2023-03-18T14:48:43.020Z"
      },
      {
        "duration": 33569,
        "start_time": "2023-03-18T14:56:25.979Z"
      },
      {
        "duration": 232,
        "start_time": "2023-03-18T14:56:59.550Z"
      },
      {
        "duration": 429851,
        "start_time": "2023-03-18T14:56:59.783Z"
      },
      {
        "duration": 36976,
        "start_time": "2023-03-18T15:04:09.635Z"
      },
      {
        "duration": 4,
        "start_time": "2023-03-18T15:04:46.613Z"
      },
      {
        "duration": 108,
        "start_time": "2023-03-19T08:30:15.675Z"
      },
      {
        "duration": 1259,
        "start_time": "2023-03-19T08:30:23.376Z"
      },
      {
        "duration": 1210,
        "start_time": "2023-03-19T08:30:25.008Z"
      },
      {
        "duration": 26,
        "start_time": "2023-03-19T08:30:26.220Z"
      },
      {
        "duration": 150,
        "start_time": "2023-03-19T08:30:26.426Z"
      },
      {
        "duration": 165,
        "start_time": "2023-03-19T08:30:29.115Z"
      },
      {
        "duration": 143,
        "start_time": "2023-03-19T08:30:30.054Z"
      },
      {
        "duration": 108,
        "start_time": "2023-03-19T08:30:30.729Z"
      },
      {
        "duration": 45,
        "start_time": "2023-03-19T08:30:31.903Z"
      },
      {
        "duration": 128,
        "start_time": "2023-03-19T08:30:32.877Z"
      },
      {
        "duration": 457,
        "start_time": "2023-03-19T08:30:35.863Z"
      },
      {
        "duration": 865,
        "start_time": "2023-03-19T08:30:36.718Z"
      },
      {
        "duration": 24,
        "start_time": "2023-03-19T08:30:37.718Z"
      },
      {
        "duration": 128,
        "start_time": "2023-03-19T08:30:40.457Z"
      },
      {
        "duration": 63,
        "start_time": "2023-03-19T08:30:41.256Z"
      },
      {
        "duration": 14,
        "start_time": "2023-03-19T08:30:49.221Z"
      },
      {
        "duration": 103,
        "start_time": "2023-03-19T08:30:49.237Z"
      },
      {
        "duration": 1235,
        "start_time": "2023-03-19T08:30:49.342Z"
      },
      {
        "duration": 688,
        "start_time": "2023-03-19T08:30:52.055Z"
      },
      {
        "duration": 6,
        "start_time": "2023-03-19T08:30:53.463Z"
      },
      {
        "duration": 6890074,
        "start_time": "2023-03-19T08:31:40.976Z"
      },
      {
        "duration": 1354,
        "start_time": "2023-03-19T10:52:33.430Z"
      },
      {
        "duration": 1045,
        "start_time": "2023-03-19T10:52:34.787Z"
      },
      {
        "duration": 22,
        "start_time": "2023-03-19T10:52:35.833Z"
      },
      {
        "duration": 174,
        "start_time": "2023-03-19T10:52:35.857Z"
      },
      {
        "duration": 215,
        "start_time": "2023-03-19T10:52:36.033Z"
      },
      {
        "duration": 213,
        "start_time": "2023-03-19T10:52:36.250Z"
      },
      {
        "duration": 144,
        "start_time": "2023-03-19T10:52:36.464Z"
      },
      {
        "duration": 181,
        "start_time": "2023-03-19T10:52:36.611Z"
      },
      {
        "duration": 562,
        "start_time": "2023-03-19T10:52:36.794Z"
      },
      {
        "duration": 1225,
        "start_time": "2023-03-19T10:52:37.358Z"
      },
      {
        "duration": 45,
        "start_time": "2023-03-19T10:52:38.585Z"
      },
      {
        "duration": 48,
        "start_time": "2023-03-19T10:52:38.633Z"
      },
      {
        "duration": 171,
        "start_time": "2023-03-19T10:52:38.683Z"
      },
      {
        "duration": 77,
        "start_time": "2023-03-19T10:52:38.856Z"
      },
      {
        "duration": 15,
        "start_time": "2023-03-19T10:52:38.935Z"
      },
      {
        "duration": 126,
        "start_time": "2023-03-19T10:52:38.952Z"
      },
      {
        "duration": 1307,
        "start_time": "2023-03-19T10:52:39.079Z"
      },
      {
        "duration": 901,
        "start_time": "2023-03-19T10:52:40.388Z"
      },
      {
        "duration": 7,
        "start_time": "2023-03-19T10:52:41.293Z"
      },
      {
        "duration": 552602,
        "start_time": "2023-03-19T10:52:41.302Z"
      },
      {
        "duration": 40111,
        "start_time": "2023-03-19T11:01:53.908Z"
      },
      {
        "duration": 205,
        "start_time": "2023-03-19T11:02:34.021Z"
      },
      {
        "duration": 528693,
        "start_time": "2023-03-19T11:02:34.228Z"
      },
      {
        "duration": 44440,
        "start_time": "2023-03-19T11:11:22.923Z"
      },
      {
        "duration": 9,
        "start_time": "2023-03-19T11:12:07.365Z"
      },
      {
        "duration": 12019419,
        "start_time": "2023-03-19T11:12:07.376Z"
      },
      {
        "duration": 168199,
        "start_time": "2023-03-19T14:32:26.796Z"
      },
      {
        "duration": 1212,
        "start_time": "2023-03-19T14:35:15.000Z"
      },
      {
        "duration": 81,
        "start_time": "2023-03-19T14:35:16.213Z"
      },
      {
        "duration": 1338,
        "start_time": "2023-03-20T02:02:58.645Z"
      },
      {
        "duration": 1396,
        "start_time": "2023-03-20T02:02:59.985Z"
      },
      {
        "duration": 24,
        "start_time": "2023-03-20T02:03:01.384Z"
      },
      {
        "duration": 181,
        "start_time": "2023-03-20T02:03:01.411Z"
      },
      {
        "duration": 202,
        "start_time": "2023-03-20T02:03:01.594Z"
      },
      {
        "duration": 161,
        "start_time": "2023-03-20T02:03:01.798Z"
      },
      {
        "duration": 126,
        "start_time": "2023-03-20T02:03:01.961Z"
      },
      {
        "duration": 155,
        "start_time": "2023-03-20T02:03:02.089Z"
      },
      {
        "duration": 567,
        "start_time": "2023-03-20T02:03:02.246Z"
      },
      {
        "duration": 1075,
        "start_time": "2023-03-20T02:03:02.816Z"
      },
      {
        "duration": 31,
        "start_time": "2023-03-20T02:03:03.893Z"
      },
      {
        "duration": 47,
        "start_time": "2023-03-20T02:03:03.926Z"
      },
      {
        "duration": 137,
        "start_time": "2023-03-20T02:03:03.975Z"
      },
      {
        "duration": 84,
        "start_time": "2023-03-20T02:03:04.114Z"
      },
      {
        "duration": 18,
        "start_time": "2023-03-20T02:03:04.199Z"
      },
      {
        "duration": 111,
        "start_time": "2023-03-20T02:03:04.219Z"
      },
      {
        "duration": 1410,
        "start_time": "2023-03-20T02:03:04.332Z"
      },
      {
        "duration": 698,
        "start_time": "2023-03-20T02:03:05.744Z"
      },
      {
        "duration": 6,
        "start_time": "2023-03-20T02:03:06.444Z"
      },
      {
        "duration": 532681,
        "start_time": "2023-03-20T02:03:06.452Z"
      },
      {
        "duration": 40719,
        "start_time": "2023-03-20T02:11:59.135Z"
      },
      {
        "duration": 228,
        "start_time": "2023-03-20T02:12:39.856Z"
      },
      {
        "duration": 504122,
        "start_time": "2023-03-20T02:12:40.088Z"
      },
      {
        "duration": 41440,
        "start_time": "2023-03-20T02:21:04.212Z"
      },
      {
        "duration": 6,
        "start_time": "2023-03-20T02:21:45.653Z"
      },
      {
        "duration": 1403,
        "start_time": "2023-03-21T14:46:05.222Z"
      },
      {
        "duration": 1197,
        "start_time": "2023-03-21T14:46:06.628Z"
      },
      {
        "duration": 26,
        "start_time": "2023-03-21T14:46:07.827Z"
      },
      {
        "duration": 159,
        "start_time": "2023-03-21T14:46:07.856Z"
      },
      {
        "duration": 176,
        "start_time": "2023-03-21T14:46:08.017Z"
      },
      {
        "duration": 153,
        "start_time": "2023-03-21T14:46:08.195Z"
      },
      {
        "duration": 113,
        "start_time": "2023-03-21T14:46:08.350Z"
      },
      {
        "duration": 134,
        "start_time": "2023-03-21T14:46:08.465Z"
      },
      {
        "duration": 485,
        "start_time": "2023-03-21T14:46:08.609Z"
      },
      {
        "duration": 995,
        "start_time": "2023-03-21T14:46:09.096Z"
      },
      {
        "duration": 37,
        "start_time": "2023-03-21T14:46:10.093Z"
      },
      {
        "duration": 29,
        "start_time": "2023-03-21T14:46:10.132Z"
      },
      {
        "duration": 176,
        "start_time": "2023-03-21T14:46:10.163Z"
      },
      {
        "duration": 78,
        "start_time": "2023-03-21T14:46:10.340Z"
      },
      {
        "duration": 15,
        "start_time": "2023-03-21T14:46:10.420Z"
      },
      {
        "duration": 97,
        "start_time": "2023-03-21T14:46:10.437Z"
      },
      {
        "duration": 1320,
        "start_time": "2023-03-21T14:46:10.536Z"
      },
      {
        "duration": 761,
        "start_time": "2023-03-21T14:46:11.858Z"
      },
      {
        "duration": 6,
        "start_time": "2023-03-21T14:46:12.621Z"
      },
      {
        "duration": 529948,
        "start_time": "2023-03-21T14:46:12.628Z"
      },
      {
        "duration": 41282,
        "start_time": "2023-03-21T14:55:02.578Z"
      },
      {
        "duration": 260,
        "start_time": "2023-03-21T14:55:43.862Z"
      },
      {
        "duration": 534422,
        "start_time": "2023-03-21T14:55:44.131Z"
      },
      {
        "duration": 42693,
        "start_time": "2023-03-21T15:04:38.555Z"
      },
      {
        "duration": 5,
        "start_time": "2023-03-21T15:05:21.250Z"
      },
      {
        "duration": 172,
        "start_time": "2023-03-21T15:05:21.256Z"
      },
      {
        "duration": 65,
        "start_time": "2023-03-21T15:50:12.648Z"
      },
      {
        "duration": 1226,
        "start_time": "2023-03-22T04:26:33.634Z"
      },
      {
        "duration": 1257,
        "start_time": "2023-03-22T04:26:34.862Z"
      },
      {
        "duration": 28,
        "start_time": "2023-03-22T04:26:36.121Z"
      },
      {
        "duration": 229,
        "start_time": "2023-03-22T04:26:36.151Z"
      },
      {
        "duration": 209,
        "start_time": "2023-03-22T04:26:36.382Z"
      },
      {
        "duration": 141,
        "start_time": "2023-03-22T04:26:36.593Z"
      },
      {
        "duration": 124,
        "start_time": "2023-03-22T04:26:36.737Z"
      },
      {
        "duration": 166,
        "start_time": "2023-03-22T04:26:36.862Z"
      },
      {
        "duration": 463,
        "start_time": "2023-03-22T04:26:37.030Z"
      },
      {
        "duration": 1040,
        "start_time": "2023-03-22T04:26:37.495Z"
      },
      {
        "duration": 36,
        "start_time": "2023-03-22T04:26:38.537Z"
      },
      {
        "duration": 57,
        "start_time": "2023-03-22T04:26:38.575Z"
      },
      {
        "duration": 139,
        "start_time": "2023-03-22T04:26:38.634Z"
      },
      {
        "duration": 81,
        "start_time": "2023-03-22T04:26:38.776Z"
      },
      {
        "duration": 16,
        "start_time": "2023-03-22T04:26:38.859Z"
      },
      {
        "duration": 101,
        "start_time": "2023-03-22T04:26:38.876Z"
      },
      {
        "duration": 1545,
        "start_time": "2023-03-22T04:26:38.979Z"
      },
      {
        "duration": 723,
        "start_time": "2023-03-22T04:26:40.527Z"
      },
      {
        "duration": 6,
        "start_time": "2023-03-22T04:26:41.252Z"
      },
      {
        "duration": 521602,
        "start_time": "2023-03-22T04:26:41.260Z"
      },
      {
        "duration": 41139,
        "start_time": "2023-03-22T04:35:22.864Z"
      },
      {
        "duration": 227,
        "start_time": "2023-03-22T04:36:04.004Z"
      },
      {
        "duration": 521981,
        "start_time": "2023-03-22T04:36:04.234Z"
      },
      {
        "duration": 41960,
        "start_time": "2023-03-22T04:44:46.217Z"
      },
      {
        "duration": 7,
        "start_time": "2023-03-22T04:45:28.179Z"
      },
      {
        "duration": 156,
        "start_time": "2023-03-22T04:45:28.197Z"
      },
      {
        "duration": 62,
        "start_time": "2023-03-22T04:45:28.355Z"
      },
      {
        "duration": 10,
        "start_time": "2023-03-22T04:45:28.419Z"
      },
      {
        "duration": 0,
        "start_time": "2023-03-22T04:45:28.431Z"
      },
      {
        "duration": 0,
        "start_time": "2023-03-22T04:45:28.432Z"
      },
      {
        "duration": 0,
        "start_time": "2023-03-22T04:45:28.433Z"
      },
      {
        "duration": 0,
        "start_time": "2023-03-22T04:45:28.434Z"
      },
      {
        "duration": 0,
        "start_time": "2023-03-22T04:45:28.436Z"
      },
      {
        "duration": 0,
        "start_time": "2023-03-22T04:45:28.437Z"
      },
      {
        "duration": 0,
        "start_time": "2023-03-22T04:45:28.438Z"
      },
      {
        "duration": 0,
        "start_time": "2023-03-22T04:45:28.439Z"
      },
      {
        "duration": 0,
        "start_time": "2023-03-22T04:45:28.441Z"
      },
      {
        "duration": 0,
        "start_time": "2023-03-22T04:45:28.442Z"
      },
      {
        "duration": 0,
        "start_time": "2023-03-22T04:45:28.444Z"
      },
      {
        "duration": 0,
        "start_time": "2023-03-22T04:45:28.445Z"
      },
      {
        "duration": 3,
        "start_time": "2023-03-22T06:02:35.537Z"
      },
      {
        "duration": 5,
        "start_time": "2023-03-22T07:37:06.814Z"
      },
      {
        "duration": 958,
        "start_time": "2023-03-22T07:37:06.821Z"
      },
      {
        "duration": 20,
        "start_time": "2023-03-22T07:37:07.782Z"
      },
      {
        "duration": 163,
        "start_time": "2023-03-22T07:37:07.804Z"
      },
      {
        "duration": 180,
        "start_time": "2023-03-22T07:37:07.969Z"
      },
      {
        "duration": 161,
        "start_time": "2023-03-22T07:37:08.151Z"
      },
      {
        "duration": 112,
        "start_time": "2023-03-22T07:37:08.315Z"
      },
      {
        "duration": 146,
        "start_time": "2023-03-22T07:37:08.429Z"
      },
      {
        "duration": 468,
        "start_time": "2023-03-22T07:37:08.577Z"
      },
      {
        "duration": 1025,
        "start_time": "2023-03-22T07:37:09.048Z"
      },
      {
        "duration": 35,
        "start_time": "2023-03-22T07:37:10.076Z"
      },
      {
        "duration": 33,
        "start_time": "2023-03-22T07:37:10.113Z"
      },
      {
        "duration": 154,
        "start_time": "2023-03-22T07:37:10.148Z"
      },
      {
        "duration": 98,
        "start_time": "2023-03-22T07:37:10.304Z"
      },
      {
        "duration": 22,
        "start_time": "2023-03-22T07:37:10.405Z"
      },
      {
        "duration": 131,
        "start_time": "2023-03-22T07:37:10.430Z"
      },
      {
        "duration": 2126,
        "start_time": "2023-03-22T07:37:10.565Z"
      },
      {
        "duration": 699,
        "start_time": "2023-03-22T07:37:12.693Z"
      },
      {
        "duration": 9,
        "start_time": "2023-03-22T07:37:13.393Z"
      },
      {
        "duration": 4,
        "start_time": "2023-03-22T10:06:31.580Z"
      },
      {
        "duration": 832,
        "start_time": "2023-03-22T10:06:32.519Z"
      },
      {
        "duration": 18,
        "start_time": "2023-03-22T10:06:33.354Z"
      },
      {
        "duration": 138,
        "start_time": "2023-03-22T10:06:33.992Z"
      },
      {
        "duration": 167,
        "start_time": "2023-03-22T10:06:36.985Z"
      },
      {
        "duration": 142,
        "start_time": "2023-03-22T10:06:38.151Z"
      },
      {
        "duration": 115,
        "start_time": "2023-03-22T10:06:39.827Z"
      },
      {
        "duration": 158,
        "start_time": "2023-03-22T10:06:40.776Z"
      },
      {
        "duration": 403,
        "start_time": "2023-03-22T10:06:42.826Z"
      },
      {
        "duration": 847,
        "start_time": "2023-03-22T10:06:44.085Z"
      },
      {
        "duration": 26,
        "start_time": "2023-03-22T10:06:45.681Z"
      },
      {
        "duration": 28,
        "start_time": "2023-03-22T10:06:48.187Z"
      },
      {
        "duration": 153,
        "start_time": "2023-03-22T10:06:50.281Z"
      },
      {
        "duration": 70,
        "start_time": "2023-03-22T10:06:51.488Z"
      },
      {
        "duration": 19,
        "start_time": "2023-03-22T10:06:57.373Z"
      },
      {
        "duration": 73,
        "start_time": "2023-03-22T10:06:58.144Z"
      },
      {
        "duration": 1425,
        "start_time": "2023-03-22T10:06:59.049Z"
      },
      {
        "duration": 742,
        "start_time": "2023-03-22T10:07:00.477Z"
      },
      {
        "duration": 5,
        "start_time": "2023-03-22T10:07:01.221Z"
      },
      {
        "duration": 10,
        "start_time": "2023-03-22T10:07:22.952Z"
      },
      {
        "duration": 665,
        "start_time": "2023-03-22T10:15:44.943Z"
      },
      {
        "duration": 48,
        "start_time": "2023-03-22T10:17:21.583Z"
      },
      {
        "duration": 66,
        "start_time": "2023-03-22T10:17:37.154Z"
      },
      {
        "duration": 92,
        "start_time": "2023-03-22T10:58:41.737Z"
      },
      {
        "duration": 10843,
        "start_time": "2023-03-22T10:59:18.845Z"
      },
      {
        "duration": 10,
        "start_time": "2023-03-22T11:21:59.854Z"
      },
      {
        "duration": 142,
        "start_time": "2023-03-22T11:22:37.949Z"
      },
      {
        "duration": 4,
        "start_time": "2023-03-22T11:28:36.996Z"
      },
      {
        "duration": 11514,
        "start_time": "2023-03-22T11:30:00.785Z"
      },
      {
        "duration": 12,
        "start_time": "2023-03-22T11:31:05.590Z"
      },
      {
        "duration": 18,
        "start_time": "2023-03-22T11:31:49.585Z"
      },
      {
        "duration": 15,
        "start_time": "2023-03-22T11:35:06.212Z"
      },
      {
        "duration": 15,
        "start_time": "2023-03-22T11:35:24.297Z"
      },
      {
        "duration": 263500,
        "start_time": "2023-03-22T11:35:55.112Z"
      },
      {
        "duration": 16,
        "start_time": "2023-03-22T13:47:11.018Z"
      },
      {
        "duration": 11,
        "start_time": "2023-03-22T13:54:55.254Z"
      },
      {
        "duration": 4,
        "start_time": "2023-03-22T13:54:58.684Z"
      },
      {
        "duration": 8379,
        "start_time": "2023-03-22T13:55:00.120Z"
      },
      {
        "duration": 18,
        "start_time": "2023-03-22T13:55:08.501Z"
      },
      {
        "duration": 2,
        "start_time": "2023-03-22T13:57:29.921Z"
      },
      {
        "duration": 58,
        "start_time": "2023-03-22T13:57:49.993Z"
      },
      {
        "duration": 5,
        "start_time": "2023-03-22T14:02:47.685Z"
      },
      {
        "duration": 135,
        "start_time": "2023-03-22T14:03:01.523Z"
      },
      {
        "duration": 25836,
        "start_time": "2023-03-22T14:05:18.167Z"
      },
      {
        "duration": 87,
        "start_time": "2023-03-22T14:06:22.749Z"
      },
      {
        "duration": 885,
        "start_time": "2023-03-22T14:06:34.817Z"
      },
      {
        "duration": 7,
        "start_time": "2023-03-22T14:06:50.638Z"
      },
      {
        "duration": 124,
        "start_time": "2023-03-22T14:15:08.573Z"
      },
      {
        "duration": 80,
        "start_time": "2023-03-22T14:15:11.831Z"
      },
      {
        "duration": 6,
        "start_time": "2023-03-22T14:15:13.253Z"
      },
      {
        "duration": 843119,
        "start_time": "2023-03-22T14:16:39.088Z"
      },
      {
        "duration": 70,
        "start_time": "2023-03-22T14:42:09.421Z"
      },
      {
        "duration": 4,
        "start_time": "2023-03-22T14:44:48.586Z"
      },
      {
        "duration": 21075,
        "start_time": "2023-03-22T14:46:07.530Z"
      },
      {
        "duration": 1301,
        "start_time": "2023-03-22T14:46:28.606Z"
      },
      {
        "duration": 60,
        "start_time": "2023-03-22T14:47:01.046Z"
      },
      {
        "duration": 6,
        "start_time": "2023-03-22T14:47:18.922Z"
      },
      {
        "duration": 659578,
        "start_time": "2023-03-22T14:50:29.322Z"
      },
      {
        "duration": 9006,
        "start_time": "2023-03-22T15:01:28.902Z"
      },
      {
        "duration": 690,
        "start_time": "2023-03-22T15:01:37.909Z"
      },
      {
        "duration": 6,
        "start_time": "2023-03-22T15:01:38.601Z"
      },
      {
        "duration": 32276,
        "start_time": "2023-03-22T15:04:12.530Z"
      },
      {
        "duration": 795,
        "start_time": "2023-03-22T15:04:44.808Z"
      },
      {
        "duration": 5,
        "start_time": "2023-03-22T15:04:45.605Z"
      },
      {
        "duration": 13,
        "start_time": "2023-03-22T15:06:48.137Z"
      },
      {
        "duration": 59,
        "start_time": "2023-03-22T15:08:00.817Z"
      },
      {
        "duration": 51,
        "start_time": "2023-03-22T15:08:45.412Z"
      },
      {
        "duration": 12,
        "start_time": "2023-03-22T15:08:55.455Z"
      },
      {
        "duration": 18,
        "start_time": "2023-03-22T15:10:56.745Z"
      },
      {
        "duration": 1178,
        "start_time": "2023-03-23T04:03:48.820Z"
      },
      {
        "duration": 896,
        "start_time": "2023-03-23T04:03:50.000Z"
      },
      {
        "duration": 18,
        "start_time": "2023-03-23T04:03:50.897Z"
      },
      {
        "duration": 106,
        "start_time": "2023-03-23T04:03:50.917Z"
      },
      {
        "duration": 138,
        "start_time": "2023-03-23T04:03:51.025Z"
      },
      {
        "duration": 103,
        "start_time": "2023-03-23T04:03:51.165Z"
      },
      {
        "duration": 91,
        "start_time": "2023-03-23T04:03:51.269Z"
      },
      {
        "duration": 114,
        "start_time": "2023-03-23T04:03:51.361Z"
      },
      {
        "duration": 350,
        "start_time": "2023-03-23T04:03:51.477Z"
      },
      {
        "duration": 727,
        "start_time": "2023-03-23T04:03:51.830Z"
      },
      {
        "duration": 27,
        "start_time": "2023-03-23T04:03:52.559Z"
      },
      {
        "duration": 41,
        "start_time": "2023-03-23T04:03:52.587Z"
      },
      {
        "duration": 100,
        "start_time": "2023-03-23T04:03:52.630Z"
      },
      {
        "duration": 61,
        "start_time": "2023-03-23T04:03:52.731Z"
      },
      {
        "duration": 28,
        "start_time": "2023-03-23T04:03:52.794Z"
      },
      {
        "duration": 58,
        "start_time": "2023-03-23T04:03:52.824Z"
      },
      {
        "duration": 747,
        "start_time": "2023-03-23T04:03:52.884Z"
      },
      {
        "duration": 579,
        "start_time": "2023-03-23T04:03:53.632Z"
      },
      {
        "duration": 4,
        "start_time": "2023-03-23T04:03:54.213Z"
      },
      {
        "duration": 430240,
        "start_time": "2023-03-23T04:03:54.222Z"
      },
      {
        "duration": 31749,
        "start_time": "2023-03-23T04:11:04.464Z"
      },
      {
        "duration": 165,
        "start_time": "2023-03-23T04:11:36.215Z"
      },
      {
        "duration": 421168,
        "start_time": "2023-03-23T04:11:36.382Z"
      },
      {
        "duration": 35660,
        "start_time": "2023-03-23T04:18:37.551Z"
      },
      {
        "duration": 10,
        "start_time": "2023-03-23T04:19:13.213Z"
      },
      {
        "duration": 179,
        "start_time": "2023-03-23T04:19:13.224Z"
      },
      {
        "duration": 4,
        "start_time": "2023-03-23T04:19:13.404Z"
      },
      {
        "duration": 6704,
        "start_time": "2023-03-23T04:19:13.421Z"
      },
      {
        "duration": 804,
        "start_time": "2023-03-23T04:19:20.126Z"
      },
      {
        "duration": 595300,
        "start_time": "2023-03-23T04:19:20.932Z"
      },
      {
        "duration": 3,
        "start_time": "2023-03-23T04:29:16.322Z"
      },
      {
        "duration": 14604,
        "start_time": "2023-03-23T04:29:16.327Z"
      },
      {
        "duration": 1190,
        "start_time": "2023-03-23T04:29:30.933Z"
      },
      {
        "duration": 5,
        "start_time": "2023-03-23T04:29:32.124Z"
      },
      {
        "duration": 504399,
        "start_time": "2023-03-23T04:29:32.130Z"
      },
      {
        "duration": 11902,
        "start_time": "2023-03-23T04:37:56.530Z"
      },
      {
        "duration": 793,
        "start_time": "2023-03-23T04:38:08.434Z"
      },
      {
        "duration": 5,
        "start_time": "2023-03-23T04:38:09.229Z"
      },
      {
        "duration": 18791,
        "start_time": "2023-03-23T04:38:09.236Z"
      },
      {
        "duration": 599,
        "start_time": "2023-03-23T04:38:28.029Z"
      },
      {
        "duration": 97,
        "start_time": "2023-03-23T04:38:28.629Z"
      },
      {
        "duration": 134,
        "start_time": "2023-03-23T04:38:28.727Z"
      },
      {
        "duration": 160,
        "start_time": "2023-03-23T04:38:28.862Z"
      },
      {
        "duration": 10,
        "start_time": "2023-03-23T04:38:29.024Z"
      },
      {
        "duration": 97,
        "start_time": "2023-03-23T04:38:29.035Z"
      },
      {
        "duration": 299,
        "start_time": "2023-03-23T04:38:29.133Z"
      },
      {
        "duration": 12289,
        "start_time": "2023-03-23T04:38:29.433Z"
      },
      {
        "duration": 1000,
        "start_time": "2023-03-23T04:38:41.724Z"
      },
      {
        "duration": 6,
        "start_time": "2023-03-23T04:38:42.725Z"
      },
      {
        "duration": 13391,
        "start_time": "2023-03-23T04:38:42.732Z"
      },
      {
        "duration": 148,
        "start_time": "2023-03-23T06:52:12.449Z"
      },
      {
        "duration": 34764,
        "start_time": "2023-03-23T07:24:39.794Z"
      },
      {
        "duration": 108,
        "start_time": "2023-03-23T07:25:14.560Z"
      },
      {
        "duration": 5,
        "start_time": "2023-03-23T07:25:14.670Z"
      },
      {
        "duration": 38488,
        "start_time": "2023-03-23T07:25:32.369Z"
      },
      {
        "duration": 192,
        "start_time": "2023-03-23T07:26:10.859Z"
      },
      {
        "duration": 5,
        "start_time": "2023-03-23T07:26:11.052Z"
      },
      {
        "duration": 198,
        "start_time": "2023-03-23T07:49:05.698Z"
      },
      {
        "duration": 12,
        "start_time": "2023-03-23T08:13:52.301Z"
      },
      {
        "duration": 12,
        "start_time": "2023-03-23T08:16:34.247Z"
      },
      {
        "duration": 1074,
        "start_time": "2023-03-23T08:30:22.749Z"
      },
      {
        "duration": 6,
        "start_time": "2023-03-23T08:30:33.387Z"
      },
      {
        "duration": 0,
        "start_time": "2023-03-23T08:58:19.389Z"
      },
      {
        "duration": 0,
        "start_time": "2023-03-23T08:58:19.390Z"
      },
      {
        "duration": 0,
        "start_time": "2023-03-23T08:58:19.392Z"
      },
      {
        "duration": 65901,
        "start_time": "2023-03-23T08:58:20.457Z"
      },
      {
        "duration": 1215,
        "start_time": "2023-03-23T10:02:20.446Z"
      },
      {
        "duration": 842,
        "start_time": "2023-03-23T10:02:21.662Z"
      },
      {
        "duration": 34,
        "start_time": "2023-03-23T10:02:22.506Z"
      },
      {
        "duration": 233,
        "start_time": "2023-03-23T10:02:22.542Z"
      },
      {
        "duration": 172,
        "start_time": "2023-03-23T10:02:22.777Z"
      },
      {
        "duration": 109,
        "start_time": "2023-03-23T10:02:22.950Z"
      },
      {
        "duration": 95,
        "start_time": "2023-03-23T10:02:23.060Z"
      },
      {
        "duration": 124,
        "start_time": "2023-03-23T10:02:23.156Z"
      },
      {
        "duration": 412,
        "start_time": "2023-03-23T10:02:23.282Z"
      },
      {
        "duration": 807,
        "start_time": "2023-03-23T10:02:23.696Z"
      },
      {
        "duration": 36,
        "start_time": "2023-03-23T10:02:24.505Z"
      },
      {
        "duration": 29,
        "start_time": "2023-03-23T10:02:24.542Z"
      },
      {
        "duration": 155,
        "start_time": "2023-03-23T10:02:24.573Z"
      },
      {
        "duration": 68,
        "start_time": "2023-03-23T10:02:24.731Z"
      },
      {
        "duration": 29,
        "start_time": "2023-03-23T10:02:24.800Z"
      },
      {
        "duration": 64,
        "start_time": "2023-03-23T10:02:24.840Z"
      },
      {
        "duration": 807,
        "start_time": "2023-03-23T10:02:24.906Z"
      },
      {
        "duration": 771,
        "start_time": "2023-03-23T10:02:25.715Z"
      },
      {
        "duration": 7,
        "start_time": "2023-03-23T10:02:26.488Z"
      },
      {
        "duration": 509378,
        "start_time": "2023-03-23T10:02:26.496Z"
      },
      {
        "duration": 43860,
        "start_time": "2023-03-23T10:10:55.875Z"
      },
      {
        "duration": 244,
        "start_time": "2023-03-23T10:11:39.737Z"
      },
      {
        "duration": 1671,
        "start_time": "2023-03-23T10:20:00.884Z"
      },
      {
        "duration": 825,
        "start_time": "2023-03-23T10:20:02.558Z"
      },
      {
        "duration": 21,
        "start_time": "2023-03-23T10:20:03.384Z"
      },
      {
        "duration": 263,
        "start_time": "2023-03-23T10:20:03.407Z"
      },
      {
        "duration": 208,
        "start_time": "2023-03-23T10:20:03.672Z"
      },
      {
        "duration": 128,
        "start_time": "2023-03-23T10:20:03.881Z"
      },
      {
        "duration": 149,
        "start_time": "2023-03-23T10:20:04.010Z"
      },
      {
        "duration": 139,
        "start_time": "2023-03-23T10:20:04.160Z"
      },
      {
        "duration": 429,
        "start_time": "2023-03-23T10:20:04.301Z"
      },
      {
        "duration": 970,
        "start_time": "2023-03-23T10:20:04.734Z"
      },
      {
        "duration": 40,
        "start_time": "2023-03-23T10:20:05.707Z"
      },
      {
        "duration": 45,
        "start_time": "2023-03-23T10:20:05.756Z"
      },
      {
        "duration": 193,
        "start_time": "2023-03-23T10:20:05.803Z"
      },
      {
        "duration": 75,
        "start_time": "2023-03-23T10:20:05.998Z"
      },
      {
        "duration": 19,
        "start_time": "2023-03-23T10:20:06.074Z"
      },
      {
        "duration": 104,
        "start_time": "2023-03-23T10:20:06.094Z"
      },
      {
        "duration": 990,
        "start_time": "2023-03-23T10:20:06.199Z"
      },
      {
        "duration": 687,
        "start_time": "2023-03-23T10:20:07.191Z"
      },
      {
        "duration": 6,
        "start_time": "2023-03-23T10:20:07.880Z"
      },
      {
        "duration": 606423,
        "start_time": "2023-03-23T10:20:07.887Z"
      },
      {
        "duration": 54394,
        "start_time": "2023-03-23T10:30:14.312Z"
      },
      {
        "duration": 275,
        "start_time": "2023-03-23T10:31:08.708Z"
      },
      {
        "duration": 12,
        "start_time": "2023-03-23T10:31:08.985Z"
      },
      {
        "duration": 727958,
        "start_time": "2023-03-23T10:31:08.998Z"
      },
      {
        "duration": 43598,
        "start_time": "2023-03-23T10:43:16.958Z"
      },
      {
        "duration": 146,
        "start_time": "2023-03-23T10:44:00.558Z"
      },
      {
        "duration": 12,
        "start_time": "2023-03-23T10:44:00.706Z"
      },
      {
        "duration": 47598,
        "start_time": "2023-03-23T10:44:00.723Z"
      },
      {
        "duration": 211,
        "start_time": "2023-03-23T10:44:48.335Z"
      },
      {
        "duration": 6,
        "start_time": "2023-03-23T10:44:48.548Z"
      },
      {
        "duration": 0,
        "start_time": "2023-03-23T11:59:24.756Z"
      },
      {
        "duration": 0,
        "start_time": "2023-03-23T11:59:24.757Z"
      },
      {
        "duration": 0,
        "start_time": "2023-03-23T11:59:24.758Z"
      },
      {
        "duration": 0,
        "start_time": "2023-03-23T11:59:24.760Z"
      },
      {
        "duration": 0,
        "start_time": "2023-03-23T11:59:24.761Z"
      },
      {
        "duration": 0,
        "start_time": "2023-03-23T11:59:24.762Z"
      },
      {
        "duration": 0,
        "start_time": "2023-03-23T11:59:24.764Z"
      },
      {
        "duration": 0,
        "start_time": "2023-03-23T11:59:24.823Z"
      },
      {
        "duration": 0,
        "start_time": "2023-03-23T11:59:24.824Z"
      },
      {
        "duration": 0,
        "start_time": "2023-03-23T11:59:24.825Z"
      },
      {
        "duration": 0,
        "start_time": "2023-03-23T11:59:24.826Z"
      },
      {
        "duration": 0,
        "start_time": "2023-03-23T11:59:24.828Z"
      },
      {
        "duration": 0,
        "start_time": "2023-03-23T11:59:24.829Z"
      },
      {
        "duration": 0,
        "start_time": "2023-03-23T11:59:24.830Z"
      },
      {
        "duration": 0,
        "start_time": "2023-03-23T11:59:24.831Z"
      },
      {
        "duration": 0,
        "start_time": "2023-03-23T11:59:24.832Z"
      },
      {
        "duration": 0,
        "start_time": "2023-03-23T11:59:24.835Z"
      },
      {
        "duration": 0,
        "start_time": "2023-03-23T11:59:24.836Z"
      },
      {
        "duration": 0,
        "start_time": "2023-03-23T11:59:24.837Z"
      },
      {
        "duration": 0,
        "start_time": "2023-03-23T11:59:24.840Z"
      },
      {
        "duration": 0,
        "start_time": "2023-03-23T11:59:24.841Z"
      },
      {
        "duration": 0,
        "start_time": "2023-03-23T11:59:24.842Z"
      },
      {
        "duration": 0,
        "start_time": "2023-03-23T11:59:24.843Z"
      },
      {
        "duration": 1262224,
        "start_time": "2023-03-23T12:00:03.413Z"
      },
      {
        "duration": 9,
        "start_time": "2023-03-23T12:21:05.639Z"
      },
      {
        "duration": 0,
        "start_time": "2023-03-23T12:21:05.650Z"
      },
      {
        "duration": 0,
        "start_time": "2023-03-23T12:21:05.651Z"
      },
      {
        "duration": 0,
        "start_time": "2023-03-23T12:21:05.653Z"
      },
      {
        "duration": 0,
        "start_time": "2023-03-23T12:21:05.654Z"
      },
      {
        "duration": 0,
        "start_time": "2023-03-23T12:21:05.655Z"
      },
      {
        "duration": 0,
        "start_time": "2023-03-23T12:21:05.656Z"
      },
      {
        "duration": 0,
        "start_time": "2023-03-23T12:21:05.657Z"
      },
      {
        "duration": 0,
        "start_time": "2023-03-23T12:21:05.657Z"
      },
      {
        "duration": 0,
        "start_time": "2023-03-23T12:21:05.658Z"
      },
      {
        "duration": 0,
        "start_time": "2023-03-23T12:21:05.660Z"
      },
      {
        "duration": 0,
        "start_time": "2023-03-23T12:21:05.661Z"
      },
      {
        "duration": 0,
        "start_time": "2023-03-23T12:21:05.662Z"
      },
      {
        "duration": 0,
        "start_time": "2023-03-23T12:21:05.664Z"
      },
      {
        "duration": 0,
        "start_time": "2023-03-23T12:21:05.665Z"
      },
      {
        "duration": 0,
        "start_time": "2023-03-23T12:21:05.667Z"
      },
      {
        "duration": 0,
        "start_time": "2023-03-23T12:21:05.668Z"
      },
      {
        "duration": 0,
        "start_time": "2023-03-23T12:21:05.669Z"
      },
      {
        "duration": 0,
        "start_time": "2023-03-23T12:21:05.670Z"
      },
      {
        "duration": 0,
        "start_time": "2023-03-23T12:21:05.723Z"
      },
      {
        "duration": 0,
        "start_time": "2023-03-23T12:21:05.724Z"
      },
      {
        "duration": 0,
        "start_time": "2023-03-23T12:21:05.725Z"
      },
      {
        "duration": 1072,
        "start_time": "2023-03-23T12:21:52.968Z"
      },
      {
        "duration": 738,
        "start_time": "2023-03-23T12:21:54.043Z"
      },
      {
        "duration": 18,
        "start_time": "2023-03-23T12:21:54.783Z"
      },
      {
        "duration": 155,
        "start_time": "2023-03-23T12:21:54.803Z"
      },
      {
        "duration": 135,
        "start_time": "2023-03-23T12:21:54.960Z"
      },
      {
        "duration": 100,
        "start_time": "2023-03-23T12:21:55.097Z"
      },
      {
        "duration": 93,
        "start_time": "2023-03-23T12:21:55.199Z"
      },
      {
        "duration": 120,
        "start_time": "2023-03-23T12:21:55.294Z"
      },
      {
        "duration": 357,
        "start_time": "2023-03-23T12:21:55.422Z"
      },
      {
        "duration": 811,
        "start_time": "2023-03-23T12:21:55.782Z"
      },
      {
        "duration": 34,
        "start_time": "2023-03-23T12:21:56.594Z"
      },
      {
        "duration": 30,
        "start_time": "2023-03-23T12:21:56.629Z"
      },
      {
        "duration": 105,
        "start_time": "2023-03-23T12:21:56.661Z"
      },
      {
        "duration": 65,
        "start_time": "2023-03-23T12:21:56.768Z"
      },
      {
        "duration": 14,
        "start_time": "2023-03-23T12:21:56.835Z"
      },
      {
        "duration": 53,
        "start_time": "2023-03-23T12:21:56.851Z"
      },
      {
        "duration": 763,
        "start_time": "2023-03-23T12:21:56.906Z"
      },
      {
        "duration": 581,
        "start_time": "2023-03-23T12:21:57.671Z"
      },
      {
        "duration": 5,
        "start_time": "2023-03-23T12:21:58.254Z"
      },
      {
        "duration": 443230,
        "start_time": "2023-03-23T12:21:58.260Z"
      },
      {
        "duration": 33180,
        "start_time": "2023-03-23T12:29:21.492Z"
      },
      {
        "duration": 222,
        "start_time": "2023-03-23T12:29:54.674Z"
      },
      {
        "duration": 5,
        "start_time": "2023-03-23T12:29:54.898Z"
      },
      {
        "duration": 478295,
        "start_time": "2023-03-23T12:29:54.904Z"
      },
      {
        "duration": 35631,
        "start_time": "2023-03-23T12:37:53.201Z"
      },
      {
        "duration": 94,
        "start_time": "2023-03-23T12:38:28.835Z"
      },
      {
        "duration": 6,
        "start_time": "2023-03-23T12:38:28.930Z"
      },
      {
        "duration": 38348,
        "start_time": "2023-03-23T12:38:28.940Z"
      },
      {
        "duration": 197,
        "start_time": "2023-03-23T12:39:07.289Z"
      },
      {
        "duration": 4,
        "start_time": "2023-03-23T12:39:07.488Z"
      },
      {
        "duration": 10,
        "start_time": "2023-03-23T12:39:07.493Z"
      },
      {
        "duration": 2050788,
        "start_time": "2023-03-23T12:39:07.505Z"
      },
      {
        "duration": 11,
        "start_time": "2023-03-23T13:13:18.296Z"
      },
      {
        "duration": 0,
        "start_time": "2023-03-23T13:13:18.309Z"
      },
      {
        "duration": 0,
        "start_time": "2023-03-23T13:13:18.311Z"
      },
      {
        "duration": 0,
        "start_time": "2023-03-23T13:13:18.312Z"
      },
      {
        "duration": 0,
        "start_time": "2023-03-23T13:13:18.313Z"
      },
      {
        "duration": 0,
        "start_time": "2023-03-23T13:13:18.315Z"
      },
      {
        "duration": 0,
        "start_time": "2023-03-23T13:13:18.316Z"
      },
      {
        "duration": 0,
        "start_time": "2023-03-23T13:13:18.317Z"
      },
      {
        "duration": 0,
        "start_time": "2023-03-23T13:13:18.319Z"
      },
      {
        "duration": 0,
        "start_time": "2023-03-23T13:13:18.320Z"
      },
      {
        "duration": 0,
        "start_time": "2023-03-23T13:13:18.321Z"
      },
      {
        "duration": 0,
        "start_time": "2023-03-23T13:13:18.323Z"
      },
      {
        "duration": 0,
        "start_time": "2023-03-23T13:13:18.325Z"
      },
      {
        "duration": 0,
        "start_time": "2023-03-23T13:13:18.326Z"
      },
      {
        "duration": 0,
        "start_time": "2023-03-23T13:13:18.327Z"
      },
      {
        "duration": 0,
        "start_time": "2023-03-23T13:13:18.328Z"
      },
      {
        "duration": 0,
        "start_time": "2023-03-23T13:13:18.329Z"
      },
      {
        "duration": 0,
        "start_time": "2023-03-23T13:13:18.331Z"
      },
      {
        "duration": 0,
        "start_time": "2023-03-23T13:13:18.332Z"
      },
      {
        "duration": 0,
        "start_time": "2023-03-23T13:13:18.333Z"
      },
      {
        "duration": 0,
        "start_time": "2023-03-23T13:13:18.335Z"
      },
      {
        "duration": 0,
        "start_time": "2023-03-23T13:13:18.336Z"
      },
      {
        "duration": 4367,
        "start_time": "2023-03-25T13:31:36.830Z"
      },
      {
        "duration": 99434,
        "start_time": "2023-03-25T13:31:42.254Z"
      },
      {
        "duration": 872,
        "start_time": "2023-03-25T13:33:31.347Z"
      },
      {
        "duration": 1426,
        "start_time": "2023-03-25T13:33:33.151Z"
      },
      {
        "duration": 23,
        "start_time": "2023-03-25T13:33:34.579Z"
      },
      {
        "duration": 154,
        "start_time": "2023-03-25T13:39:27.754Z"
      },
      {
        "duration": 195,
        "start_time": "2023-03-25T13:39:30.357Z"
      },
      {
        "duration": 160,
        "start_time": "2023-03-25T13:39:31.188Z"
      },
      {
        "duration": 111,
        "start_time": "2023-03-25T13:39:31.649Z"
      },
      {
        "duration": 148,
        "start_time": "2023-03-25T13:39:31.947Z"
      },
      {
        "duration": 547,
        "start_time": "2023-03-25T13:39:32.667Z"
      },
      {
        "duration": 1177,
        "start_time": "2023-03-25T13:39:33.217Z"
      },
      {
        "duration": 53,
        "start_time": "2023-03-25T13:39:34.396Z"
      },
      {
        "duration": 34,
        "start_time": "2023-03-25T13:39:34.451Z"
      },
      {
        "duration": 163,
        "start_time": "2023-03-25T13:39:34.486Z"
      },
      {
        "duration": 75,
        "start_time": "2023-03-25T13:39:34.651Z"
      },
      {
        "duration": 83,
        "start_time": "2023-03-25T13:39:35.570Z"
      },
      {
        "duration": 63,
        "start_time": "2023-03-27T06:12:55.777Z"
      },
      {
        "duration": 1490,
        "start_time": "2023-03-27T07:04:34.177Z"
      },
      {
        "duration": 3578,
        "start_time": "2023-03-27T07:04:38.096Z"
      },
      {
        "duration": 28,
        "start_time": "2023-03-27T07:04:41.675Z"
      },
      {
        "duration": 157,
        "start_time": "2023-03-27T07:04:41.706Z"
      },
      {
        "duration": 231,
        "start_time": "2023-03-27T07:04:44.302Z"
      },
      {
        "duration": 198,
        "start_time": "2023-03-27T07:04:45.927Z"
      },
      {
        "duration": 100,
        "start_time": "2023-03-27T07:04:47.704Z"
      },
      {
        "duration": 145,
        "start_time": "2023-03-27T07:04:48.992Z"
      },
      {
        "duration": 442,
        "start_time": "2023-03-27T07:04:51.892Z"
      },
      {
        "duration": 924,
        "start_time": "2023-03-27T07:04:53.001Z"
      },
      {
        "duration": 75,
        "start_time": "2023-03-27T07:04:55.585Z"
      },
      {
        "duration": 103,
        "start_time": "2023-03-27T07:06:42.159Z"
      },
      {
        "duration": 45,
        "start_time": "2023-03-27T07:08:14.281Z"
      },
      {
        "duration": 66,
        "start_time": "2023-03-27T07:23:31.428Z"
      },
      {
        "duration": 218,
        "start_time": "2023-03-27T07:23:32.581Z"
      },
      {
        "duration": 88,
        "start_time": "2023-03-27T07:41:25.315Z"
      },
      {
        "duration": 441,
        "start_time": "2023-03-27T07:51:21.563Z"
      },
      {
        "duration": 28,
        "start_time": "2023-03-27T07:51:33.809Z"
      },
      {
        "duration": 107,
        "start_time": "2023-03-27T07:51:59.569Z"
      },
      {
        "duration": 36,
        "start_time": "2023-03-27T07:52:06.626Z"
      },
      {
        "duration": 178,
        "start_time": "2023-03-27T07:52:16.646Z"
      },
      {
        "duration": 217,
        "start_time": "2023-03-27T07:53:06.909Z"
      },
      {
        "duration": 135,
        "start_time": "2023-03-27T08:45:15.765Z"
      },
      {
        "duration": 143,
        "start_time": "2023-03-27T08:45:20.432Z"
      },
      {
        "duration": 6262,
        "start_time": "2023-03-27T10:14:48.660Z"
      },
      {
        "duration": 180,
        "start_time": "2023-03-27T10:15:34.305Z"
      },
      {
        "duration": 11199,
        "start_time": "2023-03-27T10:16:07.103Z"
      },
      {
        "duration": 11179,
        "start_time": "2023-03-27T10:17:12.422Z"
      },
      {
        "duration": 35,
        "start_time": "2023-03-27T10:17:23.603Z"
      },
      {
        "duration": 1682,
        "start_time": "2023-03-27T10:33:18.095Z"
      },
      {
        "duration": 4314,
        "start_time": "2023-03-27T10:33:19.790Z"
      },
      {
        "duration": 16,
        "start_time": "2023-03-27T10:33:24.107Z"
      },
      {
        "duration": 207,
        "start_time": "2023-03-27T10:33:24.125Z"
      },
      {
        "duration": 6259,
        "start_time": "2023-03-27T10:33:24.870Z"
      },
      {
        "duration": 0,
        "start_time": "2023-03-27T10:33:31.131Z"
      },
      {
        "duration": 0,
        "start_time": "2023-03-27T10:33:31.132Z"
      },
      {
        "duration": 127,
        "start_time": "2023-03-27T10:33:31.602Z"
      },
      {
        "duration": 266,
        "start_time": "2023-03-27T10:33:36.566Z"
      },
      {
        "duration": 515,
        "start_time": "2023-03-27T10:33:39.186Z"
      },
      {
        "duration": 1088,
        "start_time": "2023-03-27T10:33:39.710Z"
      },
      {
        "duration": 44,
        "start_time": "2023-03-27T10:33:40.970Z"
      },
      {
        "duration": 40,
        "start_time": "2023-03-27T10:33:41.569Z"
      },
      {
        "duration": 27,
        "start_time": "2023-03-27T10:33:42.898Z"
      },
      {
        "duration": 225,
        "start_time": "2023-03-27T10:33:43.689Z"
      },
      {
        "duration": 115,
        "start_time": "2023-03-27T10:33:45.066Z"
      },
      {
        "duration": 24,
        "start_time": "2023-03-27T10:33:52.671Z"
      },
      {
        "duration": 90,
        "start_time": "2023-03-27T10:33:52.832Z"
      },
      {
        "duration": 1083,
        "start_time": "2023-03-27T10:33:53.166Z"
      },
      {
        "duration": 36,
        "start_time": "2023-03-27T10:33:55.622Z"
      },
      {
        "duration": 6140,
        "start_time": "2023-03-27T10:36:01.770Z"
      },
      {
        "duration": 38,
        "start_time": "2023-03-27T10:36:08.284Z"
      },
      {
        "duration": 5572,
        "start_time": "2023-03-27T10:36:30.001Z"
      },
      {
        "duration": 10898,
        "start_time": "2023-03-27T10:36:59.591Z"
      },
      {
        "duration": 16899,
        "start_time": "2023-03-27T10:37:33.082Z"
      },
      {
        "duration": 116,
        "start_time": "2023-03-27T10:37:49.993Z"
      },
      {
        "duration": 102,
        "start_time": "2023-03-27T10:37:50.111Z"
      },
      {
        "duration": 204,
        "start_time": "2023-03-27T10:37:50.326Z"
      },
      {
        "duration": 250,
        "start_time": "2023-03-27T10:37:52.476Z"
      },
      {
        "duration": 406,
        "start_time": "2023-03-27T10:37:52.994Z"
      },
      {
        "duration": 2670,
        "start_time": "2023-03-27T10:37:54.295Z"
      },
      {
        "duration": 0,
        "start_time": "2023-03-27T10:37:56.966Z"
      },
      {
        "duration": 36,
        "start_time": "2023-03-27T10:37:57.737Z"
      },
      {
        "duration": 190,
        "start_time": "2023-03-27T10:37:58.375Z"
      },
      {
        "duration": 149,
        "start_time": "2023-03-27T10:37:59.034Z"
      },
      {
        "duration": 40,
        "start_time": "2023-03-27T10:38:04.129Z"
      },
      {
        "duration": 93,
        "start_time": "2023-03-27T10:38:04.669Z"
      },
      {
        "duration": 967,
        "start_time": "2023-03-27T10:38:05.190Z"
      },
      {
        "duration": 873,
        "start_time": "2023-03-27T10:38:07.781Z"
      },
      {
        "duration": 22,
        "start_time": "2023-03-27T10:38:10.592Z"
      },
      {
        "duration": 16,
        "start_time": "2023-03-27T10:39:19.686Z"
      },
      {
        "duration": 123,
        "start_time": "2023-03-27T10:41:35.970Z"
      },
      {
        "duration": 18,
        "start_time": "2023-03-27T10:42:44.335Z"
      },
      {
        "duration": 947,
        "start_time": "2023-03-27T10:42:45.667Z"
      },
      {
        "duration": 22,
        "start_time": "2023-03-27T10:42:46.893Z"
      },
      {
        "duration": 191,
        "start_time": "2023-03-27T10:42:48.239Z"
      },
      {
        "duration": 6563,
        "start_time": "2023-03-27T10:42:52.269Z"
      },
      {
        "duration": 0,
        "start_time": "2023-03-27T10:42:58.834Z"
      },
      {
        "duration": 0,
        "start_time": "2023-03-27T10:42:58.835Z"
      },
      {
        "duration": 0,
        "start_time": "2023-03-27T10:42:58.836Z"
      },
      {
        "duration": 0,
        "start_time": "2023-03-27T10:42:58.837Z"
      },
      {
        "duration": 567,
        "start_time": "2023-03-27T10:42:59.930Z"
      },
      {
        "duration": 1066,
        "start_time": "2023-03-27T10:43:00.499Z"
      },
      {
        "duration": 43,
        "start_time": "2023-03-27T10:43:01.567Z"
      },
      {
        "duration": 34,
        "start_time": "2023-03-27T10:43:02.488Z"
      },
      {
        "duration": 35,
        "start_time": "2023-03-27T10:43:04.489Z"
      },
      {
        "duration": 145,
        "start_time": "2023-03-27T10:43:05.590Z"
      },
      {
        "duration": 100,
        "start_time": "2023-03-27T10:43:05.796Z"
      },
      {
        "duration": 18,
        "start_time": "2023-03-27T10:43:10.920Z"
      },
      {
        "duration": 93,
        "start_time": "2023-03-27T10:43:11.134Z"
      },
      {
        "duration": 981,
        "start_time": "2023-03-27T10:43:12.316Z"
      },
      {
        "duration": 41,
        "start_time": "2023-03-27T10:43:14.772Z"
      },
      {
        "duration": 28,
        "start_time": "2023-03-27T10:43:17.880Z"
      },
      {
        "duration": 7809,
        "start_time": "2023-03-27T10:44:59.918Z"
      },
      {
        "duration": 6714,
        "start_time": "2023-03-27T10:45:42.915Z"
      },
      {
        "duration": 0,
        "start_time": "2023-03-27T10:45:49.632Z"
      },
      {
        "duration": 0,
        "start_time": "2023-03-27T10:45:49.633Z"
      },
      {
        "duration": 0,
        "start_time": "2023-03-27T10:45:49.634Z"
      },
      {
        "duration": 7135,
        "start_time": "2023-03-27T10:46:01.876Z"
      },
      {
        "duration": 0,
        "start_time": "2023-03-27T10:46:09.013Z"
      },
      {
        "duration": 0,
        "start_time": "2023-03-27T10:46:09.014Z"
      },
      {
        "duration": 6629,
        "start_time": "2023-03-27T10:46:21.801Z"
      },
      {
        "duration": 0,
        "start_time": "2023-03-27T10:46:28.432Z"
      },
      {
        "duration": 85,
        "start_time": "2023-03-27T10:46:47.100Z"
      },
      {
        "duration": 189,
        "start_time": "2023-03-27T10:47:28.302Z"
      },
      {
        "duration": 110,
        "start_time": "2023-03-27T10:47:29.935Z"
      },
      {
        "duration": 199,
        "start_time": "2023-03-27T10:47:31.270Z"
      },
      {
        "duration": 234,
        "start_time": "2023-03-27T10:47:34.069Z"
      },
      {
        "duration": 515,
        "start_time": "2023-03-27T10:47:34.815Z"
      },
      {
        "duration": 2387,
        "start_time": "2023-03-27T10:47:37.332Z"
      },
      {
        "duration": 49,
        "start_time": "2023-03-27T10:47:54.978Z"
      },
      {
        "duration": 112,
        "start_time": "2023-03-27T11:58:26.012Z"
      },
      {
        "duration": 20,
        "start_time": "2023-03-27T11:58:44.126Z"
      },
      {
        "duration": 458811,
        "start_time": "2023-03-27T11:59:40.598Z"
      },
      {
        "duration": 456355,
        "start_time": "2023-03-27T12:09:00.286Z"
      },
      {
        "duration": 461732,
        "start_time": "2023-03-27T12:20:07.199Z"
      }
    ],
    "kernelspec": {
      "display_name": "Python 3 (ipykernel)",
      "language": "python",
      "name": "python3"
    },
    "language_info": {
      "codemirror_mode": {
        "name": "ipython",
        "version": 3
      },
      "file_extension": ".py",
      "mimetype": "text/x-python",
      "name": "python",
      "nbconvert_exporter": "python",
      "pygments_lexer": "ipython3",
      "version": "3.9.5"
    },
    "toc": {
      "base_numbering": 1,
      "nav_menu": {},
      "number_sections": true,
      "sideBar": true,
      "skip_h1_title": true,
      "title_cell": "Table of Contents",
      "title_sidebar": "Contents",
      "toc_cell": false,
      "toc_position": {},
      "toc_section_display": true,
      "toc_window_display": false
    },
    "colab": {
      "provenance": []
    }
  },
  "nbformat": 4,
  "nbformat_minor": 0
}