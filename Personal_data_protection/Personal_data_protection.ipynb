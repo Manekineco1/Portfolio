{
  "cells": [
    {
      "cell_type": "markdown",
      "metadata": {
        "id": "4Kp3vC-1jHdU"
      },
      "source": [
        "# Защита персональных данных клиентов"
      ]
    },
    {
      "cell_type": "markdown",
      "metadata": {
        "id": "wZBZoVn9jHdU"
      },
      "source": [
        "Вам нужно защитить данные клиентов страховой компании «Хоть потоп». Разработайте такой метод преобразования данных, чтобы по ним было сложно восстановить персональную информацию. Обоснуйте корректность его работы.\n",
        "\n",
        "Нужно защитить данные, чтобы при преобразовании качество моделей машинного обучения не ухудшилось. Подбирать наилучшую модель не требуется."
      ]
    },
    {
      "cell_type": "markdown",
      "metadata": {
        "toc": true,
        "id": "UznBZ150jHdS"
      },
      "source": [
        "<h1>Содержание<span class=\"tocSkip\"></span></h1>\n",
        "<div class=\"toc\"><ul class=\"toc-item\"><li><span><a href=\"#Загрузка-данных\" data-toc-modified-id=\"Загрузка-данных-1\"><span class=\"toc-item-num\">1&nbsp;&nbsp;</span>Загрузка данных</a></span></li><li><span><a href=\"#Умножение-матриц\" data-toc-modified-id=\"Умножение-матриц-2\"><span class=\"toc-item-num\">2&nbsp;&nbsp;</span>Умножение матриц</a></span></li><li><span><a href=\"#Алгоритм-преобразования\" data-toc-modified-id=\"Алгоритм-преобразования-3\"><span class=\"toc-item-num\">3&nbsp;&nbsp;</span>Алгоритм преобразования</a></span></li><li><span><a href=\"#Проверка-алгоритма\" data-toc-modified-id=\"Проверка-алгоритма-4\"><span class=\"toc-item-num\">4&nbsp;&nbsp;</span>Проверка алгоритма</a></span></li><li><span><a href=\"#Чек-лист-проверки\" data-toc-modified-id=\"Чек-лист-проверки-5\"><span class=\"toc-item-num\">5&nbsp;&nbsp;</span>Чек-лист проверки</a></span></li></ul></div>"
      ]
    },
    {
      "cell_type": "markdown",
      "metadata": {
        "id": "qItWPLZVjHdV"
      },
      "source": [
        "## Загрузка данных"
      ]
    },
    {
      "cell_type": "code",
      "execution_count": null,
      "metadata": {
        "id": "vUOY2-GqjHdW"
      },
      "outputs": [],
      "source": [
        "# импортируем все необходимые библиотеки\n",
        "import pandas as pd\n",
        "import numpy as np\n",
        "from sklearn.model_selection import train_test_split\n",
        "from numpy.random import RandomState\n",
        "from sklearn.metrics import r2_score\n",
        "from sklearn.metrics import mean_squared_error\n",
        "from sklearn.linear_model import LinearRegression\n",
        "from sklearn.preprocessing import StandardScaler\n",
        "from sklearn.pipeline import Pipeline\n",
        "\n",
        "import matplotlib.pyplot as plt\n",
        "import seaborn as sns"
      ]
    },
    {
      "cell_type": "markdown",
      "source": [
        "Откроем датасет"
      ],
      "metadata": {
        "id": "YsPyR82xjxul"
      }
    },
    {
      "cell_type": "code",
      "execution_count": null,
      "metadata": {
        "id": "X_raVPA-jHdZ"
      },
      "outputs": [],
      "source": [
        "try:\n",
        "    data = pd.read_csv('/datasets/insurance.csv')\n",
        "except:\n",
        "    data = pd.read_csv('C:/Users/goshe/OneDrive/Рабочий стол/Yandex_Praktikum/projects/Datasets/insurance.csv')"
      ]
    },
    {
      "cell_type": "markdown",
      "source": [
        "Изучим датасет"
      ],
      "metadata": {
        "id": "RZkeXr5kj083"
      }
    },
    {
      "cell_type": "code",
      "execution_count": null,
      "metadata": {
        "id": "gbgI3J45jHda",
        "outputId": "abde6fa9-0561-4c7a-ef67-1ead7dd1c4af"
      },
      "outputs": [
        {
          "data": {
            "text/html": [
              "<div>\n",
              "<style scoped>\n",
              "    .dataframe tbody tr th:only-of-type {\n",
              "        vertical-align: middle;\n",
              "    }\n",
              "\n",
              "    .dataframe tbody tr th {\n",
              "        vertical-align: top;\n",
              "    }\n",
              "\n",
              "    .dataframe thead th {\n",
              "        text-align: right;\n",
              "    }\n",
              "</style>\n",
              "<table border=\"1\" class=\"dataframe\">\n",
              "  <thead>\n",
              "    <tr style=\"text-align: right;\">\n",
              "      <th></th>\n",
              "      <th>Пол</th>\n",
              "      <th>Возраст</th>\n",
              "      <th>Зарплата</th>\n",
              "      <th>Члены семьи</th>\n",
              "      <th>Страховые выплаты</th>\n",
              "    </tr>\n",
              "  </thead>\n",
              "  <tbody>\n",
              "    <tr>\n",
              "      <th>0</th>\n",
              "      <td>1</td>\n",
              "      <td>41.0</td>\n",
              "      <td>49600.0</td>\n",
              "      <td>1</td>\n",
              "      <td>0</td>\n",
              "    </tr>\n",
              "    <tr>\n",
              "      <th>1</th>\n",
              "      <td>0</td>\n",
              "      <td>46.0</td>\n",
              "      <td>38000.0</td>\n",
              "      <td>1</td>\n",
              "      <td>1</td>\n",
              "    </tr>\n",
              "    <tr>\n",
              "      <th>2</th>\n",
              "      <td>0</td>\n",
              "      <td>29.0</td>\n",
              "      <td>21000.0</td>\n",
              "      <td>0</td>\n",
              "      <td>0</td>\n",
              "    </tr>\n",
              "    <tr>\n",
              "      <th>3</th>\n",
              "      <td>0</td>\n",
              "      <td>21.0</td>\n",
              "      <td>41700.0</td>\n",
              "      <td>2</td>\n",
              "      <td>0</td>\n",
              "    </tr>\n",
              "    <tr>\n",
              "      <th>4</th>\n",
              "      <td>1</td>\n",
              "      <td>28.0</td>\n",
              "      <td>26100.0</td>\n",
              "      <td>0</td>\n",
              "      <td>0</td>\n",
              "    </tr>\n",
              "  </tbody>\n",
              "</table>\n",
              "</div>"
            ],
            "text/plain": [
              "   Пол  Возраст  Зарплата  Члены семьи  Страховые выплаты\n",
              "0    1     41.0   49600.0            1                  0\n",
              "1    0     46.0   38000.0            1                  1\n",
              "2    0     29.0   21000.0            0                  0\n",
              "3    0     21.0   41700.0            2                  0\n",
              "4    1     28.0   26100.0            0                  0"
            ]
          },
          "execution_count": 3,
          "metadata": {},
          "output_type": "execute_result"
        }
      ],
      "source": [
        "data.head()"
      ]
    },
    {
      "cell_type": "code",
      "execution_count": null,
      "metadata": {
        "id": "i95Hpu6OjHdc",
        "outputId": "f45b36e7-d212-4524-ec9e-de34c9c1fb65"
      },
      "outputs": [
        {
          "name": "stdout",
          "output_type": "stream",
          "text": [
            "<class 'pandas.core.frame.DataFrame'>\n",
            "RangeIndex: 5000 entries, 0 to 4999\n",
            "Data columns (total 5 columns):\n",
            " #   Column             Non-Null Count  Dtype  \n",
            "---  ------             --------------  -----  \n",
            " 0   Пол                5000 non-null   int64  \n",
            " 1   Возраст            5000 non-null   float64\n",
            " 2   Зарплата           5000 non-null   float64\n",
            " 3   Члены семьи        5000 non-null   int64  \n",
            " 4   Страховые выплаты  5000 non-null   int64  \n",
            "dtypes: float64(2), int64(3)\n",
            "memory usage: 195.4 KB\n"
          ]
        }
      ],
      "source": [
        "data.info()"
      ]
    },
    {
      "cell_type": "code",
      "execution_count": null,
      "metadata": {
        "id": "GwnUcrHWjHdd",
        "outputId": "9edb47cd-77f7-41f1-b783-6896af8aad33"
      },
      "outputs": [
        {
          "data": {
            "text/html": [
              "<div>\n",
              "<style scoped>\n",
              "    .dataframe tbody tr th:only-of-type {\n",
              "        vertical-align: middle;\n",
              "    }\n",
              "\n",
              "    .dataframe tbody tr th {\n",
              "        vertical-align: top;\n",
              "    }\n",
              "\n",
              "    .dataframe thead th {\n",
              "        text-align: right;\n",
              "    }\n",
              "</style>\n",
              "<table border=\"1\" class=\"dataframe\">\n",
              "  <thead>\n",
              "    <tr style=\"text-align: right;\">\n",
              "      <th></th>\n",
              "      <th>Пол</th>\n",
              "      <th>Возраст</th>\n",
              "      <th>Зарплата</th>\n",
              "      <th>Члены семьи</th>\n",
              "      <th>Страховые выплаты</th>\n",
              "    </tr>\n",
              "  </thead>\n",
              "  <tbody>\n",
              "    <tr>\n",
              "      <th>count</th>\n",
              "      <td>5000.000000</td>\n",
              "      <td>5000.000000</td>\n",
              "      <td>5000.000000</td>\n",
              "      <td>5000.000000</td>\n",
              "      <td>5000.000000</td>\n",
              "    </tr>\n",
              "    <tr>\n",
              "      <th>mean</th>\n",
              "      <td>0.499000</td>\n",
              "      <td>30.952800</td>\n",
              "      <td>39916.360000</td>\n",
              "      <td>1.194200</td>\n",
              "      <td>0.148000</td>\n",
              "    </tr>\n",
              "    <tr>\n",
              "      <th>std</th>\n",
              "      <td>0.500049</td>\n",
              "      <td>8.440807</td>\n",
              "      <td>9900.083569</td>\n",
              "      <td>1.091387</td>\n",
              "      <td>0.463183</td>\n",
              "    </tr>\n",
              "    <tr>\n",
              "      <th>min</th>\n",
              "      <td>0.000000</td>\n",
              "      <td>18.000000</td>\n",
              "      <td>5300.000000</td>\n",
              "      <td>0.000000</td>\n",
              "      <td>0.000000</td>\n",
              "    </tr>\n",
              "    <tr>\n",
              "      <th>25%</th>\n",
              "      <td>0.000000</td>\n",
              "      <td>24.000000</td>\n",
              "      <td>33300.000000</td>\n",
              "      <td>0.000000</td>\n",
              "      <td>0.000000</td>\n",
              "    </tr>\n",
              "    <tr>\n",
              "      <th>50%</th>\n",
              "      <td>0.000000</td>\n",
              "      <td>30.000000</td>\n",
              "      <td>40200.000000</td>\n",
              "      <td>1.000000</td>\n",
              "      <td>0.000000</td>\n",
              "    </tr>\n",
              "    <tr>\n",
              "      <th>75%</th>\n",
              "      <td>1.000000</td>\n",
              "      <td>37.000000</td>\n",
              "      <td>46600.000000</td>\n",
              "      <td>2.000000</td>\n",
              "      <td>0.000000</td>\n",
              "    </tr>\n",
              "    <tr>\n",
              "      <th>max</th>\n",
              "      <td>1.000000</td>\n",
              "      <td>65.000000</td>\n",
              "      <td>79000.000000</td>\n",
              "      <td>6.000000</td>\n",
              "      <td>5.000000</td>\n",
              "    </tr>\n",
              "  </tbody>\n",
              "</table>\n",
              "</div>"
            ],
            "text/plain": [
              "               Пол      Возраст      Зарплата  Члены семьи  Страховые выплаты\n",
              "count  5000.000000  5000.000000   5000.000000  5000.000000        5000.000000\n",
              "mean      0.499000    30.952800  39916.360000     1.194200           0.148000\n",
              "std       0.500049     8.440807   9900.083569     1.091387           0.463183\n",
              "min       0.000000    18.000000   5300.000000     0.000000           0.000000\n",
              "25%       0.000000    24.000000  33300.000000     0.000000           0.000000\n",
              "50%       0.000000    30.000000  40200.000000     1.000000           0.000000\n",
              "75%       1.000000    37.000000  46600.000000     2.000000           0.000000\n",
              "max       1.000000    65.000000  79000.000000     6.000000           5.000000"
            ]
          },
          "execution_count": 5,
          "metadata": {},
          "output_type": "execute_result"
        }
      ],
      "source": [
        "data.describe()"
      ]
    },
    {
      "cell_type": "markdown",
      "source": [
        "Выделим целевой признак"
      ],
      "metadata": {
        "id": "3QrznPCZj6uq"
      }
    },
    {
      "cell_type": "code",
      "execution_count": null,
      "metadata": {
        "id": "sauTH6wujHdf"
      },
      "outputs": [],
      "source": [
        "features = data.drop(['Страховые выплаты'],axis=1)\n",
        "target = data['Страховые выплаты']"
      ]
    },
    {
      "cell_type": "markdown",
      "source": [
        "Зафиксируем рэндом стейт"
      ],
      "metadata": {
        "id": "vAzL_c2yj_B3"
      }
    },
    {
      "cell_type": "code",
      "execution_count": null,
      "metadata": {
        "id": "Jn3JK5_8jHdg"
      },
      "outputs": [],
      "source": [
        "state = RandomState(12345)"
      ]
    },
    {
      "cell_type": "markdown",
      "source": [
        "Делим данные на тестовую и тренировочную выборки"
      ],
      "metadata": {
        "id": "t07Hg6tZkEFh"
      }
    },
    {
      "cell_type": "code",
      "execution_count": null,
      "metadata": {
        "id": "uat0rVRKjHdh"
      },
      "outputs": [],
      "source": [
        "train_features, test_features, train_target, test_target = train_test_split(features,target, test_size=0.25, random_state=state)"
      ]
    },
    {
      "cell_type": "markdown",
      "metadata": {
        "id": "ZT-f02qIjHdh"
      },
      "source": [
        "**Выводы:**\n",
        "\n",
        "- Ознакомившись с данными можно сказать, что они не требуют какой-либо обработки\n",
        "- Для решения задачи мы будем использовать матрицу признаков состоящую из 4-х колонок: \"пол\", \"возраст\", \"зарплата\", \"члены семьи\"\n",
        "- \"Страховые выплаты\" являются целевым признаком, мы выделили его в таргет\n",
        "- Разделили выборку на тестовую и тренировочную."
      ]
    },
    {
      "cell_type": "markdown",
      "metadata": {
        "id": "i8x-fec1jHdi"
      },
      "source": [
        "## Умножение матриц"
      ]
    },
    {
      "cell_type": "markdown",
      "metadata": {
        "id": "mYK-7hDyjHdi"
      },
      "source": [
        "В этом задании вы можете записывать формулы в *Jupyter Notebook.*\n",
        "\n",
        "Чтобы записать формулу внутри текста, окружите её символами доллара \\\\$; если снаружи —  двойными символами \\\\$\\\\$. Эти формулы записываются на языке вёрстки *LaTeX.*\n",
        "\n",
        "Для примера мы записали формулы линейной регрессии. Можете их скопировать и отредактировать, чтобы решить задачу.\n",
        "\n",
        "Работать в *LaTeX* необязательно."
      ]
    },
    {
      "cell_type": "markdown",
      "metadata": {
        "id": "2BHQD5xbjHdi"
      },
      "source": [
        "Обозначения:\n",
        "\n",
        "- $X$ — матрица признаков (нулевой столбец состоит из единиц)\n",
        "\n",
        "- $y$ — вектор целевого признака\n",
        "\n",
        "- $P$ — матрица, на которую умножаются признаки\n",
        "\n",
        "- $w$ — вектор весов линейной регрессии (нулевой элемент равен сдвигу)"
      ]
    },
    {
      "cell_type": "markdown",
      "metadata": {
        "id": "SC8EBK2HjHdi"
      },
      "source": [
        "Предсказания:\n",
        "\n",
        "$$\n",
        "a = Xw\n",
        "$$\n",
        "\n",
        "Задача обучения:\n",
        "\n",
        "$$\n",
        "w = \\arg\\min_w MSE(Xw, y)\n",
        "$$\n",
        "\n",
        "Формула обучения:\n",
        "\n",
        "$$\n",
        "w = (X^T X)^{-1} X^T y\n",
        "$$"
      ]
    },
    {
      "cell_type": "markdown",
      "metadata": {
        "id": "qOKdClPejHdj"
      },
      "source": [
        "**Ответ:**\n",
        "При умножении признаков на обратимую матрицу качество линейной регрессии не изменится\n",
        "\n",
        "**Обоснование:**\n",
        "Воспользовавшись принципом ассоциативности матриц (A(BC)=(AB)C), а так же тем, что транспонированное произведение матриц равно произведению транспонированных матриц взятых в обратном порядке - перепишем формулу обучения:\n",
        "\n",
        "$$\n",
        "w1 = ((XP)^T XP)^{-1} XP^T y\n",
        "$$\n",
        "$$\n",
        "=\n",
        "$$\n",
        "$$\n",
        "w1 = (P^T(X^TX)P)^{-1} XP^T y\n",
        "$$\n",
        "$$\n",
        "=\n",
        "$$\n",
        "$$\n",
        "w1 = (P^T(X^TX)P)^{-1} P^TX^T y\n",
        "$$\n",
        "$$\n",
        "=\n",
        "$$\n",
        "$$\n",
        "w1 = P^{-1}(X^TX)^{-1}(PT)^{-1} P^TX^T y\n",
        "$$\n",
        "$$\n",
        "=\n",
        "$$\n",
        "$$\n",
        "w1 = P^{-1}(X^TX)^{-1}EX^T y\n",
        "$$\n",
        "$$\n",
        "=\n",
        "$$\n",
        "$$\n",
        "w1 = P^{-1}w\n",
        "$$\n",
        "\n",
        "\n",
        "Тоже самое, для формулы предсказаний:\n",
        "\n",
        "$$\n",
        "a1 = X1w1\n",
        "$$\n",
        "\n",
        "\n",
        "подставив получивщиеся значения X1 = XP и w1 = P^{-1}w, получим:\n",
        "\n",
        "$$\n",
        "a1 = XPP^{-1}w1\n",
        "$$\n",
        "$$\n",
        "=\n",
        "$$\n",
        "$$\n",
        "a1 = Xw\n",
        "$$"
      ]
    },
    {
      "cell_type": "markdown",
      "metadata": {
        "id": "pH3OUZI1jHdj"
      },
      "source": [
        "## Алгоритм преобразования"
      ]
    },
    {
      "cell_type": "markdown",
      "metadata": {
        "id": "SoZJGfFpjHdk"
      },
      "source": [
        "**Алгоритм**\n",
        "\n",
        "- Создаем случайную обратимую матрицу\n",
        "- Умножаем признаки на матрицу в результате получаем новую матрицу признаков\n",
        "- Вычисляем показатели R2 и RMSE для модели линейной регрессии на неизмененных признаках и на новой матрице признаков"
      ]
    },
    {
      "cell_type": "markdown",
      "metadata": {
        "id": "8hXjCds8jHdk"
      },
      "source": [
        "**Обоснование**\n",
        "\n",
        "- Если показатели R2 и RMSE признаков до умножения на случайную матрицу и после -  равны - значит данные надежно защищены."
      ]
    },
    {
      "cell_type": "markdown",
      "metadata": {
        "id": "KVuZcU3OjHdk"
      },
      "source": [
        "## Проверка алгоритма"
      ]
    },
    {
      "cell_type": "markdown",
      "metadata": {
        "id": "pacfbw74jHdl"
      },
      "source": [
        "Создадим модель по исходным формулам для предсказания значений по неизменённым признакам"
      ]
    },
    {
      "cell_type": "code",
      "execution_count": null,
      "metadata": {
        "id": "SnzER08ljHdl"
      },
      "outputs": [],
      "source": [
        "class LinearRegress:8\n",
        "    def fit(self, train_features, train_target):\n",
        "        X = np.concatenate((np.ones((train_features.shape[0], 1)), train_features), axis=1)\n",
        "        y = train_target\n",
        "        w = (np.linalg.inv(X.T.dot(X)).dot(X.T)).dot(y)\n",
        "        self.w = w[1:]\n",
        "        self.w0 = w[0]\n",
        "\n",
        "    def predict(self, test_features):\n",
        "        return test_features.dot(self.w) + self.w0"
      ]
    },
    {
      "cell_type": "markdown",
      "source": [
        "Модель без масштабирования признаков без преобразования"
      ],
      "metadata": {
        "id": "PdHvR3ytkR_Q"
      }
    },
    {
      "cell_type": "code",
      "execution_count": null,
      "metadata": {
        "id": "XNcBNTG5jHdl",
        "outputId": "28f485dc-f4f1-4875-8fd7-f294edcfb818"
      },
      "outputs": [
        {
          "name": "stdout",
          "output_type": "stream",
          "text": [
            "R2_score неизмененной матрицы до масштибирования: 0.44\n",
            "MSE неизмененной матрицы до масштибирования: 0.12\n"
          ]
        }
      ],
      "source": [
        "model = LinearRegress()\n",
        "model.fit(train_features, train_target)\n",
        "predict = model.predict(test_features)\n",
        "\n",
        "R2_score = r2_score(test_target, predict)\n",
        "MSE = mean_squared_error(predict,test_target)\n",
        "\n",
        "print(\"R2_score неизмененной матрицы до масштибирования:\", R2_score.round(2))\n",
        "print(\"MSE неизмененной матрицы до масштибирования:\", MSE.round(2))"
      ]
    },
    {
      "cell_type": "markdown",
      "source": [
        "Модель с отмасштабированными признаками без преобразования"
      ],
      "metadata": {
        "id": "Vro90x3DkWQ4"
      }
    },
    {
      "cell_type": "code",
      "execution_count": null,
      "metadata": {
        "id": "fQ7HgF6ojHdm",
        "outputId": "eaba6883-8fa5-4638-9166-c2dd963a7848"
      },
      "outputs": [
        {
          "name": "stdout",
          "output_type": "stream",
          "text": [
            "R2_score неизмененной матрицы после масштабирования: 0.44\n",
            "MSE неизмененной матрицы после масштабирования: 0.12\n"
          ]
        }
      ],
      "source": [
        "model_s = LinearRegress()\n",
        "scaller = StandardScaler()\n",
        "pipeline = Pipeline([(\"standard_scaller\", scaller),(\"linear_regression\", model_s)])\n",
        "pipeline.fit(train_features, train_target)\n",
        "\n",
        "scaled_r2_score = r2_score(test_target, pipeline.predict(test_features))\n",
        "scaled_MSE = mean_squared_error(predict, test_target)\n",
        "\n",
        "print(\"R2_score неизмененной матрицы после масштабирования:\", scaled_r2_score.round(2))\n",
        "print(\"MSE неизмененной матрицы после масштабирования:\", scaled_MSE.round(2))"
      ]
    },
    {
      "cell_type": "markdown",
      "metadata": {
        "id": "zccU_3G1jHdm"
      },
      "source": [
        "**Проведем преобразование.**\n",
        "\n",
        "Создадим случайную обратимую матрицу шириной 4, т.к. у нас в исходных данных 4 признака (не считая целевого)."
      ]
    },
    {
      "cell_type": "code",
      "execution_count": null,
      "metadata": {
        "id": "cXbkZ_kYjHdn",
        "outputId": "3d20b547-c8ad-4285-a52e-1cf2786e2a4c"
      },
      "outputs": [
        {
          "data": {
            "text/plain": [
              "array([[3.04780896, 2.32737571, 2.83921641, 3.05973048],\n",
              "       [2.15677504, 3.37228318, 2.21682663, 3.52953728],\n",
              "       [2.59569182, 3.49072673, 1.45194717, 2.61531093],\n",
              "       [0.8640486 , 2.8597487 , 3.70638679, 0.34087492]])"
            ]
          },
          "execution_count": 12,
          "metadata": {},
          "output_type": "execute_result"
        }
      ],
      "source": [
        "matrix=np.random.normal(3, size=(4,4))\n",
        "matrix"
      ]
    },
    {
      "cell_type": "markdown",
      "metadata": {
        "id": "ze_3IE_BjHdn"
      },
      "source": [
        "Проверим обратимость матрицы"
      ]
    },
    {
      "cell_type": "code",
      "execution_count": null,
      "metadata": {
        "id": "Ac83P6I4jHdn",
        "outputId": "f321e185-4c8c-4c97-8a51-6bcfe2f42af1"
      },
      "outputs": [
        {
          "data": {
            "text/plain": [
              "array([[ 0.46309017, -0.77547682,  0.51695294, -0.09343437],\n",
              "       [-0.42338034,  0.04875187,  0.41210166,  0.13372703],\n",
              "       [ 0.22025639,  0.08258261, -0.39609639,  0.20685487],\n",
              "       [-0.01679913,  0.65874147, -0.46085295, -0.20059567]])"
            ]
          },
          "execution_count": 13,
          "metadata": {},
          "output_type": "execute_result"
        }
      ],
      "source": [
        "np.linalg.inv(matrix)"
      ]
    },
    {
      "cell_type": "markdown",
      "metadata": {
        "id": "pbKwZpE9jHdo"
      },
      "source": [
        "Умножим признаки тренировочной выборки на случайную обратимую матрицу"
      ]
    },
    {
      "cell_type": "code",
      "execution_count": null,
      "metadata": {
        "id": "iOHF-7fMjHdo",
        "outputId": "287815bd-a3be-4182-e9f1-3827cd613e11"
      },
      "outputs": [
        {
          "data": {
            "text/html": [
              "<div>\n",
              "<style scoped>\n",
              "    .dataframe tbody tr th:only-of-type {\n",
              "        vertical-align: middle;\n",
              "    }\n",
              "\n",
              "    .dataframe tbody tr th {\n",
              "        vertical-align: top;\n",
              "    }\n",
              "\n",
              "    .dataframe thead th {\n",
              "        text-align: right;\n",
              "    }\n",
              "</style>\n",
              "<table border=\"1\" class=\"dataframe\">\n",
              "  <thead>\n",
              "    <tr style=\"text-align: right;\">\n",
              "      <th></th>\n",
              "      <th>Пол</th>\n",
              "      <th>Возраст</th>\n",
              "      <th>Зарплата</th>\n",
              "      <th>Члены семьи</th>\n",
              "    </tr>\n",
              "  </thead>\n",
              "  <tbody>\n",
              "    <tr>\n",
              "      <th>3369</th>\n",
              "      <td>94060.697181</td>\n",
              "      <td>126514.502927</td>\n",
              "      <td>52662.356825</td>\n",
              "      <td>94829.426453</td>\n",
              "    </tr>\n",
              "    <tr>\n",
              "      <th>1441</th>\n",
              "      <td>149588.227172</td>\n",
              "      <td>201182.844651</td>\n",
              "      <td>83710.368509</td>\n",
              "      <td>150764.973691</td>\n",
              "    </tr>\n",
              "    <tr>\n",
              "      <th>571</th>\n",
              "      <td>106752.814780</td>\n",
              "      <td>143579.641413</td>\n",
              "      <td>59749.673665</td>\n",
              "      <td>107602.565380</td>\n",
              "    </tr>\n",
              "    <tr>\n",
              "      <th>225</th>\n",
              "      <td>117144.209173</td>\n",
              "      <td>157556.037466</td>\n",
              "      <td>65566.329665</td>\n",
              "      <td>118077.927258</td>\n",
              "    </tr>\n",
              "    <tr>\n",
              "      <th>2558</th>\n",
              "      <td>131414.907924</td>\n",
              "      <td>176747.777380</td>\n",
              "      <td>73549.095026</td>\n",
              "      <td>132451.889648</td>\n",
              "    </tr>\n",
              "  </tbody>\n",
              "</table>\n",
              "</div>"
            ],
            "text/plain": [
              "                Пол        Возраст      Зарплата    Члены семьи\n",
              "3369   94060.697181  126514.502927  52662.356825   94829.426453\n",
              "1441  149588.227172  201182.844651  83710.368509  150764.973691\n",
              "571   106752.814780  143579.641413  59749.673665  107602.565380\n",
              "225   117144.209173  157556.037466  65566.329665  118077.927258\n",
              "2558  131414.907924  176747.777380  73549.095026  132451.889648"
            ]
          },
          "execution_count": 14,
          "metadata": {},
          "output_type": "execute_result"
        }
      ],
      "source": [
        "train_matrix = train_features.dot(matrix)\n",
        "train_matrix.columns = train_features.columns\n",
        "train_matrix.head()"
      ]
    },
    {
      "cell_type": "markdown",
      "metadata": {
        "id": "nkBbq380jHdp"
      },
      "source": [
        "Умножим признаки тестовой выборки на случайную обратимую матрицу"
      ]
    },
    {
      "cell_type": "code",
      "execution_count": null,
      "metadata": {
        "id": "3O4bo0nFjHdp",
        "outputId": "d959bf09-199b-4614-a936-8978a38df82b"
      },
      "outputs": [
        {
          "data": {
            "text/html": [
              "<div>\n",
              "<style scoped>\n",
              "    .dataframe tbody tr th:only-of-type {\n",
              "        vertical-align: middle;\n",
              "    }\n",
              "\n",
              "    .dataframe tbody tr th {\n",
              "        vertical-align: top;\n",
              "    }\n",
              "\n",
              "    .dataframe thead th {\n",
              "        text-align: right;\n",
              "    }\n",
              "</style>\n",
              "<table border=\"1\" class=\"dataframe\">\n",
              "  <thead>\n",
              "    <tr style=\"text-align: right;\">\n",
              "      <th></th>\n",
              "      <th>Пол</th>\n",
              "      <th>Возраст</th>\n",
              "      <th>Зарплата</th>\n",
              "      <th>Члены семьи</th>\n",
              "    </tr>\n",
              "  </thead>\n",
              "  <tbody>\n",
              "    <tr>\n",
              "      <th>3183</th>\n",
              "      <td>101306.610873</td>\n",
              "      <td>136261.066810</td>\n",
              "      <td>56713.920588</td>\n",
              "      <td>102114.964584</td>\n",
              "    </tr>\n",
              "    <tr>\n",
              "      <th>1071</th>\n",
              "      <td>111983.884426</td>\n",
              "      <td>150624.655719</td>\n",
              "      <td>62697.177278</td>\n",
              "      <td>112897.059790</td>\n",
              "    </tr>\n",
              "    <tr>\n",
              "      <th>2640</th>\n",
              "      <td>109365.787789</td>\n",
              "      <td>147093.441752</td>\n",
              "      <td>61216.271454</td>\n",
              "      <td>110245.301928</td>\n",
              "    </tr>\n",
              "    <tr>\n",
              "      <th>2282</th>\n",
              "      <td>90373.210946</td>\n",
              "      <td>121544.735867</td>\n",
              "      <td>50572.098166</td>\n",
              "      <td>91083.411185</td>\n",
              "    </tr>\n",
              "    <tr>\n",
              "      <th>1595</th>\n",
              "      <td>103919.556896</td>\n",
              "      <td>139778.771805</td>\n",
              "      <td>58183.602374</td>\n",
              "      <td>104758.511815</td>\n",
              "    </tr>\n",
              "  </tbody>\n",
              "</table>\n",
              "</div>"
            ],
            "text/plain": [
              "                Пол        Возраст      Зарплата    Члены семьи\n",
              "3183  101306.610873  136261.066810  56713.920588  102114.964584\n",
              "1071  111983.884426  150624.655719  62697.177278  112897.059790\n",
              "2640  109365.787789  147093.441752  61216.271454  110245.301928\n",
              "2282   90373.210946  121544.735867  50572.098166   91083.411185\n",
              "1595  103919.556896  139778.771805  58183.602374  104758.511815"
            ]
          },
          "execution_count": 15,
          "metadata": {},
          "output_type": "execute_result"
        }
      ],
      "source": [
        "test_matrix = test_features.dot(matrix)\n",
        "test_matrix.columns = test_features.columns\n",
        "test_matrix.head()"
      ]
    },
    {
      "cell_type": "markdown",
      "metadata": {
        "id": "Tl3T-fz5jHdq"
      },
      "source": [
        "Проверим результат"
      ]
    },
    {
      "cell_type": "code",
      "execution_count": null,
      "metadata": {
        "id": "3z8izOV7jHdq",
        "outputId": "b45f6240-9359-4c3e-d999-6827526f0dc6"
      },
      "outputs": [
        {
          "name": "stdout",
          "output_type": "stream",
          "text": [
            "R2_score измененной матрицы до масштабирования: 0.44\n",
            "MSE измененной матрицы до масштабирования: 0.12\n"
          ]
        }
      ],
      "source": [
        "# Модель без масштабирования признаков после преобразования\n",
        "model_r = LinearRegression()\n",
        "model_r.fit(train_matrix,train_target)\n",
        "predictions_r = model_r.predict(test_matrix)\n",
        "\n",
        "r2_score_r = r2_score(test_target, predictions_r)\n",
        "MSE_r = mean_squared_error(predictions_r, test_target)\n",
        "\n",
        "print(\"R2_score измененной матрицы до масштабирования:\", r2_score_r.round(2))\n",
        "print(\"MSE измененной матрицы до масштабирования:\", MSE_r.round(2))"
      ]
    },
    {
      "cell_type": "markdown",
      "source": [
        "Модель с отмасштабированными признаками после преобразования"
      ],
      "metadata": {
        "id": "szON1l_CkfH3"
      }
    },
    {
      "cell_type": "code",
      "execution_count": null,
      "metadata": {
        "id": "xtM__5TqjHdr",
        "outputId": "9dfea844-9a71-46b9-d373-a70830dc0970"
      },
      "outputs": [
        {
          "name": "stdout",
          "output_type": "stream",
          "text": [
            "R2_score измененной матрицы после масштабирования: 0.44\n",
            "MSE измененной матрицы после масштабирования: 0.12\n"
          ]
        }
      ],
      "source": [
        "model_sr = LinearRegression()\n",
        "scaller = StandardScaler()\n",
        "pipeline = Pipeline([(\"standard_scaller\", scaller),(\"linear_regression\", model_sr)])\n",
        "pipeline.fit(train_features, train_target)\n",
        "\n",
        "scaled_r2_score_r = r2_score(test_target, pipeline.predict(test_features))\n",
        "scaled_MSE_r = mean_squared_error(predict, test_target)\n",
        "\n",
        "print(\"R2_score измененной матрицы после масштабирования:\", scaled_r2_score_r.round(2))\n",
        "print(\"MSE измененной матрицы после масштабирования:\", scaled_MSE_r.round(2))"
      ]
    },
    {
      "cell_type": "markdown",
      "metadata": {
        "id": "QASEnyN7jHd1"
      },
      "source": [
        "**Вывод:**\n",
        "Метрики R2 и MSE остаются одинаковыми, что подтверждает возможность использования данного алгоритма для безопасного шифорвания данных."
      ]
    },
    {
      "cell_type": "markdown",
      "metadata": {
        "id": "nnMggItSjHd2"
      },
      "source": [
        "**Общий вывод**\n",
        "- Данные были загружены и проанализированы.\n",
        "- Получен ответ в задаче об умножении матриц.\n",
        "- Был разработал и применен алгоритм защиты данных клиентов страховой компании."
      ]
    }
  ],
  "metadata": {
    "ExecuteTimeLog": [
      {
        "duration": 432,
        "start_time": "2023-02-27T08:21:56.071Z"
      },
      {
        "duration": 132,
        "start_time": "2023-02-27T08:55:16.973Z"
      },
      {
        "duration": 25,
        "start_time": "2023-02-27T09:44:24.462Z"
      },
      {
        "duration": 17,
        "start_time": "2023-02-27T09:44:33.466Z"
      },
      {
        "duration": 12,
        "start_time": "2023-02-27T09:44:59.378Z"
      },
      {
        "duration": 29,
        "start_time": "2023-02-27T09:45:14.332Z"
      },
      {
        "duration": 1037,
        "start_time": "2023-02-27T12:17:51.592Z"
      },
      {
        "duration": 9384,
        "start_time": "2023-02-27T12:17:59.729Z"
      },
      {
        "duration": 5,
        "start_time": "2023-02-27T13:04:32.855Z"
      },
      {
        "duration": 102,
        "start_time": "2023-02-27T13:13:39.966Z"
      },
      {
        "duration": 413,
        "start_time": "2023-02-27T13:14:26.682Z"
      },
      {
        "duration": 7,
        "start_time": "2023-02-27T13:14:39.980Z"
      },
      {
        "duration": 3,
        "start_time": "2023-02-27T13:40:03.980Z"
      },
      {
        "duration": 3,
        "start_time": "2023-02-27T13:40:21.128Z"
      },
      {
        "duration": 6,
        "start_time": "2023-02-27T13:40:30.838Z"
      },
      {
        "duration": 6,
        "start_time": "2023-02-27T13:46:50.401Z"
      },
      {
        "duration": 3,
        "start_time": "2023-02-27T13:52:52.061Z"
      },
      {
        "duration": 24,
        "start_time": "2023-02-27T13:53:06.464Z"
      },
      {
        "duration": 3,
        "start_time": "2023-02-27T13:53:31.660Z"
      },
      {
        "duration": 15,
        "start_time": "2023-02-27T13:53:47.150Z"
      },
      {
        "duration": 3,
        "start_time": "2023-02-27T13:54:50.340Z"
      },
      {
        "duration": 7,
        "start_time": "2023-02-27T13:55:01.890Z"
      },
      {
        "duration": 49,
        "start_time": "2023-02-28T09:56:24.860Z"
      },
      {
        "duration": 1685,
        "start_time": "2023-02-28T09:56:41.350Z"
      },
      {
        "duration": 89,
        "start_time": "2023-02-28T09:56:43.038Z"
      },
      {
        "duration": 13,
        "start_time": "2023-02-28T09:56:43.129Z"
      },
      {
        "duration": 21,
        "start_time": "2023-02-28T09:56:43.145Z"
      },
      {
        "duration": 34,
        "start_time": "2023-02-28T09:56:43.168Z"
      },
      {
        "duration": 9324,
        "start_time": "2023-02-28T09:56:43.203Z"
      },
      {
        "duration": 5,
        "start_time": "2023-02-28T09:56:52.530Z"
      },
      {
        "duration": 10,
        "start_time": "2023-02-28T09:56:52.537Z"
      },
      {
        "duration": 22,
        "start_time": "2023-02-28T09:56:52.549Z"
      },
      {
        "duration": 9,
        "start_time": "2023-02-28T09:56:52.574Z"
      },
      {
        "duration": 37,
        "start_time": "2023-02-28T09:56:52.585Z"
      },
      {
        "duration": 96,
        "start_time": "2023-02-28T09:56:52.627Z"
      },
      {
        "duration": 5,
        "start_time": "2023-02-28T10:08:31.000Z"
      },
      {
        "duration": 6,
        "start_time": "2023-02-28T10:29:25.428Z"
      },
      {
        "duration": 12,
        "start_time": "2023-02-28T11:28:15.630Z"
      },
      {
        "duration": 13,
        "start_time": "2023-02-28T11:54:16.111Z"
      },
      {
        "duration": 148,
        "start_time": "2023-02-28T12:02:08.929Z"
      },
      {
        "duration": 25,
        "start_time": "2023-02-28T12:18:46.161Z"
      },
      {
        "duration": 1491,
        "start_time": "2023-02-28T12:41:11.140Z"
      },
      {
        "duration": 28,
        "start_time": "2023-02-28T12:41:12.632Z"
      },
      {
        "duration": 16,
        "start_time": "2023-02-28T12:41:12.662Z"
      },
      {
        "duration": 21,
        "start_time": "2023-02-28T12:41:12.680Z"
      },
      {
        "duration": 33,
        "start_time": "2023-02-28T12:41:12.704Z"
      },
      {
        "duration": 9320,
        "start_time": "2023-02-28T12:41:12.739Z"
      },
      {
        "duration": 5,
        "start_time": "2023-02-28T12:41:22.062Z"
      },
      {
        "duration": 8,
        "start_time": "2023-02-28T12:41:22.069Z"
      },
      {
        "duration": 6,
        "start_time": "2023-02-28T12:41:22.079Z"
      },
      {
        "duration": 7,
        "start_time": "2023-02-28T12:41:22.087Z"
      },
      {
        "duration": 32,
        "start_time": "2023-02-28T12:41:22.096Z"
      },
      {
        "duration": 100,
        "start_time": "2023-02-28T12:41:22.132Z"
      },
      {
        "duration": 14,
        "start_time": "2023-02-28T12:41:22.234Z"
      },
      {
        "duration": 23,
        "start_time": "2023-02-28T12:41:22.324Z"
      },
      {
        "duration": 21,
        "start_time": "2023-02-28T12:41:22.422Z"
      },
      {
        "duration": 20,
        "start_time": "2023-02-28T12:41:22.445Z"
      },
      {
        "duration": 1583,
        "start_time": "2023-02-28T15:03:12.863Z"
      },
      {
        "duration": 27,
        "start_time": "2023-02-28T15:03:14.448Z"
      },
      {
        "duration": 17,
        "start_time": "2023-02-28T15:03:14.477Z"
      },
      {
        "duration": 16,
        "start_time": "2023-02-28T15:03:14.497Z"
      },
      {
        "duration": 31,
        "start_time": "2023-02-28T15:03:14.525Z"
      },
      {
        "duration": 1547,
        "start_time": "2023-03-01T07:16:40.952Z"
      },
      {
        "duration": 89,
        "start_time": "2023-03-01T07:16:42.501Z"
      },
      {
        "duration": 13,
        "start_time": "2023-03-01T07:16:42.592Z"
      },
      {
        "duration": 16,
        "start_time": "2023-03-01T07:16:42.607Z"
      },
      {
        "duration": 28,
        "start_time": "2023-03-01T07:16:42.624Z"
      },
      {
        "duration": 8787,
        "start_time": "2023-03-01T07:16:42.653Z"
      },
      {
        "duration": 4,
        "start_time": "2023-03-01T07:16:51.442Z"
      },
      {
        "duration": 27,
        "start_time": "2023-03-01T07:16:51.447Z"
      },
      {
        "duration": 18,
        "start_time": "2023-03-01T07:16:51.476Z"
      },
      {
        "duration": 13,
        "start_time": "2023-03-01T07:16:51.496Z"
      },
      {
        "duration": 11,
        "start_time": "2023-03-01T07:16:51.510Z"
      },
      {
        "duration": 31,
        "start_time": "2023-03-01T07:16:51.522Z"
      },
      {
        "duration": 26,
        "start_time": "2023-03-01T07:16:51.630Z"
      },
      {
        "duration": 78,
        "start_time": "2023-03-01T07:16:51.659Z"
      },
      {
        "duration": 92,
        "start_time": "2023-03-01T07:16:51.741Z"
      },
      {
        "duration": 24,
        "start_time": "2023-03-01T07:16:51.835Z"
      },
      {
        "duration": 163,
        "start_time": "2023-03-01T10:17:00.093Z"
      },
      {
        "duration": 4,
        "start_time": "2023-03-01T10:17:25.270Z"
      },
      {
        "duration": 10,
        "start_time": "2023-03-01T10:17:32.764Z"
      },
      {
        "duration": 6,
        "start_time": "2023-03-01T10:17:53.749Z"
      },
      {
        "duration": 11,
        "start_time": "2023-03-01T10:18:15.282Z"
      },
      {
        "duration": 13,
        "start_time": "2023-03-01T10:18:46.229Z"
      },
      {
        "duration": 1412,
        "start_time": "2023-03-01T10:19:00.619Z"
      },
      {
        "duration": 26,
        "start_time": "2023-03-01T10:19:02.033Z"
      },
      {
        "duration": 15,
        "start_time": "2023-03-01T10:19:02.061Z"
      },
      {
        "duration": 13,
        "start_time": "2023-03-01T10:19:02.078Z"
      },
      {
        "duration": 25,
        "start_time": "2023-03-01T10:19:02.093Z"
      },
      {
        "duration": 8,
        "start_time": "2023-03-01T10:19:02.119Z"
      },
      {
        "duration": 8,
        "start_time": "2023-03-01T10:19:02.128Z"
      },
      {
        "duration": 76,
        "start_time": "2023-03-01T10:19:02.138Z"
      },
      {
        "duration": 15,
        "start_time": "2023-03-01T10:19:02.216Z"
      },
      {
        "duration": 11,
        "start_time": "2023-03-01T10:19:02.234Z"
      },
      {
        "duration": 264,
        "start_time": "2023-03-01T10:19:02.247Z"
      },
      {
        "duration": 0,
        "start_time": "2023-03-01T10:19:02.513Z"
      },
      {
        "duration": 0,
        "start_time": "2023-03-01T10:19:02.514Z"
      },
      {
        "duration": 0,
        "start_time": "2023-03-01T10:19:02.515Z"
      },
      {
        "duration": 0,
        "start_time": "2023-03-01T10:19:02.515Z"
      },
      {
        "duration": 0,
        "start_time": "2023-03-01T10:19:02.516Z"
      },
      {
        "duration": 30,
        "start_time": "2023-03-01T10:20:09.777Z"
      },
      {
        "duration": 16,
        "start_time": "2023-03-01T10:20:42.904Z"
      },
      {
        "duration": 19,
        "start_time": "2023-03-01T10:21:00.723Z"
      },
      {
        "duration": 12,
        "start_time": "2023-03-01T10:21:20.861Z"
      },
      {
        "duration": 13,
        "start_time": "2023-03-01T10:21:40.940Z"
      },
      {
        "duration": 10,
        "start_time": "2023-03-01T10:24:01.056Z"
      },
      {
        "duration": 1526,
        "start_time": "2023-03-01T10:24:13.163Z"
      },
      {
        "duration": 28,
        "start_time": "2023-03-01T10:24:14.691Z"
      },
      {
        "duration": 17,
        "start_time": "2023-03-01T10:24:14.721Z"
      },
      {
        "duration": 15,
        "start_time": "2023-03-01T10:24:14.740Z"
      },
      {
        "duration": 26,
        "start_time": "2023-03-01T10:24:14.758Z"
      },
      {
        "duration": 4,
        "start_time": "2023-03-01T10:24:14.786Z"
      },
      {
        "duration": 36,
        "start_time": "2023-03-01T10:24:14.791Z"
      },
      {
        "duration": 9,
        "start_time": "2023-03-01T10:24:14.829Z"
      },
      {
        "duration": 6,
        "start_time": "2023-03-01T10:24:14.840Z"
      },
      {
        "duration": 19,
        "start_time": "2023-03-01T10:24:14.848Z"
      },
      {
        "duration": 99,
        "start_time": "2023-03-01T10:24:14.928Z"
      },
      {
        "duration": 104,
        "start_time": "2023-03-01T10:24:15.034Z"
      },
      {
        "duration": 12,
        "start_time": "2023-03-01T10:24:15.140Z"
      },
      {
        "duration": 94,
        "start_time": "2023-03-01T10:24:15.155Z"
      },
      {
        "duration": 82,
        "start_time": "2023-03-01T10:24:15.251Z"
      },
      {
        "duration": 36,
        "start_time": "2023-03-01T10:24:15.335Z"
      },
      {
        "duration": 15,
        "start_time": "2023-03-01T10:28:37.748Z"
      },
      {
        "duration": 11,
        "start_time": "2023-03-01T10:29:43.699Z"
      },
      {
        "duration": 13,
        "start_time": "2023-03-01T10:30:01.138Z"
      },
      {
        "duration": 16,
        "start_time": "2023-03-01T10:30:08.600Z"
      },
      {
        "duration": 14,
        "start_time": "2023-03-01T10:30:47.666Z"
      },
      {
        "duration": 12,
        "start_time": "2023-03-01T10:31:32.471Z"
      },
      {
        "duration": 149,
        "start_time": "2023-03-01T10:32:12.881Z"
      },
      {
        "duration": 76,
        "start_time": "2023-03-01T10:46:59.533Z"
      },
      {
        "duration": 11,
        "start_time": "2023-03-01T10:52:12.686Z"
      },
      {
        "duration": 1380,
        "start_time": "2023-03-01T11:02:54.158Z"
      },
      {
        "duration": 27,
        "start_time": "2023-03-01T11:02:55.540Z"
      },
      {
        "duration": 13,
        "start_time": "2023-03-01T11:02:55.568Z"
      },
      {
        "duration": 12,
        "start_time": "2023-03-01T11:02:55.583Z"
      },
      {
        "duration": 21,
        "start_time": "2023-03-01T11:02:55.597Z"
      },
      {
        "duration": 8,
        "start_time": "2023-03-01T11:02:55.620Z"
      },
      {
        "duration": 12,
        "start_time": "2023-03-01T11:02:55.631Z"
      },
      {
        "duration": 12,
        "start_time": "2023-03-01T11:02:55.645Z"
      },
      {
        "duration": 6,
        "start_time": "2023-03-01T11:02:55.658Z"
      },
      {
        "duration": 15,
        "start_time": "2023-03-01T11:02:55.665Z"
      },
      {
        "duration": 98,
        "start_time": "2023-03-01T11:02:55.729Z"
      },
      {
        "duration": 103,
        "start_time": "2023-03-01T11:02:55.829Z"
      },
      {
        "duration": 24,
        "start_time": "2023-03-01T11:02:55.935Z"
      },
      {
        "duration": 68,
        "start_time": "2023-03-01T11:02:55.962Z"
      },
      {
        "duration": 14,
        "start_time": "2023-03-01T11:02:56.036Z"
      },
      {
        "duration": 16,
        "start_time": "2023-03-01T11:02:56.129Z"
      },
      {
        "duration": 14,
        "start_time": "2023-03-01T11:02:56.147Z"
      }
    ],
    "kernelspec": {
      "display_name": "Python 3 (ipykernel)",
      "language": "python",
      "name": "python3"
    },
    "language_info": {
      "codemirror_mode": {
        "name": "ipython",
        "version": 3
      },
      "file_extension": ".py",
      "mimetype": "text/x-python",
      "name": "python",
      "nbconvert_exporter": "python",
      "pygments_lexer": "ipython3",
      "version": "3.9.13"
    },
    "toc": {
      "base_numbering": 1,
      "nav_menu": {},
      "number_sections": true,
      "sideBar": true,
      "skip_h1_title": true,
      "title_cell": "Содержание",
      "title_sidebar": "Contents",
      "toc_cell": true,
      "toc_position": {
        "height": "calc(100% - 180px)",
        "left": "10px",
        "top": "150px",
        "width": "164.988px"
      },
      "toc_section_display": true,
      "toc_window_display": true
    },
    "colab": {
      "provenance": []
    }
  },
  "nbformat": 4,
  "nbformat_minor": 0
}