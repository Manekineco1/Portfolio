{
  "cells": [
    {
      "cell_type": "markdown",
      "metadata": {
        "id": "4GQ7MXAweHa2"
      },
      "source": [
        "# Выбор локации для скважины"
      ]
    },
    {
      "cell_type": "markdown",
      "metadata": {
        "id": "x-6vxQaWeHa3"
      },
      "source": [
        "Задача\n",
        "\n",
        "Допустим, вы работаете в добывающей компании «ГлавРосГосНефть». Нужно решить, где бурить новую скважину.\n",
        "\n",
        "Вам предоставлены пробы нефти в трёх регионах: в каждом 10 000 месторождений, где измерили качество нефти и объём её запасов. Постройте модель машинного обучения, которая поможет определить регион, где добыча принесёт наибольшую прибыль. Проанализируйте возможную прибыль и риски техникой *Bootstrap.*\n",
        "\n",
        "Шаги для выбора локации:\n",
        "\n",
        "- В избранном регионе ищут месторождения, для каждого определяют значения признаков;\n",
        "- Строят модель и оценивают объём запасов;\n",
        "- Выбирают месторождения с самым высокими оценками значений. Количество месторождений зависит от бюджета компании и стоимости разработки одной скважины;\n",
        "- Прибыль равна суммарной прибыли отобранных месторождений."
      ]
    },
    {
      "cell_type": "markdown",
      "metadata": {
        "id": "mRhPlrm5eHa3"
      },
      "source": [
        "## Загрузка и подготовка данных"
      ]
    },
    {
      "cell_type": "markdown",
      "source": [
        "Загрузим все необходимые библиотеки"
      ],
      "metadata": {
        "id": "MJ4f4jfceTcB"
      }
    },
    {
      "cell_type": "code",
      "execution_count": null,
      "metadata": {
        "id": "4tg_uBLMeHa3"
      },
      "outputs": [],
      "source": [
        "import pandas as pd\n",
        "import numpy as np\n",
        "import matplotlib.pyplot as plt\n",
        "\n",
        "from sklearn.linear_model import LinearRegression\n",
        "from sklearn.model_selection import train_test_split\n",
        "from sklearn.preprocessing import MinMaxScaler\n",
        "from sklearn.metrics import mean_squared_error\n",
        "\n",
        "import warnings\n",
        "warnings.filterwarnings(\"ignore\")"
      ]
    },
    {
      "cell_type": "code",
      "execution_count": null,
      "metadata": {
        "id": "OAhS6LEyeHa4"
      },
      "outputs": [],
      "source": [
        "data_0 = pd.read_csv('/datasets/geo_data_0.csv')\n",
        "data_1 = pd.read_csv('/datasets/geo_data_1.csv')\n",
        "data_2 = pd.read_csv('/datasets/geo_data_2.csv')"
      ]
    },
    {
      "cell_type": "markdown",
      "metadata": {
        "id": "vU83m1DbeHa4"
      },
      "source": [
        "<b>Изучим датасеты </b>"
      ]
    },
    {
      "cell_type": "code",
      "execution_count": null,
      "metadata": {
        "id": "q-wLkj6-eHa5",
        "outputId": "b13936c3-ea3c-4661-f8ee-f03e1042b562"
      },
      "outputs": [
        {
          "name": "stdout",
          "output_type": "stream",
          "text": [
            "<class 'pandas.core.frame.DataFrame'>\n",
            "RangeIndex: 100000 entries, 0 to 99999\n",
            "Data columns (total 5 columns):\n",
            " #   Column   Non-Null Count   Dtype  \n",
            "---  ------   --------------   -----  \n",
            " 0   id       100000 non-null  object \n",
            " 1   f0       100000 non-null  float64\n",
            " 2   f1       100000 non-null  float64\n",
            " 3   f2       100000 non-null  float64\n",
            " 4   product  100000 non-null  float64\n",
            "dtypes: float64(4), object(1)\n",
            "memory usage: 3.8+ MB\n",
            "None\n",
            "<class 'pandas.core.frame.DataFrame'>\n",
            "RangeIndex: 100000 entries, 0 to 99999\n",
            "Data columns (total 5 columns):\n",
            " #   Column   Non-Null Count   Dtype  \n",
            "---  ------   --------------   -----  \n",
            " 0   id       100000 non-null  object \n",
            " 1   f0       100000 non-null  float64\n",
            " 2   f1       100000 non-null  float64\n",
            " 3   f2       100000 non-null  float64\n",
            " 4   product  100000 non-null  float64\n",
            "dtypes: float64(4), object(1)\n",
            "memory usage: 3.8+ MB\n",
            "None\n",
            "<class 'pandas.core.frame.DataFrame'>\n",
            "RangeIndex: 100000 entries, 0 to 99999\n",
            "Data columns (total 5 columns):\n",
            " #   Column   Non-Null Count   Dtype  \n",
            "---  ------   --------------   -----  \n",
            " 0   id       100000 non-null  object \n",
            " 1   f0       100000 non-null  float64\n",
            " 2   f1       100000 non-null  float64\n",
            " 3   f2       100000 non-null  float64\n",
            " 4   product  100000 non-null  float64\n",
            "dtypes: float64(4), object(1)\n",
            "memory usage: 3.8+ MB\n",
            "None\n"
          ]
        }
      ],
      "source": [
        "data_list=[data_0, data_1, data_2]\n",
        "\n",
        "for data in data_list:\n",
        "    print(data.info())"
      ]
    },
    {
      "cell_type": "code",
      "execution_count": null,
      "metadata": {
        "id": "uOdOAunueHa5",
        "outputId": "f1b28747-1331-46db-e9b8-0e7a407290e2"
      },
      "outputs": [
        {
          "data": {
            "text/html": [
              "<div>\n",
              "<style scoped>\n",
              "    .dataframe tbody tr th:only-of-type {\n",
              "        vertical-align: middle;\n",
              "    }\n",
              "\n",
              "    .dataframe tbody tr th {\n",
              "        vertical-align: top;\n",
              "    }\n",
              "\n",
              "    .dataframe thead th {\n",
              "        text-align: right;\n",
              "    }\n",
              "</style>\n",
              "<table border=\"1\" class=\"dataframe\">\n",
              "  <thead>\n",
              "    <tr style=\"text-align: right;\">\n",
              "      <th></th>\n",
              "      <th>id</th>\n",
              "      <th>f0</th>\n",
              "      <th>f1</th>\n",
              "      <th>f2</th>\n",
              "      <th>product</th>\n",
              "    </tr>\n",
              "  </thead>\n",
              "  <tbody>\n",
              "    <tr>\n",
              "      <th>0</th>\n",
              "      <td>txEyH</td>\n",
              "      <td>0.705745</td>\n",
              "      <td>-0.497823</td>\n",
              "      <td>1.221170</td>\n",
              "      <td>105.280062</td>\n",
              "    </tr>\n",
              "    <tr>\n",
              "      <th>1</th>\n",
              "      <td>2acmU</td>\n",
              "      <td>1.334711</td>\n",
              "      <td>-0.340164</td>\n",
              "      <td>4.365080</td>\n",
              "      <td>73.037750</td>\n",
              "    </tr>\n",
              "    <tr>\n",
              "      <th>2</th>\n",
              "      <td>409Wp</td>\n",
              "      <td>1.022732</td>\n",
              "      <td>0.151990</td>\n",
              "      <td>1.419926</td>\n",
              "      <td>85.265647</td>\n",
              "    </tr>\n",
              "    <tr>\n",
              "      <th>3</th>\n",
              "      <td>iJLyR</td>\n",
              "      <td>-0.032172</td>\n",
              "      <td>0.139033</td>\n",
              "      <td>2.978566</td>\n",
              "      <td>168.620776</td>\n",
              "    </tr>\n",
              "    <tr>\n",
              "      <th>4</th>\n",
              "      <td>Xdl7t</td>\n",
              "      <td>1.988431</td>\n",
              "      <td>0.155413</td>\n",
              "      <td>4.751769</td>\n",
              "      <td>154.036647</td>\n",
              "    </tr>\n",
              "  </tbody>\n",
              "</table>\n",
              "</div>"
            ],
            "text/plain": [
              "      id        f0        f1        f2     product\n",
              "0  txEyH  0.705745 -0.497823  1.221170  105.280062\n",
              "1  2acmU  1.334711 -0.340164  4.365080   73.037750\n",
              "2  409Wp  1.022732  0.151990  1.419926   85.265647\n",
              "3  iJLyR -0.032172  0.139033  2.978566  168.620776\n",
              "4  Xdl7t  1.988431  0.155413  4.751769  154.036647"
            ]
          },
          "metadata": {},
          "output_type": "display_data"
        },
        {
          "data": {
            "text/html": [
              "<div>\n",
              "<style scoped>\n",
              "    .dataframe tbody tr th:only-of-type {\n",
              "        vertical-align: middle;\n",
              "    }\n",
              "\n",
              "    .dataframe tbody tr th {\n",
              "        vertical-align: top;\n",
              "    }\n",
              "\n",
              "    .dataframe thead th {\n",
              "        text-align: right;\n",
              "    }\n",
              "</style>\n",
              "<table border=\"1\" class=\"dataframe\">\n",
              "  <thead>\n",
              "    <tr style=\"text-align: right;\">\n",
              "      <th></th>\n",
              "      <th>id</th>\n",
              "      <th>f0</th>\n",
              "      <th>f1</th>\n",
              "      <th>f2</th>\n",
              "      <th>product</th>\n",
              "    </tr>\n",
              "  </thead>\n",
              "  <tbody>\n",
              "    <tr>\n",
              "      <th>0</th>\n",
              "      <td>kBEdx</td>\n",
              "      <td>-15.001348</td>\n",
              "      <td>-8.276000</td>\n",
              "      <td>-0.005876</td>\n",
              "      <td>3.179103</td>\n",
              "    </tr>\n",
              "    <tr>\n",
              "      <th>1</th>\n",
              "      <td>62mP7</td>\n",
              "      <td>14.272088</td>\n",
              "      <td>-3.475083</td>\n",
              "      <td>0.999183</td>\n",
              "      <td>26.953261</td>\n",
              "    </tr>\n",
              "    <tr>\n",
              "      <th>2</th>\n",
              "      <td>vyE1P</td>\n",
              "      <td>6.263187</td>\n",
              "      <td>-5.948386</td>\n",
              "      <td>5.001160</td>\n",
              "      <td>134.766305</td>\n",
              "    </tr>\n",
              "    <tr>\n",
              "      <th>3</th>\n",
              "      <td>KcrkZ</td>\n",
              "      <td>-13.081196</td>\n",
              "      <td>-11.506057</td>\n",
              "      <td>4.999415</td>\n",
              "      <td>137.945408</td>\n",
              "    </tr>\n",
              "    <tr>\n",
              "      <th>4</th>\n",
              "      <td>AHL4O</td>\n",
              "      <td>12.702195</td>\n",
              "      <td>-8.147433</td>\n",
              "      <td>5.004363</td>\n",
              "      <td>134.766305</td>\n",
              "    </tr>\n",
              "  </tbody>\n",
              "</table>\n",
              "</div>"
            ],
            "text/plain": [
              "      id         f0         f1        f2     product\n",
              "0  kBEdx -15.001348  -8.276000 -0.005876    3.179103\n",
              "1  62mP7  14.272088  -3.475083  0.999183   26.953261\n",
              "2  vyE1P   6.263187  -5.948386  5.001160  134.766305\n",
              "3  KcrkZ -13.081196 -11.506057  4.999415  137.945408\n",
              "4  AHL4O  12.702195  -8.147433  5.004363  134.766305"
            ]
          },
          "metadata": {},
          "output_type": "display_data"
        },
        {
          "data": {
            "text/html": [
              "<div>\n",
              "<style scoped>\n",
              "    .dataframe tbody tr th:only-of-type {\n",
              "        vertical-align: middle;\n",
              "    }\n",
              "\n",
              "    .dataframe tbody tr th {\n",
              "        vertical-align: top;\n",
              "    }\n",
              "\n",
              "    .dataframe thead th {\n",
              "        text-align: right;\n",
              "    }\n",
              "</style>\n",
              "<table border=\"1\" class=\"dataframe\">\n",
              "  <thead>\n",
              "    <tr style=\"text-align: right;\">\n",
              "      <th></th>\n",
              "      <th>id</th>\n",
              "      <th>f0</th>\n",
              "      <th>f1</th>\n",
              "      <th>f2</th>\n",
              "      <th>product</th>\n",
              "    </tr>\n",
              "  </thead>\n",
              "  <tbody>\n",
              "    <tr>\n",
              "      <th>0</th>\n",
              "      <td>fwXo0</td>\n",
              "      <td>-1.146987</td>\n",
              "      <td>0.963328</td>\n",
              "      <td>-0.828965</td>\n",
              "      <td>27.758673</td>\n",
              "    </tr>\n",
              "    <tr>\n",
              "      <th>1</th>\n",
              "      <td>WJtFt</td>\n",
              "      <td>0.262778</td>\n",
              "      <td>0.269839</td>\n",
              "      <td>-2.530187</td>\n",
              "      <td>56.069697</td>\n",
              "    </tr>\n",
              "    <tr>\n",
              "      <th>2</th>\n",
              "      <td>ovLUW</td>\n",
              "      <td>0.194587</td>\n",
              "      <td>0.289035</td>\n",
              "      <td>-5.586433</td>\n",
              "      <td>62.871910</td>\n",
              "    </tr>\n",
              "    <tr>\n",
              "      <th>3</th>\n",
              "      <td>q6cA6</td>\n",
              "      <td>2.236060</td>\n",
              "      <td>-0.553760</td>\n",
              "      <td>0.930038</td>\n",
              "      <td>114.572842</td>\n",
              "    </tr>\n",
              "    <tr>\n",
              "      <th>4</th>\n",
              "      <td>WPMUX</td>\n",
              "      <td>-0.515993</td>\n",
              "      <td>1.716266</td>\n",
              "      <td>5.899011</td>\n",
              "      <td>149.600746</td>\n",
              "    </tr>\n",
              "  </tbody>\n",
              "</table>\n",
              "</div>"
            ],
            "text/plain": [
              "      id        f0        f1        f2     product\n",
              "0  fwXo0 -1.146987  0.963328 -0.828965   27.758673\n",
              "1  WJtFt  0.262778  0.269839 -2.530187   56.069697\n",
              "2  ovLUW  0.194587  0.289035 -5.586433   62.871910\n",
              "3  q6cA6  2.236060 -0.553760  0.930038  114.572842\n",
              "4  WPMUX -0.515993  1.716266  5.899011  149.600746"
            ]
          },
          "metadata": {},
          "output_type": "display_data"
        }
      ],
      "source": [
        "for data in data_list:\n",
        "    display(data.head())"
      ]
    },
    {
      "cell_type": "code",
      "execution_count": null,
      "metadata": {
        "id": "DzLvN4DNeHa6",
        "outputId": "a0519760-c39e-4bf1-8dab-f6c303ed97e7"
      },
      "outputs": [
        {
          "data": {
            "text/html": [
              "<div>\n",
              "<style scoped>\n",
              "    .dataframe tbody tr th:only-of-type {\n",
              "        vertical-align: middle;\n",
              "    }\n",
              "\n",
              "    .dataframe tbody tr th {\n",
              "        vertical-align: top;\n",
              "    }\n",
              "\n",
              "    .dataframe thead th {\n",
              "        text-align: right;\n",
              "    }\n",
              "</style>\n",
              "<table border=\"1\" class=\"dataframe\">\n",
              "  <thead>\n",
              "    <tr style=\"text-align: right;\">\n",
              "      <th></th>\n",
              "      <th>f0</th>\n",
              "      <th>f1</th>\n",
              "      <th>f2</th>\n",
              "      <th>product</th>\n",
              "    </tr>\n",
              "  </thead>\n",
              "  <tbody>\n",
              "    <tr>\n",
              "      <th>count</th>\n",
              "      <td>100000.000000</td>\n",
              "      <td>100000.000000</td>\n",
              "      <td>100000.000000</td>\n",
              "      <td>100000.000000</td>\n",
              "    </tr>\n",
              "    <tr>\n",
              "      <th>mean</th>\n",
              "      <td>0.500419</td>\n",
              "      <td>0.250143</td>\n",
              "      <td>2.502647</td>\n",
              "      <td>92.500000</td>\n",
              "    </tr>\n",
              "    <tr>\n",
              "      <th>std</th>\n",
              "      <td>0.871832</td>\n",
              "      <td>0.504433</td>\n",
              "      <td>3.248248</td>\n",
              "      <td>44.288691</td>\n",
              "    </tr>\n",
              "    <tr>\n",
              "      <th>min</th>\n",
              "      <td>-1.408605</td>\n",
              "      <td>-0.848218</td>\n",
              "      <td>-12.088328</td>\n",
              "      <td>0.000000</td>\n",
              "    </tr>\n",
              "    <tr>\n",
              "      <th>25%</th>\n",
              "      <td>-0.072580</td>\n",
              "      <td>-0.200881</td>\n",
              "      <td>0.287748</td>\n",
              "      <td>56.497507</td>\n",
              "    </tr>\n",
              "    <tr>\n",
              "      <th>50%</th>\n",
              "      <td>0.502360</td>\n",
              "      <td>0.250252</td>\n",
              "      <td>2.515969</td>\n",
              "      <td>91.849972</td>\n",
              "    </tr>\n",
              "    <tr>\n",
              "      <th>75%</th>\n",
              "      <td>1.073581</td>\n",
              "      <td>0.700646</td>\n",
              "      <td>4.715088</td>\n",
              "      <td>128.564089</td>\n",
              "    </tr>\n",
              "    <tr>\n",
              "      <th>max</th>\n",
              "      <td>2.362331</td>\n",
              "      <td>1.343769</td>\n",
              "      <td>16.003790</td>\n",
              "      <td>185.364347</td>\n",
              "    </tr>\n",
              "  </tbody>\n",
              "</table>\n",
              "</div>"
            ],
            "text/plain": [
              "                  f0             f1             f2        product\n",
              "count  100000.000000  100000.000000  100000.000000  100000.000000\n",
              "mean        0.500419       0.250143       2.502647      92.500000\n",
              "std         0.871832       0.504433       3.248248      44.288691\n",
              "min        -1.408605      -0.848218     -12.088328       0.000000\n",
              "25%        -0.072580      -0.200881       0.287748      56.497507\n",
              "50%         0.502360       0.250252       2.515969      91.849972\n",
              "75%         1.073581       0.700646       4.715088     128.564089\n",
              "max         2.362331       1.343769      16.003790     185.364347"
            ]
          },
          "metadata": {},
          "output_type": "display_data"
        },
        {
          "data": {
            "text/html": [
              "<div>\n",
              "<style scoped>\n",
              "    .dataframe tbody tr th:only-of-type {\n",
              "        vertical-align: middle;\n",
              "    }\n",
              "\n",
              "    .dataframe tbody tr th {\n",
              "        vertical-align: top;\n",
              "    }\n",
              "\n",
              "    .dataframe thead th {\n",
              "        text-align: right;\n",
              "    }\n",
              "</style>\n",
              "<table border=\"1\" class=\"dataframe\">\n",
              "  <thead>\n",
              "    <tr style=\"text-align: right;\">\n",
              "      <th></th>\n",
              "      <th>f0</th>\n",
              "      <th>f1</th>\n",
              "      <th>f2</th>\n",
              "      <th>product</th>\n",
              "    </tr>\n",
              "  </thead>\n",
              "  <tbody>\n",
              "    <tr>\n",
              "      <th>count</th>\n",
              "      <td>100000.000000</td>\n",
              "      <td>100000.000000</td>\n",
              "      <td>100000.000000</td>\n",
              "      <td>100000.000000</td>\n",
              "    </tr>\n",
              "    <tr>\n",
              "      <th>mean</th>\n",
              "      <td>1.141296</td>\n",
              "      <td>-4.796579</td>\n",
              "      <td>2.494541</td>\n",
              "      <td>68.825000</td>\n",
              "    </tr>\n",
              "    <tr>\n",
              "      <th>std</th>\n",
              "      <td>8.965932</td>\n",
              "      <td>5.119872</td>\n",
              "      <td>1.703572</td>\n",
              "      <td>45.944423</td>\n",
              "    </tr>\n",
              "    <tr>\n",
              "      <th>min</th>\n",
              "      <td>-31.609576</td>\n",
              "      <td>-26.358598</td>\n",
              "      <td>-0.018144</td>\n",
              "      <td>0.000000</td>\n",
              "    </tr>\n",
              "    <tr>\n",
              "      <th>25%</th>\n",
              "      <td>-6.298551</td>\n",
              "      <td>-8.267985</td>\n",
              "      <td>1.000021</td>\n",
              "      <td>26.953261</td>\n",
              "    </tr>\n",
              "    <tr>\n",
              "      <th>50%</th>\n",
              "      <td>1.153055</td>\n",
              "      <td>-4.813172</td>\n",
              "      <td>2.011479</td>\n",
              "      <td>57.085625</td>\n",
              "    </tr>\n",
              "    <tr>\n",
              "      <th>75%</th>\n",
              "      <td>8.621015</td>\n",
              "      <td>-1.332816</td>\n",
              "      <td>3.999904</td>\n",
              "      <td>107.813044</td>\n",
              "    </tr>\n",
              "    <tr>\n",
              "      <th>max</th>\n",
              "      <td>29.421755</td>\n",
              "      <td>18.734063</td>\n",
              "      <td>5.019721</td>\n",
              "      <td>137.945408</td>\n",
              "    </tr>\n",
              "  </tbody>\n",
              "</table>\n",
              "</div>"
            ],
            "text/plain": [
              "                  f0             f1             f2        product\n",
              "count  100000.000000  100000.000000  100000.000000  100000.000000\n",
              "mean        1.141296      -4.796579       2.494541      68.825000\n",
              "std         8.965932       5.119872       1.703572      45.944423\n",
              "min       -31.609576     -26.358598      -0.018144       0.000000\n",
              "25%        -6.298551      -8.267985       1.000021      26.953261\n",
              "50%         1.153055      -4.813172       2.011479      57.085625\n",
              "75%         8.621015      -1.332816       3.999904     107.813044\n",
              "max        29.421755      18.734063       5.019721     137.945408"
            ]
          },
          "metadata": {},
          "output_type": "display_data"
        },
        {
          "data": {
            "text/html": [
              "<div>\n",
              "<style scoped>\n",
              "    .dataframe tbody tr th:only-of-type {\n",
              "        vertical-align: middle;\n",
              "    }\n",
              "\n",
              "    .dataframe tbody tr th {\n",
              "        vertical-align: top;\n",
              "    }\n",
              "\n",
              "    .dataframe thead th {\n",
              "        text-align: right;\n",
              "    }\n",
              "</style>\n",
              "<table border=\"1\" class=\"dataframe\">\n",
              "  <thead>\n",
              "    <tr style=\"text-align: right;\">\n",
              "      <th></th>\n",
              "      <th>f0</th>\n",
              "      <th>f1</th>\n",
              "      <th>f2</th>\n",
              "      <th>product</th>\n",
              "    </tr>\n",
              "  </thead>\n",
              "  <tbody>\n",
              "    <tr>\n",
              "      <th>count</th>\n",
              "      <td>100000.000000</td>\n",
              "      <td>100000.000000</td>\n",
              "      <td>100000.000000</td>\n",
              "      <td>100000.000000</td>\n",
              "    </tr>\n",
              "    <tr>\n",
              "      <th>mean</th>\n",
              "      <td>0.002023</td>\n",
              "      <td>-0.002081</td>\n",
              "      <td>2.495128</td>\n",
              "      <td>95.000000</td>\n",
              "    </tr>\n",
              "    <tr>\n",
              "      <th>std</th>\n",
              "      <td>1.732045</td>\n",
              "      <td>1.730417</td>\n",
              "      <td>3.473445</td>\n",
              "      <td>44.749921</td>\n",
              "    </tr>\n",
              "    <tr>\n",
              "      <th>min</th>\n",
              "      <td>-8.760004</td>\n",
              "      <td>-7.084020</td>\n",
              "      <td>-11.970335</td>\n",
              "      <td>0.000000</td>\n",
              "    </tr>\n",
              "    <tr>\n",
              "      <th>25%</th>\n",
              "      <td>-1.162288</td>\n",
              "      <td>-1.174820</td>\n",
              "      <td>0.130359</td>\n",
              "      <td>59.450441</td>\n",
              "    </tr>\n",
              "    <tr>\n",
              "      <th>50%</th>\n",
              "      <td>0.009424</td>\n",
              "      <td>-0.009482</td>\n",
              "      <td>2.484236</td>\n",
              "      <td>94.925613</td>\n",
              "    </tr>\n",
              "    <tr>\n",
              "      <th>75%</th>\n",
              "      <td>1.158535</td>\n",
              "      <td>1.163678</td>\n",
              "      <td>4.858794</td>\n",
              "      <td>130.595027</td>\n",
              "    </tr>\n",
              "    <tr>\n",
              "      <th>max</th>\n",
              "      <td>7.238262</td>\n",
              "      <td>7.844801</td>\n",
              "      <td>16.739402</td>\n",
              "      <td>190.029838</td>\n",
              "    </tr>\n",
              "  </tbody>\n",
              "</table>\n",
              "</div>"
            ],
            "text/plain": [
              "                  f0             f1             f2        product\n",
              "count  100000.000000  100000.000000  100000.000000  100000.000000\n",
              "mean        0.002023      -0.002081       2.495128      95.000000\n",
              "std         1.732045       1.730417       3.473445      44.749921\n",
              "min        -8.760004      -7.084020     -11.970335       0.000000\n",
              "25%        -1.162288      -1.174820       0.130359      59.450441\n",
              "50%         0.009424      -0.009482       2.484236      94.925613\n",
              "75%         1.158535       1.163678       4.858794     130.595027\n",
              "max         7.238262       7.844801      16.739402     190.029838"
            ]
          },
          "metadata": {},
          "output_type": "display_data"
        }
      ],
      "source": [
        "for data in data_list:\n",
        "    display(data.describe())"
      ]
    },
    {
      "cell_type": "markdown",
      "source": [
        "Проверим мультиколлинеарность признаков"
      ],
      "metadata": {
        "id": "_k158JnieqHr"
      }
    },
    {
      "cell_type": "code",
      "execution_count": null,
      "metadata": {
        "id": "f_pBu3lCeHa6",
        "outputId": "97368d58-fd5e-425c-e262-bbba4ec186ab"
      },
      "outputs": [
        {
          "data": {
            "text/html": [
              "<style  type=\"text/css\" >\n",
              "#T_f5712_row0_col0,#T_f5712_row1_col1,#T_f5712_row2_col2,#T_f5712_row3_col3{\n",
              "            background-color:  #800026;\n",
              "            color:  #f1f1f1;\n",
              "        }#T_f5712_row0_col1,#T_f5712_row0_col2,#T_f5712_row1_col0,#T_f5712_row1_col3{\n",
              "            background-color:  #ffffcc;\n",
              "            color:  #000000;\n",
              "        }#T_f5712_row0_col3{\n",
              "            background-color:  #fecf6b;\n",
              "            color:  #000000;\n",
              "        }#T_f5712_row1_col2{\n",
              "            background-color:  #fffecb;\n",
              "            color:  #000000;\n",
              "        }#T_f5712_row2_col0{\n",
              "            background-color:  #fec965;\n",
              "            color:  #000000;\n",
              "        }#T_f5712_row2_col1{\n",
              "            background-color:  #fec863;\n",
              "            color:  #000000;\n",
              "        }#T_f5712_row2_col3{\n",
              "            background-color:  #fc6a32;\n",
              "            color:  #000000;\n",
              "        }#T_f5712_row3_col0{\n",
              "            background-color:  #fea948;\n",
              "            color:  #000000;\n",
              "        }#T_f5712_row3_col1{\n",
              "            background-color:  #ffe590;\n",
              "            color:  #000000;\n",
              "        }#T_f5712_row3_col2{\n",
              "            background-color:  #fd913e;\n",
              "            color:  #000000;\n",
              "        }</style><table id=\"T_f5712_\" ><thead>    <tr>        <th class=\"blank level0\" ></th>        <th class=\"col_heading level0 col0\" >f0</th>        <th class=\"col_heading level0 col1\" >f1</th>        <th class=\"col_heading level0 col2\" >f2</th>        <th class=\"col_heading level0 col3\" >product</th>    </tr></thead><tbody>\n",
              "                <tr>\n",
              "                        <th id=\"T_f5712_level0_row0\" class=\"row_heading level0 row0\" >f0</th>\n",
              "                        <td id=\"T_f5712_row0_col0\" class=\"data row0 col0\" >1.000000</td>\n",
              "                        <td id=\"T_f5712_row0_col1\" class=\"data row0 col1\" >-0.440723</td>\n",
              "                        <td id=\"T_f5712_row0_col2\" class=\"data row0 col2\" >-0.003153</td>\n",
              "                        <td id=\"T_f5712_row0_col3\" class=\"data row0 col3\" >0.143536</td>\n",
              "            </tr>\n",
              "            <tr>\n",
              "                        <th id=\"T_f5712_level0_row1\" class=\"row_heading level0 row1\" >f1</th>\n",
              "                        <td id=\"T_f5712_row1_col0\" class=\"data row1 col0\" >-0.440723</td>\n",
              "                        <td id=\"T_f5712_row1_col1\" class=\"data row1 col1\" >1.000000</td>\n",
              "                        <td id=\"T_f5712_row1_col2\" class=\"data row1 col2\" >0.001724</td>\n",
              "                        <td id=\"T_f5712_row1_col3\" class=\"data row1 col3\" >-0.192356</td>\n",
              "            </tr>\n",
              "            <tr>\n",
              "                        <th id=\"T_f5712_level0_row2\" class=\"row_heading level0 row2\" >f2</th>\n",
              "                        <td id=\"T_f5712_row2_col0\" class=\"data row2 col0\" >-0.003153</td>\n",
              "                        <td id=\"T_f5712_row2_col1\" class=\"data row2 col1\" >0.001724</td>\n",
              "                        <td id=\"T_f5712_row2_col2\" class=\"data row2 col2\" >1.000000</td>\n",
              "                        <td id=\"T_f5712_row2_col3\" class=\"data row2 col3\" >0.483663</td>\n",
              "            </tr>\n",
              "            <tr>\n",
              "                        <th id=\"T_f5712_level0_row3\" class=\"row_heading level0 row3\" >product</th>\n",
              "                        <td id=\"T_f5712_row3_col0\" class=\"data row3 col0\" >0.143536</td>\n",
              "                        <td id=\"T_f5712_row3_col1\" class=\"data row3 col1\" >-0.192356</td>\n",
              "                        <td id=\"T_f5712_row3_col2\" class=\"data row3 col2\" >0.483663</td>\n",
              "                        <td id=\"T_f5712_row3_col3\" class=\"data row3 col3\" >1.000000</td>\n",
              "            </tr>\n",
              "    </tbody></table>"
            ],
            "text/plain": [
              "<pandas.io.formats.style.Styler at 0x7f7e738e0c70>"
            ]
          },
          "execution_count": 6,
          "metadata": {},
          "output_type": "execute_result"
        }
      ],
      "source": [
        "corr = data_0.corr()\n",
        "corr.style.background_gradient(cmap='YlOrRd')"
      ]
    },
    {
      "cell_type": "code",
      "execution_count": null,
      "metadata": {
        "id": "9RkmMIb3eHa6",
        "outputId": "4ef21790-c538-4103-a3bd-26edacbba758"
      },
      "outputs": [
        {
          "data": {
            "text/html": [
              "<style  type=\"text/css\" >\n",
              "#T_07630_row0_col0,#T_07630_row1_col1,#T_07630_row2_col2,#T_07630_row2_col3,#T_07630_row3_col2,#T_07630_row3_col3{\n",
              "            background-color:  #800026;\n",
              "            color:  #f1f1f1;\n",
              "        }#T_07630_row0_col1{\n",
              "            background-color:  #fee38b;\n",
              "            color:  #000000;\n",
              "        }#T_07630_row0_col2,#T_07630_row0_col3,#T_07630_row1_col2,#T_07630_row3_col0,#T_07630_row3_col1{\n",
              "            background-color:  #ffffcc;\n",
              "            color:  #000000;\n",
              "        }#T_07630_row1_col0{\n",
              "            background-color:  #fee085;\n",
              "            color:  #000000;\n",
              "        }#T_07630_row1_col3{\n",
              "            background-color:  #fffcc5;\n",
              "            color:  #000000;\n",
              "        }#T_07630_row2_col0{\n",
              "            background-color:  #fffbc2;\n",
              "            color:  #000000;\n",
              "        }#T_07630_row2_col1{\n",
              "            background-color:  #fffecb;\n",
              "            color:  #000000;\n",
              "        }</style><table id=\"T_07630_\" ><thead>    <tr>        <th class=\"blank level0\" ></th>        <th class=\"col_heading level0 col0\" >f0</th>        <th class=\"col_heading level0 col1\" >f1</th>        <th class=\"col_heading level0 col2\" >f2</th>        <th class=\"col_heading level0 col3\" >product</th>    </tr></thead><tbody>\n",
              "                <tr>\n",
              "                        <th id=\"T_07630_level0_row0\" class=\"row_heading level0 row0\" >f0</th>\n",
              "                        <td id=\"T_07630_row0_col0\" class=\"data row0 col0\" >1.000000</td>\n",
              "                        <td id=\"T_07630_row0_col1\" class=\"data row0 col1\" >0.182287</td>\n",
              "                        <td id=\"T_07630_row0_col2\" class=\"data row0 col2\" >-0.001777</td>\n",
              "                        <td id=\"T_07630_row0_col3\" class=\"data row0 col3\" >-0.030491</td>\n",
              "            </tr>\n",
              "            <tr>\n",
              "                        <th id=\"T_07630_level0_row1\" class=\"row_heading level0 row1\" >f1</th>\n",
              "                        <td id=\"T_07630_row1_col0\" class=\"data row1 col0\" >0.182287</td>\n",
              "                        <td id=\"T_07630_row1_col1\" class=\"data row1 col1\" >1.000000</td>\n",
              "                        <td id=\"T_07630_row1_col2\" class=\"data row1 col2\" >-0.002595</td>\n",
              "                        <td id=\"T_07630_row1_col3\" class=\"data row1 col3\" >-0.010155</td>\n",
              "            </tr>\n",
              "            <tr>\n",
              "                        <th id=\"T_07630_level0_row2\" class=\"row_heading level0 row2\" >f2</th>\n",
              "                        <td id=\"T_07630_row2_col0\" class=\"data row2 col0\" >-0.001777</td>\n",
              "                        <td id=\"T_07630_row2_col1\" class=\"data row2 col1\" >-0.002595</td>\n",
              "                        <td id=\"T_07630_row2_col2\" class=\"data row2 col2\" >1.000000</td>\n",
              "                        <td id=\"T_07630_row2_col3\" class=\"data row2 col3\" >0.999397</td>\n",
              "            </tr>\n",
              "            <tr>\n",
              "                        <th id=\"T_07630_level0_row3\" class=\"row_heading level0 row3\" >product</th>\n",
              "                        <td id=\"T_07630_row3_col0\" class=\"data row3 col0\" >-0.030491</td>\n",
              "                        <td id=\"T_07630_row3_col1\" class=\"data row3 col1\" >-0.010155</td>\n",
              "                        <td id=\"T_07630_row3_col2\" class=\"data row3 col2\" >0.999397</td>\n",
              "                        <td id=\"T_07630_row3_col3\" class=\"data row3 col3\" >1.000000</td>\n",
              "            </tr>\n",
              "    </tbody></table>"
            ],
            "text/plain": [
              "<pandas.io.formats.style.Styler at 0x7f7e747acf40>"
            ]
          },
          "execution_count": 7,
          "metadata": {},
          "output_type": "execute_result"
        }
      ],
      "source": [
        "corr = data_1.corr()\n",
        "corr.style.background_gradient(cmap='YlOrRd')"
      ]
    },
    {
      "cell_type": "code",
      "execution_count": null,
      "metadata": {
        "id": "ldJqN_ineHa7",
        "outputId": "43b20a6e-e3ed-4b60-bfad-da31cd13e831"
      },
      "outputs": [
        {
          "data": {
            "text/html": [
              "<style  type=\"text/css\" >\n",
              "#T_0a357_row0_col0,#T_0a357_row1_col1,#T_0a357_row2_col2,#T_0a357_row3_col3{\n",
              "            background-color:  #800026;\n",
              "            color:  #f1f1f1;\n",
              "        }#T_0a357_row0_col1,#T_0a357_row0_col2,#T_0a357_row0_col3,#T_0a357_row1_col0,#T_0a357_row1_col2,#T_0a357_row1_col3,#T_0a357_row2_col0,#T_0a357_row2_col1,#T_0a357_row3_col0,#T_0a357_row3_col1{\n",
              "            background-color:  #ffffcc;\n",
              "            color:  #000000;\n",
              "        }#T_0a357_row2_col3,#T_0a357_row3_col2{\n",
              "            background-color:  #fd9d43;\n",
              "            color:  #000000;\n",
              "        }</style><table id=\"T_0a357_\" ><thead>    <tr>        <th class=\"blank level0\" ></th>        <th class=\"col_heading level0 col0\" >f0</th>        <th class=\"col_heading level0 col1\" >f1</th>        <th class=\"col_heading level0 col2\" >f2</th>        <th class=\"col_heading level0 col3\" >product</th>    </tr></thead><tbody>\n",
              "                <tr>\n",
              "                        <th id=\"T_0a357_level0_row0\" class=\"row_heading level0 row0\" >f0</th>\n",
              "                        <td id=\"T_0a357_row0_col0\" class=\"data row0 col0\" >1.000000</td>\n",
              "                        <td id=\"T_0a357_row0_col1\" class=\"data row0 col1\" >0.000528</td>\n",
              "                        <td id=\"T_0a357_row0_col2\" class=\"data row0 col2\" >-0.000448</td>\n",
              "                        <td id=\"T_0a357_row0_col3\" class=\"data row0 col3\" >-0.001987</td>\n",
              "            </tr>\n",
              "            <tr>\n",
              "                        <th id=\"T_0a357_level0_row1\" class=\"row_heading level0 row1\" >f1</th>\n",
              "                        <td id=\"T_0a357_row1_col0\" class=\"data row1 col0\" >0.000528</td>\n",
              "                        <td id=\"T_0a357_row1_col1\" class=\"data row1 col1\" >1.000000</td>\n",
              "                        <td id=\"T_0a357_row1_col2\" class=\"data row1 col2\" >0.000779</td>\n",
              "                        <td id=\"T_0a357_row1_col3\" class=\"data row1 col3\" >-0.001012</td>\n",
              "            </tr>\n",
              "            <tr>\n",
              "                        <th id=\"T_0a357_level0_row2\" class=\"row_heading level0 row2\" >f2</th>\n",
              "                        <td id=\"T_0a357_row2_col0\" class=\"data row2 col0\" >-0.000448</td>\n",
              "                        <td id=\"T_0a357_row2_col1\" class=\"data row2 col1\" >0.000779</td>\n",
              "                        <td id=\"T_0a357_row2_col2\" class=\"data row2 col2\" >1.000000</td>\n",
              "                        <td id=\"T_0a357_row2_col3\" class=\"data row2 col3\" >0.445871</td>\n",
              "            </tr>\n",
              "            <tr>\n",
              "                        <th id=\"T_0a357_level0_row3\" class=\"row_heading level0 row3\" >product</th>\n",
              "                        <td id=\"T_0a357_row3_col0\" class=\"data row3 col0\" >-0.001987</td>\n",
              "                        <td id=\"T_0a357_row3_col1\" class=\"data row3 col1\" >-0.001012</td>\n",
              "                        <td id=\"T_0a357_row3_col2\" class=\"data row3 col2\" >0.445871</td>\n",
              "                        <td id=\"T_0a357_row3_col3\" class=\"data row3 col3\" >1.000000</td>\n",
              "            </tr>\n",
              "    </tbody></table>"
            ],
            "text/plain": [
              "<pandas.io.formats.style.Styler at 0x7f7e747b72b0>"
            ]
          },
          "execution_count": 8,
          "metadata": {},
          "output_type": "execute_result"
        }
      ],
      "source": [
        "corr = data_2.corr()\n",
        "corr.style.background_gradient(cmap='YlOrRd')"
      ]
    },
    {
      "cell_type": "markdown",
      "source": [
        " Проверим на дубликаты"
      ],
      "metadata": {
        "id": "W7g_w1Iue7GC"
      }
    },
    {
      "cell_type": "code",
      "execution_count": null,
      "metadata": {
        "id": "7O95dmUYeHa7",
        "outputId": "f782878b-79ec-4e5e-b095-e5caf008bd5b"
      },
      "outputs": [
        {
          "data": {
            "text/plain": [
              "(0, 0, 0)"
            ]
          },
          "execution_count": 9,
          "metadata": {},
          "output_type": "execute_result"
        }
      ],
      "source": [
        "data_0.duplicated().sum(), data_1.duplicated().sum(), data_2.duplicated().sum()"
      ]
    },
    {
      "cell_type": "markdown",
      "source": [
        "Проверка на уникальность по id"
      ],
      "metadata": {
        "id": "kEE1PlZ8fLm2"
      }
    },
    {
      "cell_type": "code",
      "execution_count": null,
      "metadata": {
        "id": "WW67v-R9eHa8",
        "outputId": "1a18a35a-4450-45c0-ac9f-00e67b86a159"
      },
      "outputs": [
        {
          "data": {
            "text/html": [
              "<div>\n",
              "<style scoped>\n",
              "    .dataframe tbody tr th:only-of-type {\n",
              "        vertical-align: middle;\n",
              "    }\n",
              "\n",
              "    .dataframe tbody tr th {\n",
              "        vertical-align: top;\n",
              "    }\n",
              "\n",
              "    .dataframe thead th {\n",
              "        text-align: right;\n",
              "    }\n",
              "</style>\n",
              "<table border=\"1\" class=\"dataframe\">\n",
              "  <thead>\n",
              "    <tr style=\"text-align: right;\">\n",
              "      <th></th>\n",
              "      <th>id</th>\n",
              "      <th>f0</th>\n",
              "      <th>f1</th>\n",
              "      <th>f2</th>\n",
              "      <th>product</th>\n",
              "    </tr>\n",
              "  </thead>\n",
              "  <tbody>\n",
              "    <tr>\n",
              "      <th>66136</th>\n",
              "      <td>74z30</td>\n",
              "      <td>1.084962</td>\n",
              "      <td>-0.312358</td>\n",
              "      <td>6.990771</td>\n",
              "      <td>127.643327</td>\n",
              "    </tr>\n",
              "    <tr>\n",
              "      <th>64022</th>\n",
              "      <td>74z30</td>\n",
              "      <td>0.741456</td>\n",
              "      <td>0.459229</td>\n",
              "      <td>5.153109</td>\n",
              "      <td>140.771492</td>\n",
              "    </tr>\n",
              "    <tr>\n",
              "      <th>51970</th>\n",
              "      <td>A5aEY</td>\n",
              "      <td>-0.180335</td>\n",
              "      <td>0.935548</td>\n",
              "      <td>-2.094773</td>\n",
              "      <td>33.020205</td>\n",
              "    </tr>\n",
              "    <tr>\n",
              "      <th>3389</th>\n",
              "      <td>A5aEY</td>\n",
              "      <td>-0.039949</td>\n",
              "      <td>0.156872</td>\n",
              "      <td>0.209861</td>\n",
              "      <td>89.249364</td>\n",
              "    </tr>\n",
              "    <tr>\n",
              "      <th>69163</th>\n",
              "      <td>AGS9W</td>\n",
              "      <td>-0.933795</td>\n",
              "      <td>0.116194</td>\n",
              "      <td>-3.655896</td>\n",
              "      <td>19.230453</td>\n",
              "    </tr>\n",
              "    <tr>\n",
              "      <th>42529</th>\n",
              "      <td>AGS9W</td>\n",
              "      <td>1.454747</td>\n",
              "      <td>-0.479651</td>\n",
              "      <td>0.683380</td>\n",
              "      <td>126.370504</td>\n",
              "    </tr>\n",
              "    <tr>\n",
              "      <th>931</th>\n",
              "      <td>HZww2</td>\n",
              "      <td>0.755284</td>\n",
              "      <td>0.368511</td>\n",
              "      <td>1.863211</td>\n",
              "      <td>30.681774</td>\n",
              "    </tr>\n",
              "    <tr>\n",
              "      <th>7530</th>\n",
              "      <td>HZww2</td>\n",
              "      <td>1.061194</td>\n",
              "      <td>-0.373969</td>\n",
              "      <td>10.430210</td>\n",
              "      <td>158.828695</td>\n",
              "    </tr>\n",
              "    <tr>\n",
              "      <th>63593</th>\n",
              "      <td>QcMuo</td>\n",
              "      <td>0.635635</td>\n",
              "      <td>-0.473422</td>\n",
              "      <td>0.862670</td>\n",
              "      <td>64.578675</td>\n",
              "    </tr>\n",
              "    <tr>\n",
              "      <th>1949</th>\n",
              "      <td>QcMuo</td>\n",
              "      <td>0.506563</td>\n",
              "      <td>-0.323775</td>\n",
              "      <td>-2.215583</td>\n",
              "      <td>75.496502</td>\n",
              "    </tr>\n",
              "    <tr>\n",
              "      <th>75715</th>\n",
              "      <td>Tdehs</td>\n",
              "      <td>0.112079</td>\n",
              "      <td>0.430296</td>\n",
              "      <td>3.218993</td>\n",
              "      <td>60.964018</td>\n",
              "    </tr>\n",
              "    <tr>\n",
              "      <th>21426</th>\n",
              "      <td>Tdehs</td>\n",
              "      <td>0.829407</td>\n",
              "      <td>0.298807</td>\n",
              "      <td>-0.049563</td>\n",
              "      <td>96.035308</td>\n",
              "    </tr>\n",
              "    <tr>\n",
              "      <th>92341</th>\n",
              "      <td>TtcGQ</td>\n",
              "      <td>0.110711</td>\n",
              "      <td>1.022689</td>\n",
              "      <td>0.911381</td>\n",
              "      <td>101.318008</td>\n",
              "    </tr>\n",
              "    <tr>\n",
              "      <th>60140</th>\n",
              "      <td>TtcGQ</td>\n",
              "      <td>0.569276</td>\n",
              "      <td>-0.104876</td>\n",
              "      <td>6.440215</td>\n",
              "      <td>85.350186</td>\n",
              "    </tr>\n",
              "    <tr>\n",
              "      <th>89582</th>\n",
              "      <td>bsk9y</td>\n",
              "      <td>0.398908</td>\n",
              "      <td>-0.400253</td>\n",
              "      <td>10.122376</td>\n",
              "      <td>163.433078</td>\n",
              "    </tr>\n",
              "    <tr>\n",
              "      <th>97785</th>\n",
              "      <td>bsk9y</td>\n",
              "      <td>0.378429</td>\n",
              "      <td>0.005837</td>\n",
              "      <td>0.160827</td>\n",
              "      <td>160.637302</td>\n",
              "    </tr>\n",
              "    <tr>\n",
              "      <th>41724</th>\n",
              "      <td>bxg6G</td>\n",
              "      <td>-0.823752</td>\n",
              "      <td>0.546319</td>\n",
              "      <td>3.630479</td>\n",
              "      <td>93.007798</td>\n",
              "    </tr>\n",
              "    <tr>\n",
              "      <th>1364</th>\n",
              "      <td>bxg6G</td>\n",
              "      <td>0.411645</td>\n",
              "      <td>0.856830</td>\n",
              "      <td>-3.653440</td>\n",
              "      <td>73.604260</td>\n",
              "    </tr>\n",
              "    <tr>\n",
              "      <th>16633</th>\n",
              "      <td>fiKDv</td>\n",
              "      <td>0.157341</td>\n",
              "      <td>1.028359</td>\n",
              "      <td>5.585586</td>\n",
              "      <td>95.817889</td>\n",
              "    </tr>\n",
              "    <tr>\n",
              "      <th>90815</th>\n",
              "      <td>fiKDv</td>\n",
              "      <td>0.049883</td>\n",
              "      <td>0.841313</td>\n",
              "      <td>6.394613</td>\n",
              "      <td>137.346586</td>\n",
              "    </tr>\n",
              "  </tbody>\n",
              "</table>\n",
              "</div>"
            ],
            "text/plain": [
              "          id        f0        f1         f2     product\n",
              "66136  74z30  1.084962 -0.312358   6.990771  127.643327\n",
              "64022  74z30  0.741456  0.459229   5.153109  140.771492\n",
              "51970  A5aEY -0.180335  0.935548  -2.094773   33.020205\n",
              "3389   A5aEY -0.039949  0.156872   0.209861   89.249364\n",
              "69163  AGS9W -0.933795  0.116194  -3.655896   19.230453\n",
              "42529  AGS9W  1.454747 -0.479651   0.683380  126.370504\n",
              "931    HZww2  0.755284  0.368511   1.863211   30.681774\n",
              "7530   HZww2  1.061194 -0.373969  10.430210  158.828695\n",
              "63593  QcMuo  0.635635 -0.473422   0.862670   64.578675\n",
              "1949   QcMuo  0.506563 -0.323775  -2.215583   75.496502\n",
              "75715  Tdehs  0.112079  0.430296   3.218993   60.964018\n",
              "21426  Tdehs  0.829407  0.298807  -0.049563   96.035308\n",
              "92341  TtcGQ  0.110711  1.022689   0.911381  101.318008\n",
              "60140  TtcGQ  0.569276 -0.104876   6.440215   85.350186\n",
              "89582  bsk9y  0.398908 -0.400253  10.122376  163.433078\n",
              "97785  bsk9y  0.378429  0.005837   0.160827  160.637302\n",
              "41724  bxg6G -0.823752  0.546319   3.630479   93.007798\n",
              "1364   bxg6G  0.411645  0.856830  -3.653440   73.604260\n",
              "16633  fiKDv  0.157341  1.028359   5.585586   95.817889\n",
              "90815  fiKDv  0.049883  0.841313   6.394613  137.346586"
            ]
          },
          "execution_count": 10,
          "metadata": {},
          "output_type": "execute_result"
        }
      ],
      "source": [
        "data_0[data_0.duplicated(subset = ['id'], keep = False)].sort_values(by='id')"
      ]
    },
    {
      "cell_type": "code",
      "execution_count": null,
      "metadata": {
        "id": "GujzVWi8eHa8",
        "outputId": "a05c4375-936a-40b5-f0b2-b1b7ebb3aa5d"
      },
      "outputs": [
        {
          "data": {
            "text/html": [
              "<div>\n",
              "<style scoped>\n",
              "    .dataframe tbody tr th:only-of-type {\n",
              "        vertical-align: middle;\n",
              "    }\n",
              "\n",
              "    .dataframe tbody tr th {\n",
              "        vertical-align: top;\n",
              "    }\n",
              "\n",
              "    .dataframe thead th {\n",
              "        text-align: right;\n",
              "    }\n",
              "</style>\n",
              "<table border=\"1\" class=\"dataframe\">\n",
              "  <thead>\n",
              "    <tr style=\"text-align: right;\">\n",
              "      <th></th>\n",
              "      <th>id</th>\n",
              "      <th>f0</th>\n",
              "      <th>f1</th>\n",
              "      <th>f2</th>\n",
              "      <th>product</th>\n",
              "    </tr>\n",
              "  </thead>\n",
              "  <tbody>\n",
              "    <tr>\n",
              "      <th>5849</th>\n",
              "      <td>5ltQ6</td>\n",
              "      <td>-3.435401</td>\n",
              "      <td>-12.296043</td>\n",
              "      <td>1.999796</td>\n",
              "      <td>57.085625</td>\n",
              "    </tr>\n",
              "    <tr>\n",
              "      <th>84461</th>\n",
              "      <td>5ltQ6</td>\n",
              "      <td>18.213839</td>\n",
              "      <td>2.191999</td>\n",
              "      <td>3.993869</td>\n",
              "      <td>107.813044</td>\n",
              "    </tr>\n",
              "    <tr>\n",
              "      <th>1305</th>\n",
              "      <td>LHZR0</td>\n",
              "      <td>11.170835</td>\n",
              "      <td>-1.945066</td>\n",
              "      <td>3.002872</td>\n",
              "      <td>80.859783</td>\n",
              "    </tr>\n",
              "    <tr>\n",
              "      <th>41906</th>\n",
              "      <td>LHZR0</td>\n",
              "      <td>-8.989672</td>\n",
              "      <td>-4.286607</td>\n",
              "      <td>2.009139</td>\n",
              "      <td>57.085625</td>\n",
              "    </tr>\n",
              "    <tr>\n",
              "      <th>2721</th>\n",
              "      <td>bfPNe</td>\n",
              "      <td>-9.494442</td>\n",
              "      <td>-5.463692</td>\n",
              "      <td>4.006042</td>\n",
              "      <td>110.992147</td>\n",
              "    </tr>\n",
              "    <tr>\n",
              "      <th>82178</th>\n",
              "      <td>bfPNe</td>\n",
              "      <td>-6.202799</td>\n",
              "      <td>-4.820045</td>\n",
              "      <td>2.995107</td>\n",
              "      <td>84.038886</td>\n",
              "    </tr>\n",
              "    <tr>\n",
              "      <th>47591</th>\n",
              "      <td>wt4Uk</td>\n",
              "      <td>-9.091098</td>\n",
              "      <td>-8.109279</td>\n",
              "      <td>-0.002314</td>\n",
              "      <td>3.179103</td>\n",
              "    </tr>\n",
              "    <tr>\n",
              "      <th>82873</th>\n",
              "      <td>wt4Uk</td>\n",
              "      <td>10.259972</td>\n",
              "      <td>-9.376355</td>\n",
              "      <td>4.994297</td>\n",
              "      <td>134.766305</td>\n",
              "    </tr>\n",
              "  </tbody>\n",
              "</table>\n",
              "</div>"
            ],
            "text/plain": [
              "          id         f0         f1        f2     product\n",
              "5849   5ltQ6  -3.435401 -12.296043  1.999796   57.085625\n",
              "84461  5ltQ6  18.213839   2.191999  3.993869  107.813044\n",
              "1305   LHZR0  11.170835  -1.945066  3.002872   80.859783\n",
              "41906  LHZR0  -8.989672  -4.286607  2.009139   57.085625\n",
              "2721   bfPNe  -9.494442  -5.463692  4.006042  110.992147\n",
              "82178  bfPNe  -6.202799  -4.820045  2.995107   84.038886\n",
              "47591  wt4Uk  -9.091098  -8.109279 -0.002314    3.179103\n",
              "82873  wt4Uk  10.259972  -9.376355  4.994297  134.766305"
            ]
          },
          "execution_count": 11,
          "metadata": {},
          "output_type": "execute_result"
        }
      ],
      "source": [
        "data_1[data_1.duplicated(subset = ['id'], keep = False)].sort_values(by='id')"
      ]
    },
    {
      "cell_type": "code",
      "execution_count": null,
      "metadata": {
        "id": "3sXo3gUheHa8",
        "outputId": "49704cf1-3f65-4e1b-9c43-fb3e01901278"
      },
      "outputs": [
        {
          "data": {
            "text/html": [
              "<div>\n",
              "<style scoped>\n",
              "    .dataframe tbody tr th:only-of-type {\n",
              "        vertical-align: middle;\n",
              "    }\n",
              "\n",
              "    .dataframe tbody tr th {\n",
              "        vertical-align: top;\n",
              "    }\n",
              "\n",
              "    .dataframe thead th {\n",
              "        text-align: right;\n",
              "    }\n",
              "</style>\n",
              "<table border=\"1\" class=\"dataframe\">\n",
              "  <thead>\n",
              "    <tr style=\"text-align: right;\">\n",
              "      <th></th>\n",
              "      <th>id</th>\n",
              "      <th>f0</th>\n",
              "      <th>f1</th>\n",
              "      <th>f2</th>\n",
              "      <th>product</th>\n",
              "    </tr>\n",
              "  </thead>\n",
              "  <tbody>\n",
              "    <tr>\n",
              "      <th>45404</th>\n",
              "      <td>KUPhW</td>\n",
              "      <td>0.231846</td>\n",
              "      <td>-1.698941</td>\n",
              "      <td>4.990775</td>\n",
              "      <td>11.716299</td>\n",
              "    </tr>\n",
              "    <tr>\n",
              "      <th>55967</th>\n",
              "      <td>KUPhW</td>\n",
              "      <td>1.211150</td>\n",
              "      <td>3.176408</td>\n",
              "      <td>5.543540</td>\n",
              "      <td>132.831802</td>\n",
              "    </tr>\n",
              "    <tr>\n",
              "      <th>11449</th>\n",
              "      <td>VF7Jo</td>\n",
              "      <td>2.122656</td>\n",
              "      <td>-0.858275</td>\n",
              "      <td>5.746001</td>\n",
              "      <td>181.716817</td>\n",
              "    </tr>\n",
              "    <tr>\n",
              "      <th>49564</th>\n",
              "      <td>VF7Jo</td>\n",
              "      <td>-0.883115</td>\n",
              "      <td>0.560537</td>\n",
              "      <td>0.723601</td>\n",
              "      <td>136.233420</td>\n",
              "    </tr>\n",
              "    <tr>\n",
              "      <th>44378</th>\n",
              "      <td>Vcm5J</td>\n",
              "      <td>-1.229484</td>\n",
              "      <td>-2.439204</td>\n",
              "      <td>1.222909</td>\n",
              "      <td>137.968290</td>\n",
              "    </tr>\n",
              "    <tr>\n",
              "      <th>95090</th>\n",
              "      <td>Vcm5J</td>\n",
              "      <td>2.587702</td>\n",
              "      <td>1.986875</td>\n",
              "      <td>2.482245</td>\n",
              "      <td>92.327572</td>\n",
              "    </tr>\n",
              "    <tr>\n",
              "      <th>28039</th>\n",
              "      <td>xCHr8</td>\n",
              "      <td>1.633027</td>\n",
              "      <td>0.368135</td>\n",
              "      <td>-2.378367</td>\n",
              "      <td>6.120525</td>\n",
              "    </tr>\n",
              "    <tr>\n",
              "      <th>43233</th>\n",
              "      <td>xCHr8</td>\n",
              "      <td>-0.847066</td>\n",
              "      <td>2.101796</td>\n",
              "      <td>5.597130</td>\n",
              "      <td>184.388641</td>\n",
              "    </tr>\n",
              "  </tbody>\n",
              "</table>\n",
              "</div>"
            ],
            "text/plain": [
              "          id        f0        f1        f2     product\n",
              "45404  KUPhW  0.231846 -1.698941  4.990775   11.716299\n",
              "55967  KUPhW  1.211150  3.176408  5.543540  132.831802\n",
              "11449  VF7Jo  2.122656 -0.858275  5.746001  181.716817\n",
              "49564  VF7Jo -0.883115  0.560537  0.723601  136.233420\n",
              "44378  Vcm5J -1.229484 -2.439204  1.222909  137.968290\n",
              "95090  Vcm5J  2.587702  1.986875  2.482245   92.327572\n",
              "28039  xCHr8  1.633027  0.368135 -2.378367    6.120525\n",
              "43233  xCHr8 -0.847066  2.101796  5.597130  184.388641"
            ]
          },
          "execution_count": 12,
          "metadata": {},
          "output_type": "execute_result"
        }
      ],
      "source": [
        "data_2[data_2.duplicated(subset = ['id'], keep = False)].sort_values(by='id')"
      ]
    },
    {
      "cell_type": "markdown",
      "source": [
        "При исследовании уникальность id, я обнаружила, что есть повторяющиеся значения. Возможно пробу могли брать 2 раза из скважины, или нет? Уточнить с заказчиком."
      ],
      "metadata": {
        "id": "Eu_CFU46fdjc"
      }
    },
    {
      "cell_type": "markdown",
      "metadata": {
        "id": "Rl012JnDeHa8"
      },
      "source": [
        "<b>Построим гистограммы и определим количество выбросов</b>"
      ]
    },
    {
      "cell_type": "code",
      "execution_count": null,
      "metadata": {
        "id": "r8M5IxExeHa8",
        "outputId": "e81fd11f-4fb2-489a-d4fe-fdd026aa695e"
      },
      "outputs": [
        {
          "data": {
            "image/png": "[encoded data removed]",
            "text/plain": [
              "<Figure size 1296x720 with 4 Axes>"
            ]
          },
          "metadata": {
            "needs_background": "light"
          },
          "output_type": "display_data"
        }
      ],
      "source": [
        "data_0.hist(figsize=(18, 10))\n",
        "plt.show()"
      ]
    },
    {
      "cell_type": "code",
      "execution_count": null,
      "metadata": {
        "id": "oJ6SqIEIeHa8",
        "outputId": "d6e1140f-a487-43a0-8b8f-fe4133f0ecb9"
      },
      "outputs": [
        {
          "data": {
            "image/png": "[encoded data removed]",
            "text/plain": [
              "<Figure size 1296x720 with 4 Axes>"
            ]
          },
          "metadata": {
            "needs_background": "light"
          },
          "output_type": "display_data"
        }
      ],
      "source": [
        "data_1.hist(figsize=(18, 10))\n",
        "plt.show()"
      ]
    },
    {
      "cell_type": "code",
      "execution_count": null,
      "metadata": {
        "id": "vGpSr6QKeHa8",
        "outputId": "e0fefcf6-cfce-4f54-db1d-867fd15bbe55"
      },
      "outputs": [
        {
          "data": {
            "image/png": "[encoded data removed]",
            "text/plain": [
              "<Figure size 1296x720 with 4 Axes>"
            ]
          },
          "metadata": {
            "needs_background": "light"
          },
          "output_type": "display_data"
        }
      ],
      "source": [
        "data_1.hist(figsize=(18, 10))\n",
        "plt.show()"
      ]
    },
    {
      "cell_type": "markdown",
      "metadata": {
        "id": "VJakPyODeHa9"
      },
      "source": [
        "### Выводы:\n",
        "- В данных отсутсвуют пропуски\n",
        "- Нет дубликатов\n",
        "- Отсутсвуют выбросы\n",
        "- Единственная мультиколлинеарность - между признаками product и f2, она в разной степени, наблюдается по всем регионам."
      ]
    },
    {
      "cell_type": "markdown",
      "metadata": {
        "id": "3GCkXdp4eHa9"
      },
      "source": [
        "## Обучение и проверка модели"
      ]
    },
    {
      "cell_type": "code",
      "execution_count": null,
      "metadata": {
        "id": "mihIBf2aeHa9"
      },
      "outputs": [],
      "source": [
        "RANDOM_STATE = 12345"
      ]
    },
    {
      "cell_type": "markdown",
      "source": [
        "Напишем цикл для линейной регрессии:"
      ],
      "metadata": {
        "id": "UktSE32ZgZ4L"
      }
    },
    {
      "cell_type": "code",
      "execution_count": null,
      "metadata": {
        "id": "H9fOEO5ZeHa9"
      },
      "outputs": [],
      "source": [
        "def model_lr(data):\n",
        "    # зададим целевой признак и подготовим данные\n",
        "    target = data['product']\n",
        "    features = data.drop(['product', 'id'], axis=1)\n",
        "\n",
        "    # Разбьём данные на обучающую и валидационную выборки в соотношении 75:25\n",
        "    features_train, features_valid, target_train, target_valid = \\\n",
        "    train_test_split(features, target, test_size=0.25, random_state=RANDOM_STATE)\n",
        "\n",
        "    scaler = MinMaxScaler() #сделаем скейлинг\n",
        "    features_train = scaler.fit_transform(features_train)\n",
        "    features_valid = scaler.transform(features_valid)\n",
        "\n",
        "    model = LinearRegression() # обучим модель\n",
        "    model.fit(features_train, target_train)\n",
        "    predicted_valid = model.predict(features_valid)\n",
        "\n",
        "    rmse = mean_squared_error(target_valid, predicted_valid)**0.5  # посчитаем rmse\n",
        "\n",
        "    predicted_valid_mean = predicted_valid.sum()/len(predicted_valid) # посчитаем средний запас сырья\n",
        "\n",
        "    return target_valid, predicted_valid, rmse, predicted_valid_mean"
      ]
    },
    {
      "cell_type": "markdown",
      "source": [
        "Получим показатели для каждого региона"
      ],
      "metadata": {
        "id": "HTsBhbyhgdnJ"
      }
    },
    {
      "cell_type": "code",
      "execution_count": null,
      "metadata": {
        "id": "UZuuo-5yeHbK"
      },
      "outputs": [],
      "source": [
        "target_valid_0, predicted_valid_0, rmse_0, predicted_valid_mean_0 = model_lr(data_0)\n",
        "target_valid_1, predicted_valid_1, rmse_1, predicted_valid_mean_1 = model_lr(data_1)\n",
        "target_valid_2, predicted_valid_2, rmse_2, predicted_valid_mean_2 = model_lr(data_2)"
      ]
    },
    {
      "cell_type": "code",
      "execution_count": null,
      "metadata": {
        "id": "1UusfJV2eHbL",
        "outputId": "e4d5dc3e-03fa-4aad-9945-1ac9f46d01f8"
      },
      "outputs": [
        {
          "name": "stdout",
          "output_type": "stream",
          "text": [
            "Регион_0: Средний запас сырья: 92.59 тыс. баррелей, rmse: 37.5794217150813\n",
            "Регион_1: Средний запас сырья: 68.73 тыс. баррелей, rmse: 0.893099286775617\n",
            "Регион_2: Средний запас сырья: 94.97 тыс. баррелей, rmse: 40.02970873393434\n"
          ]
        }
      ],
      "source": [
        "print('Регион_0: Средний запас сырья:', round(predicted_valid_mean_0, 2), 'тыс. баррелей,', 'rmse:', rmse_0)\n",
        "print('Регион_1: Средний запас сырья:', round(predicted_valid_mean_1, 2), 'тыс. баррелей,','rmse:', rmse_1)\n",
        "print('Регион_2: Средний запас сырья:', round(predicted_valid_mean_2, 2), 'тыс. баррелей,','rmse:', rmse_2)"
      ]
    },
    {
      "cell_type": "markdown",
      "metadata": {
        "id": "FRtHZTZ0eHbL"
      },
      "source": [
        "### Выводы:\n",
        "- В моем проекте линейная регрессия была обучена на тестовой выборке, которая составляет 25% от датасета.\n",
        "- Проведен скейлинг, посчитан средний запас сырья и качество предсказания метрикой RMSE, которая определяет величину среднеквадратичной ошибки.\n",
        "- Исходя из полученных данных, можно заметить, что наименьшая величина RMSE - в первом регионе, там же наблюдаются наименьшие средние запас сырья."
      ]
    },
    {
      "cell_type": "markdown",
      "metadata": {
        "id": "RbG8aJ19eHbL"
      },
      "source": [
        "## Подготовка к расчёту прибыли"
      ]
    },
    {
      "cell_type": "markdown",
      "source": [
        "Все ключевые значения для расчётов сохраним в отдельных переменных."
      ],
      "metadata": {
        "id": "ABoskMjKgnqv"
      }
    },
    {
      "cell_type": "code",
      "execution_count": null,
      "metadata": {
        "id": "9ZrLVGRweHbM"
      },
      "outputs": [],
      "source": [
        "point_best = 200\n",
        "total_points = 500\n",
        "income_per_barrel_rub = 450\n",
        "profit = 450000\n",
        "budget = 10000000000"
      ]
    },
    {
      "cell_type": "code",
      "execution_count": null,
      "metadata": {
        "id": "w5Cf0mVaeHbM",
        "outputId": "77dee166-2152-4a96-c879-6a00ace65d35"
      },
      "outputs": [
        {
          "name": "stdout",
          "output_type": "stream",
          "text": [
            "Достаточный объём сырья для безубыточной разработки новой скважины: 111.11111111111111 тыс. баррелей\n"
          ]
        }
      ],
      "source": [
        "budget_per_well = budget / total_points #бюджет на разработку одной скважины\n",
        "needed_quontity_barrels = (budget/point_best)/income_per_barrel_rub/1000 #объем сырья для безубытка\n",
        "print('Достаточный объём сырья для безубыточной разработки новой скважины:', needed_quontity_barrels, 'тыс. баррелей')"
      ]
    },
    {
      "cell_type": "code",
      "execution_count": null,
      "metadata": {
        "id": "bA9hxLqeeHbM"
      },
      "outputs": [],
      "source": [
        "table_vol_dict = {'predicted_valid_mean': [predicted_valid_mean_0, predicted_valid_mean_1, predicted_valid_mean_2],\n",
        "            'needed_quontity_barrels': [needed_quontity_barrels, needed_quontity_barrels, needed_quontity_barrels]}\n",
        "table_vol = pd.DataFrame(table_vol_dict)"
      ]
    },
    {
      "cell_type": "code",
      "execution_count": null,
      "metadata": {
        "id": "1ThnCK5qeHbM",
        "outputId": "1b029b9c-a525-4166-b76e-2e715c889931"
      },
      "outputs": [
        {
          "data": {
            "image/png": "[encoded data removed]",
            "text/plain": [
              "<Figure size 720x360 with 1 Axes>"
            ]
          },
          "metadata": {
            "needs_background": "light"
          },
          "output_type": "display_data"
        }
      ],
      "source": [
        "table_vol['predicted_valid_mean'].plot.bar(ylim=(0, 200),figsize=(10,5), xlabel='Номер региона', ylabel='Кол-во тыс. баррелей')\n",
        "table_vol['needed_quontity_barrels'].plot.line(ylim=(0,200),figsize=(10,5), color='red')\n",
        "plt.legend(['Достаточный объём сырья для безубыточной разработки новой скважины', 'Средний запас сырья'])\n",
        "plt.title('Сравнение достаточного для безубыточной разработки новой скважины объём сырья со средним запасом в каждом регионе')\n",
        "plt.show()"
      ]
    },
    {
      "cell_type": "markdown",
      "metadata": {
        "id": "ilpwasFPeHbP"
      },
      "source": [
        "### Выводы:\n",
        "- все необходимые данные были сохранены в переменных;\n",
        "- был рассчитан достаточный объём сырья для безубыточной разработки новой скважины - 111 тыс. баррелей\n",
        "- при сравнии среднего запаса сырья по регионам с достаточным объемом для безубыточной разработки новой скважины - было обнаружено, что ни в одном регионе средний запас сырья не достугает нужной отметки, наглядно это видно на графике."
      ]
    },
    {
      "cell_type": "markdown",
      "metadata": {
        "id": "X1WTwmrzeHbP"
      },
      "source": [
        "## Расчёт прибыли и рисков"
      ]
    },
    {
      "cell_type": "markdown",
      "source": [
        "Приведем данные к типу Series"
      ],
      "metadata": {
        "id": "a_PgbWIsgxrH"
      }
    },
    {
      "cell_type": "code",
      "execution_count": null,
      "metadata": {
        "id": "BChXQaN4eHbQ"
      },
      "outputs": [],
      "source": [
        "def series_type(target, pred):\n",
        "    target = target.reset_index(drop=True)\n",
        "    pred = pd.Series(pred)\n",
        "    return target, pred"
      ]
    },
    {
      "cell_type": "markdown",
      "source": [
        "Приведем целевые и прогнозные значения по всем регионам к одному типу"
      ],
      "metadata": {
        "id": "vaRxb26ag1C9"
      }
    },
    {
      "cell_type": "code",
      "execution_count": null,
      "metadata": {
        "id": "LwWz0fR7eHbQ"
      },
      "outputs": [],
      "source": [
        "target_valid_0, predicted_valid_0 = series_type(target_valid_0, predicted_valid_0)\n",
        "target_valid_1, predicted_valid_1 = series_type(target_valid_1, predicted_valid_1)\n",
        "target_valid_2, predicted_valid_2 = series_type(target_valid_2, predicted_valid_2)"
      ]
    },
    {
      "cell_type": "markdown",
      "source": [
        "Напишем функцию для расчёта прибыли по выбранным скважинам и предсказаниям модели"
      ],
      "metadata": {
        "id": "KeG94mo4g5R-"
      }
    },
    {
      "cell_type": "code",
      "execution_count": null,
      "metadata": {
        "id": "V37Oml5AeHbQ"
      },
      "outputs": [],
      "source": [
        "def revenue(target_valid, predicted_valid, point_best):\n",
        "    target = pd.Series(target_valid, index=target_valid.index)\n",
        "    probabilities = pd.Series(predicted_valid,index=target.index)\n",
        "    probs_sorted = probabilities.sort_values(ascending=False)\n",
        "    selected = target[probs_sorted.index][:point_best]\n",
        "    return (profit * selected.sum())-budget"
      ]
    },
    {
      "cell_type": "markdown",
      "source": [
        "Применим бутстреп"
      ],
      "metadata": {
        "id": "9UnZUXFMg8IT"
      }
    },
    {
      "cell_type": "code",
      "execution_count": null,
      "metadata": {
        "id": "kCgaGYjmeHbQ"
      },
      "outputs": [],
      "source": [
        "def bootstrap_region(target_valid, predicted_valid):\n",
        "    state = RANDOM_STATE\n",
        "    values = []\n",
        "    for i in range(1000):\n",
        "        target_subsample = target_valid.sample(n = total_points, replace=True)\n",
        "        pred_subsample = predicted_valid[target_subsample.index]\n",
        "\n",
        "        values.append(revenue(target_subsample, pred_subsample, point_best))\n",
        "    values = pd.Series(values)\n",
        "    values_mean = int(values.mean())\n",
        "    lower = int(values.quantile(q=0.025))\n",
        "    upper = int(values.quantile(q=0.975))\n",
        "    risk = np.round(len(values[values < 0]) / len(values)*100)\n",
        "    return values_mean, lower, upper, risk"
      ]
    },
    {
      "cell_type": "markdown",
      "source": [
        "Посчитаем основные параметры для трёх регионов"
      ],
      "metadata": {
        "id": "AJb8DH7Vg_S5"
      }
    },
    {
      "cell_type": "code",
      "execution_count": null,
      "metadata": {
        "id": "Eks7HoobeHbQ"
      },
      "outputs": [],
      "source": [
        "values_mean_0, lower_0, upper_0, risk_0  = bootstrap_region(target_valid_0, predicted_valid_0)\n",
        "values_mean_1, lower_1, upper_1, risk_1  = bootstrap_region(target_valid_1, predicted_valid_1)\n",
        "values_mean_2, lower_2, upper_2, risk_2  = bootstrap_region(target_valid_2, predicted_valid_2)"
      ]
    },
    {
      "cell_type": "code",
      "execution_count": null,
      "metadata": {
        "scrolled": true,
        "id": "RdIkgNCneHbQ",
        "outputId": "05e1ffa8-0a52-494c-a3fd-691e3374cadd"
      },
      "outputs": [
        {
          "name": "stdout",
          "output_type": "stream",
          "text": [
            "Средняя прибыль лучших месторождений региона_0 равна 424968569 доверительные интервалы: 25%: -135307455 95%: 959116739\n",
            "Средняя прибыль лучших месторождений региона_1 равна 507991234 доверительные интервалы: 25%: 111683815 95%: 923632662\n",
            "Средняя прибыль лучших месторождений региона_2 равна 421312456 доверительные интервалы: 25%: -120352116 95%: 968575902\n"
          ]
        }
      ],
      "source": [
        "print('Средняя прибыль лучших месторождений региона_0 равна', values_mean_0, 'доверительные интервалы: 25%:', lower_0, '95%:', upper_0, )\n",
        "print('Средняя прибыль лучших месторождений региона_1 равна', values_mean_1, 'доверительные интервалы: 25%:', lower_1, '95%:', upper_1)\n",
        "print('Средняя прибыль лучших месторождений региона_2 равна', values_mean_2, 'доверительные интервалы: 25%:', lower_2, '95%:', upper_2)"
      ]
    },
    {
      "cell_type": "code",
      "execution_count": null,
      "metadata": {
        "id": "VIoafuvdeHbR",
        "outputId": "f52ccdde-95b1-4da4-c704-77188f8526d0"
      },
      "outputs": [
        {
          "name": "stdout",
          "output_type": "stream",
          "text": [
            "Риск убытков региона_0 равен 7.0 %\n",
            "Риск убытков региона_1 равен 0.0 %\n",
            "Риск убытков региона_2 равен 6.0 %\n"
          ]
        }
      ],
      "source": [
        "print('Риск убытков региона_0 равен', risk_0, '%')\n",
        "print('Риск убытков региона_1 равен', risk_1, '%')\n",
        "print('Риск убытков региона_2 равен', risk_2, '%')"
      ]
    },
    {
      "cell_type": "markdown",
      "metadata": {
        "id": "zWqS-q7BeHbR"
      },
      "source": [
        "### Выводы:\n",
        "- была применена технику Bootstrap с 1000 выборок,\n",
        "- найдена средняя прибыль, доверительные интервалы и риск убытков.\n",
        "- регион с наименьшим риском - первый, риск составляет 0%\n",
        "- по средний прибыли лучших месторождений так же лидирует регион номер 1\n",
        "- по первому региону мы видим наименьший размер доверительного интервала"
      ]
    },
    {
      "cell_type": "markdown",
      "metadata": {
        "id": "QUo1UBuAeHbR"
      },
      "source": [
        "## Общий вывод:\n",
        "- мне были предоставлены пробы нефти в трёх регионах.\n",
        "- я исследовала 500 точек в каждом регионе, из которых с помощью машинного обучения выбрала 200 лучших для разработки.\n",
        "- я использовала линейную регрессию при обучении модели для определения региона, где добыча принесёт наибольшую прибыль.\n",
        "- для определения возможной прибыли и рисков от разработки новой скажины была использована техника Bootstrap.\n",
        "- по результатам проведенного мной исследования, регион номер один имеет наименьшие риски - 0% и наименьший доверительный интервал, так же у этого региона наибольшие показатели прибыли лучших 200 месторожденияй. Еще одним фактором в пользу первого региона является лучший показатель RMSE линейной регресии -  0.89.\n",
        "- я рекомендую к разработке новых скважин регион номер один - вероятность убытков по нему соотвествует поставленной задаче - меньше 2,5 %, однако, следует обратить внимание, на недодстаточность показателя среднего запаса сырья на скважине для безубыточной разработки."
      ]
    }
  ],
  "metadata": {
    "ExecuteTimeLog": [
      {
        "duration": 419,
        "start_time": "2023-01-31T15:21:00.475Z"
      },
      {
        "duration": 828,
        "start_time": "2023-01-31T15:23:24.017Z"
      },
      {
        "duration": 15,
        "start_time": "2023-01-31T15:24:07.207Z"
      },
      {
        "duration": 489,
        "start_time": "2023-01-31T16:00:30.515Z"
      },
      {
        "duration": 416,
        "start_time": "2023-02-01T16:11:25.651Z"
      },
      {
        "duration": 1490,
        "start_time": "2023-02-01T16:11:26.070Z"
      },
      {
        "duration": 18,
        "start_time": "2023-02-01T16:11:27.562Z"
      },
      {
        "duration": 475,
        "start_time": "2023-02-01T16:11:27.582Z"
      },
      {
        "duration": 11,
        "start_time": "2023-02-01T16:14:07.419Z"
      },
      {
        "duration": 10,
        "start_time": "2023-02-01T16:14:26.303Z"
      },
      {
        "duration": 18,
        "start_time": "2023-02-01T16:14:44.358Z"
      },
      {
        "duration": 23,
        "start_time": "2023-02-01T16:15:16.820Z"
      },
      {
        "duration": 15,
        "start_time": "2023-02-01T16:22:09.146Z"
      },
      {
        "duration": 17,
        "start_time": "2023-02-01T16:22:19.360Z"
      },
      {
        "duration": 78,
        "start_time": "2023-02-02T07:56:52.165Z"
      },
      {
        "duration": 428,
        "start_time": "2023-02-02T08:00:00.728Z"
      },
      {
        "duration": 1539,
        "start_time": "2023-02-02T08:00:01.159Z"
      },
      {
        "duration": 17,
        "start_time": "2023-02-02T08:00:02.699Z"
      },
      {
        "duration": 25,
        "start_time": "2023-02-02T08:00:02.718Z"
      },
      {
        "duration": 516,
        "start_time": "2023-02-02T08:00:02.745Z"
      },
      {
        "duration": 9,
        "start_time": "2023-02-02T08:00:03.264Z"
      },
      {
        "duration": 36,
        "start_time": "2023-02-02T08:00:03.275Z"
      },
      {
        "duration": 12,
        "start_time": "2023-02-02T08:00:03.312Z"
      },
      {
        "duration": 35,
        "start_time": "2023-02-02T08:00:03.326Z"
      },
      {
        "duration": 27,
        "start_time": "2023-02-02T08:00:03.363Z"
      },
      {
        "duration": 59,
        "start_time": "2023-02-02T08:01:13.499Z"
      },
      {
        "duration": 20,
        "start_time": "2023-02-02T08:01:19.429Z"
      },
      {
        "duration": 18,
        "start_time": "2023-02-02T08:02:42.190Z"
      },
      {
        "duration": 10,
        "start_time": "2023-02-02T08:02:49.345Z"
      },
      {
        "duration": 22,
        "start_time": "2023-02-02T08:02:52.800Z"
      },
      {
        "duration": 74,
        "start_time": "2023-02-02T08:03:09.242Z"
      },
      {
        "duration": 17,
        "start_time": "2023-02-02T08:03:26.265Z"
      },
      {
        "duration": 20,
        "start_time": "2023-02-02T08:07:42.927Z"
      },
      {
        "duration": 21,
        "start_time": "2023-02-02T08:09:07.988Z"
      },
      {
        "duration": 17,
        "start_time": "2023-02-02T08:13:25.094Z"
      },
      {
        "duration": 19,
        "start_time": "2023-02-02T08:18:18.455Z"
      },
      {
        "duration": 19,
        "start_time": "2023-02-02T08:18:26.948Z"
      },
      {
        "duration": 26,
        "start_time": "2023-02-02T08:21:04.255Z"
      },
      {
        "duration": 19,
        "start_time": "2023-02-02T08:21:14.404Z"
      },
      {
        "duration": 18,
        "start_time": "2023-02-02T08:21:24.695Z"
      },
      {
        "duration": 18,
        "start_time": "2023-02-02T08:21:43.229Z"
      },
      {
        "duration": 26,
        "start_time": "2023-02-02T08:21:59.296Z"
      },
      {
        "duration": 20,
        "start_time": "2023-02-02T08:24:17.547Z"
      },
      {
        "duration": 119,
        "start_time": "2023-02-02T08:29:43.409Z"
      },
      {
        "duration": 25,
        "start_time": "2023-02-02T08:30:30.908Z"
      },
      {
        "duration": 2,
        "start_time": "2023-02-02T08:37:19.740Z"
      },
      {
        "duration": 314,
        "start_time": "2023-02-02T08:40:19.028Z"
      },
      {
        "duration": 2,
        "start_time": "2023-02-02T08:40:51.978Z"
      },
      {
        "duration": 351,
        "start_time": "2023-02-02T08:41:00.691Z"
      },
      {
        "duration": 300,
        "start_time": "2023-02-02T08:41:20.588Z"
      },
      {
        "duration": 306,
        "start_time": "2023-02-02T08:41:29.337Z"
      },
      {
        "duration": 387,
        "start_time": "2023-02-02T08:41:54.264Z"
      },
      {
        "duration": 464,
        "start_time": "2023-02-02T08:42:11.805Z"
      },
      {
        "duration": 389,
        "start_time": "2023-02-02T08:42:40.541Z"
      },
      {
        "duration": 472,
        "start_time": "2023-02-02T08:42:53.353Z"
      },
      {
        "duration": 312,
        "start_time": "2023-02-02T08:44:22.510Z"
      },
      {
        "duration": 458,
        "start_time": "2023-02-02T08:44:46.406Z"
      },
      {
        "duration": 476,
        "start_time": "2023-02-02T08:45:03.699Z"
      },
      {
        "duration": 8,
        "start_time": "2023-02-02T08:45:48.704Z"
      },
      {
        "duration": 10,
        "start_time": "2023-02-02T08:47:32.408Z"
      },
      {
        "duration": 145,
        "start_time": "2023-02-02T08:50:01.710Z"
      },
      {
        "duration": 23,
        "start_time": "2023-02-02T08:51:47.295Z"
      },
      {
        "duration": 582,
        "start_time": "2023-02-02T08:53:47.151Z"
      },
      {
        "duration": 11,
        "start_time": "2023-02-02T08:53:52.609Z"
      },
      {
        "duration": 9,
        "start_time": "2023-02-02T08:54:01.084Z"
      },
      {
        "duration": 13,
        "start_time": "2023-02-02T08:54:15.570Z"
      },
      {
        "duration": 892,
        "start_time": "2023-02-02T08:54:33.251Z"
      },
      {
        "duration": 460,
        "start_time": "2023-02-02T08:54:34.147Z"
      },
      {
        "duration": 14,
        "start_time": "2023-02-02T08:54:34.608Z"
      },
      {
        "duration": 31,
        "start_time": "2023-02-02T08:54:34.625Z"
      },
      {
        "duration": 73,
        "start_time": "2023-02-02T08:54:34.660Z"
      },
      {
        "duration": 3,
        "start_time": "2023-02-02T08:54:34.747Z"
      },
      {
        "duration": 15,
        "start_time": "2023-02-02T08:54:34.752Z"
      },
      {
        "duration": 18,
        "start_time": "2023-02-02T08:54:34.769Z"
      },
      {
        "duration": 19,
        "start_time": "2023-02-02T08:54:34.789Z"
      },
      {
        "duration": 9,
        "start_time": "2023-02-02T08:54:34.810Z"
      },
      {
        "duration": 38,
        "start_time": "2023-02-02T08:54:34.821Z"
      },
      {
        "duration": 21,
        "start_time": "2023-02-02T08:54:34.861Z"
      },
      {
        "duration": 159,
        "start_time": "2023-02-02T08:54:34.884Z"
      },
      {
        "duration": 581,
        "start_time": "2023-02-02T08:54:35.050Z"
      },
      {
        "duration": 683,
        "start_time": "2023-02-02T08:54:35.634Z"
      },
      {
        "duration": 374,
        "start_time": "2023-02-02T08:54:36.320Z"
      },
      {
        "duration": 51,
        "start_time": "2023-02-02T08:57:03.778Z"
      },
      {
        "duration": 52,
        "start_time": "2023-02-02T09:04:36.868Z"
      },
      {
        "duration": 40,
        "start_time": "2023-02-02T11:53:54.186Z"
      },
      {
        "duration": 33,
        "start_time": "2023-02-02T11:54:16.096Z"
      },
      {
        "duration": 36,
        "start_time": "2023-02-02T11:55:39.109Z"
      },
      {
        "duration": 516,
        "start_time": "2023-02-02T11:55:46.098Z"
      },
      {
        "duration": 5,
        "start_time": "2023-02-02T12:02:32.086Z"
      },
      {
        "duration": 2,
        "start_time": "2023-02-02T12:02:52.009Z"
      },
      {
        "duration": 858,
        "start_time": "2023-02-02T13:56:21.724Z"
      },
      {
        "duration": 2196,
        "start_time": "2023-02-02T13:56:22.584Z"
      },
      {
        "duration": 16,
        "start_time": "2023-02-02T13:56:24.782Z"
      },
      {
        "duration": 17,
        "start_time": "2023-02-02T13:56:24.800Z"
      },
      {
        "duration": 49,
        "start_time": "2023-02-02T13:56:24.820Z"
      },
      {
        "duration": 74,
        "start_time": "2023-02-02T13:56:24.872Z"
      },
      {
        "duration": 12,
        "start_time": "2023-02-02T13:56:24.948Z"
      },
      {
        "duration": 28,
        "start_time": "2023-02-02T13:56:24.962Z"
      },
      {
        "duration": 47,
        "start_time": "2023-02-02T13:56:24.992Z"
      },
      {
        "duration": 21,
        "start_time": "2023-02-02T13:56:25.041Z"
      },
      {
        "duration": 9,
        "start_time": "2023-02-02T13:56:25.064Z"
      },
      {
        "duration": 29,
        "start_time": "2023-02-02T13:56:25.074Z"
      },
      {
        "duration": 55,
        "start_time": "2023-02-02T13:56:25.104Z"
      },
      {
        "duration": 21,
        "start_time": "2023-02-02T13:56:25.162Z"
      },
      {
        "duration": 143,
        "start_time": "2023-02-02T13:56:25.185Z"
      },
      {
        "duration": 591,
        "start_time": "2023-02-02T13:56:25.330Z"
      },
      {
        "duration": 570,
        "start_time": "2023-02-02T13:56:25.923Z"
      },
      {
        "duration": 518,
        "start_time": "2023-02-02T13:56:26.495Z"
      },
      {
        "duration": 2,
        "start_time": "2023-02-02T13:56:27.015Z"
      },
      {
        "duration": 8,
        "start_time": "2023-02-02T13:56:27.019Z"
      },
      {
        "duration": 84,
        "start_time": "2023-02-02T13:56:27.028Z"
      },
      {
        "duration": 0,
        "start_time": "2023-02-02T13:56:27.115Z"
      },
      {
        "duration": 10,
        "start_time": "2023-02-02T13:58:34.728Z"
      },
      {
        "duration": 756,
        "start_time": "2023-02-02T14:00:38.358Z"
      },
      {
        "duration": 6,
        "start_time": "2023-02-02T14:00:47.351Z"
      },
      {
        "duration": 66,
        "start_time": "2023-02-02T14:00:52.988Z"
      },
      {
        "duration": 10,
        "start_time": "2023-02-02T14:01:08.621Z"
      },
      {
        "duration": 4,
        "start_time": "2023-02-02T14:07:09.170Z"
      },
      {
        "duration": 363,
        "start_time": "2023-02-02T14:07:11.774Z"
      },
      {
        "duration": 5,
        "start_time": "2023-02-02T14:07:14.541Z"
      },
      {
        "duration": 5,
        "start_time": "2023-02-02T14:14:23.563Z"
      },
      {
        "duration": 391,
        "start_time": "2023-02-02T14:14:26.255Z"
      },
      {
        "duration": 5,
        "start_time": "2023-02-02T14:14:28.493Z"
      },
      {
        "duration": 1430,
        "start_time": "2023-02-03T03:37:06.288Z"
      },
      {
        "duration": 1470,
        "start_time": "2023-02-03T03:37:07.720Z"
      },
      {
        "duration": 14,
        "start_time": "2023-02-03T03:37:09.191Z"
      },
      {
        "duration": 19,
        "start_time": "2023-02-03T03:37:09.207Z"
      },
      {
        "duration": 37,
        "start_time": "2023-02-03T03:37:09.228Z"
      },
      {
        "duration": 74,
        "start_time": "2023-02-03T03:37:09.266Z"
      },
      {
        "duration": 8,
        "start_time": "2023-02-03T03:37:09.341Z"
      },
      {
        "duration": 15,
        "start_time": "2023-02-03T03:37:09.350Z"
      },
      {
        "duration": 50,
        "start_time": "2023-02-03T03:37:09.366Z"
      },
      {
        "duration": 20,
        "start_time": "2023-02-03T03:37:09.417Z"
      },
      {
        "duration": 9,
        "start_time": "2023-02-03T03:37:09.438Z"
      },
      {
        "duration": 14,
        "start_time": "2023-02-03T03:37:09.448Z"
      },
      {
        "duration": 53,
        "start_time": "2023-02-03T03:37:09.464Z"
      },
      {
        "duration": 19,
        "start_time": "2023-02-03T03:37:09.519Z"
      },
      {
        "duration": 135,
        "start_time": "2023-02-03T03:37:09.539Z"
      },
      {
        "duration": 512,
        "start_time": "2023-02-03T03:37:09.675Z"
      },
      {
        "duration": 550,
        "start_time": "2023-02-03T03:37:10.189Z"
      },
      {
        "duration": 478,
        "start_time": "2023-02-03T03:37:10.741Z"
      },
      {
        "duration": 3,
        "start_time": "2023-02-03T03:37:11.221Z"
      },
      {
        "duration": 7,
        "start_time": "2023-02-03T03:37:11.226Z"
      },
      {
        "duration": 108,
        "start_time": "2023-02-03T03:37:11.234Z"
      },
      {
        "duration": 0,
        "start_time": "2023-02-03T03:37:11.344Z"
      },
      {
        "duration": 28,
        "start_time": "2023-02-03T03:38:14.165Z"
      },
      {
        "duration": 10,
        "start_time": "2023-02-03T03:38:27.072Z"
      },
      {
        "duration": 1473,
        "start_time": "2023-02-03T05:51:58.686Z"
      },
      {
        "duration": 1466,
        "start_time": "2023-02-03T05:52:00.162Z"
      },
      {
        "duration": 17,
        "start_time": "2023-02-03T05:52:01.630Z"
      },
      {
        "duration": 21,
        "start_time": "2023-02-03T05:52:01.649Z"
      },
      {
        "duration": 42,
        "start_time": "2023-02-03T05:52:01.672Z"
      },
      {
        "duration": 59,
        "start_time": "2023-02-03T05:52:01.716Z"
      },
      {
        "duration": 22,
        "start_time": "2023-02-03T05:52:01.777Z"
      },
      {
        "duration": 22,
        "start_time": "2023-02-03T05:52:01.800Z"
      },
      {
        "duration": 35,
        "start_time": "2023-02-03T05:52:01.823Z"
      },
      {
        "duration": 36,
        "start_time": "2023-02-03T05:52:01.860Z"
      },
      {
        "duration": 9,
        "start_time": "2023-02-03T05:52:01.898Z"
      },
      {
        "duration": 20,
        "start_time": "2023-02-03T05:52:01.909Z"
      },
      {
        "duration": 36,
        "start_time": "2023-02-03T05:52:01.930Z"
      },
      {
        "duration": 39,
        "start_time": "2023-02-03T05:52:01.968Z"
      },
      {
        "duration": 137,
        "start_time": "2023-02-03T05:52:02.009Z"
      },
      {
        "duration": 513,
        "start_time": "2023-02-03T05:52:02.148Z"
      },
      {
        "duration": 569,
        "start_time": "2023-02-03T05:52:02.662Z"
      },
      {
        "duration": 494,
        "start_time": "2023-02-03T05:52:03.233Z"
      },
      {
        "duration": 3,
        "start_time": "2023-02-03T05:52:03.728Z"
      },
      {
        "duration": 7,
        "start_time": "2023-02-03T05:52:03.733Z"
      },
      {
        "duration": 351,
        "start_time": "2023-02-03T05:52:03.742Z"
      },
      {
        "duration": 4,
        "start_time": "2023-02-03T05:52:04.095Z"
      },
      {
        "duration": 1304,
        "start_time": "2023-02-03T06:55:34.156Z"
      },
      {
        "duration": 335,
        "start_time": "2023-02-03T06:55:35.462Z"
      },
      {
        "duration": 13,
        "start_time": "2023-02-03T06:55:35.799Z"
      },
      {
        "duration": 15,
        "start_time": "2023-02-03T06:55:35.814Z"
      },
      {
        "duration": 34,
        "start_time": "2023-02-03T06:55:35.831Z"
      },
      {
        "duration": 96,
        "start_time": "2023-02-03T06:55:35.867Z"
      },
      {
        "duration": 11,
        "start_time": "2023-02-03T06:55:35.965Z"
      },
      {
        "duration": 18,
        "start_time": "2023-02-03T06:55:35.991Z"
      },
      {
        "duration": 43,
        "start_time": "2023-02-03T06:55:36.012Z"
      },
      {
        "duration": 48,
        "start_time": "2023-02-03T06:55:36.058Z"
      },
      {
        "duration": 14,
        "start_time": "2023-02-03T06:55:36.108Z"
      },
      {
        "duration": 19,
        "start_time": "2023-02-03T06:55:36.124Z"
      },
      {
        "duration": 57,
        "start_time": "2023-02-03T06:55:36.145Z"
      },
      {
        "duration": 19,
        "start_time": "2023-02-03T06:55:36.204Z"
      },
      {
        "duration": 136,
        "start_time": "2023-02-03T06:55:36.224Z"
      },
      {
        "duration": 556,
        "start_time": "2023-02-03T06:55:36.361Z"
      },
      {
        "duration": 588,
        "start_time": "2023-02-03T06:55:36.918Z"
      },
      {
        "duration": 489,
        "start_time": "2023-02-03T06:55:37.507Z"
      },
      {
        "duration": 3,
        "start_time": "2023-02-03T06:55:37.997Z"
      },
      {
        "duration": 7,
        "start_time": "2023-02-03T06:55:38.001Z"
      },
      {
        "duration": 123,
        "start_time": "2023-02-03T06:55:38.010Z"
      },
      {
        "duration": 0,
        "start_time": "2023-02-03T06:55:38.135Z"
      },
      {
        "duration": 1325,
        "start_time": "2023-02-03T07:05:12.326Z"
      },
      {
        "duration": 392,
        "start_time": "2023-02-03T07:05:13.653Z"
      },
      {
        "duration": 15,
        "start_time": "2023-02-03T07:05:14.047Z"
      },
      {
        "duration": 33,
        "start_time": "2023-02-03T07:05:14.064Z"
      },
      {
        "duration": 39,
        "start_time": "2023-02-03T07:05:14.098Z"
      },
      {
        "duration": 71,
        "start_time": "2023-02-03T07:05:14.139Z"
      },
      {
        "duration": 10,
        "start_time": "2023-02-03T07:05:14.212Z"
      },
      {
        "duration": 16,
        "start_time": "2023-02-03T07:05:14.224Z"
      },
      {
        "duration": 56,
        "start_time": "2023-02-03T07:05:14.242Z"
      },
      {
        "duration": 20,
        "start_time": "2023-02-03T07:05:14.300Z"
      },
      {
        "duration": 9,
        "start_time": "2023-02-03T07:05:14.321Z"
      },
      {
        "duration": 15,
        "start_time": "2023-02-03T07:05:14.332Z"
      },
      {
        "duration": 57,
        "start_time": "2023-02-03T07:05:14.349Z"
      },
      {
        "duration": 20,
        "start_time": "2023-02-03T07:05:14.408Z"
      },
      {
        "duration": 145,
        "start_time": "2023-02-03T07:05:14.430Z"
      },
      {
        "duration": 602,
        "start_time": "2023-02-03T07:05:14.577Z"
      },
      {
        "duration": 603,
        "start_time": "2023-02-03T07:05:15.181Z"
      },
      {
        "duration": 555,
        "start_time": "2023-02-03T07:05:15.791Z"
      },
      {
        "duration": 3,
        "start_time": "2023-02-03T07:05:16.348Z"
      },
      {
        "duration": 7,
        "start_time": "2023-02-03T07:05:16.353Z"
      },
      {
        "duration": 336,
        "start_time": "2023-02-03T07:05:16.362Z"
      },
      {
        "duration": 6,
        "start_time": "2023-02-03T07:05:16.702Z"
      },
      {
        "duration": 124,
        "start_time": "2023-02-03T07:30:55.920Z"
      },
      {
        "duration": 1330,
        "start_time": "2023-02-03T07:31:22.052Z"
      },
      {
        "duration": 353,
        "start_time": "2023-02-03T07:31:23.384Z"
      },
      {
        "duration": 13,
        "start_time": "2023-02-03T07:31:23.739Z"
      },
      {
        "duration": 25,
        "start_time": "2023-02-03T07:31:23.754Z"
      },
      {
        "duration": 41,
        "start_time": "2023-02-03T07:31:23.781Z"
      },
      {
        "duration": 55,
        "start_time": "2023-02-03T07:31:23.824Z"
      },
      {
        "duration": 9,
        "start_time": "2023-02-03T07:31:23.892Z"
      },
      {
        "duration": 17,
        "start_time": "2023-02-03T07:31:23.903Z"
      },
      {
        "duration": 40,
        "start_time": "2023-02-03T07:31:23.921Z"
      },
      {
        "duration": 35,
        "start_time": "2023-02-03T07:31:23.964Z"
      },
      {
        "duration": 9,
        "start_time": "2023-02-03T07:31:24.001Z"
      },
      {
        "duration": 19,
        "start_time": "2023-02-03T07:31:24.011Z"
      },
      {
        "duration": 33,
        "start_time": "2023-02-03T07:31:24.032Z"
      },
      {
        "duration": 38,
        "start_time": "2023-02-03T07:31:24.066Z"
      },
      {
        "duration": 140,
        "start_time": "2023-02-03T07:31:24.106Z"
      },
      {
        "duration": 529,
        "start_time": "2023-02-03T07:31:24.248Z"
      },
      {
        "duration": 609,
        "start_time": "2023-02-03T07:31:24.778Z"
      },
      {
        "duration": 490,
        "start_time": "2023-02-03T07:31:25.391Z"
      },
      {
        "duration": 3,
        "start_time": "2023-02-03T07:31:25.882Z"
      },
      {
        "duration": 5,
        "start_time": "2023-02-03T07:31:25.891Z"
      },
      {
        "duration": 303,
        "start_time": "2023-02-03T07:31:25.898Z"
      },
      {
        "duration": 7,
        "start_time": "2023-02-03T07:31:26.203Z"
      },
      {
        "duration": 208,
        "start_time": "2023-02-03T07:31:26.291Z"
      },
      {
        "duration": 10,
        "start_time": "2023-02-03T07:32:07.714Z"
      },
      {
        "duration": 10,
        "start_time": "2023-02-03T07:32:13.664Z"
      },
      {
        "duration": 9,
        "start_time": "2023-02-03T07:32:32.035Z"
      },
      {
        "duration": 5,
        "start_time": "2023-02-03T08:28:27.510Z"
      },
      {
        "duration": 33,
        "start_time": "2023-02-03T08:28:32.372Z"
      },
      {
        "duration": 10,
        "start_time": "2023-02-03T09:23:11.223Z"
      },
      {
        "duration": 3,
        "start_time": "2023-02-03T09:23:15.004Z"
      },
      {
        "duration": 4,
        "start_time": "2023-02-03T09:23:19.045Z"
      },
      {
        "duration": 3,
        "start_time": "2023-02-03T09:25:12.187Z"
      },
      {
        "duration": 4,
        "start_time": "2023-02-03T09:26:15.022Z"
      },
      {
        "duration": 5,
        "start_time": "2023-02-03T09:28:20.396Z"
      },
      {
        "duration": 31,
        "start_time": "2023-02-03T09:28:31.168Z"
      },
      {
        "duration": 6,
        "start_time": "2023-02-03T09:28:46.085Z"
      },
      {
        "duration": 322,
        "start_time": "2023-02-03T09:28:48.983Z"
      },
      {
        "duration": 4,
        "start_time": "2023-02-03T09:29:02.868Z"
      },
      {
        "duration": 9,
        "start_time": "2023-02-03T09:30:14.551Z"
      },
      {
        "duration": 6,
        "start_time": "2023-02-03T09:30:19.945Z"
      },
      {
        "duration": 6,
        "start_time": "2023-02-03T09:30:42.009Z"
      },
      {
        "duration": 5,
        "start_time": "2023-02-03T09:31:07.082Z"
      },
      {
        "duration": 5,
        "start_time": "2023-02-03T09:32:04.437Z"
      },
      {
        "duration": 3,
        "start_time": "2023-02-03T09:32:17.386Z"
      },
      {
        "duration": 4,
        "start_time": "2023-02-03T09:33:11.581Z"
      },
      {
        "duration": 4,
        "start_time": "2023-02-03T09:33:18.458Z"
      },
      {
        "duration": 3,
        "start_time": "2023-02-03T09:33:52.764Z"
      },
      {
        "duration": 4,
        "start_time": "2023-02-03T09:33:54.684Z"
      },
      {
        "duration": 3,
        "start_time": "2023-02-03T09:34:31.344Z"
      },
      {
        "duration": 4,
        "start_time": "2023-02-03T09:34:52.244Z"
      },
      {
        "duration": 4,
        "start_time": "2023-02-03T09:35:05.298Z"
      },
      {
        "duration": 4,
        "start_time": "2023-02-03T09:39:10.879Z"
      },
      {
        "duration": 133,
        "start_time": "2023-02-03T09:39:51.332Z"
      },
      {
        "duration": 15,
        "start_time": "2023-02-03T09:41:04.533Z"
      },
      {
        "duration": 3,
        "start_time": "2023-02-03T10:47:57.483Z"
      },
      {
        "duration": 10,
        "start_time": "2023-02-03T11:01:26.366Z"
      },
      {
        "duration": 4,
        "start_time": "2023-02-03T11:02:57.168Z"
      },
      {
        "duration": 157,
        "start_time": "2023-02-03T11:03:05.139Z"
      },
      {
        "duration": 144,
        "start_time": "2023-02-03T11:11:49.872Z"
      },
      {
        "duration": 162,
        "start_time": "2023-02-03T11:12:50.388Z"
      },
      {
        "duration": 161,
        "start_time": "2023-02-03T11:12:58.122Z"
      },
      {
        "duration": 157,
        "start_time": "2023-02-03T11:13:08.040Z"
      },
      {
        "duration": 12,
        "start_time": "2023-02-03T11:15:23.902Z"
      },
      {
        "duration": 10,
        "start_time": "2023-02-03T11:15:46.857Z"
      },
      {
        "duration": 4,
        "start_time": "2023-02-03T11:18:34.343Z"
      },
      {
        "duration": 162,
        "start_time": "2023-02-03T11:18:46.325Z"
      },
      {
        "duration": 4,
        "start_time": "2023-02-03T11:19:32.382Z"
      },
      {
        "duration": 150,
        "start_time": "2023-02-03T11:19:37.419Z"
      },
      {
        "duration": 403,
        "start_time": "2023-02-03T11:19:57.399Z"
      },
      {
        "duration": 344,
        "start_time": "2023-02-03T11:20:13.368Z"
      },
      {
        "duration": 48,
        "start_time": "2023-02-03T11:25:39.862Z"
      },
      {
        "duration": 10,
        "start_time": "2023-02-03T11:26:59.722Z"
      },
      {
        "duration": 5,
        "start_time": "2023-02-03T11:27:12.494Z"
      },
      {
        "duration": 11,
        "start_time": "2023-02-03T11:27:30.351Z"
      },
      {
        "duration": 163,
        "start_time": "2023-02-03T11:27:38.213Z"
      },
      {
        "duration": 167,
        "start_time": "2023-02-03T11:28:35.221Z"
      },
      {
        "duration": 128,
        "start_time": "2023-02-03T11:29:23.818Z"
      },
      {
        "duration": 128,
        "start_time": "2023-02-03T11:29:44.333Z"
      },
      {
        "duration": 111,
        "start_time": "2023-02-03T11:29:51.411Z"
      },
      {
        "duration": 148,
        "start_time": "2023-02-03T11:31:54.825Z"
      },
      {
        "duration": 65,
        "start_time": "2023-02-03T11:32:46.898Z"
      },
      {
        "duration": 136,
        "start_time": "2023-02-03T11:32:57.656Z"
      },
      {
        "duration": 138,
        "start_time": "2023-02-03T11:34:46.732Z"
      },
      {
        "duration": 126,
        "start_time": "2023-02-03T11:35:37.810Z"
      },
      {
        "duration": 155,
        "start_time": "2023-02-03T11:39:32.914Z"
      },
      {
        "duration": 260,
        "start_time": "2023-02-03T11:40:23.326Z"
      },
      {
        "duration": 186,
        "start_time": "2023-02-03T11:48:25.286Z"
      },
      {
        "duration": 193,
        "start_time": "2023-02-03T11:49:01.141Z"
      },
      {
        "duration": 182,
        "start_time": "2023-02-03T11:49:16.161Z"
      },
      {
        "duration": 66,
        "start_time": "2023-02-03T11:49:22.652Z"
      },
      {
        "duration": 181,
        "start_time": "2023-02-03T11:49:34.117Z"
      },
      {
        "duration": 1506,
        "start_time": "2023-02-03T13:42:28.619Z"
      },
      {
        "duration": 1790,
        "start_time": "2023-02-03T13:42:30.127Z"
      },
      {
        "duration": 13,
        "start_time": "2023-02-03T13:42:31.919Z"
      },
      {
        "duration": 26,
        "start_time": "2023-02-03T13:42:31.934Z"
      },
      {
        "duration": 36,
        "start_time": "2023-02-03T13:42:31.963Z"
      },
      {
        "duration": 61,
        "start_time": "2023-02-03T13:42:32.001Z"
      },
      {
        "duration": 8,
        "start_time": "2023-02-03T13:42:32.064Z"
      },
      {
        "duration": 19,
        "start_time": "2023-02-03T13:42:32.073Z"
      },
      {
        "duration": 33,
        "start_time": "2023-02-03T13:42:32.094Z"
      },
      {
        "duration": 33,
        "start_time": "2023-02-03T13:42:32.129Z"
      },
      {
        "duration": 8,
        "start_time": "2023-02-03T13:42:32.164Z"
      },
      {
        "duration": 23,
        "start_time": "2023-02-03T13:42:32.173Z"
      },
      {
        "duration": 34,
        "start_time": "2023-02-03T13:42:32.198Z"
      },
      {
        "duration": 17,
        "start_time": "2023-02-03T13:42:32.248Z"
      },
      {
        "duration": 131,
        "start_time": "2023-02-03T13:42:32.266Z"
      },
      {
        "duration": 526,
        "start_time": "2023-02-03T13:42:32.399Z"
      },
      {
        "duration": 570,
        "start_time": "2023-02-03T13:42:32.927Z"
      },
      {
        "duration": 498,
        "start_time": "2023-02-03T13:42:33.499Z"
      },
      {
        "duration": 3,
        "start_time": "2023-02-03T13:42:33.998Z"
      },
      {
        "duration": 14,
        "start_time": "2023-02-03T13:42:34.003Z"
      },
      {
        "duration": 434,
        "start_time": "2023-02-03T13:42:34.018Z"
      },
      {
        "duration": 95,
        "start_time": "2023-02-03T13:42:34.454Z"
      },
      {
        "duration": 105,
        "start_time": "2023-02-03T13:42:34.552Z"
      },
      {
        "duration": 23,
        "start_time": "2023-02-03T13:42:34.659Z"
      },
      {
        "duration": 6,
        "start_time": "2023-02-03T13:42:34.684Z"
      },
      {
        "duration": 182,
        "start_time": "2023-02-03T13:42:34.692Z"
      },
      {
        "duration": 3,
        "start_time": "2023-02-03T14:11:24.251Z"
      },
      {
        "duration": 4,
        "start_time": "2023-02-03T14:12:08.985Z"
      },
      {
        "duration": 3,
        "start_time": "2023-02-03T14:12:10.808Z"
      },
      {
        "duration": 76,
        "start_time": "2023-02-04T04:00:46.020Z"
      },
      {
        "duration": 1484,
        "start_time": "2023-02-04T04:01:35.346Z"
      },
      {
        "duration": 843,
        "start_time": "2023-02-04T04:01:36.832Z"
      },
      {
        "duration": 13,
        "start_time": "2023-02-04T04:01:37.676Z"
      },
      {
        "duration": 15,
        "start_time": "2023-02-04T04:01:37.691Z"
      },
      {
        "duration": 36,
        "start_time": "2023-02-04T04:01:37.708Z"
      },
      {
        "duration": 69,
        "start_time": "2023-02-04T04:01:37.745Z"
      },
      {
        "duration": 8,
        "start_time": "2023-02-04T04:01:37.815Z"
      },
      {
        "duration": 14,
        "start_time": "2023-02-04T04:01:37.825Z"
      },
      {
        "duration": 34,
        "start_time": "2023-02-04T04:01:37.840Z"
      },
      {
        "duration": 41,
        "start_time": "2023-02-04T04:01:37.877Z"
      },
      {
        "duration": 8,
        "start_time": "2023-02-04T04:01:37.920Z"
      },
      {
        "duration": 14,
        "start_time": "2023-02-04T04:01:37.929Z"
      },
      {
        "duration": 32,
        "start_time": "2023-02-04T04:01:37.944Z"
      },
      {
        "duration": 42,
        "start_time": "2023-02-04T04:01:37.977Z"
      },
      {
        "duration": 126,
        "start_time": "2023-02-04T04:01:38.021Z"
      },
      {
        "duration": 495,
        "start_time": "2023-02-04T04:01:38.148Z"
      },
      {
        "duration": 531,
        "start_time": "2023-02-04T04:01:38.645Z"
      },
      {
        "duration": 466,
        "start_time": "2023-02-04T04:01:39.178Z"
      },
      {
        "duration": 3,
        "start_time": "2023-02-04T04:01:39.645Z"
      },
      {
        "duration": 7,
        "start_time": "2023-02-04T04:01:39.649Z"
      },
      {
        "duration": 354,
        "start_time": "2023-02-04T04:01:39.657Z"
      },
      {
        "duration": 6,
        "start_time": "2023-02-04T04:01:40.013Z"
      },
      {
        "duration": 2,
        "start_time": "2023-02-04T04:01:40.111Z"
      },
      {
        "duration": 9,
        "start_time": "2023-02-04T04:01:40.115Z"
      },
      {
        "duration": 4,
        "start_time": "2023-02-04T04:01:40.125Z"
      },
      {
        "duration": 192,
        "start_time": "2023-02-04T04:01:40.131Z"
      },
      {
        "duration": 3,
        "start_time": "2023-02-04T04:01:40.325Z"
      },
      {
        "duration": 5,
        "start_time": "2023-02-04T04:01:40.331Z"
      },
      {
        "duration": 4,
        "start_time": "2023-02-04T04:01:40.337Z"
      },
      {
        "duration": 74,
        "start_time": "2023-02-04T04:01:40.343Z"
      },
      {
        "duration": 246,
        "start_time": "2023-02-04T04:17:48.162Z"
      },
      {
        "duration": 131,
        "start_time": "2023-02-04T04:21:17.686Z"
      },
      {
        "duration": 28,
        "start_time": "2023-02-04T04:21:43.093Z"
      },
      {
        "duration": 1251,
        "start_time": "2023-02-04T04:28:00.640Z"
      },
      {
        "duration": 356,
        "start_time": "2023-02-04T04:28:01.892Z"
      },
      {
        "duration": 13,
        "start_time": "2023-02-04T04:28:02.250Z"
      },
      {
        "duration": 15,
        "start_time": "2023-02-04T04:28:02.265Z"
      },
      {
        "duration": 52,
        "start_time": "2023-02-04T04:28:02.282Z"
      },
      {
        "duration": 58,
        "start_time": "2023-02-04T04:28:02.335Z"
      },
      {
        "duration": 20,
        "start_time": "2023-02-04T04:28:02.395Z"
      },
      {
        "duration": 19,
        "start_time": "2023-02-04T04:28:02.416Z"
      },
      {
        "duration": 34,
        "start_time": "2023-02-04T04:28:02.436Z"
      },
      {
        "duration": 19,
        "start_time": "2023-02-04T04:28:02.472Z"
      },
      {
        "duration": 9,
        "start_time": "2023-02-04T04:28:02.510Z"
      },
      {
        "duration": 16,
        "start_time": "2023-02-04T04:28:02.520Z"
      },
      {
        "duration": 32,
        "start_time": "2023-02-04T04:28:02.537Z"
      },
      {
        "duration": 40,
        "start_time": "2023-02-04T04:28:02.572Z"
      },
      {
        "duration": 118,
        "start_time": "2023-02-04T04:28:02.614Z"
      },
      {
        "duration": 503,
        "start_time": "2023-02-04T04:28:02.733Z"
      },
      {
        "duration": 533,
        "start_time": "2023-02-04T04:28:03.237Z"
      },
      {
        "duration": 470,
        "start_time": "2023-02-04T04:28:03.772Z"
      },
      {
        "duration": 2,
        "start_time": "2023-02-04T04:28:04.244Z"
      },
      {
        "duration": 6,
        "start_time": "2023-02-04T04:28:04.247Z"
      },
      {
        "duration": 356,
        "start_time": "2023-02-04T04:28:04.254Z"
      },
      {
        "duration": 6,
        "start_time": "2023-02-04T04:28:04.612Z"
      },
      {
        "duration": 7,
        "start_time": "2023-02-04T04:28:04.710Z"
      },
      {
        "duration": 7,
        "start_time": "2023-02-04T04:28:04.718Z"
      },
      {
        "duration": 7,
        "start_time": "2023-02-04T04:28:04.727Z"
      },
      {
        "duration": 195,
        "start_time": "2023-02-04T04:28:04.736Z"
      },
      {
        "duration": 2,
        "start_time": "2023-02-04T04:28:04.933Z"
      },
      {
        "duration": 5,
        "start_time": "2023-02-04T04:28:04.937Z"
      },
      {
        "duration": 4,
        "start_time": "2023-02-04T04:28:04.943Z"
      },
      {
        "duration": 134,
        "start_time": "2023-02-04T04:28:04.948Z"
      },
      {
        "duration": 0,
        "start_time": "2023-02-04T04:28:05.084Z"
      },
      {
        "duration": 0,
        "start_time": "2023-02-04T04:28:05.085Z"
      },
      {
        "duration": 33,
        "start_time": "2023-02-04T04:28:31.162Z"
      },
      {
        "duration": 104,
        "start_time": "2023-02-04T04:36:11.401Z"
      },
      {
        "duration": 1627,
        "start_time": "2023-02-04T10:40:55.639Z"
      },
      {
        "duration": 1539,
        "start_time": "2023-02-04T10:40:57.269Z"
      },
      {
        "duration": 14,
        "start_time": "2023-02-04T10:40:58.810Z"
      },
      {
        "duration": 18,
        "start_time": "2023-02-04T10:40:58.826Z"
      },
      {
        "duration": 42,
        "start_time": "2023-02-04T10:40:58.846Z"
      },
      {
        "duration": 81,
        "start_time": "2023-02-04T10:40:58.890Z"
      },
      {
        "duration": 11,
        "start_time": "2023-02-04T10:40:58.972Z"
      },
      {
        "duration": 17,
        "start_time": "2023-02-04T10:40:58.985Z"
      },
      {
        "duration": 39,
        "start_time": "2023-02-04T10:40:59.020Z"
      },
      {
        "duration": 22,
        "start_time": "2023-02-04T10:40:59.060Z"
      },
      {
        "duration": 9,
        "start_time": "2023-02-04T10:40:59.084Z"
      },
      {
        "duration": 34,
        "start_time": "2023-02-04T10:40:59.094Z"
      },
      {
        "duration": 38,
        "start_time": "2023-02-04T10:40:59.130Z"
      },
      {
        "duration": 50,
        "start_time": "2023-02-04T10:40:59.172Z"
      },
      {
        "duration": 149,
        "start_time": "2023-02-04T10:40:59.224Z"
      },
      {
        "duration": 577,
        "start_time": "2023-02-04T10:40:59.376Z"
      },
      {
        "duration": 641,
        "start_time": "2023-02-04T10:40:59.955Z"
      },
      {
        "duration": 533,
        "start_time": "2023-02-04T10:41:00.598Z"
      },
      {
        "duration": 3,
        "start_time": "2023-02-04T10:41:01.133Z"
      },
      {
        "duration": 14,
        "start_time": "2023-02-04T10:41:01.138Z"
      },
      {
        "duration": 380,
        "start_time": "2023-02-04T10:41:01.154Z"
      },
      {
        "duration": 87,
        "start_time": "2023-02-04T10:41:01.538Z"
      },
      {
        "duration": 99,
        "start_time": "2023-02-04T10:41:01.628Z"
      },
      {
        "duration": 25,
        "start_time": "2023-02-04T10:41:01.729Z"
      },
      {
        "duration": 20,
        "start_time": "2023-02-04T10:41:01.756Z"
      },
      {
        "duration": 211,
        "start_time": "2023-02-04T10:41:01.778Z"
      },
      {
        "duration": 3,
        "start_time": "2023-02-04T10:41:01.991Z"
      },
      {
        "duration": 9,
        "start_time": "2023-02-04T10:41:01.996Z"
      },
      {
        "duration": 14,
        "start_time": "2023-02-04T10:41:02.007Z"
      },
      {
        "duration": 3,
        "start_time": "2023-02-04T10:41:02.023Z"
      },
      {
        "duration": 7,
        "start_time": "2023-02-04T10:41:02.028Z"
      },
      {
        "duration": 8,
        "start_time": "2023-02-04T10:41:02.036Z"
      },
      {
        "duration": 8,
        "start_time": "2023-02-04T10:41:02.046Z"
      },
      {
        "duration": 131,
        "start_time": "2023-02-04T10:41:02.055Z"
      },
      {
        "duration": 0,
        "start_time": "2023-02-04T10:41:02.188Z"
      },
      {
        "duration": 11,
        "start_time": "2023-02-04T12:29:50.580Z"
      },
      {
        "duration": 5,
        "start_time": "2023-02-04T12:30:29.667Z"
      },
      {
        "duration": 15,
        "start_time": "2023-02-04T12:30:41.306Z"
      },
      {
        "duration": 7,
        "start_time": "2023-02-04T12:31:04.688Z"
      },
      {
        "duration": 4910,
        "start_time": "2023-02-04T12:31:07.194Z"
      },
      {
        "duration": 4,
        "start_time": "2023-02-04T12:31:14.141Z"
      },
      {
        "duration": 5,
        "start_time": "2023-02-04T12:33:23.511Z"
      },
      {
        "duration": 1477,
        "start_time": "2023-02-04T12:39:07.197Z"
      },
      {
        "duration": 389,
        "start_time": "2023-02-04T12:39:08.676Z"
      },
      {
        "duration": 14,
        "start_time": "2023-02-04T12:39:09.067Z"
      },
      {
        "duration": 18,
        "start_time": "2023-02-04T12:39:09.083Z"
      },
      {
        "duration": 38,
        "start_time": "2023-02-04T12:39:09.120Z"
      },
      {
        "duration": 66,
        "start_time": "2023-02-04T12:39:09.160Z"
      },
      {
        "duration": 10,
        "start_time": "2023-02-04T12:39:09.229Z"
      },
      {
        "duration": 20,
        "start_time": "2023-02-04T12:39:09.241Z"
      },
      {
        "duration": 61,
        "start_time": "2023-02-04T12:39:09.264Z"
      },
      {
        "duration": 21,
        "start_time": "2023-02-04T12:39:09.327Z"
      },
      {
        "duration": 10,
        "start_time": "2023-02-04T12:39:09.350Z"
      },
      {
        "duration": 21,
        "start_time": "2023-02-04T12:39:09.362Z"
      },
      {
        "duration": 58,
        "start_time": "2023-02-04T12:39:09.385Z"
      },
      {
        "duration": 20,
        "start_time": "2023-02-04T12:39:09.446Z"
      },
      {
        "duration": 169,
        "start_time": "2023-02-04T12:39:09.468Z"
      },
      {
        "duration": 674,
        "start_time": "2023-02-04T12:39:09.638Z"
      },
      {
        "duration": 635,
        "start_time": "2023-02-04T12:39:10.315Z"
      },
      {
        "duration": 546,
        "start_time": "2023-02-04T12:39:10.952Z"
      },
      {
        "duration": 3,
        "start_time": "2023-02-04T12:39:11.500Z"
      },
      {
        "duration": 16,
        "start_time": "2023-02-04T12:39:11.505Z"
      },
      {
        "duration": 400,
        "start_time": "2023-02-04T12:39:11.523Z"
      },
      {
        "duration": 8,
        "start_time": "2023-02-04T12:39:11.926Z"
      },
      {
        "duration": 184,
        "start_time": "2023-02-04T12:39:11.938Z"
      },
      {
        "duration": 13,
        "start_time": "2023-02-04T12:39:12.124Z"
      },
      {
        "duration": 6,
        "start_time": "2023-02-04T12:39:12.140Z"
      },
      {
        "duration": 226,
        "start_time": "2023-02-04T12:39:12.148Z"
      },
      {
        "duration": 3,
        "start_time": "2023-02-04T12:39:12.376Z"
      },
      {
        "duration": 6,
        "start_time": "2023-02-04T12:39:12.380Z"
      },
      {
        "duration": 5,
        "start_time": "2023-02-04T12:39:12.388Z"
      },
      {
        "duration": 5,
        "start_time": "2023-02-04T12:39:12.395Z"
      },
      {
        "duration": 20,
        "start_time": "2023-02-04T12:39:12.401Z"
      },
      {
        "duration": 4,
        "start_time": "2023-02-04T12:39:12.423Z"
      },
      {
        "duration": 12,
        "start_time": "2023-02-04T12:39:12.429Z"
      },
      {
        "duration": 4980,
        "start_time": "2023-02-04T12:39:12.443Z"
      },
      {
        "duration": 5,
        "start_time": "2023-02-04T12:39:17.424Z"
      },
      {
        "duration": 8,
        "start_time": "2023-02-04T12:39:17.431Z"
      },
      {
        "duration": 1305,
        "start_time": "2023-02-04T13:17:57.507Z"
      },
      {
        "duration": 371,
        "start_time": "2023-02-04T13:17:58.813Z"
      },
      {
        "duration": 13,
        "start_time": "2023-02-04T13:17:59.185Z"
      },
      {
        "duration": 22,
        "start_time": "2023-02-04T13:17:59.200Z"
      },
      {
        "duration": 35,
        "start_time": "2023-02-04T13:17:59.224Z"
      },
      {
        "duration": 70,
        "start_time": "2023-02-04T13:17:59.261Z"
      },
      {
        "duration": 9,
        "start_time": "2023-02-04T13:17:59.333Z"
      },
      {
        "duration": 15,
        "start_time": "2023-02-04T13:17:59.343Z"
      },
      {
        "duration": 33,
        "start_time": "2023-02-04T13:17:59.360Z"
      },
      {
        "duration": 43,
        "start_time": "2023-02-04T13:17:59.395Z"
      },
      {
        "duration": 9,
        "start_time": "2023-02-04T13:17:59.439Z"
      },
      {
        "duration": 15,
        "start_time": "2023-02-04T13:17:59.449Z"
      },
      {
        "duration": 33,
        "start_time": "2023-02-04T13:17:59.465Z"
      },
      {
        "duration": 19,
        "start_time": "2023-02-04T13:17:59.520Z"
      },
      {
        "duration": 146,
        "start_time": "2023-02-04T13:17:59.540Z"
      },
      {
        "duration": 554,
        "start_time": "2023-02-04T13:17:59.688Z"
      },
      {
        "duration": 569,
        "start_time": "2023-02-04T13:18:00.244Z"
      },
      {
        "duration": 530,
        "start_time": "2023-02-04T13:18:00.815Z"
      },
      {
        "duration": 3,
        "start_time": "2023-02-04T13:18:01.347Z"
      },
      {
        "duration": 51,
        "start_time": "2023-02-04T13:18:01.352Z"
      },
      {
        "duration": 423,
        "start_time": "2023-02-04T13:18:01.405Z"
      },
      {
        "duration": 93,
        "start_time": "2023-02-04T13:18:01.835Z"
      },
      {
        "duration": 96,
        "start_time": "2023-02-04T13:18:01.932Z"
      },
      {
        "duration": 9,
        "start_time": "2023-02-04T13:18:02.030Z"
      },
      {
        "duration": 6,
        "start_time": "2023-02-04T13:18:02.040Z"
      },
      {
        "duration": 195,
        "start_time": "2023-02-04T13:18:02.048Z"
      },
      {
        "duration": 3,
        "start_time": "2023-02-04T13:18:02.244Z"
      },
      {
        "duration": 25,
        "start_time": "2023-02-04T13:18:02.249Z"
      },
      {
        "duration": 7,
        "start_time": "2023-02-04T13:18:02.276Z"
      },
      {
        "duration": 6,
        "start_time": "2023-02-04T13:18:02.285Z"
      },
      {
        "duration": 5,
        "start_time": "2023-02-04T13:18:02.292Z"
      },
      {
        "duration": 10,
        "start_time": "2023-02-04T13:18:02.299Z"
      },
      {
        "duration": 7,
        "start_time": "2023-02-04T13:18:02.311Z"
      },
      {
        "duration": 4733,
        "start_time": "2023-02-04T13:18:02.320Z"
      },
      {
        "duration": 5,
        "start_time": "2023-02-04T13:18:07.055Z"
      },
      {
        "duration": 10,
        "start_time": "2023-02-04T13:18:07.062Z"
      },
      {
        "duration": 4,
        "start_time": "2023-02-04T13:35:00.261Z"
      },
      {
        "duration": 5,
        "start_time": "2023-02-04T13:35:04.732Z"
      },
      {
        "duration": 4880,
        "start_time": "2023-02-04T13:35:09.105Z"
      },
      {
        "duration": 4,
        "start_time": "2023-02-04T13:35:23.499Z"
      },
      {
        "duration": 4,
        "start_time": "2023-02-04T13:35:36.064Z"
      },
      {
        "duration": 1343,
        "start_time": "2023-02-04T13:45:40.082Z"
      },
      {
        "duration": 389,
        "start_time": "2023-02-04T13:45:41.426Z"
      },
      {
        "duration": 13,
        "start_time": "2023-02-04T13:45:41.817Z"
      },
      {
        "duration": 18,
        "start_time": "2023-02-04T13:45:41.832Z"
      },
      {
        "duration": 42,
        "start_time": "2023-02-04T13:45:41.852Z"
      },
      {
        "duration": 88,
        "start_time": "2023-02-04T13:45:41.896Z"
      },
      {
        "duration": 9,
        "start_time": "2023-02-04T13:45:41.986Z"
      },
      {
        "duration": 30,
        "start_time": "2023-02-04T13:45:41.997Z"
      },
      {
        "duration": 40,
        "start_time": "2023-02-04T13:45:42.029Z"
      },
      {
        "duration": 21,
        "start_time": "2023-02-04T13:45:42.071Z"
      },
      {
        "duration": 31,
        "start_time": "2023-02-04T13:45:42.094Z"
      },
      {
        "duration": 22,
        "start_time": "2023-02-04T13:45:42.127Z"
      },
      {
        "duration": 37,
        "start_time": "2023-02-04T13:45:42.151Z"
      },
      {
        "duration": 42,
        "start_time": "2023-02-04T13:45:42.189Z"
      },
      {
        "duration": 157,
        "start_time": "2023-02-04T13:45:42.232Z"
      },
      {
        "duration": 530,
        "start_time": "2023-02-04T13:45:42.391Z"
      },
      {
        "duration": 598,
        "start_time": "2023-02-04T13:45:42.923Z"
      },
      {
        "duration": 536,
        "start_time": "2023-02-04T13:45:43.523Z"
      },
      {
        "duration": 2,
        "start_time": "2023-02-04T13:45:44.061Z"
      },
      {
        "duration": 6,
        "start_time": "2023-02-04T13:45:44.065Z"
      },
      {
        "duration": 364,
        "start_time": "2023-02-04T13:45:44.072Z"
      },
      {
        "duration": 85,
        "start_time": "2023-02-04T13:45:44.439Z"
      },
      {
        "duration": 95,
        "start_time": "2023-02-04T13:45:44.527Z"
      },
      {
        "duration": 26,
        "start_time": "2023-02-04T13:45:44.625Z"
      },
      {
        "duration": 12,
        "start_time": "2023-02-04T13:45:44.654Z"
      },
      {
        "duration": 237,
        "start_time": "2023-02-04T13:45:44.669Z"
      },
      {
        "duration": 3,
        "start_time": "2023-02-04T13:45:44.908Z"
      },
      {
        "duration": 8,
        "start_time": "2023-02-04T13:45:44.915Z"
      },
      {
        "duration": 4,
        "start_time": "2023-02-04T13:45:44.925Z"
      },
      {
        "duration": 7,
        "start_time": "2023-02-04T13:45:44.931Z"
      },
      {
        "duration": 7,
        "start_time": "2023-02-04T13:45:44.940Z"
      },
      {
        "duration": 151,
        "start_time": "2023-02-04T13:45:44.949Z"
      },
      {
        "duration": 0,
        "start_time": "2023-02-04T13:45:45.103Z"
      },
      {
        "duration": 0,
        "start_time": "2023-02-04T13:45:45.104Z"
      },
      {
        "duration": 1429,
        "start_time": "2023-02-04T13:51:29.687Z"
      },
      {
        "duration": 400,
        "start_time": "2023-02-04T13:51:31.118Z"
      },
      {
        "duration": 14,
        "start_time": "2023-02-04T13:51:31.520Z"
      },
      {
        "duration": 19,
        "start_time": "2023-02-04T13:51:31.536Z"
      },
      {
        "duration": 39,
        "start_time": "2023-02-04T13:51:31.557Z"
      },
      {
        "duration": 80,
        "start_time": "2023-02-04T13:51:31.597Z"
      },
      {
        "duration": 9,
        "start_time": "2023-02-04T13:51:31.679Z"
      },
      {
        "duration": 36,
        "start_time": "2023-02-04T13:51:31.690Z"
      },
      {
        "duration": 37,
        "start_time": "2023-02-04T13:51:31.728Z"
      },
      {
        "duration": 19,
        "start_time": "2023-02-04T13:51:31.768Z"
      },
      {
        "duration": 10,
        "start_time": "2023-02-04T13:51:31.788Z"
      },
      {
        "duration": 14,
        "start_time": "2023-02-04T13:51:31.821Z"
      },
      {
        "duration": 36,
        "start_time": "2023-02-04T13:51:31.837Z"
      },
      {
        "duration": 19,
        "start_time": "2023-02-04T13:51:31.875Z"
      },
      {
        "duration": 147,
        "start_time": "2023-02-04T13:51:31.921Z"
      },
      {
        "duration": 578,
        "start_time": "2023-02-04T13:51:32.069Z"
      },
      {
        "duration": 619,
        "start_time": "2023-02-04T13:51:32.649Z"
      },
      {
        "duration": 515,
        "start_time": "2023-02-04T13:51:33.270Z"
      },
      {
        "duration": 3,
        "start_time": "2023-02-04T13:51:33.787Z"
      },
      {
        "duration": 16,
        "start_time": "2023-02-04T13:51:33.791Z"
      },
      {
        "duration": 419,
        "start_time": "2023-02-04T13:51:33.809Z"
      },
      {
        "duration": 95,
        "start_time": "2023-02-04T13:51:34.233Z"
      },
      {
        "duration": 103,
        "start_time": "2023-02-04T13:51:34.331Z"
      },
      {
        "duration": 23,
        "start_time": "2023-02-04T13:51:34.437Z"
      },
      {
        "duration": 26,
        "start_time": "2023-02-04T13:51:34.462Z"
      },
      {
        "duration": 253,
        "start_time": "2023-02-04T13:51:34.490Z"
      },
      {
        "duration": 3,
        "start_time": "2023-02-04T13:51:34.745Z"
      },
      {
        "duration": 23,
        "start_time": "2023-02-04T13:51:34.751Z"
      },
      {
        "duration": 12,
        "start_time": "2023-02-04T13:51:34.776Z"
      },
      {
        "duration": 17,
        "start_time": "2023-02-04T13:51:34.790Z"
      },
      {
        "duration": 28,
        "start_time": "2023-02-04T13:51:34.809Z"
      },
      {
        "duration": 4871,
        "start_time": "2023-02-04T13:51:34.839Z"
      },
      {
        "duration": 3,
        "start_time": "2023-02-04T13:51:39.712Z"
      },
      {
        "duration": 6,
        "start_time": "2023-02-04T13:51:39.720Z"
      },
      {
        "duration": 1394,
        "start_time": "2023-02-04T14:02:13.596Z"
      },
      {
        "duration": 407,
        "start_time": "2023-02-04T14:02:14.992Z"
      },
      {
        "duration": 14,
        "start_time": "2023-02-04T14:02:15.400Z"
      },
      {
        "duration": 36,
        "start_time": "2023-02-04T14:02:15.415Z"
      },
      {
        "duration": 38,
        "start_time": "2023-02-04T14:02:15.454Z"
      },
      {
        "duration": 62,
        "start_time": "2023-02-04T14:02:15.494Z"
      },
      {
        "duration": 10,
        "start_time": "2023-02-04T14:02:15.558Z"
      },
      {
        "duration": 19,
        "start_time": "2023-02-04T14:02:15.571Z"
      },
      {
        "duration": 55,
        "start_time": "2023-02-04T14:02:15.591Z"
      },
      {
        "duration": 20,
        "start_time": "2023-02-04T14:02:15.647Z"
      },
      {
        "duration": 9,
        "start_time": "2023-02-04T14:02:15.668Z"
      },
      {
        "duration": 17,
        "start_time": "2023-02-04T14:02:15.678Z"
      },
      {
        "duration": 57,
        "start_time": "2023-02-04T14:02:15.696Z"
      },
      {
        "duration": 19,
        "start_time": "2023-02-04T14:02:15.756Z"
      },
      {
        "duration": 148,
        "start_time": "2023-02-04T14:02:15.777Z"
      },
      {
        "duration": 577,
        "start_time": "2023-02-04T14:02:15.927Z"
      },
      {
        "duration": 624,
        "start_time": "2023-02-04T14:02:16.506Z"
      },
      {
        "duration": 517,
        "start_time": "2023-02-04T14:02:17.131Z"
      },
      {
        "duration": 2,
        "start_time": "2023-02-04T14:02:17.650Z"
      },
      {
        "duration": 7,
        "start_time": "2023-02-04T14:02:17.654Z"
      },
      {
        "duration": 263,
        "start_time": "2023-02-04T14:02:17.663Z"
      },
      {
        "duration": 98,
        "start_time": "2023-02-04T14:02:17.929Z"
      },
      {
        "duration": 100,
        "start_time": "2023-02-04T14:02:18.030Z"
      },
      {
        "duration": 7,
        "start_time": "2023-02-04T14:02:18.132Z"
      },
      {
        "duration": 9,
        "start_time": "2023-02-04T14:02:18.140Z"
      },
      {
        "duration": 200,
        "start_time": "2023-02-04T14:02:18.150Z"
      },
      {
        "duration": 4,
        "start_time": "2023-02-04T14:02:18.351Z"
      },
      {
        "duration": 9,
        "start_time": "2023-02-04T14:02:18.356Z"
      },
      {
        "duration": 4,
        "start_time": "2023-02-04T14:02:18.367Z"
      },
      {
        "duration": 5,
        "start_time": "2023-02-04T14:02:18.372Z"
      },
      {
        "duration": 7,
        "start_time": "2023-02-04T14:02:18.379Z"
      },
      {
        "duration": 4817,
        "start_time": "2023-02-04T14:02:18.388Z"
      },
      {
        "duration": 4,
        "start_time": "2023-02-04T14:02:23.207Z"
      },
      {
        "duration": 11,
        "start_time": "2023-02-04T14:02:23.212Z"
      },
      {
        "duration": 4,
        "start_time": "2023-02-04T14:10:20.036Z"
      },
      {
        "duration": 4,
        "start_time": "2023-02-04T14:10:23.748Z"
      },
      {
        "duration": 3,
        "start_time": "2023-02-04T14:10:36.557Z"
      },
      {
        "duration": 5,
        "start_time": "2023-02-04T14:10:42.434Z"
      },
      {
        "duration": 3,
        "start_time": "2023-02-04T14:10:52.090Z"
      },
      {
        "duration": 6,
        "start_time": "2023-02-04T14:11:00.730Z"
      },
      {
        "duration": 4288,
        "start_time": "2023-02-04T14:11:18.561Z"
      },
      {
        "duration": 4,
        "start_time": "2023-02-04T14:11:25.655Z"
      },
      {
        "duration": 5,
        "start_time": "2023-02-04T14:11:30.483Z"
      },
      {
        "duration": 3,
        "start_time": "2023-02-04T14:35:47.895Z"
      },
      {
        "duration": 57,
        "start_time": "2023-02-04T14:35:50.126Z"
      },
      {
        "duration": 5,
        "start_time": "2023-02-04T14:36:06.527Z"
      },
      {
        "duration": 3,
        "start_time": "2023-02-04T14:36:42.854Z"
      },
      {
        "duration": 4,
        "start_time": "2023-02-04T14:36:44.260Z"
      },
      {
        "duration": 4,
        "start_time": "2023-02-04T14:36:46.802Z"
      },
      {
        "duration": 5,
        "start_time": "2023-02-04T14:37:14.241Z"
      },
      {
        "duration": 4,
        "start_time": "2023-02-04T14:37:15.759Z"
      },
      {
        "duration": 4,
        "start_time": "2023-02-04T14:37:17.436Z"
      },
      {
        "duration": 5,
        "start_time": "2023-02-04T14:42:05.637Z"
      },
      {
        "duration": 5,
        "start_time": "2023-02-04T14:42:16.137Z"
      },
      {
        "duration": 111,
        "start_time": "2023-02-04T14:42:19.037Z"
      },
      {
        "duration": 13,
        "start_time": "2023-02-04T14:43:36.343Z"
      },
      {
        "duration": 5,
        "start_time": "2023-02-04T14:47:22.393Z"
      },
      {
        "duration": 14,
        "start_time": "2023-02-04T14:47:25.500Z"
      },
      {
        "duration": 3,
        "start_time": "2023-02-04T14:47:42.948Z"
      },
      {
        "duration": 4,
        "start_time": "2023-02-04T14:47:53.341Z"
      },
      {
        "duration": 5,
        "start_time": "2023-02-04T14:47:57.735Z"
      },
      {
        "duration": 15,
        "start_time": "2023-02-04T14:48:01.346Z"
      },
      {
        "duration": 45,
        "start_time": "2023-02-04T14:49:32.066Z"
      },
      {
        "duration": 63,
        "start_time": "2023-02-04T14:49:51.586Z"
      },
      {
        "duration": 5,
        "start_time": "2023-02-04T14:50:24.081Z"
      },
      {
        "duration": 13,
        "start_time": "2023-02-04T14:50:26.238Z"
      },
      {
        "duration": 4,
        "start_time": "2023-02-04T14:50:47.275Z"
      },
      {
        "duration": 15,
        "start_time": "2023-02-04T14:50:49.174Z"
      },
      {
        "duration": 5,
        "start_time": "2023-02-04T14:51:22.640Z"
      },
      {
        "duration": 13823,
        "start_time": "2023-02-04T14:51:24.640Z"
      },
      {
        "duration": 4,
        "start_time": "2023-02-04T14:51:41.854Z"
      },
      {
        "duration": 4,
        "start_time": "2023-02-04T14:52:38.252Z"
      },
      {
        "duration": 5,
        "start_time": "2023-02-04T14:53:54.268Z"
      },
      {
        "duration": 8,
        "start_time": "2023-02-04T14:53:58.742Z"
      },
      {
        "duration": 14119,
        "start_time": "2023-02-04T14:54:00.292Z"
      },
      {
        "duration": 9,
        "start_time": "2023-02-04T14:54:14.414Z"
      },
      {
        "duration": 6,
        "start_time": "2023-02-04T14:54:19.031Z"
      },
      {
        "duration": 4,
        "start_time": "2023-02-04T15:04:27.291Z"
      },
      {
        "duration": 4,
        "start_time": "2023-02-04T15:04:29.247Z"
      },
      {
        "duration": 4,
        "start_time": "2023-02-04T15:05:16.236Z"
      },
      {
        "duration": 205,
        "start_time": "2023-02-04T15:05:26.615Z"
      },
      {
        "duration": 4,
        "start_time": "2023-02-04T15:05:31.132Z"
      },
      {
        "duration": 4,
        "start_time": "2023-02-04T15:05:33.722Z"
      },
      {
        "duration": 4,
        "start_time": "2023-02-04T15:05:35.660Z"
      },
      {
        "duration": 5,
        "start_time": "2023-02-04T15:05:37.821Z"
      },
      {
        "duration": 5,
        "start_time": "2023-02-04T15:05:47.717Z"
      },
      {
        "duration": 3,
        "start_time": "2023-02-05T11:43:35.511Z"
      },
      {
        "duration": 1334,
        "start_time": "2023-02-05T11:44:02.559Z"
      },
      {
        "duration": 413,
        "start_time": "2023-02-05T11:44:03.895Z"
      },
      {
        "duration": 14,
        "start_time": "2023-02-05T11:44:04.310Z"
      },
      {
        "duration": 20,
        "start_time": "2023-02-05T11:44:04.326Z"
      },
      {
        "duration": 66,
        "start_time": "2023-02-05T11:44:04.347Z"
      },
      {
        "duration": 68,
        "start_time": "2023-02-05T11:44:04.415Z"
      },
      {
        "duration": 14,
        "start_time": "2023-02-05T11:44:04.498Z"
      },
      {
        "duration": 27,
        "start_time": "2023-02-05T11:44:04.515Z"
      },
      {
        "duration": 74,
        "start_time": "2023-02-05T11:44:04.544Z"
      },
      {
        "duration": 31,
        "start_time": "2023-02-05T11:44:04.622Z"
      },
      {
        "duration": 14,
        "start_time": "2023-02-05T11:44:04.655Z"
      },
      {
        "duration": 40,
        "start_time": "2023-02-05T11:44:04.671Z"
      },
      {
        "duration": 38,
        "start_time": "2023-02-05T11:44:04.713Z"
      },
      {
        "duration": 22,
        "start_time": "2023-02-05T11:44:04.753Z"
      },
      {
        "duration": 193,
        "start_time": "2023-02-05T11:44:04.777Z"
      },
      {
        "duration": 537,
        "start_time": "2023-02-05T11:44:04.972Z"
      },
      {
        "duration": 605,
        "start_time": "2023-02-05T11:44:05.511Z"
      },
      {
        "duration": 553,
        "start_time": "2023-02-05T11:44:06.117Z"
      },
      {
        "duration": 2,
        "start_time": "2023-02-05T11:44:06.672Z"
      },
      {
        "duration": 8,
        "start_time": "2023-02-05T11:44:06.676Z"
      },
      {
        "duration": 413,
        "start_time": "2023-02-05T11:44:06.686Z"
      },
      {
        "duration": 14,
        "start_time": "2023-02-05T11:44:07.101Z"
      },
      {
        "duration": 21,
        "start_time": "2023-02-05T11:44:07.200Z"
      },
      {
        "duration": 13,
        "start_time": "2023-02-05T11:44:07.224Z"
      },
      {
        "duration": 15,
        "start_time": "2023-02-05T11:44:07.239Z"
      },
      {
        "duration": 206,
        "start_time": "2023-02-05T11:44:07.257Z"
      },
      {
        "duration": 146,
        "start_time": "2023-02-05T11:44:07.465Z"
      },
      {
        "duration": 0,
        "start_time": "2023-02-05T11:44:07.613Z"
      },
      {
        "duration": 0,
        "start_time": "2023-02-05T11:44:07.614Z"
      },
      {
        "duration": 0,
        "start_time": "2023-02-05T11:44:07.615Z"
      },
      {
        "duration": 0,
        "start_time": "2023-02-05T11:44:07.616Z"
      },
      {
        "duration": 0,
        "start_time": "2023-02-05T11:44:07.618Z"
      },
      {
        "duration": 0,
        "start_time": "2023-02-05T11:44:07.619Z"
      },
      {
        "duration": 0,
        "start_time": "2023-02-05T11:44:07.620Z"
      },
      {
        "duration": 0,
        "start_time": "2023-02-05T11:44:07.621Z"
      },
      {
        "duration": 1546,
        "start_time": "2023-02-06T13:40:11.132Z"
      },
      {
        "duration": 1548,
        "start_time": "2023-02-06T13:40:12.680Z"
      },
      {
        "duration": 16,
        "start_time": "2023-02-06T13:40:14.230Z"
      },
      {
        "duration": 17,
        "start_time": "2023-02-06T13:40:14.249Z"
      },
      {
        "duration": 49,
        "start_time": "2023-02-06T13:40:14.268Z"
      },
      {
        "duration": 68,
        "start_time": "2023-02-06T13:40:14.319Z"
      },
      {
        "duration": 9,
        "start_time": "2023-02-06T13:40:14.388Z"
      },
      {
        "duration": 16,
        "start_time": "2023-02-06T13:40:14.399Z"
      },
      {
        "duration": 37,
        "start_time": "2023-02-06T13:40:14.417Z"
      },
      {
        "duration": 43,
        "start_time": "2023-02-06T13:40:14.457Z"
      },
      {
        "duration": 10,
        "start_time": "2023-02-06T13:40:14.502Z"
      },
      {
        "duration": 20,
        "start_time": "2023-02-06T13:40:14.514Z"
      },
      {
        "duration": 65,
        "start_time": "2023-02-06T13:40:14.535Z"
      },
      {
        "duration": 24,
        "start_time": "2023-02-06T13:40:14.602Z"
      },
      {
        "duration": 175,
        "start_time": "2023-02-06T13:40:14.628Z"
      },
      {
        "duration": 651,
        "start_time": "2023-02-06T13:40:14.808Z"
      },
      {
        "duration": 679,
        "start_time": "2023-02-06T13:40:15.461Z"
      },
      {
        "duration": 757,
        "start_time": "2023-02-06T13:40:16.142Z"
      },
      {
        "duration": 3,
        "start_time": "2023-02-06T13:40:16.901Z"
      },
      {
        "duration": 7,
        "start_time": "2023-02-06T13:40:16.906Z"
      },
      {
        "duration": 371,
        "start_time": "2023-02-06T13:40:16.914Z"
      },
      {
        "duration": 6,
        "start_time": "2023-02-06T13:40:17.287Z"
      },
      {
        "duration": 124,
        "start_time": "2023-02-06T13:40:17.295Z"
      },
      {
        "duration": 7,
        "start_time": "2023-02-06T13:40:17.421Z"
      },
      {
        "duration": 7,
        "start_time": "2023-02-06T13:40:17.430Z"
      },
      {
        "duration": 216,
        "start_time": "2023-02-06T13:40:17.439Z"
      },
      {
        "duration": 136,
        "start_time": "2023-02-06T13:40:17.657Z"
      },
      {
        "duration": 0,
        "start_time": "2023-02-06T13:40:17.795Z"
      },
      {
        "duration": 0,
        "start_time": "2023-02-06T13:40:17.796Z"
      },
      {
        "duration": 0,
        "start_time": "2023-02-06T13:40:17.798Z"
      },
      {
        "duration": 0,
        "start_time": "2023-02-06T13:40:17.799Z"
      },
      {
        "duration": 0,
        "start_time": "2023-02-06T13:40:17.801Z"
      },
      {
        "duration": 0,
        "start_time": "2023-02-06T13:40:17.802Z"
      },
      {
        "duration": 0,
        "start_time": "2023-02-06T13:40:17.803Z"
      },
      {
        "duration": 0,
        "start_time": "2023-02-06T13:40:17.804Z"
      },
      {
        "duration": 207,
        "start_time": "2023-02-06T13:49:16.952Z"
      },
      {
        "duration": 237,
        "start_time": "2023-02-06T13:50:04.942Z"
      },
      {
        "duration": 51,
        "start_time": "2023-02-06T13:51:22.229Z"
      },
      {
        "duration": 206,
        "start_time": "2023-02-06T13:51:41.462Z"
      },
      {
        "duration": 1379,
        "start_time": "2023-02-06T15:01:17.413Z"
      },
      {
        "duration": 371,
        "start_time": "2023-02-06T15:01:18.794Z"
      },
      {
        "duration": 15,
        "start_time": "2023-02-06T15:01:19.168Z"
      },
      {
        "duration": 23,
        "start_time": "2023-02-06T15:01:19.185Z"
      },
      {
        "duration": 40,
        "start_time": "2023-02-06T15:01:19.210Z"
      },
      {
        "duration": 71,
        "start_time": "2023-02-06T15:01:19.253Z"
      },
      {
        "duration": 9,
        "start_time": "2023-02-06T15:01:19.325Z"
      },
      {
        "duration": 29,
        "start_time": "2023-02-06T15:01:19.335Z"
      },
      {
        "duration": 40,
        "start_time": "2023-02-06T15:01:19.365Z"
      },
      {
        "duration": 20,
        "start_time": "2023-02-06T15:01:19.407Z"
      },
      {
        "duration": 16,
        "start_time": "2023-02-06T15:01:19.429Z"
      },
      {
        "duration": 38,
        "start_time": "2023-02-06T15:01:19.446Z"
      },
      {
        "duration": 38,
        "start_time": "2023-02-06T15:01:19.486Z"
      },
      {
        "duration": 57,
        "start_time": "2023-02-06T15:01:19.526Z"
      },
      {
        "duration": 150,
        "start_time": "2023-02-06T15:01:19.585Z"
      },
      {
        "duration": 571,
        "start_time": "2023-02-06T15:01:19.737Z"
      },
      {
        "duration": 627,
        "start_time": "2023-02-06T15:01:20.310Z"
      },
      {
        "duration": 546,
        "start_time": "2023-02-06T15:01:20.939Z"
      },
      {
        "duration": 2,
        "start_time": "2023-02-06T15:01:21.487Z"
      },
      {
        "duration": 43,
        "start_time": "2023-02-06T15:01:21.491Z"
      },
      {
        "duration": 445,
        "start_time": "2023-02-06T15:01:21.536Z"
      },
      {
        "duration": 98,
        "start_time": "2023-02-06T15:01:21.984Z"
      },
      {
        "duration": 4,
        "start_time": "2023-02-06T15:01:22.083Z"
      },
      {
        "duration": 29,
        "start_time": "2023-02-06T15:01:22.089Z"
      },
      {
        "duration": 10,
        "start_time": "2023-02-06T15:01:22.119Z"
      },
      {
        "duration": 204,
        "start_time": "2023-02-06T15:01:22.131Z"
      },
      {
        "duration": 2,
        "start_time": "2023-02-06T15:01:22.337Z"
      },
      {
        "duration": 14,
        "start_time": "2023-02-06T15:01:22.342Z"
      },
      {
        "duration": 15,
        "start_time": "2023-02-06T15:01:22.358Z"
      },
      {
        "duration": 24,
        "start_time": "2023-02-06T15:01:22.375Z"
      },
      {
        "duration": 58,
        "start_time": "2023-02-06T15:01:22.400Z"
      },
      {
        "duration": 0,
        "start_time": "2023-02-06T15:01:22.460Z"
      },
      {
        "duration": 0,
        "start_time": "2023-02-06T15:01:22.461Z"
      },
      {
        "duration": 0,
        "start_time": "2023-02-06T15:01:22.462Z"
      },
      {
        "duration": 0,
        "start_time": "2023-02-06T15:01:22.463Z"
      },
      {
        "duration": 116,
        "start_time": "2023-02-06T15:03:36.098Z"
      },
      {
        "duration": 18,
        "start_time": "2023-02-06T15:04:45.104Z"
      },
      {
        "duration": 1328,
        "start_time": "2023-02-06T15:08:33.963Z"
      },
      {
        "duration": 375,
        "start_time": "2023-02-06T15:08:35.293Z"
      },
      {
        "duration": 17,
        "start_time": "2023-02-06T15:08:35.670Z"
      },
      {
        "duration": 18,
        "start_time": "2023-02-06T15:08:35.689Z"
      },
      {
        "duration": 39,
        "start_time": "2023-02-06T15:08:35.709Z"
      },
      {
        "duration": 82,
        "start_time": "2023-02-06T15:08:35.750Z"
      },
      {
        "duration": 10,
        "start_time": "2023-02-06T15:08:35.833Z"
      },
      {
        "duration": 16,
        "start_time": "2023-02-06T15:08:35.845Z"
      },
      {
        "duration": 41,
        "start_time": "2023-02-06T15:08:35.882Z"
      },
      {
        "duration": 26,
        "start_time": "2023-02-06T15:08:35.926Z"
      },
      {
        "duration": 34,
        "start_time": "2023-02-06T15:08:35.954Z"
      },
      {
        "duration": 26,
        "start_time": "2023-02-06T15:08:35.990Z"
      },
      {
        "duration": 36,
        "start_time": "2023-02-06T15:08:36.018Z"
      },
      {
        "duration": 33,
        "start_time": "2023-02-06T15:08:36.056Z"
      },
      {
        "duration": 151,
        "start_time": "2023-02-06T15:08:36.091Z"
      },
      {
        "duration": 632,
        "start_time": "2023-02-06T15:08:36.244Z"
      },
      {
        "duration": 616,
        "start_time": "2023-02-06T15:08:36.878Z"
      },
      {
        "duration": 540,
        "start_time": "2023-02-06T15:08:37.495Z"
      },
      {
        "duration": 3,
        "start_time": "2023-02-06T15:08:38.037Z"
      },
      {
        "duration": 29,
        "start_time": "2023-02-06T15:08:38.042Z"
      },
      {
        "duration": 411,
        "start_time": "2023-02-06T15:08:38.072Z"
      },
      {
        "duration": 6,
        "start_time": "2023-02-06T15:08:38.485Z"
      },
      {
        "duration": 12,
        "start_time": "2023-02-06T15:08:38.583Z"
      },
      {
        "duration": 14,
        "start_time": "2023-02-06T15:08:38.597Z"
      },
      {
        "duration": 18,
        "start_time": "2023-02-06T15:08:38.613Z"
      },
      {
        "duration": 203,
        "start_time": "2023-02-06T15:08:38.682Z"
      },
      {
        "duration": 3,
        "start_time": "2023-02-06T15:08:38.887Z"
      },
      {
        "duration": 11,
        "start_time": "2023-02-06T15:08:38.894Z"
      },
      {
        "duration": 11,
        "start_time": "2023-02-06T15:08:38.907Z"
      },
      {
        "duration": 12,
        "start_time": "2023-02-06T15:08:38.920Z"
      },
      {
        "duration": 7,
        "start_time": "2023-02-06T15:08:38.934Z"
      },
      {
        "duration": 113,
        "start_time": "2023-02-06T15:08:38.943Z"
      },
      {
        "duration": 0,
        "start_time": "2023-02-06T15:08:39.058Z"
      },
      {
        "duration": 0,
        "start_time": "2023-02-06T15:08:39.059Z"
      },
      {
        "duration": 0,
        "start_time": "2023-02-06T15:08:39.060Z"
      },
      {
        "duration": 14247,
        "start_time": "2023-02-06T15:14:16.990Z"
      },
      {
        "duration": 4,
        "start_time": "2023-02-06T15:14:40.824Z"
      },
      {
        "duration": 5,
        "start_time": "2023-02-06T16:48:05.568Z"
      },
      {
        "duration": 4,
        "start_time": "2023-02-06T16:48:27.083Z"
      },
      {
        "duration": 5,
        "start_time": "2023-02-06T16:49:43.402Z"
      },
      {
        "duration": 18,
        "start_time": "2023-02-06T16:49:47.387Z"
      },
      {
        "duration": 4,
        "start_time": "2023-02-06T17:03:37.117Z"
      },
      {
        "duration": 5,
        "start_time": "2023-02-06T17:03:44.921Z"
      },
      {
        "duration": 9,
        "start_time": "2023-02-06T17:04:06.400Z"
      },
      {
        "duration": 13,
        "start_time": "2023-02-06T17:04:25.586Z"
      },
      {
        "duration": 1404,
        "start_time": "2023-02-06T17:05:05.908Z"
      },
      {
        "duration": 369,
        "start_time": "2023-02-06T17:05:07.314Z"
      },
      {
        "duration": 14,
        "start_time": "2023-02-06T17:05:07.685Z"
      },
      {
        "duration": 27,
        "start_time": "2023-02-06T17:05:07.701Z"
      },
      {
        "duration": 39,
        "start_time": "2023-02-06T17:05:07.730Z"
      },
      {
        "duration": 61,
        "start_time": "2023-02-06T17:05:07.780Z"
      },
      {
        "duration": 10,
        "start_time": "2023-02-06T17:05:07.843Z"
      },
      {
        "duration": 34,
        "start_time": "2023-02-06T17:05:07.854Z"
      },
      {
        "duration": 37,
        "start_time": "2023-02-06T17:05:07.890Z"
      },
      {
        "duration": 20,
        "start_time": "2023-02-06T17:05:07.928Z"
      },
      {
        "duration": 32,
        "start_time": "2023-02-06T17:05:07.950Z"
      },
      {
        "duration": 15,
        "start_time": "2023-02-06T17:05:07.984Z"
      },
      {
        "duration": 35,
        "start_time": "2023-02-06T17:05:08.001Z"
      },
      {
        "duration": 44,
        "start_time": "2023-02-06T17:05:08.039Z"
      },
      {
        "duration": 143,
        "start_time": "2023-02-06T17:05:08.085Z"
      },
      {
        "duration": 575,
        "start_time": "2023-02-06T17:05:08.230Z"
      },
      {
        "duration": 628,
        "start_time": "2023-02-06T17:05:08.806Z"
      },
      {
        "duration": 530,
        "start_time": "2023-02-06T17:05:09.436Z"
      },
      {
        "duration": 2,
        "start_time": "2023-02-06T17:05:09.968Z"
      },
      {
        "duration": 4,
        "start_time": "2023-02-06T17:05:09.982Z"
      },
      {
        "duration": 398,
        "start_time": "2023-02-06T17:05:09.988Z"
      },
      {
        "duration": 5,
        "start_time": "2023-02-06T17:05:10.389Z"
      },
      {
        "duration": 100,
        "start_time": "2023-02-06T17:05:10.483Z"
      },
      {
        "duration": 9,
        "start_time": "2023-02-06T17:05:10.585Z"
      },
      {
        "duration": 7,
        "start_time": "2023-02-06T17:05:10.595Z"
      },
      {
        "duration": 223,
        "start_time": "2023-02-06T17:05:10.604Z"
      },
      {
        "duration": 3,
        "start_time": "2023-02-06T17:05:10.829Z"
      },
      {
        "duration": 9,
        "start_time": "2023-02-06T17:05:10.833Z"
      },
      {
        "duration": 7,
        "start_time": "2023-02-06T17:05:10.844Z"
      },
      {
        "duration": 6,
        "start_time": "2023-02-06T17:05:10.853Z"
      },
      {
        "duration": 6,
        "start_time": "2023-02-06T17:05:10.860Z"
      },
      {
        "duration": 20,
        "start_time": "2023-02-06T17:05:10.868Z"
      },
      {
        "duration": 10,
        "start_time": "2023-02-06T17:05:10.890Z"
      },
      {
        "duration": 114,
        "start_time": "2023-02-06T17:05:10.902Z"
      },
      {
        "duration": 0,
        "start_time": "2023-02-06T17:05:11.018Z"
      },
      {
        "duration": 0,
        "start_time": "2023-02-06T17:05:11.019Z"
      },
      {
        "duration": 14,
        "start_time": "2023-02-06T17:05:57.204Z"
      },
      {
        "duration": 8,
        "start_time": "2023-02-06T17:07:27.269Z"
      },
      {
        "duration": 1519,
        "start_time": "2023-02-06T17:07:36.204Z"
      },
      {
        "duration": 1395,
        "start_time": "2023-02-06T17:21:49.709Z"
      },
      {
        "duration": 332,
        "start_time": "2023-02-06T17:21:51.106Z"
      },
      {
        "duration": 13,
        "start_time": "2023-02-06T17:21:51.440Z"
      },
      {
        "duration": 15,
        "start_time": "2023-02-06T17:21:51.454Z"
      },
      {
        "duration": 39,
        "start_time": "2023-02-06T17:21:51.470Z"
      },
      {
        "duration": 79,
        "start_time": "2023-02-06T17:21:51.511Z"
      },
      {
        "duration": 10,
        "start_time": "2023-02-06T17:21:51.592Z"
      },
      {
        "duration": 27,
        "start_time": "2023-02-06T17:21:51.603Z"
      },
      {
        "duration": 53,
        "start_time": "2023-02-06T17:21:51.631Z"
      },
      {
        "duration": 18,
        "start_time": "2023-02-06T17:21:51.688Z"
      },
      {
        "duration": 13,
        "start_time": "2023-02-06T17:21:51.708Z"
      },
      {
        "duration": 24,
        "start_time": "2023-02-06T17:21:51.723Z"
      },
      {
        "duration": 38,
        "start_time": "2023-02-06T17:21:51.748Z"
      },
      {
        "duration": 18,
        "start_time": "2023-02-06T17:21:51.788Z"
      },
      {
        "duration": 140,
        "start_time": "2023-02-06T17:21:51.808Z"
      },
      {
        "duration": 488,
        "start_time": "2023-02-06T17:21:51.950Z"
      },
      {
        "duration": 526,
        "start_time": "2023-02-06T17:21:52.440Z"
      },
      {
        "duration": 461,
        "start_time": "2023-02-06T17:21:52.969Z"
      },
      {
        "duration": 3,
        "start_time": "2023-02-06T17:21:53.432Z"
      },
      {
        "duration": 21,
        "start_time": "2023-02-06T17:21:53.437Z"
      },
      {
        "duration": 330,
        "start_time": "2023-02-06T17:21:53.459Z"
      },
      {
        "duration": 6,
        "start_time": "2023-02-06T17:21:53.791Z"
      },
      {
        "duration": 106,
        "start_time": "2023-02-06T17:21:53.882Z"
      },
      {
        "duration": 6,
        "start_time": "2023-02-06T17:21:53.990Z"
      },
      {
        "duration": 6,
        "start_time": "2023-02-06T17:21:53.997Z"
      },
      {
        "duration": 173,
        "start_time": "2023-02-06T17:21:54.004Z"
      },
      {
        "duration": 3,
        "start_time": "2023-02-06T17:21:54.181Z"
      },
      {
        "duration": 5,
        "start_time": "2023-02-06T17:21:54.186Z"
      },
      {
        "duration": 5,
        "start_time": "2023-02-06T17:21:54.192Z"
      },
      {
        "duration": 21,
        "start_time": "2023-02-06T17:21:54.198Z"
      },
      {
        "duration": 8,
        "start_time": "2023-02-06T17:21:54.221Z"
      },
      {
        "duration": 0,
        "start_time": "2023-02-06T17:21:54.230Z"
      },
      {
        "duration": 0,
        "start_time": "2023-02-06T17:21:54.232Z"
      },
      {
        "duration": 0,
        "start_time": "2023-02-06T17:21:54.232Z"
      },
      {
        "duration": 0,
        "start_time": "2023-02-06T17:21:54.234Z"
      },
      {
        "duration": 0,
        "start_time": "2023-02-06T17:21:54.235Z"
      },
      {
        "duration": 4,
        "start_time": "2023-02-06T17:22:15.318Z"
      },
      {
        "duration": 4,
        "start_time": "2023-02-06T17:22:55.433Z"
      },
      {
        "duration": 4,
        "start_time": "2023-02-06T17:22:58.605Z"
      },
      {
        "duration": 118,
        "start_time": "2023-02-06T17:23:00.630Z"
      },
      {
        "duration": 1307,
        "start_time": "2023-02-06T17:24:57.747Z"
      },
      {
        "duration": 342,
        "start_time": "2023-02-06T17:24:59.056Z"
      },
      {
        "duration": 13,
        "start_time": "2023-02-06T17:24:59.400Z"
      },
      {
        "duration": 16,
        "start_time": "2023-02-06T17:24:59.415Z"
      },
      {
        "duration": 56,
        "start_time": "2023-02-06T17:24:59.432Z"
      },
      {
        "duration": 55,
        "start_time": "2023-02-06T17:24:59.490Z"
      },
      {
        "duration": 10,
        "start_time": "2023-02-06T17:24:59.546Z"
      },
      {
        "duration": 34,
        "start_time": "2023-02-06T17:24:59.558Z"
      },
      {
        "duration": 35,
        "start_time": "2023-02-06T17:24:59.593Z"
      },
      {
        "duration": 18,
        "start_time": "2023-02-06T17:24:59.630Z"
      },
      {
        "duration": 35,
        "start_time": "2023-02-06T17:24:59.650Z"
      },
      {
        "duration": 48,
        "start_time": "2023-02-06T17:24:59.686Z"
      },
      {
        "duration": 62,
        "start_time": "2023-02-06T17:24:59.736Z"
      },
      {
        "duration": 19,
        "start_time": "2023-02-06T17:24:59.800Z"
      },
      {
        "duration": 133,
        "start_time": "2023-02-06T17:24:59.821Z"
      },
      {
        "duration": 562,
        "start_time": "2023-02-06T17:24:59.960Z"
      },
      {
        "duration": 606,
        "start_time": "2023-02-06T17:25:00.524Z"
      },
      {
        "duration": 492,
        "start_time": "2023-02-06T17:25:01.132Z"
      },
      {
        "duration": 3,
        "start_time": "2023-02-06T17:25:01.626Z"
      },
      {
        "duration": 26,
        "start_time": "2023-02-06T17:25:01.631Z"
      },
      {
        "duration": 329,
        "start_time": "2023-02-06T17:25:01.658Z"
      },
      {
        "duration": 91,
        "start_time": "2023-02-06T17:25:01.990Z"
      },
      {
        "duration": 98,
        "start_time": "2023-02-06T17:25:02.084Z"
      },
      {
        "duration": 35,
        "start_time": "2023-02-06T17:25:02.184Z"
      },
      {
        "duration": 18,
        "start_time": "2023-02-06T17:25:02.221Z"
      },
      {
        "duration": 186,
        "start_time": "2023-02-06T17:25:02.241Z"
      },
      {
        "duration": 3,
        "start_time": "2023-02-06T17:25:02.429Z"
      },
      {
        "duration": 10,
        "start_time": "2023-02-06T17:25:02.435Z"
      },
      {
        "duration": 6,
        "start_time": "2023-02-06T17:25:02.447Z"
      },
      {
        "duration": 5,
        "start_time": "2023-02-06T17:25:02.454Z"
      },
      {
        "duration": 7,
        "start_time": "2023-02-06T17:25:02.461Z"
      },
      {
        "duration": 14,
        "start_time": "2023-02-06T17:25:02.469Z"
      },
      {
        "duration": 1621,
        "start_time": "2023-02-06T17:25:02.484Z"
      },
      {
        "duration": 111,
        "start_time": "2023-02-06T17:25:04.107Z"
      },
      {
        "duration": 0,
        "start_time": "2023-02-06T17:25:04.220Z"
      },
      {
        "duration": 0,
        "start_time": "2023-02-06T17:25:04.221Z"
      },
      {
        "duration": 1700,
        "start_time": "2023-02-06T17:25:26.242Z"
      },
      {
        "duration": 9,
        "start_time": "2023-02-06T17:26:36.573Z"
      },
      {
        "duration": 1243,
        "start_time": "2023-02-06T17:27:47.806Z"
      },
      {
        "duration": 347,
        "start_time": "2023-02-06T17:27:49.051Z"
      },
      {
        "duration": 14,
        "start_time": "2023-02-06T17:27:49.400Z"
      },
      {
        "duration": 17,
        "start_time": "2023-02-06T17:27:49.417Z"
      },
      {
        "duration": 64,
        "start_time": "2023-02-06T17:27:49.436Z"
      },
      {
        "duration": 55,
        "start_time": "2023-02-06T17:27:49.502Z"
      },
      {
        "duration": 23,
        "start_time": "2023-02-06T17:27:49.558Z"
      },
      {
        "duration": 13,
        "start_time": "2023-02-06T17:27:49.583Z"
      },
      {
        "duration": 35,
        "start_time": "2023-02-06T17:27:49.597Z"
      },
      {
        "duration": 20,
        "start_time": "2023-02-06T17:27:49.634Z"
      },
      {
        "duration": 32,
        "start_time": "2023-02-06T17:27:49.656Z"
      },
      {
        "duration": 17,
        "start_time": "2023-02-06T17:27:49.690Z"
      },
      {
        "duration": 33,
        "start_time": "2023-02-06T17:27:49.708Z"
      },
      {
        "duration": 40,
        "start_time": "2023-02-06T17:27:49.742Z"
      },
      {
        "duration": 123,
        "start_time": "2023-02-06T17:27:49.784Z"
      },
      {
        "duration": 509,
        "start_time": "2023-02-06T17:27:49.909Z"
      },
      {
        "duration": 613,
        "start_time": "2023-02-06T17:27:50.419Z"
      },
      {
        "duration": 513,
        "start_time": "2023-02-06T17:27:51.034Z"
      },
      {
        "duration": 2,
        "start_time": "2023-02-06T17:27:51.549Z"
      },
      {
        "duration": 16,
        "start_time": "2023-02-06T17:27:51.553Z"
      },
      {
        "duration": 412,
        "start_time": "2023-02-06T17:27:51.570Z"
      },
      {
        "duration": 99,
        "start_time": "2023-02-06T17:27:51.983Z"
      },
      {
        "duration": 7,
        "start_time": "2023-02-06T17:27:52.083Z"
      },
      {
        "duration": 9,
        "start_time": "2023-02-06T17:27:52.092Z"
      },
      {
        "duration": 10,
        "start_time": "2023-02-06T17:27:52.103Z"
      },
      {
        "duration": 196,
        "start_time": "2023-02-06T17:27:52.115Z"
      },
      {
        "duration": 3,
        "start_time": "2023-02-06T17:27:52.313Z"
      },
      {
        "duration": 12,
        "start_time": "2023-02-06T17:27:52.318Z"
      },
      {
        "duration": 10,
        "start_time": "2023-02-06T17:27:52.332Z"
      },
      {
        "duration": 23,
        "start_time": "2023-02-06T17:27:52.344Z"
      },
      {
        "duration": 9,
        "start_time": "2023-02-06T17:27:52.369Z"
      },
      {
        "duration": 13,
        "start_time": "2023-02-06T17:27:52.379Z"
      },
      {
        "duration": 1634,
        "start_time": "2023-02-06T17:27:52.393Z"
      },
      {
        "duration": 1706,
        "start_time": "2023-02-06T17:27:54.028Z"
      },
      {
        "duration": 0,
        "start_time": "2023-02-06T17:27:55.737Z"
      },
      {
        "duration": 0,
        "start_time": "2023-02-06T17:27:55.738Z"
      },
      {
        "duration": 1679,
        "start_time": "2023-02-06T17:28:15.296Z"
      },
      {
        "duration": 1635,
        "start_time": "2023-02-06T17:28:40.800Z"
      },
      {
        "duration": 1634,
        "start_time": "2023-02-06T17:31:04.264Z"
      },
      {
        "duration": 1649,
        "start_time": "2023-02-06T17:32:07.601Z"
      },
      {
        "duration": 1286,
        "start_time": "2023-02-06T17:32:40.515Z"
      },
      {
        "duration": 378,
        "start_time": "2023-02-06T17:32:41.802Z"
      },
      {
        "duration": 13,
        "start_time": "2023-02-06T17:32:42.182Z"
      },
      {
        "duration": 29,
        "start_time": "2023-02-06T17:32:42.196Z"
      },
      {
        "duration": 38,
        "start_time": "2023-02-06T17:32:42.227Z"
      },
      {
        "duration": 67,
        "start_time": "2023-02-06T17:32:42.267Z"
      },
      {
        "duration": 12,
        "start_time": "2023-02-06T17:32:42.336Z"
      },
      {
        "duration": 33,
        "start_time": "2023-02-06T17:32:42.350Z"
      },
      {
        "duration": 38,
        "start_time": "2023-02-06T17:32:42.385Z"
      },
      {
        "duration": 20,
        "start_time": "2023-02-06T17:32:42.425Z"
      },
      {
        "duration": 11,
        "start_time": "2023-02-06T17:32:42.446Z"
      },
      {
        "duration": 14,
        "start_time": "2023-02-06T17:32:42.482Z"
      },
      {
        "duration": 34,
        "start_time": "2023-02-06T17:32:42.497Z"
      },
      {
        "duration": 21,
        "start_time": "2023-02-06T17:32:42.534Z"
      },
      {
        "duration": 144,
        "start_time": "2023-02-06T17:32:42.581Z"
      },
      {
        "duration": 546,
        "start_time": "2023-02-06T17:32:42.727Z"
      },
      {
        "duration": 619,
        "start_time": "2023-02-06T17:32:43.275Z"
      },
      {
        "duration": 521,
        "start_time": "2023-02-06T17:32:43.896Z"
      },
      {
        "duration": 2,
        "start_time": "2023-02-06T17:32:44.419Z"
      },
      {
        "duration": 26,
        "start_time": "2023-02-06T17:32:44.424Z"
      },
      {
        "duration": 341,
        "start_time": "2023-02-06T17:32:44.452Z"
      },
      {
        "duration": 94,
        "start_time": "2023-02-06T17:32:44.795Z"
      },
      {
        "duration": 3,
        "start_time": "2023-02-06T17:32:44.982Z"
      },
      {
        "duration": 51,
        "start_time": "2023-02-06T17:32:44.986Z"
      },
      {
        "duration": 24,
        "start_time": "2023-02-06T17:32:45.038Z"
      },
      {
        "duration": 208,
        "start_time": "2023-02-06T17:32:45.064Z"
      },
      {
        "duration": 3,
        "start_time": "2023-02-06T17:32:45.273Z"
      },
      {
        "duration": 10,
        "start_time": "2023-02-06T17:32:45.281Z"
      },
      {
        "duration": 28,
        "start_time": "2023-02-06T17:32:45.293Z"
      },
      {
        "duration": 19,
        "start_time": "2023-02-06T17:32:45.323Z"
      },
      {
        "duration": 20,
        "start_time": "2023-02-06T17:32:45.344Z"
      },
      {
        "duration": 21,
        "start_time": "2023-02-06T17:32:45.367Z"
      },
      {
        "duration": 1788,
        "start_time": "2023-02-06T17:32:45.390Z"
      },
      {
        "duration": 0,
        "start_time": "2023-02-06T17:32:47.179Z"
      },
      {
        "duration": 0,
        "start_time": "2023-02-06T17:32:47.181Z"
      },
      {
        "duration": 0,
        "start_time": "2023-02-06T17:32:47.183Z"
      },
      {
        "duration": 1328,
        "start_time": "2023-02-06T17:43:11.057Z"
      },
      {
        "duration": 353,
        "start_time": "2023-02-06T17:43:12.387Z"
      },
      {
        "duration": 13,
        "start_time": "2023-02-06T17:43:12.741Z"
      },
      {
        "duration": 18,
        "start_time": "2023-02-06T17:43:12.756Z"
      },
      {
        "duration": 38,
        "start_time": "2023-02-06T17:43:12.780Z"
      },
      {
        "duration": 74,
        "start_time": "2023-02-06T17:43:12.819Z"
      },
      {
        "duration": 8,
        "start_time": "2023-02-06T17:43:12.895Z"
      },
      {
        "duration": 18,
        "start_time": "2023-02-06T17:43:12.904Z"
      },
      {
        "duration": 38,
        "start_time": "2023-02-06T17:43:12.923Z"
      },
      {
        "duration": 22,
        "start_time": "2023-02-06T17:43:12.983Z"
      },
      {
        "duration": 10,
        "start_time": "2023-02-06T17:43:13.006Z"
      },
      {
        "duration": 18,
        "start_time": "2023-02-06T17:43:13.017Z"
      },
      {
        "duration": 62,
        "start_time": "2023-02-06T17:43:13.037Z"
      },
      {
        "duration": 19,
        "start_time": "2023-02-06T17:43:13.100Z"
      },
      {
        "duration": 138,
        "start_time": "2023-02-06T17:43:13.120Z"
      },
      {
        "duration": 559,
        "start_time": "2023-02-06T17:43:13.260Z"
      },
      {
        "duration": 613,
        "start_time": "2023-02-06T17:43:13.821Z"
      },
      {
        "duration": 500,
        "start_time": "2023-02-06T17:43:14.436Z"
      },
      {
        "duration": 2,
        "start_time": "2023-02-06T17:43:14.938Z"
      },
      {
        "duration": 8,
        "start_time": "2023-02-06T17:43:14.942Z"
      },
      {
        "duration": 340,
        "start_time": "2023-02-06T17:43:14.952Z"
      },
      {
        "duration": 5,
        "start_time": "2023-02-06T17:43:15.294Z"
      },
      {
        "duration": 187,
        "start_time": "2023-02-06T17:43:15.301Z"
      },
      {
        "duration": 9,
        "start_time": "2023-02-06T17:43:15.490Z"
      },
      {
        "duration": 8,
        "start_time": "2023-02-06T17:43:15.501Z"
      },
      {
        "duration": 196,
        "start_time": "2023-02-06T17:43:15.510Z"
      },
      {
        "duration": 3,
        "start_time": "2023-02-06T17:43:15.708Z"
      },
      {
        "duration": 10,
        "start_time": "2023-02-06T17:43:15.715Z"
      },
      {
        "duration": 9,
        "start_time": "2023-02-06T17:43:15.726Z"
      },
      {
        "duration": 45,
        "start_time": "2023-02-06T17:43:15.737Z"
      },
      {
        "duration": 0,
        "start_time": "2023-02-06T17:43:15.784Z"
      },
      {
        "duration": 0,
        "start_time": "2023-02-06T17:43:15.785Z"
      },
      {
        "duration": 0,
        "start_time": "2023-02-06T17:43:15.786Z"
      },
      {
        "duration": 0,
        "start_time": "2023-02-06T17:43:15.787Z"
      },
      {
        "duration": 0,
        "start_time": "2023-02-06T17:43:15.788Z"
      },
      {
        "duration": 0,
        "start_time": "2023-02-06T17:43:15.789Z"
      },
      {
        "duration": 5,
        "start_time": "2023-02-06T17:43:30.492Z"
      },
      {
        "duration": 102,
        "start_time": "2023-02-06T17:43:35.725Z"
      },
      {
        "duration": 4,
        "start_time": "2023-02-06T17:43:56.957Z"
      },
      {
        "duration": 11,
        "start_time": "2023-02-06T17:44:03.333Z"
      },
      {
        "duration": 10,
        "start_time": "2023-02-06T17:51:25.356Z"
      },
      {
        "duration": 43,
        "start_time": "2023-02-06T17:51:31.043Z"
      },
      {
        "duration": 5,
        "start_time": "2023-02-06T17:51:52.639Z"
      },
      {
        "duration": 6,
        "start_time": "2023-02-06T17:52:05.747Z"
      },
      {
        "duration": 1284,
        "start_time": "2023-02-06T17:53:53.102Z"
      },
      {
        "duration": 353,
        "start_time": "2023-02-06T17:53:54.388Z"
      },
      {
        "duration": 13,
        "start_time": "2023-02-06T17:53:54.743Z"
      },
      {
        "duration": 25,
        "start_time": "2023-02-06T17:53:54.758Z"
      },
      {
        "duration": 38,
        "start_time": "2023-02-06T17:53:54.785Z"
      },
      {
        "duration": 62,
        "start_time": "2023-02-06T17:53:54.824Z"
      },
      {
        "duration": 8,
        "start_time": "2023-02-06T17:53:54.888Z"
      },
      {
        "duration": 34,
        "start_time": "2023-02-06T17:53:54.898Z"
      },
      {
        "duration": 41,
        "start_time": "2023-02-06T17:53:54.934Z"
      },
      {
        "duration": 20,
        "start_time": "2023-02-06T17:53:54.978Z"
      },
      {
        "duration": 17,
        "start_time": "2023-02-06T17:53:55.000Z"
      },
      {
        "duration": 24,
        "start_time": "2023-02-06T17:53:55.019Z"
      },
      {
        "duration": 54,
        "start_time": "2023-02-06T17:53:55.045Z"
      },
      {
        "duration": 19,
        "start_time": "2023-02-06T17:53:55.101Z"
      },
      {
        "duration": 139,
        "start_time": "2023-02-06T17:53:55.122Z"
      },
      {
        "duration": 510,
        "start_time": "2023-02-06T17:53:55.263Z"
      },
      {
        "duration": 564,
        "start_time": "2023-02-06T17:53:55.775Z"
      },
      {
        "duration": 508,
        "start_time": "2023-02-06T17:53:56.341Z"
      },
      {
        "duration": 2,
        "start_time": "2023-02-06T17:53:56.852Z"
      },
      {
        "duration": 7,
        "start_time": "2023-02-06T17:53:56.856Z"
      },
      {
        "duration": 422,
        "start_time": "2023-02-06T17:53:56.864Z"
      },
      {
        "duration": 6,
        "start_time": "2023-02-06T17:53:57.288Z"
      },
      {
        "duration": 105,
        "start_time": "2023-02-06T17:53:57.382Z"
      },
      {
        "duration": 23,
        "start_time": "2023-02-06T17:53:57.489Z"
      },
      {
        "duration": 13,
        "start_time": "2023-02-06T17:53:57.513Z"
      },
      {
        "duration": 195,
        "start_time": "2023-02-06T17:53:57.528Z"
      },
      {
        "duration": 3,
        "start_time": "2023-02-06T17:53:57.725Z"
      },
      {
        "duration": 5,
        "start_time": "2023-02-06T17:53:57.731Z"
      },
      {
        "duration": 11,
        "start_time": "2023-02-06T17:53:57.738Z"
      },
      {
        "duration": 5,
        "start_time": "2023-02-06T17:53:57.751Z"
      },
      {
        "duration": 4,
        "start_time": "2023-02-06T17:53:57.758Z"
      },
      {
        "duration": 18,
        "start_time": "2023-02-06T17:53:57.763Z"
      },
      {
        "duration": 6,
        "start_time": "2023-02-06T17:53:57.783Z"
      },
      {
        "duration": 4807,
        "start_time": "2023-02-06T17:53:57.790Z"
      },
      {
        "duration": 4,
        "start_time": "2023-02-06T17:54:02.598Z"
      },
      {
        "duration": 42,
        "start_time": "2023-02-06T17:54:02.604Z"
      },
      {
        "duration": 5,
        "start_time": "2023-02-06T17:55:51.497Z"
      },
      {
        "duration": 4,
        "start_time": "2023-02-06T17:55:56.580Z"
      },
      {
        "duration": 4,
        "start_time": "2023-02-06T17:56:01.244Z"
      },
      {
        "duration": 5,
        "start_time": "2023-02-06T17:56:27.507Z"
      },
      {
        "duration": 1360,
        "start_time": "2023-02-06T17:56:35.613Z"
      },
      {
        "duration": 345,
        "start_time": "2023-02-06T17:56:36.976Z"
      },
      {
        "duration": 13,
        "start_time": "2023-02-06T17:56:37.323Z"
      },
      {
        "duration": 27,
        "start_time": "2023-02-06T17:56:37.338Z"
      },
      {
        "duration": 45,
        "start_time": "2023-02-06T17:56:37.366Z"
      },
      {
        "duration": 55,
        "start_time": "2023-02-06T17:56:37.413Z"
      },
      {
        "duration": 18,
        "start_time": "2023-02-06T17:56:37.470Z"
      },
      {
        "duration": 15,
        "start_time": "2023-02-06T17:56:37.489Z"
      },
      {
        "duration": 33,
        "start_time": "2023-02-06T17:56:37.505Z"
      },
      {
        "duration": 44,
        "start_time": "2023-02-06T17:56:37.542Z"
      },
      {
        "duration": 9,
        "start_time": "2023-02-06T17:56:37.588Z"
      },
      {
        "duration": 44,
        "start_time": "2023-02-06T17:56:37.598Z"
      },
      {
        "duration": 38,
        "start_time": "2023-02-06T17:56:37.644Z"
      },
      {
        "duration": 20,
        "start_time": "2023-02-06T17:56:37.685Z"
      },
      {
        "duration": 132,
        "start_time": "2023-02-06T17:56:37.707Z"
      },
      {
        "duration": 533,
        "start_time": "2023-02-06T17:56:37.841Z"
      },
      {
        "duration": 577,
        "start_time": "2023-02-06T17:56:38.376Z"
      },
      {
        "duration": 503,
        "start_time": "2023-02-06T17:56:38.954Z"
      },
      {
        "duration": 3,
        "start_time": "2023-02-06T17:56:39.459Z"
      },
      {
        "duration": 17,
        "start_time": "2023-02-06T17:56:39.463Z"
      },
      {
        "duration": 308,
        "start_time": "2023-02-06T17:56:39.482Z"
      },
      {
        "duration": 6,
        "start_time": "2023-02-06T17:56:39.792Z"
      },
      {
        "duration": 3,
        "start_time": "2023-02-06T17:56:39.882Z"
      },
      {
        "duration": 125,
        "start_time": "2023-02-06T17:56:39.890Z"
      },
      {
        "duration": 29,
        "start_time": "2023-02-06T17:56:40.016Z"
      },
      {
        "duration": 209,
        "start_time": "2023-02-06T17:56:40.047Z"
      },
      {
        "duration": 3,
        "start_time": "2023-02-06T17:56:40.258Z"
      },
      {
        "duration": 22,
        "start_time": "2023-02-06T17:56:40.264Z"
      },
      {
        "duration": 26,
        "start_time": "2023-02-06T17:56:40.287Z"
      },
      {
        "duration": 17,
        "start_time": "2023-02-06T17:56:40.315Z"
      },
      {
        "duration": 30,
        "start_time": "2023-02-06T17:56:40.334Z"
      },
      {
        "duration": 23,
        "start_time": "2023-02-06T17:56:40.366Z"
      },
      {
        "duration": 14,
        "start_time": "2023-02-06T17:56:40.391Z"
      },
      {
        "duration": 138,
        "start_time": "2023-02-06T17:56:40.407Z"
      },
      {
        "duration": 0,
        "start_time": "2023-02-06T17:56:40.546Z"
      },
      {
        "duration": 0,
        "start_time": "2023-02-06T17:56:40.547Z"
      },
      {
        "duration": 1372,
        "start_time": "2023-02-06T17:57:25.626Z"
      },
      {
        "duration": 374,
        "start_time": "2023-02-06T17:57:27.000Z"
      },
      {
        "duration": 16,
        "start_time": "2023-02-06T17:57:27.376Z"
      },
      {
        "duration": 17,
        "start_time": "2023-02-06T17:57:27.394Z"
      },
      {
        "duration": 39,
        "start_time": "2023-02-06T17:57:27.414Z"
      },
      {
        "duration": 82,
        "start_time": "2023-02-06T17:57:27.455Z"
      },
      {
        "duration": 13,
        "start_time": "2023-02-06T17:57:27.539Z"
      },
      {
        "duration": 41,
        "start_time": "2023-02-06T17:57:27.554Z"
      },
      {
        "duration": 40,
        "start_time": "2023-02-06T17:57:27.597Z"
      },
      {
        "duration": 20,
        "start_time": "2023-02-06T17:57:27.639Z"
      },
      {
        "duration": 28,
        "start_time": "2023-02-06T17:57:27.661Z"
      },
      {
        "duration": 22,
        "start_time": "2023-02-06T17:57:27.691Z"
      },
      {
        "duration": 35,
        "start_time": "2023-02-06T17:57:27.714Z"
      },
      {
        "duration": 39,
        "start_time": "2023-02-06T17:57:27.752Z"
      },
      {
        "duration": 139,
        "start_time": "2023-02-06T17:57:27.793Z"
      },
      {
        "duration": 566,
        "start_time": "2023-02-06T17:57:27.933Z"
      },
      {
        "duration": 589,
        "start_time": "2023-02-06T17:57:28.501Z"
      },
      {
        "duration": 549,
        "start_time": "2023-02-06T17:57:29.092Z"
      },
      {
        "duration": 2,
        "start_time": "2023-02-06T17:57:29.643Z"
      },
      {
        "duration": 8,
        "start_time": "2023-02-06T17:57:29.646Z"
      },
      {
        "duration": 335,
        "start_time": "2023-02-06T17:57:29.655Z"
      },
      {
        "duration": 8,
        "start_time": "2023-02-06T17:57:30.083Z"
      },
      {
        "duration": 15,
        "start_time": "2023-02-06T17:57:30.182Z"
      },
      {
        "duration": 6,
        "start_time": "2023-02-06T17:57:30.200Z"
      },
      {
        "duration": 11,
        "start_time": "2023-02-06T17:57:30.208Z"
      },
      {
        "duration": 198,
        "start_time": "2023-02-06T17:57:30.220Z"
      },
      {
        "duration": 3,
        "start_time": "2023-02-06T17:57:30.421Z"
      },
      {
        "duration": 32,
        "start_time": "2023-02-06T17:57:30.426Z"
      },
      {
        "duration": 14,
        "start_time": "2023-02-06T17:57:30.460Z"
      },
      {
        "duration": 21,
        "start_time": "2023-02-06T17:57:30.475Z"
      },
      {
        "duration": 20,
        "start_time": "2023-02-06T17:57:30.499Z"
      },
      {
        "duration": 14,
        "start_time": "2023-02-06T17:57:30.520Z"
      },
      {
        "duration": 9,
        "start_time": "2023-02-06T17:57:30.536Z"
      },
      {
        "duration": 4869,
        "start_time": "2023-02-06T17:57:30.546Z"
      },
      {
        "duration": 4,
        "start_time": "2023-02-06T17:57:35.417Z"
      },
      {
        "duration": 29,
        "start_time": "2023-02-06T17:57:35.423Z"
      },
      {
        "duration": 1554,
        "start_time": "2023-02-06T18:31:33.959Z"
      },
      {
        "duration": 1958,
        "start_time": "2023-02-06T18:31:35.515Z"
      },
      {
        "duration": 16,
        "start_time": "2023-02-06T18:31:37.475Z"
      },
      {
        "duration": 43,
        "start_time": "2023-02-06T18:31:37.493Z"
      },
      {
        "duration": 41,
        "start_time": "2023-02-06T18:31:37.538Z"
      },
      {
        "duration": 77,
        "start_time": "2023-02-06T18:31:37.581Z"
      },
      {
        "duration": 12,
        "start_time": "2023-02-06T18:31:37.659Z"
      },
      {
        "duration": 28,
        "start_time": "2023-02-06T18:31:37.672Z"
      },
      {
        "duration": 41,
        "start_time": "2023-02-06T18:31:37.703Z"
      },
      {
        "duration": 18,
        "start_time": "2023-02-06T18:31:37.746Z"
      },
      {
        "duration": 9,
        "start_time": "2023-02-06T18:31:37.765Z"
      },
      {
        "duration": 38,
        "start_time": "2023-02-06T18:31:37.775Z"
      },
      {
        "duration": 61,
        "start_time": "2023-02-06T18:31:37.817Z"
      },
      {
        "duration": 26,
        "start_time": "2023-02-06T18:31:37.880Z"
      },
      {
        "duration": 148,
        "start_time": "2023-02-06T18:31:37.910Z"
      },
      {
        "duration": 626,
        "start_time": "2023-02-06T18:31:38.059Z"
      },
      {
        "duration": 691,
        "start_time": "2023-02-06T18:31:38.691Z"
      },
      {
        "duration": 576,
        "start_time": "2023-02-06T18:31:39.383Z"
      },
      {
        "duration": 3,
        "start_time": "2023-02-06T18:31:39.961Z"
      },
      {
        "duration": 6,
        "start_time": "2023-02-06T18:31:39.965Z"
      },
      {
        "duration": 419,
        "start_time": "2023-02-06T18:31:39.973Z"
      },
      {
        "duration": 15,
        "start_time": "2023-02-06T18:31:40.398Z"
      },
      {
        "duration": 104,
        "start_time": "2023-02-06T18:31:40.418Z"
      },
      {
        "duration": 12,
        "start_time": "2023-02-06T18:31:40.524Z"
      },
      {
        "duration": 16,
        "start_time": "2023-02-06T18:31:40.538Z"
      },
      {
        "duration": 257,
        "start_time": "2023-02-06T18:31:40.556Z"
      },
      {
        "duration": 4,
        "start_time": "2023-02-06T18:31:40.816Z"
      },
      {
        "duration": 18,
        "start_time": "2023-02-06T18:31:40.823Z"
      },
      {
        "duration": 22,
        "start_time": "2023-02-06T18:31:40.844Z"
      },
      {
        "duration": 6,
        "start_time": "2023-02-06T18:31:40.868Z"
      },
      {
        "duration": 6,
        "start_time": "2023-02-06T18:31:40.876Z"
      },
      {
        "duration": 8,
        "start_time": "2023-02-06T18:31:40.884Z"
      },
      {
        "duration": 52,
        "start_time": "2023-02-06T18:31:40.894Z"
      },
      {
        "duration": 5724,
        "start_time": "2023-02-06T18:31:40.947Z"
      },
      {
        "duration": 5,
        "start_time": "2023-02-06T18:31:46.672Z"
      },
      {
        "duration": 35,
        "start_time": "2023-02-06T18:31:46.678Z"
      },
      {
        "duration": 1583,
        "start_time": "2023-02-07T06:30:04.288Z"
      },
      {
        "duration": 1999,
        "start_time": "2023-02-07T06:30:05.873Z"
      },
      {
        "duration": 14,
        "start_time": "2023-02-07T06:30:07.873Z"
      },
      {
        "duration": 17,
        "start_time": "2023-02-07T06:30:07.889Z"
      },
      {
        "duration": 50,
        "start_time": "2023-02-07T06:30:07.910Z"
      },
      {
        "duration": 68,
        "start_time": "2023-02-07T06:30:07.962Z"
      },
      {
        "duration": 17,
        "start_time": "2023-02-07T06:30:08.032Z"
      },
      {
        "duration": 51,
        "start_time": "2023-02-07T06:30:08.051Z"
      },
      {
        "duration": 45,
        "start_time": "2023-02-07T06:30:08.104Z"
      },
      {
        "duration": 32,
        "start_time": "2023-02-07T06:30:08.151Z"
      },
      {
        "duration": 24,
        "start_time": "2023-02-07T06:30:08.185Z"
      },
      {
        "duration": 45,
        "start_time": "2023-02-07T06:30:08.211Z"
      },
      {
        "duration": 46,
        "start_time": "2023-02-07T06:30:08.259Z"
      },
      {
        "duration": 22,
        "start_time": "2023-02-07T06:30:08.308Z"
      },
      {
        "duration": 175,
        "start_time": "2023-02-07T06:30:08.332Z"
      },
      {
        "duration": 613,
        "start_time": "2023-02-07T06:30:08.509Z"
      },
      {
        "duration": 678,
        "start_time": "2023-02-07T06:30:09.123Z"
      },
      {
        "duration": 606,
        "start_time": "2023-02-07T06:30:09.803Z"
      },
      {
        "duration": 2,
        "start_time": "2023-02-07T06:30:10.411Z"
      },
      {
        "duration": 15,
        "start_time": "2023-02-07T06:30:10.415Z"
      },
      {
        "duration": 334,
        "start_time": "2023-02-07T06:30:10.432Z"
      },
      {
        "duration": 9,
        "start_time": "2023-02-07T06:30:10.842Z"
      },
      {
        "duration": 86,
        "start_time": "2023-02-07T06:30:10.852Z"
      },
      {
        "duration": 45,
        "start_time": "2023-02-07T06:30:10.940Z"
      },
      {
        "duration": 18,
        "start_time": "2023-02-07T06:30:10.987Z"
      },
      {
        "duration": 224,
        "start_time": "2023-02-07T06:30:11.007Z"
      },
      {
        "duration": 12,
        "start_time": "2023-02-07T06:30:11.233Z"
      },
      {
        "duration": 35,
        "start_time": "2023-02-07T06:30:11.250Z"
      },
      {
        "duration": 21,
        "start_time": "2023-02-07T06:30:11.287Z"
      },
      {
        "duration": 16,
        "start_time": "2023-02-07T06:30:11.310Z"
      },
      {
        "duration": 5053,
        "start_time": "2023-02-07T06:30:11.327Z"
      },
      {
        "duration": 5,
        "start_time": "2023-02-07T06:30:16.381Z"
      },
      {
        "duration": 46,
        "start_time": "2023-02-07T06:30:16.388Z"
      },
      {
        "duration": 6,
        "start_time": "2023-02-07T07:47:22.011Z"
      },
      {
        "duration": 6,
        "start_time": "2023-02-07T07:47:53.342Z"
      },
      {
        "duration": 1313,
        "start_time": "2023-02-07T08:22:17.992Z"
      },
      {
        "duration": 389,
        "start_time": "2023-02-07T08:22:19.307Z"
      },
      {
        "duration": 16,
        "start_time": "2023-02-07T08:22:19.698Z"
      },
      {
        "duration": 27,
        "start_time": "2023-02-07T08:22:19.716Z"
      },
      {
        "duration": 42,
        "start_time": "2023-02-07T08:22:19.744Z"
      },
      {
        "duration": 75,
        "start_time": "2023-02-07T08:22:19.787Z"
      },
      {
        "duration": 10,
        "start_time": "2023-02-07T08:22:19.864Z"
      },
      {
        "duration": 28,
        "start_time": "2023-02-07T08:22:19.877Z"
      },
      {
        "duration": 51,
        "start_time": "2023-02-07T08:22:19.907Z"
      },
      {
        "duration": 20,
        "start_time": "2023-02-07T08:22:19.961Z"
      },
      {
        "duration": 23,
        "start_time": "2023-02-07T08:22:19.983Z"
      },
      {
        "duration": 28,
        "start_time": "2023-02-07T08:22:20.008Z"
      },
      {
        "duration": 44,
        "start_time": "2023-02-07T08:22:20.038Z"
      },
      {
        "duration": 20,
        "start_time": "2023-02-07T08:22:20.084Z"
      },
      {
        "duration": 157,
        "start_time": "2023-02-07T08:22:20.106Z"
      },
      {
        "duration": 567,
        "start_time": "2023-02-07T08:22:20.265Z"
      },
      {
        "duration": 635,
        "start_time": "2023-02-07T08:22:20.834Z"
      },
      {
        "duration": 506,
        "start_time": "2023-02-07T08:22:21.471Z"
      },
      {
        "duration": 3,
        "start_time": "2023-02-07T08:22:21.979Z"
      },
      {
        "duration": 12,
        "start_time": "2023-02-07T08:22:21.983Z"
      },
      {
        "duration": 343,
        "start_time": "2023-02-07T08:22:21.997Z"
      },
      {
        "duration": 99,
        "start_time": "2023-02-07T08:22:22.343Z"
      },
      {
        "duration": 103,
        "start_time": "2023-02-07T08:22:22.445Z"
      },
      {
        "duration": 18,
        "start_time": "2023-02-07T08:22:22.550Z"
      },
      {
        "duration": 22,
        "start_time": "2023-02-07T08:22:22.570Z"
      },
      {
        "duration": 222,
        "start_time": "2023-02-07T08:22:22.595Z"
      },
      {
        "duration": 3,
        "start_time": "2023-02-07T08:22:22.819Z"
      },
      {
        "duration": 14,
        "start_time": "2023-02-07T08:22:22.825Z"
      },
      {
        "duration": 8,
        "start_time": "2023-02-07T08:22:22.840Z"
      },
      {
        "duration": 20,
        "start_time": "2023-02-07T08:22:22.849Z"
      },
      {
        "duration": 4304,
        "start_time": "2023-02-07T08:22:22.871Z"
      },
      {
        "duration": 5,
        "start_time": "2023-02-07T08:22:27.176Z"
      },
      {
        "duration": 21,
        "start_time": "2023-02-07T08:22:27.183Z"
      },
      {
        "duration": 1284,
        "start_time": "2023-02-07T08:23:23.520Z"
      },
      {
        "duration": 395,
        "start_time": "2023-02-07T08:23:24.806Z"
      },
      {
        "duration": 15,
        "start_time": "2023-02-07T08:23:25.203Z"
      },
      {
        "duration": 31,
        "start_time": "2023-02-07T08:23:25.219Z"
      },
      {
        "duration": 38,
        "start_time": "2023-02-07T08:23:25.253Z"
      },
      {
        "duration": 75,
        "start_time": "2023-02-07T08:23:25.293Z"
      },
      {
        "duration": 10,
        "start_time": "2023-02-07T08:23:25.369Z"
      },
      {
        "duration": 22,
        "start_time": "2023-02-07T08:23:25.381Z"
      },
      {
        "duration": 54,
        "start_time": "2023-02-07T08:23:25.404Z"
      },
      {
        "duration": 20,
        "start_time": "2023-02-07T08:23:25.460Z"
      },
      {
        "duration": 10,
        "start_time": "2023-02-07T08:23:25.481Z"
      },
      {
        "duration": 30,
        "start_time": "2023-02-07T08:23:25.493Z"
      },
      {
        "duration": 45,
        "start_time": "2023-02-07T08:23:25.525Z"
      },
      {
        "duration": 20,
        "start_time": "2023-02-07T08:23:25.573Z"
      },
      {
        "duration": 153,
        "start_time": "2023-02-07T08:23:25.594Z"
      },
      {
        "duration": 608,
        "start_time": "2023-02-07T08:23:25.749Z"
      },
      {
        "duration": 634,
        "start_time": "2023-02-07T08:23:26.359Z"
      },
      {
        "duration": 562,
        "start_time": "2023-02-07T08:23:26.995Z"
      },
      {
        "duration": 3,
        "start_time": "2023-02-07T08:23:27.559Z"
      },
      {
        "duration": 23,
        "start_time": "2023-02-07T08:23:27.564Z"
      },
      {
        "duration": 357,
        "start_time": "2023-02-07T08:23:27.588Z"
      },
      {
        "duration": 93,
        "start_time": "2023-02-07T08:23:27.948Z"
      },
      {
        "duration": 4,
        "start_time": "2023-02-07T08:23:28.043Z"
      },
      {
        "duration": 35,
        "start_time": "2023-02-07T08:23:28.138Z"
      },
      {
        "duration": 9,
        "start_time": "2023-02-07T08:23:28.175Z"
      },
      {
        "duration": 191,
        "start_time": "2023-02-07T08:23:28.186Z"
      },
      {
        "duration": 3,
        "start_time": "2023-02-07T08:23:28.378Z"
      },
      {
        "duration": 11,
        "start_time": "2023-02-07T08:23:28.383Z"
      },
      {
        "duration": 6,
        "start_time": "2023-02-07T08:23:28.396Z"
      },
      {
        "duration": 6,
        "start_time": "2023-02-07T08:23:28.403Z"
      },
      {
        "duration": 4274,
        "start_time": "2023-02-07T08:23:28.410Z"
      },
      {
        "duration": 4,
        "start_time": "2023-02-07T08:23:32.686Z"
      },
      {
        "duration": 18,
        "start_time": "2023-02-07T08:23:32.692Z"
      },
      {
        "duration": 1968,
        "start_time": "2023-02-07T22:59:39.173Z"
      },
      {
        "duration": 372,
        "start_time": "2023-02-07T22:59:41.143Z"
      },
      {
        "duration": 13,
        "start_time": "2023-02-07T22:59:41.517Z"
      },
      {
        "duration": 27,
        "start_time": "2023-02-07T22:59:41.533Z"
      },
      {
        "duration": 47,
        "start_time": "2023-02-07T22:59:41.561Z"
      },
      {
        "duration": 57,
        "start_time": "2023-02-07T22:59:41.610Z"
      },
      {
        "duration": 21,
        "start_time": "2023-02-07T22:59:41.668Z"
      },
      {
        "duration": 18,
        "start_time": "2023-02-07T22:59:41.691Z"
      },
      {
        "duration": 36,
        "start_time": "2023-02-07T22:59:41.710Z"
      },
      {
        "duration": 46,
        "start_time": "2023-02-07T22:59:41.749Z"
      },
      {
        "duration": 9,
        "start_time": "2023-02-07T22:59:41.798Z"
      },
      {
        "duration": 18,
        "start_time": "2023-02-07T22:59:41.809Z"
      },
      {
        "duration": 54,
        "start_time": "2023-02-07T22:59:41.829Z"
      },
      {
        "duration": 20,
        "start_time": "2023-02-07T22:59:41.886Z"
      },
      {
        "duration": 151,
        "start_time": "2023-02-07T22:59:41.908Z"
      },
      {
        "duration": 539,
        "start_time": "2023-02-07T22:59:42.061Z"
      },
      {
        "duration": 591,
        "start_time": "2023-02-07T22:59:42.602Z"
      },
      {
        "duration": 565,
        "start_time": "2023-02-07T22:59:43.195Z"
      },
      {
        "duration": 3,
        "start_time": "2023-02-07T22:59:43.762Z"
      },
      {
        "duration": 16,
        "start_time": "2023-02-07T22:59:43.767Z"
      },
      {
        "duration": 397,
        "start_time": "2023-02-07T22:59:43.786Z"
      },
      {
        "duration": 8,
        "start_time": "2023-02-07T22:59:44.185Z"
      },
      {
        "duration": 10,
        "start_time": "2023-02-07T22:59:44.281Z"
      },
      {
        "duration": 9,
        "start_time": "2023-02-07T22:59:44.294Z"
      },
      {
        "duration": 11,
        "start_time": "2023-02-07T22:59:44.305Z"
      },
      {
        "duration": 206,
        "start_time": "2023-02-07T22:59:44.318Z"
      },
      {
        "duration": 4,
        "start_time": "2023-02-07T22:59:44.526Z"
      },
      {
        "duration": 6,
        "start_time": "2023-02-07T22:59:44.534Z"
      },
      {
        "duration": 14,
        "start_time": "2023-02-07T22:59:44.543Z"
      },
      {
        "duration": 9,
        "start_time": "2023-02-07T22:59:44.559Z"
      },
      {
        "duration": 4509,
        "start_time": "2023-02-07T22:59:44.569Z"
      },
      {
        "duration": 6,
        "start_time": "2023-02-07T22:59:49.080Z"
      },
      {
        "duration": 25,
        "start_time": "2023-02-07T22:59:49.088Z"
      },
      {
        "duration": 5,
        "start_time": "2023-02-07T23:04:12.572Z"
      },
      {
        "duration": 4298,
        "start_time": "2023-02-07T23:04:13.136Z"
      },
      {
        "duration": 4,
        "start_time": "2023-02-07T23:04:17.436Z"
      },
      {
        "duration": 12,
        "start_time": "2023-02-07T23:04:17.442Z"
      },
      {
        "duration": 5,
        "start_time": "2023-02-07T23:04:25.665Z"
      },
      {
        "duration": 4233,
        "start_time": "2023-02-07T23:04:25.927Z"
      },
      {
        "duration": 4,
        "start_time": "2023-02-07T23:04:30.162Z"
      },
      {
        "duration": 84,
        "start_time": "2023-02-07T23:04:30.168Z"
      },
      {
        "duration": 4,
        "start_time": "2023-02-07T23:04:54.405Z"
      },
      {
        "duration": 4,
        "start_time": "2023-02-07T23:05:05.428Z"
      },
      {
        "duration": 4,
        "start_time": "2023-02-07T23:05:12.638Z"
      },
      {
        "duration": 1743,
        "start_time": "2023-02-08T05:55:00.074Z"
      },
      {
        "duration": 1674,
        "start_time": "2023-02-08T05:55:01.818Z"
      },
      {
        "duration": 16,
        "start_time": "2023-02-08T05:55:03.494Z"
      },
      {
        "duration": 28,
        "start_time": "2023-02-08T05:55:03.512Z"
      },
      {
        "duration": 86,
        "start_time": "2023-02-08T05:55:03.543Z"
      },
      {
        "duration": 83,
        "start_time": "2023-02-08T05:55:03.631Z"
      },
      {
        "duration": 10,
        "start_time": "2023-02-08T05:55:03.715Z"
      },
      {
        "duration": 23,
        "start_time": "2023-02-08T05:55:03.726Z"
      },
      {
        "duration": 54,
        "start_time": "2023-02-08T05:55:03.751Z"
      },
      {
        "duration": 22,
        "start_time": "2023-02-08T05:55:03.807Z"
      },
      {
        "duration": 33,
        "start_time": "2023-02-08T05:55:03.831Z"
      },
      {
        "duration": 42,
        "start_time": "2023-02-08T05:55:03.869Z"
      },
      {
        "duration": 34,
        "start_time": "2023-02-08T05:55:03.913Z"
      },
      {
        "duration": 30,
        "start_time": "2023-02-08T05:55:03.950Z"
      },
      {
        "duration": 157,
        "start_time": "2023-02-08T05:55:03.982Z"
      },
      {
        "duration": 631,
        "start_time": "2023-02-08T05:55:04.141Z"
      },
      {
        "duration": 671,
        "start_time": "2023-02-08T05:55:04.774Z"
      },
      {
        "duration": 630,
        "start_time": "2023-02-08T05:55:05.447Z"
      },
      {
        "duration": 2,
        "start_time": "2023-02-08T05:55:06.079Z"
      },
      {
        "duration": 16,
        "start_time": "2023-02-08T05:55:06.083Z"
      },
      {
        "duration": 358,
        "start_time": "2023-02-08T05:55:06.101Z"
      },
      {
        "duration": 11,
        "start_time": "2023-02-08T05:55:06.461Z"
      },
      {
        "duration": 117,
        "start_time": "2023-02-08T05:55:06.475Z"
      },
      {
        "duration": 14,
        "start_time": "2023-02-08T05:55:06.595Z"
      },
      {
        "duration": 14,
        "start_time": "2023-02-08T05:55:06.611Z"
      },
      {
        "duration": 281,
        "start_time": "2023-02-08T05:55:06.627Z"
      },
      {
        "duration": 3,
        "start_time": "2023-02-08T05:55:06.910Z"
      },
      {
        "duration": 7,
        "start_time": "2023-02-08T05:55:06.916Z"
      },
      {
        "duration": 11,
        "start_time": "2023-02-08T05:55:06.925Z"
      },
      {
        "duration": 58,
        "start_time": "2023-02-08T05:55:06.938Z"
      },
      {
        "duration": 1997,
        "start_time": "2023-02-08T05:55:06.998Z"
      },
      {
        "duration": 0,
        "start_time": "2023-02-08T05:55:08.996Z"
      },
      {
        "duration": 0,
        "start_time": "2023-02-08T05:55:08.997Z"
      },
      {
        "duration": 1587,
        "start_time": "2023-02-08T05:55:57.574Z"
      },
      {
        "duration": 489,
        "start_time": "2023-02-08T05:55:59.168Z"
      },
      {
        "duration": 22,
        "start_time": "2023-02-08T05:55:59.670Z"
      },
      {
        "duration": 28,
        "start_time": "2023-02-08T05:55:59.694Z"
      },
      {
        "duration": 49,
        "start_time": "2023-02-08T05:55:59.725Z"
      },
      {
        "duration": 73,
        "start_time": "2023-02-08T05:55:59.782Z"
      },
      {
        "duration": 19,
        "start_time": "2023-02-08T05:55:59.857Z"
      },
      {
        "duration": 36,
        "start_time": "2023-02-08T05:55:59.878Z"
      },
      {
        "duration": 51,
        "start_time": "2023-02-08T05:55:59.916Z"
      },
      {
        "duration": 35,
        "start_time": "2023-02-08T05:55:59.972Z"
      },
      {
        "duration": 11,
        "start_time": "2023-02-08T05:56:00.008Z"
      },
      {
        "duration": 26,
        "start_time": "2023-02-08T05:56:00.021Z"
      },
      {
        "duration": 50,
        "start_time": "2023-02-08T05:56:00.049Z"
      },
      {
        "duration": 27,
        "start_time": "2023-02-08T05:56:00.103Z"
      },
      {
        "duration": 177,
        "start_time": "2023-02-08T05:56:00.132Z"
      },
      {
        "duration": 633,
        "start_time": "2023-02-08T05:56:00.311Z"
      },
      {
        "duration": 698,
        "start_time": "2023-02-08T05:56:00.946Z"
      },
      {
        "duration": 622,
        "start_time": "2023-02-08T05:56:01.646Z"
      },
      {
        "duration": 2,
        "start_time": "2023-02-08T05:56:02.270Z"
      },
      {
        "duration": 27,
        "start_time": "2023-02-08T05:56:02.274Z"
      },
      {
        "duration": 267,
        "start_time": "2023-02-08T05:56:02.303Z"
      },
      {
        "duration": 13,
        "start_time": "2023-02-08T05:56:02.572Z"
      },
      {
        "duration": 115,
        "start_time": "2023-02-08T05:56:02.587Z"
      },
      {
        "duration": 16,
        "start_time": "2023-02-08T05:56:02.704Z"
      },
      {
        "duration": 9,
        "start_time": "2023-02-08T05:56:02.722Z"
      },
      {
        "duration": 258,
        "start_time": "2023-02-08T05:56:02.733Z"
      },
      {
        "duration": 5,
        "start_time": "2023-02-08T05:56:02.993Z"
      },
      {
        "duration": 14,
        "start_time": "2023-02-08T05:56:03.000Z"
      },
      {
        "duration": 9,
        "start_time": "2023-02-08T05:56:03.015Z"
      },
      {
        "duration": 21,
        "start_time": "2023-02-08T05:56:03.026Z"
      },
      {
        "duration": 1806,
        "start_time": "2023-02-08T05:56:03.049Z"
      },
      {
        "duration": 0,
        "start_time": "2023-02-08T05:56:04.858Z"
      },
      {
        "duration": 0,
        "start_time": "2023-02-08T05:56:04.861Z"
      },
      {
        "duration": 6,
        "start_time": "2023-02-08T05:56:18.093Z"
      },
      {
        "duration": 5092,
        "start_time": "2023-02-08T05:56:25.707Z"
      },
      {
        "duration": 5,
        "start_time": "2023-02-08T05:56:32.889Z"
      },
      {
        "duration": 5,
        "start_time": "2023-02-08T05:56:37.210Z"
      },
      {
        "duration": 98,
        "start_time": "2023-02-08T06:00:05.236Z"
      },
      {
        "duration": 6,
        "start_time": "2023-02-08T06:02:06.077Z"
      },
      {
        "duration": 7,
        "start_time": "2023-02-08T06:03:49.780Z"
      },
      {
        "duration": 107,
        "start_time": "2023-02-08T06:11:47.676Z"
      },
      {
        "duration": 99,
        "start_time": "2023-02-08T06:12:28.600Z"
      },
      {
        "duration": 1731,
        "start_time": "2023-02-08T06:14:27.793Z"
      },
      {
        "duration": 44,
        "start_time": "2023-02-08T08:13:57.652Z"
      },
      {
        "duration": 1506,
        "start_time": "2023-02-08T08:14:11.937Z"
      },
      {
        "duration": 1379,
        "start_time": "2023-02-08T08:14:13.445Z"
      },
      {
        "duration": 12,
        "start_time": "2023-02-08T08:14:14.826Z"
      },
      {
        "duration": 15,
        "start_time": "2023-02-08T08:14:14.839Z"
      },
      {
        "duration": 34,
        "start_time": "2023-02-08T08:14:14.855Z"
      },
      {
        "duration": 67,
        "start_time": "2023-02-08T08:14:14.891Z"
      },
      {
        "duration": 8,
        "start_time": "2023-02-08T08:14:14.960Z"
      },
      {
        "duration": 20,
        "start_time": "2023-02-08T08:14:14.969Z"
      },
      {
        "duration": 48,
        "start_time": "2023-02-08T08:14:14.991Z"
      },
      {
        "duration": 20,
        "start_time": "2023-02-08T08:14:15.041Z"
      },
      {
        "duration": 8,
        "start_time": "2023-02-08T08:14:15.063Z"
      },
      {
        "duration": 16,
        "start_time": "2023-02-08T08:14:15.073Z"
      },
      {
        "duration": 59,
        "start_time": "2023-02-08T08:14:15.091Z"
      },
      {
        "duration": 19,
        "start_time": "2023-02-08T08:14:15.153Z"
      },
      {
        "duration": 124,
        "start_time": "2023-02-08T08:14:15.173Z"
      },
      {
        "duration": 38,
        "start_time": "2023-02-08T08:14:15.299Z"
      },
      {
        "duration": 501,
        "start_time": "2023-02-08T08:14:15.338Z"
      },
      {
        "duration": 551,
        "start_time": "2023-02-08T08:14:15.841Z"
      },
      {
        "duration": 478,
        "start_time": "2023-02-08T08:14:16.394Z"
      },
      {
        "duration": 2,
        "start_time": "2023-02-08T08:14:16.874Z"
      },
      {
        "duration": 7,
        "start_time": "2023-02-08T08:14:16.877Z"
      },
      {
        "duration": 254,
        "start_time": "2023-02-08T08:14:16.886Z"
      },
      {
        "duration": 5,
        "start_time": "2023-02-08T08:14:17.142Z"
      },
      {
        "duration": 100,
        "start_time": "2023-02-08T08:14:17.237Z"
      },
      {
        "duration": 9,
        "start_time": "2023-02-08T08:14:17.339Z"
      },
      {
        "duration": 9,
        "start_time": "2023-02-08T08:14:17.349Z"
      },
      {
        "duration": 172,
        "start_time": "2023-02-08T08:14:17.360Z"
      },
      {
        "duration": 3,
        "start_time": "2023-02-08T08:14:17.536Z"
      },
      {
        "duration": 13,
        "start_time": "2023-02-08T08:14:17.541Z"
      },
      {
        "duration": 15,
        "start_time": "2023-02-08T08:14:17.555Z"
      },
      {
        "duration": 5,
        "start_time": "2023-02-08T08:14:17.572Z"
      },
      {
        "duration": 3878,
        "start_time": "2023-02-08T08:14:17.578Z"
      },
      {
        "duration": 5,
        "start_time": "2023-02-08T08:14:21.458Z"
      },
      {
        "duration": 9,
        "start_time": "2023-02-08T08:14:21.464Z"
      },
      {
        "duration": 28,
        "start_time": "2023-02-08T08:15:52.066Z"
      },
      {
        "duration": 28,
        "start_time": "2023-02-08T08:16:28.475Z"
      },
      {
        "duration": 3,
        "start_time": "2023-02-08T08:32:21.604Z"
      },
      {
        "duration": 77,
        "start_time": "2023-02-08T08:32:39.225Z"
      },
      {
        "duration": 2,
        "start_time": "2023-02-08T08:32:48.369Z"
      },
      {
        "duration": 3,
        "start_time": "2023-02-08T08:32:57.368Z"
      },
      {
        "duration": 133,
        "start_time": "2023-02-08T08:38:24.869Z"
      },
      {
        "duration": 108,
        "start_time": "2023-02-08T08:43:45.610Z"
      },
      {
        "duration": 96,
        "start_time": "2023-02-08T08:43:51.580Z"
      },
      {
        "duration": 81,
        "start_time": "2023-02-08T08:44:04.529Z"
      },
      {
        "duration": 103,
        "start_time": "2023-02-08T08:44:12.214Z"
      },
      {
        "duration": 99,
        "start_time": "2023-02-08T08:44:22.689Z"
      },
      {
        "duration": 9,
        "start_time": "2023-02-08T08:44:44.221Z"
      },
      {
        "duration": 9,
        "start_time": "2023-02-08T08:45:05.514Z"
      },
      {
        "duration": 12,
        "start_time": "2023-02-08T08:45:28.435Z"
      },
      {
        "duration": 40,
        "start_time": "2023-02-08T08:45:37.452Z"
      },
      {
        "duration": 32,
        "start_time": "2023-02-08T08:46:23.576Z"
      },
      {
        "duration": 16,
        "start_time": "2023-02-08T08:47:55.518Z"
      },
      {
        "duration": 24,
        "start_time": "2023-02-08T08:48:05.955Z"
      },
      {
        "duration": 24,
        "start_time": "2023-02-08T08:48:18.552Z"
      },
      {
        "duration": 91,
        "start_time": "2023-02-08T08:49:22.196Z"
      },
      {
        "duration": 292,
        "start_time": "2023-02-08T08:50:42.555Z"
      },
      {
        "duration": 43,
        "start_time": "2023-02-12T10:30:01.288Z"
      },
      {
        "duration": 1462,
        "start_time": "2023-02-12T10:50:26.722Z"
      },
      {
        "duration": 897,
        "start_time": "2023-02-12T10:50:28.186Z"
      },
      {
        "duration": 36,
        "start_time": "2023-02-12T10:50:29.085Z"
      },
      {
        "duration": 25,
        "start_time": "2023-02-12T10:50:29.123Z"
      },
      {
        "duration": 92,
        "start_time": "2023-02-12T10:50:29.150Z"
      },
      {
        "duration": 94,
        "start_time": "2023-02-12T10:50:29.244Z"
      },
      {
        "duration": 19,
        "start_time": "2023-02-12T10:50:29.340Z"
      },
      {
        "duration": 18,
        "start_time": "2023-02-12T10:50:29.360Z"
      },
      {
        "duration": 169,
        "start_time": "2023-02-12T10:50:29.379Z"
      },
      {
        "duration": 29,
        "start_time": "2023-02-12T10:50:29.550Z"
      },
      {
        "duration": 26,
        "start_time": "2023-02-12T10:50:29.581Z"
      },
      {
        "duration": 52,
        "start_time": "2023-02-12T10:50:29.609Z"
      },
      {
        "duration": 499,
        "start_time": "2023-02-12T10:50:29.663Z"
      },
      {
        "duration": 552,
        "start_time": "2023-02-12T10:50:30.166Z"
      },
      {
        "duration": 465,
        "start_time": "2023-02-12T10:50:30.720Z"
      },
      {
        "duration": 3,
        "start_time": "2023-02-12T10:50:31.186Z"
      },
      {
        "duration": 19,
        "start_time": "2023-02-12T10:50:31.190Z"
      },
      {
        "duration": 328,
        "start_time": "2023-02-12T10:50:31.211Z"
      },
      {
        "duration": 6,
        "start_time": "2023-02-12T10:50:31.540Z"
      },
      {
        "duration": 3,
        "start_time": "2023-02-12T10:50:31.638Z"
      },
      {
        "duration": 95,
        "start_time": "2023-02-12T10:50:31.643Z"
      },
      {
        "duration": 9,
        "start_time": "2023-02-12T10:50:31.739Z"
      },
      {
        "duration": 175,
        "start_time": "2023-02-12T10:50:31.750Z"
      },
      {
        "duration": 3,
        "start_time": "2023-02-12T10:50:31.927Z"
      },
      {
        "duration": 16,
        "start_time": "2023-02-12T10:50:31.937Z"
      },
      {
        "duration": 28,
        "start_time": "2023-02-12T10:50:31.955Z"
      },
      {
        "duration": 9,
        "start_time": "2023-02-12T10:50:31.984Z"
      },
      {
        "duration": 3907,
        "start_time": "2023-02-12T10:50:31.994Z"
      },
      {
        "duration": 6,
        "start_time": "2023-02-12T10:50:35.903Z"
      },
      {
        "duration": 10,
        "start_time": "2023-02-12T10:50:35.910Z"
      }
    ],
    "kernelspec": {
      "display_name": "Python 3 (ipykernel)",
      "language": "python",
      "name": "python3"
    },
    "language_info": {
      "codemirror_mode": {
        "name": "ipython",
        "version": 3
      },
      "file_extension": ".py",
      "mimetype": "text/x-python",
      "name": "python",
      "nbconvert_exporter": "python",
      "pygments_lexer": "ipython3",
      "version": "3.9.5"
    },
    "toc": {
      "base_numbering": 1,
      "nav_menu": {},
      "number_sections": true,
      "sideBar": true,
      "skip_h1_title": true,
      "title_cell": "Table of Contents",
      "title_sidebar": "Contents",
      "toc_cell": false,
      "toc_position": {},
      "toc_section_display": true,
      "toc_window_display": false
    },
    "colab": {
      "provenance": []
    }
  },
  "nbformat": 4,
  "nbformat_minor": 0
}