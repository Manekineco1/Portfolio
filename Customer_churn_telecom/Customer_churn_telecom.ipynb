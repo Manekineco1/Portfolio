{
  "cells": [
    {
      "cell_type": "markdown",
      "metadata": {
        "id": "jlGC1LtWYdyE"
      },
      "source": [
        "# Телеком — задача проекта\n",
        "\n",
        "Оператор связи «Ниединогоразрыва.ком» хочет научиться прогнозировать отток клиентов. Если выяснится, что пользователь планирует уйти, ему будут предложены промокоды и специальные условия. Команда оператора собрала персональные данные о некоторых клиентах, информацию об их тарифах и договорах.\n",
        "\n",
        "### Описание услуг\n",
        "\n",
        "Оператор предоставляет два основных типа услуг:\n",
        "\n",
        "1. Стационарную телефонную связь. Возможно подключение телефонного аппарата к нескольким линиям одновременно.\n",
        "2. Интернет. Подключение может быть двух типов: через телефонную линию (DSL*,* от англ. *digital subscriber line*, «цифровая абонентская линия») или оптоволоконный кабель (*Fiber optic*).  \n",
        "\n",
        "Также доступны такие услуги:\n",
        "\n",
        "- Интернет-безопасность: антивирус (*DeviceProtection*) и блокировка небезопасных сайтов (*OnlineSecurity*);\n",
        "- Выделенная линия технической поддержки (*TechSupport*);\n",
        "- Облачное хранилище файлов для резервного копирования данных (*OnlineBackup*);\n",
        "- Стриминговое телевидение (*StreamingTV*) и каталог фильмов (*StreamingMovies*).\n",
        "\n",
        "За услуги клиенты могут платить каждый месяц или заключить договор на 1–2 года. Доступны различные способы расчёта и возможность получения электронного чека.\n",
        "\n",
        "### Описание данных\n",
        "\n",
        "Данные состоят из файлов, полученных из разных источников:\n",
        "\n",
        "- `contract_new.csv` — информация о договоре;\n",
        "- `personal_new.csv` — персональные данные клиента;\n",
        "- `internet_new.csv` — информация об интернет-услугах;\n",
        "- `phone_new.csv` — информация об услугах телефонии.\n",
        "\n",
        "Во всех файлах столбец `customerID` содержит код клиента.\n",
        "\n",
        "Информация о договорах актуальна на 1 февраля 2020."
      ]
    },
    {
      "cell_type": "markdown",
      "metadata": {
        "id": "CqjLv73bQpn6"
      },
      "source": [
        "## План работы:\n",
        "1. Предобработка и исследовательский анализ данных. Объединение всех данных в одну таблицу.\n",
        "\n",
        "2. Машинное обучение\n",
        "\n",
        "2.1. Разделение на выборки\n",
        "\n",
        "2.2. Кодирование, масштабирование\n",
        "\n",
        "2.3. Обучение\n",
        "\n",
        "2.4. Проверка качества модели на тестовой выборке\n",
        "\n",
        "2.5. Исследование важности признаков лучшей модели\n",
        "\n",
        "3. Отчет\n",
        "\n",
        "3.1. Какие трудности возникли, какие ключевые шаги выделяем?\n",
        "\n",
        "3.2. Лучшая модель, гиперпараметры.\n",
        "\n",
        "3.3. Список признаков используемых для обучения лучшей модели."
      ]
    },
    {
      "cell_type": "markdown",
      "metadata": {
        "id": "pa-VlUxAhbQq"
      },
      "source": [
        "#Часть 1"
      ]
    },
    {
      "cell_type": "markdown",
      "metadata": {
        "id": "QucGHh4dEmZ1"
      },
      "source": [
        "## Предобработка и исследовательский анализ данных. Объединение всех данных в одну таблицу."
      ]
    },
    {
      "cell_type": "markdown",
      "metadata": {
        "id": "FuwEkOayq9Km"
      },
      "source": [
        "Импортируем все необходимые библиотеки"
      ]
    },
    {
      "cell_type": "code",
      "execution_count": null,
      "metadata": {
        "colab": {
          "base_uri": "https://localhost:8080/"
        },
        "id": "L9rOHCGA8hDa",
        "outputId": "d2a06727-4585-45ef-8c79-2c787f670a96"
      },
      "outputs": [
        {
          "name": "stdout",
          "output_type": "stream",
          "text": [
            "Looking in indexes: https://pypi.org/simple, https://us-python.pkg.dev/colab-wheels/public/simple/\n",
            "Requirement already satisfied: phik in /usr/local/lib/python3.10/dist-packages (0.12.3)\n",
            "Requirement already satisfied: numpy>=1.18.0 in /usr/local/lib/python3.10/dist-packages (from phik) (1.22.4)\n",
            "Requirement already satisfied: scipy>=1.5.2 in /usr/local/lib/python3.10/dist-packages (from phik) (1.10.1)\n",
            "Requirement already satisfied: pandas>=0.25.1 in /usr/local/lib/python3.10/dist-packages (from phik) (1.5.3)\n",
            "Requirement already satisfied: matplotlib>=2.2.3 in /usr/local/lib/python3.10/dist-packages (from phik) (3.7.1)\n",
            "Requirement already satisfied: joblib>=0.14.1 in /usr/local/lib/python3.10/dist-packages (from phik) (1.2.0)\n",
            "Requirement already satisfied: contourpy>=1.0.1 in /usr/local/lib/python3.10/dist-packages (from matplotlib>=2.2.3->phik) (1.0.7)\n",
            "Requirement already satisfied: cycler>=0.10 in /usr/local/lib/python3.10/dist-packages (from matplotlib>=2.2.3->phik) (0.11.0)\n",
            "Requirement already satisfied: fonttools>=4.22.0 in /usr/local/lib/python3.10/dist-packages (from matplotlib>=2.2.3->phik) (4.39.3)\n",
            "Requirement already satisfied: kiwisolver>=1.0.1 in /usr/local/lib/python3.10/dist-packages (from matplotlib>=2.2.3->phik) (1.4.4)\n",
            "Requirement already satisfied: packaging>=20.0 in /usr/local/lib/python3.10/dist-packages (from matplotlib>=2.2.3->phik) (23.1)\n",
            "Requirement already satisfied: pillow>=6.2.0 in /usr/local/lib/python3.10/dist-packages (from matplotlib>=2.2.3->phik) (8.4.0)\n",
            "Requirement already satisfied: pyparsing>=2.3.1 in /usr/local/lib/python3.10/dist-packages (from matplotlib>=2.2.3->phik) (3.0.9)\n",
            "Requirement already satisfied: python-dateutil>=2.7 in /usr/local/lib/python3.10/dist-packages (from matplotlib>=2.2.3->phik) (2.8.2)\n",
            "Requirement already satisfied: pytz>=2020.1 in /usr/local/lib/python3.10/dist-packages (from pandas>=0.25.1->phik) (2022.7.1)\n",
            "Requirement already satisfied: six>=1.5 in /usr/local/lib/python3.10/dist-packages (from python-dateutil>=2.7->matplotlib>=2.2.3->phik) (1.16.0)\n",
            "Looking in indexes: https://pypi.org/simple, https://us-python.pkg.dev/colab-wheels/public/simple/\n",
            "Requirement already satisfied: catboost in /usr/local/lib/python3.10/dist-packages (1.2)\n",
            "Requirement already satisfied: graphviz in /usr/local/lib/python3.10/dist-packages (from catboost) (0.20.1)\n",
            "Requirement already satisfied: matplotlib in /usr/local/lib/python3.10/dist-packages (from catboost) (3.7.1)\n",
            "Requirement already satisfied: numpy>=1.16.0 in /usr/local/lib/python3.10/dist-packages (from catboost) (1.22.4)\n",
            "Requirement already satisfied: pandas>=0.24 in /usr/local/lib/python3.10/dist-packages (from catboost) (1.5.3)\n",
            "Requirement already satisfied: scipy in /usr/local/lib/python3.10/dist-packages (from catboost) (1.10.1)\n",
            "Requirement already satisfied: plotly in /usr/local/lib/python3.10/dist-packages (from catboost) (5.13.1)\n",
            "Requirement already satisfied: six in /usr/local/lib/python3.10/dist-packages (from catboost) (1.16.0)\n",
            "Requirement already satisfied: python-dateutil>=2.8.1 in /usr/local/lib/python3.10/dist-packages (from pandas>=0.24->catboost) (2.8.2)\n",
            "Requirement already satisfied: pytz>=2020.1 in /usr/local/lib/python3.10/dist-packages (from pandas>=0.24->catboost) (2022.7.1)\n",
            "Requirement already satisfied: contourpy>=1.0.1 in /usr/local/lib/python3.10/dist-packages (from matplotlib->catboost) (1.0.7)\n",
            "Requirement already satisfied: cycler>=0.10 in /usr/local/lib/python3.10/dist-packages (from matplotlib->catboost) (0.11.0)\n",
            "Requirement already satisfied: fonttools>=4.22.0 in /usr/local/lib/python3.10/dist-packages (from matplotlib->catboost) (4.39.3)\n",
            "Requirement already satisfied: kiwisolver>=1.0.1 in /usr/local/lib/python3.10/dist-packages (from matplotlib->catboost) (1.4.4)\n",
            "Requirement already satisfied: packaging>=20.0 in /usr/local/lib/python3.10/dist-packages (from matplotlib->catboost) (23.1)\n",
            "Requirement already satisfied: pillow>=6.2.0 in /usr/local/lib/python3.10/dist-packages (from matplotlib->catboost) (8.4.0)\n",
            "Requirement already satisfied: pyparsing>=2.3.1 in /usr/local/lib/python3.10/dist-packages (from matplotlib->catboost) (3.0.9)\n",
            "Requirement already satisfied: tenacity>=6.2.0 in /usr/local/lib/python3.10/dist-packages (from plotly->catboost) (8.2.2)\n",
            "Looking in indexes: https://pypi.org/simple, https://us-python.pkg.dev/colab-wheels/public/simple/\n",
            "Requirement already satisfied: shap in /usr/local/lib/python3.10/dist-packages (0.41.0)\n",
            "Requirement already satisfied: numpy in /usr/local/lib/python3.10/dist-packages (from shap) (1.22.4)\n",
            "Requirement already satisfied: scipy in /usr/local/lib/python3.10/dist-packages (from shap) (1.10.1)\n",
            "Requirement already satisfied: scikit-learn in /usr/local/lib/python3.10/dist-packages (from shap) (1.2.2)\n",
            "Requirement already satisfied: pandas in /usr/local/lib/python3.10/dist-packages (from shap) (1.5.3)\n",
            "Requirement already satisfied: tqdm>4.25.0 in /usr/local/lib/python3.10/dist-packages (from shap) (4.65.0)\n",
            "Requirement already satisfied: packaging>20.9 in /usr/local/lib/python3.10/dist-packages (from shap) (23.1)\n",
            "Requirement already satisfied: slicer==0.0.7 in /usr/local/lib/python3.10/dist-packages (from shap) (0.0.7)\n",
            "Requirement already satisfied: numba in /usr/local/lib/python3.10/dist-packages (from shap) (0.56.4)\n",
            "Requirement already satisfied: cloudpickle in /usr/local/lib/python3.10/dist-packages (from shap) (2.2.1)\n",
            "Requirement already satisfied: llvmlite<0.40,>=0.39.0dev0 in /usr/local/lib/python3.10/dist-packages (from numba->shap) (0.39.1)\n",
            "Requirement already satisfied: setuptools in /usr/local/lib/python3.10/dist-packages (from numba->shap) (67.7.2)\n",
            "Requirement already satisfied: python-dateutil>=2.8.1 in /usr/local/lib/python3.10/dist-packages (from pandas->shap) (2.8.2)\n",
            "Requirement already satisfied: pytz>=2020.1 in /usr/local/lib/python3.10/dist-packages (from pandas->shap) (2022.7.1)\n",
            "Requirement already satisfied: joblib>=1.1.1 in /usr/local/lib/python3.10/dist-packages (from scikit-learn->shap) (1.2.0)\n",
            "Requirement already satisfied: threadpoolctl>=2.0.0 in /usr/local/lib/python3.10/dist-packages (from scikit-learn->shap) (3.1.0)\n",
            "Requirement already satisfied: six>=1.5 in /usr/local/lib/python3.10/dist-packages (from python-dateutil>=2.8.1->pandas->shap) (1.16.0)\n"
          ]
        }
      ],
      "source": [
        "import os\n",
        "import pandas as pd\n",
        "import numpy as np\n",
        "import seaborn as sns\n",
        "import matplotlib.pyplot as plt\n",
        "from sklearn.model_selection import train_test_split\n",
        "\n",
        "!pip install phik\n",
        "import phik\n",
        "from phik.report import plot_correlation_matrix\n",
        "from phik import report\n",
        "\n",
        "from sklearn.compose import ColumnTransformer, make_column_transformer\n",
        "from sklearn.preprocessing import OneHotEncoder, LabelEncoder, StandardScaler\n",
        "from sklearn.impute import SimpleImputer\n",
        "from sklearn.pipeline import Pipeline\n",
        "from sklearn import preprocessing\n",
        "\n",
        "from sklearn.linear_model import LogisticRegression\n",
        "from sklearn.model_selection import GridSearchCV, cross_val_score\n",
        "!pip install catboost\n",
        "from catboost import CatBoostClassifier\n",
        "from lightgbm import LGBMClassifier\n",
        "from multiprocessing import Pool\n",
        "from sklearn.metrics import get_scorer_names, make_scorer, roc_auc_score\n",
        "\n",
        "!pip install shap\n",
        "import shap\n",
        "from sklearn.metrics import confusion_matrix\n",
        "\n",
        "RANDOM_STATE = 220523\n",
        "\n",
        "import warnings\n",
        "warnings.filterwarnings(\"ignore\")"
      ]
    },
    {
      "cell_type": "code",
      "execution_count": null,
      "metadata": {
        "id": "rtU5FjcR97FO"
      },
      "outputs": [],
      "source": [
        "try:\n",
        "    internet_new = pd.read_csv('C:\\Anna\\Yandex_Praktikum\\Final_project\\Datasets\\internet_new.csv')\n",
        "    contract_new = pd.read_csv('C:\\Anna\\Yandex_Praktikum\\Final_project\\Datasets\\contract_new.csv')\n",
        "    personal_new = pd.read_csv('C:\\Anna\\Yandex_Praktikum\\Final_project\\Datasets\\personal_new.csv')\n",
        "    phone_new = pd.read_csv('C:\\Anna\\Yandex_Praktikum\\Final_project\\Datasets\\phone_new.csv')\n",
        "except:\n",
        "    internet_new = pd.read_csv('https://code.s3.yandex.net/datasets/internet_new.csv')\n",
        "    contract_new = pd.read_csv('https://code.s3.yandex.net/datasets/contract_new.csv')\n",
        "    personal_new = pd.read_csv('https://code.s3.yandex.net/datasets/personal_new.csv')\n",
        "    phone_new = pd.read_csv('https://code.s3.yandex.net/datasets/phone_new.csv')"
      ]
    },
    {
      "cell_type": "markdown",
      "metadata": {
        "id": "3kI1R7ZHkABG"
      },
      "source": [
        " Выведем info, head и describe по нашим датасетам\n",
        "  "
      ]
    },
    {
      "cell_type": "code",
      "execution_count": null,
      "metadata": {
        "colab": {
          "base_uri": "https://localhost:8080/",
          "height": 1000
        },
        "id": "K3cLZteDYXDp",
        "outputId": "91f9e7e4-1275-4029-8134-2274b2013f8e"
      },
      "outputs": [
        {
          "name": "stdout",
          "output_type": "stream",
          "text": [
            "<class 'pandas.core.frame.DataFrame'>\n",
            "RangeIndex: 5517 entries, 0 to 5516\n",
            "Data columns (total 8 columns):\n",
            " #   Column            Non-Null Count  Dtype \n",
            "---  ------            --------------  ----- \n",
            " 0   customerID        5517 non-null   object\n",
            " 1   InternetService   5517 non-null   object\n",
            " 2   OnlineSecurity    5517 non-null   object\n",
            " 3   OnlineBackup      5517 non-null   object\n",
            " 4   DeviceProtection  5517 non-null   object\n",
            " 5   TechSupport       5517 non-null   object\n",
            " 6   StreamingTV       5517 non-null   object\n",
            " 7   StreamingMovies   5517 non-null   object\n",
            "dtypes: object(8)\n",
            "memory usage: 344.9+ KB\n"
          ]
        },
        {
          "data": {
            "text/plain": [
              "None"
            ]
          },
          "metadata": {},
          "output_type": "display_data"
        },
        {
          "data": {
            "text/html": [
              "\n",
              "  <div id=\"df-1283459c-568c-43a4-bbeb-fe4f836cbdd4\">\n",
              "    <div class=\"colab-df-container\">\n",
              "      <div>\n",
              "<style scoped>\n",
              "    .dataframe tbody tr th:only-of-type {\n",
              "        vertical-align: middle;\n",
              "    }\n",
              "\n",
              "    .dataframe tbody tr th {\n",
              "        vertical-align: top;\n",
              "    }\n",
              "\n",
              "    .dataframe thead th {\n",
              "        text-align: right;\n",
              "    }\n",
              "</style>\n",
              "<table border=\"1\" class=\"dataframe\">\n",
              "  <thead>\n",
              "    <tr style=\"text-align: right;\">\n",
              "      <th></th>\n",
              "      <th>customerID</th>\n",
              "      <th>InternetService</th>\n",
              "      <th>OnlineSecurity</th>\n",
              "      <th>OnlineBackup</th>\n",
              "      <th>DeviceProtection</th>\n",
              "      <th>TechSupport</th>\n",
              "      <th>StreamingTV</th>\n",
              "      <th>StreamingMovies</th>\n",
              "    </tr>\n",
              "  </thead>\n",
              "  <tbody>\n",
              "    <tr>\n",
              "      <th>0</th>\n",
              "      <td>7590-VHVEG</td>\n",
              "      <td>DSL</td>\n",
              "      <td>No</td>\n",
              "      <td>Yes</td>\n",
              "      <td>No</td>\n",
              "      <td>No</td>\n",
              "      <td>No</td>\n",
              "      <td>No</td>\n",
              "    </tr>\n",
              "    <tr>\n",
              "      <th>1</th>\n",
              "      <td>5575-GNVDE</td>\n",
              "      <td>DSL</td>\n",
              "      <td>Yes</td>\n",
              "      <td>No</td>\n",
              "      <td>Yes</td>\n",
              "      <td>No</td>\n",
              "      <td>No</td>\n",
              "      <td>No</td>\n",
              "    </tr>\n",
              "    <tr>\n",
              "      <th>2</th>\n",
              "      <td>3668-QPYBK</td>\n",
              "      <td>DSL</td>\n",
              "      <td>Yes</td>\n",
              "      <td>Yes</td>\n",
              "      <td>No</td>\n",
              "      <td>No</td>\n",
              "      <td>No</td>\n",
              "      <td>No</td>\n",
              "    </tr>\n",
              "    <tr>\n",
              "      <th>3</th>\n",
              "      <td>7795-CFOCW</td>\n",
              "      <td>DSL</td>\n",
              "      <td>Yes</td>\n",
              "      <td>No</td>\n",
              "      <td>Yes</td>\n",
              "      <td>Yes</td>\n",
              "      <td>No</td>\n",
              "      <td>No</td>\n",
              "    </tr>\n",
              "    <tr>\n",
              "      <th>4</th>\n",
              "      <td>9237-HQITU</td>\n",
              "      <td>Fiber optic</td>\n",
              "      <td>No</td>\n",
              "      <td>No</td>\n",
              "      <td>No</td>\n",
              "      <td>No</td>\n",
              "      <td>No</td>\n",
              "      <td>No</td>\n",
              "    </tr>\n",
              "  </tbody>\n",
              "</table>\n",
              "</div>\n",
              "      <button class=\"colab-df-convert\" onclick=\"convertToInteractive('df-1283459c-568c-43a4-bbeb-fe4f836cbdd4')\"\n",
              "              title=\"Convert this dataframe to an interactive table.\"\n",
              "              style=\"display:none;\">\n",
              "        \n",
              "  <svg xmlns=\"http://www.w3.org/2000/svg\" height=\"24px\"viewBox=\"0 0 24 24\"\n",
              "       width=\"24px\">\n",
              "    <path d=\"M0 0h24v24H0V0z\" fill=\"none\"/>\n",
              "    <path d=\"M18.56 5.44l.94 2.06.94-2.06 2.06-.94-2.06-.94-.94-2.06-.94 2.06-2.06.94zm-11 1L8.5 8.5l.94-2.06 2.06-.94-2.06-.94L8.5 2.5l-.94 2.06-2.06.94zm10 10l.94 2.06.94-2.06 2.06-.94-2.06-.94-.94-2.06-.94 2.06-2.06.94z\"/><path d=\"M17.41 7.96l-1.37-1.37c-.4-.4-.92-.59-1.43-.59-.52 0-1.04.2-1.43.59L10.3 9.45l-7.72 7.72c-.78.78-.78 2.05 0 2.83L4 21.41c.39.39.9.59 1.41.59.51 0 1.02-.2 1.41-.59l7.78-7.78 2.81-2.81c.8-.78.8-2.07 0-2.86zM5.41 20L4 18.59l7.72-7.72 1.47 1.35L5.41 20z\"/>\n",
              "  </svg>\n",
              "      </button>\n",
              "      \n",
              "  <style>\n",
              "    .colab-df-container {\n",
              "      display:flex;\n",
              "      flex-wrap:wrap;\n",
              "      gap: 12px;\n",
              "    }\n",
              "\n",
              "    .colab-df-convert {\n",
              "      background-color: #E8F0FE;\n",
              "      border: none;\n",
              "      border-radius: 50%;\n",
              "      cursor: pointer;\n",
              "      display: none;\n",
              "      fill: #1967D2;\n",
              "      height: 32px;\n",
              "      padding: 0 0 0 0;\n",
              "      width: 32px;\n",
              "    }\n",
              "\n",
              "    .colab-df-convert:hover {\n",
              "      background-color: #E2EBFA;\n",
              "      box-shadow: 0px 1px 2px rgba(60, 64, 67, 0.3), 0px 1px 3px 1px rgba(60, 64, 67, 0.15);\n",
              "      fill: #174EA6;\n",
              "    }\n",
              "\n",
              "    [theme=dark] .colab-df-convert {\n",
              "      background-color: #3B4455;\n",
              "      fill: #D2E3FC;\n",
              "    }\n",
              "\n",
              "    [theme=dark] .colab-df-convert:hover {\n",
              "      background-color: #434B5C;\n",
              "      box-shadow: 0px 1px 3px 1px rgba(0, 0, 0, 0.15);\n",
              "      filter: drop-shadow(0px 1px 2px rgba(0, 0, 0, 0.3));\n",
              "      fill: #FFFFFF;\n",
              "    }\n",
              "  </style>\n",
              "\n",
              "      <script>\n",
              "        const buttonEl =\n",
              "          document.querySelector('#df-1283459c-568c-43a4-bbeb-fe4f836cbdd4 button.colab-df-convert');\n",
              "        buttonEl.style.display =\n",
              "          google.colab.kernel.accessAllowed ? 'block' : 'none';\n",
              "\n",
              "        async function convertToInteractive(key) {\n",
              "          const element = document.querySelector('#df-1283459c-568c-43a4-bbeb-fe4f836cbdd4');\n",
              "          const dataTable =\n",
              "            await google.colab.kernel.invokeFunction('convertToInteractive',\n",
              "                                                     [key], {});\n",
              "          if (!dataTable) return;\n",
              "\n",
              "          const docLinkHtml = 'Like what you see? Visit the ' +\n",
              "            '<a target=\"_blank\" href=https://colab.research.google.com/notebooks/data_table.ipynb>data table notebook</a>'\n",
              "            + ' to learn more about interactive tables.';\n",
              "          element.innerHTML = '';\n",
              "          dataTable['output_type'] = 'display_data';\n",
              "          await google.colab.output.renderOutput(dataTable, element);\n",
              "          const docLink = document.createElement('div');\n",
              "          docLink.innerHTML = docLinkHtml;\n",
              "          element.appendChild(docLink);\n",
              "        }\n",
              "      </script>\n",
              "    </div>\n",
              "  </div>\n",
              "  "
            ],
            "text/plain": [
              "   customerID InternetService OnlineSecurity OnlineBackup DeviceProtection  \\\n",
              "0  7590-VHVEG             DSL             No          Yes               No   \n",
              "1  5575-GNVDE             DSL            Yes           No              Yes   \n",
              "2  3668-QPYBK             DSL            Yes          Yes               No   \n",
              "3  7795-CFOCW             DSL            Yes           No              Yes   \n",
              "4  9237-HQITU     Fiber optic             No           No               No   \n",
              "\n",
              "  TechSupport StreamingTV StreamingMovies  \n",
              "0          No          No              No  \n",
              "1          No          No              No  \n",
              "2          No          No              No  \n",
              "3         Yes          No              No  \n",
              "4          No          No              No  "
            ]
          },
          "metadata": {},
          "output_type": "display_data"
        },
        {
          "data": {
            "text/html": [
              "\n",
              "  <div id=\"df-50eacb8d-c159-4667-b859-16a1c6f007c2\">\n",
              "    <div class=\"colab-df-container\">\n",
              "      <div>\n",
              "<style scoped>\n",
              "    .dataframe tbody tr th:only-of-type {\n",
              "        vertical-align: middle;\n",
              "    }\n",
              "\n",
              "    .dataframe tbody tr th {\n",
              "        vertical-align: top;\n",
              "    }\n",
              "\n",
              "    .dataframe thead th {\n",
              "        text-align: right;\n",
              "    }\n",
              "</style>\n",
              "<table border=\"1\" class=\"dataframe\">\n",
              "  <thead>\n",
              "    <tr style=\"text-align: right;\">\n",
              "      <th></th>\n",
              "      <th>customerID</th>\n",
              "      <th>InternetService</th>\n",
              "      <th>OnlineSecurity</th>\n",
              "      <th>OnlineBackup</th>\n",
              "      <th>DeviceProtection</th>\n",
              "      <th>TechSupport</th>\n",
              "      <th>StreamingTV</th>\n",
              "      <th>StreamingMovies</th>\n",
              "    </tr>\n",
              "  </thead>\n",
              "  <tbody>\n",
              "    <tr>\n",
              "      <th>count</th>\n",
              "      <td>5517</td>\n",
              "      <td>5517</td>\n",
              "      <td>5517</td>\n",
              "      <td>5517</td>\n",
              "      <td>5517</td>\n",
              "      <td>5517</td>\n",
              "      <td>5517</td>\n",
              "      <td>5517</td>\n",
              "    </tr>\n",
              "    <tr>\n",
              "      <th>unique</th>\n",
              "      <td>5517</td>\n",
              "      <td>2</td>\n",
              "      <td>2</td>\n",
              "      <td>2</td>\n",
              "      <td>2</td>\n",
              "      <td>2</td>\n",
              "      <td>2</td>\n",
              "      <td>2</td>\n",
              "    </tr>\n",
              "    <tr>\n",
              "      <th>top</th>\n",
              "      <td>7590-VHVEG</td>\n",
              "      <td>Fiber optic</td>\n",
              "      <td>No</td>\n",
              "      <td>No</td>\n",
              "      <td>No</td>\n",
              "      <td>No</td>\n",
              "      <td>No</td>\n",
              "      <td>No</td>\n",
              "    </tr>\n",
              "    <tr>\n",
              "      <th>freq</th>\n",
              "      <td>1</td>\n",
              "      <td>3096</td>\n",
              "      <td>3498</td>\n",
              "      <td>3088</td>\n",
              "      <td>3095</td>\n",
              "      <td>3473</td>\n",
              "      <td>2810</td>\n",
              "      <td>2785</td>\n",
              "    </tr>\n",
              "  </tbody>\n",
              "</table>\n",
              "</div>\n",
              "      <button class=\"colab-df-convert\" onclick=\"convertToInteractive('df-50eacb8d-c159-4667-b859-16a1c6f007c2')\"\n",
              "              title=\"Convert this dataframe to an interactive table.\"\n",
              "              style=\"display:none;\">\n",
              "        \n",
              "  <svg xmlns=\"http://www.w3.org/2000/svg\" height=\"24px\"viewBox=\"0 0 24 24\"\n",
              "       width=\"24px\">\n",
              "    <path d=\"M0 0h24v24H0V0z\" fill=\"none\"/>\n",
              "    <path d=\"M18.56 5.44l.94 2.06.94-2.06 2.06-.94-2.06-.94-.94-2.06-.94 2.06-2.06.94zm-11 1L8.5 8.5l.94-2.06 2.06-.94-2.06-.94L8.5 2.5l-.94 2.06-2.06.94zm10 10l.94 2.06.94-2.06 2.06-.94-2.06-.94-.94-2.06-.94 2.06-2.06.94z\"/><path d=\"M17.41 7.96l-1.37-1.37c-.4-.4-.92-.59-1.43-.59-.52 0-1.04.2-1.43.59L10.3 9.45l-7.72 7.72c-.78.78-.78 2.05 0 2.83L4 21.41c.39.39.9.59 1.41.59.51 0 1.02-.2 1.41-.59l7.78-7.78 2.81-2.81c.8-.78.8-2.07 0-2.86zM5.41 20L4 18.59l7.72-7.72 1.47 1.35L5.41 20z\"/>\n",
              "  </svg>\n",
              "      </button>\n",
              "      \n",
              "  <style>\n",
              "    .colab-df-container {\n",
              "      display:flex;\n",
              "      flex-wrap:wrap;\n",
              "      gap: 12px;\n",
              "    }\n",
              "\n",
              "    .colab-df-convert {\n",
              "      background-color: #E8F0FE;\n",
              "      border: none;\n",
              "      border-radius: 50%;\n",
              "      cursor: pointer;\n",
              "      display: none;\n",
              "      fill: #1967D2;\n",
              "      height: 32px;\n",
              "      padding: 0 0 0 0;\n",
              "      width: 32px;\n",
              "    }\n",
              "\n",
              "    .colab-df-convert:hover {\n",
              "      background-color: #E2EBFA;\n",
              "      box-shadow: 0px 1px 2px rgba(60, 64, 67, 0.3), 0px 1px 3px 1px rgba(60, 64, 67, 0.15);\n",
              "      fill: #174EA6;\n",
              "    }\n",
              "\n",
              "    [theme=dark] .colab-df-convert {\n",
              "      background-color: #3B4455;\n",
              "      fill: #D2E3FC;\n",
              "    }\n",
              "\n",
              "    [theme=dark] .colab-df-convert:hover {\n",
              "      background-color: #434B5C;\n",
              "      box-shadow: 0px 1px 3px 1px rgba(0, 0, 0, 0.15);\n",
              "      filter: drop-shadow(0px 1px 2px rgba(0, 0, 0, 0.3));\n",
              "      fill: #FFFFFF;\n",
              "    }\n",
              "  </style>\n",
              "\n",
              "      <script>\n",
              "        const buttonEl =\n",
              "          document.querySelector('#df-50eacb8d-c159-4667-b859-16a1c6f007c2 button.colab-df-convert');\n",
              "        buttonEl.style.display =\n",
              "          google.colab.kernel.accessAllowed ? 'block' : 'none';\n",
              "\n",
              "        async function convertToInteractive(key) {\n",
              "          const element = document.querySelector('#df-50eacb8d-c159-4667-b859-16a1c6f007c2');\n",
              "          const dataTable =\n",
              "            await google.colab.kernel.invokeFunction('convertToInteractive',\n",
              "                                                     [key], {});\n",
              "          if (!dataTable) return;\n",
              "\n",
              "          const docLinkHtml = 'Like what you see? Visit the ' +\n",
              "            '<a target=\"_blank\" href=https://colab.research.google.com/notebooks/data_table.ipynb>data table notebook</a>'\n",
              "            + ' to learn more about interactive tables.';\n",
              "          element.innerHTML = '';\n",
              "          dataTable['output_type'] = 'display_data';\n",
              "          await google.colab.output.renderOutput(dataTable, element);\n",
              "          const docLink = document.createElement('div');\n",
              "          docLink.innerHTML = docLinkHtml;\n",
              "          element.appendChild(docLink);\n",
              "        }\n",
              "      </script>\n",
              "    </div>\n",
              "  </div>\n",
              "  "
            ],
            "text/plain": [
              "        customerID InternetService OnlineSecurity OnlineBackup  \\\n",
              "count         5517            5517           5517         5517   \n",
              "unique        5517               2              2            2   \n",
              "top     7590-VHVEG     Fiber optic             No           No   \n",
              "freq             1            3096           3498         3088   \n",
              "\n",
              "       DeviceProtection TechSupport StreamingTV StreamingMovies  \n",
              "count              5517        5517        5517            5517  \n",
              "unique                2           2           2               2  \n",
              "top                  No          No          No              No  \n",
              "freq               3095        3473        2810            2785  "
            ]
          },
          "metadata": {},
          "output_type": "display_data"
        },
        {
          "name": "stdout",
          "output_type": "stream",
          "text": [
            "<class 'pandas.core.frame.DataFrame'>\n",
            "RangeIndex: 7043 entries, 0 to 7042\n",
            "Data columns (total 8 columns):\n",
            " #   Column            Non-Null Count  Dtype  \n",
            "---  ------            --------------  -----  \n",
            " 0   customerID        7043 non-null   object \n",
            " 1   BeginDate         7043 non-null   object \n",
            " 2   EndDate           7043 non-null   object \n",
            " 3   Type              7043 non-null   object \n",
            " 4   PaperlessBilling  7043 non-null   object \n",
            " 5   PaymentMethod     7043 non-null   object \n",
            " 6   MonthlyCharges    7043 non-null   float64\n",
            " 7   TotalCharges      7043 non-null   object \n",
            "dtypes: float64(1), object(7)\n",
            "memory usage: 440.3+ KB\n"
          ]
        },
        {
          "data": {
            "text/plain": [
              "None"
            ]
          },
          "metadata": {},
          "output_type": "display_data"
        },
        {
          "data": {
            "text/html": [
              "\n",
              "  <div id=\"df-cf3fc3a8-53d0-4f81-bb29-e130e341817f\">\n",
              "    <div class=\"colab-df-container\">\n",
              "      <div>\n",
              "<style scoped>\n",
              "    .dataframe tbody tr th:only-of-type {\n",
              "        vertical-align: middle;\n",
              "    }\n",
              "\n",
              "    .dataframe tbody tr th {\n",
              "        vertical-align: top;\n",
              "    }\n",
              "\n",
              "    .dataframe thead th {\n",
              "        text-align: right;\n",
              "    }\n",
              "</style>\n",
              "<table border=\"1\" class=\"dataframe\">\n",
              "  <thead>\n",
              "    <tr style=\"text-align: right;\">\n",
              "      <th></th>\n",
              "      <th>customerID</th>\n",
              "      <th>BeginDate</th>\n",
              "      <th>EndDate</th>\n",
              "      <th>Type</th>\n",
              "      <th>PaperlessBilling</th>\n",
              "      <th>PaymentMethod</th>\n",
              "      <th>MonthlyCharges</th>\n",
              "      <th>TotalCharges</th>\n",
              "    </tr>\n",
              "  </thead>\n",
              "  <tbody>\n",
              "    <tr>\n",
              "      <th>0</th>\n",
              "      <td>7590-VHVEG</td>\n",
              "      <td>2020-01-01</td>\n",
              "      <td>No</td>\n",
              "      <td>Month-to-month</td>\n",
              "      <td>Yes</td>\n",
              "      <td>Electronic check</td>\n",
              "      <td>29.85</td>\n",
              "      <td>31.04</td>\n",
              "    </tr>\n",
              "    <tr>\n",
              "      <th>1</th>\n",
              "      <td>5575-GNVDE</td>\n",
              "      <td>2017-04-01</td>\n",
              "      <td>No</td>\n",
              "      <td>One year</td>\n",
              "      <td>No</td>\n",
              "      <td>Mailed check</td>\n",
              "      <td>56.95</td>\n",
              "      <td>2071.84</td>\n",
              "    </tr>\n",
              "    <tr>\n",
              "      <th>2</th>\n",
              "      <td>3668-QPYBK</td>\n",
              "      <td>2019-10-01</td>\n",
              "      <td>No</td>\n",
              "      <td>Month-to-month</td>\n",
              "      <td>Yes</td>\n",
              "      <td>Mailed check</td>\n",
              "      <td>53.85</td>\n",
              "      <td>226.17</td>\n",
              "    </tr>\n",
              "    <tr>\n",
              "      <th>3</th>\n",
              "      <td>7795-CFOCW</td>\n",
              "      <td>2016-05-01</td>\n",
              "      <td>No</td>\n",
              "      <td>One year</td>\n",
              "      <td>No</td>\n",
              "      <td>Bank transfer (automatic)</td>\n",
              "      <td>42.30</td>\n",
              "      <td>1960.6</td>\n",
              "    </tr>\n",
              "    <tr>\n",
              "      <th>4</th>\n",
              "      <td>9237-HQITU</td>\n",
              "      <td>2019-09-01</td>\n",
              "      <td>No</td>\n",
              "      <td>Month-to-month</td>\n",
              "      <td>Yes</td>\n",
              "      <td>Electronic check</td>\n",
              "      <td>70.70</td>\n",
              "      <td>353.5</td>\n",
              "    </tr>\n",
              "  </tbody>\n",
              "</table>\n",
              "</div>\n",
              "      <button class=\"colab-df-convert\" onclick=\"convertToInteractive('df-cf3fc3a8-53d0-4f81-bb29-e130e341817f')\"\n",
              "              title=\"Convert this dataframe to an interactive table.\"\n",
              "              style=\"display:none;\">\n",
              "        \n",
              "  <svg xmlns=\"http://www.w3.org/2000/svg\" height=\"24px\"viewBox=\"0 0 24 24\"\n",
              "       width=\"24px\">\n",
              "    <path d=\"M0 0h24v24H0V0z\" fill=\"none\"/>\n",
              "    <path d=\"M18.56 5.44l.94 2.06.94-2.06 2.06-.94-2.06-.94-.94-2.06-.94 2.06-2.06.94zm-11 1L8.5 8.5l.94-2.06 2.06-.94-2.06-.94L8.5 2.5l-.94 2.06-2.06.94zm10 10l.94 2.06.94-2.06 2.06-.94-2.06-.94-.94-2.06-.94 2.06-2.06.94z\"/><path d=\"M17.41 7.96l-1.37-1.37c-.4-.4-.92-.59-1.43-.59-.52 0-1.04.2-1.43.59L10.3 9.45l-7.72 7.72c-.78.78-.78 2.05 0 2.83L4 21.41c.39.39.9.59 1.41.59.51 0 1.02-.2 1.41-.59l7.78-7.78 2.81-2.81c.8-.78.8-2.07 0-2.86zM5.41 20L4 18.59l7.72-7.72 1.47 1.35L5.41 20z\"/>\n",
              "  </svg>\n",
              "      </button>\n",
              "      \n",
              "  <style>\n",
              "    .colab-df-container {\n",
              "      display:flex;\n",
              "      flex-wrap:wrap;\n",
              "      gap: 12px;\n",
              "    }\n",
              "\n",
              "    .colab-df-convert {\n",
              "      background-color: #E8F0FE;\n",
              "      border: none;\n",
              "      border-radius: 50%;\n",
              "      cursor: pointer;\n",
              "      display: none;\n",
              "      fill: #1967D2;\n",
              "      height: 32px;\n",
              "      padding: 0 0 0 0;\n",
              "      width: 32px;\n",
              "    }\n",
              "\n",
              "    .colab-df-convert:hover {\n",
              "      background-color: #E2EBFA;\n",
              "      box-shadow: 0px 1px 2px rgba(60, 64, 67, 0.3), 0px 1px 3px 1px rgba(60, 64, 67, 0.15);\n",
              "      fill: #174EA6;\n",
              "    }\n",
              "\n",
              "    [theme=dark] .colab-df-convert {\n",
              "      background-color: #3B4455;\n",
              "      fill: #D2E3FC;\n",
              "    }\n",
              "\n",
              "    [theme=dark] .colab-df-convert:hover {\n",
              "      background-color: #434B5C;\n",
              "      box-shadow: 0px 1px 3px 1px rgba(0, 0, 0, 0.15);\n",
              "      filter: drop-shadow(0px 1px 2px rgba(0, 0, 0, 0.3));\n",
              "      fill: #FFFFFF;\n",
              "    }\n",
              "  </style>\n",
              "\n",
              "      <script>\n",
              "        const buttonEl =\n",
              "          document.querySelector('#df-cf3fc3a8-53d0-4f81-bb29-e130e341817f button.colab-df-convert');\n",
              "        buttonEl.style.display =\n",
              "          google.colab.kernel.accessAllowed ? 'block' : 'none';\n",
              "\n",
              "        async function convertToInteractive(key) {\n",
              "          const element = document.querySelector('#df-cf3fc3a8-53d0-4f81-bb29-e130e341817f');\n",
              "          const dataTable =\n",
              "            await google.colab.kernel.invokeFunction('convertToInteractive',\n",
              "                                                     [key], {});\n",
              "          if (!dataTable) return;\n",
              "\n",
              "          const docLinkHtml = 'Like what you see? Visit the ' +\n",
              "            '<a target=\"_blank\" href=https://colab.research.google.com/notebooks/data_table.ipynb>data table notebook</a>'\n",
              "            + ' to learn more about interactive tables.';\n",
              "          element.innerHTML = '';\n",
              "          dataTable['output_type'] = 'display_data';\n",
              "          await google.colab.output.renderOutput(dataTable, element);\n",
              "          const docLink = document.createElement('div');\n",
              "          docLink.innerHTML = docLinkHtml;\n",
              "          element.appendChild(docLink);\n",
              "        }\n",
              "      </script>\n",
              "    </div>\n",
              "  </div>\n",
              "  "
            ],
            "text/plain": [
              "   customerID   BeginDate EndDate            Type PaperlessBilling  \\\n",
              "0  7590-VHVEG  2020-01-01      No  Month-to-month              Yes   \n",
              "1  5575-GNVDE  2017-04-01      No        One year               No   \n",
              "2  3668-QPYBK  2019-10-01      No  Month-to-month              Yes   \n",
              "3  7795-CFOCW  2016-05-01      No        One year               No   \n",
              "4  9237-HQITU  2019-09-01      No  Month-to-month              Yes   \n",
              "\n",
              "               PaymentMethod  MonthlyCharges TotalCharges  \n",
              "0           Electronic check           29.85        31.04  \n",
              "1               Mailed check           56.95      2071.84  \n",
              "2               Mailed check           53.85       226.17  \n",
              "3  Bank transfer (automatic)           42.30       1960.6  \n",
              "4           Electronic check           70.70        353.5  "
            ]
          },
          "metadata": {},
          "output_type": "display_data"
        },
        {
          "data": {
            "text/html": [
              "\n",
              "  <div id=\"df-d9e7de47-ea4e-4a47-8b89-b5e2200a6f5e\">\n",
              "    <div class=\"colab-df-container\">\n",
              "      <div>\n",
              "<style scoped>\n",
              "    .dataframe tbody tr th:only-of-type {\n",
              "        vertical-align: middle;\n",
              "    }\n",
              "\n",
              "    .dataframe tbody tr th {\n",
              "        vertical-align: top;\n",
              "    }\n",
              "\n",
              "    .dataframe thead th {\n",
              "        text-align: right;\n",
              "    }\n",
              "</style>\n",
              "<table border=\"1\" class=\"dataframe\">\n",
              "  <thead>\n",
              "    <tr style=\"text-align: right;\">\n",
              "      <th></th>\n",
              "      <th>MonthlyCharges</th>\n",
              "    </tr>\n",
              "  </thead>\n",
              "  <tbody>\n",
              "    <tr>\n",
              "      <th>count</th>\n",
              "      <td>7043.000000</td>\n",
              "    </tr>\n",
              "    <tr>\n",
              "      <th>mean</th>\n",
              "      <td>64.761692</td>\n",
              "    </tr>\n",
              "    <tr>\n",
              "      <th>std</th>\n",
              "      <td>30.090047</td>\n",
              "    </tr>\n",
              "    <tr>\n",
              "      <th>min</th>\n",
              "      <td>18.250000</td>\n",
              "    </tr>\n",
              "    <tr>\n",
              "      <th>25%</th>\n",
              "      <td>35.500000</td>\n",
              "    </tr>\n",
              "    <tr>\n",
              "      <th>50%</th>\n",
              "      <td>70.350000</td>\n",
              "    </tr>\n",
              "    <tr>\n",
              "      <th>75%</th>\n",
              "      <td>89.850000</td>\n",
              "    </tr>\n",
              "    <tr>\n",
              "      <th>max</th>\n",
              "      <td>118.750000</td>\n",
              "    </tr>\n",
              "  </tbody>\n",
              "</table>\n",
              "</div>\n",
              "      <button class=\"colab-df-convert\" onclick=\"convertToInteractive('df-d9e7de47-ea4e-4a47-8b89-b5e2200a6f5e')\"\n",
              "              title=\"Convert this dataframe to an interactive table.\"\n",
              "              style=\"display:none;\">\n",
              "        \n",
              "  <svg xmlns=\"http://www.w3.org/2000/svg\" height=\"24px\"viewBox=\"0 0 24 24\"\n",
              "       width=\"24px\">\n",
              "    <path d=\"M0 0h24v24H0V0z\" fill=\"none\"/>\n",
              "    <path d=\"M18.56 5.44l.94 2.06.94-2.06 2.06-.94-2.06-.94-.94-2.06-.94 2.06-2.06.94zm-11 1L8.5 8.5l.94-2.06 2.06-.94-2.06-.94L8.5 2.5l-.94 2.06-2.06.94zm10 10l.94 2.06.94-2.06 2.06-.94-2.06-.94-.94-2.06-.94 2.06-2.06.94z\"/><path d=\"M17.41 7.96l-1.37-1.37c-.4-.4-.92-.59-1.43-.59-.52 0-1.04.2-1.43.59L10.3 9.45l-7.72 7.72c-.78.78-.78 2.05 0 2.83L4 21.41c.39.39.9.59 1.41.59.51 0 1.02-.2 1.41-.59l7.78-7.78 2.81-2.81c.8-.78.8-2.07 0-2.86zM5.41 20L4 18.59l7.72-7.72 1.47 1.35L5.41 20z\"/>\n",
              "  </svg>\n",
              "      </button>\n",
              "      \n",
              "  <style>\n",
              "    .colab-df-container {\n",
              "      display:flex;\n",
              "      flex-wrap:wrap;\n",
              "      gap: 12px;\n",
              "    }\n",
              "\n",
              "    .colab-df-convert {\n",
              "      background-color: #E8F0FE;\n",
              "      border: none;\n",
              "      border-radius: 50%;\n",
              "      cursor: pointer;\n",
              "      display: none;\n",
              "      fill: #1967D2;\n",
              "      height: 32px;\n",
              "      padding: 0 0 0 0;\n",
              "      width: 32px;\n",
              "    }\n",
              "\n",
              "    .colab-df-convert:hover {\n",
              "      background-color: #E2EBFA;\n",
              "      box-shadow: 0px 1px 2px rgba(60, 64, 67, 0.3), 0px 1px 3px 1px rgba(60, 64, 67, 0.15);\n",
              "      fill: #174EA6;\n",
              "    }\n",
              "\n",
              "    [theme=dark] .colab-df-convert {\n",
              "      background-color: #3B4455;\n",
              "      fill: #D2E3FC;\n",
              "    }\n",
              "\n",
              "    [theme=dark] .colab-df-convert:hover {\n",
              "      background-color: #434B5C;\n",
              "      box-shadow: 0px 1px 3px 1px rgba(0, 0, 0, 0.15);\n",
              "      filter: drop-shadow(0px 1px 2px rgba(0, 0, 0, 0.3));\n",
              "      fill: #FFFFFF;\n",
              "    }\n",
              "  </style>\n",
              "\n",
              "      <script>\n",
              "        const buttonEl =\n",
              "          document.querySelector('#df-d9e7de47-ea4e-4a47-8b89-b5e2200a6f5e button.colab-df-convert');\n",
              "        buttonEl.style.display =\n",
              "          google.colab.kernel.accessAllowed ? 'block' : 'none';\n",
              "\n",
              "        async function convertToInteractive(key) {\n",
              "          const element = document.querySelector('#df-d9e7de47-ea4e-4a47-8b89-b5e2200a6f5e');\n",
              "          const dataTable =\n",
              "            await google.colab.kernel.invokeFunction('convertToInteractive',\n",
              "                                                     [key], {});\n",
              "          if (!dataTable) return;\n",
              "\n",
              "          const docLinkHtml = 'Like what you see? Visit the ' +\n",
              "            '<a target=\"_blank\" href=https://colab.research.google.com/notebooks/data_table.ipynb>data table notebook</a>'\n",
              "            + ' to learn more about interactive tables.';\n",
              "          element.innerHTML = '';\n",
              "          dataTable['output_type'] = 'display_data';\n",
              "          await google.colab.output.renderOutput(dataTable, element);\n",
              "          const docLink = document.createElement('div');\n",
              "          docLink.innerHTML = docLinkHtml;\n",
              "          element.appendChild(docLink);\n",
              "        }\n",
              "      </script>\n",
              "    </div>\n",
              "  </div>\n",
              "  "
            ],
            "text/plain": [
              "       MonthlyCharges\n",
              "count     7043.000000\n",
              "mean        64.761692\n",
              "std         30.090047\n",
              "min         18.250000\n",
              "25%         35.500000\n",
              "50%         70.350000\n",
              "75%         89.850000\n",
              "max        118.750000"
            ]
          },
          "metadata": {},
          "output_type": "display_data"
        },
        {
          "name": "stdout",
          "output_type": "stream",
          "text": [
            "<class 'pandas.core.frame.DataFrame'>\n",
            "RangeIndex: 7043 entries, 0 to 7042\n",
            "Data columns (total 5 columns):\n",
            " #   Column         Non-Null Count  Dtype \n",
            "---  ------         --------------  ----- \n",
            " 0   customerID     7043 non-null   object\n",
            " 1   gender         7043 non-null   object\n",
            " 2   SeniorCitizen  7043 non-null   int64 \n",
            " 3   Partner        7043 non-null   object\n",
            " 4   Dependents     7043 non-null   object\n",
            "dtypes: int64(1), object(4)\n",
            "memory usage: 275.2+ KB\n"
          ]
        },
        {
          "data": {
            "text/plain": [
              "None"
            ]
          },
          "metadata": {},
          "output_type": "display_data"
        },
        {
          "data": {
            "text/html": [
              "\n",
              "  <div id=\"df-0e487439-8cde-4b2f-a2e1-ae26395b789d\">\n",
              "    <div class=\"colab-df-container\">\n",
              "      <div>\n",
              "<style scoped>\n",
              "    .dataframe tbody tr th:only-of-type {\n",
              "        vertical-align: middle;\n",
              "    }\n",
              "\n",
              "    .dataframe tbody tr th {\n",
              "        vertical-align: top;\n",
              "    }\n",
              "\n",
              "    .dataframe thead th {\n",
              "        text-align: right;\n",
              "    }\n",
              "</style>\n",
              "<table border=\"1\" class=\"dataframe\">\n",
              "  <thead>\n",
              "    <tr style=\"text-align: right;\">\n",
              "      <th></th>\n",
              "      <th>customerID</th>\n",
              "      <th>gender</th>\n",
              "      <th>SeniorCitizen</th>\n",
              "      <th>Partner</th>\n",
              "      <th>Dependents</th>\n",
              "    </tr>\n",
              "  </thead>\n",
              "  <tbody>\n",
              "    <tr>\n",
              "      <th>0</th>\n",
              "      <td>7590-VHVEG</td>\n",
              "      <td>Female</td>\n",
              "      <td>0</td>\n",
              "      <td>Yes</td>\n",
              "      <td>No</td>\n",
              "    </tr>\n",
              "    <tr>\n",
              "      <th>1</th>\n",
              "      <td>5575-GNVDE</td>\n",
              "      <td>Male</td>\n",
              "      <td>0</td>\n",
              "      <td>No</td>\n",
              "      <td>No</td>\n",
              "    </tr>\n",
              "    <tr>\n",
              "      <th>2</th>\n",
              "      <td>3668-QPYBK</td>\n",
              "      <td>Male</td>\n",
              "      <td>0</td>\n",
              "      <td>No</td>\n",
              "      <td>No</td>\n",
              "    </tr>\n",
              "    <tr>\n",
              "      <th>3</th>\n",
              "      <td>7795-CFOCW</td>\n",
              "      <td>Male</td>\n",
              "      <td>0</td>\n",
              "      <td>No</td>\n",
              "      <td>No</td>\n",
              "    </tr>\n",
              "    <tr>\n",
              "      <th>4</th>\n",
              "      <td>9237-HQITU</td>\n",
              "      <td>Female</td>\n",
              "      <td>0</td>\n",
              "      <td>No</td>\n",
              "      <td>No</td>\n",
              "    </tr>\n",
              "  </tbody>\n",
              "</table>\n",
              "</div>\n",
              "      <button class=\"colab-df-convert\" onclick=\"convertToInteractive('df-0e487439-8cde-4b2f-a2e1-ae26395b789d')\"\n",
              "              title=\"Convert this dataframe to an interactive table.\"\n",
              "              style=\"display:none;\">\n",
              "        \n",
              "  <svg xmlns=\"http://www.w3.org/2000/svg\" height=\"24px\"viewBox=\"0 0 24 24\"\n",
              "       width=\"24px\">\n",
              "    <path d=\"M0 0h24v24H0V0z\" fill=\"none\"/>\n",
              "    <path d=\"M18.56 5.44l.94 2.06.94-2.06 2.06-.94-2.06-.94-.94-2.06-.94 2.06-2.06.94zm-11 1L8.5 8.5l.94-2.06 2.06-.94-2.06-.94L8.5 2.5l-.94 2.06-2.06.94zm10 10l.94 2.06.94-2.06 2.06-.94-2.06-.94-.94-2.06-.94 2.06-2.06.94z\"/><path d=\"M17.41 7.96l-1.37-1.37c-.4-.4-.92-.59-1.43-.59-.52 0-1.04.2-1.43.59L10.3 9.45l-7.72 7.72c-.78.78-.78 2.05 0 2.83L4 21.41c.39.39.9.59 1.41.59.51 0 1.02-.2 1.41-.59l7.78-7.78 2.81-2.81c.8-.78.8-2.07 0-2.86zM5.41 20L4 18.59l7.72-7.72 1.47 1.35L5.41 20z\"/>\n",
              "  </svg>\n",
              "      </button>\n",
              "      \n",
              "  <style>\n",
              "    .colab-df-container {\n",
              "      display:flex;\n",
              "      flex-wrap:wrap;\n",
              "      gap: 12px;\n",
              "    }\n",
              "\n",
              "    .colab-df-convert {\n",
              "      background-color: #E8F0FE;\n",
              "      border: none;\n",
              "      border-radius: 50%;\n",
              "      cursor: pointer;\n",
              "      display: none;\n",
              "      fill: #1967D2;\n",
              "      height: 32px;\n",
              "      padding: 0 0 0 0;\n",
              "      width: 32px;\n",
              "    }\n",
              "\n",
              "    .colab-df-convert:hover {\n",
              "      background-color: #E2EBFA;\n",
              "      box-shadow: 0px 1px 2px rgba(60, 64, 67, 0.3), 0px 1px 3px 1px rgba(60, 64, 67, 0.15);\n",
              "      fill: #174EA6;\n",
              "    }\n",
              "\n",
              "    [theme=dark] .colab-df-convert {\n",
              "      background-color: #3B4455;\n",
              "      fill: #D2E3FC;\n",
              "    }\n",
              "\n",
              "    [theme=dark] .colab-df-convert:hover {\n",
              "      background-color: #434B5C;\n",
              "      box-shadow: 0px 1px 3px 1px rgba(0, 0, 0, 0.15);\n",
              "      filter: drop-shadow(0px 1px 2px rgba(0, 0, 0, 0.3));\n",
              "      fill: #FFFFFF;\n",
              "    }\n",
              "  </style>\n",
              "\n",
              "      <script>\n",
              "        const buttonEl =\n",
              "          document.querySelector('#df-0e487439-8cde-4b2f-a2e1-ae26395b789d button.colab-df-convert');\n",
              "        buttonEl.style.display =\n",
              "          google.colab.kernel.accessAllowed ? 'block' : 'none';\n",
              "\n",
              "        async function convertToInteractive(key) {\n",
              "          const element = document.querySelector('#df-0e487439-8cde-4b2f-a2e1-ae26395b789d');\n",
              "          const dataTable =\n",
              "            await google.colab.kernel.invokeFunction('convertToInteractive',\n",
              "                                                     [key], {});\n",
              "          if (!dataTable) return;\n",
              "\n",
              "          const docLinkHtml = 'Like what you see? Visit the ' +\n",
              "            '<a target=\"_blank\" href=https://colab.research.google.com/notebooks/data_table.ipynb>data table notebook</a>'\n",
              "            + ' to learn more about interactive tables.';\n",
              "          element.innerHTML = '';\n",
              "          dataTable['output_type'] = 'display_data';\n",
              "          await google.colab.output.renderOutput(dataTable, element);\n",
              "          const docLink = document.createElement('div');\n",
              "          docLink.innerHTML = docLinkHtml;\n",
              "          element.appendChild(docLink);\n",
              "        }\n",
              "      </script>\n",
              "    </div>\n",
              "  </div>\n",
              "  "
            ],
            "text/plain": [
              "   customerID  gender  SeniorCitizen Partner Dependents\n",
              "0  7590-VHVEG  Female              0     Yes         No\n",
              "1  5575-GNVDE    Male              0      No         No\n",
              "2  3668-QPYBK    Male              0      No         No\n",
              "3  7795-CFOCW    Male              0      No         No\n",
              "4  9237-HQITU  Female              0      No         No"
            ]
          },
          "metadata": {},
          "output_type": "display_data"
        },
        {
          "data": {
            "text/html": [
              "\n",
              "  <div id=\"df-7d078c52-b8dd-4040-bad2-1e88af52f3d6\">\n",
              "    <div class=\"colab-df-container\">\n",
              "      <div>\n",
              "<style scoped>\n",
              "    .dataframe tbody tr th:only-of-type {\n",
              "        vertical-align: middle;\n",
              "    }\n",
              "\n",
              "    .dataframe tbody tr th {\n",
              "        vertical-align: top;\n",
              "    }\n",
              "\n",
              "    .dataframe thead th {\n",
              "        text-align: right;\n",
              "    }\n",
              "</style>\n",
              "<table border=\"1\" class=\"dataframe\">\n",
              "  <thead>\n",
              "    <tr style=\"text-align: right;\">\n",
              "      <th></th>\n",
              "      <th>SeniorCitizen</th>\n",
              "    </tr>\n",
              "  </thead>\n",
              "  <tbody>\n",
              "    <tr>\n",
              "      <th>count</th>\n",
              "      <td>7043.000000</td>\n",
              "    </tr>\n",
              "    <tr>\n",
              "      <th>mean</th>\n",
              "      <td>0.162147</td>\n",
              "    </tr>\n",
              "    <tr>\n",
              "      <th>std</th>\n",
              "      <td>0.368612</td>\n",
              "    </tr>\n",
              "    <tr>\n",
              "      <th>min</th>\n",
              "      <td>0.000000</td>\n",
              "    </tr>\n",
              "    <tr>\n",
              "      <th>25%</th>\n",
              "      <td>0.000000</td>\n",
              "    </tr>\n",
              "    <tr>\n",
              "      <th>50%</th>\n",
              "      <td>0.000000</td>\n",
              "    </tr>\n",
              "    <tr>\n",
              "      <th>75%</th>\n",
              "      <td>0.000000</td>\n",
              "    </tr>\n",
              "    <tr>\n",
              "      <th>max</th>\n",
              "      <td>1.000000</td>\n",
              "    </tr>\n",
              "  </tbody>\n",
              "</table>\n",
              "</div>\n",
              "      <button class=\"colab-df-convert\" onclick=\"convertToInteractive('df-7d078c52-b8dd-4040-bad2-1e88af52f3d6')\"\n",
              "              title=\"Convert this dataframe to an interactive table.\"\n",
              "              style=\"display:none;\">\n",
              "        \n",
              "  <svg xmlns=\"http://www.w3.org/2000/svg\" height=\"24px\"viewBox=\"0 0 24 24\"\n",
              "       width=\"24px\">\n",
              "    <path d=\"M0 0h24v24H0V0z\" fill=\"none\"/>\n",
              "    <path d=\"M18.56 5.44l.94 2.06.94-2.06 2.06-.94-2.06-.94-.94-2.06-.94 2.06-2.06.94zm-11 1L8.5 8.5l.94-2.06 2.06-.94-2.06-.94L8.5 2.5l-.94 2.06-2.06.94zm10 10l.94 2.06.94-2.06 2.06-.94-2.06-.94-.94-2.06-.94 2.06-2.06.94z\"/><path d=\"M17.41 7.96l-1.37-1.37c-.4-.4-.92-.59-1.43-.59-.52 0-1.04.2-1.43.59L10.3 9.45l-7.72 7.72c-.78.78-.78 2.05 0 2.83L4 21.41c.39.39.9.59 1.41.59.51 0 1.02-.2 1.41-.59l7.78-7.78 2.81-2.81c.8-.78.8-2.07 0-2.86zM5.41 20L4 18.59l7.72-7.72 1.47 1.35L5.41 20z\"/>\n",
              "  </svg>\n",
              "      </button>\n",
              "      \n",
              "  <style>\n",
              "    .colab-df-container {\n",
              "      display:flex;\n",
              "      flex-wrap:wrap;\n",
              "      gap: 12px;\n",
              "    }\n",
              "\n",
              "    .colab-df-convert {\n",
              "      background-color: #E8F0FE;\n",
              "      border: none;\n",
              "      border-radius: 50%;\n",
              "      cursor: pointer;\n",
              "      display: none;\n",
              "      fill: #1967D2;\n",
              "      height: 32px;\n",
              "      padding: 0 0 0 0;\n",
              "      width: 32px;\n",
              "    }\n",
              "\n",
              "    .colab-df-convert:hover {\n",
              "      background-color: #E2EBFA;\n",
              "      box-shadow: 0px 1px 2px rgba(60, 64, 67, 0.3), 0px 1px 3px 1px rgba(60, 64, 67, 0.15);\n",
              "      fill: #174EA6;\n",
              "    }\n",
              "\n",
              "    [theme=dark] .colab-df-convert {\n",
              "      background-color: #3B4455;\n",
              "      fill: #D2E3FC;\n",
              "    }\n",
              "\n",
              "    [theme=dark] .colab-df-convert:hover {\n",
              "      background-color: #434B5C;\n",
              "      box-shadow: 0px 1px 3px 1px rgba(0, 0, 0, 0.15);\n",
              "      filter: drop-shadow(0px 1px 2px rgba(0, 0, 0, 0.3));\n",
              "      fill: #FFFFFF;\n",
              "    }\n",
              "  </style>\n",
              "\n",
              "      <script>\n",
              "        const buttonEl =\n",
              "          document.querySelector('#df-7d078c52-b8dd-4040-bad2-1e88af52f3d6 button.colab-df-convert');\n",
              "        buttonEl.style.display =\n",
              "          google.colab.kernel.accessAllowed ? 'block' : 'none';\n",
              "\n",
              "        async function convertToInteractive(key) {\n",
              "          const element = document.querySelector('#df-7d078c52-b8dd-4040-bad2-1e88af52f3d6');\n",
              "          const dataTable =\n",
              "            await google.colab.kernel.invokeFunction('convertToInteractive',\n",
              "                                                     [key], {});\n",
              "          if (!dataTable) return;\n",
              "\n",
              "          const docLinkHtml = 'Like what you see? Visit the ' +\n",
              "            '<a target=\"_blank\" href=https://colab.research.google.com/notebooks/data_table.ipynb>data table notebook</a>'\n",
              "            + ' to learn more about interactive tables.';\n",
              "          element.innerHTML = '';\n",
              "          dataTable['output_type'] = 'display_data';\n",
              "          await google.colab.output.renderOutput(dataTable, element);\n",
              "          const docLink = document.createElement('div');\n",
              "          docLink.innerHTML = docLinkHtml;\n",
              "          element.appendChild(docLink);\n",
              "        }\n",
              "      </script>\n",
              "    </div>\n",
              "  </div>\n",
              "  "
            ],
            "text/plain": [
              "       SeniorCitizen\n",
              "count    7043.000000\n",
              "mean        0.162147\n",
              "std         0.368612\n",
              "min         0.000000\n",
              "25%         0.000000\n",
              "50%         0.000000\n",
              "75%         0.000000\n",
              "max         1.000000"
            ]
          },
          "metadata": {},
          "output_type": "display_data"
        },
        {
          "name": "stdout",
          "output_type": "stream",
          "text": [
            "<class 'pandas.core.frame.DataFrame'>\n",
            "RangeIndex: 6361 entries, 0 to 6360\n",
            "Data columns (total 2 columns):\n",
            " #   Column         Non-Null Count  Dtype \n",
            "---  ------         --------------  ----- \n",
            " 0   customerID     6361 non-null   object\n",
            " 1   MultipleLines  6361 non-null   object\n",
            "dtypes: object(2)\n",
            "memory usage: 99.5+ KB\n"
          ]
        },
        {
          "data": {
            "text/plain": [
              "None"
            ]
          },
          "metadata": {},
          "output_type": "display_data"
        },
        {
          "data": {
            "text/html": [
              "\n",
              "  <div id=\"df-c3303333-110e-42c8-b6af-65e35baac502\">\n",
              "    <div class=\"colab-df-container\">\n",
              "      <div>\n",
              "<style scoped>\n",
              "    .dataframe tbody tr th:only-of-type {\n",
              "        vertical-align: middle;\n",
              "    }\n",
              "\n",
              "    .dataframe tbody tr th {\n",
              "        vertical-align: top;\n",
              "    }\n",
              "\n",
              "    .dataframe thead th {\n",
              "        text-align: right;\n",
              "    }\n",
              "</style>\n",
              "<table border=\"1\" class=\"dataframe\">\n",
              "  <thead>\n",
              "    <tr style=\"text-align: right;\">\n",
              "      <th></th>\n",
              "      <th>customerID</th>\n",
              "      <th>MultipleLines</th>\n",
              "    </tr>\n",
              "  </thead>\n",
              "  <tbody>\n",
              "    <tr>\n",
              "      <th>0</th>\n",
              "      <td>5575-GNVDE</td>\n",
              "      <td>No</td>\n",
              "    </tr>\n",
              "    <tr>\n",
              "      <th>1</th>\n",
              "      <td>3668-QPYBK</td>\n",
              "      <td>No</td>\n",
              "    </tr>\n",
              "    <tr>\n",
              "      <th>2</th>\n",
              "      <td>9237-HQITU</td>\n",
              "      <td>No</td>\n",
              "    </tr>\n",
              "    <tr>\n",
              "      <th>3</th>\n",
              "      <td>9305-CDSKC</td>\n",
              "      <td>Yes</td>\n",
              "    </tr>\n",
              "    <tr>\n",
              "      <th>4</th>\n",
              "      <td>1452-KIOVK</td>\n",
              "      <td>Yes</td>\n",
              "    </tr>\n",
              "  </tbody>\n",
              "</table>\n",
              "</div>\n",
              "      <button class=\"colab-df-convert\" onclick=\"convertToInteractive('df-c3303333-110e-42c8-b6af-65e35baac502')\"\n",
              "              title=\"Convert this dataframe to an interactive table.\"\n",
              "              style=\"display:none;\">\n",
              "        \n",
              "  <svg xmlns=\"http://www.w3.org/2000/svg\" height=\"24px\"viewBox=\"0 0 24 24\"\n",
              "       width=\"24px\">\n",
              "    <path d=\"M0 0h24v24H0V0z\" fill=\"none\"/>\n",
              "    <path d=\"M18.56 5.44l.94 2.06.94-2.06 2.06-.94-2.06-.94-.94-2.06-.94 2.06-2.06.94zm-11 1L8.5 8.5l.94-2.06 2.06-.94-2.06-.94L8.5 2.5l-.94 2.06-2.06.94zm10 10l.94 2.06.94-2.06 2.06-.94-2.06-.94-.94-2.06-.94 2.06-2.06.94z\"/><path d=\"M17.41 7.96l-1.37-1.37c-.4-.4-.92-.59-1.43-.59-.52 0-1.04.2-1.43.59L10.3 9.45l-7.72 7.72c-.78.78-.78 2.05 0 2.83L4 21.41c.39.39.9.59 1.41.59.51 0 1.02-.2 1.41-.59l7.78-7.78 2.81-2.81c.8-.78.8-2.07 0-2.86zM5.41 20L4 18.59l7.72-7.72 1.47 1.35L5.41 20z\"/>\n",
              "  </svg>\n",
              "      </button>\n",
              "      \n",
              "  <style>\n",
              "    .colab-df-container {\n",
              "      display:flex;\n",
              "      flex-wrap:wrap;\n",
              "      gap: 12px;\n",
              "    }\n",
              "\n",
              "    .colab-df-convert {\n",
              "      background-color: #E8F0FE;\n",
              "      border: none;\n",
              "      border-radius: 50%;\n",
              "      cursor: pointer;\n",
              "      display: none;\n",
              "      fill: #1967D2;\n",
              "      height: 32px;\n",
              "      padding: 0 0 0 0;\n",
              "      width: 32px;\n",
              "    }\n",
              "\n",
              "    .colab-df-convert:hover {\n",
              "      background-color: #E2EBFA;\n",
              "      box-shadow: 0px 1px 2px rgba(60, 64, 67, 0.3), 0px 1px 3px 1px rgba(60, 64, 67, 0.15);\n",
              "      fill: #174EA6;\n",
              "    }\n",
              "\n",
              "    [theme=dark] .colab-df-convert {\n",
              "      background-color: #3B4455;\n",
              "      fill: #D2E3FC;\n",
              "    }\n",
              "\n",
              "    [theme=dark] .colab-df-convert:hover {\n",
              "      background-color: #434B5C;\n",
              "      box-shadow: 0px 1px 3px 1px rgba(0, 0, 0, 0.15);\n",
              "      filter: drop-shadow(0px 1px 2px rgba(0, 0, 0, 0.3));\n",
              "      fill: #FFFFFF;\n",
              "    }\n",
              "  </style>\n",
              "\n",
              "      <script>\n",
              "        const buttonEl =\n",
              "          document.querySelector('#df-c3303333-110e-42c8-b6af-65e35baac502 button.colab-df-convert');\n",
              "        buttonEl.style.display =\n",
              "          google.colab.kernel.accessAllowed ? 'block' : 'none';\n",
              "\n",
              "        async function convertToInteractive(key) {\n",
              "          const element = document.querySelector('#df-c3303333-110e-42c8-b6af-65e35baac502');\n",
              "          const dataTable =\n",
              "            await google.colab.kernel.invokeFunction('convertToInteractive',\n",
              "                                                     [key], {});\n",
              "          if (!dataTable) return;\n",
              "\n",
              "          const docLinkHtml = 'Like what you see? Visit the ' +\n",
              "            '<a target=\"_blank\" href=https://colab.research.google.com/notebooks/data_table.ipynb>data table notebook</a>'\n",
              "            + ' to learn more about interactive tables.';\n",
              "          element.innerHTML = '';\n",
              "          dataTable['output_type'] = 'display_data';\n",
              "          await google.colab.output.renderOutput(dataTable, element);\n",
              "          const docLink = document.createElement('div');\n",
              "          docLink.innerHTML = docLinkHtml;\n",
              "          element.appendChild(docLink);\n",
              "        }\n",
              "      </script>\n",
              "    </div>\n",
              "  </div>\n",
              "  "
            ],
            "text/plain": [
              "   customerID MultipleLines\n",
              "0  5575-GNVDE            No\n",
              "1  3668-QPYBK            No\n",
              "2  9237-HQITU            No\n",
              "3  9305-CDSKC           Yes\n",
              "4  1452-KIOVK           Yes"
            ]
          },
          "metadata": {},
          "output_type": "display_data"
        },
        {
          "data": {
            "text/html": [
              "\n",
              "  <div id=\"df-d842a6c1-aff5-4e67-a192-d470a1ff31e1\">\n",
              "    <div class=\"colab-df-container\">\n",
              "      <div>\n",
              "<style scoped>\n",
              "    .dataframe tbody tr th:only-of-type {\n",
              "        vertical-align: middle;\n",
              "    }\n",
              "\n",
              "    .dataframe tbody tr th {\n",
              "        vertical-align: top;\n",
              "    }\n",
              "\n",
              "    .dataframe thead th {\n",
              "        text-align: right;\n",
              "    }\n",
              "</style>\n",
              "<table border=\"1\" class=\"dataframe\">\n",
              "  <thead>\n",
              "    <tr style=\"text-align: right;\">\n",
              "      <th></th>\n",
              "      <th>customerID</th>\n",
              "      <th>MultipleLines</th>\n",
              "    </tr>\n",
              "  </thead>\n",
              "  <tbody>\n",
              "    <tr>\n",
              "      <th>count</th>\n",
              "      <td>6361</td>\n",
              "      <td>6361</td>\n",
              "    </tr>\n",
              "    <tr>\n",
              "      <th>unique</th>\n",
              "      <td>6361</td>\n",
              "      <td>2</td>\n",
              "    </tr>\n",
              "    <tr>\n",
              "      <th>top</th>\n",
              "      <td>5575-GNVDE</td>\n",
              "      <td>No</td>\n",
              "    </tr>\n",
              "    <tr>\n",
              "      <th>freq</th>\n",
              "      <td>1</td>\n",
              "      <td>3390</td>\n",
              "    </tr>\n",
              "  </tbody>\n",
              "</table>\n",
              "</div>\n",
              "      <button class=\"colab-df-convert\" onclick=\"convertToInteractive('df-d842a6c1-aff5-4e67-a192-d470a1ff31e1')\"\n",
              "              title=\"Convert this dataframe to an interactive table.\"\n",
              "              style=\"display:none;\">\n",
              "        \n",
              "  <svg xmlns=\"http://www.w3.org/2000/svg\" height=\"24px\"viewBox=\"0 0 24 24\"\n",
              "       width=\"24px\">\n",
              "    <path d=\"M0 0h24v24H0V0z\" fill=\"none\"/>\n",
              "    <path d=\"M18.56 5.44l.94 2.06.94-2.06 2.06-.94-2.06-.94-.94-2.06-.94 2.06-2.06.94zm-11 1L8.5 8.5l.94-2.06 2.06-.94-2.06-.94L8.5 2.5l-.94 2.06-2.06.94zm10 10l.94 2.06.94-2.06 2.06-.94-2.06-.94-.94-2.06-.94 2.06-2.06.94z\"/><path d=\"M17.41 7.96l-1.37-1.37c-.4-.4-.92-.59-1.43-.59-.52 0-1.04.2-1.43.59L10.3 9.45l-7.72 7.72c-.78.78-.78 2.05 0 2.83L4 21.41c.39.39.9.59 1.41.59.51 0 1.02-.2 1.41-.59l7.78-7.78 2.81-2.81c.8-.78.8-2.07 0-2.86zM5.41 20L4 18.59l7.72-7.72 1.47 1.35L5.41 20z\"/>\n",
              "  </svg>\n",
              "      </button>\n",
              "      \n",
              "  <style>\n",
              "    .colab-df-container {\n",
              "      display:flex;\n",
              "      flex-wrap:wrap;\n",
              "      gap: 12px;\n",
              "    }\n",
              "\n",
              "    .colab-df-convert {\n",
              "      background-color: #E8F0FE;\n",
              "      border: none;\n",
              "      border-radius: 50%;\n",
              "      cursor: pointer;\n",
              "      display: none;\n",
              "      fill: #1967D2;\n",
              "      height: 32px;\n",
              "      padding: 0 0 0 0;\n",
              "      width: 32px;\n",
              "    }\n",
              "\n",
              "    .colab-df-convert:hover {\n",
              "      background-color: #E2EBFA;\n",
              "      box-shadow: 0px 1px 2px rgba(60, 64, 67, 0.3), 0px 1px 3px 1px rgba(60, 64, 67, 0.15);\n",
              "      fill: #174EA6;\n",
              "    }\n",
              "\n",
              "    [theme=dark] .colab-df-convert {\n",
              "      background-color: #3B4455;\n",
              "      fill: #D2E3FC;\n",
              "    }\n",
              "\n",
              "    [theme=dark] .colab-df-convert:hover {\n",
              "      background-color: #434B5C;\n",
              "      box-shadow: 0px 1px 3px 1px rgba(0, 0, 0, 0.15);\n",
              "      filter: drop-shadow(0px 1px 2px rgba(0, 0, 0, 0.3));\n",
              "      fill: #FFFFFF;\n",
              "    }\n",
              "  </style>\n",
              "\n",
              "      <script>\n",
              "        const buttonEl =\n",
              "          document.querySelector('#df-d842a6c1-aff5-4e67-a192-d470a1ff31e1 button.colab-df-convert');\n",
              "        buttonEl.style.display =\n",
              "          google.colab.kernel.accessAllowed ? 'block' : 'none';\n",
              "\n",
              "        async function convertToInteractive(key) {\n",
              "          const element = document.querySelector('#df-d842a6c1-aff5-4e67-a192-d470a1ff31e1');\n",
              "          const dataTable =\n",
              "            await google.colab.kernel.invokeFunction('convertToInteractive',\n",
              "                                                     [key], {});\n",
              "          if (!dataTable) return;\n",
              "\n",
              "          const docLinkHtml = 'Like what you see? Visit the ' +\n",
              "            '<a target=\"_blank\" href=https://colab.research.google.com/notebooks/data_table.ipynb>data table notebook</a>'\n",
              "            + ' to learn more about interactive tables.';\n",
              "          element.innerHTML = '';\n",
              "          dataTable['output_type'] = 'display_data';\n",
              "          await google.colab.output.renderOutput(dataTable, element);\n",
              "          const docLink = document.createElement('div');\n",
              "          docLink.innerHTML = docLinkHtml;\n",
              "          element.appendChild(docLink);\n",
              "        }\n",
              "      </script>\n",
              "    </div>\n",
              "  </div>\n",
              "  "
            ],
            "text/plain": [
              "        customerID MultipleLines\n",
              "count         6361          6361\n",
              "unique        6361             2\n",
              "top     5575-GNVDE            No\n",
              "freq             1          3390"
            ]
          },
          "metadata": {},
          "output_type": "display_data"
        }
      ],
      "source": [
        "data_list=[internet_new, contract_new, personal_new, phone_new]\n",
        "for data in data_list:\n",
        "    display(data.info())\n",
        "    display(data.head())\n",
        "    display(data.describe())"
      ]
    },
    {
      "cell_type": "markdown",
      "metadata": {
        "id": "4YS29iNWsn1w"
      },
      "source": [
        "Посмотрим на нечисловые значение в колонке 'TotalCharges'"
      ]
    },
    {
      "cell_type": "code",
      "execution_count": null,
      "metadata": {
        "colab": {
          "base_uri": "https://localhost:8080/"
        },
        "id": "6cTedr3XsDr8",
        "outputId": "dfc1688e-5d38-46e9-9255-210626295d04"
      },
      "outputs": [
        {
          "name": "stdout",
          "output_type": "stream",
          "text": [
            "488    NaN\n",
            "753    NaN\n",
            "936    NaN\n",
            "1082   NaN\n",
            "1340   NaN\n",
            "3331   NaN\n",
            "3826   NaN\n",
            "4380   NaN\n",
            "5218   NaN\n",
            "6670   NaN\n",
            "6754   NaN\n",
            "Name: TotalCharges, dtype: float64\n"
          ]
        }
      ],
      "source": [
        "contract_new['TotalCharges'] = pd.to_numeric(contract_new['TotalCharges'], errors='coerce')\n",
        "print(contract_new[pd.isna(contract_new['TotalCharges'])]['TotalCharges'])"
      ]
    },
    {
      "cell_type": "code",
      "execution_count": null,
      "metadata": {
        "colab": {
          "base_uri": "https://localhost:8080/",
          "height": 394
        },
        "id": "xfGC3TdfpPxw",
        "outputId": "6d8906d7-18ff-48ff-8c9a-64aeb45f79d7"
      },
      "outputs": [
        {
          "data": {
            "text/html": [
              "\n",
              "  <div id=\"df-b4112f52-31e2-441a-b658-7e4ea9d4b50b\">\n",
              "    <div class=\"colab-df-container\">\n",
              "      <div>\n",
              "<style scoped>\n",
              "    .dataframe tbody tr th:only-of-type {\n",
              "        vertical-align: middle;\n",
              "    }\n",
              "\n",
              "    .dataframe tbody tr th {\n",
              "        vertical-align: top;\n",
              "    }\n",
              "\n",
              "    .dataframe thead th {\n",
              "        text-align: right;\n",
              "    }\n",
              "</style>\n",
              "<table border=\"1\" class=\"dataframe\">\n",
              "  <thead>\n",
              "    <tr style=\"text-align: right;\">\n",
              "      <th></th>\n",
              "      <th>customerID</th>\n",
              "      <th>BeginDate</th>\n",
              "      <th>EndDate</th>\n",
              "      <th>Type</th>\n",
              "      <th>PaperlessBilling</th>\n",
              "      <th>PaymentMethod</th>\n",
              "      <th>MonthlyCharges</th>\n",
              "      <th>TotalCharges</th>\n",
              "    </tr>\n",
              "  </thead>\n",
              "  <tbody>\n",
              "    <tr>\n",
              "      <th>488</th>\n",
              "      <td>4472-LVYGI</td>\n",
              "      <td>2020-02-01</td>\n",
              "      <td>No</td>\n",
              "      <td>Two year</td>\n",
              "      <td>Yes</td>\n",
              "      <td>Bank transfer (automatic)</td>\n",
              "      <td>52.55</td>\n",
              "      <td>NaN</td>\n",
              "    </tr>\n",
              "    <tr>\n",
              "      <th>753</th>\n",
              "      <td>3115-CZMZD</td>\n",
              "      <td>2020-02-01</td>\n",
              "      <td>No</td>\n",
              "      <td>Two year</td>\n",
              "      <td>No</td>\n",
              "      <td>Mailed check</td>\n",
              "      <td>20.25</td>\n",
              "      <td>NaN</td>\n",
              "    </tr>\n",
              "    <tr>\n",
              "      <th>936</th>\n",
              "      <td>5709-LVOEQ</td>\n",
              "      <td>2020-02-01</td>\n",
              "      <td>No</td>\n",
              "      <td>Two year</td>\n",
              "      <td>No</td>\n",
              "      <td>Mailed check</td>\n",
              "      <td>80.85</td>\n",
              "      <td>NaN</td>\n",
              "    </tr>\n",
              "    <tr>\n",
              "      <th>1082</th>\n",
              "      <td>4367-NUYAO</td>\n",
              "      <td>2020-02-01</td>\n",
              "      <td>No</td>\n",
              "      <td>Two year</td>\n",
              "      <td>No</td>\n",
              "      <td>Mailed check</td>\n",
              "      <td>25.75</td>\n",
              "      <td>NaN</td>\n",
              "    </tr>\n",
              "    <tr>\n",
              "      <th>1340</th>\n",
              "      <td>1371-DWPAZ</td>\n",
              "      <td>2020-02-01</td>\n",
              "      <td>No</td>\n",
              "      <td>Two year</td>\n",
              "      <td>No</td>\n",
              "      <td>Credit card (automatic)</td>\n",
              "      <td>56.05</td>\n",
              "      <td>NaN</td>\n",
              "    </tr>\n",
              "    <tr>\n",
              "      <th>3331</th>\n",
              "      <td>7644-OMVMY</td>\n",
              "      <td>2020-02-01</td>\n",
              "      <td>No</td>\n",
              "      <td>Two year</td>\n",
              "      <td>No</td>\n",
              "      <td>Mailed check</td>\n",
              "      <td>19.85</td>\n",
              "      <td>NaN</td>\n",
              "    </tr>\n",
              "    <tr>\n",
              "      <th>3826</th>\n",
              "      <td>3213-VVOLG</td>\n",
              "      <td>2020-02-01</td>\n",
              "      <td>No</td>\n",
              "      <td>Two year</td>\n",
              "      <td>No</td>\n",
              "      <td>Mailed check</td>\n",
              "      <td>25.35</td>\n",
              "      <td>NaN</td>\n",
              "    </tr>\n",
              "    <tr>\n",
              "      <th>4380</th>\n",
              "      <td>2520-SGTTA</td>\n",
              "      <td>2020-02-01</td>\n",
              "      <td>No</td>\n",
              "      <td>Two year</td>\n",
              "      <td>No</td>\n",
              "      <td>Mailed check</td>\n",
              "      <td>20.00</td>\n",
              "      <td>NaN</td>\n",
              "    </tr>\n",
              "    <tr>\n",
              "      <th>5218</th>\n",
              "      <td>2923-ARZLG</td>\n",
              "      <td>2020-02-01</td>\n",
              "      <td>No</td>\n",
              "      <td>One year</td>\n",
              "      <td>Yes</td>\n",
              "      <td>Mailed check</td>\n",
              "      <td>19.70</td>\n",
              "      <td>NaN</td>\n",
              "    </tr>\n",
              "    <tr>\n",
              "      <th>6670</th>\n",
              "      <td>4075-WKNIU</td>\n",
              "      <td>2020-02-01</td>\n",
              "      <td>No</td>\n",
              "      <td>Two year</td>\n",
              "      <td>No</td>\n",
              "      <td>Mailed check</td>\n",
              "      <td>73.35</td>\n",
              "      <td>NaN</td>\n",
              "    </tr>\n",
              "    <tr>\n",
              "      <th>6754</th>\n",
              "      <td>2775-SEFEE</td>\n",
              "      <td>2020-02-01</td>\n",
              "      <td>No</td>\n",
              "      <td>Two year</td>\n",
              "      <td>Yes</td>\n",
              "      <td>Bank transfer (automatic)</td>\n",
              "      <td>61.90</td>\n",
              "      <td>NaN</td>\n",
              "    </tr>\n",
              "  </tbody>\n",
              "</table>\n",
              "</div>\n",
              "      <button class=\"colab-df-convert\" onclick=\"convertToInteractive('df-b4112f52-31e2-441a-b658-7e4ea9d4b50b')\"\n",
              "              title=\"Convert this dataframe to an interactive table.\"\n",
              "              style=\"display:none;\">\n",
              "        \n",
              "  <svg xmlns=\"http://www.w3.org/2000/svg\" height=\"24px\"viewBox=\"0 0 24 24\"\n",
              "       width=\"24px\">\n",
              "    <path d=\"M0 0h24v24H0V0z\" fill=\"none\"/>\n",
              "    <path d=\"M18.56 5.44l.94 2.06.94-2.06 2.06-.94-2.06-.94-.94-2.06-.94 2.06-2.06.94zm-11 1L8.5 8.5l.94-2.06 2.06-.94-2.06-.94L8.5 2.5l-.94 2.06-2.06.94zm10 10l.94 2.06.94-2.06 2.06-.94-2.06-.94-.94-2.06-.94 2.06-2.06.94z\"/><path d=\"M17.41 7.96l-1.37-1.37c-.4-.4-.92-.59-1.43-.59-.52 0-1.04.2-1.43.59L10.3 9.45l-7.72 7.72c-.78.78-.78 2.05 0 2.83L4 21.41c.39.39.9.59 1.41.59.51 0 1.02-.2 1.41-.59l7.78-7.78 2.81-2.81c.8-.78.8-2.07 0-2.86zM5.41 20L4 18.59l7.72-7.72 1.47 1.35L5.41 20z\"/>\n",
              "  </svg>\n",
              "      </button>\n",
              "      \n",
              "  <style>\n",
              "    .colab-df-container {\n",
              "      display:flex;\n",
              "      flex-wrap:wrap;\n",
              "      gap: 12px;\n",
              "    }\n",
              "\n",
              "    .colab-df-convert {\n",
              "      background-color: #E8F0FE;\n",
              "      border: none;\n",
              "      border-radius: 50%;\n",
              "      cursor: pointer;\n",
              "      display: none;\n",
              "      fill: #1967D2;\n",
              "      height: 32px;\n",
              "      padding: 0 0 0 0;\n",
              "      width: 32px;\n",
              "    }\n",
              "\n",
              "    .colab-df-convert:hover {\n",
              "      background-color: #E2EBFA;\n",
              "      box-shadow: 0px 1px 2px rgba(60, 64, 67, 0.3), 0px 1px 3px 1px rgba(60, 64, 67, 0.15);\n",
              "      fill: #174EA6;\n",
              "    }\n",
              "\n",
              "    [theme=dark] .colab-df-convert {\n",
              "      background-color: #3B4455;\n",
              "      fill: #D2E3FC;\n",
              "    }\n",
              "\n",
              "    [theme=dark] .colab-df-convert:hover {\n",
              "      background-color: #434B5C;\n",
              "      box-shadow: 0px 1px 3px 1px rgba(0, 0, 0, 0.15);\n",
              "      filter: drop-shadow(0px 1px 2px rgba(0, 0, 0, 0.3));\n",
              "      fill: #FFFFFF;\n",
              "    }\n",
              "  </style>\n",
              "\n",
              "      <script>\n",
              "        const buttonEl =\n",
              "          document.querySelector('#df-b4112f52-31e2-441a-b658-7e4ea9d4b50b button.colab-df-convert');\n",
              "        buttonEl.style.display =\n",
              "          google.colab.kernel.accessAllowed ? 'block' : 'none';\n",
              "\n",
              "        async function convertToInteractive(key) {\n",
              "          const element = document.querySelector('#df-b4112f52-31e2-441a-b658-7e4ea9d4b50b');\n",
              "          const dataTable =\n",
              "            await google.colab.kernel.invokeFunction('convertToInteractive',\n",
              "                                                     [key], {});\n",
              "          if (!dataTable) return;\n",
              "\n",
              "          const docLinkHtml = 'Like what you see? Visit the ' +\n",
              "            '<a target=\"_blank\" href=https://colab.research.google.com/notebooks/data_table.ipynb>data table notebook</a>'\n",
              "            + ' to learn more about interactive tables.';\n",
              "          element.innerHTML = '';\n",
              "          dataTable['output_type'] = 'display_data';\n",
              "          await google.colab.output.renderOutput(dataTable, element);\n",
              "          const docLink = document.createElement('div');\n",
              "          docLink.innerHTML = docLinkHtml;\n",
              "          element.appendChild(docLink);\n",
              "        }\n",
              "      </script>\n",
              "    </div>\n",
              "  </div>\n",
              "  "
            ],
            "text/plain": [
              "      customerID   BeginDate EndDate      Type PaperlessBilling  \\\n",
              "488   4472-LVYGI  2020-02-01      No  Two year              Yes   \n",
              "753   3115-CZMZD  2020-02-01      No  Two year               No   \n",
              "936   5709-LVOEQ  2020-02-01      No  Two year               No   \n",
              "1082  4367-NUYAO  2020-02-01      No  Two year               No   \n",
              "1340  1371-DWPAZ  2020-02-01      No  Two year               No   \n",
              "3331  7644-OMVMY  2020-02-01      No  Two year               No   \n",
              "3826  3213-VVOLG  2020-02-01      No  Two year               No   \n",
              "4380  2520-SGTTA  2020-02-01      No  Two year               No   \n",
              "5218  2923-ARZLG  2020-02-01      No  One year              Yes   \n",
              "6670  4075-WKNIU  2020-02-01      No  Two year               No   \n",
              "6754  2775-SEFEE  2020-02-01      No  Two year              Yes   \n",
              "\n",
              "                  PaymentMethod  MonthlyCharges  TotalCharges  \n",
              "488   Bank transfer (automatic)           52.55           NaN  \n",
              "753                Mailed check           20.25           NaN  \n",
              "936                Mailed check           80.85           NaN  \n",
              "1082               Mailed check           25.75           NaN  \n",
              "1340    Credit card (automatic)           56.05           NaN  \n",
              "3331               Mailed check           19.85           NaN  \n",
              "3826               Mailed check           25.35           NaN  \n",
              "4380               Mailed check           20.00           NaN  \n",
              "5218               Mailed check           19.70           NaN  \n",
              "6670               Mailed check           73.35           NaN  \n",
              "6754  Bank transfer (automatic)           61.90           NaN  "
            ]
          },
          "execution_count": 43,
          "metadata": {},
          "output_type": "execute_result"
        }
      ],
      "source": [
        "contract_new[contract_new.isnull().any(1)]"
      ]
    },
    {
      "cell_type": "markdown",
      "metadata": {
        "id": "oWdsSWOvw3rO"
      },
      "source": [
        "Заменим NAN на 0"
      ]
    },
    {
      "cell_type": "code",
      "execution_count": null,
      "metadata": {
        "colab": {
          "base_uri": "https://localhost:8080/",
          "height": 49
        },
        "id": "veuJc4H_w3ZE",
        "outputId": "10cdbd7d-a2a3-4d67-f6f2-9db77eb1927b"
      },
      "outputs": [
        {
          "data": {
            "text/html": [
              "\n",
              "  <div id=\"df-97a64a7e-786a-4447-8b82-ee079176788d\">\n",
              "    <div class=\"colab-df-container\">\n",
              "      <div>\n",
              "<style scoped>\n",
              "    .dataframe tbody tr th:only-of-type {\n",
              "        vertical-align: middle;\n",
              "    }\n",
              "\n",
              "    .dataframe tbody tr th {\n",
              "        vertical-align: top;\n",
              "    }\n",
              "\n",
              "    .dataframe thead th {\n",
              "        text-align: right;\n",
              "    }\n",
              "</style>\n",
              "<table border=\"1\" class=\"dataframe\">\n",
              "  <thead>\n",
              "    <tr style=\"text-align: right;\">\n",
              "      <th></th>\n",
              "      <th>customerID</th>\n",
              "      <th>BeginDate</th>\n",
              "      <th>EndDate</th>\n",
              "      <th>Type</th>\n",
              "      <th>PaperlessBilling</th>\n",
              "      <th>PaymentMethod</th>\n",
              "      <th>MonthlyCharges</th>\n",
              "      <th>TotalCharges</th>\n",
              "    </tr>\n",
              "  </thead>\n",
              "  <tbody>\n",
              "  </tbody>\n",
              "</table>\n",
              "</div>\n",
              "      <button class=\"colab-df-convert\" onclick=\"convertToInteractive('df-97a64a7e-786a-4447-8b82-ee079176788d')\"\n",
              "              title=\"Convert this dataframe to an interactive table.\"\n",
              "              style=\"display:none;\">\n",
              "        \n",
              "  <svg xmlns=\"http://www.w3.org/2000/svg\" height=\"24px\"viewBox=\"0 0 24 24\"\n",
              "       width=\"24px\">\n",
              "    <path d=\"M0 0h24v24H0V0z\" fill=\"none\"/>\n",
              "    <path d=\"M18.56 5.44l.94 2.06.94-2.06 2.06-.94-2.06-.94-.94-2.06-.94 2.06-2.06.94zm-11 1L8.5 8.5l.94-2.06 2.06-.94-2.06-.94L8.5 2.5l-.94 2.06-2.06.94zm10 10l.94 2.06.94-2.06 2.06-.94-2.06-.94-.94-2.06-.94 2.06-2.06.94z\"/><path d=\"M17.41 7.96l-1.37-1.37c-.4-.4-.92-.59-1.43-.59-.52 0-1.04.2-1.43.59L10.3 9.45l-7.72 7.72c-.78.78-.78 2.05 0 2.83L4 21.41c.39.39.9.59 1.41.59.51 0 1.02-.2 1.41-.59l7.78-7.78 2.81-2.81c.8-.78.8-2.07 0-2.86zM5.41 20L4 18.59l7.72-7.72 1.47 1.35L5.41 20z\"/>\n",
              "  </svg>\n",
              "      </button>\n",
              "      \n",
              "  <style>\n",
              "    .colab-df-container {\n",
              "      display:flex;\n",
              "      flex-wrap:wrap;\n",
              "      gap: 12px;\n",
              "    }\n",
              "\n",
              "    .colab-df-convert {\n",
              "      background-color: #E8F0FE;\n",
              "      border: none;\n",
              "      border-radius: 50%;\n",
              "      cursor: pointer;\n",
              "      display: none;\n",
              "      fill: #1967D2;\n",
              "      height: 32px;\n",
              "      padding: 0 0 0 0;\n",
              "      width: 32px;\n",
              "    }\n",
              "\n",
              "    .colab-df-convert:hover {\n",
              "      background-color: #E2EBFA;\n",
              "      box-shadow: 0px 1px 2px rgba(60, 64, 67, 0.3), 0px 1px 3px 1px rgba(60, 64, 67, 0.15);\n",
              "      fill: #174EA6;\n",
              "    }\n",
              "\n",
              "    [theme=dark] .colab-df-convert {\n",
              "      background-color: #3B4455;\n",
              "      fill: #D2E3FC;\n",
              "    }\n",
              "\n",
              "    [theme=dark] .colab-df-convert:hover {\n",
              "      background-color: #434B5C;\n",
              "      box-shadow: 0px 1px 3px 1px rgba(0, 0, 0, 0.15);\n",
              "      filter: drop-shadow(0px 1px 2px rgba(0, 0, 0, 0.3));\n",
              "      fill: #FFFFFF;\n",
              "    }\n",
              "  </style>\n",
              "\n",
              "      <script>\n",
              "        const buttonEl =\n",
              "          document.querySelector('#df-97a64a7e-786a-4447-8b82-ee079176788d button.colab-df-convert');\n",
              "        buttonEl.style.display =\n",
              "          google.colab.kernel.accessAllowed ? 'block' : 'none';\n",
              "\n",
              "        async function convertToInteractive(key) {\n",
              "          const element = document.querySelector('#df-97a64a7e-786a-4447-8b82-ee079176788d');\n",
              "          const dataTable =\n",
              "            await google.colab.kernel.invokeFunction('convertToInteractive',\n",
              "                                                     [key], {});\n",
              "          if (!dataTable) return;\n",
              "\n",
              "          const docLinkHtml = 'Like what you see? Visit the ' +\n",
              "            '<a target=\"_blank\" href=https://colab.research.google.com/notebooks/data_table.ipynb>data table notebook</a>'\n",
              "            + ' to learn more about interactive tables.';\n",
              "          element.innerHTML = '';\n",
              "          dataTable['output_type'] = 'display_data';\n",
              "          await google.colab.output.renderOutput(dataTable, element);\n",
              "          const docLink = document.createElement('div');\n",
              "          docLink.innerHTML = docLinkHtml;\n",
              "          element.appendChild(docLink);\n",
              "        }\n",
              "      </script>\n",
              "    </div>\n",
              "  </div>\n",
              "  "
            ],
            "text/plain": [
              "Empty DataFrame\n",
              "Columns: [customerID, BeginDate, EndDate, Type, PaperlessBilling, PaymentMethod, MonthlyCharges, TotalCharges]\n",
              "Index: []"
            ]
          },
          "execution_count": 44,
          "metadata": {},
          "output_type": "execute_result"
        }
      ],
      "source": [
        "contract_new['TotalCharges'] = contract_new['TotalCharges'].fillna(0)\n",
        "contract_new[contract_new.isnull().any(1)]"
      ]
    },
    {
      "cell_type": "markdown",
      "metadata": {
        "id": "Cm308WtP139i"
      },
      "source": [
        "Посмотрим на тип данных в колонке TotalCharges"
      ]
    },
    {
      "cell_type": "code",
      "execution_count": null,
      "metadata": {
        "colab": {
          "base_uri": "https://localhost:8080/"
        },
        "id": "-IAoj_s1xeKL",
        "outputId": "f39cef75-6e9b-43b8-c161-f6080d3cf734"
      },
      "outputs": [
        {
          "name": "stdout",
          "output_type": "stream",
          "text": [
            "<bound method NDFrame.astype of 0         31.04\n",
            "1       2071.84\n",
            "2        226.17\n",
            "3       1960.60\n",
            "4        353.50\n",
            "         ...   \n",
            "7038    2035.20\n",
            "7039    7430.40\n",
            "7040     325.60\n",
            "7041     520.80\n",
            "7042    7251.82\n",
            "Name: TotalCharges, Length: 7043, dtype: float64>\n"
          ]
        }
      ],
      "source": [
        "print(contract_new['TotalCharges'].astype)"
      ]
    },
    {
      "cell_type": "markdown",
      "metadata": {
        "id": "JqQQ-ad-Dak5"
      },
      "source": [
        "Округлим числа до целого и поменяем тип данных на целое число для TotalCharges и MonthlyCharges"
      ]
    },
    {
      "cell_type": "code",
      "execution_count": null,
      "metadata": {
        "colab": {
          "base_uri": "https://localhost:8080/"
        },
        "id": "10JZFt_o1z4Q",
        "outputId": "0b09d3cf-1abb-4780-fef2-8df821736efc"
      },
      "outputs": [
        {
          "name": "stdout",
          "output_type": "stream",
          "text": [
            "0      31\n",
            "1    2072\n",
            "2     226\n",
            "3    1961\n",
            "4     354\n",
            "Name: TotalCharges, dtype: Int64\n",
            "0    30\n",
            "1    57\n",
            "2    54\n",
            "3    42\n",
            "4    71\n",
            "Name: MonthlyCharges, dtype: Int64\n"
          ]
        }
      ],
      "source": [
        "contract_new['TotalCharges'] = contract_new['TotalCharges'].round()\n",
        "contract_new['MonthlyCharges'] = contract_new['MonthlyCharges'].round()\n",
        "contract_new['TotalCharges'] = contract_new['TotalCharges'].convert_dtypes()\n",
        "contract_new['MonthlyCharges'] = contract_new['MonthlyCharges'].convert_dtypes()\n",
        "print(contract_new['TotalCharges'].head())\n",
        "print(contract_new['MonthlyCharges'].head())"
      ]
    },
    {
      "cell_type": "markdown",
      "metadata": {
        "id": "K1klBLD4lVwC"
      },
      "source": [
        "Там, где не заполнено end date, то есть клиент продолжает пользоваться услугами на дату среза - заполняю датой среза(1.02.20)"
      ]
    },
    {
      "cell_type": "code",
      "execution_count": null,
      "metadata": {
        "id": "Sh9fgwJxx3qr"
      },
      "outputs": [],
      "source": [
        "contract_new['EndDate'] = contract_new['EndDate'].replace(['No'], ['2020-02-01'])"
      ]
    },
    {
      "cell_type": "markdown",
      "metadata": {
        "id": "BQPVKYCM5viP"
      },
      "source": [
        "Приведем поля BeginDate и EndDate к типу datetime"
      ]
    },
    {
      "cell_type": "code",
      "execution_count": null,
      "metadata": {
        "id": "jUk4fv_C5u93"
      },
      "outputs": [],
      "source": [
        "contract_new['BeginDate'] = pd.to_datetime(contract_new['BeginDate'],format = '%Y-%m-%d')\n",
        "contract_new['EndDate'] = pd.to_datetime(contract_new['EndDate'],format = '%Y-%m-%d')"
      ]
    },
    {
      "cell_type": "markdown",
      "metadata": {
        "id": "VEDlWcQe7y8T"
      },
      "source": [
        "Объединим данные в одну таблицу"
      ]
    },
    {
      "cell_type": "code",
      "execution_count": null,
      "metadata": {
        "colab": {
          "base_uri": "https://localhost:8080/"
        },
        "id": "ujif6LBUrjOY",
        "outputId": "bb08b684-b6ab-4312-974d-964ec5375755"
      },
      "outputs": [
        {
          "name": "stdout",
          "output_type": "stream",
          "text": [
            "<class 'pandas.core.frame.DataFrame'>\n",
            "Index: 7043 entries, 7590-VHVEG to 3186-AJIEK\n",
            "Data columns (total 19 columns):\n",
            " #   Column            Non-Null Count  Dtype         \n",
            "---  ------            --------------  -----         \n",
            " 0   BeginDate         7043 non-null   datetime64[ns]\n",
            " 1   EndDate           7043 non-null   datetime64[ns]\n",
            " 2   Type              7043 non-null   object        \n",
            " 3   PaperlessBilling  7043 non-null   object        \n",
            " 4   PaymentMethod     7043 non-null   object        \n",
            " 5   MonthlyCharges    7043 non-null   Int64         \n",
            " 6   TotalCharges      7043 non-null   Int64         \n",
            " 7   MultipleLines     6361 non-null   object        \n",
            " 8   gender            7043 non-null   object        \n",
            " 9   SeniorCitizen     7043 non-null   int64         \n",
            " 10  Partner           7043 non-null   object        \n",
            " 11  Dependents        7043 non-null   object        \n",
            " 12  InternetService   5517 non-null   object        \n",
            " 13  OnlineSecurity    5517 non-null   object        \n",
            " 14  OnlineBackup      5517 non-null   object        \n",
            " 15  DeviceProtection  5517 non-null   object        \n",
            " 16  TechSupport       5517 non-null   object        \n",
            " 17  StreamingTV       5517 non-null   object        \n",
            " 18  StreamingMovies   5517 non-null   object        \n",
            "dtypes: Int64(2), datetime64[ns](2), int64(1), object(14)\n",
            "memory usage: 1.3+ MB\n"
          ]
        }
      ],
      "source": [
        "data = contract_new.set_index('customerID').join(phone_new.set_index('customerID'))\n",
        "data = data.join(personal_new.set_index('customerID'))\n",
        "data = data.join(internet_new.set_index('customerID'))\n",
        "data.info()"
      ]
    },
    {
      "cell_type": "markdown",
      "metadata": {
        "id": "vmY0CdzQ87TT"
      },
      "source": [
        "Заполним пропуски нулями"
      ]
    },
    {
      "cell_type": "code",
      "execution_count": null,
      "metadata": {
        "id": "Ioj70ade86tC"
      },
      "outputs": [],
      "source": [
        "data.fillna(0, inplace = True)"
      ]
    },
    {
      "cell_type": "markdown",
      "metadata": {
        "id": "ifmEjHHECtDY"
      },
      "source": [
        "Визуализируем данные по месячным расходам"
      ]
    },
    {
      "cell_type": "code",
      "execution_count": null,
      "metadata": {
        "colab": {
          "base_uri": "https://localhost:8080/",
          "height": 490
        },
        "id": "7L07pFsYCsYA",
        "outputId": "d6cbe937-04c6-470b-b49b-a09310df4fb1"
      },
      "outputs": [
        {
          "data": {
            "text/plain": [
              "<function matplotlib.pyplot.show(close=None, block=None)>"
            ]
          },
          "execution_count": 51,
          "metadata": {},
          "output_type": "execute_result"
        },
        {
          "data": {
            "image/png": "[encoded data removed]",
            "text/plain": [
              "<Figure size 640x480 with 1 Axes>"
            ]
          },
          "metadata": {},
          "output_type": "display_data"
        }
      ],
      "source": [
        "sns.histplot(data['MonthlyCharges'])\n",
        "plt.title('MonthlyCharges)')\n",
        "plt.xlabel('Сумма')\n",
        "plt.ylabel('Частота появления в датасете')\n",
        "plt.show"
      ]
    },
    {
      "cell_type": "markdown",
      "metadata": {
        "id": "EjQ-vvidHkfi"
      },
      "source": [
        "На графике мы видим три пика - 20, 40, 90 тыс."
      ]
    },
    {
      "cell_type": "markdown",
      "metadata": {
        "id": "GYXitbgqFYr3"
      },
      "source": [
        "Визуализируем данные по месячным расходам"
      ]
    },
    {
      "cell_type": "code",
      "execution_count": null,
      "metadata": {
        "colab": {
          "base_uri": "https://localhost:8080/",
          "height": 472
        },
        "id": "NMYsjCkQFYW0",
        "outputId": "e242b7da-8f1f-4023-a7c3-55df1c8800a5"
      },
      "outputs": [
        {
          "data": {
            "image/png": "[encoded data removed]",
            "text/plain": [
              "<Figure size 640x480 with 1 Axes>"
            ]
          },
          "metadata": {},
          "output_type": "display_data"
        }
      ],
      "source": [
        "sns.histplot(data['TotalCharges'])\n",
        "plt.title('TotalCharges)')\n",
        "plt.xlabel('Сумма')\n",
        "plt.ylabel('Частота появления в датасете');"
      ]
    },
    {
      "cell_type": "markdown",
      "metadata": {
        "id": "ZhMiILFyQOxB"
      },
      "source": [
        "На графике мы видим ниспадающией тренд - чем больше сумма расходов, тем меньшее количество клиентов ее тратит."
      ]
    },
    {
      "cell_type": "markdown",
      "metadata": {
        "id": "DwA1h2eFIsxp"
      },
      "source": [
        "Построим графики по датам начала и окончания сотрудничества"
      ]
    },
    {
      "cell_type": "code",
      "execution_count": null,
      "metadata": {
        "colab": {
          "base_uri": "https://localhost:8080/",
          "height": 472
        },
        "id": "2O5gfFhGIsHt",
        "outputId": "20df0130-de9b-4db1-d62c-a67252584f31"
      },
      "outputs": [
        {
          "data": {
            "image/png": "[encoded data removed]",
            "text/plain": [
              "<Figure size 640x480 with 1 Axes>"
            ]
          },
          "metadata": {},
          "output_type": "display_data"
        }
      ],
      "source": [
        "sns.histplot(data['BeginDate'])\n",
        "plt.title('BeginDate')\n",
        "plt.xlabel('Дата')\n",
        "plt.ylabel('Частота появления в датасете');"
      ]
    },
    {
      "cell_type": "code",
      "execution_count": null,
      "metadata": {
        "colab": {
          "base_uri": "https://localhost:8080/",
          "height": 472
        },
        "id": "P-eLbzXnI9yo",
        "outputId": "a7cddd70-9fef-4d9f-8d7f-e6cfa9b4703f"
      },
      "outputs": [
        {
          "data": {
            "image/png": "[encoded data removed]",
            "text/plain": [
              "<Figure size 640x480 with 1 Axes>"
            ]
          },
          "metadata": {},
          "output_type": "display_data"
        }
      ],
      "source": [
        "sns.histplot(data.query('EndDate != \"2020-02-01\"')['EndDate'])\n",
        "plt.title('EndDate')\n",
        "plt.xlabel('Дата')\n",
        "plt.ylabel('Частота появления в датасете');"
      ]
    },
    {
      "cell_type": "markdown",
      "metadata": {
        "id": "DYDEOx08Iw3c"
      },
      "source": [
        "По графикам прихода и ухода клиентов из компании, можно сказать, что до 2019 года приходило примерно одно и то же количество клиентов, а потом начался рост. В конце 2019-го начале 2020 начался резкий рост оттока."
      ]
    },
    {
      "cell_type": "markdown",
      "metadata": {
        "id": "DO88AkFXrWAu"
      },
      "source": [
        "### Выводы:\n",
        "\n",
        "Мне в работу переданы 4 датасета:\n",
        "\n",
        "1. internet_new - 5517 строк. Содержит данные о различных опциях и сервисах, которыми пользуются клиенты. Тип данных object.\n",
        "2. contract_new - 7043 строк. Содержит данные о суммах платежей клиентов, типах выставления счетов, дате начала контракта. Тип данных object, кроме MonthlyCharges - float64.\n",
        "3. personal_new 7043 строк. Содержит данные о клиентах - пол, является ли возрастным, есть ли партнер, есть ли иждивенцы. Тип данных object, кроме SeniorCitizen - int64.\n",
        "4. phone_new 6361 строк. Содержит данные о наличии или отсуствии MultipleLines. Тип данных object.\n",
        "\n",
        "- Ни в одном из датасетом пропусков в данных нет\n",
        "- Целевой признак - колонка EndDate в таблице internet_new. Нам предстоит решить задачу классификации\n",
        "- В колонке TotalCharges были Наны - я вывела информацию по ним и увидела, что это новые клиенты, подключенные 1 февраля 2020 года с продолжительностью контакта от 1-го до 2-х лет. Я заменила NAN на 0.\n",
        "- В колонках TotalCharges и MonthlyCharges два знака после запятой. Для целей машинного обучения, я округлила значения до целого.\n",
        "- Там, где не заполнено end date, то есть клиент продолжает пользоваться услугами на дату среза - я заполнила датой среза(1.02.23)\n",
        "- Тип данных в полях BeginDate и EndDate поменяла на datetime\n",
        "- Объединила все данные в одну таблицу и заменила пропуски в ней нулями.\n",
        "- По графикам месячных расходов видно, что наиболее распространенная сумма, которую клиенты тратят в месяц - это 20 тысяч рублей, на графике есть еще 2 пика - 40 и 90 тыс. рублей. По графику общих расходов видно, что чем больше сумма расходов, тем меньшее количество клиентов ее тратит. По графикам прихода и ухода клиентов из компании, можно сказать, что до 2019 года приходило примерно одно и то же количество клиентов, а потом начался рост. В конце 2019-го начале 2020 начался резкий рост оттока.\n",
        "\n",
        "\n",
        "\n"
      ]
    },
    {
      "cell_type": "markdown",
      "metadata": {
        "id": "UB0K7pskPkU0"
      },
      "source": [
        "#Часть 2\n",
        "\n",
        "## Машинное обучение\n",
        "\n",
        "### Разделение на выборки"
      ]
    },
    {
      "cell_type": "markdown",
      "metadata": {
        "id": "Um2g54t9NgK5"
      },
      "source": [
        "Добавим столбец 'TotalTime', который покажет, сколько дней клиент являлся клиентом"
      ]
    },
    {
      "cell_type": "code",
      "execution_count": null,
      "metadata": {
        "id": "DZWcs9dANQlE"
      },
      "outputs": [],
      "source": [
        "data['TotalTime'] = (data['EndDate'] - data['BeginDate']).dt.days"
      ]
    },
    {
      "cell_type": "markdown",
      "metadata": {
        "id": "CP0AbuGuacRY"
      },
      "source": [
        "Добавим столбец 'CustomerLeft', который будет целевым признаком и проверим баланс классов"
      ]
    },
    {
      "cell_type": "code",
      "execution_count": null,
      "metadata": {
        "colab": {
          "base_uri": "https://localhost:8080/"
        },
        "id": "XrCVLeqUYWiW",
        "outputId": "303e19d8-1d14-4381-d8ae-7ad81ea4693f"
      },
      "outputs": [
        {
          "data": {
            "text/plain": [
              "0    0.843675\n",
              "1    0.156325\n",
              "Name: CustomerLeft, dtype: float64"
            ]
          },
          "execution_count": 56,
          "metadata": {},
          "output_type": "execute_result"
        }
      ],
      "source": [
        "data['CustomerLeft'] = (data['EndDate'] != '2020-02-01').astype(int)\n",
        "data['CustomerLeft'].value_counts(normalize=True)"
      ]
    },
    {
      "cell_type": "markdown",
      "metadata": {
        "id": "bT8TZnPELU6X"
      },
      "source": [
        "16% ушло, 84% осталось"
      ]
    },
    {
      "cell_type": "markdown",
      "metadata": {
        "id": "nKHUGQK7yh-z"
      },
      "source": [
        "Удалим столбцы 'BeginDate', 'EndDate', т.к. они больше нам не нужны\n"
      ]
    },
    {
      "cell_type": "code",
      "execution_count": null,
      "metadata": {
        "id": "v7b71LSJyhsU"
      },
      "outputs": [],
      "source": [
        "data = data.drop(['BeginDate', 'EndDate'], axis=1)"
      ]
    },
    {
      "cell_type": "markdown",
      "metadata": {
        "id": "JSn3GxtmtvDr"
      },
      "source": [
        "Посмотрим на наш датасет после изменений"
      ]
    },
    {
      "cell_type": "code",
      "execution_count": null,
      "metadata": {
        "colab": {
          "base_uri": "https://localhost:8080/",
          "height": 440
        },
        "id": "_m2VuvyYNaoX",
        "outputId": "cd3fd7a9-fbe5-4a2b-cb7a-d1ccd0e9bb24"
      },
      "outputs": [
        {
          "data": {
            "text/html": [
              "\n",
              "  <div id=\"df-ade27dc3-2c18-4156-a58a-c1ffefcf4312\">\n",
              "    <div class=\"colab-df-container\">\n",
              "      <div>\n",
              "<style scoped>\n",
              "    .dataframe tbody tr th:only-of-type {\n",
              "        vertical-align: middle;\n",
              "    }\n",
              "\n",
              "    .dataframe tbody tr th {\n",
              "        vertical-align: top;\n",
              "    }\n",
              "\n",
              "    .dataframe thead th {\n",
              "        text-align: right;\n",
              "    }\n",
              "</style>\n",
              "<table border=\"1\" class=\"dataframe\">\n",
              "  <thead>\n",
              "    <tr style=\"text-align: right;\">\n",
              "      <th></th>\n",
              "      <th>Type</th>\n",
              "      <th>PaperlessBilling</th>\n",
              "      <th>PaymentMethod</th>\n",
              "      <th>MonthlyCharges</th>\n",
              "      <th>TotalCharges</th>\n",
              "      <th>MultipleLines</th>\n",
              "      <th>gender</th>\n",
              "      <th>SeniorCitizen</th>\n",
              "      <th>Partner</th>\n",
              "      <th>Dependents</th>\n",
              "      <th>InternetService</th>\n",
              "      <th>OnlineSecurity</th>\n",
              "      <th>OnlineBackup</th>\n",
              "      <th>DeviceProtection</th>\n",
              "      <th>TechSupport</th>\n",
              "      <th>StreamingTV</th>\n",
              "      <th>StreamingMovies</th>\n",
              "      <th>TotalTime</th>\n",
              "      <th>CustomerLeft</th>\n",
              "    </tr>\n",
              "    <tr>\n",
              "      <th>customerID</th>\n",
              "      <th></th>\n",
              "      <th></th>\n",
              "      <th></th>\n",
              "      <th></th>\n",
              "      <th></th>\n",
              "      <th></th>\n",
              "      <th></th>\n",
              "      <th></th>\n",
              "      <th></th>\n",
              "      <th></th>\n",
              "      <th></th>\n",
              "      <th></th>\n",
              "      <th></th>\n",
              "      <th></th>\n",
              "      <th></th>\n",
              "      <th></th>\n",
              "      <th></th>\n",
              "      <th></th>\n",
              "      <th></th>\n",
              "    </tr>\n",
              "  </thead>\n",
              "  <tbody>\n",
              "    <tr>\n",
              "      <th>7590-VHVEG</th>\n",
              "      <td>Month-to-month</td>\n",
              "      <td>Yes</td>\n",
              "      <td>Electronic check</td>\n",
              "      <td>30</td>\n",
              "      <td>31</td>\n",
              "      <td>0</td>\n",
              "      <td>Female</td>\n",
              "      <td>0</td>\n",
              "      <td>Yes</td>\n",
              "      <td>No</td>\n",
              "      <td>DSL</td>\n",
              "      <td>No</td>\n",
              "      <td>Yes</td>\n",
              "      <td>No</td>\n",
              "      <td>No</td>\n",
              "      <td>No</td>\n",
              "      <td>No</td>\n",
              "      <td>31</td>\n",
              "      <td>0</td>\n",
              "    </tr>\n",
              "    <tr>\n",
              "      <th>5575-GNVDE</th>\n",
              "      <td>One year</td>\n",
              "      <td>No</td>\n",
              "      <td>Mailed check</td>\n",
              "      <td>57</td>\n",
              "      <td>2072</td>\n",
              "      <td>No</td>\n",
              "      <td>Male</td>\n",
              "      <td>0</td>\n",
              "      <td>No</td>\n",
              "      <td>No</td>\n",
              "      <td>DSL</td>\n",
              "      <td>Yes</td>\n",
              "      <td>No</td>\n",
              "      <td>Yes</td>\n",
              "      <td>No</td>\n",
              "      <td>No</td>\n",
              "      <td>No</td>\n",
              "      <td>1036</td>\n",
              "      <td>0</td>\n",
              "    </tr>\n",
              "    <tr>\n",
              "      <th>3668-QPYBK</th>\n",
              "      <td>Month-to-month</td>\n",
              "      <td>Yes</td>\n",
              "      <td>Mailed check</td>\n",
              "      <td>54</td>\n",
              "      <td>226</td>\n",
              "      <td>No</td>\n",
              "      <td>Male</td>\n",
              "      <td>0</td>\n",
              "      <td>No</td>\n",
              "      <td>No</td>\n",
              "      <td>DSL</td>\n",
              "      <td>Yes</td>\n",
              "      <td>Yes</td>\n",
              "      <td>No</td>\n",
              "      <td>No</td>\n",
              "      <td>No</td>\n",
              "      <td>No</td>\n",
              "      <td>123</td>\n",
              "      <td>0</td>\n",
              "    </tr>\n",
              "    <tr>\n",
              "      <th>7795-CFOCW</th>\n",
              "      <td>One year</td>\n",
              "      <td>No</td>\n",
              "      <td>Bank transfer (automatic)</td>\n",
              "      <td>42</td>\n",
              "      <td>1961</td>\n",
              "      <td>0</td>\n",
              "      <td>Male</td>\n",
              "      <td>0</td>\n",
              "      <td>No</td>\n",
              "      <td>No</td>\n",
              "      <td>DSL</td>\n",
              "      <td>Yes</td>\n",
              "      <td>No</td>\n",
              "      <td>Yes</td>\n",
              "      <td>Yes</td>\n",
              "      <td>No</td>\n",
              "      <td>No</td>\n",
              "      <td>1371</td>\n",
              "      <td>0</td>\n",
              "    </tr>\n",
              "    <tr>\n",
              "      <th>9237-HQITU</th>\n",
              "      <td>Month-to-month</td>\n",
              "      <td>Yes</td>\n",
              "      <td>Electronic check</td>\n",
              "      <td>71</td>\n",
              "      <td>354</td>\n",
              "      <td>No</td>\n",
              "      <td>Female</td>\n",
              "      <td>0</td>\n",
              "      <td>No</td>\n",
              "      <td>No</td>\n",
              "      <td>Fiber optic</td>\n",
              "      <td>No</td>\n",
              "      <td>No</td>\n",
              "      <td>No</td>\n",
              "      <td>No</td>\n",
              "      <td>No</td>\n",
              "      <td>No</td>\n",
              "      <td>153</td>\n",
              "      <td>0</td>\n",
              "    </tr>\n",
              "  </tbody>\n",
              "</table>\n",
              "</div>\n",
              "      <button class=\"colab-df-convert\" onclick=\"convertToInteractive('df-ade27dc3-2c18-4156-a58a-c1ffefcf4312')\"\n",
              "              title=\"Convert this dataframe to an interactive table.\"\n",
              "              style=\"display:none;\">\n",
              "        \n",
              "  <svg xmlns=\"http://www.w3.org/2000/svg\" height=\"24px\"viewBox=\"0 0 24 24\"\n",
              "       width=\"24px\">\n",
              "    <path d=\"M0 0h24v24H0V0z\" fill=\"none\"/>\n",
              "    <path d=\"M18.56 5.44l.94 2.06.94-2.06 2.06-.94-2.06-.94-.94-2.06-.94 2.06-2.06.94zm-11 1L8.5 8.5l.94-2.06 2.06-.94-2.06-.94L8.5 2.5l-.94 2.06-2.06.94zm10 10l.94 2.06.94-2.06 2.06-.94-2.06-.94-.94-2.06-.94 2.06-2.06.94z\"/><path d=\"M17.41 7.96l-1.37-1.37c-.4-.4-.92-.59-1.43-.59-.52 0-1.04.2-1.43.59L10.3 9.45l-7.72 7.72c-.78.78-.78 2.05 0 2.83L4 21.41c.39.39.9.59 1.41.59.51 0 1.02-.2 1.41-.59l7.78-7.78 2.81-2.81c.8-.78.8-2.07 0-2.86zM5.41 20L4 18.59l7.72-7.72 1.47 1.35L5.41 20z\"/>\n",
              "  </svg>\n",
              "      </button>\n",
              "      \n",
              "  <style>\n",
              "    .colab-df-container {\n",
              "      display:flex;\n",
              "      flex-wrap:wrap;\n",
              "      gap: 12px;\n",
              "    }\n",
              "\n",
              "    .colab-df-convert {\n",
              "      background-color: #E8F0FE;\n",
              "      border: none;\n",
              "      border-radius: 50%;\n",
              "      cursor: pointer;\n",
              "      display: none;\n",
              "      fill: #1967D2;\n",
              "      height: 32px;\n",
              "      padding: 0 0 0 0;\n",
              "      width: 32px;\n",
              "    }\n",
              "\n",
              "    .colab-df-convert:hover {\n",
              "      background-color: #E2EBFA;\n",
              "      box-shadow: 0px 1px 2px rgba(60, 64, 67, 0.3), 0px 1px 3px 1px rgba(60, 64, 67, 0.15);\n",
              "      fill: #174EA6;\n",
              "    }\n",
              "\n",
              "    [theme=dark] .colab-df-convert {\n",
              "      background-color: #3B4455;\n",
              "      fill: #D2E3FC;\n",
              "    }\n",
              "\n",
              "    [theme=dark] .colab-df-convert:hover {\n",
              "      background-color: #434B5C;\n",
              "      box-shadow: 0px 1px 3px 1px rgba(0, 0, 0, 0.15);\n",
              "      filter: drop-shadow(0px 1px 2px rgba(0, 0, 0, 0.3));\n",
              "      fill: #FFFFFF;\n",
              "    }\n",
              "  </style>\n",
              "\n",
              "      <script>\n",
              "        const buttonEl =\n",
              "          document.querySelector('#df-ade27dc3-2c18-4156-a58a-c1ffefcf4312 button.colab-df-convert');\n",
              "        buttonEl.style.display =\n",
              "          google.colab.kernel.accessAllowed ? 'block' : 'none';\n",
              "\n",
              "        async function convertToInteractive(key) {\n",
              "          const element = document.querySelector('#df-ade27dc3-2c18-4156-a58a-c1ffefcf4312');\n",
              "          const dataTable =\n",
              "            await google.colab.kernel.invokeFunction('convertToInteractive',\n",
              "                                                     [key], {});\n",
              "          if (!dataTable) return;\n",
              "\n",
              "          const docLinkHtml = 'Like what you see? Visit the ' +\n",
              "            '<a target=\"_blank\" href=https://colab.research.google.com/notebooks/data_table.ipynb>data table notebook</a>'\n",
              "            + ' to learn more about interactive tables.';\n",
              "          element.innerHTML = '';\n",
              "          dataTable['output_type'] = 'display_data';\n",
              "          await google.colab.output.renderOutput(dataTable, element);\n",
              "          const docLink = document.createElement('div');\n",
              "          docLink.innerHTML = docLinkHtml;\n",
              "          element.appendChild(docLink);\n",
              "        }\n",
              "      </script>\n",
              "    </div>\n",
              "  </div>\n",
              "  "
            ],
            "text/plain": [
              "                      Type PaperlessBilling              PaymentMethod  \\\n",
              "customerID                                                               \n",
              "7590-VHVEG  Month-to-month              Yes           Electronic check   \n",
              "5575-GNVDE        One year               No               Mailed check   \n",
              "3668-QPYBK  Month-to-month              Yes               Mailed check   \n",
              "7795-CFOCW        One year               No  Bank transfer (automatic)   \n",
              "9237-HQITU  Month-to-month              Yes           Electronic check   \n",
              "\n",
              "            MonthlyCharges  TotalCharges MultipleLines  gender  SeniorCitizen  \\\n",
              "customerID                                                                      \n",
              "7590-VHVEG              30            31             0  Female              0   \n",
              "5575-GNVDE              57          2072            No    Male              0   \n",
              "3668-QPYBK              54           226            No    Male              0   \n",
              "7795-CFOCW              42          1961             0    Male              0   \n",
              "9237-HQITU              71           354            No  Female              0   \n",
              "\n",
              "           Partner Dependents InternetService OnlineSecurity OnlineBackup  \\\n",
              "customerID                                                                  \n",
              "7590-VHVEG     Yes         No             DSL             No          Yes   \n",
              "5575-GNVDE      No         No             DSL            Yes           No   \n",
              "3668-QPYBK      No         No             DSL            Yes          Yes   \n",
              "7795-CFOCW      No         No             DSL            Yes           No   \n",
              "9237-HQITU      No         No     Fiber optic             No           No   \n",
              "\n",
              "           DeviceProtection TechSupport StreamingTV StreamingMovies  \\\n",
              "customerID                                                            \n",
              "7590-VHVEG               No          No          No              No   \n",
              "5575-GNVDE              Yes          No          No              No   \n",
              "3668-QPYBK               No          No          No              No   \n",
              "7795-CFOCW              Yes         Yes          No              No   \n",
              "9237-HQITU               No          No          No              No   \n",
              "\n",
              "            TotalTime  CustomerLeft  \n",
              "customerID                           \n",
              "7590-VHVEG         31             0  \n",
              "5575-GNVDE       1036             0  \n",
              "3668-QPYBK        123             0  \n",
              "7795-CFOCW       1371             0  \n",
              "9237-HQITU        153             0  "
            ]
          },
          "execution_count": 58,
          "metadata": {},
          "output_type": "execute_result"
        }
      ],
      "source": [
        "data.head(5)"
      ]
    },
    {
      "cell_type": "markdown",
      "metadata": {
        "id": "GUa12_5jty7e"
      },
      "source": [
        "Построим матрицу корреляции 𝜙k"
      ]
    },
    {
      "cell_type": "code",
      "execution_count": null,
      "metadata": {
        "colab": {
          "base_uri": "https://localhost:8080/",
          "height": 727
        },
        "id": "WxrbPQbeYZyA",
        "outputId": "de9b08f5-904b-4019-cda6-21bad1ea7d99"
      },
      "outputs": [
        {
          "name": "stdout",
          "output_type": "stream",
          "text": [
            "interval columns not set, guessing: ['MonthlyCharges', 'TotalCharges', 'SeniorCitizen', 'TotalTime', 'CustomerLeft']\n"
          ]
        },
        {
          "data": {
            "text/html": [
              "\n",
              "  <div id=\"df-af709901-6f0f-419f-842d-dcd78dd4d028\">\n",
              "    <div class=\"colab-df-container\">\n",
              "      <div>\n",
              "<style scoped>\n",
              "    .dataframe tbody tr th:only-of-type {\n",
              "        vertical-align: middle;\n",
              "    }\n",
              "\n",
              "    .dataframe tbody tr th {\n",
              "        vertical-align: top;\n",
              "    }\n",
              "\n",
              "    .dataframe thead th {\n",
              "        text-align: right;\n",
              "    }\n",
              "</style>\n",
              "<table border=\"1\" class=\"dataframe\">\n",
              "  <thead>\n",
              "    <tr style=\"text-align: right;\">\n",
              "      <th></th>\n",
              "      <th>Type</th>\n",
              "      <th>PaperlessBilling</th>\n",
              "      <th>PaymentMethod</th>\n",
              "      <th>MonthlyCharges</th>\n",
              "      <th>TotalCharges</th>\n",
              "      <th>MultipleLines</th>\n",
              "      <th>gender</th>\n",
              "      <th>SeniorCitizen</th>\n",
              "      <th>Partner</th>\n",
              "      <th>Dependents</th>\n",
              "      <th>InternetService</th>\n",
              "      <th>OnlineSecurity</th>\n",
              "      <th>OnlineBackup</th>\n",
              "      <th>DeviceProtection</th>\n",
              "      <th>TechSupport</th>\n",
              "      <th>StreamingTV</th>\n",
              "      <th>StreamingMovies</th>\n",
              "      <th>TotalTime</th>\n",
              "      <th>CustomerLeft</th>\n",
              "    </tr>\n",
              "  </thead>\n",
              "  <tbody>\n",
              "    <tr>\n",
              "      <th>Type</th>\n",
              "      <td>1.00</td>\n",
              "      <td>0.11</td>\n",
              "      <td>0.28</td>\n",
              "      <td>0.39</td>\n",
              "      <td>0.47</td>\n",
              "      <td>0.24</td>\n",
              "      <td>0.00</td>\n",
              "      <td>0.09</td>\n",
              "      <td>0.18</td>\n",
              "      <td>0.15</td>\n",
              "      <td>0.51</td>\n",
              "      <td>0.64</td>\n",
              "      <td>0.58</td>\n",
              "      <td>0.63</td>\n",
              "      <td>0.67</td>\n",
              "      <td>0.55</td>\n",
              "      <td>0.55</td>\n",
              "      <td>0.63</td>\n",
              "      <td>0.09</td>\n",
              "    </tr>\n",
              "    <tr>\n",
              "      <th>PaperlessBilling</th>\n",
              "      <td>0.11</td>\n",
              "      <td>1.00</td>\n",
              "      <td>0.37</td>\n",
              "      <td>0.47</td>\n",
              "      <td>0.20</td>\n",
              "      <td>0.10</td>\n",
              "      <td>0.00</td>\n",
              "      <td>0.24</td>\n",
              "      <td>0.01</td>\n",
              "      <td>0.17</td>\n",
              "      <td>0.23</td>\n",
              "      <td>0.21</td>\n",
              "      <td>0.20</td>\n",
              "      <td>0.20</td>\n",
              "      <td>0.20</td>\n",
              "      <td>0.20</td>\n",
              "      <td>0.20</td>\n",
              "      <td>0.03</td>\n",
              "      <td>0.08</td>\n",
              "    </tr>\n",
              "    <tr>\n",
              "      <th>PaymentMethod</th>\n",
              "      <td>0.28</td>\n",
              "      <td>0.37</td>\n",
              "      <td>1.00</td>\n",
              "      <td>0.40</td>\n",
              "      <td>0.34</td>\n",
              "      <td>0.17</td>\n",
              "      <td>0.00</td>\n",
              "      <td>0.29</td>\n",
              "      <td>0.24</td>\n",
              "      <td>0.22</td>\n",
              "      <td>0.32</td>\n",
              "      <td>0.32</td>\n",
              "      <td>0.29</td>\n",
              "      <td>0.30</td>\n",
              "      <td>0.32</td>\n",
              "      <td>0.28</td>\n",
              "      <td>0.29</td>\n",
              "      <td>0.35</td>\n",
              "      <td>0.21</td>\n",
              "    </tr>\n",
              "    <tr>\n",
              "      <th>MonthlyCharges</th>\n",
              "      <td>0.39</td>\n",
              "      <td>0.47</td>\n",
              "      <td>0.40</td>\n",
              "      <td>1.00</td>\n",
              "      <td>0.71</td>\n",
              "      <td>0.71</td>\n",
              "      <td>0.00</td>\n",
              "      <td>0.31</td>\n",
              "      <td>0.20</td>\n",
              "      <td>0.19</td>\n",
              "      <td>0.92</td>\n",
              "      <td>0.81</td>\n",
              "      <td>0.82</td>\n",
              "      <td>0.83</td>\n",
              "      <td>0.82</td>\n",
              "      <td>0.86</td>\n",
              "      <td>0.86</td>\n",
              "      <td>0.39</td>\n",
              "      <td>0.23</td>\n",
              "    </tr>\n",
              "    <tr>\n",
              "      <th>TotalCharges</th>\n",
              "      <td>0.47</td>\n",
              "      <td>0.20</td>\n",
              "      <td>0.34</td>\n",
              "      <td>0.71</td>\n",
              "      <td>1.00</td>\n",
              "      <td>0.47</td>\n",
              "      <td>0.00</td>\n",
              "      <td>0.14</td>\n",
              "      <td>0.38</td>\n",
              "      <td>0.08</td>\n",
              "      <td>0.49</td>\n",
              "      <td>0.52</td>\n",
              "      <td>0.55</td>\n",
              "      <td>0.56</td>\n",
              "      <td>0.53</td>\n",
              "      <td>0.56</td>\n",
              "      <td>0.55</td>\n",
              "      <td>0.85</td>\n",
              "      <td>0.30</td>\n",
              "    </tr>\n",
              "    <tr>\n",
              "      <th>MultipleLines</th>\n",
              "      <td>0.24</td>\n",
              "      <td>0.10</td>\n",
              "      <td>0.17</td>\n",
              "      <td>0.71</td>\n",
              "      <td>0.47</td>\n",
              "      <td>1.00</td>\n",
              "      <td>0.00</td>\n",
              "      <td>0.09</td>\n",
              "      <td>0.09</td>\n",
              "      <td>0.01</td>\n",
              "      <td>0.74</td>\n",
              "      <td>0.54</td>\n",
              "      <td>0.56</td>\n",
              "      <td>0.56</td>\n",
              "      <td>0.54</td>\n",
              "      <td>0.59</td>\n",
              "      <td>0.59</td>\n",
              "      <td>0.35</td>\n",
              "      <td>0.11</td>\n",
              "    </tr>\n",
              "    <tr>\n",
              "      <th>gender</th>\n",
              "      <td>0.00</td>\n",
              "      <td>0.00</td>\n",
              "      <td>0.00</td>\n",
              "      <td>0.00</td>\n",
              "      <td>0.00</td>\n",
              "      <td>0.00</td>\n",
              "      <td>1.00</td>\n",
              "      <td>0.00</td>\n",
              "      <td>0.00</td>\n",
              "      <td>0.00</td>\n",
              "      <td>0.00</td>\n",
              "      <td>0.00</td>\n",
              "      <td>0.00</td>\n",
              "      <td>0.00</td>\n",
              "      <td>0.00</td>\n",
              "      <td>0.00</td>\n",
              "      <td>0.00</td>\n",
              "      <td>0.00</td>\n",
              "      <td>0.01</td>\n",
              "    </tr>\n",
              "    <tr>\n",
              "      <th>SeniorCitizen</th>\n",
              "      <td>0.09</td>\n",
              "      <td>0.24</td>\n",
              "      <td>0.29</td>\n",
              "      <td>0.31</td>\n",
              "      <td>0.14</td>\n",
              "      <td>0.09</td>\n",
              "      <td>0.00</td>\n",
              "      <td>1.00</td>\n",
              "      <td>0.02</td>\n",
              "      <td>0.32</td>\n",
              "      <td>0.16</td>\n",
              "      <td>0.13</td>\n",
              "      <td>0.11</td>\n",
              "      <td>0.11</td>\n",
              "      <td>0.14</td>\n",
              "      <td>0.11</td>\n",
              "      <td>0.11</td>\n",
              "      <td>0.06</td>\n",
              "      <td>0.09</td>\n",
              "    </tr>\n",
              "    <tr>\n",
              "      <th>Partner</th>\n",
              "      <td>0.18</td>\n",
              "      <td>0.01</td>\n",
              "      <td>0.24</td>\n",
              "      <td>0.20</td>\n",
              "      <td>0.38</td>\n",
              "      <td>0.09</td>\n",
              "      <td>0.00</td>\n",
              "      <td>0.02</td>\n",
              "      <td>1.00</td>\n",
              "      <td>0.65</td>\n",
              "      <td>0.00</td>\n",
              "      <td>0.09</td>\n",
              "      <td>0.09</td>\n",
              "      <td>0.10</td>\n",
              "      <td>0.08</td>\n",
              "      <td>0.08</td>\n",
              "      <td>0.08</td>\n",
              "      <td>0.45</td>\n",
              "      <td>0.23</td>\n",
              "    </tr>\n",
              "    <tr>\n",
              "      <th>Dependents</th>\n",
              "      <td>0.15</td>\n",
              "      <td>0.17</td>\n",
              "      <td>0.22</td>\n",
              "      <td>0.19</td>\n",
              "      <td>0.08</td>\n",
              "      <td>0.01</td>\n",
              "      <td>0.00</td>\n",
              "      <td>0.32</td>\n",
              "      <td>0.65</td>\n",
              "      <td>1.00</td>\n",
              "      <td>0.11</td>\n",
              "      <td>0.12</td>\n",
              "      <td>0.10</td>\n",
              "      <td>0.09</td>\n",
              "      <td>0.11</td>\n",
              "      <td>0.09</td>\n",
              "      <td>0.08</td>\n",
              "      <td>0.20</td>\n",
              "      <td>0.05</td>\n",
              "    </tr>\n",
              "    <tr>\n",
              "      <th>InternetService</th>\n",
              "      <td>0.51</td>\n",
              "      <td>0.23</td>\n",
              "      <td>0.32</td>\n",
              "      <td>0.92</td>\n",
              "      <td>0.49</td>\n",
              "      <td>0.74</td>\n",
              "      <td>0.00</td>\n",
              "      <td>0.16</td>\n",
              "      <td>0.00</td>\n",
              "      <td>0.11</td>\n",
              "      <td>1.00</td>\n",
              "      <td>0.95</td>\n",
              "      <td>0.94</td>\n",
              "      <td>0.94</td>\n",
              "      <td>0.95</td>\n",
              "      <td>0.95</td>\n",
              "      <td>0.95</td>\n",
              "      <td>0.06</td>\n",
              "      <td>0.06</td>\n",
              "    </tr>\n",
              "    <tr>\n",
              "      <th>OnlineSecurity</th>\n",
              "      <td>0.64</td>\n",
              "      <td>0.21</td>\n",
              "      <td>0.32</td>\n",
              "      <td>0.81</td>\n",
              "      <td>0.52</td>\n",
              "      <td>0.54</td>\n",
              "      <td>0.00</td>\n",
              "      <td>0.13</td>\n",
              "      <td>0.09</td>\n",
              "      <td>0.12</td>\n",
              "      <td>0.95</td>\n",
              "      <td>1.00</td>\n",
              "      <td>0.95</td>\n",
              "      <td>0.95</td>\n",
              "      <td>0.95</td>\n",
              "      <td>0.94</td>\n",
              "      <td>0.94</td>\n",
              "      <td>0.35</td>\n",
              "      <td>0.06</td>\n",
              "    </tr>\n",
              "    <tr>\n",
              "      <th>OnlineBackup</th>\n",
              "      <td>0.58</td>\n",
              "      <td>0.20</td>\n",
              "      <td>0.29</td>\n",
              "      <td>0.82</td>\n",
              "      <td>0.55</td>\n",
              "      <td>0.56</td>\n",
              "      <td>0.00</td>\n",
              "      <td>0.11</td>\n",
              "      <td>0.09</td>\n",
              "      <td>0.10</td>\n",
              "      <td>0.94</td>\n",
              "      <td>0.95</td>\n",
              "      <td>1.00</td>\n",
              "      <td>0.95</td>\n",
              "      <td>0.95</td>\n",
              "      <td>0.95</td>\n",
              "      <td>0.95</td>\n",
              "      <td>0.37</td>\n",
              "      <td>0.09</td>\n",
              "    </tr>\n",
              "    <tr>\n",
              "      <th>DeviceProtection</th>\n",
              "      <td>0.63</td>\n",
              "      <td>0.20</td>\n",
              "      <td>0.30</td>\n",
              "      <td>0.83</td>\n",
              "      <td>0.56</td>\n",
              "      <td>0.56</td>\n",
              "      <td>0.00</td>\n",
              "      <td>0.11</td>\n",
              "      <td>0.10</td>\n",
              "      <td>0.09</td>\n",
              "      <td>0.94</td>\n",
              "      <td>0.95</td>\n",
              "      <td>0.95</td>\n",
              "      <td>1.00</td>\n",
              "      <td>0.95</td>\n",
              "      <td>0.95</td>\n",
              "      <td>0.95</td>\n",
              "      <td>0.37</td>\n",
              "      <td>0.09</td>\n",
              "    </tr>\n",
              "    <tr>\n",
              "      <th>TechSupport</th>\n",
              "      <td>0.67</td>\n",
              "      <td>0.20</td>\n",
              "      <td>0.32</td>\n",
              "      <td>0.82</td>\n",
              "      <td>0.53</td>\n",
              "      <td>0.54</td>\n",
              "      <td>0.00</td>\n",
              "      <td>0.14</td>\n",
              "      <td>0.08</td>\n",
              "      <td>0.11</td>\n",
              "      <td>0.95</td>\n",
              "      <td>0.95</td>\n",
              "      <td>0.95</td>\n",
              "      <td>0.95</td>\n",
              "      <td>1.00</td>\n",
              "      <td>0.95</td>\n",
              "      <td>0.95</td>\n",
              "      <td>0.35</td>\n",
              "      <td>0.05</td>\n",
              "    </tr>\n",
              "    <tr>\n",
              "      <th>StreamingTV</th>\n",
              "      <td>0.55</td>\n",
              "      <td>0.20</td>\n",
              "      <td>0.28</td>\n",
              "      <td>0.86</td>\n",
              "      <td>0.56</td>\n",
              "      <td>0.59</td>\n",
              "      <td>0.00</td>\n",
              "      <td>0.11</td>\n",
              "      <td>0.08</td>\n",
              "      <td>0.09</td>\n",
              "      <td>0.95</td>\n",
              "      <td>0.94</td>\n",
              "      <td>0.95</td>\n",
              "      <td>0.95</td>\n",
              "      <td>0.95</td>\n",
              "      <td>1.00</td>\n",
              "      <td>0.97</td>\n",
              "      <td>0.31</td>\n",
              "      <td>0.08</td>\n",
              "    </tr>\n",
              "    <tr>\n",
              "      <th>StreamingMovies</th>\n",
              "      <td>0.55</td>\n",
              "      <td>0.20</td>\n",
              "      <td>0.29</td>\n",
              "      <td>0.86</td>\n",
              "      <td>0.55</td>\n",
              "      <td>0.59</td>\n",
              "      <td>0.00</td>\n",
              "      <td>0.11</td>\n",
              "      <td>0.08</td>\n",
              "      <td>0.08</td>\n",
              "      <td>0.95</td>\n",
              "      <td>0.94</td>\n",
              "      <td>0.95</td>\n",
              "      <td>0.95</td>\n",
              "      <td>0.95</td>\n",
              "      <td>0.97</td>\n",
              "      <td>1.00</td>\n",
              "      <td>0.31</td>\n",
              "      <td>0.09</td>\n",
              "    </tr>\n",
              "    <tr>\n",
              "      <th>TotalTime</th>\n",
              "      <td>0.63</td>\n",
              "      <td>0.03</td>\n",
              "      <td>0.35</td>\n",
              "      <td>0.39</td>\n",
              "      <td>0.85</td>\n",
              "      <td>0.35</td>\n",
              "      <td>0.00</td>\n",
              "      <td>0.06</td>\n",
              "      <td>0.45</td>\n",
              "      <td>0.20</td>\n",
              "      <td>0.06</td>\n",
              "      <td>0.35</td>\n",
              "      <td>0.37</td>\n",
              "      <td>0.37</td>\n",
              "      <td>0.35</td>\n",
              "      <td>0.31</td>\n",
              "      <td>0.31</td>\n",
              "      <td>1.00</td>\n",
              "      <td>0.37</td>\n",
              "    </tr>\n",
              "    <tr>\n",
              "      <th>CustomerLeft</th>\n",
              "      <td>0.09</td>\n",
              "      <td>0.08</td>\n",
              "      <td>0.21</td>\n",
              "      <td>0.23</td>\n",
              "      <td>0.30</td>\n",
              "      <td>0.11</td>\n",
              "      <td>0.01</td>\n",
              "      <td>0.09</td>\n",
              "      <td>0.23</td>\n",
              "      <td>0.05</td>\n",
              "      <td>0.06</td>\n",
              "      <td>0.06</td>\n",
              "      <td>0.09</td>\n",
              "      <td>0.09</td>\n",
              "      <td>0.05</td>\n",
              "      <td>0.08</td>\n",
              "      <td>0.09</td>\n",
              "      <td>0.37</td>\n",
              "      <td>1.00</td>\n",
              "    </tr>\n",
              "  </tbody>\n",
              "</table>\n",
              "</div>\n",
              "      <button class=\"colab-df-convert\" onclick=\"convertToInteractive('df-af709901-6f0f-419f-842d-dcd78dd4d028')\"\n",
              "              title=\"Convert this dataframe to an interactive table.\"\n",
              "              style=\"display:none;\">\n",
              "        \n",
              "  <svg xmlns=\"http://www.w3.org/2000/svg\" height=\"24px\"viewBox=\"0 0 24 24\"\n",
              "       width=\"24px\">\n",
              "    <path d=\"M0 0h24v24H0V0z\" fill=\"none\"/>\n",
              "    <path d=\"M18.56 5.44l.94 2.06.94-2.06 2.06-.94-2.06-.94-.94-2.06-.94 2.06-2.06.94zm-11 1L8.5 8.5l.94-2.06 2.06-.94-2.06-.94L8.5 2.5l-.94 2.06-2.06.94zm10 10l.94 2.06.94-2.06 2.06-.94-2.06-.94-.94-2.06-.94 2.06-2.06.94z\"/><path d=\"M17.41 7.96l-1.37-1.37c-.4-.4-.92-.59-1.43-.59-.52 0-1.04.2-1.43.59L10.3 9.45l-7.72 7.72c-.78.78-.78 2.05 0 2.83L4 21.41c.39.39.9.59 1.41.59.51 0 1.02-.2 1.41-.59l7.78-7.78 2.81-2.81c.8-.78.8-2.07 0-2.86zM5.41 20L4 18.59l7.72-7.72 1.47 1.35L5.41 20z\"/>\n",
              "  </svg>\n",
              "      </button>\n",
              "      \n",
              "  <style>\n",
              "    .colab-df-container {\n",
              "      display:flex;\n",
              "      flex-wrap:wrap;\n",
              "      gap: 12px;\n",
              "    }\n",
              "\n",
              "    .colab-df-convert {\n",
              "      background-color: #E8F0FE;\n",
              "      border: none;\n",
              "      border-radius: 50%;\n",
              "      cursor: pointer;\n",
              "      display: none;\n",
              "      fill: #1967D2;\n",
              "      height: 32px;\n",
              "      padding: 0 0 0 0;\n",
              "      width: 32px;\n",
              "    }\n",
              "\n",
              "    .colab-df-convert:hover {\n",
              "      background-color: #E2EBFA;\n",
              "      box-shadow: 0px 1px 2px rgba(60, 64, 67, 0.3), 0px 1px 3px 1px rgba(60, 64, 67, 0.15);\n",
              "      fill: #174EA6;\n",
              "    }\n",
              "\n",
              "    [theme=dark] .colab-df-convert {\n",
              "      background-color: #3B4455;\n",
              "      fill: #D2E3FC;\n",
              "    }\n",
              "\n",
              "    [theme=dark] .colab-df-convert:hover {\n",
              "      background-color: #434B5C;\n",
              "      box-shadow: 0px 1px 3px 1px rgba(0, 0, 0, 0.15);\n",
              "      filter: drop-shadow(0px 1px 2px rgba(0, 0, 0, 0.3));\n",
              "      fill: #FFFFFF;\n",
              "    }\n",
              "  </style>\n",
              "\n",
              "      <script>\n",
              "        const buttonEl =\n",
              "          document.querySelector('#df-af709901-6f0f-419f-842d-dcd78dd4d028 button.colab-df-convert');\n",
              "        buttonEl.style.display =\n",
              "          google.colab.kernel.accessAllowed ? 'block' : 'none';\n",
              "\n",
              "        async function convertToInteractive(key) {\n",
              "          const element = document.querySelector('#df-af709901-6f0f-419f-842d-dcd78dd4d028');\n",
              "          const dataTable =\n",
              "            await google.colab.kernel.invokeFunction('convertToInteractive',\n",
              "                                                     [key], {});\n",
              "          if (!dataTable) return;\n",
              "\n",
              "          const docLinkHtml = 'Like what you see? Visit the ' +\n",
              "            '<a target=\"_blank\" href=https://colab.research.google.com/notebooks/data_table.ipynb>data table notebook</a>'\n",
              "            + ' to learn more about interactive tables.';\n",
              "          element.innerHTML = '';\n",
              "          dataTable['output_type'] = 'display_data';\n",
              "          await google.colab.output.renderOutput(dataTable, element);\n",
              "          const docLink = document.createElement('div');\n",
              "          docLink.innerHTML = docLinkHtml;\n",
              "          element.appendChild(docLink);\n",
              "        }\n",
              "      </script>\n",
              "    </div>\n",
              "  </div>\n",
              "  "
            ],
            "text/plain": [
              "                  Type  PaperlessBilling  PaymentMethod  MonthlyCharges  \\\n",
              "Type              1.00              0.11           0.28            0.39   \n",
              "PaperlessBilling  0.11              1.00           0.37            0.47   \n",
              "PaymentMethod     0.28              0.37           1.00            0.40   \n",
              "MonthlyCharges    0.39              0.47           0.40            1.00   \n",
              "TotalCharges      0.47              0.20           0.34            0.71   \n",
              "MultipleLines     0.24              0.10           0.17            0.71   \n",
              "gender            0.00              0.00           0.00            0.00   \n",
              "SeniorCitizen     0.09              0.24           0.29            0.31   \n",
              "Partner           0.18              0.01           0.24            0.20   \n",
              "Dependents        0.15              0.17           0.22            0.19   \n",
              "InternetService   0.51              0.23           0.32            0.92   \n",
              "OnlineSecurity    0.64              0.21           0.32            0.81   \n",
              "OnlineBackup      0.58              0.20           0.29            0.82   \n",
              "DeviceProtection  0.63              0.20           0.30            0.83   \n",
              "TechSupport       0.67              0.20           0.32            0.82   \n",
              "StreamingTV       0.55              0.20           0.28            0.86   \n",
              "StreamingMovies   0.55              0.20           0.29            0.86   \n",
              "TotalTime         0.63              0.03           0.35            0.39   \n",
              "CustomerLeft      0.09              0.08           0.21            0.23   \n",
              "\n",
              "                  TotalCharges  MultipleLines  gender  SeniorCitizen  Partner  \\\n",
              "Type                      0.47           0.24    0.00           0.09     0.18   \n",
              "PaperlessBilling          0.20           0.10    0.00           0.24     0.01   \n",
              "PaymentMethod             0.34           0.17    0.00           0.29     0.24   \n",
              "MonthlyCharges            0.71           0.71    0.00           0.31     0.20   \n",
              "TotalCharges              1.00           0.47    0.00           0.14     0.38   \n",
              "MultipleLines             0.47           1.00    0.00           0.09     0.09   \n",
              "gender                    0.00           0.00    1.00           0.00     0.00   \n",
              "SeniorCitizen             0.14           0.09    0.00           1.00     0.02   \n",
              "Partner                   0.38           0.09    0.00           0.02     1.00   \n",
              "Dependents                0.08           0.01    0.00           0.32     0.65   \n",
              "InternetService           0.49           0.74    0.00           0.16     0.00   \n",
              "OnlineSecurity            0.52           0.54    0.00           0.13     0.09   \n",
              "OnlineBackup              0.55           0.56    0.00           0.11     0.09   \n",
              "DeviceProtection          0.56           0.56    0.00           0.11     0.10   \n",
              "TechSupport               0.53           0.54    0.00           0.14     0.08   \n",
              "StreamingTV               0.56           0.59    0.00           0.11     0.08   \n",
              "StreamingMovies           0.55           0.59    0.00           0.11     0.08   \n",
              "TotalTime                 0.85           0.35    0.00           0.06     0.45   \n",
              "CustomerLeft              0.30           0.11    0.01           0.09     0.23   \n",
              "\n",
              "                  Dependents  InternetService  OnlineSecurity  OnlineBackup  \\\n",
              "Type                    0.15             0.51            0.64          0.58   \n",
              "PaperlessBilling        0.17             0.23            0.21          0.20   \n",
              "PaymentMethod           0.22             0.32            0.32          0.29   \n",
              "MonthlyCharges          0.19             0.92            0.81          0.82   \n",
              "TotalCharges            0.08             0.49            0.52          0.55   \n",
              "MultipleLines           0.01             0.74            0.54          0.56   \n",
              "gender                  0.00             0.00            0.00          0.00   \n",
              "SeniorCitizen           0.32             0.16            0.13          0.11   \n",
              "Partner                 0.65             0.00            0.09          0.09   \n",
              "Dependents              1.00             0.11            0.12          0.10   \n",
              "InternetService         0.11             1.00            0.95          0.94   \n",
              "OnlineSecurity          0.12             0.95            1.00          0.95   \n",
              "OnlineBackup            0.10             0.94            0.95          1.00   \n",
              "DeviceProtection        0.09             0.94            0.95          0.95   \n",
              "TechSupport             0.11             0.95            0.95          0.95   \n",
              "StreamingTV             0.09             0.95            0.94          0.95   \n",
              "StreamingMovies         0.08             0.95            0.94          0.95   \n",
              "TotalTime               0.20             0.06            0.35          0.37   \n",
              "CustomerLeft            0.05             0.06            0.06          0.09   \n",
              "\n",
              "                  DeviceProtection  TechSupport  StreamingTV  StreamingMovies  \\\n",
              "Type                          0.63         0.67         0.55             0.55   \n",
              "PaperlessBilling              0.20         0.20         0.20             0.20   \n",
              "PaymentMethod                 0.30         0.32         0.28             0.29   \n",
              "MonthlyCharges                0.83         0.82         0.86             0.86   \n",
              "TotalCharges                  0.56         0.53         0.56             0.55   \n",
              "MultipleLines                 0.56         0.54         0.59             0.59   \n",
              "gender                        0.00         0.00         0.00             0.00   \n",
              "SeniorCitizen                 0.11         0.14         0.11             0.11   \n",
              "Partner                       0.10         0.08         0.08             0.08   \n",
              "Dependents                    0.09         0.11         0.09             0.08   \n",
              "InternetService               0.94         0.95         0.95             0.95   \n",
              "OnlineSecurity                0.95         0.95         0.94             0.94   \n",
              "OnlineBackup                  0.95         0.95         0.95             0.95   \n",
              "DeviceProtection              1.00         0.95         0.95             0.95   \n",
              "TechSupport                   0.95         1.00         0.95             0.95   \n",
              "StreamingTV                   0.95         0.95         1.00             0.97   \n",
              "StreamingMovies               0.95         0.95         0.97             1.00   \n",
              "TotalTime                     0.37         0.35         0.31             0.31   \n",
              "CustomerLeft                  0.09         0.05         0.08             0.09   \n",
              "\n",
              "                  TotalTime  CustomerLeft  \n",
              "Type                   0.63          0.09  \n",
              "PaperlessBilling       0.03          0.08  \n",
              "PaymentMethod          0.35          0.21  \n",
              "MonthlyCharges         0.39          0.23  \n",
              "TotalCharges           0.85          0.30  \n",
              "MultipleLines          0.35          0.11  \n",
              "gender                 0.00          0.01  \n",
              "SeniorCitizen          0.06          0.09  \n",
              "Partner                0.45          0.23  \n",
              "Dependents             0.20          0.05  \n",
              "InternetService        0.06          0.06  \n",
              "OnlineSecurity         0.35          0.06  \n",
              "OnlineBackup           0.37          0.09  \n",
              "DeviceProtection       0.37          0.09  \n",
              "TechSupport            0.35          0.05  \n",
              "StreamingTV            0.31          0.08  \n",
              "StreamingMovies        0.31          0.09  \n",
              "TotalTime              1.00          0.37  \n",
              "CustomerLeft           0.37          1.00  "
            ]
          },
          "execution_count": 59,
          "metadata": {},
          "output_type": "execute_result"
        }
      ],
      "source": [
        "phik_overview = data.phik_matrix()\n",
        "phik_overview.round(2)"
      ]
    },
    {
      "cell_type": "markdown",
      "metadata": {
        "id": "NIsF508rvXWk"
      },
      "source": [
        "Визуализируем матрицу"
      ]
    },
    {
      "cell_type": "code",
      "execution_count": null,
      "metadata": {
        "colab": {
          "base_uri": "https://localhost:8080/",
          "height": 807
        },
        "id": "wANrz5DAbhzV",
        "outputId": "50d2199d-9327-4058-aaa5-e597aab7a2cb"
      },
      "outputs": [
        {
          "data": {
            "image/png": "[encoded data removed]",
            "text/plain": [
              "<Figure size 1000x800 with 2 Axes>"
            ]
          },
          "metadata": {},
          "output_type": "display_data"
        }
      ],
      "source": [
        "plot_correlation_matrix(phik_overview.values,\n",
        "                        x_labels=phik_overview.columns,\n",
        "                        y_labels=phik_overview.index,\n",
        "                        vmin=0, vmax=1, color_map=\"Greens\",\n",
        "                        title=r\"correlation $\\phi_K$\",\n",
        "                        fontsize_factor=1.0,\n",
        "                        figsize=(10, 8))\n",
        "plt.tight_layout()"
      ]
    },
    {
      "cell_type": "markdown",
      "metadata": {
        "id": "A_PgDmDZxI1U"
      },
      "source": [
        "Мы видим высокую корреляцию между признаками StreamingMovies, StreamingTV, TechSupport, DeviceProtection, OnlineBackup, OnlineSecurity и InternetService\n",
        "Поскольку я планирую использовать Логистическую регрессию - создам дополнительный датасет без этих признаков."
      ]
    },
    {
      "cell_type": "code",
      "execution_count": null,
      "metadata": {
        "id": "2OxGcj3FXiSO"
      },
      "outputs": [],
      "source": [
        "data_copy = data.drop(['StreamingMovies', 'StreamingTV', 'TechSupport', 'DeviceProtection', 'OnlineBackup', 'OnlineSecurity', 'InternetService'], axis=1)"
      ]
    },
    {
      "cell_type": "markdown",
      "metadata": {
        "id": "EXZ_L8PmCcQv"
      },
      "source": [
        "## Разделение на выборки"
      ]
    },
    {
      "cell_type": "markdown",
      "metadata": {
        "id": "C-MBCJA5I65i"
      },
      "source": [
        "Зададим целевой признак и фичи"
      ]
    },
    {
      "cell_type": "code",
      "execution_count": null,
      "metadata": {
        "id": "YmJUgQtwIRgV"
      },
      "outputs": [],
      "source": [
        "target = data['CustomerLeft']\n",
        "features = data.drop(['CustomerLeft'], axis=1)"
      ]
    },
    {
      "cell_type": "markdown",
      "metadata": {
        "id": "QfLpa9uMcf65"
      },
      "source": [
        "Разбьём данные на обучающую и тестовую выборки в соотношении 75:25"
      ]
    },
    {
      "cell_type": "code",
      "execution_count": null,
      "metadata": {
        "id": "Qj2KdB288ShN"
      },
      "outputs": [],
      "source": [
        "RANDOM_STATE = 220523"
      ]
    },
    {
      "cell_type": "code",
      "execution_count": null,
      "metadata": {
        "id": "Lb5wlUOucefk"
      },
      "outputs": [],
      "source": [
        "X_train, X_test, y_train, y_test = train_test_split(\n",
        "    features, target, test_size=0.25, random_state=RANDOM_STATE\n",
        ")"
      ]
    },
    {
      "cell_type": "markdown",
      "metadata": {
        "id": "Cp82ZyY4Ci7P"
      },
      "source": [
        "## Машинное обучение\n",
        "<b>LogisticRegression</b>"
      ]
    },
    {
      "cell_type": "markdown",
      "metadata": {
        "id": "IJHlybOp8Gjx"
      },
      "source": [
        "Категориальные признаки для OHE LogisticRegression"
      ]
    },
    {
      "cell_type": "code",
      "execution_count": null,
      "metadata": {
        "colab": {
          "base_uri": "https://localhost:8080/"
        },
        "id": "XKfDXY8v8DI1",
        "outputId": "ad9b463a-09b6-47b5-ae02-2e688ae444af"
      },
      "outputs": [
        {
          "name": "stdout",
          "output_type": "stream",
          "text": [
            "['Type', 'PaperlessBilling', 'PaymentMethod', 'MultipleLines', 'gender', 'Partner', 'Dependents', 'InternetService', 'OnlineSecurity', 'OnlineBackup', 'DeviceProtection', 'TechSupport', 'StreamingTV', 'StreamingMovies']\n"
          ]
        }
      ],
      "source": [
        "ohe_features_LR = X_train.select_dtypes(include='object').columns.to_list()\n",
        "\n",
        "print(ohe_features_LR)"
      ]
    },
    {
      "cell_type": "markdown",
      "metadata": {
        "id": "rw0bUwfj8jdR"
      },
      "source": [
        "Численные признаки для LogisticRegression. SeniorCitizen уже закодирован"
      ]
    },
    {
      "cell_type": "code",
      "execution_count": null,
      "metadata": {
        "colab": {
          "base_uri": "https://localhost:8080/"
        },
        "id": "239yWSlF8qGG",
        "outputId": "0a9f97c7-9f5c-4149-8d2f-1abf6a3cae5e"
      },
      "outputs": [
        {
          "data": {
            "text/plain": [
              "['MonthlyCharges', 'TotalCharges', 'TotalTime']"
            ]
          },
          "execution_count": 66,
          "metadata": {},
          "output_type": "execute_result"
        }
      ],
      "source": [
        "num_features_LR = X_train.select_dtypes(exclude='object').columns.to_list()\n",
        "num_features_LR.remove('SeniorCitizen')\n",
        "num_features_LR"
      ]
    },
    {
      "cell_type": "markdown",
      "metadata": {
        "id": "ugstEVsy_La1"
      },
      "source": [
        "Меняю нули на No"
      ]
    },
    {
      "cell_type": "code",
      "execution_count": null,
      "metadata": {
        "id": "J4867GUW20NQ"
      },
      "outputs": [],
      "source": [
        "col = ['MultipleLines', 'InternetService', 'OnlineSecurity',\n",
        "       'OnlineBackup', 'DeviceProtection', 'TechSupport',\n",
        "       'StreamingTV', 'StreamingMovies']\n",
        "\n",
        "\n",
        "X_train[col] = X_train[col].replace([0], ['No'])"
      ]
    },
    {
      "cell_type": "markdown",
      "metadata": {
        "id": "yapHK5qJ-E2P"
      },
      "source": [
        "Создаю препроцессор и пайплайн, вывожу выборку до преобразования и уже после взаимодействия с препроцессором."
      ]
    },
    {
      "cell_type": "code",
      "execution_count": null,
      "metadata": {
        "colab": {
          "base_uri": "https://localhost:8080/",
          "height": 731
        },
        "id": "HvPCaNVn20NQ",
        "outputId": "7d974450-6f2a-4a28-bc00-7fa4138efd2c"
      },
      "outputs": [
        {
          "data": {
            "text/html": [
              "\n",
              "  <div id=\"df-9ad594ec-f290-4a0c-b446-143fc163f8ad\">\n",
              "    <div class=\"colab-df-container\">\n",
              "      <div>\n",
              "<style scoped>\n",
              "    .dataframe tbody tr th:only-of-type {\n",
              "        vertical-align: middle;\n",
              "    }\n",
              "\n",
              "    .dataframe tbody tr th {\n",
              "        vertical-align: top;\n",
              "    }\n",
              "\n",
              "    .dataframe thead th {\n",
              "        text-align: right;\n",
              "    }\n",
              "</style>\n",
              "<table border=\"1\" class=\"dataframe\">\n",
              "  <thead>\n",
              "    <tr style=\"text-align: right;\">\n",
              "      <th></th>\n",
              "      <th>Type</th>\n",
              "      <th>PaperlessBilling</th>\n",
              "      <th>PaymentMethod</th>\n",
              "      <th>MonthlyCharges</th>\n",
              "      <th>TotalCharges</th>\n",
              "      <th>MultipleLines</th>\n",
              "      <th>gender</th>\n",
              "      <th>SeniorCitizen</th>\n",
              "      <th>Partner</th>\n",
              "      <th>Dependents</th>\n",
              "      <th>InternetService</th>\n",
              "      <th>OnlineSecurity</th>\n",
              "      <th>OnlineBackup</th>\n",
              "      <th>DeviceProtection</th>\n",
              "      <th>TechSupport</th>\n",
              "      <th>StreamingTV</th>\n",
              "      <th>StreamingMovies</th>\n",
              "      <th>TotalTime</th>\n",
              "    </tr>\n",
              "    <tr>\n",
              "      <th>customerID</th>\n",
              "      <th></th>\n",
              "      <th></th>\n",
              "      <th></th>\n",
              "      <th></th>\n",
              "      <th></th>\n",
              "      <th></th>\n",
              "      <th></th>\n",
              "      <th></th>\n",
              "      <th></th>\n",
              "      <th></th>\n",
              "      <th></th>\n",
              "      <th></th>\n",
              "      <th></th>\n",
              "      <th></th>\n",
              "      <th></th>\n",
              "      <th></th>\n",
              "      <th></th>\n",
              "      <th></th>\n",
              "    </tr>\n",
              "  </thead>\n",
              "  <tbody>\n",
              "    <tr>\n",
              "      <th>2205-LPVGL</th>\n",
              "      <td>One year</td>\n",
              "      <td>Yes</td>\n",
              "      <td>Bank transfer (automatic)</td>\n",
              "      <td>90</td>\n",
              "      <td>5211</td>\n",
              "      <td>Yes</td>\n",
              "      <td>Male</td>\n",
              "      <td>1</td>\n",
              "      <td>Yes</td>\n",
              "      <td>Yes</td>\n",
              "      <td>Fiber optic</td>\n",
              "      <td>Yes</td>\n",
              "      <td>Yes</td>\n",
              "      <td>No</td>\n",
              "      <td>Yes</td>\n",
              "      <td>No</td>\n",
              "      <td>No</td>\n",
              "      <td>1767</td>\n",
              "    </tr>\n",
              "    <tr>\n",
              "      <th>5940-NFXKV</th>\n",
              "      <td>Month-to-month</td>\n",
              "      <td>Yes</td>\n",
              "      <td>Electronic check</td>\n",
              "      <td>84</td>\n",
              "      <td>271</td>\n",
              "      <td>Yes</td>\n",
              "      <td>Male</td>\n",
              "      <td>0</td>\n",
              "      <td>Yes</td>\n",
              "      <td>Yes</td>\n",
              "      <td>Fiber optic</td>\n",
              "      <td>No</td>\n",
              "      <td>No</td>\n",
              "      <td>No</td>\n",
              "      <td>No</td>\n",
              "      <td>No</td>\n",
              "      <td>Yes</td>\n",
              "      <td>92</td>\n",
              "    </tr>\n",
              "    <tr>\n",
              "      <th>5453-YBTWV</th>\n",
              "      <td>Two year</td>\n",
              "      <td>Yes</td>\n",
              "      <td>Credit card (automatic)</td>\n",
              "      <td>101</td>\n",
              "      <td>7643</td>\n",
              "      <td>No</td>\n",
              "      <td>Male</td>\n",
              "      <td>0</td>\n",
              "      <td>Yes</td>\n",
              "      <td>Yes</td>\n",
              "      <td>Fiber optic</td>\n",
              "      <td>Yes</td>\n",
              "      <td>Yes</td>\n",
              "      <td>Yes</td>\n",
              "      <td>Yes</td>\n",
              "      <td>Yes</td>\n",
              "      <td>No</td>\n",
              "      <td>2132</td>\n",
              "    </tr>\n",
              "  </tbody>\n",
              "</table>\n",
              "</div>\n",
              "      <button class=\"colab-df-convert\" onclick=\"convertToInteractive('df-9ad594ec-f290-4a0c-b446-143fc163f8ad')\"\n",
              "              title=\"Convert this dataframe to an interactive table.\"\n",
              "              style=\"display:none;\">\n",
              "        \n",
              "  <svg xmlns=\"http://www.w3.org/2000/svg\" height=\"24px\"viewBox=\"0 0 24 24\"\n",
              "       width=\"24px\">\n",
              "    <path d=\"M0 0h24v24H0V0z\" fill=\"none\"/>\n",
              "    <path d=\"M18.56 5.44l.94 2.06.94-2.06 2.06-.94-2.06-.94-.94-2.06-.94 2.06-2.06.94zm-11 1L8.5 8.5l.94-2.06 2.06-.94-2.06-.94L8.5 2.5l-.94 2.06-2.06.94zm10 10l.94 2.06.94-2.06 2.06-.94-2.06-.94-.94-2.06-.94 2.06-2.06.94z\"/><path d=\"M17.41 7.96l-1.37-1.37c-.4-.4-.92-.59-1.43-.59-.52 0-1.04.2-1.43.59L10.3 9.45l-7.72 7.72c-.78.78-.78 2.05 0 2.83L4 21.41c.39.39.9.59 1.41.59.51 0 1.02-.2 1.41-.59l7.78-7.78 2.81-2.81c.8-.78.8-2.07 0-2.86zM5.41 20L4 18.59l7.72-7.72 1.47 1.35L5.41 20z\"/>\n",
              "  </svg>\n",
              "      </button>\n",
              "      \n",
              "  <style>\n",
              "    .colab-df-container {\n",
              "      display:flex;\n",
              "      flex-wrap:wrap;\n",
              "      gap: 12px;\n",
              "    }\n",
              "\n",
              "    .colab-df-convert {\n",
              "      background-color: #E8F0FE;\n",
              "      border: none;\n",
              "      border-radius: 50%;\n",
              "      cursor: pointer;\n",
              "      display: none;\n",
              "      fill: #1967D2;\n",
              "      height: 32px;\n",
              "      padding: 0 0 0 0;\n",
              "      width: 32px;\n",
              "    }\n",
              "\n",
              "    .colab-df-convert:hover {\n",
              "      background-color: #E2EBFA;\n",
              "      box-shadow: 0px 1px 2px rgba(60, 64, 67, 0.3), 0px 1px 3px 1px rgba(60, 64, 67, 0.15);\n",
              "      fill: #174EA6;\n",
              "    }\n",
              "\n",
              "    [theme=dark] .colab-df-convert {\n",
              "      background-color: #3B4455;\n",
              "      fill: #D2E3FC;\n",
              "    }\n",
              "\n",
              "    [theme=dark] .colab-df-convert:hover {\n",
              "      background-color: #434B5C;\n",
              "      box-shadow: 0px 1px 3px 1px rgba(0, 0, 0, 0.15);\n",
              "      filter: drop-shadow(0px 1px 2px rgba(0, 0, 0, 0.3));\n",
              "      fill: #FFFFFF;\n",
              "    }\n",
              "  </style>\n",
              "\n",
              "      <script>\n",
              "        const buttonEl =\n",
              "          document.querySelector('#df-9ad594ec-f290-4a0c-b446-143fc163f8ad button.colab-df-convert');\n",
              "        buttonEl.style.display =\n",
              "          google.colab.kernel.accessAllowed ? 'block' : 'none';\n",
              "\n",
              "        async function convertToInteractive(key) {\n",
              "          const element = document.querySelector('#df-9ad594ec-f290-4a0c-b446-143fc163f8ad');\n",
              "          const dataTable =\n",
              "            await google.colab.kernel.invokeFunction('convertToInteractive',\n",
              "                                                     [key], {});\n",
              "          if (!dataTable) return;\n",
              "\n",
              "          const docLinkHtml = 'Like what you see? Visit the ' +\n",
              "            '<a target=\"_blank\" href=https://colab.research.google.com/notebooks/data_table.ipynb>data table notebook</a>'\n",
              "            + ' to learn more about interactive tables.';\n",
              "          element.innerHTML = '';\n",
              "          dataTable['output_type'] = 'display_data';\n",
              "          await google.colab.output.renderOutput(dataTable, element);\n",
              "          const docLink = document.createElement('div');\n",
              "          docLink.innerHTML = docLinkHtml;\n",
              "          element.appendChild(docLink);\n",
              "        }\n",
              "      </script>\n",
              "    </div>\n",
              "  </div>\n",
              "  "
            ],
            "text/plain": [
              "                      Type PaperlessBilling              PaymentMethod  \\\n",
              "customerID                                                               \n",
              "2205-LPVGL        One year              Yes  Bank transfer (automatic)   \n",
              "5940-NFXKV  Month-to-month              Yes           Electronic check   \n",
              "5453-YBTWV        Two year              Yes    Credit card (automatic)   \n",
              "\n",
              "            MonthlyCharges  TotalCharges MultipleLines gender  SeniorCitizen  \\\n",
              "customerID                                                                     \n",
              "2205-LPVGL              90          5211           Yes   Male              1   \n",
              "5940-NFXKV              84           271           Yes   Male              0   \n",
              "5453-YBTWV             101          7643            No   Male              0   \n",
              "\n",
              "           Partner Dependents InternetService OnlineSecurity OnlineBackup  \\\n",
              "customerID                                                                  \n",
              "2205-LPVGL     Yes        Yes     Fiber optic            Yes          Yes   \n",
              "5940-NFXKV     Yes        Yes     Fiber optic             No           No   \n",
              "5453-YBTWV     Yes        Yes     Fiber optic            Yes          Yes   \n",
              "\n",
              "           DeviceProtection TechSupport StreamingTV StreamingMovies  TotalTime  \n",
              "customerID                                                                      \n",
              "2205-LPVGL               No         Yes          No              No       1767  \n",
              "5940-NFXKV               No          No          No             Yes         92  \n",
              "5453-YBTWV              Yes         Yes         Yes              No       2132  "
            ]
          },
          "metadata": {},
          "output_type": "display_data"
        },
        {
          "data": {
            "text/html": [
              "\n",
              "  <div id=\"df-28502944-cce0-46b1-a174-6650888285d1\">\n",
              "    <div class=\"colab-df-container\">\n",
              "      <div>\n",
              "<style scoped>\n",
              "    .dataframe tbody tr th:only-of-type {\n",
              "        vertical-align: middle;\n",
              "    }\n",
              "\n",
              "    .dataframe tbody tr th {\n",
              "        vertical-align: top;\n",
              "    }\n",
              "\n",
              "    .dataframe thead th {\n",
              "        text-align: right;\n",
              "    }\n",
              "</style>\n",
              "<table border=\"1\" class=\"dataframe\">\n",
              "  <thead>\n",
              "    <tr style=\"text-align: right;\">\n",
              "      <th></th>\n",
              "      <th>Type_One year</th>\n",
              "      <th>Type_Two year</th>\n",
              "      <th>PaperlessBilling_Yes</th>\n",
              "      <th>PaymentMethod_Credit card (automatic)</th>\n",
              "      <th>PaymentMethod_Electronic check</th>\n",
              "      <th>PaymentMethod_Mailed check</th>\n",
              "      <th>MultipleLines_Yes</th>\n",
              "      <th>gender_Male</th>\n",
              "      <th>Partner_Yes</th>\n",
              "      <th>Dependents_Yes</th>\n",
              "      <th>...</th>\n",
              "      <th>InternetService_No</th>\n",
              "      <th>OnlineSecurity_Yes</th>\n",
              "      <th>OnlineBackup_Yes</th>\n",
              "      <th>DeviceProtection_Yes</th>\n",
              "      <th>TechSupport_Yes</th>\n",
              "      <th>StreamingTV_Yes</th>\n",
              "      <th>StreamingMovies_Yes</th>\n",
              "      <th>MonthlyCharges</th>\n",
              "      <th>TotalCharges</th>\n",
              "      <th>TotalTime</th>\n",
              "    </tr>\n",
              "  </thead>\n",
              "  <tbody>\n",
              "    <tr>\n",
              "      <th>0</th>\n",
              "      <td>1.0</td>\n",
              "      <td>0.0</td>\n",
              "      <td>1.0</td>\n",
              "      <td>0.0</td>\n",
              "      <td>0.0</td>\n",
              "      <td>0.0</td>\n",
              "      <td>1.0</td>\n",
              "      <td>1.0</td>\n",
              "      <td>1.0</td>\n",
              "      <td>1.0</td>\n",
              "      <td>...</td>\n",
              "      <td>0.0</td>\n",
              "      <td>1.0</td>\n",
              "      <td>1.0</td>\n",
              "      <td>0.0</td>\n",
              "      <td>1.0</td>\n",
              "      <td>0.0</td>\n",
              "      <td>0.0</td>\n",
              "      <td>0.837616</td>\n",
              "      <td>1.452790</td>\n",
              "      <td>1.251417</td>\n",
              "    </tr>\n",
              "    <tr>\n",
              "      <th>1</th>\n",
              "      <td>0.0</td>\n",
              "      <td>0.0</td>\n",
              "      <td>1.0</td>\n",
              "      <td>0.0</td>\n",
              "      <td>1.0</td>\n",
              "      <td>0.0</td>\n",
              "      <td>1.0</td>\n",
              "      <td>1.0</td>\n",
              "      <td>1.0</td>\n",
              "      <td>1.0</td>\n",
              "      <td>...</td>\n",
              "      <td>0.0</td>\n",
              "      <td>0.0</td>\n",
              "      <td>0.0</td>\n",
              "      <td>0.0</td>\n",
              "      <td>0.0</td>\n",
              "      <td>0.0</td>\n",
              "      <td>1.0</td>\n",
              "      <td>0.638294</td>\n",
              "      <td>-0.883636</td>\n",
              "      <td>-1.197416</td>\n",
              "    </tr>\n",
              "    <tr>\n",
              "      <th>2</th>\n",
              "      <td>0.0</td>\n",
              "      <td>1.0</td>\n",
              "      <td>1.0</td>\n",
              "      <td>1.0</td>\n",
              "      <td>0.0</td>\n",
              "      <td>0.0</td>\n",
              "      <td>0.0</td>\n",
              "      <td>1.0</td>\n",
              "      <td>1.0</td>\n",
              "      <td>1.0</td>\n",
              "      <td>...</td>\n",
              "      <td>0.0</td>\n",
              "      <td>1.0</td>\n",
              "      <td>1.0</td>\n",
              "      <td>1.0</td>\n",
              "      <td>1.0</td>\n",
              "      <td>1.0</td>\n",
              "      <td>0.0</td>\n",
              "      <td>1.203040</td>\n",
              "      <td>2.603031</td>\n",
              "      <td>1.785043</td>\n",
              "    </tr>\n",
              "    <tr>\n",
              "      <th>3</th>\n",
              "      <td>0.0</td>\n",
              "      <td>1.0</td>\n",
              "      <td>1.0</td>\n",
              "      <td>1.0</td>\n",
              "      <td>0.0</td>\n",
              "      <td>0.0</td>\n",
              "      <td>1.0</td>\n",
              "      <td>1.0</td>\n",
              "      <td>1.0</td>\n",
              "      <td>0.0</td>\n",
              "      <td>...</td>\n",
              "      <td>0.0</td>\n",
              "      <td>1.0</td>\n",
              "      <td>1.0</td>\n",
              "      <td>1.0</td>\n",
              "      <td>0.0</td>\n",
              "      <td>1.0</td>\n",
              "      <td>0.0</td>\n",
              "      <td>1.136599</td>\n",
              "      <td>2.474859</td>\n",
              "      <td>1.785043</td>\n",
              "    </tr>\n",
              "    <tr>\n",
              "      <th>4</th>\n",
              "      <td>1.0</td>\n",
              "      <td>0.0</td>\n",
              "      <td>1.0</td>\n",
              "      <td>0.0</td>\n",
              "      <td>1.0</td>\n",
              "      <td>0.0</td>\n",
              "      <td>1.0</td>\n",
              "      <td>0.0</td>\n",
              "      <td>1.0</td>\n",
              "      <td>0.0</td>\n",
              "      <td>...</td>\n",
              "      <td>0.0</td>\n",
              "      <td>1.0</td>\n",
              "      <td>0.0</td>\n",
              "      <td>1.0</td>\n",
              "      <td>1.0</td>\n",
              "      <td>1.0</td>\n",
              "      <td>1.0</td>\n",
              "      <td>1.535244</td>\n",
              "      <td>2.513641</td>\n",
              "      <td>1.652002</td>\n",
              "    </tr>\n",
              "    <tr>\n",
              "      <th>...</th>\n",
              "      <td>...</td>\n",
              "      <td>...</td>\n",
              "      <td>...</td>\n",
              "      <td>...</td>\n",
              "      <td>...</td>\n",
              "      <td>...</td>\n",
              "      <td>...</td>\n",
              "      <td>...</td>\n",
              "      <td>...</td>\n",
              "      <td>...</td>\n",
              "      <td>...</td>\n",
              "      <td>...</td>\n",
              "      <td>...</td>\n",
              "      <td>...</td>\n",
              "      <td>...</td>\n",
              "      <td>...</td>\n",
              "      <td>...</td>\n",
              "      <td>...</td>\n",
              "      <td>...</td>\n",
              "      <td>...</td>\n",
              "      <td>...</td>\n",
              "    </tr>\n",
              "    <tr>\n",
              "      <th>5277</th>\n",
              "      <td>1.0</td>\n",
              "      <td>0.0</td>\n",
              "      <td>1.0</td>\n",
              "      <td>0.0</td>\n",
              "      <td>0.0</td>\n",
              "      <td>1.0</td>\n",
              "      <td>0.0</td>\n",
              "      <td>0.0</td>\n",
              "      <td>1.0</td>\n",
              "      <td>1.0</td>\n",
              "      <td>...</td>\n",
              "      <td>0.0</td>\n",
              "      <td>1.0</td>\n",
              "      <td>1.0</td>\n",
              "      <td>0.0</td>\n",
              "      <td>1.0</td>\n",
              "      <td>0.0</td>\n",
              "      <td>0.0</td>\n",
              "      <td>-0.225436</td>\n",
              "      <td>-0.320813</td>\n",
              "      <td>-0.305602</td>\n",
              "    </tr>\n",
              "    <tr>\n",
              "      <th>5278</th>\n",
              "      <td>0.0</td>\n",
              "      <td>0.0</td>\n",
              "      <td>1.0</td>\n",
              "      <td>0.0</td>\n",
              "      <td>0.0</td>\n",
              "      <td>0.0</td>\n",
              "      <td>1.0</td>\n",
              "      <td>1.0</td>\n",
              "      <td>0.0</td>\n",
              "      <td>0.0</td>\n",
              "      <td>...</td>\n",
              "      <td>0.0</td>\n",
              "      <td>0.0</td>\n",
              "      <td>0.0</td>\n",
              "      <td>0.0</td>\n",
              "      <td>0.0</td>\n",
              "      <td>0.0</td>\n",
              "      <td>0.0</td>\n",
              "      <td>0.339311</td>\n",
              "      <td>0.716863</td>\n",
              "      <td>0.849370</td>\n",
              "    </tr>\n",
              "    <tr>\n",
              "      <th>5279</th>\n",
              "      <td>0.0</td>\n",
              "      <td>0.0</td>\n",
              "      <td>1.0</td>\n",
              "      <td>1.0</td>\n",
              "      <td>0.0</td>\n",
              "      <td>0.0</td>\n",
              "      <td>0.0</td>\n",
              "      <td>0.0</td>\n",
              "      <td>0.0</td>\n",
              "      <td>0.0</td>\n",
              "      <td>...</td>\n",
              "      <td>0.0</td>\n",
              "      <td>0.0</td>\n",
              "      <td>1.0</td>\n",
              "      <td>0.0</td>\n",
              "      <td>0.0</td>\n",
              "      <td>1.0</td>\n",
              "      <td>1.0</td>\n",
              "      <td>1.003718</td>\n",
              "      <td>0.763686</td>\n",
              "      <td>0.268960</td>\n",
              "    </tr>\n",
              "    <tr>\n",
              "      <th>5280</th>\n",
              "      <td>0.0</td>\n",
              "      <td>0.0</td>\n",
              "      <td>1.0</td>\n",
              "      <td>0.0</td>\n",
              "      <td>1.0</td>\n",
              "      <td>0.0</td>\n",
              "      <td>1.0</td>\n",
              "      <td>0.0</td>\n",
              "      <td>1.0</td>\n",
              "      <td>1.0</td>\n",
              "      <td>...</td>\n",
              "      <td>0.0</td>\n",
              "      <td>1.0</td>\n",
              "      <td>0.0</td>\n",
              "      <td>1.0</td>\n",
              "      <td>1.0</td>\n",
              "      <td>1.0</td>\n",
              "      <td>1.0</td>\n",
              "      <td>1.601684</td>\n",
              "      <td>-0.157169</td>\n",
              "      <td>-0.618468</td>\n",
              "    </tr>\n",
              "    <tr>\n",
              "      <th>5281</th>\n",
              "      <td>0.0</td>\n",
              "      <td>1.0</td>\n",
              "      <td>1.0</td>\n",
              "      <td>0.0</td>\n",
              "      <td>0.0</td>\n",
              "      <td>0.0</td>\n",
              "      <td>1.0</td>\n",
              "      <td>1.0</td>\n",
              "      <td>1.0</td>\n",
              "      <td>1.0</td>\n",
              "      <td>...</td>\n",
              "      <td>0.0</td>\n",
              "      <td>1.0</td>\n",
              "      <td>1.0</td>\n",
              "      <td>1.0</td>\n",
              "      <td>1.0</td>\n",
              "      <td>1.0</td>\n",
              "      <td>1.0</td>\n",
              "      <td>1.634905</td>\n",
              "      <td>2.944036</td>\n",
              "      <td>1.741184</td>\n",
              "    </tr>\n",
              "  </tbody>\n",
              "</table>\n",
              "<p>5282 rows × 21 columns</p>\n",
              "</div>\n",
              "      <button class=\"colab-df-convert\" onclick=\"convertToInteractive('df-28502944-cce0-46b1-a174-6650888285d1')\"\n",
              "              title=\"Convert this dataframe to an interactive table.\"\n",
              "              style=\"display:none;\">\n",
              "        \n",
              "  <svg xmlns=\"http://www.w3.org/2000/svg\" height=\"24px\"viewBox=\"0 0 24 24\"\n",
              "       width=\"24px\">\n",
              "    <path d=\"M0 0h24v24H0V0z\" fill=\"none\"/>\n",
              "    <path d=\"M18.56 5.44l.94 2.06.94-2.06 2.06-.94-2.06-.94-.94-2.06-.94 2.06-2.06.94zm-11 1L8.5 8.5l.94-2.06 2.06-.94-2.06-.94L8.5 2.5l-.94 2.06-2.06.94zm10 10l.94 2.06.94-2.06 2.06-.94-2.06-.94-.94-2.06-.94 2.06-2.06.94z\"/><path d=\"M17.41 7.96l-1.37-1.37c-.4-.4-.92-.59-1.43-.59-.52 0-1.04.2-1.43.59L10.3 9.45l-7.72 7.72c-.78.78-.78 2.05 0 2.83L4 21.41c.39.39.9.59 1.41.59.51 0 1.02-.2 1.41-.59l7.78-7.78 2.81-2.81c.8-.78.8-2.07 0-2.86zM5.41 20L4 18.59l7.72-7.72 1.47 1.35L5.41 20z\"/>\n",
              "  </svg>\n",
              "      </button>\n",
              "      \n",
              "  <style>\n",
              "    .colab-df-container {\n",
              "      display:flex;\n",
              "      flex-wrap:wrap;\n",
              "      gap: 12px;\n",
              "    }\n",
              "\n",
              "    .colab-df-convert {\n",
              "      background-color: #E8F0FE;\n",
              "      border: none;\n",
              "      border-radius: 50%;\n",
              "      cursor: pointer;\n",
              "      display: none;\n",
              "      fill: #1967D2;\n",
              "      height: 32px;\n",
              "      padding: 0 0 0 0;\n",
              "      width: 32px;\n",
              "    }\n",
              "\n",
              "    .colab-df-convert:hover {\n",
              "      background-color: #E2EBFA;\n",
              "      box-shadow: 0px 1px 2px rgba(60, 64, 67, 0.3), 0px 1px 3px 1px rgba(60, 64, 67, 0.15);\n",
              "      fill: #174EA6;\n",
              "    }\n",
              "\n",
              "    [theme=dark] .colab-df-convert {\n",
              "      background-color: #3B4455;\n",
              "      fill: #D2E3FC;\n",
              "    }\n",
              "\n",
              "    [theme=dark] .colab-df-convert:hover {\n",
              "      background-color: #434B5C;\n",
              "      box-shadow: 0px 1px 3px 1px rgba(0, 0, 0, 0.15);\n",
              "      filter: drop-shadow(0px 1px 2px rgba(0, 0, 0, 0.3));\n",
              "      fill: #FFFFFF;\n",
              "    }\n",
              "  </style>\n",
              "\n",
              "      <script>\n",
              "        const buttonEl =\n",
              "          document.querySelector('#df-28502944-cce0-46b1-a174-6650888285d1 button.colab-df-convert');\n",
              "        buttonEl.style.display =\n",
              "          google.colab.kernel.accessAllowed ? 'block' : 'none';\n",
              "\n",
              "        async function convertToInteractive(key) {\n",
              "          const element = document.querySelector('#df-28502944-cce0-46b1-a174-6650888285d1');\n",
              "          const dataTable =\n",
              "            await google.colab.kernel.invokeFunction('convertToInteractive',\n",
              "                                                     [key], {});\n",
              "          if (!dataTable) return;\n",
              "\n",
              "          const docLinkHtml = 'Like what you see? Visit the ' +\n",
              "            '<a target=\"_blank\" href=https://colab.research.google.com/notebooks/data_table.ipynb>data table notebook</a>'\n",
              "            + ' to learn more about interactive tables.';\n",
              "          element.innerHTML = '';\n",
              "          dataTable['output_type'] = 'display_data';\n",
              "          await google.colab.output.renderOutput(dataTable, element);\n",
              "          const docLink = document.createElement('div');\n",
              "          docLink.innerHTML = docLinkHtml;\n",
              "          element.appendChild(docLink);\n",
              "        }\n",
              "      </script>\n",
              "    </div>\n",
              "  </div>\n",
              "  "
            ],
            "text/plain": [
              "      Type_One year  Type_Two year  PaperlessBilling_Yes  \\\n",
              "0               1.0            0.0                   1.0   \n",
              "1               0.0            0.0                   1.0   \n",
              "2               0.0            1.0                   1.0   \n",
              "3               0.0            1.0                   1.0   \n",
              "4               1.0            0.0                   1.0   \n",
              "...             ...            ...                   ...   \n",
              "5277            1.0            0.0                   1.0   \n",
              "5278            0.0            0.0                   1.0   \n",
              "5279            0.0            0.0                   1.0   \n",
              "5280            0.0            0.0                   1.0   \n",
              "5281            0.0            1.0                   1.0   \n",
              "\n",
              "      PaymentMethod_Credit card (automatic)  PaymentMethod_Electronic check  \\\n",
              "0                                       0.0                             0.0   \n",
              "1                                       0.0                             1.0   \n",
              "2                                       1.0                             0.0   \n",
              "3                                       1.0                             0.0   \n",
              "4                                       0.0                             1.0   \n",
              "...                                     ...                             ...   \n",
              "5277                                    0.0                             0.0   \n",
              "5278                                    0.0                             0.0   \n",
              "5279                                    1.0                             0.0   \n",
              "5280                                    0.0                             1.0   \n",
              "5281                                    0.0                             0.0   \n",
              "\n",
              "      PaymentMethod_Mailed check  MultipleLines_Yes  gender_Male  Partner_Yes  \\\n",
              "0                            0.0                1.0          1.0          1.0   \n",
              "1                            0.0                1.0          1.0          1.0   \n",
              "2                            0.0                0.0          1.0          1.0   \n",
              "3                            0.0                1.0          1.0          1.0   \n",
              "4                            0.0                1.0          0.0          1.0   \n",
              "...                          ...                ...          ...          ...   \n",
              "5277                         1.0                0.0          0.0          1.0   \n",
              "5278                         0.0                1.0          1.0          0.0   \n",
              "5279                         0.0                0.0          0.0          0.0   \n",
              "5280                         0.0                1.0          0.0          1.0   \n",
              "5281                         0.0                1.0          1.0          1.0   \n",
              "\n",
              "      Dependents_Yes  ...  InternetService_No  OnlineSecurity_Yes  \\\n",
              "0                1.0  ...                 0.0                 1.0   \n",
              "1                1.0  ...                 0.0                 0.0   \n",
              "2                1.0  ...                 0.0                 1.0   \n",
              "3                0.0  ...                 0.0                 1.0   \n",
              "4                0.0  ...                 0.0                 1.0   \n",
              "...              ...  ...                 ...                 ...   \n",
              "5277             1.0  ...                 0.0                 1.0   \n",
              "5278             0.0  ...                 0.0                 0.0   \n",
              "5279             0.0  ...                 0.0                 0.0   \n",
              "5280             1.0  ...                 0.0                 1.0   \n",
              "5281             1.0  ...                 0.0                 1.0   \n",
              "\n",
              "      OnlineBackup_Yes  DeviceProtection_Yes  TechSupport_Yes  \\\n",
              "0                  1.0                   0.0              1.0   \n",
              "1                  0.0                   0.0              0.0   \n",
              "2                  1.0                   1.0              1.0   \n",
              "3                  1.0                   1.0              0.0   \n",
              "4                  0.0                   1.0              1.0   \n",
              "...                ...                   ...              ...   \n",
              "5277               1.0                   0.0              1.0   \n",
              "5278               0.0                   0.0              0.0   \n",
              "5279               1.0                   0.0              0.0   \n",
              "5280               0.0                   1.0              1.0   \n",
              "5281               1.0                   1.0              1.0   \n",
              "\n",
              "      StreamingTV_Yes  StreamingMovies_Yes  MonthlyCharges  TotalCharges  \\\n",
              "0                 0.0                  0.0        0.837616      1.452790   \n",
              "1                 0.0                  1.0        0.638294     -0.883636   \n",
              "2                 1.0                  0.0        1.203040      2.603031   \n",
              "3                 1.0                  0.0        1.136599      2.474859   \n",
              "4                 1.0                  1.0        1.535244      2.513641   \n",
              "...               ...                  ...             ...           ...   \n",
              "5277              0.0                  0.0       -0.225436     -0.320813   \n",
              "5278              0.0                  0.0        0.339311      0.716863   \n",
              "5279              1.0                  1.0        1.003718      0.763686   \n",
              "5280              1.0                  1.0        1.601684     -0.157169   \n",
              "5281              1.0                  1.0        1.634905      2.944036   \n",
              "\n",
              "      TotalTime  \n",
              "0      1.251417  \n",
              "1     -1.197416  \n",
              "2      1.785043  \n",
              "3      1.785043  \n",
              "4      1.652002  \n",
              "...         ...  \n",
              "5277  -0.305602  \n",
              "5278   0.849370  \n",
              "5279   0.268960  \n",
              "5280  -0.618468  \n",
              "5281   1.741184  \n",
              "\n",
              "[5282 rows x 21 columns]"
            ]
          },
          "metadata": {},
          "output_type": "display_data"
        }
      ],
      "source": [
        "preprocessor_lr = ColumnTransformer([\n",
        "    ('cat', OneHotEncoder(drop='first', handle_unknown='error', sparse=False), ohe_features_LR),\n",
        "    ('num', StandardScaler(), num_features_LR)\n",
        "])\n",
        "preprocessor_lr.fit(X_train);\n",
        "\n",
        "#у тебя возможно нужно будет поменять на get_feature_names_out\n",
        "cat_columns = preprocessor_lr.named_transformers_['cat'].get_feature_names_out(ohe_features_LR)\n",
        "columns = np.append(cat_columns, num_features_LR)\n",
        "\n",
        "display(X_train.head(3))\n",
        "display(pd.DataFrame(preprocessor_lr.transform(X_train), columns=columns))\n"
      ]
    },
    {
      "cell_type": "markdown",
      "metadata": {
        "id": "I3kAQoX4At46"
      },
      "source": [
        "Строю пайплайн, вывожу результат и лучшие гиперпараметры."
      ]
    },
    {
      "cell_type": "code",
      "execution_count": null,
      "metadata": {
        "colab": {
          "base_uri": "https://localhost:8080/"
        },
        "id": "ua3Ls2eO20NQ",
        "outputId": "786612d5-7f4b-45f5-94ff-96edafac0644"
      },
      "outputs": [
        {
          "name": "stdout",
          "output_type": "stream",
          "text": [
            "{'logreg__max_iter': 100}\n",
            "0.7566747665567881\n"
          ]
        }
      ],
      "source": [
        "pipeline_lr = Pipeline([\n",
        "    ('preprocessing_lr', preprocessor_lr),\n",
        "    ('logreg', LogisticRegression(random_state=220523))])\n",
        "\n",
        "params_lr = {'logreg__max_iter': [1,10,100,100]}\n",
        "\n",
        "grid_lr = GridSearchCV(pipeline_lr, params_lr, cv=3, scoring='roc_auc')\n",
        "grid_lr.fit(X_train, y_train)\n",
        "\n",
        "print(grid_lr.best_params_)\n",
        "print(grid_lr.best_score_)"
      ]
    },
    {
      "cell_type": "markdown",
      "metadata": {
        "id": "tpfv7ffjFmyO"
      },
      "source": [
        "LogisticRegression ROC-AUC 0.75"
      ]
    },
    {
      "cell_type": "markdown",
      "metadata": {
        "id": "NhgmT6n2ZfwD"
      },
      "source": [
        "Делаю поэлементную проверку признаков после OHE"
      ]
    },
    {
      "cell_type": "code",
      "execution_count": null,
      "metadata": {
        "colab": {
          "base_uri": "https://localhost:8080/"
        },
        "id": "h7iP7MqxZP3p",
        "outputId": "f13d2ff8-9d93-46ae-bc80-91e65b312c41"
      },
      "outputs": [
        {
          "data": {
            "text/plain": [
              "array([ True,  True,  True,  True,  True,  True,  True,  True,  True,\n",
              "        True,  True,  True,  True,  True,  True,  True,  True,  True])"
            ]
          },
          "execution_count": 70,
          "metadata": {},
          "output_type": "execute_result"
        }
      ],
      "source": [
        "X_train.columns == X_test.columns"
      ]
    },
    {
      "cell_type": "markdown",
      "metadata": {
        "id": "RkC-ZnJFCz1x"
      },
      "source": [
        "<b>CatBoostClassifier</b>"
      ]
    },
    {
      "cell_type": "markdown",
      "metadata": {
        "id": "1Djx5k6MDAE2"
      },
      "source": [
        "Задаю категориальные признаки"
      ]
    },
    {
      "cell_type": "code",
      "execution_count": null,
      "metadata": {
        "id": "MHyU-L1A-nYM"
      },
      "outputs": [],
      "source": [
        "#КОД ТИМЛИДА\n",
        "cat_col = X_train.select_dtypes('object').columns.to_list()\n",
        "cat_col\n",
        "\n",
        "X_train[['MonthlyCharges', 'TotalCharges']] = X_train[['MonthlyCharges', 'TotalCharges']].astype('float')"
      ]
    },
    {
      "cell_type": "markdown",
      "metadata": {
        "id": "hxEos_d0_mRB"
      },
      "source": [
        "Подбираю параметры Гридсерчем"
      ]
    },
    {
      "cell_type": "code",
      "execution_count": null,
      "metadata": {
        "colab": {
          "base_uri": "https://localhost:8080/"
        },
        "id": "Xwdl1eOM-1OM",
        "outputId": "7e2e9b09-148d-4d44-b5bb-164f7d2668a6"
      },
      "outputs": [
        {
          "name": "stdout",
          "output_type": "stream",
          "text": [
            "\n",
            "bestTest = 0.8516833827\n",
            "bestIteration = 1994\n",
            "\n",
            "\n",
            "bestTest = 0.9381907583\n",
            "bestIteration = 1865\n",
            "\n",
            "\n",
            "bestTest = 0.9446340767\n",
            "bestIteration = 314\n",
            "\n",
            "\n",
            "bestTest = 0.9388298272\n",
            "bestIteration = 241\n",
            "\n",
            "\n",
            "bestTest = 0.8497436206\n",
            "bestIteration = 1997\n",
            "\n",
            "\n",
            "bestTest = 0.9332135392\n",
            "bestIteration = 1987\n",
            "\n",
            "\n",
            "bestTest = 0.9366945852\n",
            "bestIteration = 613\n",
            "\n",
            "\n",
            "bestTest = 0.943506308\n",
            "bestIteration = 368\n",
            "\n",
            "\n",
            "bestTest = 0.8499616559\n",
            "bestIteration = 1999\n",
            "\n",
            "\n",
            "bestTest = 0.9314993309\n",
            "bestIteration = 1994\n",
            "\n",
            "\n",
            "bestTest = 0.9363261808\n",
            "bestIteration = 606\n",
            "\n",
            "\n",
            "bestTest = 0.926837887\n",
            "bestIteration = 468\n",
            "\n",
            "\n",
            "bestTest = 0.8604799783\n",
            "bestIteration = 1999\n",
            "\n",
            "\n",
            "bestTest = 0.9377321324\n",
            "bestIteration = 1437\n",
            "\n",
            "\n",
            "bestTest = 0.9288979445\n",
            "bestIteration = 308\n",
            "\n",
            "\n",
            "bestTest = 0.9340180142\n",
            "bestIteration = 178\n",
            "\n",
            "\n",
            "bestTest = 0.8576755936\n",
            "bestIteration = 1996\n",
            "\n",
            "\n",
            "bestTest = 0.9361231824\n",
            "bestIteration = 1949\n",
            "\n",
            "\n",
            "bestTest = 0.9353337443\n",
            "bestIteration = 195\n",
            "\n",
            "\n",
            "bestTest = 0.9274243267\n",
            "bestIteration = 258\n",
            "\n",
            "\n",
            "bestTest = 0.8554050193\n",
            "bestIteration = 1994\n",
            "\n",
            "\n",
            "bestTest = 0.9320406598\n",
            "bestIteration = 1955\n",
            "\n",
            "\n",
            "bestTest = 0.9371381742\n",
            "bestIteration = 323\n",
            "\n",
            "\n",
            "bestTest = 0.9288453152\n",
            "bestIteration = 723\n",
            "\n",
            "\n",
            "bestTest = 0.8906214757\n",
            "bestIteration = 1999\n",
            "\n",
            "\n",
            "bestTest = 0.9217178172\n",
            "bestIteration = 542\n",
            "\n",
            "\n",
            "bestTest = 0.9020796054\n",
            "bestIteration = 1492\n",
            "\n",
            "\n",
            "bestTest = 0.8960723576\n",
            "bestIteration = 220\n",
            "\n",
            "\n",
            "bestTest = 0.8841180097\n",
            "bestIteration = 1998\n",
            "\n",
            "\n",
            "bestTest = 0.924702645\n",
            "bestIteration = 1065\n",
            "\n",
            "\n",
            "bestTest = 0.9256424522\n",
            "bestIteration = 118\n",
            "\n",
            "\n",
            "bestTest = 0.9056659098\n",
            "bestIteration = 1517\n",
            "\n",
            "\n",
            "bestTest = 0.8813061065\n",
            "bestIteration = 1999\n",
            "\n",
            "\n",
            "bestTest = 0.92389817\n",
            "bestIteration = 1813\n",
            "\n",
            "\n",
            "bestTest = 0.9060493512\n",
            "bestIteration = 103\n",
            "\n",
            "\n",
            "bestTest = 0.9064929402\n",
            "bestIteration = 1989\n",
            "\n",
            "\n",
            "bestTest = 0.8710358931\n",
            "bestIteration = 1994\n",
            "\n",
            "\n",
            "bestTest = 0.8740658316\n",
            "bestIteration = 1515\n",
            "\n",
            "\n",
            "bestTest = 0.8430221193\n",
            "bestIteration = 1618\n",
            "\n",
            "\n",
            "bestTest = 0.8295941536\n",
            "bestIteration = 6\n",
            "\n",
            "\n",
            "bestTest = 0.8764266274\n",
            "bestIteration = 1997\n",
            "\n",
            "\n",
            "bestTest = 0.8899748884\n",
            "bestIteration = 660\n",
            "\n",
            "\n",
            "bestTest = 0.8705622303\n",
            "bestIteration = 403\n",
            "\n",
            "\n",
            "bestTest = 0.8525028946\n",
            "bestIteration = 1253\n",
            "\n",
            "\n",
            "bestTest = 0.8777874682\n",
            "bestIteration = 1998\n",
            "\n",
            "\n",
            "bestTest = 0.8970723125\n",
            "bestIteration = 710\n",
            "\n",
            "\n",
            "bestTest = 0.8912605446\n",
            "bestIteration = 386\n",
            "\n",
            "\n",
            "bestTest = 0.8599311309\n",
            "bestIteration = 1604\n",
            "\n",
            "Training on fold [0/3]\n",
            "\n",
            "bestTest = 0.9004064475\n",
            "bestIteration = 649\n",
            "\n",
            "Training on fold [1/3]\n",
            "\n",
            "bestTest = 0.92567735\n",
            "bestIteration = 631\n",
            "\n",
            "Training on fold [2/3]\n",
            "\n",
            "bestTest = 0.9283302534\n",
            "bestIteration = 420\n",
            "\n"
          ]
        }
      ],
      "source": [
        "model_cat = CatBoostClassifier(iterations=2000,\n",
        "                                 loss_function='CrossEntropy',\n",
        "                                 eval_metric='AUC:hints=skip_train~false',\n",
        "                                 cat_features=cat_col,\n",
        "                                 random_state=RANDOM_STATE,\n",
        "                                 verbose=False)\n",
        "\n",
        "grid = {'learning_rate': [0.01, 0.1, 0.5, 0.75],\n",
        "        'depth': [2, 3, 6, 10],\n",
        "        'l2_leaf_reg': [1, 3, 5]}\n",
        "\n",
        "grid_search_result = model_cat.grid_search(grid,\n",
        "                                           X=X_train,\n",
        "                                           y=y_train,\n",
        "                                           verbose=False,\n",
        "                                           cv=3)"
      ]
    },
    {
      "cell_type": "markdown",
      "metadata": {
        "id": "5kLDWLEe_tHI"
      },
      "source": [
        "Вывожу результаты"
      ]
    },
    {
      "cell_type": "code",
      "execution_count": null,
      "metadata": {
        "colab": {
          "base_uri": "https://localhost:8080/",
          "height": 425
        },
        "id": "_sUjpDep_L_A",
        "outputId": "c32e0520-2f4d-40e0-b20e-43b18542de38"
      },
      "outputs": [
        {
          "data": {
            "text/html": [
              "\n",
              "  <div id=\"df-c30ae309-9498-4188-ad91-8f38d67c8f88\">\n",
              "    <div class=\"colab-df-container\">\n",
              "      <div>\n",
              "<style scoped>\n",
              "    .dataframe tbody tr th:only-of-type {\n",
              "        vertical-align: middle;\n",
              "    }\n",
              "\n",
              "    .dataframe tbody tr th {\n",
              "        vertical-align: top;\n",
              "    }\n",
              "\n",
              "    .dataframe thead th {\n",
              "        text-align: right;\n",
              "    }\n",
              "</style>\n",
              "<table border=\"1\" class=\"dataframe\">\n",
              "  <thead>\n",
              "    <tr style=\"text-align: right;\">\n",
              "      <th></th>\n",
              "      <th>params</th>\n",
              "      <th>cv_results</th>\n",
              "    </tr>\n",
              "  </thead>\n",
              "  <tbody>\n",
              "    <tr>\n",
              "      <th>depth</th>\n",
              "      <td>2.0</td>\n",
              "      <td>NaN</td>\n",
              "    </tr>\n",
              "    <tr>\n",
              "      <th>l2_leaf_reg</th>\n",
              "      <td>1.0</td>\n",
              "      <td>NaN</td>\n",
              "    </tr>\n",
              "    <tr>\n",
              "      <th>learning_rate</th>\n",
              "      <td>0.5</td>\n",
              "      <td>NaN</td>\n",
              "    </tr>\n",
              "    <tr>\n",
              "      <th>iterations</th>\n",
              "      <td>NaN</td>\n",
              "      <td>[0, 1, 2, 3, 4, 5, 6, 7, 8, 9, 10, 11, 12, 13,...</td>\n",
              "    </tr>\n",
              "    <tr>\n",
              "      <th>test-AUC-mean</th>\n",
              "      <td>NaN</td>\n",
              "      <td>[0.6184864425961019, 0.7134684296676849, 0.738...</td>\n",
              "    </tr>\n",
              "    <tr>\n",
              "      <th>test-AUC-std</th>\n",
              "      <td>NaN</td>\n",
              "      <td>[0.03535803490355407, 0.030782934317045086, 0....</td>\n",
              "    </tr>\n",
              "    <tr>\n",
              "      <th>train-AUC-mean</th>\n",
              "      <td>NaN</td>\n",
              "      <td>[0.6182846019868128, 0.720068819059953, 0.7509...</td>\n",
              "    </tr>\n",
              "    <tr>\n",
              "      <th>train-AUC-std</th>\n",
              "      <td>NaN</td>\n",
              "      <td>[0.019521861305944268, 0.019070541651937715, 0...</td>\n",
              "    </tr>\n",
              "    <tr>\n",
              "      <th>test-CrossEntropy-mean</th>\n",
              "      <td>NaN</td>\n",
              "      <td>[0.4825535173436582, 0.4167949242456146, 0.398...</td>\n",
              "    </tr>\n",
              "    <tr>\n",
              "      <th>test-CrossEntropy-std</th>\n",
              "      <td>NaN</td>\n",
              "      <td>[0.0057677019074648585, 0.014178318209029856, ...</td>\n",
              "    </tr>\n",
              "    <tr>\n",
              "      <th>train-CrossEntropy-mean</th>\n",
              "      <td>NaN</td>\n",
              "      <td>[0.4818187798238827, 0.41440789858659627, 0.39...</td>\n",
              "    </tr>\n",
              "    <tr>\n",
              "      <th>train-CrossEntropy-std</th>\n",
              "      <td>NaN</td>\n",
              "      <td>[0.0074716965491050495, 0.012431634304719788, ...</td>\n",
              "    </tr>\n",
              "  </tbody>\n",
              "</table>\n",
              "</div>\n",
              "      <button class=\"colab-df-convert\" onclick=\"convertToInteractive('df-c30ae309-9498-4188-ad91-8f38d67c8f88')\"\n",
              "              title=\"Convert this dataframe to an interactive table.\"\n",
              "              style=\"display:none;\">\n",
              "        \n",
              "  <svg xmlns=\"http://www.w3.org/2000/svg\" height=\"24px\"viewBox=\"0 0 24 24\"\n",
              "       width=\"24px\">\n",
              "    <path d=\"M0 0h24v24H0V0z\" fill=\"none\"/>\n",
              "    <path d=\"M18.56 5.44l.94 2.06.94-2.06 2.06-.94-2.06-.94-.94-2.06-.94 2.06-2.06.94zm-11 1L8.5 8.5l.94-2.06 2.06-.94-2.06-.94L8.5 2.5l-.94 2.06-2.06.94zm10 10l.94 2.06.94-2.06 2.06-.94-2.06-.94-.94-2.06-.94 2.06-2.06.94z\"/><path d=\"M17.41 7.96l-1.37-1.37c-.4-.4-.92-.59-1.43-.59-.52 0-1.04.2-1.43.59L10.3 9.45l-7.72 7.72c-.78.78-.78 2.05 0 2.83L4 21.41c.39.39.9.59 1.41.59.51 0 1.02-.2 1.41-.59l7.78-7.78 2.81-2.81c.8-.78.8-2.07 0-2.86zM5.41 20L4 18.59l7.72-7.72 1.47 1.35L5.41 20z\"/>\n",
              "  </svg>\n",
              "      </button>\n",
              "      \n",
              "  <style>\n",
              "    .colab-df-container {\n",
              "      display:flex;\n",
              "      flex-wrap:wrap;\n",
              "      gap: 12px;\n",
              "    }\n",
              "\n",
              "    .colab-df-convert {\n",
              "      background-color: #E8F0FE;\n",
              "      border: none;\n",
              "      border-radius: 50%;\n",
              "      cursor: pointer;\n",
              "      display: none;\n",
              "      fill: #1967D2;\n",
              "      height: 32px;\n",
              "      padding: 0 0 0 0;\n",
              "      width: 32px;\n",
              "    }\n",
              "\n",
              "    .colab-df-convert:hover {\n",
              "      background-color: #E2EBFA;\n",
              "      box-shadow: 0px 1px 2px rgba(60, 64, 67, 0.3), 0px 1px 3px 1px rgba(60, 64, 67, 0.15);\n",
              "      fill: #174EA6;\n",
              "    }\n",
              "\n",
              "    [theme=dark] .colab-df-convert {\n",
              "      background-color: #3B4455;\n",
              "      fill: #D2E3FC;\n",
              "    }\n",
              "\n",
              "    [theme=dark] .colab-df-convert:hover {\n",
              "      background-color: #434B5C;\n",
              "      box-shadow: 0px 1px 3px 1px rgba(0, 0, 0, 0.15);\n",
              "      filter: drop-shadow(0px 1px 2px rgba(0, 0, 0, 0.3));\n",
              "      fill: #FFFFFF;\n",
              "    }\n",
              "  </style>\n",
              "\n",
              "      <script>\n",
              "        const buttonEl =\n",
              "          document.querySelector('#df-c30ae309-9498-4188-ad91-8f38d67c8f88 button.colab-df-convert');\n",
              "        buttonEl.style.display =\n",
              "          google.colab.kernel.accessAllowed ? 'block' : 'none';\n",
              "\n",
              "        async function convertToInteractive(key) {\n",
              "          const element = document.querySelector('#df-c30ae309-9498-4188-ad91-8f38d67c8f88');\n",
              "          const dataTable =\n",
              "            await google.colab.kernel.invokeFunction('convertToInteractive',\n",
              "                                                     [key], {});\n",
              "          if (!dataTable) return;\n",
              "\n",
              "          const docLinkHtml = 'Like what you see? Visit the ' +\n",
              "            '<a target=\"_blank\" href=https://colab.research.google.com/notebooks/data_table.ipynb>data table notebook</a>'\n",
              "            + ' to learn more about interactive tables.';\n",
              "          element.innerHTML = '';\n",
              "          dataTable['output_type'] = 'display_data';\n",
              "          await google.colab.output.renderOutput(dataTable, element);\n",
              "          const docLink = document.createElement('div');\n",
              "          docLink.innerHTML = docLinkHtml;\n",
              "          element.appendChild(docLink);\n",
              "        }\n",
              "      </script>\n",
              "    </div>\n",
              "  </div>\n",
              "  "
            ],
            "text/plain": [
              "                         params  \\\n",
              "depth                       2.0   \n",
              "l2_leaf_reg                 1.0   \n",
              "learning_rate               0.5   \n",
              "iterations                  NaN   \n",
              "test-AUC-mean               NaN   \n",
              "test-AUC-std                NaN   \n",
              "train-AUC-mean              NaN   \n",
              "train-AUC-std               NaN   \n",
              "test-CrossEntropy-mean      NaN   \n",
              "test-CrossEntropy-std       NaN   \n",
              "train-CrossEntropy-mean     NaN   \n",
              "train-CrossEntropy-std      NaN   \n",
              "\n",
              "                                                                cv_results  \n",
              "depth                                                                  NaN  \n",
              "l2_leaf_reg                                                            NaN  \n",
              "learning_rate                                                          NaN  \n",
              "iterations               [0, 1, 2, 3, 4, 5, 6, 7, 8, 9, 10, 11, 12, 13,...  \n",
              "test-AUC-mean            [0.6184864425961019, 0.7134684296676849, 0.738...  \n",
              "test-AUC-std             [0.03535803490355407, 0.030782934317045086, 0....  \n",
              "train-AUC-mean           [0.6182846019868128, 0.720068819059953, 0.7509...  \n",
              "train-AUC-std            [0.019521861305944268, 0.019070541651937715, 0...  \n",
              "test-CrossEntropy-mean   [0.4825535173436582, 0.4167949242456146, 0.398...  \n",
              "test-CrossEntropy-std    [0.0057677019074648585, 0.014178318209029856, ...  \n",
              "train-CrossEntropy-mean  [0.4818187798238827, 0.41440789858659627, 0.39...  \n",
              "train-CrossEntropy-std   [0.0074716965491050495, 0.012431634304719788, ...  "
            ]
          },
          "metadata": {},
          "output_type": "display_data"
        }
      ],
      "source": [
        "display(pd.DataFrame(grid_search_result))"
      ]
    },
    {
      "cell_type": "markdown",
      "metadata": {
        "id": "9MTSR2FV_wJm"
      },
      "source": [
        "Вывожу лучший скор"
      ]
    },
    {
      "cell_type": "code",
      "execution_count": null,
      "metadata": {
        "colab": {
          "base_uri": "https://localhost:8080/",
          "height": 53
        },
        "id": "Q1YmDX64_aUu",
        "outputId": "d3781c08-d4ea-478d-c090-8436d184c090"
      },
      "outputs": [
        {
          "data": {
            "text/plain": [
              "{'learn': {'CrossEntropy': 0.06633918658169598, 'AUC': 0.9972005320747719}}"
            ]
          },
          "metadata": {},
          "output_type": "display_data"
        },
        {
          "data": {
            "text/plain": [
              "0.9972005320747719"
            ]
          },
          "metadata": {},
          "output_type": "display_data"
        }
      ],
      "source": [
        "best_score = model_cat.get_best_score()\n",
        "display(best_score)\n",
        "\n",
        "display(best_score['learn']['AUC'])"
      ]
    },
    {
      "cell_type": "markdown",
      "metadata": {
        "id": "5Sm18FDSFvPq"
      },
      "source": [
        "CatBoostClassifier ROC-AUC 0.99"
      ]
    },
    {
      "cell_type": "markdown",
      "metadata": {
        "id": "HKbM8QuvC6RT"
      },
      "source": [
        "<b>LGBMClassifier</b>"
      ]
    },
    {
      "cell_type": "markdown",
      "metadata": {
        "id": "eAwgF9XUESWv"
      },
      "source": [
        "LGBM не принимал у меня фичи, хотя написано, что для него признаки не надо кодировать. Мне подсказали такой вариант. Я правда, не очень понимаю, смысл этой операции. Записала это в вопросы."
      ]
    },
    {
      "cell_type": "code",
      "execution_count": null,
      "metadata": {
        "id": "AzrG0xqgENTT"
      },
      "outputs": [],
      "source": [
        "X_train_light = X_train.copy()\n",
        "X_train_light = X_train_light.astype({\"Type\": 'category', \"PaperlessBilling\": 'category', \"PaymentMethod\": 'category',\n",
        "                                      \"MultipleLines\": 'category', \"gender\": 'category', \"Partner\": 'category',\n",
        "                                      \"Dependents\": 'category', \"InternetService\": 'category', \"OnlineSecurity\": 'category',\n",
        "                                      \"OnlineBackup\": 'category', \"DeviceProtection\": 'category', \"TechSupport\": 'category',\n",
        "                                      \"StreamingTV\": 'category', \"StreamingMovies\": 'category', \"MonthlyCharges\": 'category',\n",
        "                                      \"TotalCharges\": 'category'})"
      ]
    },
    {
      "cell_type": "code",
      "execution_count": null,
      "metadata": {
        "id": "QJT34KjZFIlc"
      },
      "outputs": [],
      "source": [
        "X_test_light = X_test.copy()\n",
        "X_test_light = X_test_light.astype({\"Type\": 'category', \"PaperlessBilling\": 'category', \"PaymentMethod\": 'category',\n",
        "                                      \"MultipleLines\": 'category', \"gender\": 'category', \"Partner\": 'category',\n",
        "                                      \"Dependents\": 'category', \"InternetService\": 'category', \"OnlineSecurity\": 'category',\n",
        "                                      \"OnlineBackup\": 'category', \"DeviceProtection\": 'category', \"TechSupport\": 'category',\n",
        "                                      \"StreamingTV\": 'category', \"StreamingMovies\": 'category', \"MonthlyCharges\": 'category',\n",
        "                                      \"TotalCharges\": 'category'})\n"
      ]
    },
    {
      "cell_type": "markdown",
      "metadata": {
        "id": "TAsAjdmpGDjm"
      },
      "source": [
        "Подбираю параметры Гридсерчем"
      ]
    },
    {
      "cell_type": "code",
      "execution_count": null,
      "metadata": {
        "colab": {
          "base_uri": "https://localhost:8080/"
        },
        "id": "OkP3gwNSF4Kc",
        "outputId": "4841db34-b0a7-4f5c-f353-98e052dafc3b"
      },
      "outputs": [
        {
          "name": "stdout",
          "output_type": "stream",
          "text": [
            "[LightGBM] [Warning] num_threads is set=1, n_jobs=-1 will be ignored. Current value: num_threads=1\n",
            "[LightGBM] [Warning] num_threads is set=1, n_jobs=-1 will be ignored. Current value: num_threads=1\n",
            "[LightGBM] [Warning] num_threads is set=1, n_jobs=-1 will be ignored. Current value: num_threads=1\n",
            "[LightGBM] [Warning] num_threads is set=1, n_jobs=-1 will be ignored. Current value: num_threads=1\n",
            "[LightGBM] [Warning] num_threads is set=1, n_jobs=-1 will be ignored. Current value: num_threads=1\n",
            "[LightGBM] [Warning] num_threads is set=1, n_jobs=-1 will be ignored. Current value: num_threads=1\n",
            "[LightGBM] [Warning] num_threads is set=1, n_jobs=-1 will be ignored. Current value: num_threads=1\n",
            "[LightGBM] [Warning] num_threads is set=1, n_jobs=-1 will be ignored. Current value: num_threads=1\n",
            "[LightGBM] [Warning] num_threads is set=1, n_jobs=-1 will be ignored. Current value: num_threads=1\n",
            "[LightGBM] [Warning] num_threads is set=1, n_jobs=-1 will be ignored. Current value: num_threads=1\n",
            "[LightGBM] [Warning] num_threads is set=1, n_jobs=-1 will be ignored. Current value: num_threads=1\n",
            "[LightGBM] [Warning] num_threads is set=1, n_jobs=-1 will be ignored. Current value: num_threads=1\n",
            "[LightGBM] [Warning] num_threads is set=1, n_jobs=-1 will be ignored. Current value: num_threads=1\n",
            "[LightGBM] [Warning] num_threads is set=1, n_jobs=-1 will be ignored. Current value: num_threads=1\n",
            "[LightGBM] [Warning] num_threads is set=1, n_jobs=-1 will be ignored. Current value: num_threads=1\n",
            "[LightGBM] [Warning] num_threads is set=1, n_jobs=-1 will be ignored. Current value: num_threads=1\n",
            "[LightGBM] [Warning] num_threads is set=1, n_jobs=-1 will be ignored. Current value: num_threads=1\n",
            "[LightGBM] [Warning] num_threads is set=1, n_jobs=-1 will be ignored. Current value: num_threads=1\n",
            "[LightGBM] [Warning] num_threads is set=1, n_jobs=-1 will be ignored. Current value: num_threads=1\n",
            "[LightGBM] [Warning] num_threads is set=1, n_jobs=-1 will be ignored. Current value: num_threads=1\n",
            "[LightGBM] [Warning] num_threads is set=1, n_jobs=-1 will be ignored. Current value: num_threads=1\n",
            "[LightGBM] [Warning] num_threads is set=1, n_jobs=-1 will be ignored. Current value: num_threads=1\n",
            "[LightGBM] [Warning] num_threads is set=1, n_jobs=-1 will be ignored. Current value: num_threads=1\n",
            "[LightGBM] [Warning] num_threads is set=1, n_jobs=-1 will be ignored. Current value: num_threads=1\n",
            "[LightGBM] [Warning] num_threads is set=1, n_jobs=-1 will be ignored. Current value: num_threads=1\n",
            "[LightGBM] [Warning] num_threads is set=1, n_jobs=-1 will be ignored. Current value: num_threads=1\n",
            "[LightGBM] [Warning] num_threads is set=1, n_jobs=-1 will be ignored. Current value: num_threads=1\n",
            "[LightGBM] [Warning] num_threads is set=1, n_jobs=-1 will be ignored. Current value: num_threads=1\n",
            "[LightGBM] [Warning] num_threads is set=1, n_jobs=-1 will be ignored. Current value: num_threads=1\n",
            "[LightGBM] [Warning] num_threads is set=1, n_jobs=-1 will be ignored. Current value: num_threads=1\n",
            "[LightGBM] [Warning] num_threads is set=1, n_jobs=-1 will be ignored. Current value: num_threads=1\n",
            "[LightGBM] [Warning] num_threads is set=1, n_jobs=-1 will be ignored. Current value: num_threads=1\n",
            "[LightGBM] [Warning] num_threads is set=1, n_jobs=-1 will be ignored. Current value: num_threads=1\n",
            "[LightGBM] [Warning] num_threads is set=1, n_jobs=-1 will be ignored. Current value: num_threads=1\n",
            "[LightGBM] [Warning] num_threads is set=1, n_jobs=-1 will be ignored. Current value: num_threads=1\n",
            "[LightGBM] [Warning] num_threads is set=1, n_jobs=-1 will be ignored. Current value: num_threads=1\n",
            "[LightGBM] [Warning] num_threads is set=1, n_jobs=-1 will be ignored. Current value: num_threads=1\n",
            "[LightGBM] [Warning] num_threads is set=1, n_jobs=-1 will be ignored. Current value: num_threads=1\n",
            "[LightGBM] [Warning] num_threads is set=1, n_jobs=-1 will be ignored. Current value: num_threads=1\n",
            "[LightGBM] [Warning] num_threads is set=1, n_jobs=-1 will be ignored. Current value: num_threads=1\n",
            "[LightGBM] [Warning] num_threads is set=1, n_jobs=-1 will be ignored. Current value: num_threads=1\n",
            "[LightGBM] [Warning] num_threads is set=1, n_jobs=-1 will be ignored. Current value: num_threads=1\n",
            "[LightGBM] [Warning] num_threads is set=1, n_jobs=-1 will be ignored. Current value: num_threads=1\n",
            "[LightGBM] [Warning] num_threads is set=1, n_jobs=-1 will be ignored. Current value: num_threads=1\n",
            "[LightGBM] [Warning] num_threads is set=1, n_jobs=-1 will be ignored. Current value: num_threads=1\n",
            "[LightGBM] [Warning] num_threads is set=1, n_jobs=-1 will be ignored. Current value: num_threads=1\n",
            "[LightGBM] [Warning] num_threads is set=1, n_jobs=-1 will be ignored. Current value: num_threads=1\n",
            "[LightGBM] [Warning] num_threads is set=1, n_jobs=-1 will be ignored. Current value: num_threads=1\n",
            "[LightGBM] [Warning] num_threads is set=1, n_jobs=-1 will be ignored. Current value: num_threads=1\n",
            "[LightGBM] [Warning] num_threads is set=1, n_jobs=-1 will be ignored. Current value: num_threads=1\n",
            "[LightGBM] [Warning] num_threads is set=1, n_jobs=-1 will be ignored. Current value: num_threads=1\n",
            "[LightGBM] [Warning] num_threads is set=1, n_jobs=-1 will be ignored. Current value: num_threads=1\n",
            "[LightGBM] [Warning] num_threads is set=1, n_jobs=-1 will be ignored. Current value: num_threads=1\n",
            "[LightGBM] [Warning] num_threads is set=1, n_jobs=-1 will be ignored. Current value: num_threads=1\n",
            "[LightGBM] [Warning] num_threads is set=1, n_jobs=-1 will be ignored. Current value: num_threads=1\n",
            "[LightGBM] [Warning] num_threads is set=1, n_jobs=-1 will be ignored. Current value: num_threads=1\n",
            "[LightGBM] [Warning] num_threads is set=1, n_jobs=-1 will be ignored. Current value: num_threads=1\n",
            "[LightGBM] [Warning] num_threads is set=1, n_jobs=-1 will be ignored. Current value: num_threads=1\n",
            "[LightGBM] [Warning] num_threads is set=1, n_jobs=-1 will be ignored. Current value: num_threads=1\n",
            "[LightGBM] [Warning] num_threads is set=1, n_jobs=-1 will be ignored. Current value: num_threads=1\n",
            "[LightGBM] [Warning] num_threads is set=1, n_jobs=-1 will be ignored. Current value: num_threads=1\n",
            "[LightGBM] [Warning] num_threads is set=1, n_jobs=-1 will be ignored. Current value: num_threads=1\n",
            "[LightGBM] [Warning] num_threads is set=1, n_jobs=-1 will be ignored. Current value: num_threads=1\n",
            "[LightGBM] [Warning] num_threads is set=1, n_jobs=-1 will be ignored. Current value: num_threads=1\n",
            "[LightGBM] [Warning] num_threads is set=1, n_jobs=-1 will be ignored. Current value: num_threads=1\n",
            "[LightGBM] [Warning] num_threads is set=1, n_jobs=-1 will be ignored. Current value: num_threads=1\n",
            "[LightGBM] [Warning] num_threads is set=1, n_jobs=-1 will be ignored. Current value: num_threads=1\n",
            "[LightGBM] [Warning] num_threads is set=1, n_jobs=-1 will be ignored. Current value: num_threads=1\n",
            "[LightGBM] [Warning] num_threads is set=1, n_jobs=-1 will be ignored. Current value: num_threads=1\n",
            "[LightGBM] [Warning] num_threads is set=1, n_jobs=-1 will be ignored. Current value: num_threads=1\n",
            "[LightGBM] [Warning] num_threads is set=1, n_jobs=-1 will be ignored. Current value: num_threads=1\n",
            "[LightGBM] [Warning] num_threads is set=1, n_jobs=-1 will be ignored. Current value: num_threads=1\n",
            "[LightGBM] [Warning] num_threads is set=1, n_jobs=-1 will be ignored. Current value: num_threads=1\n",
            "[LightGBM] [Warning] num_threads is set=1, n_jobs=-1 will be ignored. Current value: num_threads=1\n",
            "[LightGBM] [Warning] num_threads is set=1, n_jobs=-1 will be ignored. Current value: num_threads=1\n",
            "[LightGBM] [Warning] num_threads is set=1, n_jobs=-1 will be ignored. Current value: num_threads=1\n",
            "[LightGBM] [Warning] num_threads is set=1, n_jobs=-1 will be ignored. Current value: num_threads=1\n",
            "[LightGBM] [Warning] num_threads is set=1, n_jobs=-1 will be ignored. Current value: num_threads=1\n",
            "[LightGBM] [Warning] num_threads is set=1, n_jobs=-1 will be ignored. Current value: num_threads=1\n",
            "[LightGBM] [Warning] num_threads is set=1, n_jobs=-1 will be ignored. Current value: num_threads=1\n",
            "[LightGBM] [Warning] num_threads is set=1, n_jobs=-1 will be ignored. Current value: num_threads=1\n",
            "[LightGBM] [Warning] num_threads is set=1, n_jobs=-1 will be ignored. Current value: num_threads=1\n",
            "[LightGBM] [Warning] num_threads is set=1, n_jobs=-1 will be ignored. Current value: num_threads=1\n",
            "[LightGBM] [Warning] num_threads is set=1, n_jobs=-1 will be ignored. Current value: num_threads=1\n",
            "[LightGBM] [Warning] num_threads is set=1, n_jobs=-1 will be ignored. Current value: num_threads=1\n",
            "[LightGBM] [Warning] num_threads is set=1, n_jobs=-1 will be ignored. Current value: num_threads=1\n",
            "[LightGBM] [Warning] num_threads is set=1, n_jobs=-1 will be ignored. Current value: num_threads=1\n",
            "[LightGBM] [Warning] num_threads is set=1, n_jobs=-1 will be ignored. Current value: num_threads=1\n",
            "[LightGBM] [Warning] num_threads is set=1, n_jobs=-1 will be ignored. Current value: num_threads=1\n",
            "[LightGBM] [Warning] num_threads is set=1, n_jobs=-1 will be ignored. Current value: num_threads=1\n",
            "[LightGBM] [Warning] num_threads is set=1, n_jobs=-1 will be ignored. Current value: num_threads=1\n",
            "[LightGBM] [Warning] num_threads is set=1, n_jobs=-1 will be ignored. Current value: num_threads=1\n",
            "[LightGBM] [Warning] num_threads is set=1, n_jobs=-1 will be ignored. Current value: num_threads=1\n",
            "[LightGBM] [Warning] num_threads is set=1, n_jobs=-1 will be ignored. Current value: num_threads=1\n",
            "[LightGBM] [Warning] num_threads is set=1, n_jobs=-1 will be ignored. Current value: num_threads=1\n",
            "[LightGBM] [Warning] num_threads is set=1, n_jobs=-1 will be ignored. Current value: num_threads=1\n",
            "[LightGBM] [Warning] num_threads is set=1, n_jobs=-1 will be ignored. Current value: num_threads=1\n",
            "[LightGBM] [Warning] num_threads is set=1, n_jobs=-1 will be ignored. Current value: num_threads=1\n",
            "[LightGBM] [Warning] num_threads is set=1, n_jobs=-1 will be ignored. Current value: num_threads=1\n",
            "[LightGBM] [Warning] num_threads is set=1, n_jobs=-1 will be ignored. Current value: num_threads=1\n",
            "[LightGBM] [Warning] num_threads is set=1, n_jobs=-1 will be ignored. Current value: num_threads=1\n",
            "[LightGBM] [Warning] num_threads is set=1, n_jobs=-1 will be ignored. Current value: num_threads=1\n",
            "[LightGBM] [Warning] num_threads is set=1, n_jobs=-1 will be ignored. Current value: num_threads=1\n",
            "[LightGBM] [Warning] num_threads is set=1, n_jobs=-1 will be ignored. Current value: num_threads=1\n",
            "[LightGBM] [Warning] num_threads is set=1, n_jobs=-1 will be ignored. Current value: num_threads=1\n",
            "[LightGBM] [Warning] num_threads is set=1, n_jobs=-1 will be ignored. Current value: num_threads=1\n",
            "[LightGBM] [Warning] num_threads is set=1, n_jobs=-1 will be ignored. Current value: num_threads=1\n",
            "[LightGBM] [Warning] num_threads is set=1, n_jobs=-1 will be ignored. Current value: num_threads=1\n",
            "[LightGBM] [Warning] num_threads is set=1, n_jobs=-1 will be ignored. Current value: num_threads=1\n",
            "[LightGBM] [Warning] num_threads is set=1, n_jobs=-1 will be ignored. Current value: num_threads=1\n",
            "[LightGBM] [Warning] num_threads is set=1, n_jobs=-1 will be ignored. Current value: num_threads=1\n",
            "[LightGBM] [Warning] num_threads is set=1, n_jobs=-1 will be ignored. Current value: num_threads=1\n",
            "[LightGBM] [Warning] num_threads is set=1, n_jobs=-1 will be ignored. Current value: num_threads=1\n",
            "[LightGBM] [Warning] num_threads is set=1, n_jobs=-1 will be ignored. Current value: num_threads=1\n",
            "[LightGBM] [Warning] num_threads is set=1, n_jobs=-1 will be ignored. Current value: num_threads=1\n",
            "[LightGBM] [Warning] num_threads is set=1, n_jobs=-1 will be ignored. Current value: num_threads=1\n",
            "[LightGBM] [Warning] num_threads is set=1, n_jobs=-1 will be ignored. Current value: num_threads=1\n",
            "[LightGBM] [Warning] num_threads is set=1, n_jobs=-1 will be ignored. Current value: num_threads=1\n",
            "[LightGBM] [Warning] num_threads is set=1, n_jobs=-1 will be ignored. Current value: num_threads=1\n",
            "[LightGBM] [Warning] num_threads is set=1, n_jobs=-1 will be ignored. Current value: num_threads=1\n",
            "[LightGBM] [Warning] num_threads is set=1, n_jobs=-1 will be ignored. Current value: num_threads=1\n",
            "[LightGBM] [Warning] num_threads is set=1, n_jobs=-1 will be ignored. Current value: num_threads=1\n",
            "[LightGBM] [Warning] num_threads is set=1, n_jobs=-1 will be ignored. Current value: num_threads=1\n",
            "[LightGBM] [Warning] num_threads is set=1, n_jobs=-1 will be ignored. Current value: num_threads=1\n",
            "[LightGBM] [Warning] num_threads is set=1, n_jobs=-1 will be ignored. Current value: num_threads=1\n",
            "[LightGBM] [Warning] num_threads is set=1, n_jobs=-1 will be ignored. Current value: num_threads=1\n",
            "[LightGBM] [Warning] num_threads is set=1, n_jobs=-1 will be ignored. Current value: num_threads=1\n",
            "[LightGBM] [Warning] num_threads is set=1, n_jobs=-1 will be ignored. Current value: num_threads=1\n",
            "[LightGBM] [Warning] num_threads is set=1, n_jobs=-1 will be ignored. Current value: num_threads=1\n",
            "[LightGBM] [Warning] num_threads is set=1, n_jobs=-1 will be ignored. Current value: num_threads=1\n",
            "[LightGBM] [Warning] num_threads is set=1, n_jobs=-1 will be ignored. Current value: num_threads=1\n",
            "[LightGBM] [Warning] num_threads is set=1, n_jobs=-1 will be ignored. Current value: num_threads=1\n",
            "[LightGBM] [Warning] num_threads is set=1, n_jobs=-1 will be ignored. Current value: num_threads=1\n",
            "[LightGBM] [Warning] num_threads is set=1, n_jobs=-1 will be ignored. Current value: num_threads=1\n",
            "[LightGBM] [Warning] num_threads is set=1, n_jobs=-1 will be ignored. Current value: num_threads=1\n",
            "[LightGBM] [Warning] num_threads is set=1, n_jobs=-1 will be ignored. Current value: num_threads=1\n",
            "best_params_ {'learning_rate': 0.1, 'max_depth': 9, 'n_estimators': 1000, 'num_threads': 1}\n",
            "ROC-AUC:  0.8754667712677835\n",
            "CPU times: user 59.4 s, sys: 1.11 s, total: 1min\n",
            "Wall time: 1min 3s\n"
          ]
        }
      ],
      "source": [
        "%%time\n",
        "model_lgbm = LGBMClassifier(random_state=RANDOM_STATE, n_jobs=-1)\n",
        "param_lgbm = {'n_estimators': [300, 500, 1000], 'learning_rate': [0.01, 0.1, 1], 'max_depth': [1, 5, 9], 'num_threads':[1]}\n",
        "search_lgbm = GridSearchCV(model_lgbm, param_lgbm, cv=5, scoring='roc_auc')\n",
        "search_lgbm.fit(X_train_light, y_train)\n",
        "\n",
        "print('best_params_', search_lgbm.best_params_)\n",
        "print('ROC-AUC: ', search_lgbm.best_score_)"
      ]
    },
    {
      "cell_type": "markdown",
      "metadata": {
        "id": "5M3ySUL3GHX8"
      },
      "source": [
        "LGBMClassifier ROC-AUC 0.87"
      ]
    },
    {
      "cell_type": "markdown",
      "metadata": {
        "id": "6puKi0nlGY7y"
      },
      "source": [
        "Выведем результаты по трем моделям"
      ]
    },
    {
      "cell_type": "code",
      "execution_count": null,
      "metadata": {
        "id": "-M8UNiXLGazK"
      },
      "outputs": [],
      "source": [
        "index = ['LogisticRegression',\n",
        "         'CatBoostClassifier',\n",
        "         'LGBMClassifier'\n",
        "        ]\n",
        "\n",
        "data = {'ROC-AUC':[grid_lr.best_score_.round(2),\n",
        "                   best_score['learn']['AUC'],\n",
        "                   search_lgbm.best_score_.round(2)]}\n",
        "\n",
        "best_model = pd.DataFrame(data=data, index=index)"
      ]
    },
    {
      "cell_type": "code",
      "execution_count": null,
      "metadata": {
        "colab": {
          "base_uri": "https://localhost:8080/",
          "height": 143
        },
        "id": "HgphnBn5Iij1",
        "outputId": "14748aab-51a9-4042-8f3a-0f4af2e2d6ed"
      },
      "outputs": [
        {
          "data": {
            "text/html": [
              "\n",
              "  <div id=\"df-256f7741-30ea-45ff-af13-f66847d50c64\">\n",
              "    <div class=\"colab-df-container\">\n",
              "      <div>\n",
              "<style scoped>\n",
              "    .dataframe tbody tr th:only-of-type {\n",
              "        vertical-align: middle;\n",
              "    }\n",
              "\n",
              "    .dataframe tbody tr th {\n",
              "        vertical-align: top;\n",
              "    }\n",
              "\n",
              "    .dataframe thead th {\n",
              "        text-align: right;\n",
              "    }\n",
              "</style>\n",
              "<table border=\"1\" class=\"dataframe\">\n",
              "  <thead>\n",
              "    <tr style=\"text-align: right;\">\n",
              "      <th></th>\n",
              "      <th>ROC-AUC</th>\n",
              "    </tr>\n",
              "  </thead>\n",
              "  <tbody>\n",
              "    <tr>\n",
              "      <th>LogisticRegression</th>\n",
              "      <td>0.760000</td>\n",
              "    </tr>\n",
              "    <tr>\n",
              "      <th>CatBoostClassifier</th>\n",
              "      <td>0.997201</td>\n",
              "    </tr>\n",
              "    <tr>\n",
              "      <th>LGBMClassifier</th>\n",
              "      <td>0.880000</td>\n",
              "    </tr>\n",
              "  </tbody>\n",
              "</table>\n",
              "</div>\n",
              "      <button class=\"colab-df-convert\" onclick=\"convertToInteractive('df-256f7741-30ea-45ff-af13-f66847d50c64')\"\n",
              "              title=\"Convert this dataframe to an interactive table.\"\n",
              "              style=\"display:none;\">\n",
              "        \n",
              "  <svg xmlns=\"http://www.w3.org/2000/svg\" height=\"24px\"viewBox=\"0 0 24 24\"\n",
              "       width=\"24px\">\n",
              "    <path d=\"M0 0h24v24H0V0z\" fill=\"none\"/>\n",
              "    <path d=\"M18.56 5.44l.94 2.06.94-2.06 2.06-.94-2.06-.94-.94-2.06-.94 2.06-2.06.94zm-11 1L8.5 8.5l.94-2.06 2.06-.94-2.06-.94L8.5 2.5l-.94 2.06-2.06.94zm10 10l.94 2.06.94-2.06 2.06-.94-2.06-.94-.94-2.06-.94 2.06-2.06.94z\"/><path d=\"M17.41 7.96l-1.37-1.37c-.4-.4-.92-.59-1.43-.59-.52 0-1.04.2-1.43.59L10.3 9.45l-7.72 7.72c-.78.78-.78 2.05 0 2.83L4 21.41c.39.39.9.59 1.41.59.51 0 1.02-.2 1.41-.59l7.78-7.78 2.81-2.81c.8-.78.8-2.07 0-2.86zM5.41 20L4 18.59l7.72-7.72 1.47 1.35L5.41 20z\"/>\n",
              "  </svg>\n",
              "      </button>\n",
              "      \n",
              "  <style>\n",
              "    .colab-df-container {\n",
              "      display:flex;\n",
              "      flex-wrap:wrap;\n",
              "      gap: 12px;\n",
              "    }\n",
              "\n",
              "    .colab-df-convert {\n",
              "      background-color: #E8F0FE;\n",
              "      border: none;\n",
              "      border-radius: 50%;\n",
              "      cursor: pointer;\n",
              "      display: none;\n",
              "      fill: #1967D2;\n",
              "      height: 32px;\n",
              "      padding: 0 0 0 0;\n",
              "      width: 32px;\n",
              "    }\n",
              "\n",
              "    .colab-df-convert:hover {\n",
              "      background-color: #E2EBFA;\n",
              "      box-shadow: 0px 1px 2px rgba(60, 64, 67, 0.3), 0px 1px 3px 1px rgba(60, 64, 67, 0.15);\n",
              "      fill: #174EA6;\n",
              "    }\n",
              "\n",
              "    [theme=dark] .colab-df-convert {\n",
              "      background-color: #3B4455;\n",
              "      fill: #D2E3FC;\n",
              "    }\n",
              "\n",
              "    [theme=dark] .colab-df-convert:hover {\n",
              "      background-color: #434B5C;\n",
              "      box-shadow: 0px 1px 3px 1px rgba(0, 0, 0, 0.15);\n",
              "      filter: drop-shadow(0px 1px 2px rgba(0, 0, 0, 0.3));\n",
              "      fill: #FFFFFF;\n",
              "    }\n",
              "  </style>\n",
              "\n",
              "      <script>\n",
              "        const buttonEl =\n",
              "          document.querySelector('#df-256f7741-30ea-45ff-af13-f66847d50c64 button.colab-df-convert');\n",
              "        buttonEl.style.display =\n",
              "          google.colab.kernel.accessAllowed ? 'block' : 'none';\n",
              "\n",
              "        async function convertToInteractive(key) {\n",
              "          const element = document.querySelector('#df-256f7741-30ea-45ff-af13-f66847d50c64');\n",
              "          const dataTable =\n",
              "            await google.colab.kernel.invokeFunction('convertToInteractive',\n",
              "                                                     [key], {});\n",
              "          if (!dataTable) return;\n",
              "\n",
              "          const docLinkHtml = 'Like what you see? Visit the ' +\n",
              "            '<a target=\"_blank\" href=https://colab.research.google.com/notebooks/data_table.ipynb>data table notebook</a>'\n",
              "            + ' to learn more about interactive tables.';\n",
              "          element.innerHTML = '';\n",
              "          dataTable['output_type'] = 'display_data';\n",
              "          await google.colab.output.renderOutput(dataTable, element);\n",
              "          const docLink = document.createElement('div');\n",
              "          docLink.innerHTML = docLinkHtml;\n",
              "          element.appendChild(docLink);\n",
              "        }\n",
              "      </script>\n",
              "    </div>\n",
              "  </div>\n",
              "  "
            ],
            "text/plain": [
              "                     ROC-AUC\n",
              "LogisticRegression  0.760000\n",
              "CatBoostClassifier  0.997201\n",
              "LGBMClassifier      0.880000"
            ]
          },
          "execution_count": 113,
          "metadata": {},
          "output_type": "execute_result"
        }
      ],
      "source": [
        "best_model"
      ]
    },
    {
      "cell_type": "markdown",
      "metadata": {
        "id": "aptVaWVzIiR9"
      },
      "source": [
        "Лучшая модель на трейне - CatBoostClassifier, показатель AUC-ROC 0.99"
      ]
    },
    {
      "cell_type": "markdown",
      "metadata": {
        "id": "z1N-6M7LGdfe"
      },
      "source": [
        "## Проверка качества лучшей модели на тестовой выборке"
      ]
    },
    {
      "cell_type": "code",
      "execution_count": null,
      "metadata": {
        "id": "OjuG0n98OBDU"
      },
      "outputs": [],
      "source": [
        "model_cat_predictions = model_cat.predict(X_test)"
      ]
    },
    {
      "cell_type": "code",
      "execution_count": null,
      "metadata": {
        "colab": {
          "base_uri": "https://localhost:8080/"
        },
        "id": "oLrhus-sb8W5",
        "outputId": "e075c78f-ce51-42f8-e445-7c3b655c84ce"
      },
      "outputs": [
        {
          "name": "stdout",
          "output_type": "stream",
          "text": [
            "ROC-AUC: 0.9393432804728797\n"
          ]
        }
      ],
      "source": [
        "model_cat_probabilities = model_cat.predict_proba(X_test)[:,1]\n",
        "print('ROC-AUC:', roc_auc_score(y_test, model_cat_probabilities))"
      ]
    },
    {
      "cell_type": "markdown",
      "metadata": {
        "id": "L1GQSluGnSQi"
      },
      "source": [
        "Выведем на экран параметры лучшей модели"
      ]
    },
    {
      "cell_type": "code",
      "execution_count": null,
      "metadata": {
        "colab": {
          "base_uri": "https://localhost:8080/"
        },
        "id": "XUsmoUitdAyT",
        "outputId": "daf542fa-dcf5-464f-9df3-fd5d20b0cde6"
      },
      "outputs": [
        {
          "name": "stdout",
          "output_type": "stream",
          "text": [
            "{'iterations': 100, 'loss_function': 'CrossEntropy', 'verbose': False, 'eval_metric': 'AUC:hints=skip_train~false', 'random_state': 220523, 'cat_features': ['Type', 'PaperlessBilling', 'PaymentMethod', 'MultipleLines', 'gender', 'Partner', 'Dependents', 'InternetService', 'OnlineSecurity', 'OnlineBackup', 'DeviceProtection', 'TechSupport', 'StreamingTV', 'StreamingMovies'], 'depth': 8, 'learning_rate': 0.35}\n"
          ]
        }
      ],
      "source": [
        "print(model_cat.get_params())"
      ]
    },
    {
      "cell_type": "markdown",
      "metadata": {
        "id": "NJP9YExSGlX1"
      },
      "source": [
        "## Исследование важности признаков лучшей модели"
      ]
    },
    {
      "cell_type": "markdown",
      "metadata": {
        "id": "bbTShLq7qus7"
      },
      "source": [
        "Визуализируем важность признаков с помощью возможностей библиотеки shap"
      ]
    },
    {
      "cell_type": "code",
      "execution_count": null,
      "metadata": {
        "colab": {
          "base_uri": "https://localhost:8080/",
          "height": 877
        },
        "id": "b_lKOFl1pU_x",
        "outputId": "347d7a65-9994-4fde-e177-5f7abd359f61"
      },
      "outputs": [
        {
          "data": {
            "image/png": "[encoded data removed]",
            "text/plain": [
              "<Figure size 800x870 with 2 Axes>"
            ]
          },
          "metadata": {},
          "output_type": "display_data"
        }
      ],
      "source": [
        "explainer = shap.Explainer(model_cat)\n",
        "shap_values = explainer.shap_values(X_train)\n",
        "feature_names = X_train.columns.tolist()\n",
        "shap.summary_plot(shap_values, X_train, feature_names=feature_names)"
      ]
    },
    {
      "cell_type": "markdown",
      "metadata": {
        "id": "zktOSNu-rIgY"
      },
      "source": [
        "Признаки, которые влияют сильнее всего на решение клиента уйти или остаться это:\n",
        "- 'TotalTime'\n",
        "- 'TotalCharges'\n",
        "- 'MonthlyCharges'\n",
        "- 'Type'\n"
      ]
    },
    {
      "cell_type": "markdown",
      "metadata": {
        "id": "a3fO-7fPurWW"
      },
      "source": [
        "Матрица ошибок"
      ]
    },
    {
      "cell_type": "code",
      "execution_count": null,
      "metadata": {
        "colab": {
          "base_uri": "https://localhost:8080/",
          "height": 618
        },
        "id": "R3tPS1gWGquV",
        "outputId": "ddcc74d2-a477-4a2a-a70e-22a567fda272"
      },
      "outputs": [
        {
          "data": {
            "text/plain": [
              "[Text(0.5, 1.0, 'Матрица ошибок'),\n",
              " Text(0.5, 36.72222222222221, 'Предсказания'),\n",
              " Text(45.722222222222214, 0.5, 'Правильные ответы')]"
            ]
          },
          "execution_count": 84,
          "metadata": {},
          "output_type": "execute_result"
        },
        {
          "data": {
            "image/png": "[encoded data removed]",
            "text/plain": [
              "<Figure size 600x600 with 2 Axes>"
            ]
          },
          "metadata": {},
          "output_type": "display_data"
        }
      ],
      "source": [
        "cmatrix = confusion_matrix(y_test, model_cat_predictions)\n",
        "plt.figure(figsize=(6, 6))\n",
        "sns.heatmap(cmatrix,\n",
        "            annot=True,\n",
        "            cmap='RdPu',\n",
        "            fmt='d').set(title='Матрица ошибок', xlabel='Предсказания', ylabel='Правильные ответы')"
      ]
    },
    {
      "cell_type": "markdown",
      "metadata": {
        "id": "RhSlLU1wc2nZ"
      },
      "source": [
        "<b>Выводы:</b>\n",
        "- Добавила столбец 'TotalTime', который показывает срок жизни клиента в компании в днях. Удалила столбцы 'EndDate' и'BeginDate'.\n",
        "- Добавила столбец 'CustomerLeft'\n",
        "- В \"ушедших клиентах\" присутсвует дисбаланс классов, я не стала это корректировать, т.к. метрика ROC-AUC не чувствительна к нему.\n",
        "- Построила матрицу корреляции 𝜙k. Наблюдается корреляция между признаками StreamingMovies, StreamingTV, TechSupport, DeviceProtection, OnlineBackup, OnlineSecurity и InternetService. Однако, я не удаляла их, т.к. catboost и lgbm устойчивы к корреляции, а для логистической регрессии в данном случае это не критично.\n",
        "- Поменяла 0 на No\n",
        "- Разбила данные на обучающую и тестовую выборки в соотношении 75:25, задала таргет -  'CustomerLeft'\n",
        "- Обучила на тренивочной выборке 3 модели LogisticRegression, CatBoost, LGBM.\n",
        "- Лучший результат ROC-AUC показала CatBoost - 0,99\n",
        "- Я протестировала CatBoost на тестовой выборке, модель показала такой же результат 0,94.\n",
        "- Построив feature importance я обнаружила, что ризнаки, которые влияют сильнее всего на решение клиента уйти или остаться это: 'TotalTime', 'TotalCharges', 'MonthlyCharges', 'Type'.\n",
        "- Я проанализировала матрицу ошибок - TPR - 1482, FPR - 71, FNR - 24, TNR - 184"
      ]
    },
    {
      "cell_type": "markdown",
      "metadata": {
        "id": "wCk-zuwzFBxD"
      },
      "source": [
        "# Отчет"
      ]
    },
    {
      "cell_type": "markdown",
      "metadata": {
        "id": "UH3MjN1YFE65"
      },
      "source": [
        "## Какие трудности возникли, какие ключевые шаги выделяем?"
      ]
    },
    {
      "cell_type": "markdown",
      "metadata": {
        "id": "LQr1WrsjFEyT"
      },
      "source": [
        "<b>Ключевые шаги проекта:</b>\n",
        "\n",
        "1. Предварительная обработка данных\n",
        "2. Обучение моделей\n",
        "3. Достижение необходимого показателя метрики\n",
        "4. Выводы и составление отчета"
      ]
    },
    {
      "cell_type": "markdown",
      "metadata": {
        "id": "WVYTvfbTFElN"
      },
      "source": [
        "## Лучшая модель, гиперпараметры."
      ]
    },
    {
      "cell_type": "markdown",
      "metadata": {
        "id": "1W9w9J9nFEBD"
      },
      "source": [
        "Лучшая модель для решения данной задачи - это CatBoostClassifier с параметрами:\n",
        "\n",
        "- 'iterations': 2000,\n",
        "- 'loss_function': 'CrossEntropy',\n",
        "- 'verbose': 200,\n",
        "- 'eval_metric': 'AUC:hints=skip_train~false',\n",
        "- 'random_state': 220523,\n",
        "- 'cat_features': ['Type', 'PaperlessBilling', 'PaymentMethod', 'MultipleLines', 'gender', 'Partner', 'Dependents', 'InternetService', 'OnlineSecurity', 'OnlineBackup', 'DeviceProtection', 'TechSupport', 'StreamingTV', 'StreamingMovies'],\n",
        "- 'depth': 2,\n",
        "- 'l2_leaf_reg': 1,\n",
        "- 'learning_rate': 0.5"
      ]
    },
    {
      "cell_type": "markdown",
      "metadata": {
        "id": "LygE65PDFeSH"
      },
      "source": [
        "## Список признаков используемых для обучения лучшей модели."
      ]
    },
    {
      "cell_type": "markdown",
      "metadata": {
        "id": "w0NT4mt9FiBQ"
      },
      "source": [
        "Для обучения лучшей модели я использовала признаки:\n",
        "\n",
        "- Type\n",
        "- PaperlessBilling\n",
        "- PaymentMethod\n",
        "- MonthlyCharges\n",
        "- TotalCharges\n",
        "- MultipleLines\n",
        "- gender\n",
        "- SeniorCitizen\n",
        "- Partner\n",
        "- Dependents\n",
        "- InternetService\n",
        "- OnlineSecurity\n",
        "- OnlineBackup\n",
        "- DeviceProtection\n",
        "- TechSupport\n",
        "- StreamingTV\n",
        "- StreamingMovies\n",
        "- TotalTime\n",
        "\n",
        "Столбцы с временм начала и окончания сотрудничества я удалила.\n",
        "\n",
        "Признаки, оказавшие наибольшее влияние, это:\n",
        "- 'TotalTime'\n",
        "- 'TotalCharges'\n",
        "- 'MonthlyCharges'\n",
        "- 'Type'"
      ]
    },
    {
      "cell_type": "markdown",
      "metadata": {
        "id": "Xa1KT-0CFpXt"
      },
      "source": [
        "В итоге получилось достичь показатель метрики ROC-AUC 0.94 на тестовой выборке , что соотвествует требованиям заказчика(ROC-AUC>0.85)"
      ]
    }
  ],
  "metadata": {
    "ExecuteTimeLog": [
      {
        "duration": 1223,
        "start_time": "2023-05-25T12:45:14.302Z"
      },
      {
        "duration": 311,
        "start_time": "2023-05-25T12:45:22.793Z"
      },
      {
        "duration": 3,
        "start_time": "2023-05-25T12:46:52.673Z"
      },
      {
        "duration": 318,
        "start_time": "2023-05-25T12:46:53.395Z"
      },
      {
        "duration": 106,
        "start_time": "2023-05-25T12:47:13.156Z"
      },
      {
        "duration": 7559,
        "start_time": "2023-06-02T08:59:49.105Z"
      },
      {
        "duration": 659,
        "start_time": "2023-06-02T08:59:59.002Z"
      },
      {
        "duration": 173,
        "start_time": "2023-06-02T09:00:01.898Z"
      },
      {
        "duration": 10,
        "start_time": "2023-06-02T09:00:05.555Z"
      },
      {
        "duration": 21,
        "start_time": "2023-06-02T09:00:21.351Z"
      },
      {
        "duration": 11,
        "start_time": "2023-06-02T09:00:22.866Z"
      },
      {
        "duration": 5,
        "start_time": "2023-06-02T09:00:30.157Z"
      },
      {
        "duration": 10,
        "start_time": "2023-06-02T09:00:45.867Z"
      },
      {
        "duration": 5,
        "start_time": "2023-06-02T09:00:56.848Z"
      },
      {
        "duration": 11,
        "start_time": "2023-06-02T09:00:58.165Z"
      },
      {
        "duration": 41,
        "start_time": "2023-06-02T09:01:00.080Z"
      },
      {
        "duration": 10,
        "start_time": "2023-06-02T09:01:02.185Z"
      },
      {
        "duration": 18,
        "start_time": "2023-06-02T09:01:44.257Z"
      },
      {
        "duration": 5,
        "start_time": "2023-06-02T09:06:14.970Z"
      },
      {
        "duration": 8,
        "start_time": "2023-06-02T09:06:15.718Z"
      },
      {
        "duration": 6,
        "start_time": "2023-06-02T09:06:16.641Z"
      },
      {
        "duration": 17,
        "start_time": "2023-06-02T09:06:17.765Z"
      },
      {
        "duration": 4,
        "start_time": "2023-06-02T09:06:25.363Z"
      },
      {
        "duration": 4,
        "start_time": "2023-06-02T09:06:26.690Z"
      },
      {
        "duration": 18,
        "start_time": "2023-06-02T09:06:28.501Z"
      },
      {
        "duration": 15,
        "start_time": "2023-06-02T09:06:28.651Z"
      },
      {
        "duration": 8,
        "start_time": "2023-06-02T09:06:31.361Z"
      },
      {
        "duration": 6,
        "start_time": "2023-06-02T09:06:33.154Z"
      },
      {
        "duration": 4,
        "start_time": "2023-06-02T09:06:34.570Z"
      },
      {
        "duration": 128,
        "start_time": "2023-06-02T09:06:47.382Z"
      },
      {
        "duration": 13,
        "start_time": "2023-06-02T09:06:53.998Z"
      },
      {
        "duration": 3,
        "start_time": "2023-06-02T09:07:05.755Z"
      },
      {
        "duration": 11,
        "start_time": "2023-06-02T09:07:14.353Z"
      },
      {
        "duration": 6,
        "start_time": "2023-06-02T09:07:33.057Z"
      },
      {
        "duration": 13,
        "start_time": "2023-06-02T09:07:44.211Z"
      },
      {
        "duration": 6,
        "start_time": "2023-06-02T09:08:16.515Z"
      },
      {
        "duration": 4,
        "start_time": "2023-06-02T09:08:19.053Z"
      },
      {
        "duration": 10,
        "start_time": "2023-06-02T09:08:29.151Z"
      },
      {
        "duration": 14,
        "start_time": "2023-06-02T09:09:34.981Z"
      },
      {
        "duration": 24,
        "start_time": "2023-06-02T09:10:01.256Z"
      },
      {
        "duration": 15,
        "start_time": "2023-06-02T09:10:34.250Z"
      },
      {
        "duration": 31,
        "start_time": "2023-06-02T09:10:41.251Z"
      },
      {
        "duration": 30,
        "start_time": "2023-06-02T09:10:51.454Z"
      },
      {
        "duration": 11,
        "start_time": "2023-06-02T09:12:28.578Z"
      },
      {
        "duration": 28,
        "start_time": "2023-06-02T09:12:45.613Z"
      },
      {
        "duration": 12,
        "start_time": "2023-06-02T09:17:28.059Z"
      },
      {
        "duration": 45,
        "start_time": "2023-06-02T09:18:17.820Z"
      },
      {
        "duration": 45,
        "start_time": "2023-06-02T09:18:25.788Z"
      },
      {
        "duration": 6743,
        "start_time": "2023-06-02T09:20:05.076Z"
      },
      {
        "duration": 29,
        "start_time": "2023-06-02T09:20:23.655Z"
      },
      {
        "duration": 43,
        "start_time": "2023-06-02T09:20:40.119Z"
      },
      {
        "duration": 40,
        "start_time": "2023-06-02T09:20:48.139Z"
      },
      {
        "duration": 10,
        "start_time": "2023-06-02T09:23:00.004Z"
      },
      {
        "duration": 14,
        "start_time": "2023-06-02T09:23:07.000Z"
      },
      {
        "duration": 44,
        "start_time": "2023-06-02T09:23:50.393Z"
      },
      {
        "duration": 61,
        "start_time": "2023-06-02T09:29:10.963Z"
      },
      {
        "duration": 43,
        "start_time": "2023-06-02T09:30:50.065Z"
      },
      {
        "duration": 4,
        "start_time": "2023-06-02T09:35:39.893Z"
      },
      {
        "duration": 4,
        "start_time": "2023-06-02T09:35:55.776Z"
      },
      {
        "duration": 42,
        "start_time": "2023-06-02T09:37:08.815Z"
      },
      {
        "duration": 41,
        "start_time": "2023-06-02T09:37:28.063Z"
      },
      {
        "duration": 3,
        "start_time": "2023-06-02T09:37:51.785Z"
      },
      {
        "duration": 105,
        "start_time": "2023-06-02T09:37:52.996Z"
      },
      {
        "duration": 24,
        "start_time": "2023-06-02T09:38:31.793Z"
      },
      {
        "duration": 100,
        "start_time": "2023-06-02T09:38:35.969Z"
      },
      {
        "duration": 107,
        "start_time": "2023-06-02T09:39:31.298Z"
      },
      {
        "duration": 109,
        "start_time": "2023-06-02T10:03:31.178Z"
      },
      {
        "duration": 10,
        "start_time": "2023-06-02T10:03:33.078Z"
      },
      {
        "duration": 11,
        "start_time": "2023-06-02T10:04:14.812Z"
      },
      {
        "duration": 6892,
        "start_time": "2023-06-02T10:05:02.162Z"
      },
      {
        "duration": 12077,
        "start_time": "2023-06-03T14:07:15.140Z"
      },
      {
        "duration": 1042,
        "start_time": "2023-06-03T14:07:39.879Z"
      },
      {
        "duration": 208,
        "start_time": "2023-06-03T14:07:42.458Z"
      },
      {
        "duration": 10,
        "start_time": "2023-06-03T14:07:43.636Z"
      },
      {
        "duration": 23,
        "start_time": "2023-06-03T14:07:43.679Z"
      },
      {
        "duration": 12,
        "start_time": "2023-06-03T14:07:43.740Z"
      },
      {
        "duration": 6,
        "start_time": "2023-06-03T14:07:43.849Z"
      },
      {
        "duration": 10,
        "start_time": "2023-06-03T14:07:43.930Z"
      },
      {
        "duration": 5,
        "start_time": "2023-06-03T14:07:44.010Z"
      },
      {
        "duration": 12,
        "start_time": "2023-06-03T14:07:44.487Z"
      },
      {
        "duration": 52,
        "start_time": "2023-06-03T14:07:45.283Z"
      },
      {
        "duration": 10,
        "start_time": "2023-06-03T14:07:45.337Z"
      },
      {
        "duration": 276,
        "start_time": "2023-06-03T14:07:45.440Z"
      },
      {
        "duration": 234,
        "start_time": "2023-06-03T14:07:45.719Z"
      },
      {
        "duration": 489,
        "start_time": "2023-06-03T14:07:46.909Z"
      },
      {
        "duration": 257,
        "start_time": "2023-06-03T14:07:47.407Z"
      },
      {
        "duration": 7,
        "start_time": "2023-06-03T14:07:49.020Z"
      },
      {
        "duration": 15,
        "start_time": "2023-06-03T14:07:49.871Z"
      },
      {
        "duration": 10,
        "start_time": "2023-06-03T14:07:51.125Z"
      },
      {
        "duration": 25,
        "start_time": "2023-06-03T14:07:52.703Z"
      },
      {
        "duration": 1706,
        "start_time": "2023-06-03T14:07:53.416Z"
      },
      {
        "duration": 6,
        "start_time": "2023-06-03T14:07:59.932Z"
      },
      {
        "duration": 7,
        "start_time": "2023-06-03T14:08:02.621Z"
      },
      {
        "duration": 16,
        "start_time": "2023-06-03T14:08:02.928Z"
      },
      {
        "duration": 4,
        "start_time": "2023-06-03T14:08:30.020Z"
      },
      {
        "duration": 14,
        "start_time": "2023-06-03T14:08:30.275Z"
      },
      {
        "duration": 15,
        "start_time": "2023-06-03T14:08:34.449Z"
      },
      {
        "duration": 15,
        "start_time": "2023-06-03T14:08:36.295Z"
      },
      {
        "duration": 14,
        "start_time": "2023-06-03T14:09:53.817Z"
      },
      {
        "duration": 70,
        "start_time": "2023-06-03T14:09:56.985Z"
      },
      {
        "duration": 12,
        "start_time": "2023-06-03T14:10:07.553Z"
      },
      {
        "duration": 7,
        "start_time": "2023-06-03T14:10:11.919Z"
      },
      {
        "duration": 2537,
        "start_time": "2023-06-03T14:11:39.776Z"
      },
      {
        "duration": 40,
        "start_time": "2023-06-03T14:12:04.445Z"
      },
      {
        "duration": 14,
        "start_time": "2023-06-03T14:14:44.816Z"
      },
      {
        "duration": 13,
        "start_time": "2023-06-03T14:14:50.774Z"
      },
      {
        "duration": 2598,
        "start_time": "2023-06-03T14:14:58.944Z"
      },
      {
        "duration": 25,
        "start_time": "2023-06-03T14:15:46.322Z"
      },
      {
        "duration": 20,
        "start_time": "2023-06-03T14:16:40.816Z"
      },
      {
        "duration": 6,
        "start_time": "2023-06-03T14:17:42.446Z"
      },
      {
        "duration": 9665,
        "start_time": "2023-06-03T14:17:47.674Z"
      },
      {
        "duration": 9584,
        "start_time": "2023-06-03T14:18:42.135Z"
      },
      {
        "duration": 13,
        "start_time": "2023-06-03T14:19:14.190Z"
      },
      {
        "duration": 24,
        "start_time": "2023-06-03T14:19:23.583Z"
      },
      {
        "duration": 9947,
        "start_time": "2023-06-03T14:19:43.570Z"
      },
      {
        "duration": 638,
        "start_time": "2023-06-03T14:19:53.599Z"
      },
      {
        "duration": 9610,
        "start_time": "2023-06-03T14:19:56.927Z"
      },
      {
        "duration": 19,
        "start_time": "2023-06-03T14:21:05.028Z"
      },
      {
        "duration": 14,
        "start_time": "2023-06-03T14:22:20.040Z"
      },
      {
        "duration": 24,
        "start_time": "2023-06-03T14:22:28.180Z"
      },
      {
        "duration": 20,
        "start_time": "2023-06-03T14:22:37.289Z"
      },
      {
        "duration": 50,
        "start_time": "2023-06-03T14:22:51.047Z"
      },
      {
        "duration": 51,
        "start_time": "2023-06-03T14:22:59.762Z"
      },
      {
        "duration": 51,
        "start_time": "2023-06-03T14:23:50.834Z"
      },
      {
        "duration": 39,
        "start_time": "2023-06-03T14:25:17.029Z"
      },
      {
        "duration": 65,
        "start_time": "2023-06-03T14:25:39.249Z"
      },
      {
        "duration": 55,
        "start_time": "2023-06-03T14:25:51.854Z"
      },
      {
        "duration": 32,
        "start_time": "2023-06-03T14:25:54.528Z"
      },
      {
        "duration": 39,
        "start_time": "2023-06-03T14:26:35.466Z"
      },
      {
        "duration": 37,
        "start_time": "2023-06-03T14:27:00.515Z"
      },
      {
        "duration": 34,
        "start_time": "2023-06-03T14:27:05.263Z"
      },
      {
        "duration": 40,
        "start_time": "2023-06-03T14:27:21.432Z"
      },
      {
        "duration": 33,
        "start_time": "2023-06-03T14:27:38.440Z"
      },
      {
        "duration": 27,
        "start_time": "2023-06-03T14:27:52.797Z"
      },
      {
        "duration": 48,
        "start_time": "2023-06-03T14:28:31.632Z"
      },
      {
        "duration": 29,
        "start_time": "2023-06-03T14:28:38.192Z"
      },
      {
        "duration": 52,
        "start_time": "2023-06-03T14:28:57.722Z"
      },
      {
        "duration": 36,
        "start_time": "2023-06-03T14:29:04.916Z"
      },
      {
        "duration": 41,
        "start_time": "2023-06-03T14:29:20.906Z"
      },
      {
        "duration": 113,
        "start_time": "2023-06-03T14:29:24.618Z"
      },
      {
        "duration": 33,
        "start_time": "2023-06-03T14:29:28.101Z"
      },
      {
        "duration": 46,
        "start_time": "2023-06-03T14:29:39.793Z"
      },
      {
        "duration": 38,
        "start_time": "2023-06-03T14:29:43.982Z"
      },
      {
        "duration": 35,
        "start_time": "2023-06-03T14:30:02.381Z"
      },
      {
        "duration": 1115,
        "start_time": "2023-06-03T14:30:18.904Z"
      },
      {
        "duration": 40,
        "start_time": "2023-06-03T14:30:24.701Z"
      },
      {
        "duration": 29,
        "start_time": "2023-06-03T14:30:52.669Z"
      },
      {
        "duration": 23,
        "start_time": "2023-06-03T14:31:05.725Z"
      },
      {
        "duration": 32,
        "start_time": "2023-06-03T14:31:28.157Z"
      },
      {
        "duration": 36,
        "start_time": "2023-06-03T14:31:32.508Z"
      },
      {
        "duration": 25,
        "start_time": "2023-06-03T14:31:45.402Z"
      },
      {
        "duration": 34,
        "start_time": "2023-06-03T14:31:52.448Z"
      },
      {
        "duration": 44,
        "start_time": "2023-06-03T14:31:56.623Z"
      },
      {
        "duration": 40,
        "start_time": "2023-06-03T14:32:02.141Z"
      },
      {
        "duration": 2029,
        "start_time": "2023-06-03T14:32:55.417Z"
      },
      {
        "duration": 7,
        "start_time": "2023-06-03T14:33:23.246Z"
      },
      {
        "duration": 2205,
        "start_time": "2023-06-03T14:33:29.880Z"
      },
      {
        "duration": 1973,
        "start_time": "2023-06-03T14:34:11.373Z"
      },
      {
        "duration": 963,
        "start_time": "2023-06-03T14:34:22.753Z"
      },
      {
        "duration": 40,
        "start_time": "2023-06-03T14:34:30.650Z"
      },
      {
        "duration": 2108,
        "start_time": "2023-06-03T14:34:59.187Z"
      },
      {
        "duration": 36,
        "start_time": "2023-06-03T14:35:12.274Z"
      },
      {
        "duration": 39,
        "start_time": "2023-06-03T14:35:52.350Z"
      },
      {
        "duration": 44,
        "start_time": "2023-06-03T14:36:28.965Z"
      },
      {
        "duration": 112,
        "start_time": "2023-06-03T14:36:39.589Z"
      },
      {
        "duration": 39,
        "start_time": "2023-06-03T14:36:42.750Z"
      },
      {
        "duration": 31,
        "start_time": "2023-06-03T14:37:00.619Z"
      },
      {
        "duration": 27,
        "start_time": "2023-06-03T14:37:20.572Z"
      },
      {
        "duration": 8181,
        "start_time": "2023-06-03T14:42:12.774Z"
      },
      {
        "duration": 24,
        "start_time": "2023-06-03T14:42:32.374Z"
      },
      {
        "duration": 10254,
        "start_time": "2023-06-03T14:42:59.027Z"
      },
      {
        "duration": 32,
        "start_time": "2023-06-03T14:43:17.144Z"
      },
      {
        "duration": 42,
        "start_time": "2023-06-03T14:43:51.657Z"
      },
      {
        "duration": 5,
        "start_time": "2023-06-03T15:09:41.867Z"
      },
      {
        "duration": 22,
        "start_time": "2023-06-03T15:15:12.790Z"
      },
      {
        "duration": 36,
        "start_time": "2023-06-03T15:15:21.745Z"
      },
      {
        "duration": 10,
        "start_time": "2023-06-03T15:15:49.271Z"
      },
      {
        "duration": 8,
        "start_time": "2023-06-03T15:17:15.989Z"
      },
      {
        "duration": 7,
        "start_time": "2023-06-03T15:17:22.400Z"
      },
      {
        "duration": 120,
        "start_time": "2023-06-03T15:18:25.935Z"
      },
      {
        "duration": 156,
        "start_time": "2023-06-03T15:18:30.704Z"
      },
      {
        "duration": 121,
        "start_time": "2023-06-03T15:18:43.222Z"
      },
      {
        "duration": 36,
        "start_time": "2023-06-03T15:18:50.544Z"
      },
      {
        "duration": 34,
        "start_time": "2023-06-03T15:19:08.674Z"
      },
      {
        "duration": 45,
        "start_time": "2023-06-03T15:19:26.054Z"
      },
      {
        "duration": 26,
        "start_time": "2023-06-03T15:19:53.661Z"
      }
    ],
    "colab": {
      "provenance": []
    },
    "kernelspec": {
      "display_name": "Python 3 (ipykernel)",
      "language": "python",
      "name": "python3"
    },
    "language_info": {
      "codemirror_mode": {
        "name": "ipython",
        "version": 3
      },
      "file_extension": ".py",
      "mimetype": "text/x-python",
      "name": "python",
      "nbconvert_exporter": "python",
      "pygments_lexer": "ipython3",
      "version": "3.9.5"
    },
    "toc": {
      "base_numbering": 1,
      "nav_menu": {},
      "number_sections": true,
      "sideBar": true,
      "skip_h1_title": true,
      "title_cell": "Table of Contents",
      "title_sidebar": "Contents",
      "toc_cell": false,
      "toc_position": {},
      "toc_section_display": true,
      "toc_window_display": false
    }
  },
  "nbformat": 4,
  "nbformat_minor": 0
}