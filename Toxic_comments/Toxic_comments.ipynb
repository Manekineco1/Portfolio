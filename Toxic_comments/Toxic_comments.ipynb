{
  "cells": [
    {
      "cell_type": "markdown",
      "id": "4dc74433",
      "metadata": {
        "id": "4dc74433"
      },
      "source": [
        "# Проект для «Викишоп»"
      ]
    },
    {
      "cell_type": "markdown",
      "id": "2cf1f353",
      "metadata": {
        "id": "2cf1f353"
      },
      "source": [
        "Интернет-магазин «Викишоп» запускает новый сервис. Теперь пользователи могут редактировать и дополнять описания товаров, как в вики-сообществах. То есть клиенты предлагают свои правки и комментируют изменения других. Магазину нужен инструмент, который будет искать токсичные комментарии и отправлять их на модерацию.\n",
        "Обучите модель классифицировать комментарии на позитивные и негативные. В вашем распоряжении набор данных с разметкой о токсичности правок.\n",
        "Постройте модель со значением метрики качества F1 не меньше 0.75."
      ]
    },
    {
      "cell_type": "markdown",
      "id": "7_AEdFt_XOpo",
      "metadata": {
        "id": "7_AEdFt_XOpo"
      },
      "source": [
        "<h1>Содержание<span class=\"tocSkip\"></span></h1>\n",
        "<div class=\"toc\"><ul class=\"toc-item\"><li><span><a href=\"#Подготовка\" data-toc-modified-id=\"Подготовка-1\"><span class=\"toc-item-num\">1&nbsp;&nbsp;</span>Подготовка</a></span></li><li><span><a href=\"#Обучение\" data-toc-modified-id=\"Обучение-2\"><span class=\"toc-item-num\">2&nbsp;&nbsp;</span>Обучение</a></span></li><li><span><a href=\"#Выводы\" data-toc-modified-id=\"Выводы-3\"><span class=\"toc-item-num\">3&nbsp;&nbsp;</span>Выводы</a></span></li><li><span><a href=\"#Чек-лист-проверки\" data-toc-modified-id=\"Чек-лист-проверки-4\"><span class=\"toc-item-num\">4&nbsp;&nbsp;</span>Чек-лист проверки</a></span></li></ul></div>"
      ]
    },
    {
      "cell_type": "markdown",
      "id": "xQ7hNEtkyhby",
      "metadata": {
        "id": "xQ7hNEtkyhby"
      },
      "source": [
        "### Загрузка и подготовка данных"
      ]
    },
    {
      "cell_type": "code",
      "execution_count": null,
      "id": "7eda8695",
      "metadata": {
        "colab": {
          "base_uri": "https://localhost:8080/"
        },
        "id": "7eda8695",
        "outputId": "1c935c57-3775-49eb-b73e-a67e7a7fda8f"
      },
      "outputs": [
        {
          "name": "stderr",
          "output_type": "stream",
          "text": [
            "[nltk_data] Downloading collection 'popular'\n",
            "[nltk_data]    | \n",
            "[nltk_data]    | Downloading package cmudict to /root/nltk_data...\n",
            "[nltk_data]    |   Package cmudict is already up-to-date!\n",
            "[nltk_data]    | Downloading package gazetteers to /root/nltk_data...\n",
            "[nltk_data]    |   Package gazetteers is already up-to-date!\n",
            "[nltk_data]    | Downloading package genesis to /root/nltk_data...\n",
            "[nltk_data]    |   Package genesis is already up-to-date!\n",
            "[nltk_data]    | Downloading package gutenberg to /root/nltk_data...\n",
            "[nltk_data]    |   Package gutenberg is already up-to-date!\n",
            "[nltk_data]    | Downloading package inaugural to /root/nltk_data...\n",
            "[nltk_data]    |   Package inaugural is already up-to-date!\n",
            "[nltk_data]    | Downloading package movie_reviews to\n",
            "[nltk_data]    |     /root/nltk_data...\n",
            "[nltk_data]    |   Package movie_reviews is already up-to-date!\n",
            "[nltk_data]    | Downloading package names to /root/nltk_data...\n",
            "[nltk_data]    |   Package names is already up-to-date!\n",
            "[nltk_data]    | Downloading package shakespeare to /root/nltk_data...\n",
            "[nltk_data]    |   Package shakespeare is already up-to-date!\n",
            "[nltk_data]    | Downloading package stopwords to /root/nltk_data...\n",
            "[nltk_data]    |   Package stopwords is already up-to-date!\n",
            "[nltk_data]    | Downloading package treebank to /root/nltk_data...\n",
            "[nltk_data]    |   Package treebank is already up-to-date!\n",
            "[nltk_data]    | Downloading package twitter_samples to\n",
            "[nltk_data]    |     /root/nltk_data...\n",
            "[nltk_data]    |   Package twitter_samples is already up-to-date!\n",
            "[nltk_data]    | Downloading package omw to /root/nltk_data...\n",
            "[nltk_data]    |   Package omw is already up-to-date!\n",
            "[nltk_data]    | Downloading package omw-1.4 to /root/nltk_data...\n",
            "[nltk_data]    |   Package omw-1.4 is already up-to-date!\n",
            "[nltk_data]    | Downloading package wordnet to /root/nltk_data...\n",
            "[nltk_data]    |   Package wordnet is already up-to-date!\n",
            "[nltk_data]    | Downloading package wordnet2021 to /root/nltk_data...\n",
            "[nltk_data]    |   Package wordnet2021 is already up-to-date!\n",
            "[nltk_data]    | Downloading package wordnet31 to /root/nltk_data...\n",
            "[nltk_data]    |   Package wordnet31 is already up-to-date!\n",
            "[nltk_data]    | Downloading package wordnet_ic to /root/nltk_data...\n",
            "[nltk_data]    |   Package wordnet_ic is already up-to-date!\n",
            "[nltk_data]    | Downloading package words to /root/nltk_data...\n",
            "[nltk_data]    |   Package words is already up-to-date!\n",
            "[nltk_data]    | Downloading package maxent_ne_chunker to\n",
            "[nltk_data]    |     /root/nltk_data...\n",
            "[nltk_data]    |   Package maxent_ne_chunker is already up-to-date!\n",
            "[nltk_data]    | Downloading package punkt to /root/nltk_data...\n",
            "[nltk_data]    |   Package punkt is already up-to-date!\n",
            "[nltk_data]    | Downloading package snowball_data to\n",
            "[nltk_data]    |     /root/nltk_data...\n",
            "[nltk_data]    |   Package snowball_data is already up-to-date!\n",
            "[nltk_data]    | Downloading package averaged_perceptron_tagger to\n",
            "[nltk_data]    |     /root/nltk_data...\n",
            "[nltk_data]    |   Package averaged_perceptron_tagger is already up-\n",
            "[nltk_data]    |       to-date!\n",
            "[nltk_data]    | \n",
            "[nltk_data]  Done downloading collection popular\n",
            "[nltk_data] Downloading package punkt to /root/nltk_data...\n",
            "[nltk_data]   Package punkt is already up-to-date!\n",
            "[nltk_data] Downloading package omw-1.4 to /root/nltk_data...\n",
            "[nltk_data]   Package omw-1.4 is already up-to-date!\n"
          ]
        },
        {
          "name": "stdout",
          "output_type": "stream",
          "text": [
            "Looking in indexes: https://pypi.org/simple, https://us-python.pkg.dev/colab-wheels/public/simple/\n",
            "Requirement already satisfied: catboost in /usr/local/lib/python3.9/dist-packages (1.1.1)\n",
            "Requirement already satisfied: pandas>=0.24.0 in /usr/local/lib/python3.9/dist-packages (from catboost) (1.4.4)\n",
            "Requirement already satisfied: scipy in /usr/local/lib/python3.9/dist-packages (from catboost) (1.10.1)\n",
            "Requirement already satisfied: six in /usr/local/lib/python3.9/dist-packages (from catboost) (1.16.0)\n",
            "Requirement already satisfied: plotly in /usr/local/lib/python3.9/dist-packages (from catboost) (5.13.1)\n",
            "Requirement already satisfied: numpy>=1.16.0 in /usr/local/lib/python3.9/dist-packages (from catboost) (1.22.4)\n",
            "Requirement already satisfied: graphviz in /usr/local/lib/python3.9/dist-packages (from catboost) (0.20.1)\n",
            "Requirement already satisfied: matplotlib in /usr/local/lib/python3.9/dist-packages (from catboost) (3.7.1)\n",
            "Requirement already satisfied: python-dateutil>=2.8.1 in /usr/local/lib/python3.9/dist-packages (from pandas>=0.24.0->catboost) (2.8.2)\n",
            "Requirement already satisfied: pytz>=2020.1 in /usr/local/lib/python3.9/dist-packages (from pandas>=0.24.0->catboost) (2022.7.1)\n",
            "Requirement already satisfied: contourpy>=1.0.1 in /usr/local/lib/python3.9/dist-packages (from matplotlib->catboost) (1.0.7)\n",
            "Requirement already satisfied: kiwisolver>=1.0.1 in /usr/local/lib/python3.9/dist-packages (from matplotlib->catboost) (1.4.4)\n",
            "Requirement already satisfied: cycler>=0.10 in /usr/local/lib/python3.9/dist-packages (from matplotlib->catboost) (0.11.0)\n",
            "Requirement already satisfied: fonttools>=4.22.0 in /usr/local/lib/python3.9/dist-packages (from matplotlib->catboost) (4.39.3)\n",
            "Requirement already satisfied: importlib-resources>=3.2.0 in /usr/local/lib/python3.9/dist-packages (from matplotlib->catboost) (5.12.0)\n",
            "Requirement already satisfied: pillow>=6.2.0 in /usr/local/lib/python3.9/dist-packages (from matplotlib->catboost) (8.4.0)\n",
            "Requirement already satisfied: pyparsing>=2.3.1 in /usr/local/lib/python3.9/dist-packages (from matplotlib->catboost) (3.0.9)\n",
            "Requirement already satisfied: packaging>=20.0 in /usr/local/lib/python3.9/dist-packages (from matplotlib->catboost) (23.0)\n",
            "Requirement already satisfied: tenacity>=6.2.0 in /usr/local/lib/python3.9/dist-packages (from plotly->catboost) (8.2.2)\n",
            "Requirement already satisfied: zipp>=3.1.0 in /usr/local/lib/python3.9/dist-packages (from importlib-resources>=3.2.0->matplotlib->catboost) (3.15.0)\n"
          ]
        },
        {
          "name": "stderr",
          "output_type": "stream",
          "text": [
            "[nltk_data] Downloading package wordnet to /root/nltk_data...\n",
            "[nltk_data]   Package wordnet is already up-to-date!\n"
          ]
        }
      ],
      "source": [
        "import numpy as np\n",
        "import pandas as pd\n",
        "import seaborn as sns\n",
        "import re\n",
        "import nltk\n",
        "nltk.download('popular')\n",
        "nltk.download('punkt')\n",
        "nltk.download('omw-1.4')\n",
        "from nltk.stem import WordNetLemmatizer\n",
        "from tqdm import tqdm\n",
        "from tqdm import notebook\n",
        "from nltk.corpus import stopwords\n",
        "from sklearn.feature_extraction.text import TfidfVectorizer\n",
        "from sklearn.model_selection import train_test_split, cross_val_score, GridSearchCV\n",
        "from sklearn.linear_model import LogisticRegression\n",
        "!pip install catboost\n",
        "from catboost import CatBoostClassifier\n",
        "from sklearn.linear_model import RidgeClassifier\n",
        "from sklearn.metrics import f1_score\n",
        "import matplotlib.pyplot as plt\n",
        "nltk.download('wordnet')\n",
        "import warnings\n",
        "warnings.filterwarnings('ignore')"
      ]
    },
    {
      "cell_type": "markdown",
      "id": "3cf86df0",
      "metadata": {
        "id": "3cf86df0"
      },
      "source": [
        "Откроем датасет и изучим его"
      ]
    },
    {
      "cell_type": "code",
      "execution_count": null,
      "id": "2efe05d5",
      "metadata": {
        "id": "2efe05d5"
      },
      "outputs": [],
      "source": [
        "try:\n",
        "    data = pd.read_csv('/datasets/toxic_comments.csv')\n",
        "except:\n",
        "    data = pd.read_csv('https://code.s3.yandex.net/datasets/toxic_comments.csv')"
      ]
    },
    {
      "cell_type": "code",
      "execution_count": null,
      "id": "3b044a59",
      "metadata": {
        "colab": {
          "base_uri": "https://localhost:8080/"
        },
        "id": "3b044a59",
        "outputId": "7ebd375a-86a3-4792-f997-27853bf49a85"
      },
      "outputs": [
        {
          "name": "stdout",
          "output_type": "stream",
          "text": [
            "<class 'pandas.core.frame.DataFrame'>\n",
            "RangeIndex: 159292 entries, 0 to 159291\n",
            "Data columns (total 3 columns):\n",
            " #   Column      Non-Null Count   Dtype \n",
            "---  ------      --------------   ----- \n",
            " 0   Unnamed: 0  159292 non-null  int64 \n",
            " 1   text        159292 non-null  object\n",
            " 2   toxic       159292 non-null  int64 \n",
            "dtypes: int64(2), object(1)\n",
            "memory usage: 3.6+ MB\n"
          ]
        }
      ],
      "source": [
        "data.info()"
      ]
    },
    {
      "cell_type": "code",
      "execution_count": null,
      "id": "a85d7404",
      "metadata": {
        "colab": {
          "base_uri": "https://localhost:8080/",
          "height": 206
        },
        "id": "a85d7404",
        "outputId": "c5572f75-c78b-4bdb-81c9-6f5e94bbff3b"
      },
      "outputs": [
        {
          "data": {
            "text/html": [
              "\n",
              "  <div id=\"df-50c46a31-f056-4cac-8995-d73f128bc8c6\">\n",
              "    <div class=\"colab-df-container\">\n",
              "      <div>\n",
              "<style scoped>\n",
              "    .dataframe tbody tr th:only-of-type {\n",
              "        vertical-align: middle;\n",
              "    }\n",
              "\n",
              "    .dataframe tbody tr th {\n",
              "        vertical-align: top;\n",
              "    }\n",
              "\n",
              "    .dataframe thead th {\n",
              "        text-align: right;\n",
              "    }\n",
              "</style>\n",
              "<table border=\"1\" class=\"dataframe\">\n",
              "  <thead>\n",
              "    <tr style=\"text-align: right;\">\n",
              "      <th></th>\n",
              "      <th>Unnamed: 0</th>\n",
              "      <th>text</th>\n",
              "      <th>toxic</th>\n",
              "    </tr>\n",
              "  </thead>\n",
              "  <tbody>\n",
              "    <tr>\n",
              "      <th>0</th>\n",
              "      <td>0</td>\n",
              "      <td>Explanation\\nWhy the edits made under my usern...</td>\n",
              "      <td>0</td>\n",
              "    </tr>\n",
              "    <tr>\n",
              "      <th>1</th>\n",
              "      <td>1</td>\n",
              "      <td>D'aww! He matches this background colour I'm s...</td>\n",
              "      <td>0</td>\n",
              "    </tr>\n",
              "    <tr>\n",
              "      <th>2</th>\n",
              "      <td>2</td>\n",
              "      <td>Hey man, I'm really not trying to edit war. It...</td>\n",
              "      <td>0</td>\n",
              "    </tr>\n",
              "    <tr>\n",
              "      <th>3</th>\n",
              "      <td>3</td>\n",
              "      <td>\"\\nMore\\nI can't make any real suggestions on ...</td>\n",
              "      <td>0</td>\n",
              "    </tr>\n",
              "    <tr>\n",
              "      <th>4</th>\n",
              "      <td>4</td>\n",
              "      <td>You, sir, are my hero. Any chance you remember...</td>\n",
              "      <td>0</td>\n",
              "    </tr>\n",
              "  </tbody>\n",
              "</table>\n",
              "</div>\n",
              "      <button class=\"colab-df-convert\" onclick=\"convertToInteractive('df-50c46a31-f056-4cac-8995-d73f128bc8c6')\"\n",
              "              title=\"Convert this dataframe to an interactive table.\"\n",
              "              style=\"display:none;\">\n",
              "        \n",
              "  <svg xmlns=\"http://www.w3.org/2000/svg\" height=\"24px\"viewBox=\"0 0 24 24\"\n",
              "       width=\"24px\">\n",
              "    <path d=\"M0 0h24v24H0V0z\" fill=\"none\"/>\n",
              "    <path d=\"M18.56 5.44l.94 2.06.94-2.06 2.06-.94-2.06-.94-.94-2.06-.94 2.06-2.06.94zm-11 1L8.5 8.5l.94-2.06 2.06-.94-2.06-.94L8.5 2.5l-.94 2.06-2.06.94zm10 10l.94 2.06.94-2.06 2.06-.94-2.06-.94-.94-2.06-.94 2.06-2.06.94z\"/><path d=\"M17.41 7.96l-1.37-1.37c-.4-.4-.92-.59-1.43-.59-.52 0-1.04.2-1.43.59L10.3 9.45l-7.72 7.72c-.78.78-.78 2.05 0 2.83L4 21.41c.39.39.9.59 1.41.59.51 0 1.02-.2 1.41-.59l7.78-7.78 2.81-2.81c.8-.78.8-2.07 0-2.86zM5.41 20L4 18.59l7.72-7.72 1.47 1.35L5.41 20z\"/>\n",
              "  </svg>\n",
              "      </button>\n",
              "      \n",
              "  <style>\n",
              "    .colab-df-container {\n",
              "      display:flex;\n",
              "      flex-wrap:wrap;\n",
              "      gap: 12px;\n",
              "    }\n",
              "\n",
              "    .colab-df-convert {\n",
              "      background-color: #E8F0FE;\n",
              "      border: none;\n",
              "      border-radius: 50%;\n",
              "      cursor: pointer;\n",
              "      display: none;\n",
              "      fill: #1967D2;\n",
              "      height: 32px;\n",
              "      padding: 0 0 0 0;\n",
              "      width: 32px;\n",
              "    }\n",
              "\n",
              "    .colab-df-convert:hover {\n",
              "      background-color: #E2EBFA;\n",
              "      box-shadow: 0px 1px 2px rgba(60, 64, 67, 0.3), 0px 1px 3px 1px rgba(60, 64, 67, 0.15);\n",
              "      fill: #174EA6;\n",
              "    }\n",
              "\n",
              "    [theme=dark] .colab-df-convert {\n",
              "      background-color: #3B4455;\n",
              "      fill: #D2E3FC;\n",
              "    }\n",
              "\n",
              "    [theme=dark] .colab-df-convert:hover {\n",
              "      background-color: #434B5C;\n",
              "      box-shadow: 0px 1px 3px 1px rgba(0, 0, 0, 0.15);\n",
              "      filter: drop-shadow(0px 1px 2px rgba(0, 0, 0, 0.3));\n",
              "      fill: #FFFFFF;\n",
              "    }\n",
              "  </style>\n",
              "\n",
              "      <script>\n",
              "        const buttonEl =\n",
              "          document.querySelector('#df-50c46a31-f056-4cac-8995-d73f128bc8c6 button.colab-df-convert');\n",
              "        buttonEl.style.display =\n",
              "          google.colab.kernel.accessAllowed ? 'block' : 'none';\n",
              "\n",
              "        async function convertToInteractive(key) {\n",
              "          const element = document.querySelector('#df-50c46a31-f056-4cac-8995-d73f128bc8c6');\n",
              "          const dataTable =\n",
              "            await google.colab.kernel.invokeFunction('convertToInteractive',\n",
              "                                                     [key], {});\n",
              "          if (!dataTable) return;\n",
              "\n",
              "          const docLinkHtml = 'Like what you see? Visit the ' +\n",
              "            '<a target=\"_blank\" href=https://colab.research.google.com/notebooks/data_table.ipynb>data table notebook</a>'\n",
              "            + ' to learn more about interactive tables.';\n",
              "          element.innerHTML = '';\n",
              "          dataTable['output_type'] = 'display_data';\n",
              "          await google.colab.output.renderOutput(dataTable, element);\n",
              "          const docLink = document.createElement('div');\n",
              "          docLink.innerHTML = docLinkHtml;\n",
              "          element.appendChild(docLink);\n",
              "        }\n",
              "      </script>\n",
              "    </div>\n",
              "  </div>\n",
              "  "
            ],
            "text/plain": [
              "   Unnamed: 0                                               text  toxic\n",
              "0           0  Explanation\\nWhy the edits made under my usern...      0\n",
              "1           1  D'aww! He matches this background colour I'm s...      0\n",
              "2           2  Hey man, I'm really not trying to edit war. It...      0\n",
              "3           3  \"\\nMore\\nI can't make any real suggestions on ...      0\n",
              "4           4  You, sir, are my hero. Any chance you remember...      0"
            ]
          },
          "execution_count": 56,
          "metadata": {},
          "output_type": "execute_result"
        }
      ],
      "source": [
        "data.head()"
      ]
    },
    {
      "cell_type": "markdown",
      "id": "1b9d15ed",
      "metadata": {
        "id": "1b9d15ed"
      },
      "source": [
        "Изучим количество токсичных и не токсичных комментариев"
      ]
    },
    {
      "cell_type": "code",
      "execution_count": null,
      "id": "ndUaawbnGBGf",
      "metadata": {
        "colab": {
          "base_uri": "https://localhost:8080/",
          "height": 608
        },
        "id": "ndUaawbnGBGf",
        "outputId": "17117933-a617-40df-d4f6-9cfbc63b723a"
      },
      "outputs": [
        {
          "name": "stdout",
          "output_type": "stream",
          "text": [
            "0    143106\n",
            "1     16186\n",
            "Name: toxic, dtype: int64\n"
          ]
        },
        {
          "data": {
            "text/plain": [
              "<Axes: xlabel='toxic', ylabel='count'>"
            ]
          },
          "execution_count": 57,
          "metadata": {},
          "output_type": "execute_result"
        },
        {
          "data": {
            "image/png": "[encoded data removed]",
            "text/plain": [
              "<Figure size 1500x600 with 1 Axes>"
            ]
          },
          "metadata": {},
          "output_type": "display_data"
        }
      ],
      "source": [
        "print(data['toxic'].value_counts())\n",
        "zeroes = data['toxic'].value_counts()[0]\n",
        "ones = data['toxic'].value_counts()[1]\n",
        "\n",
        "plt.figure(figsize=(15, 6))\n",
        "sns.countplot(x='toxic', data=data)"
      ]
    },
    {
      "cell_type": "markdown",
      "id": "2c5c8bba",
      "metadata": {
        "id": "2c5c8bba"
      },
      "source": [
        "Классы не сбалансированы."
      ]
    },
    {
      "cell_type": "markdown",
      "id": "7HQZ_i4FPKEu",
      "metadata": {
        "id": "7HQZ_i4FPKEu"
      },
      "source": [
        "\n",
        "<div class=\"alert alert-block alert-success\">\n",
        "<b>Успех:</b> Разбиение было сделано верно. Отлично, что векторизатор был обучен только на тренировочной части данных.\n",
        "</div>"
      ]
    },
    {
      "cell_type": "code",
      "execution_count": null,
      "id": "X6EAYQ-_rb4i",
      "metadata": {
        "id": "X6EAYQ-_rb4i"
      },
      "outputs": [],
      "source": [
        "RANDOM_STATE = 12345"
      ]
    },
    {
      "cell_type": "markdown",
      "id": "k6h6M3lyr0Z7",
      "metadata": {
        "id": "k6h6M3lyr0Z7"
      },
      "source": [
        "Создадим уменьшенный датасет для того, что бы при обучении модели не тормозили"
      ]
    },
    {
      "cell_type": "code",
      "execution_count": null,
      "id": "lHp_rxDjPDcn",
      "metadata": {
        "id": "lHp_rxDjPDcn"
      },
      "outputs": [],
      "source": [
        "data_cut = data.sample(len(data)//3, random_state=RANDOM_STATE).reset_index()"
      ]
    },
    {
      "cell_type": "markdown",
      "id": "r0ldiWXpsyPO",
      "metadata": {
        "id": "r0ldiWXpsyPO"
      },
      "source": [
        "Еще раз проверим баланс классов"
      ]
    },
    {
      "cell_type": "code",
      "execution_count": null,
      "id": "T9MVWmTlq2cC",
      "metadata": {
        "colab": {
          "base_uri": "https://localhost:8080/",
          "height": 616
        },
        "id": "T9MVWmTlq2cC",
        "outputId": "8f9abd48-0437-4cd7-f72d-7c34cfa3431c"
      },
      "outputs": [
        {
          "name": "stdout",
          "output_type": "stream",
          "text": [
            "0    47673\n",
            "1     5424\n",
            "Name: toxic, dtype: int64\n"
          ]
        },
        {
          "data": {
            "text/plain": [
              "<Axes: xlabel='toxic', ylabel='count'>"
            ]
          },
          "execution_count": 60,
          "metadata": {},
          "output_type": "execute_result"
        },
        {
          "data": {
            "image/png": "[encoded data removed]",
            "text/plain": [
              "<Figure size 1500x600 with 1 Axes>"
            ]
          },
          "metadata": {},
          "output_type": "display_data"
        }
      ],
      "source": [
        "print(data_cut['toxic'].value_counts())\n",
        "zeroes = data_cut['toxic'].value_counts()[0]\n",
        "ones = data_cut['toxic'].value_counts()[1]\n",
        "\n",
        "plt.figure(figsize=(15, 6))\n",
        "sns.countplot(x='toxic', data=data_cut)"
      ]
    },
    {
      "cell_type": "markdown",
      "id": "b55d4926",
      "metadata": {
        "id": "b55d4926"
      },
      "source": [
        "Объявим корпус текстов:"
      ]
    },
    {
      "cell_type": "code",
      "execution_count": null,
      "id": "ceed0ba2",
      "metadata": {
        "colab": {
          "base_uri": "https://localhost:8080/"
        },
        "id": "ceed0ba2",
        "outputId": "ada23626-4a86-4439-a0d1-78517418c87a"
      },
      "outputs": [
        {
          "name": "stdout",
          "output_type": "stream",
          "text": [
            "Expert Categorizers  \n",
            "\n",
            "Why is there no mention of the fact that Nazis were particularly great categorizers? They excelled in identifying various things and writing about them and putting them in their proper places.\n"
          ]
        }
      ],
      "source": [
        "corpus = data_cut['text']\n",
        "print(corpus[0])"
      ]
    },
    {
      "cell_type": "markdown",
      "id": "df870566",
      "metadata": {
        "id": "df870566"
      },
      "source": [
        "<div class=\"alert alert-block alert-danger\">\n",
        "<b>Ошибка:</b> Приводить тексты к юникоду не имеет смысла, так как они все на английском. Это может привести к падению ядра из-за увеличения объема занимаемой памяти.\n",
        "</div>"
      ]
    },
    {
      "cell_type": "markdown",
      "id": "18707869",
      "metadata": {
        "id": "18707869"
      },
      "source": [
        "<div class=\"alert alert-block alert-warning\">\n",
        "<b>Изменения:</b> Привет! Спасибо за ревью! Сейчас успеваю отработать только \"красные\" замечания, т.к. завтра дедлайн. Все остальное обязательно изучу позже.\n",
        "    Были внесены следующие изменения - удалила часть кода: .values.astype('U')\n",
        "</div>"
      ]
    },
    {
      "cell_type": "markdown",
      "id": "07712e7a",
      "metadata": {
        "id": "07712e7a"
      },
      "source": [
        "<div class=\"alert alert-block alert-success\">\n",
        "<b>Успех (ревью 2):</b> ОК.\n",
        "</div>"
      ]
    },
    {
      "cell_type": "markdown",
      "id": "0tIfMtlwLNfh",
      "metadata": {
        "id": "0tIfMtlwLNfh"
      },
      "source": [
        "ввожу функцию очищения текстов постов:"
      ]
    },
    {
      "cell_type": "code",
      "execution_count": null,
      "id": "vnngsvoAgEvT",
      "metadata": {
        "id": "vnngsvoAgEvT"
      },
      "outputs": [],
      "source": [
        "# функция лемматизации и токенизации\n",
        "def get_lemma(text):\n",
        "    # импорты для pandarallel\n",
        "    import nltk\n",
        "    from nltk.corpus import wordnet\n",
        "\n",
        "    # оставляем только латинские символы и апостроф, использующийся в английских словах\n",
        "    ret = nltk.tokenize.RegexpTokenizer(r'[a-zA-Z\\']+')\n",
        "    tokens = ret.tokenize(text)\n",
        "    lemma = []\n",
        "    wnl = nltk.stem.WordNetLemmatizer()\n",
        "    # лемматизация с использованим частей речи\n",
        "    for token in tokens:\n",
        "         # раскрытие списка результатов после POS-теггинга, взятие POS, взятие начальной буквы из POS\n",
        "        tag = nltk.pos_tag([token])[0][1][0].upper()\n",
        "        # пользовательский словарь тегов POS\n",
        "        tag_dict = {\"J\": wordnet.ADJ,\n",
        "                    \"N\": wordnet.NOUN,\n",
        "                    \"V\": wordnet.VERB,\n",
        "                    \"R\": wordnet.ADV}\n",
        "        # получение нужного POS-тега или тега сущиствительного по умолчанию\n",
        "        wordnet_pos = tag_dict.get(tag, wordnet.NOUN)\n",
        "        lemma.append(wnl.lemmatize(token, wordnet_pos))\n",
        "    # воссоздание текста из списка лемм\n",
        "    return str.lower(' '.join(map(str, lemma)))"
      ]
    },
    {
      "cell_type": "markdown",
      "source": [
        "Проверка функции лемматизации"
      ],
      "metadata": {
        "id": "j5C_SdZTpc-J"
      },
      "id": "j5C_SdZTpc-J"
    },
    {
      "cell_type": "code",
      "execution_count": null,
      "id": "IYQkJ9Koh_X_",
      "metadata": {
        "colab": {
          "base_uri": "https://localhost:8080/"
        },
        "id": "IYQkJ9Koh_X_",
        "outputId": "9ca7e90a-3eaf-45d6-ac4d-549c2a8fe79b"
      },
      "outputs": [
        {
          "data": {
            "text/plain": [
              "0    the strip bat be hang on their foot for best\n",
              "1       you should be ashamed of yourself go work\n",
              "Name: text, dtype: object"
            ]
          },
          "execution_count": 63,
          "metadata": {},
          "output_type": "execute_result"
        }
      ],
      "source": [
        "sentence1 = \"The striped bats are hanging on their feet for best\"\n",
        "sentence2 = \"you should be ashamed of yourself went worked\"\n",
        "test_df = pd.DataFrame([sentence1, sentence2], columns=['text'])\n",
        "\n",
        "test_df['text'].apply(get_lemma)"
      ]
    },
    {
      "cell_type": "code",
      "execution_count": null,
      "id": "0c1db585",
      "metadata": {
        "id": "0c1db585"
      },
      "outputs": [],
      "source": [
        "def clear_text(text):\n",
        "    text = text.lower()\n",
        "    text = re.sub(r'[^a-zA-Z]', ' ', text)\n",
        "    text = ' '.join(text.split())\n",
        "    return text"
      ]
    },
    {
      "cell_type": "markdown",
      "id": "0txGIjA1K1Gi",
      "metadata": {
        "id": "0txGIjA1K1Gi"
      },
      "source": [
        "Очищаю тексты постов"
      ]
    },
    {
      "cell_type": "code",
      "execution_count": null,
      "id": "10425f2c",
      "metadata": {
        "id": "10425f2c"
      },
      "outputs": [],
      "source": [
        "data_cut['text'] = data_cut['text'].apply(clear_text)"
      ]
    },
    {
      "cell_type": "markdown",
      "id": "Mfyrud3VLrEY",
      "metadata": {
        "id": "Mfyrud3VLrEY"
      },
      "source": [
        "Леммализирую тексты постов"
      ]
    },
    {
      "cell_type": "code",
      "execution_count": null,
      "id": "0b86e2ab",
      "metadata": {
        "id": "0b86e2ab"
      },
      "outputs": [],
      "source": [
        "data_cut['text'] = data_cut['text'].apply(get_lemma)"
      ]
    },
    {
      "cell_type": "markdown",
      "id": "ab8673f8",
      "metadata": {
        "id": "ab8673f8"
      },
      "source": [
        "В цикле применим функцию для очистки и лемматизации текстов \"clear_text\":"
      ]
    },
    {
      "cell_type": "code",
      "execution_count": null,
      "id": "4f6512c8",
      "metadata": {
        "colab": {
          "base_uri": "https://localhost:8080/"
        },
        "id": "4f6512c8",
        "outputId": "014e79bb-6995-4d3d-aa09-cca703dce485"
      },
      "outputs": [
        {
          "name": "stderr",
          "output_type": "stream",
          "text": [
            "100%|██████████| 53097/53097 [01:22<00:00, 647.37it/s] \n"
          ]
        }
      ],
      "source": [
        "for i in tqdm(range(len(corpus))):\n",
        "    corpus[i] = clear_text(corpus[i])"
      ]
    },
    {
      "cell_type": "markdown",
      "id": "GWWM_PrvpaQF",
      "metadata": {
        "id": "GWWM_PrvpaQF"
      },
      "source": [
        "Добавим корпус к датасету"
      ]
    },
    {
      "cell_type": "code",
      "execution_count": null,
      "id": "0c109211",
      "metadata": {
        "id": "0c109211"
      },
      "outputs": [],
      "source": [
        "data_corpus = pd.DataFrame(corpus)"
      ]
    },
    {
      "cell_type": "code",
      "execution_count": null,
      "id": "d30bcf30",
      "metadata": {
        "id": "d30bcf30"
      },
      "outputs": [],
      "source": [
        "data_corpus['text'] = data_corpus['text'].apply(get_lemma)\n"
      ]
    },
    {
      "cell_type": "code",
      "execution_count": null,
      "id": "DgY1uOIU2ESB",
      "metadata": {
        "colab": {
          "base_uri": "https://localhost:8080/",
          "height": 423
        },
        "id": "DgY1uOIU2ESB",
        "outputId": "be1e326e-7c29-4270-d305-7f9750f10e80"
      },
      "outputs": [
        {
          "data": {
            "text/html": [
              "\n",
              "  <div id=\"df-39a9515d-1e83-4d46-bafb-72f56e60bcb5\">\n",
              "    <div class=\"colab-df-container\">\n",
              "      <div>\n",
              "<style scoped>\n",
              "    .dataframe tbody tr th:only-of-type {\n",
              "        vertical-align: middle;\n",
              "    }\n",
              "\n",
              "    .dataframe tbody tr th {\n",
              "        vertical-align: top;\n",
              "    }\n",
              "\n",
              "    .dataframe thead th {\n",
              "        text-align: right;\n",
              "    }\n",
              "</style>\n",
              "<table border=\"1\" class=\"dataframe\">\n",
              "  <thead>\n",
              "    <tr style=\"text-align: right;\">\n",
              "      <th></th>\n",
              "      <th>text</th>\n",
              "    </tr>\n",
              "  </thead>\n",
              "  <tbody>\n",
              "    <tr>\n",
              "      <th>0</th>\n",
              "      <td>expert categorizers why be there no mention of...</td>\n",
              "    </tr>\n",
              "    <tr>\n",
              "      <th>1</th>\n",
              "      <td>noise fart talk</td>\n",
              "    </tr>\n",
              "    <tr>\n",
              "      <th>2</th>\n",
              "      <td>an indefinite block be appropriate even for a ...</td>\n",
              "    </tr>\n",
              "    <tr>\n",
              "      <th>3</th>\n",
              "      <td>i don t understand why we have a screenshot of...</td>\n",
              "    </tr>\n",
              "    <tr>\n",
              "      <th>4</th>\n",
              "      <td>hello some of the people place or thing you ha...</td>\n",
              "    </tr>\n",
              "    <tr>\n",
              "      <th>...</th>\n",
              "      <td>...</td>\n",
              "    </tr>\n",
              "    <tr>\n",
              "      <th>53092</th>\n",
              "      <td>january utc centrifugal force citation</td>\n",
              "    </tr>\n",
              "    <tr>\n",
              "      <th>53093</th>\n",
              "      <td>i remove the prod because although a translati...</td>\n",
              "    </tr>\n",
              "    <tr>\n",
              "      <th>53094</th>\n",
              "      <td>the link about bunjevs above explains the whol...</td>\n",
              "    </tr>\n",
              "    <tr>\n",
              "      <th>53095</th>\n",
              "      <td>but you don t live here so how can you know lo...</td>\n",
              "    </tr>\n",
              "    <tr>\n",
              "      <th>53096</th>\n",
              "      <td>lit well in that case we have a problem whatev...</td>\n",
              "    </tr>\n",
              "  </tbody>\n",
              "</table>\n",
              "<p>53097 rows × 1 columns</p>\n",
              "</div>\n",
              "      <button class=\"colab-df-convert\" onclick=\"convertToInteractive('df-39a9515d-1e83-4d46-bafb-72f56e60bcb5')\"\n",
              "              title=\"Convert this dataframe to an interactive table.\"\n",
              "              style=\"display:none;\">\n",
              "        \n",
              "  <svg xmlns=\"http://www.w3.org/2000/svg\" height=\"24px\"viewBox=\"0 0 24 24\"\n",
              "       width=\"24px\">\n",
              "    <path d=\"M0 0h24v24H0V0z\" fill=\"none\"/>\n",
              "    <path d=\"M18.56 5.44l.94 2.06.94-2.06 2.06-.94-2.06-.94-.94-2.06-.94 2.06-2.06.94zm-11 1L8.5 8.5l.94-2.06 2.06-.94-2.06-.94L8.5 2.5l-.94 2.06-2.06.94zm10 10l.94 2.06.94-2.06 2.06-.94-2.06-.94-.94-2.06-.94 2.06-2.06.94z\"/><path d=\"M17.41 7.96l-1.37-1.37c-.4-.4-.92-.59-1.43-.59-.52 0-1.04.2-1.43.59L10.3 9.45l-7.72 7.72c-.78.78-.78 2.05 0 2.83L4 21.41c.39.39.9.59 1.41.59.51 0 1.02-.2 1.41-.59l7.78-7.78 2.81-2.81c.8-.78.8-2.07 0-2.86zM5.41 20L4 18.59l7.72-7.72 1.47 1.35L5.41 20z\"/>\n",
              "  </svg>\n",
              "      </button>\n",
              "      \n",
              "  <style>\n",
              "    .colab-df-container {\n",
              "      display:flex;\n",
              "      flex-wrap:wrap;\n",
              "      gap: 12px;\n",
              "    }\n",
              "\n",
              "    .colab-df-convert {\n",
              "      background-color: #E8F0FE;\n",
              "      border: none;\n",
              "      border-radius: 50%;\n",
              "      cursor: pointer;\n",
              "      display: none;\n",
              "      fill: #1967D2;\n",
              "      height: 32px;\n",
              "      padding: 0 0 0 0;\n",
              "      width: 32px;\n",
              "    }\n",
              "\n",
              "    .colab-df-convert:hover {\n",
              "      background-color: #E2EBFA;\n",
              "      box-shadow: 0px 1px 2px rgba(60, 64, 67, 0.3), 0px 1px 3px 1px rgba(60, 64, 67, 0.15);\n",
              "      fill: #174EA6;\n",
              "    }\n",
              "\n",
              "    [theme=dark] .colab-df-convert {\n",
              "      background-color: #3B4455;\n",
              "      fill: #D2E3FC;\n",
              "    }\n",
              "\n",
              "    [theme=dark] .colab-df-convert:hover {\n",
              "      background-color: #434B5C;\n",
              "      box-shadow: 0px 1px 3px 1px rgba(0, 0, 0, 0.15);\n",
              "      filter: drop-shadow(0px 1px 2px rgba(0, 0, 0, 0.3));\n",
              "      fill: #FFFFFF;\n",
              "    }\n",
              "  </style>\n",
              "\n",
              "      <script>\n",
              "        const buttonEl =\n",
              "          document.querySelector('#df-39a9515d-1e83-4d46-bafb-72f56e60bcb5 button.colab-df-convert');\n",
              "        buttonEl.style.display =\n",
              "          google.colab.kernel.accessAllowed ? 'block' : 'none';\n",
              "\n",
              "        async function convertToInteractive(key) {\n",
              "          const element = document.querySelector('#df-39a9515d-1e83-4d46-bafb-72f56e60bcb5');\n",
              "          const dataTable =\n",
              "            await google.colab.kernel.invokeFunction('convertToInteractive',\n",
              "                                                     [key], {});\n",
              "          if (!dataTable) return;\n",
              "\n",
              "          const docLinkHtml = 'Like what you see? Visit the ' +\n",
              "            '<a target=\"_blank\" href=https://colab.research.google.com/notebooks/data_table.ipynb>data table notebook</a>'\n",
              "            + ' to learn more about interactive tables.';\n",
              "          element.innerHTML = '';\n",
              "          dataTable['output_type'] = 'display_data';\n",
              "          await google.colab.output.renderOutput(dataTable, element);\n",
              "          const docLink = document.createElement('div');\n",
              "          docLink.innerHTML = docLinkHtml;\n",
              "          element.appendChild(docLink);\n",
              "        }\n",
              "      </script>\n",
              "    </div>\n",
              "  </div>\n",
              "  "
            ],
            "text/plain": [
              "                                                    text\n",
              "0      expert categorizers why be there no mention of...\n",
              "1                                        noise fart talk\n",
              "2      an indefinite block be appropriate even for a ...\n",
              "3      i don t understand why we have a screenshot of...\n",
              "4      hello some of the people place or thing you ha...\n",
              "...                                                  ...\n",
              "53092             january utc centrifugal force citation\n",
              "53093  i remove the prod because although a translati...\n",
              "53094  the link about bunjevs above explains the whol...\n",
              "53095  but you don t live here so how can you know lo...\n",
              "53096  lit well in that case we have a problem whatev...\n",
              "\n",
              "[53097 rows x 1 columns]"
            ]
          },
          "execution_count": 86,
          "metadata": {},
          "output_type": "execute_result"
        }
      ],
      "source": [
        "data_corpus"
      ]
    },
    {
      "cell_type": "code",
      "execution_count": null,
      "id": "2e0450b2",
      "metadata": {
        "id": "2e0450b2"
      },
      "outputs": [],
      "source": [
        "data_cut['lemm_text'] = data_corpus"
      ]
    },
    {
      "cell_type": "code",
      "execution_count": null,
      "id": "yTDVP_rbk336",
      "metadata": {
        "colab": {
          "base_uri": "https://localhost:8080/",
          "height": 580
        },
        "id": "yTDVP_rbk336",
        "outputId": "8f731df5-ede7-477f-9499-e07f984068c0"
      },
      "outputs": [
        {
          "data": {
            "text/html": [
              "\n",
              "  <div id=\"df-6d9b2a78-dad9-4723-b591-227b552353ce\">\n",
              "    <div class=\"colab-df-container\">\n",
              "      <div>\n",
              "<style scoped>\n",
              "    .dataframe tbody tr th:only-of-type {\n",
              "        vertical-align: middle;\n",
              "    }\n",
              "\n",
              "    .dataframe tbody tr th {\n",
              "        vertical-align: top;\n",
              "    }\n",
              "\n",
              "    .dataframe thead th {\n",
              "        text-align: right;\n",
              "    }\n",
              "</style>\n",
              "<table border=\"1\" class=\"dataframe\">\n",
              "  <thead>\n",
              "    <tr style=\"text-align: right;\">\n",
              "      <th></th>\n",
              "      <th>index</th>\n",
              "      <th>Unnamed: 0</th>\n",
              "      <th>text</th>\n",
              "      <th>toxic</th>\n",
              "      <th>lemm_text</th>\n",
              "    </tr>\n",
              "  </thead>\n",
              "  <tbody>\n",
              "    <tr>\n",
              "      <th>0</th>\n",
              "      <td>109486</td>\n",
              "      <td>109583</td>\n",
              "      <td>expert categorizers why is there no mention of...</td>\n",
              "      <td>0</td>\n",
              "      <td>expert categorizers why be there no mention of...</td>\n",
              "    </tr>\n",
              "    <tr>\n",
              "      <th>1</th>\n",
              "      <td>104980</td>\n",
              "      <td>105077</td>\n",
              "      <td>noise fart talk</td>\n",
              "      <td>1</td>\n",
              "      <td>noise fart talk</td>\n",
              "    </tr>\n",
              "    <tr>\n",
              "      <th>2</th>\n",
              "      <td>82166</td>\n",
              "      <td>82244</td>\n",
              "      <td>an indefinite block is appropriate even for a ...</td>\n",
              "      <td>0</td>\n",
              "      <td>an indefinite block be appropriate even for a ...</td>\n",
              "    </tr>\n",
              "    <tr>\n",
              "      <th>3</th>\n",
              "      <td>18721</td>\n",
              "      <td>18740</td>\n",
              "      <td>i don t understand why we have a screenshot of...</td>\n",
              "      <td>0</td>\n",
              "      <td>i don t understand why we have a screenshot of...</td>\n",
              "    </tr>\n",
              "    <tr>\n",
              "      <th>4</th>\n",
              "      <td>128178</td>\n",
              "      <td>128310</td>\n",
              "      <td>hello some of the people places or things you ...</td>\n",
              "      <td>0</td>\n",
              "      <td>hello some of the people place or thing you ha...</td>\n",
              "    </tr>\n",
              "    <tr>\n",
              "      <th>5</th>\n",
              "      <td>108309</td>\n",
              "      <td>108406</td>\n",
              "      <td>if you read carefully my comment was overall a...</td>\n",
              "      <td>1</td>\n",
              "      <td>if you read carefully my comment be overall a ...</td>\n",
              "    </tr>\n",
              "    <tr>\n",
              "      <th>6</th>\n",
              "      <td>25259</td>\n",
              "      <td>25283</td>\n",
              "      <td>did you make it at wp ae ofshalott</td>\n",
              "      <td>0</td>\n",
              "      <td>do you make it at wp ae ofshalott</td>\n",
              "    </tr>\n",
              "    <tr>\n",
              "      <th>7</th>\n",
              "      <td>32655</td>\n",
              "      <td>32695</td>\n",
              "      <td>know as much as he thinks</td>\n",
              "      <td>0</td>\n",
              "      <td>know a much a he think</td>\n",
              "    </tr>\n",
              "    <tr>\n",
              "      <th>8</th>\n",
              "      <td>31896</td>\n",
              "      <td>31936</td>\n",
              "      <td>thank you for your comment and willingness to ...</td>\n",
              "      <td>0</td>\n",
              "      <td>thank you for your comment and willingness to ...</td>\n",
              "    </tr>\n",
              "    <tr>\n",
              "      <th>9</th>\n",
              "      <td>20224</td>\n",
              "      <td>20244</td>\n",
              "      <td>update hey yall im going to be gone a week so ...</td>\n",
              "      <td>0</td>\n",
              "      <td>update hey yall im go to be go a week so dont ...</td>\n",
              "    </tr>\n",
              "  </tbody>\n",
              "</table>\n",
              "</div>\n",
              "      <button class=\"colab-df-convert\" onclick=\"convertToInteractive('df-6d9b2a78-dad9-4723-b591-227b552353ce')\"\n",
              "              title=\"Convert this dataframe to an interactive table.\"\n",
              "              style=\"display:none;\">\n",
              "        \n",
              "  <svg xmlns=\"http://www.w3.org/2000/svg\" height=\"24px\"viewBox=\"0 0 24 24\"\n",
              "       width=\"24px\">\n",
              "    <path d=\"M0 0h24v24H0V0z\" fill=\"none\"/>\n",
              "    <path d=\"M18.56 5.44l.94 2.06.94-2.06 2.06-.94-2.06-.94-.94-2.06-.94 2.06-2.06.94zm-11 1L8.5 8.5l.94-2.06 2.06-.94-2.06-.94L8.5 2.5l-.94 2.06-2.06.94zm10 10l.94 2.06.94-2.06 2.06-.94-2.06-.94-.94-2.06-.94 2.06-2.06.94z\"/><path d=\"M17.41 7.96l-1.37-1.37c-.4-.4-.92-.59-1.43-.59-.52 0-1.04.2-1.43.59L10.3 9.45l-7.72 7.72c-.78.78-.78 2.05 0 2.83L4 21.41c.39.39.9.59 1.41.59.51 0 1.02-.2 1.41-.59l7.78-7.78 2.81-2.81c.8-.78.8-2.07 0-2.86zM5.41 20L4 18.59l7.72-7.72 1.47 1.35L5.41 20z\"/>\n",
              "  </svg>\n",
              "      </button>\n",
              "      \n",
              "  <style>\n",
              "    .colab-df-container {\n",
              "      display:flex;\n",
              "      flex-wrap:wrap;\n",
              "      gap: 12px;\n",
              "    }\n",
              "\n",
              "    .colab-df-convert {\n",
              "      background-color: #E8F0FE;\n",
              "      border: none;\n",
              "      border-radius: 50%;\n",
              "      cursor: pointer;\n",
              "      display: none;\n",
              "      fill: #1967D2;\n",
              "      height: 32px;\n",
              "      padding: 0 0 0 0;\n",
              "      width: 32px;\n",
              "    }\n",
              "\n",
              "    .colab-df-convert:hover {\n",
              "      background-color: #E2EBFA;\n",
              "      box-shadow: 0px 1px 2px rgba(60, 64, 67, 0.3), 0px 1px 3px 1px rgba(60, 64, 67, 0.15);\n",
              "      fill: #174EA6;\n",
              "    }\n",
              "\n",
              "    [theme=dark] .colab-df-convert {\n",
              "      background-color: #3B4455;\n",
              "      fill: #D2E3FC;\n",
              "    }\n",
              "\n",
              "    [theme=dark] .colab-df-convert:hover {\n",
              "      background-color: #434B5C;\n",
              "      box-shadow: 0px 1px 3px 1px rgba(0, 0, 0, 0.15);\n",
              "      filter: drop-shadow(0px 1px 2px rgba(0, 0, 0, 0.3));\n",
              "      fill: #FFFFFF;\n",
              "    }\n",
              "  </style>\n",
              "\n",
              "      <script>\n",
              "        const buttonEl =\n",
              "          document.querySelector('#df-6d9b2a78-dad9-4723-b591-227b552353ce button.colab-df-convert');\n",
              "        buttonEl.style.display =\n",
              "          google.colab.kernel.accessAllowed ? 'block' : 'none';\n",
              "\n",
              "        async function convertToInteractive(key) {\n",
              "          const element = document.querySelector('#df-6d9b2a78-dad9-4723-b591-227b552353ce');\n",
              "          const dataTable =\n",
              "            await google.colab.kernel.invokeFunction('convertToInteractive',\n",
              "                                                     [key], {});\n",
              "          if (!dataTable) return;\n",
              "\n",
              "          const docLinkHtml = 'Like what you see? Visit the ' +\n",
              "            '<a target=\"_blank\" href=https://colab.research.google.com/notebooks/data_table.ipynb>data table notebook</a>'\n",
              "            + ' to learn more about interactive tables.';\n",
              "          element.innerHTML = '';\n",
              "          dataTable['output_type'] = 'display_data';\n",
              "          await google.colab.output.renderOutput(dataTable, element);\n",
              "          const docLink = document.createElement('div');\n",
              "          docLink.innerHTML = docLinkHtml;\n",
              "          element.appendChild(docLink);\n",
              "        }\n",
              "      </script>\n",
              "    </div>\n",
              "  </div>\n",
              "  "
            ],
            "text/plain": [
              "    index  Unnamed: 0                                               text  \\\n",
              "0  109486      109583  expert categorizers why is there no mention of...   \n",
              "1  104980      105077                                    noise fart talk   \n",
              "2   82166       82244  an indefinite block is appropriate even for a ...   \n",
              "3   18721       18740  i don t understand why we have a screenshot of...   \n",
              "4  128178      128310  hello some of the people places or things you ...   \n",
              "5  108309      108406  if you read carefully my comment was overall a...   \n",
              "6   25259       25283                 did you make it at wp ae ofshalott   \n",
              "7   32655       32695                          know as much as he thinks   \n",
              "8   31896       31936  thank you for your comment and willingness to ...   \n",
              "9   20224       20244  update hey yall im going to be gone a week so ...   \n",
              "\n",
              "   toxic                                          lemm_text  \n",
              "0      0  expert categorizers why be there no mention of...  \n",
              "1      1                                    noise fart talk  \n",
              "2      0  an indefinite block be appropriate even for a ...  \n",
              "3      0  i don t understand why we have a screenshot of...  \n",
              "4      0  hello some of the people place or thing you ha...  \n",
              "5      1  if you read carefully my comment be overall a ...  \n",
              "6      0                  do you make it at wp ae ofshalott  \n",
              "7      0                             know a much a he think  \n",
              "8      0  thank you for your comment and willingness to ...  \n",
              "9      0  update hey yall im go to be go a week so dont ...  "
            ]
          },
          "metadata": {},
          "output_type": "display_data"
        },
        {
          "name": "stdout",
          "output_type": "stream",
          "text": [
            "<class 'pandas.core.frame.DataFrame'>\n",
            "RangeIndex: 53097 entries, 0 to 53096\n",
            "Data columns (total 5 columns):\n",
            " #   Column      Non-Null Count  Dtype \n",
            "---  ------      --------------  ----- \n",
            " 0   index       53097 non-null  int64 \n",
            " 1   Unnamed: 0  53097 non-null  int64 \n",
            " 2   text        53097 non-null  object\n",
            " 3   toxic       53097 non-null  int64 \n",
            " 4   lemm_text   53097 non-null  object\n",
            "dtypes: int64(3), object(2)\n",
            "memory usage: 2.0+ MB\n"
          ]
        }
      ],
      "source": [
        "display(data_cut.head(10))\n",
        "data_cut.info()"
      ]
    },
    {
      "cell_type": "markdown",
      "id": "a68edddd",
      "metadata": {
        "id": "a68edddd"
      },
      "source": [
        "Определяем фичи и целевой признак, разделяем датасет на тренировочную и тестовую выборки:"
      ]
    },
    {
      "cell_type": "code",
      "execution_count": null,
      "id": "2ea60a19",
      "metadata": {
        "id": "2ea60a19"
      },
      "outputs": [],
      "source": [
        "features = data_cut['lemm_text']\n",
        "target = data_cut['toxic']\n",
        "\n",
        "features_train, features_test, target_train, target_test = train_test_split(\n",
        "    features, target, test_size=0.25, random_state=RANDOM_STATE, stratify = target)"
      ]
    },
    {
      "cell_type": "markdown",
      "id": "-aLGn6IvCDtn",
      "metadata": {
        "id": "-aLGn6IvCDtn"
      },
      "source": [
        "Объявим стоп-слова"
      ]
    },
    {
      "cell_type": "code",
      "execution_count": null,
      "id": "bQngX48BcOAA",
      "metadata": {
        "colab": {
          "base_uri": "https://localhost:8080/"
        },
        "id": "bQngX48BcOAA",
        "outputId": "87710e69-d2b6-4605-d105-cb12e273b195"
      },
      "outputs": [
        {
          "name": "stderr",
          "output_type": "stream",
          "text": [
            "[nltk_data] Downloading package stopwords to /root/nltk_data...\n",
            "[nltk_data]   Package stopwords is already up-to-date!\n"
          ]
        }
      ],
      "source": [
        "nltk.download('stopwords')\n",
        "stopwords1 = list(set(stopwords.words('english')))"
      ]
    },
    {
      "cell_type": "markdown",
      "id": "-BjBEOUm_vMm",
      "metadata": {
        "id": "-BjBEOUm_vMm"
      },
      "source": [
        "tf-idf"
      ]
    },
    {
      "cell_type": "code",
      "execution_count": null,
      "id": "88e88730",
      "metadata": {
        "colab": {
          "base_uri": "https://localhost:8080/"
        },
        "id": "88e88730",
        "outputId": "9e478a9c-5fca-4fbc-a934-b61fc48df6d2"
      },
      "outputs": [
        {
          "name": "stdout",
          "output_type": "stream",
          "text": [
            "TfidfVectorizer(stop_words=['hasn', 'had', 'myself', 'her', 's', 'what',\n",
            "                            \"wasn't\", 'which', 'it', 'most', \"mightn't\",\n",
            "                            \"you'll\", 'here', 'or', 'just', 'those', 'off', 'i',\n",
            "                            \"shan't\", 'yours', 'hers', 'whom', 'under', 't',\n",
            "                            \"don't\", 'aren', 'should', 'each', \"hadn't\", 'no', ...])\n"
          ]
        }
      ],
      "source": [
        "count_tf_idf = TfidfVectorizer(stop_words=stopwords1)\n",
        "print(count_tf_idf)"
      ]
    },
    {
      "cell_type": "code",
      "execution_count": null,
      "id": "Pt4a9rKDpNbH",
      "metadata": {
        "id": "Pt4a9rKDpNbH"
      },
      "outputs": [],
      "source": [
        "features_train = count_tf_idf.fit_transform(features_train)\n",
        "features_test = count_tf_idf.transform(features_test)"
      ]
    },
    {
      "cell_type": "markdown",
      "id": "31g119vAAClb",
      "metadata": {
        "id": "31g119vAAClb"
      },
      "source": [
        "Посмотри на размеры выборок"
      ]
    },
    {
      "cell_type": "code",
      "execution_count": null,
      "id": "arIjatI8ha3d",
      "metadata": {
        "colab": {
          "base_uri": "https://localhost:8080/"
        },
        "id": "arIjatI8ha3d",
        "outputId": "ba4e4adc-b912-439f-e1c8-99364a4f8fb8"
      },
      "outputs": [
        {
          "name": "stdout",
          "output_type": "stream",
          "text": [
            "(39822, 65895)\n",
            "(13275, 65895)\n",
            "(39822,)\n",
            "(13275,)\n"
          ]
        }
      ],
      "source": [
        "print(features_train.shape)\n",
        "print(features_test.shape)\n",
        "print(target_train.shape)\n",
        "print(target_test.shape)"
      ]
    },
    {
      "cell_type": "markdown",
      "id": "6Yy1DiMdDUKr",
      "metadata": {
        "id": "6Yy1DiMdDUKr"
      },
      "source": [
        "Вывод:\n",
        "- Мне в работу был передан датасет содержащий почти 160 тыс комментариев из интернета, содержащий признак, является комментарий токсичным или нет\n",
        "- Датасет полный, пропусков нет.\n",
        "- Я взяла сэмпл из датасета в размере 50 тыс строк, для того, что бы оптимизировать время обучения моделей.\n",
        "- Провела очистку текста и лемматизацию."
      ]
    },
    {
      "cell_type": "markdown",
      "id": "449d5d37",
      "metadata": {
        "id": "449d5d37"
      },
      "source": [
        "<div class=\"alert alert-block alert-success\">\n",
        "<b>Успех:</b> Разбиение было сделано верно. Отлично, что векторизатор был обучен только на тренировочной части данных.\n",
        "</div>"
      ]
    },
    {
      "cell_type": "markdown",
      "id": "zNd29-yiCM5p",
      "metadata": {
        "id": "zNd29-yiCM5p"
      },
      "source": [
        "### Обучение"
      ]
    },
    {
      "cell_type": "markdown",
      "id": "1_WeZ72nyOdt",
      "metadata": {
        "id": "1_WeZ72nyOdt"
      },
      "source": [
        "### LogisticRegression"
      ]
    },
    {
      "cell_type": "code",
      "execution_count": null,
      "id": "cNd2DuawyOHA",
      "metadata": {
        "colab": {
          "base_uri": "https://localhost:8080/"
        },
        "id": "cNd2DuawyOHA",
        "outputId": "709390db-cc05-4355-98fe-36c001367eda"
      },
      "outputs": [
        {
          "name": "stdout",
          "output_type": "stream",
          "text": [
            "Best parameters:\n",
            "\n",
            "{'C': 12, 'class_weight': 'balanced', 'max_iter': 100, 'solver': 'lbfgs'}\n",
            "\n",
            "F1 grid scores:\n",
            "\n",
            "0.701007 for {'C': 0.1, 'class_weight': 'balanced', 'max_iter': 100, 'solver': 'newton-cg'}\n",
            "0.701007 for {'C': 0.1, 'class_weight': 'balanced', 'max_iter': 100, 'solver': 'lbfgs'}\n",
            "0.700626 for {'C': 0.1, 'class_weight': 'balanced', 'max_iter': 100, 'solver': 'liblinear'}\n",
            "0.701007 for {'C': 0.1, 'class_weight': 'balanced', 'max_iter': 500, 'solver': 'newton-cg'}\n",
            "0.701007 for {'C': 0.1, 'class_weight': 'balanced', 'max_iter': 500, 'solver': 'lbfgs'}\n",
            "0.700626 for {'C': 0.1, 'class_weight': 'balanced', 'max_iter': 500, 'solver': 'liblinear'}\n",
            "0.701007 for {'C': 0.1, 'class_weight': 'balanced', 'max_iter': 1000, 'solver': 'newton-cg'}\n",
            "0.701007 for {'C': 0.1, 'class_weight': 'balanced', 'max_iter': 1000, 'solver': 'lbfgs'}\n",
            "0.700626 for {'C': 0.1, 'class_weight': 'balanced', 'max_iter': 1000, 'solver': 'liblinear'}\n",
            "0.736760 for {'C': 1, 'class_weight': 'balanced', 'max_iter': 100, 'solver': 'newton-cg'}\n",
            "0.736760 for {'C': 1, 'class_weight': 'balanced', 'max_iter': 100, 'solver': 'lbfgs'}\n",
            "0.736905 for {'C': 1, 'class_weight': 'balanced', 'max_iter': 100, 'solver': 'liblinear'}\n",
            "0.736760 for {'C': 1, 'class_weight': 'balanced', 'max_iter': 500, 'solver': 'newton-cg'}\n",
            "0.736760 for {'C': 1, 'class_weight': 'balanced', 'max_iter': 500, 'solver': 'lbfgs'}\n",
            "0.736905 for {'C': 1, 'class_weight': 'balanced', 'max_iter': 500, 'solver': 'liblinear'}\n",
            "0.736760 for {'C': 1, 'class_weight': 'balanced', 'max_iter': 1000, 'solver': 'newton-cg'}\n",
            "0.736760 for {'C': 1, 'class_weight': 'balanced', 'max_iter': 1000, 'solver': 'lbfgs'}\n",
            "0.736905 for {'C': 1, 'class_weight': 'balanced', 'max_iter': 1000, 'solver': 'liblinear'}\n",
            "0.747209 for {'C': 12, 'class_weight': 'balanced', 'max_iter': 100, 'solver': 'newton-cg'}\n",
            "0.747519 for {'C': 12, 'class_weight': 'balanced', 'max_iter': 100, 'solver': 'lbfgs'}\n",
            "0.747209 for {'C': 12, 'class_weight': 'balanced', 'max_iter': 100, 'solver': 'liblinear'}\n",
            "0.747209 for {'C': 12, 'class_weight': 'balanced', 'max_iter': 500, 'solver': 'newton-cg'}\n",
            "0.747209 for {'C': 12, 'class_weight': 'balanced', 'max_iter': 500, 'solver': 'lbfgs'}\n",
            "0.747209 for {'C': 12, 'class_weight': 'balanced', 'max_iter': 500, 'solver': 'liblinear'}\n",
            "0.747209 for {'C': 12, 'class_weight': 'balanced', 'max_iter': 1000, 'solver': 'newton-cg'}\n",
            "0.747209 for {'C': 12, 'class_weight': 'balanced', 'max_iter': 1000, 'solver': 'lbfgs'}\n",
            "0.747209 for {'C': 12, 'class_weight': 'balanced', 'max_iter': 1000, 'solver': 'liblinear'}\n"
          ]
        }
      ],
      "source": [
        "lr = LogisticRegression()\n",
        "hyperparams = [{'solver':['newton-cg', 'lbfgs', 'liblinear'],\n",
        "                'C':[0.1, 1, 12],\n",
        "                'max_iter':[100, 500, 1000],\n",
        "                'class_weight':(['balanced'])}]\n",
        "\n",
        "clf = GridSearchCV(lr, hyperparams, scoring='f1')\n",
        "clf.fit(features_train, target_train)\n",
        "print(\"Best parameters:\")\n",
        "print()\n",
        "print(clf.best_params_)\n",
        "print()\n",
        "print(\"F1 grid scores:\")\n",
        "print()\n",
        "means = clf.cv_results_['mean_test_score']\n",
        "stds = clf.cv_results_['std_test_score']\n",
        "for mean, std, params in zip(means, stds, clf.cv_results_['params']):\n",
        "    print(\"%0.6f for %r\"% (mean, params))"
      ]
    },
    {
      "cell_type": "markdown",
      "id": "48109629",
      "metadata": {
        "id": "48109629"
      },
      "source": [
        "<div class=\"alert alert-block alert-info\">\n",
        "<b>Совет: </b> Напомню, что внутри кросс-валидации происходит разбиение выборки на треин и валидацию. Однако, в таком случае векторизатор обучен на всей выборке, а это не совсем корректно. Для избежания такого эффекта можно использовать <a href=\"https://scikit-learn.org/stable/modules/generated/sklearn.pipeline.Pipeline.html\">пайплайн</a>. <a href=\"https://medium.com/analytics-vidhya/ml-pipelines-using-scikit-learn-and-gridsearchcv-fe605a7f9e05\">Тут</a> есть пример.\n",
        "</div>"
      ]
    },
    {
      "cell_type": "markdown",
      "id": "qgkK-qTSieQ2",
      "metadata": {
        "id": "qgkK-qTSieQ2"
      },
      "source": [
        "### CatBoost"
      ]
    },
    {
      "cell_type": "code",
      "execution_count": null,
      "id": "UZq1d0CBwNBs",
      "metadata": {
        "colab": {
          "base_uri": "https://localhost:8080/"
        },
        "id": "UZq1d0CBwNBs",
        "outputId": "197a94d9-c9a3-4f1a-c31f-e261ad6ed8c5"
      },
      "outputs": [
        {
          "data": {
            "text/plain": [
              "<catboost.core.CatBoostClassifier at 0x7efba1d083d0>"
            ]
          },
          "execution_count": 95,
          "metadata": {},
          "output_type": "execute_result"
        }
      ],
      "source": [
        "Catboost = CatBoostClassifier(verbose=False, iterations=250)\n",
        "Catboost.fit(features_train, target_train)"
      ]
    },
    {
      "cell_type": "code",
      "execution_count": null,
      "id": "wFS3EGgly-eB",
      "metadata": {
        "colab": {
          "base_uri": "https://localhost:8080/"
        },
        "id": "wFS3EGgly-eB",
        "outputId": "219c09bc-44ce-4ace-a21f-c2ba314d454b"
      },
      "outputs": [
        {
          "name": "stdout",
          "output_type": "stream",
          "text": [
            "F1 на cv 0.7307861220904699\n"
          ]
        }
      ],
      "source": [
        "target_predict = Catboost.predict(features_test)\n",
        "cv_CBC = cross_val_score(Catboost,\n",
        "                                         features_train,\n",
        "                                         target_train,\n",
        "                                         cv=6,\n",
        "                                         scoring='f1').mean()\n",
        "test_f1_CBC = f1_score(target_test, target_predict)\n",
        "print('F1 на cv', test_f1_CBC)"
      ]
    },
    {
      "cell_type": "markdown",
      "id": "kM9H4x-Cy-6d",
      "metadata": {
        "id": "kM9H4x-Cy-6d"
      },
      "source": [
        "### RidgeClassifier"
      ]
    },
    {
      "cell_type": "code",
      "execution_count": null,
      "id": "tGWD8YVyy_Nx",
      "metadata": {
        "colab": {
          "base_uri": "https://localhost:8080/",
          "height": 116
        },
        "id": "tGWD8YVyy_Nx",
        "outputId": "60efc925-7ca9-4f90-f1c7-9ddf73a2306b"
      },
      "outputs": [
        {
          "data": {
            "text/html": [
              "<style>#sk-container-id-2 {color: black;background-color: white;}#sk-container-id-2 pre{padding: 0;}#sk-container-id-2 div.sk-toggleable {background-color: white;}#sk-container-id-2 label.sk-toggleable__label {cursor: pointer;display: block;width: 100%;margin-bottom: 0;padding: 0.3em;box-sizing: border-box;text-align: center;}#sk-container-id-2 label.sk-toggleable__label-arrow:before {content: \"▸\";float: left;margin-right: 0.25em;color: #696969;}#sk-container-id-2 label.sk-toggleable__label-arrow:hover:before {color: black;}#sk-container-id-2 div.sk-estimator:hover label.sk-toggleable__label-arrow:before {color: black;}#sk-container-id-2 div.sk-toggleable__content {max-height: 0;max-width: 0;overflow: hidden;text-align: left;background-color: #f0f8ff;}#sk-container-id-2 div.sk-toggleable__content pre {margin: 0.2em;color: black;border-radius: 0.25em;background-color: #f0f8ff;}#sk-container-id-2 input.sk-toggleable__control:checked~div.sk-toggleable__content {max-height: 200px;max-width: 100%;overflow: auto;}#sk-container-id-2 input.sk-toggleable__control:checked~label.sk-toggleable__label-arrow:before {content: \"▾\";}#sk-container-id-2 div.sk-estimator input.sk-toggleable__control:checked~label.sk-toggleable__label {background-color: #d4ebff;}#sk-container-id-2 div.sk-label input.sk-toggleable__control:checked~label.sk-toggleable__label {background-color: #d4ebff;}#sk-container-id-2 input.sk-hidden--visually {border: 0;clip: rect(1px 1px 1px 1px);clip: rect(1px, 1px, 1px, 1px);height: 1px;margin: -1px;overflow: hidden;padding: 0;position: absolute;width: 1px;}#sk-container-id-2 div.sk-estimator {font-family: monospace;background-color: #f0f8ff;border: 1px dotted black;border-radius: 0.25em;box-sizing: border-box;margin-bottom: 0.5em;}#sk-container-id-2 div.sk-estimator:hover {background-color: #d4ebff;}#sk-container-id-2 div.sk-parallel-item::after {content: \"\";width: 100%;border-bottom: 1px solid gray;flex-grow: 1;}#sk-container-id-2 div.sk-label:hover label.sk-toggleable__label {background-color: #d4ebff;}#sk-container-id-2 div.sk-serial::before {content: \"\";position: absolute;border-left: 1px solid gray;box-sizing: border-box;top: 0;bottom: 0;left: 50%;z-index: 0;}#sk-container-id-2 div.sk-serial {display: flex;flex-direction: column;align-items: center;background-color: white;padding-right: 0.2em;padding-left: 0.2em;position: relative;}#sk-container-id-2 div.sk-item {position: relative;z-index: 1;}#sk-container-id-2 div.sk-parallel {display: flex;align-items: stretch;justify-content: center;background-color: white;position: relative;}#sk-container-id-2 div.sk-item::before, #sk-container-id-2 div.sk-parallel-item::before {content: \"\";position: absolute;border-left: 1px solid gray;box-sizing: border-box;top: 0;bottom: 0;left: 50%;z-index: -1;}#sk-container-id-2 div.sk-parallel-item {display: flex;flex-direction: column;z-index: 1;position: relative;background-color: white;}#sk-container-id-2 div.sk-parallel-item:first-child::after {align-self: flex-end;width: 50%;}#sk-container-id-2 div.sk-parallel-item:last-child::after {align-self: flex-start;width: 50%;}#sk-container-id-2 div.sk-parallel-item:only-child::after {width: 0;}#sk-container-id-2 div.sk-dashed-wrapped {border: 1px dashed gray;margin: 0 0.4em 0.5em 0.4em;box-sizing: border-box;padding-bottom: 0.4em;background-color: white;}#sk-container-id-2 div.sk-label label {font-family: monospace;font-weight: bold;display: inline-block;line-height: 1.2em;}#sk-container-id-2 div.sk-label-container {text-align: center;}#sk-container-id-2 div.sk-container {/* jupyter's `normalize.less` sets `[hidden] { display: none; }` but bootstrap.min.css set `[hidden] { display: none !important; }` so we also need the `!important` here to be able to override the default hidden behavior on the sphinx rendered scikit-learn.org. See: https://github.com/scikit-learn/scikit-learn/issues/21755 */display: inline-block !important;position: relative;}#sk-container-id-2 div.sk-text-repr-fallback {display: none;}</style><div id=\"sk-container-id-2\" class=\"sk-top-container\"><div class=\"sk-text-repr-fallback\"><pre>GridSearchCV(estimator=RidgeClassifier(),\n",
              "             param_grid=[{&#x27;class_weight&#x27;: [&#x27;balanced&#x27;],\n",
              "                          &#x27;max_iter&#x27;: [20, 40, 60, 250, 100, 700, 1200, 1300,\n",
              "                                       1400, 1600],\n",
              "                          &#x27;solver&#x27;: [&#x27;auto&#x27;, &#x27;lsqr&#x27;, &#x27;sparse_cg&#x27;]}],\n",
              "             scoring=&#x27;f1&#x27;)</pre><b>In a Jupyter environment, please rerun this cell to show the HTML representation or trust the notebook. <br />On GitHub, the HTML representation is unable to render, please try loading this page with nbviewer.org.</b></div><div class=\"sk-container\" hidden><div class=\"sk-item sk-dashed-wrapped\"><div class=\"sk-label-container\"><div class=\"sk-label sk-toggleable\"><input class=\"sk-toggleable__control sk-hidden--visually\" id=\"sk-estimator-id-4\" type=\"checkbox\" ><label for=\"sk-estimator-id-4\" class=\"sk-toggleable__label sk-toggleable__label-arrow\">GridSearchCV</label><div class=\"sk-toggleable__content\"><pre>GridSearchCV(estimator=RidgeClassifier(),\n",
              "             param_grid=[{&#x27;class_weight&#x27;: [&#x27;balanced&#x27;],\n",
              "                          &#x27;max_iter&#x27;: [20, 40, 60, 250, 100, 700, 1200, 1300,\n",
              "                                       1400, 1600],\n",
              "                          &#x27;solver&#x27;: [&#x27;auto&#x27;, &#x27;lsqr&#x27;, &#x27;sparse_cg&#x27;]}],\n",
              "             scoring=&#x27;f1&#x27;)</pre></div></div></div><div class=\"sk-parallel\"><div class=\"sk-parallel-item\"><div class=\"sk-item\"><div class=\"sk-label-container\"><div class=\"sk-label sk-toggleable\"><input class=\"sk-toggleable__control sk-hidden--visually\" id=\"sk-estimator-id-5\" type=\"checkbox\" ><label for=\"sk-estimator-id-5\" class=\"sk-toggleable__label sk-toggleable__label-arrow\">estimator: RidgeClassifier</label><div class=\"sk-toggleable__content\"><pre>RidgeClassifier()</pre></div></div></div><div class=\"sk-serial\"><div class=\"sk-item\"><div class=\"sk-estimator sk-toggleable\"><input class=\"sk-toggleable__control sk-hidden--visually\" id=\"sk-estimator-id-6\" type=\"checkbox\" ><label for=\"sk-estimator-id-6\" class=\"sk-toggleable__label sk-toggleable__label-arrow\">RidgeClassifier</label><div class=\"sk-toggleable__content\"><pre>RidgeClassifier()</pre></div></div></div></div></div></div></div></div></div></div>"
            ],
            "text/plain": [
              "GridSearchCV(estimator=RidgeClassifier(),\n",
              "             param_grid=[{'class_weight': ['balanced'],\n",
              "                          'max_iter': [20, 40, 60, 250, 100, 700, 1200, 1300,\n",
              "                                       1400, 1600],\n",
              "                          'solver': ['auto', 'lsqr', 'sparse_cg']}],\n",
              "             scoring='f1')"
            ]
          },
          "execution_count": 97,
          "metadata": {},
          "output_type": "execute_result"
        }
      ],
      "source": [
        "ridge = RidgeClassifier(alpha=1.0)\n",
        "hyperparams = [{'max_iter':[20, 40, 60, 250, 100, 700, 1200, 1300, 1400, 1600],\n",
        "                'solver':['auto', 'lsqr', 'sparse_cg'],\n",
        "                'class_weight':(['balanced'])}]\n",
        "gsr = GridSearchCV(ridge, hyperparams, scoring='f1')\n",
        "gsr.fit(features_train, target_train)"
      ]
    },
    {
      "cell_type": "code",
      "execution_count": null,
      "id": "LtkGc9uQPRSq",
      "metadata": {
        "colab": {
          "base_uri": "https://localhost:8080/"
        },
        "id": "LtkGc9uQPRSq",
        "outputId": "61fdb6d7-1b9f-4c50-c559-abc562978fc3"
      },
      "outputs": [
        {
          "name": "stdout",
          "output_type": "stream",
          "text": [
            "Best parameters:\n",
            "\n",
            "{'class_weight': 'balanced', 'max_iter': 20, 'solver': 'lsqr'}\n",
            "\n",
            "F1 grid scores:\n",
            "\n",
            "0.687722 for {'class_weight': 'balanced', 'max_iter': 20, 'solver': 'auto'}\n",
            "0.689105 for {'class_weight': 'balanced', 'max_iter': 20, 'solver': 'lsqr'}\n",
            "0.687722 for {'class_weight': 'balanced', 'max_iter': 20, 'solver': 'sparse_cg'}\n",
            "0.687722 for {'class_weight': 'balanced', 'max_iter': 40, 'solver': 'auto'}\n",
            "0.687718 for {'class_weight': 'balanced', 'max_iter': 40, 'solver': 'lsqr'}\n",
            "0.687722 for {'class_weight': 'balanced', 'max_iter': 40, 'solver': 'sparse_cg'}\n",
            "0.687722 for {'class_weight': 'balanced', 'max_iter': 60, 'solver': 'auto'}\n",
            "0.687718 for {'class_weight': 'balanced', 'max_iter': 60, 'solver': 'lsqr'}\n",
            "0.687722 for {'class_weight': 'balanced', 'max_iter': 60, 'solver': 'sparse_cg'}\n",
            "0.687722 for {'class_weight': 'balanced', 'max_iter': 250, 'solver': 'auto'}\n",
            "0.687718 for {'class_weight': 'balanced', 'max_iter': 250, 'solver': 'lsqr'}\n",
            "0.687722 for {'class_weight': 'balanced', 'max_iter': 250, 'solver': 'sparse_cg'}\n",
            "0.687722 for {'class_weight': 'balanced', 'max_iter': 100, 'solver': 'auto'}\n",
            "0.687718 for {'class_weight': 'balanced', 'max_iter': 100, 'solver': 'lsqr'}\n",
            "0.687722 for {'class_weight': 'balanced', 'max_iter': 100, 'solver': 'sparse_cg'}\n",
            "0.687722 for {'class_weight': 'balanced', 'max_iter': 700, 'solver': 'auto'}\n",
            "0.687718 for {'class_weight': 'balanced', 'max_iter': 700, 'solver': 'lsqr'}\n",
            "0.687722 for {'class_weight': 'balanced', 'max_iter': 700, 'solver': 'sparse_cg'}\n",
            "0.687722 for {'class_weight': 'balanced', 'max_iter': 1200, 'solver': 'auto'}\n",
            "0.687718 for {'class_weight': 'balanced', 'max_iter': 1200, 'solver': 'lsqr'}\n",
            "0.687722 for {'class_weight': 'balanced', 'max_iter': 1200, 'solver': 'sparse_cg'}\n",
            "0.687722 for {'class_weight': 'balanced', 'max_iter': 1300, 'solver': 'auto'}\n",
            "0.687718 for {'class_weight': 'balanced', 'max_iter': 1300, 'solver': 'lsqr'}\n",
            "0.687722 for {'class_weight': 'balanced', 'max_iter': 1300, 'solver': 'sparse_cg'}\n",
            "0.687722 for {'class_weight': 'balanced', 'max_iter': 1400, 'solver': 'auto'}\n",
            "0.687718 for {'class_weight': 'balanced', 'max_iter': 1400, 'solver': 'lsqr'}\n",
            "0.687722 for {'class_weight': 'balanced', 'max_iter': 1400, 'solver': 'sparse_cg'}\n",
            "0.687722 for {'class_weight': 'balanced', 'max_iter': 1600, 'solver': 'auto'}\n",
            "0.687718 for {'class_weight': 'balanced', 'max_iter': 1600, 'solver': 'lsqr'}\n",
            "0.687722 for {'class_weight': 'balanced', 'max_iter': 1600, 'solver': 'sparse_cg'}\n"
          ]
        }
      ],
      "source": [
        "print(\"Best parameters:\")\n",
        "print()\n",
        "print(gsr.best_params_)\n",
        "print()\n",
        "print(\"F1 grid scores:\")\n",
        "print()\n",
        "means = gsr.cv_results_['mean_test_score']\n",
        "stds = gsr.cv_results_['std_test_score']\n",
        "for mean, std, params in zip(means, stds, gsr.cv_results_['params']):\n",
        "    print(\"%0.6f for %r\"% (mean, params))"
      ]
    },
    {
      "cell_type": "markdown",
      "id": "pAR5l441y_cD",
      "metadata": {
        "id": "pAR5l441y_cD"
      },
      "source": [
        "Подведем итоги"
      ]
    },
    {
      "cell_type": "code",
      "execution_count": null,
      "id": "_VgykFxUy_t7",
      "metadata": {
        "colab": {
          "base_uri": "https://localhost:8080/",
          "height": 143
        },
        "id": "_VgykFxUy_t7",
        "outputId": "3f88d895-17aa-4a0b-fd6f-00656c1162e3"
      },
      "outputs": [
        {
          "data": {
            "text/html": [
              "\n",
              "  <div id=\"df-02b6a07c-5af3-41b7-abf2-1249c9957759\">\n",
              "    <div class=\"colab-df-container\">\n",
              "      <div>\n",
              "<style scoped>\n",
              "    .dataframe tbody tr th:only-of-type {\n",
              "        vertical-align: middle;\n",
              "    }\n",
              "\n",
              "    .dataframe tbody tr th {\n",
              "        vertical-align: top;\n",
              "    }\n",
              "\n",
              "    .dataframe thead th {\n",
              "        text-align: right;\n",
              "    }\n",
              "</style>\n",
              "<table border=\"1\" class=\"dataframe\">\n",
              "  <thead>\n",
              "    <tr style=\"text-align: right;\">\n",
              "      <th></th>\n",
              "      <th>F1 на CV</th>\n",
              "    </tr>\n",
              "  </thead>\n",
              "  <tbody>\n",
              "    <tr>\n",
              "      <th>LogisticRegression</th>\n",
              "      <td>0.747519</td>\n",
              "    </tr>\n",
              "    <tr>\n",
              "      <th>CatBoostClassifier</th>\n",
              "      <td>0.717041</td>\n",
              "    </tr>\n",
              "    <tr>\n",
              "      <th>RidgeClassifier</th>\n",
              "      <td>0.689105</td>\n",
              "    </tr>\n",
              "  </tbody>\n",
              "</table>\n",
              "</div>\n",
              "      <button class=\"colab-df-convert\" onclick=\"convertToInteractive('df-02b6a07c-5af3-41b7-abf2-1249c9957759')\"\n",
              "              title=\"Convert this dataframe to an interactive table.\"\n",
              "              style=\"display:none;\">\n",
              "        \n",
              "  <svg xmlns=\"http://www.w3.org/2000/svg\" height=\"24px\"viewBox=\"0 0 24 24\"\n",
              "       width=\"24px\">\n",
              "    <path d=\"M0 0h24v24H0V0z\" fill=\"none\"/>\n",
              "    <path d=\"M18.56 5.44l.94 2.06.94-2.06 2.06-.94-2.06-.94-.94-2.06-.94 2.06-2.06.94zm-11 1L8.5 8.5l.94-2.06 2.06-.94-2.06-.94L8.5 2.5l-.94 2.06-2.06.94zm10 10l.94 2.06.94-2.06 2.06-.94-2.06-.94-.94-2.06-.94 2.06-2.06.94z\"/><path d=\"M17.41 7.96l-1.37-1.37c-.4-.4-.92-.59-1.43-.59-.52 0-1.04.2-1.43.59L10.3 9.45l-7.72 7.72c-.78.78-.78 2.05 0 2.83L4 21.41c.39.39.9.59 1.41.59.51 0 1.02-.2 1.41-.59l7.78-7.78 2.81-2.81c.8-.78.8-2.07 0-2.86zM5.41 20L4 18.59l7.72-7.72 1.47 1.35L5.41 20z\"/>\n",
              "  </svg>\n",
              "      </button>\n",
              "      \n",
              "  <style>\n",
              "    .colab-df-container {\n",
              "      display:flex;\n",
              "      flex-wrap:wrap;\n",
              "      gap: 12px;\n",
              "    }\n",
              "\n",
              "    .colab-df-convert {\n",
              "      background-color: #E8F0FE;\n",
              "      border: none;\n",
              "      border-radius: 50%;\n",
              "      cursor: pointer;\n",
              "      display: none;\n",
              "      fill: #1967D2;\n",
              "      height: 32px;\n",
              "      padding: 0 0 0 0;\n",
              "      width: 32px;\n",
              "    }\n",
              "\n",
              "    .colab-df-convert:hover {\n",
              "      background-color: #E2EBFA;\n",
              "      box-shadow: 0px 1px 2px rgba(60, 64, 67, 0.3), 0px 1px 3px 1px rgba(60, 64, 67, 0.15);\n",
              "      fill: #174EA6;\n",
              "    }\n",
              "\n",
              "    [theme=dark] .colab-df-convert {\n",
              "      background-color: #3B4455;\n",
              "      fill: #D2E3FC;\n",
              "    }\n",
              "\n",
              "    [theme=dark] .colab-df-convert:hover {\n",
              "      background-color: #434B5C;\n",
              "      box-shadow: 0px 1px 3px 1px rgba(0, 0, 0, 0.15);\n",
              "      filter: drop-shadow(0px 1px 2px rgba(0, 0, 0, 0.3));\n",
              "      fill: #FFFFFF;\n",
              "    }\n",
              "  </style>\n",
              "\n",
              "      <script>\n",
              "        const buttonEl =\n",
              "          document.querySelector('#df-02b6a07c-5af3-41b7-abf2-1249c9957759 button.colab-df-convert');\n",
              "        buttonEl.style.display =\n",
              "          google.colab.kernel.accessAllowed ? 'block' : 'none';\n",
              "\n",
              "        async function convertToInteractive(key) {\n",
              "          const element = document.querySelector('#df-02b6a07c-5af3-41b7-abf2-1249c9957759');\n",
              "          const dataTable =\n",
              "            await google.colab.kernel.invokeFunction('convertToInteractive',\n",
              "                                                     [key], {});\n",
              "          if (!dataTable) return;\n",
              "\n",
              "          const docLinkHtml = 'Like what you see? Visit the ' +\n",
              "            '<a target=\"_blank\" href=https://colab.research.google.com/notebooks/data_table.ipynb>data table notebook</a>'\n",
              "            + ' to learn more about interactive tables.';\n",
              "          element.innerHTML = '';\n",
              "          dataTable['output_type'] = 'display_data';\n",
              "          await google.colab.output.renderOutput(dataTable, element);\n",
              "          const docLink = document.createElement('div');\n",
              "          docLink.innerHTML = docLinkHtml;\n",
              "          element.appendChild(docLink);\n",
              "        }\n",
              "      </script>\n",
              "    </div>\n",
              "  </div>\n",
              "  "
            ],
            "text/plain": [
              "                    F1 на CV\n",
              "LogisticRegression  0.747519\n",
              "CatBoostClassifier  0.717041\n",
              "RidgeClassifier     0.689105"
            ]
          },
          "execution_count": 99,
          "metadata": {},
          "output_type": "execute_result"
        }
      ],
      "source": [
        "index = ['LogisticRegression',\n",
        "         'CatBoostClassifier',\n",
        "         'RidgeClassifier']\n",
        "data_f1 = {'F1 на CV':[clf.best_score_,\n",
        "                    cv_CBC,\n",
        "                    gsr.best_score_],\n",
        "        }\n",
        "\n",
        "scores_data = pd.DataFrame(data=data_f1, index=index)\n",
        "scores_data"
      ]
    },
    {
      "cell_type": "markdown",
      "id": "536ee99e",
      "metadata": {
        "id": "536ee99e"
      },
      "source": [
        "<div class=\"alert alert-block alert-success\">\n",
        "<b>Успех:</b> Молодец, что попробовал разные модели в этом шаге!\n",
        "</div>"
      ]
    },
    {
      "cell_type": "markdown",
      "id": "GmQKbNEFCILj",
      "metadata": {
        "id": "GmQKbNEFCILj"
      },
      "source": [
        "Протестируем LogisticRegression на тестовой выборке:"
      ]
    },
    {
      "cell_type": "code",
      "execution_count": null,
      "id": "qeQVRolRShzA",
      "metadata": {
        "id": "qeQVRolRShzA"
      },
      "outputs": [],
      "source": [
        "lr_best_params_ = clf.best_params_"
      ]
    },
    {
      "cell_type": "code",
      "execution_count": null,
      "id": "aJRtejTsCCcE",
      "metadata": {
        "colab": {
          "base_uri": "https://localhost:8080/"
        },
        "id": "aJRtejTsCCcE",
        "outputId": "81260959-eaa2-44c3-d0c2-b7edbb2c6305"
      },
      "outputs": [
        {
          "name": "stdout",
          "output_type": "stream",
          "text": [
            "F1 модели LogisticRegression: 0.7539007092198581\n"
          ]
        }
      ],
      "source": [
        "#Обучаю модель на оптимальных гиперпараметрах\n",
        "lr = LogisticRegression()\n",
        "\n",
        "lr.set_params(**lr_best_params_)\n",
        "lr.fit(features_train, target_train)\n",
        "lr_model_predictions = lr.predict(features_test)\n",
        "f1_LR = f1_score(target_test, lr_model_predictions)\n",
        "\n",
        "print('F1 модели LogisticRegression:', f1_LR)"
      ]
    },
    {
      "cell_type": "markdown",
      "id": "72gmnIXpy_76",
      "metadata": {
        "id": "72gmnIXpy_76"
      },
      "source": [
        "## Вывод:\n",
        "\n",
        "- Мне в работу был передан датасет содержащий почти 160 тыс комментариев из интернета, содержащий признак, является комментарий токсичным или нет\n",
        "- Датасет полный, пропусков нет.\n",
        "- Я взяла сэмпл из датасета в размере 50 тыс строк, для того, что бы оптимизировать время обучения моделей.\n",
        "- Провела очистку текста и лемматизацию.\n",
        "- Обучила три модели машинного обучения и замерила метрику f1.\n",
        "- Логистическая регрессия на тесте показывает  f1>0,75 что соотвествует условиям задачи. Для данной задари рекомендую использовать данную модель, с параметрами: 'C': 12, 'class_weight': 'balanced', 'max_iter': 100, 'solver': 'lbfgs'.\n",
        ""
      ]
    }
  ],
  "metadata": {
    "ExecuteTimeLog": [
      {
        "duration": 5356,
        "start_time": "2023-04-08T11:57:04.628Z"
      },
      {
        "duration": 2431,
        "start_time": "2023-04-08T11:57:09.987Z"
      },
      {
        "duration": 38,
        "start_time": "2023-04-08T11:57:12.420Z"
      },
      {
        "duration": 12,
        "start_time": "2023-04-08T11:57:13.807Z"
      },
      {
        "duration": 273,
        "start_time": "2023-04-08T11:57:21.628Z"
      },
      {
        "duration": 3,
        "start_time": "2023-04-08T11:57:30.924Z"
      },
      {
        "duration": 20,
        "start_time": "2023-04-08T11:57:37.474Z"
      },
      {
        "duration": 4,
        "start_time": "2023-04-08T11:58:13.897Z"
      },
      {
        "duration": 5,
        "start_time": "2023-04-08T12:26:13.627Z"
      },
      {
        "duration": 4,
        "start_time": "2023-04-08T12:26:18.774Z"
      },
      {
        "duration": 854,
        "start_time": "2023-04-08T12:26:38.031Z"
      },
      {
        "duration": 1549,
        "start_time": "2023-04-08T12:26:46.133Z"
      },
      {
        "duration": 4465,
        "start_time": "2023-04-08T12:28:34.488Z"
      },
      {
        "duration": 802,
        "start_time": "2023-04-08T12:28:38.955Z"
      },
      {
        "duration": 39,
        "start_time": "2023-04-08T12:28:39.758Z"
      },
      {
        "duration": 30,
        "start_time": "2023-04-08T12:28:39.799Z"
      },
      {
        "duration": 327,
        "start_time": "2023-04-08T12:28:39.832Z"
      },
      {
        "duration": 3,
        "start_time": "2023-04-08T12:28:40.161Z"
      },
      {
        "duration": 31,
        "start_time": "2023-04-08T12:28:40.166Z"
      },
      {
        "duration": 144,
        "start_time": "2023-04-08T12:28:40.199Z"
      },
      {
        "duration": 4,
        "start_time": "2023-04-08T12:28:40.345Z"
      },
      {
        "duration": 14,
        "start_time": "2023-04-08T12:28:40.351Z"
      },
      {
        "duration": 25,
        "start_time": "2023-04-08T12:28:40.367Z"
      },
      {
        "duration": 80,
        "start_time": "2023-04-08T12:28:40.394Z"
      },
      {
        "duration": 1499,
        "start_time": "2023-04-08T12:28:40.476Z"
      },
      {
        "duration": 0,
        "start_time": "2023-04-08T12:28:41.978Z"
      },
      {
        "duration": 0,
        "start_time": "2023-04-08T12:28:41.979Z"
      },
      {
        "duration": 0,
        "start_time": "2023-04-08T12:28:41.980Z"
      },
      {
        "duration": 0,
        "start_time": "2023-04-08T12:28:41.982Z"
      },
      {
        "duration": 0,
        "start_time": "2023-04-08T12:28:41.983Z"
      },
      {
        "duration": 0,
        "start_time": "2023-04-08T12:28:41.984Z"
      },
      {
        "duration": 0,
        "start_time": "2023-04-08T12:28:41.985Z"
      },
      {
        "duration": 0,
        "start_time": "2023-04-08T12:28:41.986Z"
      },
      {
        "duration": 0,
        "start_time": "2023-04-08T12:28:41.987Z"
      },
      {
        "duration": 0,
        "start_time": "2023-04-08T12:28:41.988Z"
      },
      {
        "duration": 0,
        "start_time": "2023-04-08T12:28:41.989Z"
      },
      {
        "duration": 0,
        "start_time": "2023-04-08T12:28:41.991Z"
      },
      {
        "duration": 0,
        "start_time": "2023-04-08T12:28:41.992Z"
      },
      {
        "duration": 0,
        "start_time": "2023-04-08T12:28:41.993Z"
      },
      {
        "duration": 5,
        "start_time": "2023-04-08T12:29:56.488Z"
      },
      {
        "duration": 5,
        "start_time": "2023-04-08T12:30:00.595Z"
      },
      {
        "duration": 19,
        "start_time": "2023-04-08T12:30:02.624Z"
      },
      {
        "duration": 4416,
        "start_time": "2023-04-08T12:45:48.829Z"
      },
      {
        "duration": 800,
        "start_time": "2023-04-08T12:45:53.247Z"
      },
      {
        "duration": 42,
        "start_time": "2023-04-08T12:45:54.049Z"
      },
      {
        "duration": 14,
        "start_time": "2023-04-08T12:45:54.093Z"
      },
      {
        "duration": 296,
        "start_time": "2023-04-08T12:45:54.110Z"
      },
      {
        "duration": 3,
        "start_time": "2023-04-08T12:45:54.408Z"
      },
      {
        "duration": 33,
        "start_time": "2023-04-08T12:45:54.413Z"
      },
      {
        "duration": 144,
        "start_time": "2023-04-08T12:45:54.448Z"
      },
      {
        "duration": 4,
        "start_time": "2023-04-08T12:45:54.594Z"
      },
      {
        "duration": 12,
        "start_time": "2023-04-08T12:45:54.599Z"
      },
      {
        "duration": 9,
        "start_time": "2023-04-08T12:45:54.613Z"
      },
      {
        "duration": 72,
        "start_time": "2023-04-08T12:45:54.624Z"
      },
      {
        "duration": 3,
        "start_time": "2023-04-08T12:45:54.698Z"
      },
      {
        "duration": 1677,
        "start_time": "2023-04-08T12:45:54.704Z"
      },
      {
        "duration": 0,
        "start_time": "2023-04-08T12:45:56.383Z"
      },
      {
        "duration": 0,
        "start_time": "2023-04-08T12:45:56.385Z"
      },
      {
        "duration": 0,
        "start_time": "2023-04-08T12:45:56.386Z"
      },
      {
        "duration": 0,
        "start_time": "2023-04-08T12:45:56.387Z"
      },
      {
        "duration": 0,
        "start_time": "2023-04-08T12:45:56.388Z"
      },
      {
        "duration": 0,
        "start_time": "2023-04-08T12:45:56.392Z"
      },
      {
        "duration": 0,
        "start_time": "2023-04-08T12:45:56.394Z"
      },
      {
        "duration": 0,
        "start_time": "2023-04-08T12:45:56.396Z"
      },
      {
        "duration": 0,
        "start_time": "2023-04-08T12:45:56.397Z"
      },
      {
        "duration": 0,
        "start_time": "2023-04-08T12:45:56.399Z"
      },
      {
        "duration": 0,
        "start_time": "2023-04-08T12:45:56.401Z"
      },
      {
        "duration": 0,
        "start_time": "2023-04-08T12:45:56.402Z"
      },
      {
        "duration": 0,
        "start_time": "2023-04-08T12:45:56.403Z"
      },
      {
        "duration": 7,
        "start_time": "2023-04-08T12:48:09.269Z"
      },
      {
        "duration": 884,
        "start_time": "2023-04-08T12:48:23.600Z"
      },
      {
        "duration": 15,
        "start_time": "2023-04-08T12:48:58.069Z"
      },
      {
        "duration": 10,
        "start_time": "2023-04-08T12:49:12.238Z"
      },
      {
        "duration": 1391,
        "start_time": "2023-04-08T12:49:44.565Z"
      },
      {
        "duration": 14,
        "start_time": "2023-04-08T12:51:52.349Z"
      },
      {
        "duration": 43,
        "start_time": "2023-04-08T12:52:01.582Z"
      },
      {
        "duration": 899,
        "start_time": "2023-04-08T12:54:08.653Z"
      },
      {
        "duration": 10,
        "start_time": "2023-04-08T12:54:20.896Z"
      },
      {
        "duration": 13,
        "start_time": "2023-04-08T12:56:29.223Z"
      },
      {
        "duration": 52,
        "start_time": "2023-04-08T12:56:33.136Z"
      },
      {
        "duration": 858,
        "start_time": "2023-04-08T12:56:41.288Z"
      },
      {
        "duration": 950,
        "start_time": "2023-04-08T12:56:57.847Z"
      },
      {
        "duration": 1159,
        "start_time": "2023-04-08T12:57:07.478Z"
      },
      {
        "duration": 4,
        "start_time": "2023-04-08T13:08:21.258Z"
      },
      {
        "duration": 6,
        "start_time": "2023-04-08T13:08:35.168Z"
      },
      {
        "duration": 134359,
        "start_time": "2023-04-08T13:08:48.960Z"
      },
      {
        "duration": 22,
        "start_time": "2023-04-08T13:11:03.321Z"
      },
      {
        "duration": 30,
        "start_time": "2023-04-08T13:11:03.346Z"
      },
      {
        "duration": 1425,
        "start_time": "2023-04-08T13:11:03.379Z"
      },
      {
        "duration": 12,
        "start_time": "2023-04-08T13:20:10.515Z"
      },
      {
        "duration": 6,
        "start_time": "2023-04-08T13:29:52.608Z"
      },
      {
        "duration": 6,
        "start_time": "2023-04-08T13:29:58.038Z"
      },
      {
        "duration": 5322,
        "start_time": "2023-04-08T13:31:05.639Z"
      },
      {
        "duration": 927,
        "start_time": "2023-04-08T13:31:10.964Z"
      },
      {
        "duration": 36,
        "start_time": "2023-04-08T13:31:11.893Z"
      },
      {
        "duration": 22,
        "start_time": "2023-04-08T13:31:11.931Z"
      },
      {
        "duration": 290,
        "start_time": "2023-04-08T13:31:11.954Z"
      },
      {
        "duration": 7,
        "start_time": "2023-04-08T13:31:12.246Z"
      },
      {
        "duration": 51,
        "start_time": "2023-04-08T13:31:12.255Z"
      },
      {
        "duration": 206,
        "start_time": "2023-04-08T13:31:12.309Z"
      },
      {
        "duration": 4,
        "start_time": "2023-04-08T13:31:12.517Z"
      },
      {
        "duration": 47,
        "start_time": "2023-04-08T13:31:12.524Z"
      },
      {
        "duration": 28,
        "start_time": "2023-04-08T13:31:12.573Z"
      },
      {
        "duration": 86,
        "start_time": "2023-04-08T13:31:12.604Z"
      },
      {
        "duration": 102995,
        "start_time": "2023-04-08T13:31:12.692Z"
      },
      {
        "duration": 7,
        "start_time": "2023-04-08T13:32:55.689Z"
      },
      {
        "duration": 39,
        "start_time": "2023-04-08T13:32:55.698Z"
      },
      {
        "duration": 1244,
        "start_time": "2023-04-08T13:32:55.740Z"
      },
      {
        "duration": 0,
        "start_time": "2023-04-08T13:32:56.986Z"
      },
      {
        "duration": 0,
        "start_time": "2023-04-08T13:32:56.988Z"
      },
      {
        "duration": 0,
        "start_time": "2023-04-08T13:32:56.990Z"
      },
      {
        "duration": 0,
        "start_time": "2023-04-08T13:32:56.991Z"
      },
      {
        "duration": 0,
        "start_time": "2023-04-08T13:32:56.993Z"
      },
      {
        "duration": 0,
        "start_time": "2023-04-08T13:32:56.994Z"
      },
      {
        "duration": 0,
        "start_time": "2023-04-08T13:32:56.996Z"
      },
      {
        "duration": 1,
        "start_time": "2023-04-08T13:32:56.997Z"
      },
      {
        "duration": 0,
        "start_time": "2023-04-08T13:32:56.999Z"
      },
      {
        "duration": 0,
        "start_time": "2023-04-08T13:32:57.002Z"
      },
      {
        "duration": 0,
        "start_time": "2023-04-08T13:32:57.003Z"
      },
      {
        "duration": 0,
        "start_time": "2023-04-08T13:32:57.005Z"
      },
      {
        "duration": 0,
        "start_time": "2023-04-08T13:32:57.006Z"
      },
      {
        "duration": 0,
        "start_time": "2023-04-08T13:32:57.008Z"
      },
      {
        "duration": 11849,
        "start_time": "2023-04-08T13:37:16.877Z"
      },
      {
        "duration": 4544,
        "start_time": "2023-04-08T13:37:38.565Z"
      },
      {
        "duration": 912,
        "start_time": "2023-04-08T13:37:43.112Z"
      },
      {
        "duration": 51,
        "start_time": "2023-04-08T13:37:44.026Z"
      },
      {
        "duration": 22,
        "start_time": "2023-04-08T13:37:44.081Z"
      },
      {
        "duration": 309,
        "start_time": "2023-04-08T13:37:44.105Z"
      },
      {
        "duration": 4,
        "start_time": "2023-04-08T13:37:44.416Z"
      },
      {
        "duration": 47,
        "start_time": "2023-04-08T13:37:44.421Z"
      },
      {
        "duration": 164,
        "start_time": "2023-04-08T13:37:44.471Z"
      },
      {
        "duration": 10,
        "start_time": "2023-04-08T13:37:44.638Z"
      },
      {
        "duration": 32,
        "start_time": "2023-04-08T13:37:44.651Z"
      },
      {
        "duration": 277,
        "start_time": "2023-04-08T13:37:44.685Z"
      },
      {
        "duration": 114,
        "start_time": "2023-04-08T13:37:44.965Z"
      },
      {
        "duration": 176,
        "start_time": "2023-04-08T13:37:45.081Z"
      },
      {
        "duration": 0,
        "start_time": "2023-04-08T13:37:45.259Z"
      },
      {
        "duration": 0,
        "start_time": "2023-04-08T13:37:45.260Z"
      },
      {
        "duration": 0,
        "start_time": "2023-04-08T13:37:45.261Z"
      },
      {
        "duration": 0,
        "start_time": "2023-04-08T13:37:45.262Z"
      },
      {
        "duration": 0,
        "start_time": "2023-04-08T13:37:45.267Z"
      },
      {
        "duration": 0,
        "start_time": "2023-04-08T13:37:45.274Z"
      },
      {
        "duration": 0,
        "start_time": "2023-04-08T13:37:45.274Z"
      },
      {
        "duration": 0,
        "start_time": "2023-04-08T13:37:45.275Z"
      },
      {
        "duration": 0,
        "start_time": "2023-04-08T13:37:45.278Z"
      },
      {
        "duration": 0,
        "start_time": "2023-04-08T13:37:45.279Z"
      },
      {
        "duration": 0,
        "start_time": "2023-04-08T13:37:45.279Z"
      },
      {
        "duration": 0,
        "start_time": "2023-04-08T13:37:45.280Z"
      },
      {
        "duration": 0,
        "start_time": "2023-04-08T13:37:45.281Z"
      },
      {
        "duration": 0,
        "start_time": "2023-04-08T13:37:45.283Z"
      },
      {
        "duration": 0,
        "start_time": "2023-04-08T13:37:45.284Z"
      },
      {
        "duration": 0,
        "start_time": "2023-04-08T13:37:45.285Z"
      },
      {
        "duration": 0,
        "start_time": "2023-04-08T13:37:45.286Z"
      },
      {
        "duration": 7,
        "start_time": "2023-04-08T13:45:05.352Z"
      },
      {
        "duration": 509,
        "start_time": "2023-04-08T13:45:09.242Z"
      },
      {
        "duration": 4188,
        "start_time": "2023-04-08T13:47:45.720Z"
      },
      {
        "duration": 838,
        "start_time": "2023-04-08T13:47:49.910Z"
      },
      {
        "duration": 38,
        "start_time": "2023-04-08T13:47:50.750Z"
      },
      {
        "duration": 30,
        "start_time": "2023-04-08T13:47:50.790Z"
      },
      {
        "duration": 288,
        "start_time": "2023-04-08T13:47:50.822Z"
      },
      {
        "duration": 3,
        "start_time": "2023-04-08T13:47:51.112Z"
      },
      {
        "duration": 34,
        "start_time": "2023-04-08T13:47:51.116Z"
      },
      {
        "duration": 157,
        "start_time": "2023-04-08T13:47:51.152Z"
      },
      {
        "duration": 4,
        "start_time": "2023-04-08T13:47:51.311Z"
      },
      {
        "duration": 26,
        "start_time": "2023-04-08T13:47:51.318Z"
      },
      {
        "duration": 461,
        "start_time": "2023-04-08T13:47:51.346Z"
      },
      {
        "duration": 5,
        "start_time": "2023-04-08T13:47:51.809Z"
      },
      {
        "duration": 29,
        "start_time": "2023-04-08T13:47:51.816Z"
      },
      {
        "duration": 96317,
        "start_time": "2023-04-08T13:47:51.847Z"
      },
      {
        "duration": 5,
        "start_time": "2023-04-08T13:49:28.166Z"
      },
      {
        "duration": 27,
        "start_time": "2023-04-08T13:49:28.173Z"
      },
      {
        "duration": 923,
        "start_time": "2023-04-08T13:49:28.201Z"
      },
      {
        "duration": 0,
        "start_time": "2023-04-08T13:49:29.126Z"
      },
      {
        "duration": 0,
        "start_time": "2023-04-08T13:49:29.128Z"
      },
      {
        "duration": 0,
        "start_time": "2023-04-08T13:49:29.129Z"
      },
      {
        "duration": 0,
        "start_time": "2023-04-08T13:49:29.130Z"
      },
      {
        "duration": 0,
        "start_time": "2023-04-08T13:49:29.132Z"
      },
      {
        "duration": 0,
        "start_time": "2023-04-08T13:49:29.133Z"
      },
      {
        "duration": 0,
        "start_time": "2023-04-08T13:49:29.134Z"
      },
      {
        "duration": 0,
        "start_time": "2023-04-08T13:49:29.136Z"
      },
      {
        "duration": 0,
        "start_time": "2023-04-08T13:49:29.138Z"
      },
      {
        "duration": 0,
        "start_time": "2023-04-08T13:49:29.139Z"
      },
      {
        "duration": 0,
        "start_time": "2023-04-08T13:49:29.141Z"
      },
      {
        "duration": 0,
        "start_time": "2023-04-08T13:49:29.142Z"
      },
      {
        "duration": 0,
        "start_time": "2023-04-08T13:49:29.144Z"
      },
      {
        "duration": 0,
        "start_time": "2023-04-08T13:49:29.145Z"
      },
      {
        "duration": 64,
        "start_time": "2023-04-08T13:51:13.659Z"
      },
      {
        "duration": 60,
        "start_time": "2023-04-08T13:52:07.427Z"
      },
      {
        "duration": 10,
        "start_time": "2023-04-08T13:54:16.908Z"
      },
      {
        "duration": 12,
        "start_time": "2023-04-08T13:54:27.138Z"
      },
      {
        "duration": 13,
        "start_time": "2023-04-08T13:54:42.632Z"
      },
      {
        "duration": 4,
        "start_time": "2023-04-08T13:55:52.572Z"
      },
      {
        "duration": 1121,
        "start_time": "2023-04-08T13:56:10.507Z"
      },
      {
        "duration": 5,
        "start_time": "2023-04-08T13:56:20.300Z"
      },
      {
        "duration": 377,
        "start_time": "2023-04-08T13:56:35.776Z"
      }
    ],
    "colab": {
      "provenance": []
    },
    "kernelspec": {
      "display_name": "Python 3 (ipykernel)",
      "language": "python",
      "name": "python3"
    },
    "language_info": {
      "codemirror_mode": {
        "name": "ipython",
        "version": 3
      },
      "file_extension": ".py",
      "mimetype": "text/x-python",
      "name": "python",
      "nbconvert_exporter": "python",
      "pygments_lexer": "ipython3",
      "version": "3.9.5"
    },
    "toc": {
      "base_numbering": 1,
      "nav_menu": {},
      "number_sections": true,
      "sideBar": true,
      "skip_h1_title": true,
      "title_cell": "Table of Contents",
      "title_sidebar": "Contents",
      "toc_cell": false,
      "toc_position": {},
      "toc_section_display": true,
      "toc_window_display": false
    }
  },
  "nbformat": 4,
  "nbformat_minor": 5
}